{
  "nbformat": 4,
  "nbformat_minor": 0,
  "metadata": {
    "colab": {
      "provenance": [],
      "include_colab_link": true
    },
    "kernelspec": {
      "name": "python3",
      "display_name": "Python 3"
    },
    "language_info": {
      "name": "python"
    }
  },
  "cells": [
    {
      "cell_type": "markdown",
      "metadata": {
        "id": "view-in-github",
        "colab_type": "text"
      },
      "source": [
        "<a href=\"https://colab.research.google.com/github/Ricardomanuel1/Maestria_Ciencia_de_Datos/blob/main/2.2%20VISUALIZACI%C3%93N/NetworkX.ipynb\" target=\"_parent\"><img src=\"https://colab.research.google.com/assets/colab-badge.svg\" alt=\"Open In Colab\"/></a>"
      ]
    },
    {
      "cell_type": "code",
      "execution_count": null,
      "metadata": {
        "id": "oIPa_o--6mUA"
      },
      "outputs": [],
      "source": [
        "import networkx as nx\n",
        "\n",
        "print(nx.__version__)"
      ]
    },
    {
      "cell_type": "code",
      "source": [
        "import networkx as nx\n",
        "import matplotlib.pyplot as plt\n",
        "\n",
        "G = nx.Graph()\n",
        "G.add_edge(1, 2)\n",
        "G.add_edge(1, 3)\n",
        "G.add_edge(1, 5)\n",
        "G.add_edge(2, 3)\n",
        "G.add_edge(3, 4)\n",
        "G.add_edge(4, 5)\n",
        "\n",
        "# explicitly set positions\n",
        "pos = {1: (0, 0), 2: (-1, 0.3), 3: (2, 0.17), 4: (4, 0.255), 5: (5, 0.03)}\n",
        "\n",
        "options = {\n",
        "    \"font_size\": 36,\n",
        "    \"node_size\": 3000,\n",
        "    \"node_color\": \"white\",\n",
        "    \"edgecolors\": \"black\",\n",
        "    \"linewidths\": 5,\n",
        "    \"width\": 5,\n",
        "}\n",
        "nx.draw_networkx(G, pos, **options)\n",
        "\n",
        "# Set margins for the axes so that nodes aren't clipped\n",
        "ax = plt.gca()\n",
        "ax.margins(0.20)\n",
        "plt.axis(\"off\")\n",
        "plt.show()"
      ],
      "metadata": {
        "id": "PUVJGGGaAvBa"
      },
      "execution_count": null,
      "outputs": []
    },
    {
      "cell_type": "code",
      "source": [
        "# import matplotlib.pyplot library\n",
        "import matplotlib.pyplot as plt\n",
        "\n",
        "# import networkx library\n",
        "import networkx as nx\n",
        "\n",
        "# create a cubical empty graph\n",
        "G = nx.cubical_graph()\n",
        "\n",
        "# plotting the graph\n",
        "plt.subplot(122)\n",
        "\n",
        "# draw a graph with red\n",
        "# node and value edge color\n",
        "nx.draw(G, pos = nx.circular_layout(G),\n",
        "        node_color = 'r',\n",
        "        edge_color = 'b')"
      ],
      "metadata": {
        "id": "e2k3fhKgH78f"
      },
      "execution_count": null,
      "outputs": []
    },
    {
      "cell_type": "code",
      "source": [
        "import matplotlib.pyplot as plt\n",
        "import networkx as nx\n",
        "\n",
        "# Use seed when creating the graph for reproducibility\n",
        "G = nx.random_geometric_graph(200, 0.125, seed=896803)\n",
        "# position is stored as node attribute data for random_geometric_graph\n",
        "pos = nx.get_node_attributes(G, \"pos\")\n",
        "\n",
        "# find node near center (0.5,0.5)\n",
        "dmin = 1\n",
        "ncenter = 0\n",
        "for n in pos:\n",
        "    x, y = pos[n]\n",
        "    d = (x - 0.5) ** 2 + (y - 0.5) ** 2\n",
        "    if d < dmin:\n",
        "        ncenter = n\n",
        "        dmin = d\n",
        "\n",
        "# color by path length from node near center\n",
        "p = dict(nx.single_source_shortest_path_length(G, ncenter))\n",
        "\n",
        "plt.figure(figsize=(8, 8))\n",
        "nx.draw_networkx_edges(G, pos, alpha=0.4)\n",
        "nx.draw_networkx_nodes(\n",
        "    G,\n",
        "    pos,\n",
        "    nodelist=list(p.keys()),\n",
        "    node_size=80,\n",
        "    node_color=list(p.values()),\n",
        "    cmap=plt.cm.Reds_r,\n",
        ")\n",
        "\n",
        "plt.xlim(-0.05, 1.05)\n",
        "plt.ylim(-0.05, 1.05)\n",
        "plt.axis(\"off\")\n",
        "plt.show()"
      ],
      "metadata": {
        "id": "btfWh-TgBmz6"
      },
      "execution_count": null,
      "outputs": []
    }
  ]
}
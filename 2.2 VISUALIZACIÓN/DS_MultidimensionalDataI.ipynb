{
  "nbformat": 4,
  "nbformat_minor": 0,
  "metadata": {
    "colab": {
      "provenance": [],
      "include_colab_link": true
    },
    "kernelspec": {
      "name": "python3",
      "display_name": "Python 3"
    }
  },
  "cells": [
    {
      "cell_type": "markdown",
      "metadata": {
        "id": "view-in-github",
        "colab_type": "text"
      },
      "source": [
        "<a href=\"https://colab.research.google.com/github/Ricardomanuel1/Maestria_Ciencia_de_Datos/blob/main/2.2%20VISUALIZACI%C3%93N/DS_MultidimensionalDataI.ipynb\" target=\"_parent\"><img src=\"https://colab.research.google.com/assets/colab-badge.svg\" alt=\"Open In Colab\"/></a>"
      ]
    },
    {
      "cell_type": "markdown",
      "metadata": {
        "id": "7U1xjMg_ePGa"
      },
      "source": [
        "# **Dealing with Multidimensional Data I**\n",
        "\n"
      ]
    },
    {
      "cell_type": "markdown",
      "metadata": {
        "id": "kkDYqznT31Tu"
      },
      "source": [
        "**Loading Data from Google Drive**"
      ]
    },
    {
      "cell_type": "code",
      "metadata": {
        "id": "UcNxbawf2R2I"
      },
      "source": [
        "!pip install -U -q PyDrive"
      ],
      "execution_count": null,
      "outputs": []
    },
    {
      "cell_type": "code",
      "metadata": {
        "id": "7QUM4BTIIB5l"
      },
      "source": [
        "from pydrive.auth import GoogleAuth\n",
        "from pydrive.drive import GoogleDrive\n",
        "from google.colab import auth\n",
        "from oauth2client.client import GoogleCredentials"
      ],
      "execution_count": null,
      "outputs": []
    },
    {
      "cell_type": "code",
      "metadata": {
        "id": "Ov8ilLyH2eW_"
      },
      "source": [
        "auth.authenticate_user()\n",
        "gauth = GoogleAuth()\n",
        "gauth.credentials = GoogleCredentials.get_application_default()\n",
        "drive = GoogleDrive(gauth)"
      ],
      "execution_count": null,
      "outputs": []
    },
    {
      "cell_type": "code",
      "metadata": {
        "id": "LopKy29d2g1q"
      },
      "source": [
        "\n",
        "downloaded = drive.CreateFile({'id':'1P3_2H_B-lR4zdCU5HRrprhoZ4ByxmqUM'}) # replace the id with id of file you want to access\n",
        "downloaded.GetContentFile('wine.csv')"
      ],
      "execution_count": null,
      "outputs": []
    },
    {
      "cell_type": "code",
      "metadata": {
        "id": "B8xFz04Z2h0G"
      },
      "source": [
        "import pandas as pd\n",
        "\n",
        "series = pd.read_csv('wine.csv')\n",
        "print(series.head())"
      ],
      "execution_count": null,
      "outputs": []
    },
    {
      "cell_type": "markdown",
      "metadata": {
        "id": "v1SOGsBakdn8"
      },
      "source": [
        "## ***Processing***"
      ]
    },
    {
      "cell_type": "markdown",
      "metadata": {
        "id": "ZYgepNd1oyok"
      },
      "source": [
        "### *Feature Selection*"
      ]
    },
    {
      "cell_type": "markdown",
      "metadata": {
        "id": "_vQTwGUPqrI8"
      },
      "source": [
        "#### Removing features with low variance"
      ]
    },
    {
      "cell_type": "code",
      "metadata": {
        "id": "UOGmiUayqrQ6"
      },
      "source": [
        "from sklearn.feature_selection import VarianceThreshold\n",
        "\n",
        "X = [[0, 0, 1],\n",
        "     [0, 1, 1],\n",
        "     [1, 0, 1],\n",
        "     [0, 1, 1],\n",
        "     [0, 1, 1],\n",
        "     [0, 1, 1]]\n",
        "\n",
        "sel = VarianceThreshold(threshold=0.1)\n",
        "sel.fit_transform(X)"
      ],
      "execution_count": null,
      "outputs": []
    },
    {
      "cell_type": "markdown",
      "metadata": {
        "id": "3uSbV-dKpXSi"
      },
      "source": [
        "#### Univariate Selection"
      ]
    },
    {
      "cell_type": "code",
      "metadata": {
        "id": "cBIoBWhOpXY7"
      },
      "source": [
        "import pandas as pd\n",
        "import numpy as np\n",
        "from sklearn.feature_selection import SelectKBest\n",
        "from sklearn.feature_selection import chi2\n",
        "\n",
        "url = 'https://archive.ics.uci.edu/ml/machine-learning-databases/wine/wine.data'\n",
        "cols =  ['Class', 'Alcohol', 'MalicAcid', 'Ash', 'AlcalinityOfAsh', 'Magnesium', 'TotalPhenols',\n",
        "         'Flavanoids', 'NonflavanoidPhenols', 'Proanthocyanins', 'ColorIntensity',\n",
        "         'Hue', 'OD280/OD315', 'Proline']\n",
        "data = pd.read_csv(url, names=cols)\n",
        "\n",
        "# print(data.shape)\n",
        "\n",
        "X = data.iloc[:,1:12]  #independent columns\n",
        "y = data.iloc[:,0]    #target column\n",
        "\n",
        "#apply SelectKBest class to extract top 5 best features\n",
        "bestfeatures = SelectKBest(score_func=chi2, k=5)\n",
        "fit = bestfeatures.fit(X,y)\n",
        "dfscores = pd.DataFrame(fit.scores_)\n",
        "dfcolumns = pd.DataFrame(X.columns)\n",
        "\n",
        "#concat two dataframes for better visualization\n",
        "featureScores = pd.concat([dfcolumns,dfscores],axis=1)\n",
        "featureScores.columns = ['Specs','Score']  #naming the dataframe columns\n",
        "print(featureScores.nlargest(5,'Score'))  #print 5 best features\n",
        "\n"
      ],
      "execution_count": null,
      "outputs": []
    },
    {
      "cell_type": "markdown",
      "metadata": {
        "id": "1mpNqqFaphyT"
      },
      "source": [
        "#### Feature Importance"
      ]
    },
    {
      "cell_type": "code",
      "metadata": {
        "id": "ZOlIiGoCph5K"
      },
      "source": [
        "import pandas as pd\n",
        "import numpy as np\n",
        "\n",
        "url = 'https://archive.ics.uci.edu/ml/machine-learning-databases/wine/wine.data'\n",
        "cols =  ['Class', 'Alcohol', 'MalicAcid', 'Ash', 'AlcalinityOfAsh', 'Magnesium', 'TotalPhenols',\n",
        "         'Flavanoids', 'NonflavanoidPhenols', 'Proanthocyanins', 'ColorIntensity',\n",
        "         'Hue', 'OD280/OD315', 'Proline']\n",
        "data = pd.read_csv(url, names=cols)\n",
        "\n",
        "X = data.iloc[:,1:12]  #independent columns\n",
        "y = data.iloc[:,0]    #target column\n",
        "\n",
        "from sklearn.ensemble import ExtraTreesClassifier\n",
        "import matplotlib.pyplot as plt\n",
        "\n",
        "model = ExtraTreesClassifier()\n",
        "model.fit(X,y)\n",
        "#print(model.feature_importances_) #use inbuilt class feature_importances of tree based classifiers\n",
        "#plot graph of feature importances for better visualization\n",
        "feat_importances = pd.Series(model.feature_importances_, index=X.columns)\n",
        "feat_importances.nlargest(14).plot.barh()\n",
        "plt.show()"
      ],
      "execution_count": null,
      "outputs": []
    },
    {
      "cell_type": "markdown",
      "metadata": {
        "id": "MHJ1_iu6pr-s"
      },
      "source": [
        "#### Correlation Matrix with Heatmap"
      ]
    },
    {
      "cell_type": "code",
      "metadata": {
        "id": "guIQy_wppsFC"
      },
      "source": [
        "import pandas as pd\n",
        "import numpy as np\n",
        "import seaborn as sns\n",
        "\n",
        "import matplotlib.pyplot as plt\n",
        "\n",
        "\n",
        "url = 'https://archive.ics.uci.edu/ml/machine-learning-databases/wine/wine.data'\n",
        "cols =  ['Class', 'Alcohol', 'MalicAcid', 'Ash', 'AlcalinityOfAsh', 'Magnesium', 'TotalPhenols',\n",
        "         'Flavanoids', 'NonflavanoidPhenols', 'Proanthocyanins', 'ColorIntensity',\n",
        "         'Hue', 'OD280/OD315', 'Proline']\n",
        "data = pd.read_csv(url, names=cols)\n",
        "\n",
        "print(data.shape)\n",
        "\n",
        "X = data.iloc[:,1:12]  #independent columns\n",
        "y = data.iloc[:,0]    #target column\n",
        "\n",
        "\n",
        "#get correlations of each features in dataset\n",
        "corrmat = X.corr(method=\"pearson\")\n",
        "top_corr_features = corrmat.index\n",
        "plt.figure(figsize=(15,15))\n",
        "#plot heat map\n",
        "g=sns.heatmap(X[top_corr_features].corr(),annot=True,cmap=\"seismic\")"
      ],
      "execution_count": null,
      "outputs": []
    },
    {
      "cell_type": "markdown",
      "metadata": {
        "id": "AZN2kbNDo888"
      },
      "source": [
        "### *Feature Extraction*"
      ]
    },
    {
      "cell_type": "markdown",
      "metadata": {
        "id": "RG3SZQu9dNPO"
      },
      "source": [
        "#### Principal Component Analysis (PCA)"
      ]
    },
    {
      "cell_type": "code",
      "metadata": {
        "id": "BAzhZ_BFdNgW"
      },
      "source": [
        "import matplotlib.pyplot as plt\n",
        "import pandas as pd\n",
        "\n",
        "from sklearn.decomposition import PCA as sklearnPCA\n",
        "\n",
        "url = 'https://archive.ics.uci.edu/ml/machine-learning-databases/wine/wine.data'\n",
        "cols =  ['Class', 'Alcohol', 'MalicAcid', 'Ash', 'AlcalinityOfAsh', 'Magnesium', 'TotalPhenols',\n",
        "         'Flavanoids', 'NonflavanoidPhenols', 'Proanthocyanins', 'ColorIntensity',\n",
        "         'Hue', 'OD280/OD315', 'Proline']\n",
        "data = pd.read_csv(url, names=cols)\n",
        "\n",
        "y = data['Class']          # Split off classifications\n",
        "X = data.loc[:, 'Alcohol':] # Split off features\n",
        "\n",
        "X_norm = (X - X.min())/(X.max() - X.min()) # normalize\n",
        "\n",
        "pca = sklearnPCA(n_components=2) #2-dimensional PCA\n",
        "transformed = pd.DataFrame(pca.fit_transform(X_norm))\n",
        "\n",
        "plt.scatter(transformed[0], transformed[1], c= y.astype(float), s=50)\n",
        "# plt.scatter(transformed[0], transformed[1], s=50)\n",
        "\n",
        "plt.show()\n"
      ],
      "execution_count": null,
      "outputs": []
    },
    {
      "cell_type": "markdown",
      "metadata": {
        "id": "ga2KJnjqdV7m"
      },
      "source": [
        "#### Linear Discriminant Analysis (LDA)"
      ]
    },
    {
      "cell_type": "code",
      "metadata": {
        "id": "r5RrpBJqdWE0"
      },
      "source": [
        "import matplotlib.pyplot as plt\n",
        "import pandas as pd\n",
        "\n",
        "from sklearn.discriminant_analysis import LinearDiscriminantAnalysis as LDA\n",
        "\n",
        "\n",
        "url = 'https://archive.ics.uci.edu/ml/machine-learning-databases/wine/wine.data'\n",
        "cols =  ['Class', 'Alcohol', 'MalicAcid', 'Ash', 'AlcalinityOfAsh', 'Magnesium', 'TotalPhenols',\n",
        "         'Flavanoids', 'NonflavanoidPhenols', 'Proanthocyanins', 'ColorIntensity',\n",
        "         'Hue', 'OD280/OD315', 'Proline']\n",
        "\n",
        "data = pd.read_csv(url, names=cols)\n",
        "\n",
        "y = data['Class']          # Split off classifications\n",
        "X = data.loc[:, 'Alcohol':] # Split off features\n",
        "\n",
        "X_norm = (X - X.min())/(X.max() - X.min()) # normalize\n",
        "\n",
        "lda = LDA(n_components=2) #2-dimensional LDA\n",
        "lda_transformed = pd.DataFrame(lda.fit_transform(X_norm, y))\n",
        "\n",
        "# plt.scatter(lda_transformed[0], lda_transformed[1], s=50)\n",
        "plt.scatter(lda_transformed[0], lda_transformed[1], c= y.astype(float), s=50)\n",
        "\n",
        "plt.show()"
      ],
      "execution_count": null,
      "outputs": []
    },
    {
      "cell_type": "markdown",
      "metadata": {
        "id": "FJjhW5QEpLyK"
      },
      "source": [
        "#### t-distributed Stochastic Neighbor Embedding (tSNE)\n",
        "https://scikit-learn.org/stable/modules/generated/sklearn.manifold.TSNE.html"
      ]
    },
    {
      "cell_type": "code",
      "metadata": {
        "id": "Ypaix56Ud7bK"
      },
      "source": [
        "import matplotlib.pyplot as plt\n",
        "import pandas as pd\n",
        "\n",
        "from sklearn.manifold import TSNE\n",
        "\n",
        "\n",
        "url = 'https://archive.ics.uci.edu/ml/machine-learning-databases/wine/wine.data'\n",
        "cols =  ['Class', 'Alcohol', 'MalicAcid', 'Ash', 'AlcalinityOfAsh', 'Magnesium', 'TotalPhenols',\n",
        "         'Flavanoids', 'NonflavanoidPhenols', 'Proanthocyanins', 'ColorIntensity',\n",
        "         'Hue', 'OD280/OD315', 'Proline']\n",
        "\n",
        "data = pd.read_csv(url, names=cols)\n",
        "\n",
        "y = data['Class']          # Split off classifications\n",
        "X = data.loc[:, 'Alcohol':] # Split off features\n",
        "\n",
        "X_norm = (X - X.min())/(X.max() - X.min())\n",
        "\n",
        "# n_iter= number of iterations\n",
        "# perplexity = (1 local, bigger global)\n",
        "X_tsne = TSNE(n_components=2, perplexity=50).fit_transform(X_norm)\n",
        "\n",
        "plt.scatter(X_tsne[:,0], X_tsne[:,1], c=y.astype(float), s=50)\n",
        "\n",
        "plt.show()"
      ],
      "execution_count": null,
      "outputs": []
    },
    {
      "cell_type": "code",
      "metadata": {
        "id": "bmqYEl1OpRVE"
      },
      "source": [
        "!pip install umap-learn"
      ],
      "execution_count": null,
      "outputs": []
    },
    {
      "cell_type": "markdown",
      "metadata": {
        "id": "l5vp2W122lau"
      },
      "source": [
        "#### Uniform Manifold Approximation and Projection (UMAP)"
      ]
    },
    {
      "cell_type": "code",
      "metadata": {
        "id": "X0Eh7MnS2lje"
      },
      "source": [
        "import matplotlib.pyplot as plt\n",
        "import pandas as pd\n",
        "\n",
        "import umap\n",
        "\n",
        "url = 'https://archive.ics.uci.edu/ml/machine-learning-databases/wine/wine.data'\n",
        "cols =  ['Class', 'Alcohol', 'MalicAcid', 'Ash', 'AlcalinityOfAsh', 'Magnesium', 'TotalPhenols',\n",
        "         'Flavanoids', 'NonflavanoidPhenols', 'Proanthocyanins', 'ColorIntensity',\n",
        "         'Hue', 'OD280/OD315', 'Proline']\n",
        "\n",
        "data = pd.read_csv(url, names=cols)\n",
        "\n",
        "y = data['Class']          # Split off classifications\n",
        "X = data.loc[:, 'Alcohol':] # Split off features\n",
        "\n",
        "X_norm = (X - X.min())/(X.max() - X.min())\n",
        "\n",
        "u = umap.UMAP(n_neighbors=70, min_dist=0.0, n_components=2, metric='euclidean')\n",
        "X_umap = u.fit_transform(X_norm)\n",
        "\n",
        "plt.scatter(X_umap[:,0], X_umap[:,1], c=y.astype(float), s=50)\n",
        "\n",
        "plt.show()"
      ],
      "execution_count": null,
      "outputs": []
    }
  ]
}
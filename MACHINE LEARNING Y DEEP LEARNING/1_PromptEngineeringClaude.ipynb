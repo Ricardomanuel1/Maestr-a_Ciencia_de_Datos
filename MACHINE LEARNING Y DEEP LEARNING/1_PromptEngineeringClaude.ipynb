{
  "nbformat": 4,
  "nbformat_minor": 0,
  "metadata": {
    "colab": {
      "provenance": [],
      "include_colab_link": true
    },
    "kernelspec": {
      "name": "python3",
      "display_name": "Python 3"
    },
    "language_info": {
      "name": "python"
    }
  },
  "cells": [
    {
      "cell_type": "markdown",
      "metadata": {
        "id": "view-in-github",
        "colab_type": "text"
      },
      "source": [
        "<a href=\"https://colab.research.google.com/github/Ricardomanuel1/Maestria_Ciencia_de_Datos/blob/main/MACHINE%20LEARNING%20Y%20DEEP%20LEARNING/1_PromptEngineeringClaude.ipynb\" target=\"_parent\"><img src=\"https://colab.research.google.com/assets/colab-badge.svg\" alt=\"Open In Colab\"/></a>"
      ]
    },
    {
      "cell_type": "markdown",
      "source": [
        "# **Prompt Engineering**"
      ],
      "metadata": {
        "id": "HszH9wOI1zIz"
      }
    },
    {
      "cell_type": "markdown",
      "source": [
        "**Para obtener resultados útiles**\n",
        "\n",
        "\n",
        "- En lugar de dejar el modelo suelto, debe configurar el escenario y los alcances en el mensaje proporcionando detalles de qué, dónde, cuándo, por qué, quién y cómo.\n",
        "- Asignar una persona en el mensaje, por ejemplo, \"Como profesor de computación, explica qué es el aprendizaje computacional\" en lugar de simplemente \"Explica qué es el aprendizaje computacional\", puede hacer que la respuesta sea más académica.\n",
        "- Puede controlar el estilo de salida solicitando \"explicarle a un niño de 5 años\", \"explicar con una analogía\", \"hacer una declaración convincente\" o \"en 3 a 5 puntos\".\n",
        "- Para alentar al modelo a responder con una cadena de pensamientos, finalice su solicitud con \"resuelva esto en pasos\".\n",
        "- Puede proporcionar información adicional al modelo diciendo: \"Referencia a la siguiente información\", seguido del material en el que desea que trabaje el modelo.\n",
        "- Debido a que la conversación anterior construye el contexto, comenzar el mensaje con \"ignorar todas las instrucciones anteriores a ésta\" puede hacer que el modelo comience desde cero.\n",
        "- Es esencial hacer que la indicación sea sencilla y fácil de entender, ya que el contexto deducido puede ser más preciso para reflejar su intención.\n",
        "\n"
      ],
      "metadata": {
        "id": "chngAwqi1aUF"
      }
    },
    {
      "cell_type": "markdown",
      "source": [
        "**Para utilizarla como herramienta de aprendizaje**"
      ],
      "metadata": {
        "id": "9-C9WaYx2SmQ"
      }
    },
    {
      "cell_type": "markdown",
      "source": [
        "- Indique claramente sus objetivos de aprendizaje y sea específico. Por ejemplo, en lugar de preguntar \"¿Explicar el preprocesamiento de datos?\" puede limitar el alcance y preguntar: \"¿Puede describir el proceso de selección de funciones en el preprocesamiento de datos?\"\n",
        "- Haga preguntas de seguimiento para obtener más aclaraciones. Puede solicitar ejemplos adicionales o explicaciones paso a paso para comprender mejor los conceptos.\n",
        "- En lugar de una conversación de consulta unilateral, cree una conversación interactiva con el LLM, lo que le permitirá adaptar las respuestas a sus necesidades específicas.\n",
        "- Para cerrar la brecha entre la teoría y la práctica, solicite al LLM y solicite ejemplos prácticos y casos de uso.\n",
        "Solicite comentarios y posibles mejoras, ya que facilita la mejora continua.\n"
      ],
      "metadata": {
        "id": "IvkmE0IF2ay5"
      }
    },
    {
      "cell_type": "markdown",
      "source": [
        "Ejemplo:\n",
        "\n",
        "\"Quiero que actúes como mi entrevistador de Machine Learning. Realiza mi entrevista técnica para el puesto de Ingeniero Junior de Machine Learning. Hágame una serie de preguntas para evaluar mis conocimientos y habilidades en machine learning y proporcione comentarios sobre mis respuestas a menos que le pida que se detenga.\"\"\n",
        "\n"
      ],
      "metadata": {
        "id": "2moeSJTX4ccd"
      }
    },
    {
      "cell_type": "markdown",
      "source": [
        "**Algunos prompts para Ciencia de Datos**\n",
        "\n",
        "\n",
        "https://github.com/travistangvh/ChatGPT-Data-Science-Prompts"
      ],
      "metadata": {
        "id": "1FaZQCmg6VuI"
      }
    },
    {
      "cell_type": "markdown",
      "source": [
        "**Prompt:** Quiero que actúes como científico de datos y codifiques para mí. Tengo un conjunto de datos de [describir el conjunto de datos]. Cree un modelo de aprendizaje de máquina que prediga [variable objetivo]."
      ],
      "metadata": {
        "id": "sCoG2jYH6cMM"
      }
    },
    {
      "cell_type": "markdown",
      "source": [
        "**Prompt:** Quiero que actúes como científico de datos y codifiques para mí. Tengo un conjunto de datos aqui: https://raw.githubusercontent.com/eduardool/MaestriaCienciaDatos/main/datasets/desercion.csv. Cree un modelo de aprendizaje de máquina que prediga la variable desercion."
      ],
      "metadata": {
        "id": "KhWNsTq37LH_"
      }
    },
    {
      "cell_type": "code",
      "source": [],
      "metadata": {
        "id": "7cQXxyzP9MA1"
      },
      "execution_count": null,
      "outputs": []
    },
    {
      "cell_type": "code",
      "source": [],
      "metadata": {
        "id": "PZvBXI-g9MdA"
      },
      "execution_count": null,
      "outputs": []
    },
    {
      "cell_type": "code",
      "source": [],
      "metadata": {
        "id": "X2Owhwvt9MlS"
      },
      "execution_count": null,
      "outputs": []
    },
    {
      "cell_type": "markdown",
      "source": [
        "La variable sexo es categórica crea código para convertirla en númerica.\n",
        "\n"
      ],
      "metadata": {
        "id": "UDqQje159Ibe"
      }
    },
    {
      "cell_type": "markdown",
      "source": [
        "**Crear código para visualización**"
      ],
      "metadata": {
        "id": "-8cFuO8F96MZ"
      }
    },
    {
      "cell_type": "markdown",
      "source": [
        "Prompt: quiero que actúes como científico de datos y codifiques para mí. Tengo un conjunto de datos de [describir el conjunto de datos]. Escriba código para visualización y exploración de datos."
      ],
      "metadata": {
        "id": "aAThHPtE9_CQ"
      }
    },
    {
      "cell_type": "markdown",
      "source": [
        "Prompt: quiero que actúes como científico de datos y codifiques para mí. Tengo un conjunto de datos aquí: aqui: https://raw.githubusercontent.com/eduardool/MaestriaCienciaDatos/main/datasets/desercion.csv. La variable 'sexo' es categórica. Escribe código para visualización y exploración de datos."
      ],
      "metadata": {
        "id": "jyizuw7l-Njl"
      }
    }
  ]
}
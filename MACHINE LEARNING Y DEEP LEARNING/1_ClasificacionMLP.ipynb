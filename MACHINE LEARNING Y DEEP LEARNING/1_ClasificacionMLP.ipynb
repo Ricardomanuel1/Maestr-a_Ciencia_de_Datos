{
  "nbformat": 4,
  "nbformat_minor": 0,
  "metadata": {
    "colab": {
      "provenance": [],
      "include_colab_link": true
    },
    "kernelspec": {
      "name": "python3",
      "display_name": "Python 3"
    },
    "language_info": {
      "name": "python"
    }
  },
  "cells": [
    {
      "cell_type": "markdown",
      "metadata": {
        "id": "view-in-github",
        "colab_type": "text"
      },
      "source": [
        "<a href=\"https://colab.research.google.com/github/Ricardomanuel1/Maestria_Ciencia_de_Datos/blob/main/MACHINE%20LEARNING%20Y%20DEEP%20LEARNING/1_ClasificacionMLP.ipynb\" target=\"_parent\"><img src=\"https://colab.research.google.com/assets/colab-badge.svg\" alt=\"Open In Colab\"/></a>"
      ]
    },
    {
      "cell_type": "markdown",
      "source": [
        "# **Redes Neuronales MLP para Clasificación**"
      ],
      "metadata": {
        "id": "wGmsaiqbspsO"
      }
    },
    {
      "cell_type": "markdown",
      "source": [
        "Basado en Hands-On Machine Learning with Scikit-Learn, Keras, and TensorFlow, 2nd Edition. Aurélien Géron. 2019"
      ],
      "metadata": {
        "id": "odLOcxxDPn0v"
      }
    },
    {
      "cell_type": "markdown",
      "source": [
        "Librerías requeridas"
      ],
      "metadata": {
        "id": "vVv-J81_s3rI"
      }
    },
    {
      "cell_type": "code",
      "source": [
        "# Python ≥3.5 is required\n",
        "import sys\n",
        "assert sys.version_info >= (3, 5)\n",
        "\n",
        "# Scikit-Learn ≥0.20 is required\n",
        "import sklearn\n",
        "assert sklearn.__version__ >= \"0.20\"\n",
        "\n",
        "try:\n",
        "    # %tensorflow_version only exists in Colab.\n",
        "    %tensorflow_version 2.x\n",
        "except Exception:\n",
        "    pass\n",
        "\n",
        "# TensorFlow ≥2.0 is required\n",
        "import tensorflow as tf\n",
        "assert tf.__version__ >= \"2.0\"\n",
        "\n",
        "# Common imports\n",
        "import numpy as np\n",
        "import os\n",
        "\n",
        "# to make this notebook's output stable across runs\n",
        "np.random.seed(42)\n",
        "\n",
        "# To plot pretty figures\n",
        "%matplotlib inline\n",
        "import matplotlib as mpl\n",
        "import matplotlib.pyplot as plt\n",
        "mpl.rc('axes', labelsize=14)\n",
        "mpl.rc('xtick', labelsize=12)\n",
        "mpl.rc('ytick', labelsize=12)"
      ],
      "metadata": {
        "colab": {
          "base_uri": "https://localhost:8080/"
        },
        "id": "ELOifpqUs4GX",
        "outputId": "cf26f195-b8d1-4bba-aeff-ae3b8b1d4e82"
      },
      "execution_count": 2,
      "outputs": [
        {
          "output_type": "stream",
          "name": "stdout",
          "text": [
            "Colab only includes TensorFlow 2.x; %tensorflow_version has no effect.\n"
          ]
        }
      ]
    },
    {
      "cell_type": "markdown",
      "source": [
        "**Funciones de Activación**"
      ],
      "metadata": {
        "id": "fP-u7fjvtQnY"
      }
    },
    {
      "cell_type": "code",
      "source": [
        "def sigmoid(z):\n",
        "    return 1 / (1 + np.exp(-z))\n",
        "\n",
        "def relu(z):\n",
        "    return np.maximum(0, z)\n",
        "\n",
        "def derivative(f, z, eps=0.000001):\n",
        "    return (f(z + eps) - f(z - eps))/(2 * eps)"
      ],
      "metadata": {
        "id": "zC1TInXVtSTu"
      },
      "execution_count": 3,
      "outputs": []
    },
    {
      "cell_type": "code",
      "source": [
        "z = np.linspace(-5, 5, 200)\n",
        "\n",
        "plt.figure(figsize=(11,4))\n",
        "\n",
        "plt.subplot(121)\n",
        "plt.plot(z, np.sign(z), \"r-\", linewidth=1, label=\"Step\")\n",
        "plt.plot(z, sigmoid(z), \"g--\", linewidth=2, label=\"Sigmoid\")\n",
        "plt.plot(z, np.tanh(z), \"b-\", linewidth=2, label=\"Tanh\")\n",
        "plt.plot(z, relu(z), \"m-.\", linewidth=2, label=\"ReLU\")\n",
        "plt.grid(True)\n",
        "plt.legend(loc=\"center right\", fontsize=14)\n",
        "plt.title(\"Activation functions\", fontsize=14)\n",
        "plt.axis([-5, 5, -1.2, 1.2])\n",
        "\n",
        "plt.subplot(122)\n",
        "plt.plot(z, derivative(np.sign, z), \"r-\", linewidth=1, label=\"Step\")\n",
        "plt.plot(0, 0, \"ro\", markersize=5)\n",
        "plt.plot(0, 0, \"rx\", markersize=10)\n",
        "plt.plot(z, derivative(sigmoid, z), \"g--\", linewidth=2, label=\"Sigmoid\")\n",
        "plt.plot(z, derivative(np.tanh, z), \"b-\", linewidth=2, label=\"Tanh\")\n",
        "plt.plot(z, derivative(relu, z), \"m-.\", linewidth=2, label=\"ReLU\")\n",
        "plt.grid(True)\n",
        "#plt.legend(loc=\"center right\", fontsize=14)\n",
        "plt.title(\"Derivatives\", fontsize=14)\n",
        "plt.axis([-5, 5, -0.2, 1.2])\n",
        "\n",
        "plt.show()"
      ],
      "metadata": {
        "colab": {
          "base_uri": "https://localhost:8080/",
          "height": 396
        },
        "id": "CC3aeDvbtWM-",
        "outputId": "bd2066cb-3e24-45c2-c5e2-1d058efabf28"
      },
      "execution_count": 4,
      "outputs": [
        {
          "output_type": "display_data",
          "data": {
            "text/plain": [
              "<Figure size 1100x400 with 2 Axes>"
            ],
            "image/png": "[encoded data removed]"
          },
          "metadata": {}
        }
      ]
    },
    {
      "cell_type": "markdown",
      "source": [
        "## **MLPs y Clasificación**"
      ],
      "metadata": {
        "id": "rSrctTlrtnv_"
      }
    },
    {
      "cell_type": "code",
      "source": [
        "import tensorflow as tf\n",
        "from tensorflow import keras"
      ],
      "metadata": {
        "id": "WpnBS7e7tZcT"
      },
      "execution_count": 5,
      "outputs": []
    },
    {
      "cell_type": "code",
      "source": [
        "tf.__version__"
      ],
      "metadata": {
        "colab": {
          "base_uri": "https://localhost:8080/",
          "height": 35
        },
        "id": "h6dUixO3tvk5",
        "outputId": "fb75dce9-7161-4207-c5e5-103d88e8bcca"
      },
      "execution_count": 6,
      "outputs": [
        {
          "output_type": "execute_result",
          "data": {
            "text/plain": [
              "'2.15.0'"
            ],
            "application/vnd.google.colaboratory.intrinsic+json": {
              "type": "string"
            }
          },
          "metadata": {},
          "execution_count": 6
        }
      ]
    },
    {
      "cell_type": "code",
      "source": [
        "#keras.__version__"
      ],
      "metadata": {
        "id": "w0Gk7txBtyKB"
      },
      "execution_count": 7,
      "outputs": []
    },
    {
      "cell_type": "markdown",
      "source": [
        "**Dataset: MNIST Fashion**\n",
        "\n",
        "El conjunto de datos MNIST de moda está incorporado en Keras.\n",
        "\n",
        "El conjunto de datos ya está dividido entre un conjunto de entrenamiento y un conjunto de prueba, pero puede resultar útil dividir aún más el conjunto de entrenamiento para tener un conjunto de validación:"
      ],
      "metadata": {
        "id": "hhTIbGDWugHO"
      }
    },
    {
      "cell_type": "code",
      "source": [
        "fashion_mnist = keras.datasets.fashion_mnist\n",
        "(X_train_full, y_train_full), (X_test, y_test) = fashion_mnist.load_data()"
      ],
      "metadata": {
        "colab": {
          "base_uri": "https://localhost:8080/"
        },
        "id": "mRFGtwpouzCe",
        "outputId": "3aaa996f-0879-4f4e-93ec-893c41bd05b1"
      },
      "execution_count": 8,
      "outputs": [
        {
          "output_type": "stream",
          "name": "stdout",
          "text": [
            "Downloading data from https://storage.googleapis.com/tensorflow/tf-keras-datasets/train-labels-idx1-ubyte.gz\n",
            "29515/29515 [==============================] - 0s 0us/step\n",
            "Downloading data from https://storage.googleapis.com/tensorflow/tf-keras-datasets/train-images-idx3-ubyte.gz\n",
            "26421880/26421880 [==============================] - 2s 0us/step\n",
            "Downloading data from https://storage.googleapis.com/tensorflow/tf-keras-datasets/t10k-labels-idx1-ubyte.gz\n",
            "5148/5148 [==============================] - 0s 0us/step\n",
            "Downloading data from https://storage.googleapis.com/tensorflow/tf-keras-datasets/t10k-images-idx3-ubyte.gz\n",
            "4422102/4422102 [==============================] - 1s 0us/step\n"
          ]
        }
      ]
    },
    {
      "cell_type": "markdown",
      "source": [
        "El conjunto de entrenamiento contiene 60.000 imágenes en escala de grises, cada una de 28x28 píxeles:\n"
      ],
      "metadata": {
        "id": "MFNxl-pvu4-n"
      }
    },
    {
      "cell_type": "code",
      "source": [
        "X_train_full.shape#hay 60 mil imagaenes en el conjunto de entrenamiento"
      ],
      "metadata": {
        "colab": {
          "base_uri": "https://localhost:8080/"
        },
        "id": "6dDcxEMKu5Vd",
        "outputId": "5f0ab2c9-1937-4795-dfe7-1188e906c337"
      },
      "execution_count": 9,
      "outputs": [
        {
          "output_type": "execute_result",
          "data": {
            "text/plain": [
              "(60000, 28, 28)"
            ]
          },
          "metadata": {},
          "execution_count": 9
        }
      ]
    },
    {
      "cell_type": "code",
      "source": [
        "y_train_full.shape"
      ],
      "metadata": {
        "id": "3nLZ0Ijifmpv",
        "outputId": "28c4c089-322b-489f-8ab4-fac6f049d135",
        "colab": {
          "base_uri": "https://localhost:8080/"
        }
      },
      "execution_count": 10,
      "outputs": [
        {
          "output_type": "execute_result",
          "data": {
            "text/plain": [
              "(60000,)"
            ]
          },
          "metadata": {},
          "execution_count": 10
        }
      ]
    },
    {
      "cell_type": "markdown",
      "source": [
        "Cada intensidad de píxel se representa como un byte (0 a 255):"
      ],
      "metadata": {
        "id": "4cFW47tivAMZ"
      }
    },
    {
      "cell_type": "code",
      "source": [
        "X_train_full.dtype"
      ],
      "metadata": {
        "colab": {
          "base_uri": "https://localhost:8080/"
        },
        "id": "OMOoBJewu7Vg",
        "outputId": "95e34e23-2f16-43c2-89d9-df6f35e7941e"
      },
      "execution_count": 11,
      "outputs": [
        {
          "output_type": "execute_result",
          "data": {
            "text/plain": [
              "dtype('uint8')"
            ]
          },
          "metadata": {},
          "execution_count": 11
        }
      ]
    },
    {
      "cell_type": "markdown",
      "source": [
        "Dividamos el conjunto de entrenamiento completo en un conjunto de validación y un conjunto de entrenamiento (más pequeño). También reducimos las intensidades de los píxeles al rango 0-1 y las convertimos en flotantes, dividiéndolas por 255."
      ],
      "metadata": {
        "id": "69Sp25vdvH_a"
      }
    },
    {
      "cell_type": "code",
      "source": [
        "X_valid, X_train = X_train_full[:5000] / 255., X_train_full[5000:] / 255.\n",
        "y_valid, y_train = y_train_full[:5000], y_train_full[5000:]\n",
        "X_test = X_test / 255."
      ],
      "metadata": {
        "id": "WyOkWRtyu_R6"
      },
      "execution_count": 12,
      "outputs": []
    },
    {
      "cell_type": "markdown",
      "source": [
        "Se puede mostrar una imagen usando la función imshow() de Matplotlib, con un mapa de color 'binario':"
      ],
      "metadata": {
        "id": "r6BUTuTPvQP8"
      }
    },
    {
      "cell_type": "code",
      "source": [
        "plt.imshow(X_train[0], cmap=\"binary\")\n",
        "plt.axis('off')\n",
        "plt.show()"
      ],
      "metadata": {
        "colab": {
          "base_uri": "https://localhost:8080/",
          "height": 406
        },
        "id": "mAtI5haZvK4F",
        "outputId": "5c03e63b-81eb-41e0-b562-386ac13ef0ae"
      },
      "execution_count": 13,
      "outputs": [
        {
          "output_type": "display_data",
          "data": {
            "text/plain": [
              "<Figure size 640x480 with 1 Axes>"
            ],
            "image/png": "[encoded data removed]"
          },
          "metadata": {}
        }
      ]
    },
    {
      "cell_type": "markdown",
      "source": [
        "Las etiquetas son los ID de clase (representados como uint8), del 0 al 9:"
      ],
      "metadata": {
        "id": "9XApwJhCvYkq"
      }
    },
    {
      "cell_type": "code",
      "source": [
        "y_train"
      ],
      "metadata": {
        "colab": {
          "base_uri": "https://localhost:8080/"
        },
        "id": "lGnJf89cvTI1",
        "outputId": "f9ceda18-70c1-4feb-8d8e-b98cb52cac2e"
      },
      "execution_count": 14,
      "outputs": [
        {
          "output_type": "execute_result",
          "data": {
            "text/plain": [
              "array([4, 0, 7, ..., 3, 0, 5], dtype=uint8)"
            ]
          },
          "metadata": {},
          "execution_count": 14
        }
      ]
    },
    {
      "cell_type": "code",
      "source": [],
      "metadata": {
        "id": "mo4cnVgwoYOK"
      },
      "execution_count": null,
      "outputs": []
    },
    {
      "cell_type": "markdown",
      "source": [
        "Aquí están los nombres de clases correspondientes:"
      ],
      "metadata": {
        "id": "54vtVwz1veY_"
      }
    },
    {
      "cell_type": "code",
      "source": [
        "class_names"
      ],
      "metadata": {
        "id": "NbRs-cK8gugO",
        "outputId": "09e23b13-c1c7-4df7-e066-dcfec1d609ec",
        "colab": {
          "base_uri": "https://localhost:8080/"
        }
      },
      "execution_count": 18,
      "outputs": [
        {
          "output_type": "execute_result",
          "data": {
            "text/plain": [
              "['T-shirt/top',\n",
              " 'Trouser',\n",
              " 'Pullover',\n",
              " 'Dress',\n",
              " 'Coat',\n",
              " 'Sandal',\n",
              " 'Shirt',\n",
              " 'Sneaker',\n",
              " 'Bag',\n",
              " 'Ankle boot']"
            ]
          },
          "metadata": {},
          "execution_count": 18
        }
      ]
    },
    {
      "cell_type": "code",
      "source": [
        "class_names = [\"T-shirt/top\", \"Trouser\", \"Pullover\", \"Dress\", \"Coat\",\n",
        "               \"Sandal\", \"Shirt\", \"Sneaker\", \"Bag\", \"Ankle boot\"]"
      ],
      "metadata": {
        "id": "BXNLRiA4vat4"
      },
      "execution_count": 17,
      "outputs": []
    },
    {
      "cell_type": "markdown",
      "source": [
        "La primera imagen del conjunto de entrenamiento es un abrigo:"
      ],
      "metadata": {
        "id": "rpW8BGL6vlQn"
      }
    },
    {
      "cell_type": "code",
      "source": [
        "class_names[y_train[0]]"
      ],
      "metadata": {
        "colab": {
          "base_uri": "https://localhost:8080/",
          "height": 35
        },
        "id": "Qht01OSQvgh7",
        "outputId": "ab673aa0-a195-4fb9-e612-ecc01d4467b1"
      },
      "execution_count": 19,
      "outputs": [
        {
          "output_type": "execute_result",
          "data": {
            "text/plain": [
              "'Coat'"
            ],
            "application/vnd.google.colaboratory.intrinsic+json": {
              "type": "string"
            }
          },
          "metadata": {},
          "execution_count": 19
        }
      ]
    },
    {
      "cell_type": "markdown",
      "source": [
        "El conjunto de validación contiene 5000 imágenes y el conjunto de prueba contiene 10 000 imágenes:"
      ],
      "metadata": {
        "id": "UUH1pQdkvsu9"
      }
    },
    {
      "cell_type": "code",
      "source": [
        "X_valid.shape"
      ],
      "metadata": {
        "colab": {
          "base_uri": "https://localhost:8080/"
        },
        "id": "Au8Oc4v4vkra",
        "outputId": "be00c10e-1d7e-492b-e79c-112c8508b240"
      },
      "execution_count": 20,
      "outputs": [
        {
          "output_type": "execute_result",
          "data": {
            "text/plain": [
              "(5000, 28, 28)"
            ]
          },
          "metadata": {},
          "execution_count": 20
        }
      ]
    },
    {
      "cell_type": "code",
      "source": [
        "X_train.shape#se tiene 55,000 imagenes,cada uno representado por una matriz de 28 filas y 28 columnas"
      ],
      "metadata": {
        "id": "1-MPMN3xiqK7",
        "outputId": "681a4a43-0909-49a8-a949-c8bca81a6fc4",
        "colab": {
          "base_uri": "https://localhost:8080/"
        }
      },
      "execution_count": 24,
      "outputs": [
        {
          "output_type": "execute_result",
          "data": {
            "text/plain": [
              "(55000, 28, 28)"
            ]
          },
          "metadata": {},
          "execution_count": 24
        }
      ]
    },
    {
      "cell_type": "code",
      "source": [
        "X_test.shape"
      ],
      "metadata": {
        "colab": {
          "base_uri": "https://localhost:8080/"
        },
        "id": "Q0MN3xcxvu1A",
        "outputId": "5450aab9-2977-4c93-ea49-1a4f5610139c"
      },
      "execution_count": 25,
      "outputs": [
        {
          "output_type": "execute_result",
          "data": {
            "text/plain": [
              "(10000, 28, 28)"
            ]
          },
          "metadata": {},
          "execution_count": 25
        }
      ]
    },
    {
      "cell_type": "code",
      "source": [
        "y_train.shape"
      ],
      "metadata": {
        "id": "rQKScC3ulSZs",
        "outputId": "638829da-9e6f-4178-bc31-0be235b2a19e",
        "colab": {
          "base_uri": "https://localhost:8080/"
        }
      },
      "execution_count": 26,
      "outputs": [
        {
          "output_type": "execute_result",
          "data": {
            "text/plain": [
              "(55000,)"
            ]
          },
          "metadata": {},
          "execution_count": 26
        }
      ]
    },
    {
      "cell_type": "markdown",
      "source": [
        "Una muestra de las imágenes del conjunto de datos:"
      ],
      "metadata": {
        "id": "3mCKeUOav1Yc"
      }
    },
    {
      "cell_type": "code",
      "source": [
        "n_rows = 4\n",
        "n_cols = 10\n",
        "plt.figure(figsize=(n_cols * 1.2, n_rows * 1.2))\n",
        "for row in range(n_rows):#0,1,2,3\n",
        "    for col in range(n_cols):#0,1,2....9\n",
        "        index = n_cols * row + col\n",
        "        plt.subplot(n_rows, n_cols, index + 1)\n",
        "        plt.imshow(X_train[index], cmap=\"binary\", interpolation=\"nearest\")\n",
        "        plt.axis('off')\n",
        "        plt.title(class_names[y_train[index]], fontsize=12)\n",
        "plt.subplots_adjust(wspace=0.2, hspace=0.5)\n",
        "plt.show()"
      ],
      "metadata": {
        "colab": {
          "base_uri": "https://localhost:8080/",
          "height": 428
        },
        "id": "yPuq1VRavwk7",
        "outputId": "50b3ab3f-8d08-4446-f136-ddfee1348f52"
      },
      "execution_count": 27,
      "outputs": [
        {
          "output_type": "display_data",
          "data": {
            "text/plain": [
              "<Figure size 1200x480 with 40 Axes>"
            ],
            "image/png": "[encoded data removed]"
          },
          "metadata": {}
        }
      ]
    },
    {
      "cell_type": "markdown",
      "source": [
        "##**Construcción del Modelo Secuencial**"
      ],
      "metadata": {
        "id": "EwWmNlDHwDJZ"
      }
    },
    {
      "cell_type": "markdown",
      "source": [
        "Una forma:"
      ],
      "metadata": {
        "id": "J5K50dSZwKrV"
      }
    },
    {
      "cell_type": "code",
      "source": [
        "model = keras.models.Sequential()\n",
        "model.add(keras.layers.Flatten(input_shape=[28, 28]))#todas las matrices van a una sola fila\n",
        "model.add(keras.layers.Dense(300, activation=\"relu\"))#cada capa densa tiene su matriz de pesos y vallas\n",
        "model.add(keras.layers.Dense(100, activation=\"relu\"))\n",
        "model.add(keras.layers.Dense(10, activation=\"softmax\"))#la sorfmax transforma los 10 numeros de cero a 1"
      ],
      "metadata": {
        "id": "TXORurb-wEd_"
      },
      "execution_count": null,
      "outputs": []
    },
    {
      "cell_type": "markdown",
      "source": [
        "- La primera línea crea un modelo Sequential. La forma más simple en Keras para definir Redes Neuronales compuestas de un apilado de capas conectadas secuencialmente.\n",
        "- La capa ``Flatten`` tiene el papel de convertircada imagen en un arreglo de 1D: recibe datos X, y hace un ``X.reshape(-1,28*28)``. Esta capa no tiene parámetros. Dado que es la primera capa debe especificarse el ``input_shape``, que no incluye el tamaño de batch.\n",
        "- Se añade una oculta ``Dense`` con 300 neuronas. Usará ReLU como función de activación. Cada capa ``Dense``tiene su propia matriz de pesos y también su vector de bias (una por cada neurona). Cuando recibe datos de entrada calcula $h_{W,b}(X) = \\phi(XW+b)$\n",
        "- Se añade una segunda capa oculta ``Dense`` con 100 neuronas y ReLU.\n",
        "- Finalmenente se añade una capa densa de salida, con 10 neuronas (una por clase),y se usa la función de activación softmax."
      ],
      "metadata": {
        "id": "eRddfL2dzZtE"
      }
    },
    {
      "cell_type": "code",
      "source": [
        "keras.backend.clear_session()\n",
        "np.random.seed(42)\n",
        "tf.random.set_seed(42)"
      ],
      "metadata": {
        "id": "4kHQM6bjwE3h"
      },
      "execution_count": 53,
      "outputs": []
    },
    {
      "cell_type": "markdown",
      "source": [
        "Otra forma:"
      ],
      "metadata": {
        "id": "tWHlda-EwMSu"
      }
    },
    {
      "cell_type": "code",
      "source": [
        "model = keras.models.Sequential([\n",
        "    keras.layers.Flatten(input_shape=[28, 28]),\n",
        "    keras.layers.Dense(300, activation=\"relu\"),\n",
        "    keras.layers.Dense(100, activation=\"relu\"),\n",
        "    keras.layers.Dense(10, activation=\"softmax\")\n",
        "])"
      ],
      "metadata": {
        "id": "lneu3PpkwHM8"
      },
      "execution_count": 54,
      "outputs": []
    },
    {
      "cell_type": "code",
      "source": [
        "model.layers"
      ],
      "metadata": {
        "colab": {
          "base_uri": "https://localhost:8080/"
        },
        "id": "q7lLLjP0wRbx",
        "outputId": "11a5066f-f71f-4df1-b704-026d0f655111"
      },
      "execution_count": 55,
      "outputs": [
        {
          "output_type": "execute_result",
          "data": {
            "text/plain": [
              "[<keras.src.layers.reshaping.flatten.Flatten at 0x78c55029d5a0>,\n",
              " <keras.src.layers.core.dense.Dense at 0x78c5501575b0>,\n",
              " <keras.src.layers.core.dense.Dense at 0x78c550157340>,\n",
              " <keras.src.layers.core.dense.Dense at 0x78c5500c84f0>]"
            ]
          },
          "metadata": {},
          "execution_count": 55
        }
      ]
    },
    {
      "cell_type": "code",
      "source": [
        "model.summary()"
      ],
      "metadata": {
        "colab": {
          "base_uri": "https://localhost:8080/"
        },
        "id": "imAoR0S7wVr5",
        "outputId": "920bf6ae-3238-45a4-aa39-809580cd45ad"
      },
      "execution_count": 56,
      "outputs": [
        {
          "output_type": "stream",
          "name": "stdout",
          "text": [
            "Model: \"sequential\"\n",
            "_________________________________________________________________\n",
            " Layer (type)                Output Shape              Param #   \n",
            "=================================================================\n",
            " flatten (Flatten)           (None, 784)               0         \n",
            "                                                                 \n",
            " dense (Dense)               (None, 300)               235500    \n",
            "                                                                 \n",
            " dense_1 (Dense)             (None, 100)               30100     \n",
            "                                                                 \n",
            " dense_2 (Dense)             (None, 10)                1010      \n",
            "                                                                 \n",
            "=================================================================\n",
            "Total params: 266610 (1.02 MB)\n",
            "Trainable params: 266610 (1.02 MB)\n",
            "Non-trainable params: 0 (0.00 Byte)\n",
            "_________________________________________________________________\n"
          ]
        }
      ]
    },
    {
      "cell_type": "code",
      "source": [
        "#Aparece none al lado de 784, representa cuantos ejemplos se le va enviar para entrenar, todavia\n",
        "#no se sabe cuanto de va enviar\n",
        "#235500 parametros sale de 784x300=235200 la diferencia a 235500 son los vallas y seria 300\n",
        "#hay 3 matrices la primera 784x300=235200, segunda 300x100=30000(100 vallas), tercera 100x10=1000(10 vallas)\n"
      ],
      "metadata": {
        "id": "b_Z1SK_OrbhS"
      },
      "execution_count": null,
      "outputs": []
    },
    {
      "cell_type": "markdown",
      "source": [
        "``sumary()`` despliega todas las capas del modelo, incluyendo su nombre, su dimensión de salida (``None`` el tamaño del batch que puede ser cualquiera), y su número de parámetros."
      ],
      "metadata": {
        "id": "ER_vvIXf2HGr"
      }
    },
    {
      "cell_type": "markdown",
      "source": [
        "Número de Parámetros:\n",
        "- En general las capas densas tienen muchos parámetros.\n",
        "- La primera capa oculta tiene $784\\times 300$ pesos, más 300 términos de bias, lo que totaliza 235500 parámetros.\n",
        "- Esto puede provocar overfitting."
      ],
      "metadata": {
        "id": "kNj6zLVlwUhe"
      }
    },
    {
      "cell_type": "code",
      "source": [
        "keras.utils.plot_model(model, \"my_fashion_mnist_model.png\", show_shapes=True)"
      ],
      "metadata": {
        "colab": {
          "base_uri": "https://localhost:8080/",
          "height": 533
        },
        "id": "UI4GxSeqwjGy",
        "outputId": "fd42a290-5789-4a1f-a737-44532f54b041"
      },
      "execution_count": 58,
      "outputs": [
        {
          "output_type": "execute_result",
          "data": {
            "image/png": "[encoded data removed]",
            "text/plain": [
              "<IPython.core.display.Image object>"
            ]
          },
          "metadata": {},
          "execution_count": 58
        }
      ]
    },
    {
      "cell_type": "code",
      "source": [
        "hidden1 = model.layers[1]\n",
        "hidden1.name"
      ],
      "metadata": {
        "colab": {
          "base_uri": "https://localhost:8080/",
          "height": 35
        },
        "id": "MCkf7PIywoBs",
        "outputId": "627511e8-5d86-4173-86e2-966ac103bc58"
      },
      "execution_count": 59,
      "outputs": [
        {
          "output_type": "execute_result",
          "data": {
            "text/plain": [
              "'dense'"
            ],
            "application/vnd.google.colaboratory.intrinsic+json": {
              "type": "string"
            }
          },
          "metadata": {},
          "execution_count": 59
        }
      ]
    },
    {
      "cell_type": "code",
      "source": [
        "model.get_layer(hidden1.name) is hidden1"
      ],
      "metadata": {
        "colab": {
          "base_uri": "https://localhost:8080/"
        },
        "id": "t1wPVJyZwohI",
        "outputId": "100c28f8-7bd5-4b48-dbbb-14e2bcf8acd4"
      },
      "execution_count": 60,
      "outputs": [
        {
          "output_type": "execute_result",
          "data": {
            "text/plain": [
              "True"
            ]
          },
          "metadata": {},
          "execution_count": 60
        }
      ]
    },
    {
      "cell_type": "markdown",
      "source": [
        "Todos los parámetros de una capa pueden accesarse usando ``get_weights()`` y ``set_weights()``. Esto incluye los pesos y bias en capas densas."
      ],
      "metadata": {
        "id": "OYwDdbcp3qTs"
      }
    },
    {
      "cell_type": "code",
      "source": [
        "#el set_weigths no permite colocar pesos para tranferlearning"
      ],
      "metadata": {
        "id": "ST5L_LsdurhQ"
      },
      "execution_count": null,
      "outputs": []
    },
    {
      "cell_type": "code",
      "source": [
        "weights, biases = hidden1.get_weights()"
      ],
      "metadata": {
        "id": "Ztc9jV9Dwqrj"
      },
      "execution_count": 68,
      "outputs": []
    },
    {
      "cell_type": "code",
      "source": [
        "weights"
      ],
      "metadata": {
        "colab": {
          "base_uri": "https://localhost:8080/"
        },
        "id": "XO8xT5IYwssO",
        "outputId": "4bdb2808-be63-4053-ec91-afd66eb01c28"
      },
      "execution_count": 69,
      "outputs": [
        {
          "output_type": "execute_result",
          "data": {
            "text/plain": [
              "array([[ 0.00707652,  0.00691622, -0.02235775, ..., -0.05605988,\n",
              "        -0.00109342, -0.04582525],\n",
              "       [ 0.0517737 ,  0.07229128,  0.06677538, ..., -0.06872001,\n",
              "        -0.03991897, -0.03770912],\n",
              "       [-0.06902592, -0.05045658, -0.00280499, ..., -0.029776  ,\n",
              "        -0.00680112, -0.00387207],\n",
              "       ...,\n",
              "       [-0.00843882, -0.00730693, -0.02860298, ..., -0.05528814,\n",
              "         0.05167402, -0.05921133],\n",
              "       [ 0.03829463, -0.06522696,  0.05955146, ...,  0.06345247,\n",
              "         0.03727504, -0.01961249],\n",
              "       [-0.03220125, -0.03300578, -0.01847451, ..., -0.00314673,\n",
              "        -0.02259781,  0.01378229]], dtype=float32)"
            ]
          },
          "metadata": {},
          "execution_count": 69
        }
      ]
    },
    {
      "cell_type": "code",
      "source": [
        "weights.shape # aleatorios"
      ],
      "metadata": {
        "colab": {
          "base_uri": "https://localhost:8080/"
        },
        "id": "wQM0fJ6pwuuN",
        "outputId": "fc2a5bce-4165-4bac-813c-7e47a3ebedd4"
      },
      "execution_count": 70,
      "outputs": [
        {
          "output_type": "execute_result",
          "data": {
            "text/plain": [
              "(784, 300)"
            ]
          },
          "metadata": {},
          "execution_count": 70
        }
      ]
    },
    {
      "cell_type": "code",
      "source": [
        "biases"
      ],
      "metadata": {
        "colab": {
          "base_uri": "https://localhost:8080/"
        },
        "id": "tYa3P689wxvQ",
        "outputId": "641471eb-2e1e-4f3d-98e0-c0bf570dd2c8"
      },
      "execution_count": 71,
      "outputs": [
        {
          "output_type": "execute_result",
          "data": {
            "text/plain": [
              "array([0., 0., 0., 0., 0., 0., 0., 0., 0., 0., 0., 0., 0., 0., 0., 0., 0.,\n",
              "       0., 0., 0., 0., 0., 0., 0., 0., 0., 0., 0., 0., 0., 0., 0., 0., 0.,\n",
              "       0., 0., 0., 0., 0., 0., 0., 0., 0., 0., 0., 0., 0., 0., 0., 0., 0.,\n",
              "       0., 0., 0., 0., 0., 0., 0., 0., 0., 0., 0., 0., 0., 0., 0., 0., 0.,\n",
              "       0., 0., 0., 0., 0., 0., 0., 0., 0., 0., 0., 0., 0., 0., 0., 0., 0.,\n",
              "       0., 0., 0., 0., 0., 0., 0., 0., 0., 0., 0., 0., 0., 0., 0., 0., 0.,\n",
              "       0., 0., 0., 0., 0., 0., 0., 0., 0., 0., 0., 0., 0., 0., 0., 0., 0.,\n",
              "       0., 0., 0., 0., 0., 0., 0., 0., 0., 0., 0., 0., 0., 0., 0., 0., 0.,\n",
              "       0., 0., 0., 0., 0., 0., 0., 0., 0., 0., 0., 0., 0., 0., 0., 0., 0.,\n",
              "       0., 0., 0., 0., 0., 0., 0., 0., 0., 0., 0., 0., 0., 0., 0., 0., 0.,\n",
              "       0., 0., 0., 0., 0., 0., 0., 0., 0., 0., 0., 0., 0., 0., 0., 0., 0.,\n",
              "       0., 0., 0., 0., 0., 0., 0., 0., 0., 0., 0., 0., 0., 0., 0., 0., 0.,\n",
              "       0., 0., 0., 0., 0., 0., 0., 0., 0., 0., 0., 0., 0., 0., 0., 0., 0.,\n",
              "       0., 0., 0., 0., 0., 0., 0., 0., 0., 0., 0., 0., 0., 0., 0., 0., 0.,\n",
              "       0., 0., 0., 0., 0., 0., 0., 0., 0., 0., 0., 0., 0., 0., 0., 0., 0.,\n",
              "       0., 0., 0., 0., 0., 0., 0., 0., 0., 0., 0., 0., 0., 0., 0., 0., 0.,\n",
              "       0., 0., 0., 0., 0., 0., 0., 0., 0., 0., 0., 0., 0., 0., 0., 0., 0.,\n",
              "       0., 0., 0., 0., 0., 0., 0., 0., 0., 0., 0.], dtype=float32)"
            ]
          },
          "metadata": {},
          "execution_count": 71
        }
      ]
    },
    {
      "cell_type": "markdown",
      "source": [
        "Los pesos son iniciados con valores aleatorios, los bias con ceros. Se puede alterar esto usando el método ``kernel_initializer`` o ``bias_initializer`` al crear la capa."
      ],
      "metadata": {
        "id": "SESXfG-B3-HA"
      }
    },
    {
      "cell_type": "code",
      "source": [
        "biases.shape#se puede iniciliar con los bayas ceros pero no los pesos"
      ],
      "metadata": {
        "colab": {
          "base_uri": "https://localhost:8080/"
        },
        "id": "6vssom_Yw0DC",
        "outputId": "ec6d7c4f-9827-4523-8c39-cae6ede412f0"
      },
      "execution_count": 72,
      "outputs": [
        {
          "output_type": "execute_result",
          "data": {
            "text/plain": [
              "(300,)"
            ]
          },
          "metadata": {},
          "execution_count": 72
        }
      ]
    },
    {
      "cell_type": "markdown",
      "source": [
        "##**Compilación del Modelo**"
      ],
      "metadata": {
        "id": "vdCSCsvL4W_I"
      }
    },
    {
      "cell_type": "code",
      "source": [
        "model.compile(loss=\"sparse_categorical_crossentropy\",\n",
        "              optimizer=\"sgd\",\n",
        "              metrics=[\"accuracy\"])"
      ],
      "metadata": {
        "id": "a8P8W3BXw59j"
      },
      "execution_count": 73,
      "outputs": []
    },
    {
      "cell_type": "code",
      "source": [
        "#accuracy proporcion de clases correctamente clasificadas"
      ],
      "metadata": {
        "id": "aZ-iOxVKvP-8"
      },
      "execution_count": null,
      "outputs": []
    },
    {
      "cell_type": "markdown",
      "source": [
        "En el método ``compile()`` se especifica principalmente la función de costo, el optimizador y métricas, entre otros parámetros.\n",
        "\n",
        "- Se usa ``sparse_categorical_crossentropy`` porque se tiene etiquetas en las clases (índices de 0 a 9).\n",
        "- Si tuvieramos codificaciones one_hot (por ejemplo la clase 3 codificada como [0, 0, 0, 1, 0, 0, 0, 0, 0]), entonces se usaría ``categorical_crossentropy``.\n",
        "- Si estuvieramos haciendo clasificación binaria, la función de activación en la capa de salida seria \"sigmoid\" y la función de pérdida usada sería ``binary_crossentropy``.\n",
        "- ``sgd`` indica quee entrenará el modelo usando Stochastic Gradient Descent. En ese sentido es importante tal vez hacer tuning del ``learning_rate``, que por defecti es ``lr=0.01``.\n",
        "- La métrica usada para entrenamiento y validación será ``accuracy``, que en español se traduce en ``exactitud.``\n",
        "\n"
      ],
      "metadata": {
        "id": "vgMOkoiqw-UY"
      }
    },
    {
      "cell_type": "markdown",
      "source": [
        "##**Aprendizaje y entrenamiento**"
      ],
      "metadata": {
        "id": "i_jhCotaxNOW"
      }
    },
    {
      "cell_type": "code",
      "source": [
        "history = model.fit(X_train, y_train, epochs=30,\n",
        "                    validation_data=(X_valid, y_valid))\n",
        "#epochs=30, 30 veces pasan los 55000 datos"
      ],
      "metadata": {
        "colab": {
          "base_uri": "https://localhost:8080/"
        },
        "id": "2thjG-atxGZJ",
        "outputId": "665fab2d-2d34-4fae-a19b-3e45d96279e8"
      },
      "execution_count": 74,
      "outputs": [
        {
          "output_type": "stream",
          "name": "stdout",
          "text": [
            "Epoch 1/30\n",
            "1719/1719 [==============================] - 10s 5ms/step - loss: 0.7201 - accuracy: 0.7625 - val_loss: 0.5191 - val_accuracy: 0.8264\n",
            "Epoch 2/30\n",
            "1719/1719 [==============================] - 10s 6ms/step - loss: 0.4863 - accuracy: 0.8290 - val_loss: 0.4336 - val_accuracy: 0.8502\n",
            "Epoch 3/30\n",
            "1719/1719 [==============================] - 8s 5ms/step - loss: 0.4395 - accuracy: 0.8437 - val_loss: 0.5450 - val_accuracy: 0.7972\n",
            "Epoch 4/30\n",
            "1719/1719 [==============================] - 8s 5ms/step - loss: 0.4124 - accuracy: 0.8553 - val_loss: 0.3915 - val_accuracy: 0.8636\n",
            "Epoch 5/30\n",
            "1719/1719 [==============================] - 9s 5ms/step - loss: 0.3933 - accuracy: 0.8618 - val_loss: 0.3744 - val_accuracy: 0.8658\n",
            "Epoch 6/30\n",
            "1719/1719 [==============================] - 8s 4ms/step - loss: 0.3742 - accuracy: 0.8682 - val_loss: 0.3674 - val_accuracy: 0.8756\n",
            "Epoch 7/30\n",
            "1719/1719 [==============================] - 10s 6ms/step - loss: 0.3618 - accuracy: 0.8721 - val_loss: 0.3617 - val_accuracy: 0.8760\n",
            "Epoch 8/30\n",
            "1719/1719 [==============================] - 8s 5ms/step - loss: 0.3501 - accuracy: 0.8751 - val_loss: 0.3785 - val_accuracy: 0.8642\n",
            "Epoch 9/30\n",
            "1719/1719 [==============================] - 8s 4ms/step - loss: 0.3393 - accuracy: 0.8793 - val_loss: 0.3486 - val_accuracy: 0.8744\n",
            "Epoch 10/30\n",
            "1719/1719 [==============================] - 9s 5ms/step - loss: 0.3301 - accuracy: 0.8822 - val_loss: 0.3464 - val_accuracy: 0.8752\n",
            "Epoch 11/30\n",
            "1719/1719 [==============================] - 8s 4ms/step - loss: 0.3216 - accuracy: 0.8848 - val_loss: 0.3370 - val_accuracy: 0.8804\n",
            "Epoch 12/30\n",
            "1719/1719 [==============================] - 9s 5ms/step - loss: 0.3126 - accuracy: 0.8878 - val_loss: 0.3292 - val_accuracy: 0.8812\n",
            "Epoch 13/30\n",
            "1719/1719 [==============================] - 8s 5ms/step - loss: 0.3058 - accuracy: 0.8907 - val_loss: 0.3313 - val_accuracy: 0.8814\n",
            "Epoch 14/30\n",
            "1719/1719 [==============================] - 7s 4ms/step - loss: 0.2993 - accuracy: 0.8926 - val_loss: 0.3498 - val_accuracy: 0.8702\n",
            "Epoch 15/30\n",
            "1719/1719 [==============================] - 9s 5ms/step - loss: 0.2923 - accuracy: 0.8952 - val_loss: 0.3287 - val_accuracy: 0.8816\n",
            "Epoch 16/30\n",
            "1719/1719 [==============================] - 7s 4ms/step - loss: 0.2871 - accuracy: 0.8969 - val_loss: 0.3104 - val_accuracy: 0.8860\n",
            "Epoch 17/30\n",
            "1719/1719 [==============================] - 9s 5ms/step - loss: 0.2809 - accuracy: 0.8987 - val_loss: 0.3534 - val_accuracy: 0.8732\n",
            "Epoch 18/30\n",
            "1719/1719 [==============================] - 8s 5ms/step - loss: 0.2751 - accuracy: 0.9004 - val_loss: 0.3115 - val_accuracy: 0.8894\n",
            "Epoch 19/30\n",
            "1719/1719 [==============================] - 8s 4ms/step - loss: 0.2706 - accuracy: 0.9032 - val_loss: 0.3057 - val_accuracy: 0.8938\n",
            "Epoch 20/30\n",
            "1719/1719 [==============================] - 9s 5ms/step - loss: 0.2654 - accuracy: 0.9039 - val_loss: 0.3289 - val_accuracy: 0.8816\n",
            "Epoch 21/30\n",
            "1719/1719 [==============================] - 9s 5ms/step - loss: 0.2604 - accuracy: 0.9066 - val_loss: 0.3015 - val_accuracy: 0.8930\n",
            "Epoch 22/30\n",
            "1719/1719 [==============================] - 9s 5ms/step - loss: 0.2554 - accuracy: 0.9074 - val_loss: 0.2992 - val_accuracy: 0.8920\n",
            "Epoch 23/30\n",
            "1719/1719 [==============================] - 9s 5ms/step - loss: 0.2508 - accuracy: 0.9091 - val_loss: 0.2996 - val_accuracy: 0.8928\n",
            "Epoch 24/30\n",
            "1719/1719 [==============================] - 8s 5ms/step - loss: 0.2468 - accuracy: 0.9106 - val_loss: 0.3077 - val_accuracy: 0.8898\n",
            "Epoch 25/30\n",
            "1719/1719 [==============================] - 9s 5ms/step - loss: 0.2425 - accuracy: 0.9117 - val_loss: 0.2982 - val_accuracy: 0.8944\n",
            "Epoch 26/30\n",
            "1719/1719 [==============================] - 7s 4ms/step - loss: 0.2384 - accuracy: 0.9139 - val_loss: 0.3012 - val_accuracy: 0.8914\n",
            "Epoch 27/30\n",
            "1719/1719 [==============================] - 9s 5ms/step - loss: 0.2350 - accuracy: 0.9151 - val_loss: 0.3062 - val_accuracy: 0.8894\n",
            "Epoch 28/30\n",
            "1719/1719 [==============================] - 8s 5ms/step - loss: 0.2315 - accuracy: 0.9162 - val_loss: 0.3046 - val_accuracy: 0.8876\n",
            "Epoch 29/30\n",
            "1719/1719 [==============================] - 7s 4ms/step - loss: 0.2271 - accuracy: 0.9184 - val_loss: 0.3105 - val_accuracy: 0.8888\n",
            "Epoch 30/30\n",
            "1719/1719 [==============================] - 9s 5ms/step - loss: 0.2236 - accuracy: 0.9191 - val_loss: 0.3114 - val_accuracy: 0.8892\n"
          ]
        }
      ]
    },
    {
      "cell_type": "markdown",
      "source": [
        "- Es necesario pasar las características de entrada (``X_train``) y clases objetivo (``y_train``), así como el número de épocas. También se pasa el conjunto de validación (no obligatorio).\n",
        "- Otra forma de definir el conjunto de validación seria usando ``validation_split=0.1``, que indica que el 10\\% será usado para validación.\n",
        "- A cada época durante el entrenamiento, se despliega el número de instancias procesadas, el tiempo promedio por ejemplo, el ``loss`` y ``accuracy``, para el conjunto de entrenamiento y validación.\n",
        "- Se puede observar que el ``loss`` va disminuyendo, lo que es bueno. Asimismo el accuracy en validación llega a 89\\% después de 30 épocas, y que no está muy lejos del valor accuracy en entrenamiento. No parece haber overfitting.\n",
        "\n",
        "- Se puede usar el argumento ``class_weight`` al llamar el método ``fit()``, que permite darle un peso diferente a cada clase (atenuar el desbalanceo). Estos pesos serán usados durante el cálculo del costo.\n"
      ],
      "metadata": {
        "id": "-BTU7qoz8E1p"
      }
    },
    {
      "cell_type": "code",
      "source": [
        "#no parece haber overfiting porque la exactitud en el conjunto de entrenamiento y validadcion son\n",
        "#cercanas"
      ],
      "metadata": {
        "id": "e6cqtPi3yq31"
      },
      "execution_count": null,
      "outputs": []
    },
    {
      "cell_type": "code",
      "source": [
        "history.params"
      ],
      "metadata": {
        "colab": {
          "base_uri": "https://localhost:8080/"
        },
        "id": "9RyPSeAoxOeo",
        "outputId": "6c50480c-ab66-4c5b-9519-23764e878620"
      },
      "execution_count": 75,
      "outputs": [
        {
          "output_type": "execute_result",
          "data": {
            "text/plain": [
              "{'verbose': 1, 'epochs': 30, 'steps': 1719}"
            ]
          },
          "metadata": {},
          "execution_count": 75
        }
      ]
    },
    {
      "cell_type": "markdown",
      "source": [
        "El objeto ``history``, retornado por fit, permite analizar el resultado de las métricas."
      ],
      "metadata": {
        "id": "NQcUK1qt9ZhE"
      }
    },
    {
      "cell_type": "code",
      "source": [
        "print(history.epoch)"
      ],
      "metadata": {
        "colab": {
          "base_uri": "https://localhost:8080/"
        },
        "id": "UHQzfRc1xr_q",
        "outputId": "cc2843e0-6fd8-46d7-d51c-c2ea57bb0454"
      },
      "execution_count": 76,
      "outputs": [
        {
          "output_type": "stream",
          "name": "stdout",
          "text": [
            "[0, 1, 2, 3, 4, 5, 6, 7, 8, 9, 10, 11, 12, 13, 14, 15, 16, 17, 18, 19, 20, 21, 22, 23, 24, 25, 26, 27, 28, 29]\n"
          ]
        }
      ]
    },
    {
      "cell_type": "code",
      "source": [
        "history.history.keys()"
      ],
      "metadata": {
        "colab": {
          "base_uri": "https://localhost:8080/"
        },
        "id": "qBCFWA3OxwJT",
        "outputId": "4df20b68-b75b-42fa-ce3f-91268f06984f"
      },
      "execution_count": 77,
      "outputs": [
        {
          "output_type": "execute_result",
          "data": {
            "text/plain": [
              "dict_keys(['loss', 'accuracy', 'val_loss', 'val_accuracy'])"
            ]
          },
          "metadata": {},
          "execution_count": 77
        }
      ]
    },
    {
      "cell_type": "code",
      "source": [
        "import pandas as pd\n",
        "\n",
        "pd.DataFrame(history.history).plot(figsize=(8, 5))\n",
        "plt.grid(True)\n",
        "plt.gca().set_ylim(0, 1)\n",
        "plt.show()"
      ],
      "metadata": {
        "colab": {
          "base_uri": "https://localhost:8080/",
          "height": 456
        },
        "id": "X57tblWxxzkh",
        "outputId": "763c0623-fc7a-4a12-ee2c-82a8be37aee8"
      },
      "execution_count": 78,
      "outputs": [
        {
          "output_type": "display_data",
          "data": {
            "text/plain": [
              "<Figure size 800x500 with 1 Axes>"
            ],
            "image/png": "[encoded data removed]"
          },
          "metadata": {}
        }
      ]
    },
    {
      "cell_type": "markdown",
      "source": [
        "Análisis:"
      ],
      "metadata": {
        "id": "ZpPchydZx9HB"
      }
    },
    {
      "cell_type": "markdown",
      "source": [
        "- Se puede ver que tanto accuracy en validación y entrenamiento se incrementan durante el entrenamiento, mientras que el loss de validación y entrenamiento disminuyen.\n",
        "- Las curvas de validación y entrenamiento son cercanas, lo que indica poco overfitting.\n",
        "- Es usual que el desempeño del conjunto de entrenamiento sea mejor a la larga. En este caso más entrenamiento puede llevar a un accuracy de 89.4 \\% en validación.\n",
        "- Si el desempeño no es el esperado se debe ajustar hiperparámetros: ``learning_rate``, capas ocultas, número de neuronas por capa, funciones de activación, batch (32 por defecto), entre otros.\n",
        "\n"
      ],
      "metadata": {
        "id": "hx-Q0ImE-7-Z"
      }
    },
    {
      "cell_type": "code",
      "source": [
        "#los parametros en una mlp son los pesos y los bayas\n",
        "#los hiperparametros puede ser el numero de neuronas,el numero de capas y ratio de aprendizaje y\n",
        "#tambien la funcion de activacion"
      ],
      "metadata": {
        "id": "o89-tNHC0Wj1"
      },
      "execution_count": null,
      "outputs": []
    },
    {
      "cell_type": "code",
      "source": [
        "model.evaluate(X_test, y_test)#el conjunto de prueba solo se usa para reportar el desempeño final"
      ],
      "metadata": {
        "colab": {
          "base_uri": "https://localhost:8080/"
        },
        "id": "OlUSHyAPx5yb",
        "outputId": "d64caf0e-3970-4441-e56f-9268aa254fd1"
      },
      "execution_count": 80,
      "outputs": [
        {
          "output_type": "stream",
          "name": "stdout",
          "text": [
            "313/313 [==============================] - 1s 4ms/step - loss: 0.3448 - accuracy: 0.8778\n"
          ]
        },
        {
          "output_type": "execute_result",
          "data": {
            "text/plain": [
              "[0.3447851538658142, 0.8777999877929688]"
            ]
          },
          "metadata": {},
          "execution_count": 80
        }
      ]
    },
    {
      "cell_type": "markdown",
      "source": [
        "**Advertencia:**\n",
        "\n",
        "- Es común tener un desempeño inferior en el conjunto de prueba (debido al afinamiento en el conjunto de validación).\n",
        "- Se debe **evitar** hacer un afinamiento de los hiperparámetros sobre el conjunto de prueba, esto haría que mostraramos resultados de generalización muy optimistas."
      ],
      "metadata": {
        "id": "kSqaHY3e-3uP"
      }
    },
    {
      "cell_type": "markdown",
      "source": [
        "Predicciones sobre datos nuevos"
      ],
      "metadata": {
        "id": "1v4lvUoQyA8g"
      }
    },
    {
      "cell_type": "code",
      "source": [
        "X_new = X_test[:3]\n",
        "y_proba = model.predict(X_new)\n",
        "y_proba.round(2)"
      ],
      "metadata": {
        "colab": {
          "base_uri": "https://localhost:8080/"
        },
        "id": "cuUydiSyx_Sz",
        "outputId": "c113a553-963b-456f-9ce2-dfb2f784a44e"
      },
      "execution_count": 82,
      "outputs": [
        {
          "output_type": "stream",
          "name": "stdout",
          "text": [
            "1/1 [==============================] - 0s 21ms/step\n"
          ]
        },
        {
          "output_type": "execute_result",
          "data": {
            "text/plain": [
              "array([[0.  , 0.  , 0.  , 0.  , 0.  , 0.01, 0.  , 0.02, 0.  , 0.96],\n",
              "       [0.  , 0.  , 1.  , 0.  , 0.  , 0.  , 0.  , 0.  , 0.  , 0.  ],\n",
              "       [0.  , 1.  , 0.  , 0.  , 0.  , 0.  , 0.  , 0.  , 0.  , 0.  ]],\n",
              "      dtype=float32)"
            ]
          },
          "metadata": {},
          "execution_count": 82
        }
      ]
    },
    {
      "cell_type": "code",
      "source": [
        "#y_pred = model.predict_classes(X_new) # deprecated\n",
        "y_pred = np.argmax(model.predict(X_new), axis=-1)\n",
        "y_pred"
      ],
      "metadata": {
        "colab": {
          "base_uri": "https://localhost:8080/"
        },
        "id": "mM5or2lJyMrM",
        "outputId": "5ee6c494-197b-4c79-e929-7c3fa99d4066"
      },
      "execution_count": 83,
      "outputs": [
        {
          "output_type": "stream",
          "name": "stdout",
          "text": [
            "1/1 [==============================] - 0s 22ms/step\n"
          ]
        },
        {
          "output_type": "execute_result",
          "data": {
            "text/plain": [
              "array([9, 2, 1])"
            ]
          },
          "metadata": {},
          "execution_count": 83
        }
      ]
    },
    {
      "cell_type": "code",
      "source": [
        "np.array(class_names)[y_pred]"
      ],
      "metadata": {
        "colab": {
          "base_uri": "https://localhost:8080/"
        },
        "id": "zx_DJs4eyNEh",
        "outputId": "df3d5157-7292-468c-d9e3-fb9152333696"
      },
      "execution_count": 84,
      "outputs": [
        {
          "output_type": "execute_result",
          "data": {
            "text/plain": [
              "array(['Ankle boot', 'Pullover', 'Trouser'], dtype='<U11')"
            ]
          },
          "metadata": {},
          "execution_count": 84
        }
      ]
    },
    {
      "cell_type": "code",
      "source": [
        "y_new = y_test[:3]\n",
        "y_new"
      ],
      "metadata": {
        "colab": {
          "base_uri": "https://localhost:8080/"
        },
        "id": "ZHVwxSfYyPy0",
        "outputId": "e3f6fa9a-6f1d-44c0-d80e-96dcae1d47ff"
      },
      "execution_count": 86,
      "outputs": [
        {
          "output_type": "execute_result",
          "data": {
            "text/plain": [
              "array([9, 2, 1], dtype=uint8)"
            ]
          },
          "metadata": {},
          "execution_count": 86
        }
      ]
    },
    {
      "cell_type": "code",
      "source": [
        "plt.figure(figsize=(7.2, 2.4))\n",
        "for index, image in enumerate(X_new):\n",
        "    plt.subplot(1, 3, index + 1)\n",
        "    plt.imshow(image, cmap=\"binary\", interpolation=\"nearest\")\n",
        "    plt.axis('off')\n",
        "    plt.title(class_names[y_test[index]], fontsize=12)\n",
        "plt.subplots_adjust(wspace=0.2, hspace=0.5)\n",
        "plt.show()"
      ],
      "metadata": {
        "colab": {
          "base_uri": "https://localhost:8080/",
          "height": 223
        },
        "id": "HA79gG6UyScG",
        "outputId": "892cad2c-78f4-4aea-d30e-3ed53e145634"
      },
      "execution_count": 87,
      "outputs": [
        {
          "output_type": "display_data",
          "data": {
            "text/plain": [
              "<Figure size 720x240 with 3 Axes>"
            ],
            "image/png": "[encoded data removed]"
          },
          "metadata": {}
        }
      ]
    }
  ]
}
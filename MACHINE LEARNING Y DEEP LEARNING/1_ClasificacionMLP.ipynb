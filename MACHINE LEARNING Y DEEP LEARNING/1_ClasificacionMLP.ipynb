{
  "nbformat": 4,
  "nbformat_minor": 0,
  "metadata": {
    "colab": {
      "provenance": [],
      "include_colab_link": true
    },
    "kernelspec": {
      "name": "python3",
      "display_name": "Python 3"
    },
    "language_info": {
      "name": "python"
    }
  },
  "cells": [
    {
      "cell_type": "markdown",
      "metadata": {
        "id": "view-in-github",
        "colab_type": "text"
      },
      "source": [
        "<a href=\"https://colab.research.google.com/github/Ricardomanuel1/Maestria_Ciencia_de_Datos/blob/main/MACHINE%20LEARNING%20Y%20DEEP%20LEARNING/1_ClasificacionMLP.ipynb\" target=\"_parent\"><img src=\"https://colab.research.google.com/assets/colab-badge.svg\" alt=\"Open In Colab\"/></a>"
      ]
    },
    {
      "cell_type": "markdown",
      "source": [
        "# **Redes Neuronales MLP para Clasificación**"
      ],
      "metadata": {
        "id": "wGmsaiqbspsO"
      }
    },
    {
      "cell_type": "markdown",
      "source": [
        "Basado en Hands-On Machine Learning with Scikit-Learn, Keras, and TensorFlow, 2nd Edition. Aurélien Géron. 2019"
      ],
      "metadata": {
        "id": "odLOcxxDPn0v"
      }
    },
    {
      "cell_type": "markdown",
      "source": [
        "Librerías requeridas"
      ],
      "metadata": {
        "id": "vVv-J81_s3rI"
      }
    },
    {
      "cell_type": "code",
      "source": [
        "# Python ≥3.5 is required\n",
        "import sys\n",
        "assert sys.version_info >= (3, 5)\n",
        "\n",
        "# Scikit-Learn ≥0.20 is required\n",
        "import sklearn\n",
        "assert sklearn.__version__ >= \"0.20\"\n",
        "\n",
        "try:\n",
        "    # %tensorflow_version only exists in Colab.\n",
        "    %tensorflow_version 2.x\n",
        "except Exception:\n",
        "    pass\n",
        "\n",
        "# TensorFlow ≥2.0 is required\n",
        "import tensorflow as tf\n",
        "assert tf.__version__ >= \"2.0\"\n",
        "\n",
        "# Common imports\n",
        "import numpy as np\n",
        "import os\n",
        "\n",
        "# to make this notebook's output stable across runs\n",
        "np.random.seed(42)\n",
        "\n",
        "# To plot pretty figures\n",
        "%matplotlib inline\n",
        "import matplotlib as mpl\n",
        "import matplotlib.pyplot as plt\n",
        "mpl.rc('axes', labelsize=14)\n",
        "mpl.rc('xtick', labelsize=12)\n",
        "mpl.rc('ytick', labelsize=12)"
      ],
      "metadata": {
        "colab": {
          "base_uri": "https://localhost:8080/"
        },
        "id": "ELOifpqUs4GX",
        "outputId": "cd033182-274d-4cab-d742-b6c0c7111120"
      },
      "execution_count": 1,
      "outputs": [
        {
          "output_type": "stream",
          "name": "stdout",
          "text": [
            "Colab only includes TensorFlow 2.x; %tensorflow_version has no effect.\n"
          ]
        }
      ]
    },
    {
      "cell_type": "markdown",
      "source": [
        "**Funciones de Activación**"
      ],
      "metadata": {
        "id": "fP-u7fjvtQnY"
      }
    },
    {
      "cell_type": "code",
      "source": [
        "def sigmoid(z):\n",
        "    return 1 / (1 + np.exp(-z))\n",
        "\n",
        "def relu(z):#Rectified Linear Unit\n",
        "    return np.maximum(0, z)\n",
        "\n",
        "def derivative(f, z, eps=0.000001):\n",
        "    return (f(z + eps) - f(z - eps))/(2 * eps)"
      ],
      "metadata": {
        "id": "zC1TInXVtSTu"
      },
      "execution_count": 2,
      "outputs": []
    },
    {
      "cell_type": "code",
      "source": [
        "#La función sigmoide aplana la entrada en un rango entre 0 y 1, útil en problemas de clasificación binaria.\n",
        "#La función ReLU devuelve 0 para valores negativos y el mismo valor para valores positivos. Es una de las funciones de activación más populares en la práctica debido a su eficiencia y buen desempeño."
      ],
      "metadata": {
        "id": "NhnU4Win-ye7"
      },
      "execution_count": 3,
      "outputs": []
    },
    {
      "cell_type": "code",
      "source": [
        "z = np.linspace(-5, 5, 200)#genera 200 numeros entre -5 y 5\n",
        "\n",
        "plt.figure(figsize=(11,4))\n",
        "\n",
        "plt.subplot(121)\n",
        "plt.plot(z, np.sign(z), \"r-\", linewidth=1, label=\"Step\")\n",
        "plt.plot(z, sigmoid(z), \"g--\", linewidth=2, label=\"Sigmoid\")\n",
        "plt.plot(z, np.tanh(z), \"b-\", linewidth=2, label=\"Tanh\")\n",
        "plt.plot(z, relu(z), \"m-.\", linewidth=2, label=\"ReLU\")\n",
        "plt.grid(True)\n",
        "plt.legend(loc=\"center right\", fontsize=14)\n",
        "plt.title(\"Activation functions\", fontsize=14)\n",
        "plt.axis([-5, 5, -1.2, 1.2])\n",
        "\n",
        "plt.subplot(122)\n",
        "plt.plot(z, derivative(np.sign, z), \"r-\", linewidth=1, label=\"Step\")\n",
        "plt.plot(0, 0, \"ro\", markersize=5)\n",
        "plt.plot(0, 0, \"rx\", markersize=10)\n",
        "plt.plot(z, derivative(sigmoid, z), \"g--\", linewidth=2, label=\"Sigmoid\")\n",
        "plt.plot(z, derivative(np.tanh, z), \"b-\", linewidth=2, label=\"Tanh\")\n",
        "plt.plot(z, derivative(relu, z), \"m-.\", linewidth=2, label=\"ReLU\")\n",
        "plt.grid(True)\n",
        "\n",
        "plt.legend(loc=\"center right\", fontsize=14)\n",
        "plt.title(\"Derivatives\", fontsize=14)\n",
        "plt.axis([-5, 5, -0.2, 1.2])\n",
        "\n",
        "plt.show()"
      ],
      "metadata": {
        "colab": {
          "base_uri": "https://localhost:8080/",
          "height": 396
        },
        "id": "CC3aeDvbtWM-",
        "outputId": "c5b8a6b2-0091-46cf-f12c-388500f6c607"
      },
      "execution_count": 4,
      "outputs": [
        {
          "output_type": "display_data",
          "data": {
            "text/plain": [
              "<Figure size 1100x400 with 2 Axes>"
            ],
            "image/png": "[encoded data removed]"
          },
          "metadata": {}
        }
      ]
    },
    {
      "cell_type": "markdown",
      "source": [
        "## **MLPs y Clasificación**"
      ],
      "metadata": {
        "id": "rSrctTlrtnv_"
      }
    },
    {
      "cell_type": "code",
      "source": [
        "import tensorflow as tf\n",
        "from tensorflow import keras\n",
        "#TensorFlow es una biblioteca de software de código abierto desarrollada por Google para realizar cálculos numéricos\n",
        "#Keras, por otro lado, es una API de alto nivel para construir y entrenar modelos de aprendizaje profundo."
      ],
      "metadata": {
        "id": "WpnBS7e7tZcT"
      },
      "execution_count": 5,
      "outputs": []
    },
    {
      "cell_type": "code",
      "source": [
        "tf.__version__#para comprobar que version de tensorflow se esta usando"
      ],
      "metadata": {
        "colab": {
          "base_uri": "https://localhost:8080/",
          "height": 35
        },
        "id": "h6dUixO3tvk5",
        "outputId": "7957ced4-f471-41b5-9464-80b3ab11a067"
      },
      "execution_count": 6,
      "outputs": [
        {
          "output_type": "execute_result",
          "data": {
            "text/plain": [
              "'2.15.0'"
            ],
            "application/vnd.google.colaboratory.intrinsic+json": {
              "type": "string"
            }
          },
          "metadata": {},
          "execution_count": 6
        }
      ]
    },
    {
      "cell_type": "code",
      "source": [
        "#keras.__version__"
      ],
      "metadata": {
        "id": "w0Gk7txBtyKB"
      },
      "execution_count": 7,
      "outputs": []
    },
    {
      "cell_type": "markdown",
      "source": [
        "**Dataset: MNIST Fashion**\n",
        "\n",
        "El conjunto de datos MNIST de moda está incorporado en Keras, este conjunto de datos es un conjunto de 60,000 imágenes de dígitos escritos a mano para entrenamiento y 10,000 imágenes adicionales para pruebas, cada imagen tiene una resolución de 28x28 píxeles y está en escala de grises.\n",
        "\n",
        "El conjunto de datos ya está dividido entre un conjunto de entrenamiento y un conjunto de prueba, pero puede resultar útil dividir aún más el conjunto de entrenamiento para tener un conjunto de validación:"
      ],
      "metadata": {
        "id": "hhTIbGDWugHO"
      }
    },
    {
      "cell_type": "code",
      "source": [
        "fashion_mnist = keras.datasets.fashion_mnist\n",
        "(X_train_full, y_train_full), (X_test, y_test) = fashion_mnist.load_data()#cargamos el conjunto de datos."
      ],
      "metadata": {
        "colab": {
          "base_uri": "https://localhost:8080/"
        },
        "id": "mRFGtwpouzCe",
        "outputId": "85755577-82a1-40e7-9df4-518c1bf90674"
      },
      "execution_count": 8,
      "outputs": [
        {
          "output_type": "stream",
          "name": "stdout",
          "text": [
            "Downloading data from https://storage.googleapis.com/tensorflow/tf-keras-datasets/train-labels-idx1-ubyte.gz\n",
            "29515/29515 [==============================] - 0s 0us/step\n",
            "Downloading data from https://storage.googleapis.com/tensorflow/tf-keras-datasets/train-images-idx3-ubyte.gz\n",
            "26421880/26421880 [==============================] - 0s 0us/step\n",
            "Downloading data from https://storage.googleapis.com/tensorflow/tf-keras-datasets/t10k-labels-idx1-ubyte.gz\n",
            "5148/5148 [==============================] - 0s 0us/step\n",
            "Downloading data from https://storage.googleapis.com/tensorflow/tf-keras-datasets/t10k-images-idx3-ubyte.gz\n",
            "4422102/4422102 [==============================] - 0s 0us/step\n"
          ]
        }
      ]
    },
    {
      "cell_type": "markdown",
      "source": [
        "El conjunto de entrenamiento contiene 60.000 imágenes en escala de grises, cada una de 28x28 píxeles:\n"
      ],
      "metadata": {
        "id": "MFNxl-pvu4-n"
      }
    },
    {
      "cell_type": "code",
      "source": [
        "X_train_full.shape#hay 60 mil imagaenes en el conjunto de entrenamiento\n",
        "#osea 60000 mil matrices de tamaño 28x28"
      ],
      "metadata": {
        "colab": {
          "base_uri": "https://localhost:8080/"
        },
        "id": "6dDcxEMKu5Vd",
        "outputId": "2c09f39d-16c5-43da-ebd6-7af772e6d546"
      },
      "execution_count": 9,
      "outputs": [
        {
          "output_type": "execute_result",
          "data": {
            "text/plain": [
              "(60000, 28, 28)"
            ]
          },
          "metadata": {},
          "execution_count": 9
        }
      ]
    },
    {
      "cell_type": "code",
      "source": [
        "matriz_tridimensional = np.random.rand(2, 5, 5)\n",
        "matriz_tridimensional"
      ],
      "metadata": {
        "colab": {
          "base_uri": "https://localhost:8080/"
        },
        "id": "VmmZRUvxHhDP",
        "outputId": "40a80073-3aea-4590-a760-7b5f134ef347"
      },
      "execution_count": 10,
      "outputs": [
        {
          "output_type": "execute_result",
          "data": {
            "text/plain": [
              "array([[[0.37454012, 0.95071431, 0.73199394, 0.59865848, 0.15601864],\n",
              "        [0.15599452, 0.05808361, 0.86617615, 0.60111501, 0.70807258],\n",
              "        [0.02058449, 0.96990985, 0.83244264, 0.21233911, 0.18182497],\n",
              "        [0.18340451, 0.30424224, 0.52475643, 0.43194502, 0.29122914],\n",
              "        [0.61185289, 0.13949386, 0.29214465, 0.36636184, 0.45606998]],\n",
              "\n",
              "       [[0.78517596, 0.19967378, 0.51423444, 0.59241457, 0.04645041],\n",
              "        [0.60754485, 0.17052412, 0.06505159, 0.94888554, 0.96563203],\n",
              "        [0.80839735, 0.30461377, 0.09767211, 0.68423303, 0.44015249],\n",
              "        [0.12203823, 0.49517691, 0.03438852, 0.9093204 , 0.25877998],\n",
              "        [0.66252228, 0.31171108, 0.52006802, 0.54671028, 0.18485446]]])"
            ]
          },
          "metadata": {},
          "execution_count": 10
        }
      ]
    },
    {
      "cell_type": "code",
      "source": [
        "matriz_tridimensional[1][0][1]#por ser una matriz es cero todo osea el primer indice\n",
        "#el segundo indice tomemos cada lista como 0,1,2,4\n",
        "#el tercer indice la posicion que ocupa cada numero en la lista"
      ],
      "metadata": {
        "colab": {
          "base_uri": "https://localhost:8080/"
        },
        "id": "tokEkMzaIeQR",
        "outputId": "240538e7-972a-4234-9e76-e1d156560093"
      },
      "execution_count": 11,
      "outputs": [
        {
          "output_type": "execute_result",
          "data": {
            "text/plain": [
              "0.19967378215835974"
            ]
          },
          "metadata": {},
          "execution_count": 11
        }
      ]
    },
    {
      "cell_type": "code",
      "source": [
        "matriz_tridimensional[1]#arroja la con posicion 1"
      ],
      "metadata": {
        "colab": {
          "base_uri": "https://localhost:8080/"
        },
        "id": "TW9ZRMkbk-l-",
        "outputId": "57948050-864f-457b-b112-e96efe2767dc"
      },
      "execution_count": 12,
      "outputs": [
        {
          "output_type": "execute_result",
          "data": {
            "text/plain": [
              "array([[0.78517596, 0.19967378, 0.51423444, 0.59241457, 0.04645041],\n",
              "       [0.60754485, 0.17052412, 0.06505159, 0.94888554, 0.96563203],\n",
              "       [0.80839735, 0.30461377, 0.09767211, 0.68423303, 0.44015249],\n",
              "       [0.12203823, 0.49517691, 0.03438852, 0.9093204 , 0.25877998],\n",
              "       [0.66252228, 0.31171108, 0.52006802, 0.54671028, 0.18485446]])"
            ]
          },
          "metadata": {},
          "execution_count": 12
        }
      ]
    },
    {
      "cell_type": "code",
      "source": [
        "y_train_full.shape"
      ],
      "metadata": {
        "id": "3nLZ0Ijifmpv",
        "outputId": "e26e89db-a468-4c94-fb10-033d95bb97c5",
        "colab": {
          "base_uri": "https://localhost:8080/"
        }
      },
      "execution_count": 13,
      "outputs": [
        {
          "output_type": "execute_result",
          "data": {
            "text/plain": [
              "(60000,)"
            ]
          },
          "metadata": {},
          "execution_count": 13
        }
      ]
    },
    {
      "cell_type": "markdown",
      "source": [
        "Cada intensidad de píxel se representa como un byte (0 a 255):"
      ],
      "metadata": {
        "id": "4cFW47tivAMZ"
      }
    },
    {
      "cell_type": "code",
      "source": [
        "X_train_full.dtype"
      ],
      "metadata": {
        "colab": {
          "base_uri": "https://localhost:8080/"
        },
        "id": "OMOoBJewu7Vg",
        "outputId": "f2a4f0c9-9b22-41b6-c2f3-4db756b14a48"
      },
      "execution_count": 14,
      "outputs": [
        {
          "output_type": "execute_result",
          "data": {
            "text/plain": [
              "dtype('uint8')"
            ]
          },
          "metadata": {},
          "execution_count": 14
        }
      ]
    },
    {
      "cell_type": "code",
      "source": [
        "X_train_full[1][0][15]#es el valor de la matriz en posicion 1, posicion 0(lista 1) de esa matriz y\n",
        "#de esa lista la posicion 15"
      ],
      "metadata": {
        "colab": {
          "base_uri": "https://localhost:8080/"
        },
        "id": "b_hRozKTlgjX",
        "outputId": "f50977d2-b512-4e79-8dde-061fedb9f365"
      },
      "execution_count": 15,
      "outputs": [
        {
          "output_type": "execute_result",
          "data": {
            "text/plain": [
              "43"
            ]
          },
          "metadata": {},
          "execution_count": 15
        }
      ]
    },
    {
      "cell_type": "markdown",
      "source": [
        "Dividamos el conjunto de entrenamiento completo en un conjunto de validación (los primeros 5000) y un conjunto de entrenamiento 55000 (más pequeño). También reducimos las intensidades de los píxeles al rango 0-1 y las convertimos en flotantes, dividiéndolas por 255."
      ],
      "metadata": {
        "id": "69Sp25vdvH_a"
      }
    },
    {
      "cell_type": "code",
      "source": [
        "X_valid, X_train = X_train_full[:5000] / 255., X_train_full[5000:] / 255.#conjunto entrenamiento y validacion\n",
        "y_valid, y_train = y_train_full[:5000], y_train_full[5000:]#variable tarjet tambien separamos\n",
        "X_test = X_test / 255."
      ],
      "metadata": {
        "id": "WyOkWRtyu_R6"
      },
      "execution_count": 16,
      "outputs": []
    },
    {
      "cell_type": "markdown",
      "source": [
        "Se puede mostrar una imagen usando la función imshow() de Matplotlib, con un mapa de color 'binario':"
      ],
      "metadata": {
        "id": "r6BUTuTPvQP8"
      }
    },
    {
      "cell_type": "code",
      "source": [
        "plt.imshow(X_train[40], cmap=\"binary\")\n",
        "plt.axis('off')\n",
        "plt.show()"
      ],
      "metadata": {
        "colab": {
          "base_uri": "https://localhost:8080/",
          "height": 406
        },
        "id": "mAtI5haZvK4F",
        "outputId": "c1474803-807b-45ad-cf09-6b178e950d6b"
      },
      "execution_count": 33,
      "outputs": [
        {
          "output_type": "display_data",
          "data": {
            "text/plain": [
              "<Figure size 640x480 with 1 Axes>"
            ],
            "image/png": "[encoded data removed]"
          },
          "metadata": {}
        }
      ]
    },
    {
      "cell_type": "markdown",
      "source": [
        "Las etiquetas son los ID de clase (representados como uint8), del 0 al 9:"
      ],
      "metadata": {
        "id": "9XApwJhCvYkq"
      }
    },
    {
      "cell_type": "code",
      "source": [
        "y_train"
      ],
      "metadata": {
        "colab": {
          "base_uri": "https://localhost:8080/"
        },
        "id": "lGnJf89cvTI1",
        "outputId": "e4d60d7d-2ae6-4a79-c4f9-9f4ea0c69f5e"
      },
      "execution_count": 18,
      "outputs": [
        {
          "output_type": "execute_result",
          "data": {
            "text/plain": [
              "array([4, 0, 7, ..., 3, 0, 5], dtype=uint8)"
            ]
          },
          "metadata": {},
          "execution_count": 18
        }
      ]
    },
    {
      "cell_type": "code",
      "source": [
        "len(y_train)#comienza de cero hasta 54999"
      ],
      "metadata": {
        "colab": {
          "base_uri": "https://localhost:8080/"
        },
        "id": "It0qLeJ5qL0e",
        "outputId": "e33dcf53-c983-47e4-d0bf-1f83423f2140"
      },
      "execution_count": 19,
      "outputs": [
        {
          "output_type": "execute_result",
          "data": {
            "text/plain": [
              "55000"
            ]
          },
          "metadata": {},
          "execution_count": 19
        }
      ]
    },
    {
      "cell_type": "markdown",
      "source": [
        "Aquí están los nombres de clases correspondientes:"
      ],
      "metadata": {
        "id": "54vtVwz1veY_"
      }
    },
    {
      "cell_type": "code",
      "source": [
        "class_names"
      ],
      "metadata": {
        "id": "NbRs-cK8gugO",
        "outputId": "7af12f9b-d98f-4306-a320-f1add21f1577",
        "colab": {
          "base_uri": "https://localhost:8080/"
        }
      },
      "execution_count": 23,
      "outputs": [
        {
          "output_type": "execute_result",
          "data": {
            "text/plain": [
              "['T-shirt/top',\n",
              " 'Trouser',\n",
              " 'Pullover',\n",
              " 'Dress',\n",
              " 'Coat',\n",
              " 'Sandal',\n",
              " 'Shirt',\n",
              " 'Sneaker',\n",
              " 'Bag',\n",
              " 'Ankle boot']"
            ]
          },
          "metadata": {},
          "execution_count": 23
        }
      ]
    },
    {
      "cell_type": "code",
      "source": [
        "class_names = [\"T-shirt/top\", \"Trouser\", \"Pullover\", \"Dress\", \"Coat\",\n",
        "               \"Sandal\", \"Shirt\", \"Sneaker\", \"Bag\", \"Ankle boot\"]"
      ],
      "metadata": {
        "id": "BXNLRiA4vat4"
      },
      "execution_count": 22,
      "outputs": []
    },
    {
      "cell_type": "markdown",
      "source": [
        "La primera imagen del conjunto de entrenamiento es un abrigo:"
      ],
      "metadata": {
        "id": "rpW8BGL6vlQn"
      }
    },
    {
      "cell_type": "code",
      "source": [
        "class_names[y_train[0]]#primera"
      ],
      "metadata": {
        "colab": {
          "base_uri": "https://localhost:8080/",
          "height": 35
        },
        "id": "BkA9aqcJq6Px",
        "outputId": "58f97825-67b2-4611-ed60-dae94d9e1802"
      },
      "execution_count": 24,
      "outputs": [
        {
          "output_type": "execute_result",
          "data": {
            "text/plain": [
              "'Coat'"
            ],
            "application/vnd.google.colaboratory.intrinsic+json": {
              "type": "string"
            }
          },
          "metadata": {},
          "execution_count": 24
        }
      ]
    },
    {
      "cell_type": "code",
      "source": [
        "class_names[y_train[54999]]#ultima"
      ],
      "metadata": {
        "colab": {
          "base_uri": "https://localhost:8080/",
          "height": 35
        },
        "id": "Qht01OSQvgh7",
        "outputId": "9947d36a-9d86-48c8-c617-3ea103d39bc7"
      },
      "execution_count": 25,
      "outputs": [
        {
          "output_type": "execute_result",
          "data": {
            "text/plain": [
              "'Sandal'"
            ],
            "application/vnd.google.colaboratory.intrinsic+json": {
              "type": "string"
            }
          },
          "metadata": {},
          "execution_count": 25
        }
      ]
    },
    {
      "cell_type": "code",
      "source": [
        "class_names[y_train[np.random.randint(0, 55000)]]"
      ],
      "metadata": {
        "colab": {
          "base_uri": "https://localhost:8080/",
          "height": 35
        },
        "id": "AHKpEAiPqqWN",
        "outputId": "ef8bb68b-e0ec-4409-bc74-2e1fe42deed8"
      },
      "execution_count": 26,
      "outputs": [
        {
          "output_type": "execute_result",
          "data": {
            "text/plain": [
              "'Dress'"
            ],
            "application/vnd.google.colaboratory.intrinsic+json": {
              "type": "string"
            }
          },
          "metadata": {},
          "execution_count": 26
        }
      ]
    },
    {
      "cell_type": "markdown",
      "source": [
        "El conjunto de validación contiene 5000 imágenes y el conjunto de prueba contiene 10 000 imágenes y el conjunto de entrenamiento 55000:"
      ],
      "metadata": {
        "id": "UUH1pQdkvsu9"
      }
    },
    {
      "cell_type": "code",
      "source": [
        "X_valid.shape"
      ],
      "metadata": {
        "colab": {
          "base_uri": "https://localhost:8080/"
        },
        "id": "Au8Oc4v4vkra",
        "outputId": "3d020f06-fc2c-4e51-8a3b-c6b781a321f3"
      },
      "execution_count": 27,
      "outputs": [
        {
          "output_type": "execute_result",
          "data": {
            "text/plain": [
              "(5000, 28, 28)"
            ]
          },
          "metadata": {},
          "execution_count": 27
        }
      ]
    },
    {
      "cell_type": "code",
      "source": [
        "X_train.shape#se tiene 55,000 imagenes,cada uno representado por una matriz de 28 filas y 28 columnas"
      ],
      "metadata": {
        "id": "1-MPMN3xiqK7",
        "outputId": "72972216-fdab-4e4b-e2ec-4aee7472551e",
        "colab": {
          "base_uri": "https://localhost:8080/"
        }
      },
      "execution_count": 28,
      "outputs": [
        {
          "output_type": "execute_result",
          "data": {
            "text/plain": [
              "(55000, 28, 28)"
            ]
          },
          "metadata": {},
          "execution_count": 28
        }
      ]
    },
    {
      "cell_type": "code",
      "source": [
        "X_test.shape"
      ],
      "metadata": {
        "colab": {
          "base_uri": "https://localhost:8080/"
        },
        "id": "Q0MN3xcxvu1A",
        "outputId": "82e1796b-5063-45d5-dad6-3c534f299af2"
      },
      "execution_count": 29,
      "outputs": [
        {
          "output_type": "execute_result",
          "data": {
            "text/plain": [
              "(10000, 28, 28)"
            ]
          },
          "metadata": {},
          "execution_count": 29
        }
      ]
    },
    {
      "cell_type": "code",
      "source": [
        "y_train.shape"
      ],
      "metadata": {
        "id": "rQKScC3ulSZs",
        "outputId": "7be0bb08-e01a-42ef-88b7-3aaafdb63266",
        "colab": {
          "base_uri": "https://localhost:8080/"
        }
      },
      "execution_count": 30,
      "outputs": [
        {
          "output_type": "execute_result",
          "data": {
            "text/plain": [
              "(55000,)"
            ]
          },
          "metadata": {},
          "execution_count": 30
        }
      ]
    },
    {
      "cell_type": "markdown",
      "source": [
        "Una muestra de las imágenes del conjunto de datos:"
      ],
      "metadata": {
        "id": "3mCKeUOav1Yc"
      }
    },
    {
      "cell_type": "code",
      "source": [
        "n_rows = 4\n",
        "n_cols = 10\n",
        "plt.figure(figsize=(n_cols * 1.2, n_rows * 1.2))\n",
        "for row in range(n_rows):#0,1,2,3\n",
        "    for col in range(n_cols):#0,1,2....9\n",
        "        index = n_cols * row + col\n",
        "        plt.subplot(n_rows, n_cols, index + 1)\n",
        "        plt.imshow(X_train[index], cmap=\"binary\", interpolation=\"nearest\")\n",
        "        plt.axis('off')\n",
        "        plt.title(class_names[y_train[index]], fontsize=12)\n",
        "plt.subplots_adjust(wspace=0.2, hspace=0.5)\n",
        "plt.show()"
      ],
      "metadata": {
        "colab": {
          "base_uri": "https://localhost:8080/",
          "height": 428
        },
        "id": "yPuq1VRavwk7",
        "outputId": "71590cc5-8a87-402c-f05d-59f74f5d8fce"
      },
      "execution_count": 31,
      "outputs": [
        {
          "output_type": "display_data",
          "data": {
            "text/plain": [
              "<Figure size 1200x480 with 40 Axes>"
            ],
            "image/png": "[encoded data removed]"
          },
          "metadata": {}
        }
      ]
    },
    {
      "cell_type": "code",
      "source": [
        "#EJEMPLO DE APLANAR UNA MATRIZ\n",
        "ri=X_train.flatten()#SON 55000 MATRICES DE TAMAÑO 28X28\n",
        "len(ri)#55000x28x28\n",
        "55000*28*28"
      ],
      "metadata": {
        "colab": {
          "base_uri": "https://localhost:8080/"
        },
        "id": "hPAfCXxavK-M",
        "outputId": "eedf5676-6aac-4d68-9701-c73bc9f3460c"
      },
      "execution_count": 34,
      "outputs": [
        {
          "output_type": "execute_result",
          "data": {
            "text/plain": [
              "43120000"
            ]
          },
          "metadata": {},
          "execution_count": 34
        }
      ]
    },
    {
      "cell_type": "markdown",
      "source": [
        "##**Construcción del Modelo Secuencial**"
      ],
      "metadata": {
        "id": "EwWmNlDHwDJZ"
      }
    },
    {
      "cell_type": "markdown",
      "source": [
        "Una forma:"
      ],
      "metadata": {
        "id": "J5K50dSZwKrV"
      }
    },
    {
      "cell_type": "code",
      "source": [
        "model = keras.models.Sequential()\n",
        "model.add(keras.layers.Flatten(input_shape=[28, 28]))#todas las matrices van a una sola fila\n",
        "model.add(keras.layers.Dense(300, activation=\"relu\"))#cada capa densa tiene su matriz de pesos y vallas\n",
        "model.add(keras.layers.Dense(100, activation=\"relu\"))\n",
        "model.add(keras.layers.Dense(10, activation=\"softmax\"))#la sorfmax transforma los 10 numeros de cero a 1"
      ],
      "metadata": {
        "id": "TXORurb-wEd_"
      },
      "execution_count": 36,
      "outputs": []
    },
    {
      "cell_type": "markdown",
      "source": [
        "- La primera línea crea un modelo Sequential. La forma más simple en Keras para definir Redes Neuronales compuestas de un apilado de capas conectadas secuencialmente.\n",
        "- La capa ``Flatten`` tiene el papel de convertircada imagen en un arreglo de 1D: recibe datos X, y hace un ``X.reshape(-1,28*28)``. Esta capa no tiene parámetros. Dado que es la primera capa debe especificarse el ``input_shape``, que no incluye el tamaño de batch.\n",
        "- Se añade una oculta ``Dense`` con 300 neuronas. Usará ReLU como función de activación. Cada capa ``Dense``tiene su propia matriz de pesos y también su vector de bias (una por cada neurona). Cuando recibe datos de entrada calcula $h_{W,b}(X) = \\phi(XW+b)$\n",
        "- Se añade una segunda capa oculta ``Dense`` con 100 neuronas y ReLU.\n",
        "- Finalmenente se añade una capa densa de salida, con 10 neuronas (una por clase),y se usa la función de activación softmax."
      ],
      "metadata": {
        "id": "eRddfL2dzZtE"
      }
    },
    {
      "cell_type": "code",
      "source": [
        "keras.backend.clear_session()\n",
        "np.random.seed(42)\n",
        "tf.random.set_seed(42)"
      ],
      "metadata": {
        "id": "4kHQM6bjwE3h"
      },
      "execution_count": 37,
      "outputs": []
    },
    {
      "cell_type": "markdown",
      "source": [
        "Otra forma:"
      ],
      "metadata": {
        "id": "tWHlda-EwMSu"
      }
    },
    {
      "cell_type": "code",
      "source": [
        "model = keras.models.Sequential([\n",
        "    keras.layers.Flatten(input_shape=[28, 28]),\n",
        "    keras.layers.Dense(300, activation=\"relu\"),\n",
        "    keras.layers.Dense(100, activation=\"relu\"),\n",
        "    keras.layers.Dense(10, activation=\"softmax\")\n",
        "])"
      ],
      "metadata": {
        "id": "lneu3PpkwHM8"
      },
      "execution_count": 38,
      "outputs": []
    },
    {
      "cell_type": "code",
      "source": [
        "model.layers"
      ],
      "metadata": {
        "colab": {
          "base_uri": "https://localhost:8080/"
        },
        "id": "q7lLLjP0wRbx",
        "outputId": "f29fe976-d7f4-417d-be31-55931fcc2c8d"
      },
      "execution_count": 39,
      "outputs": [
        {
          "output_type": "execute_result",
          "data": {
            "text/plain": [
              "[<keras.src.layers.reshaping.flatten.Flatten at 0x7d0980df8fd0>,\n",
              " <keras.src.layers.core.dense.Dense at 0x7d0963366b60>,\n",
              " <keras.src.layers.core.dense.Dense at 0x7d09633670a0>,\n",
              " <keras.src.layers.core.dense.Dense at 0x7d0963367280>]"
            ]
          },
          "metadata": {},
          "execution_count": 39
        }
      ]
    },
    {
      "cell_type": "code",
      "source": [
        "model.summary()"
      ],
      "metadata": {
        "colab": {
          "base_uri": "https://localhost:8080/"
        },
        "id": "imAoR0S7wVr5",
        "outputId": "93d28fd8-dada-4334-f91e-df72cfe63bcf"
      },
      "execution_count": 40,
      "outputs": [
        {
          "output_type": "stream",
          "name": "stdout",
          "text": [
            "Model: \"sequential\"\n",
            "_________________________________________________________________\n",
            " Layer (type)                Output Shape              Param #   \n",
            "=================================================================\n",
            " flatten (Flatten)           (None, 784)               0         \n",
            "                                                                 \n",
            " dense (Dense)               (None, 300)               235500    \n",
            "                                                                 \n",
            " dense_1 (Dense)             (None, 100)               30100     \n",
            "                                                                 \n",
            " dense_2 (Dense)             (None, 10)                1010      \n",
            "                                                                 \n",
            "=================================================================\n",
            "Total params: 266610 (1.02 MB)\n",
            "Trainable params: 266610 (1.02 MB)\n",
            "Non-trainable params: 0 (0.00 Byte)\n",
            "_________________________________________________________________\n"
          ]
        }
      ]
    },
    {
      "cell_type": "code",
      "source": [
        "784*300#la primera capa oculta tiene 23520 pesos"
      ],
      "metadata": {
        "colab": {
          "base_uri": "https://localhost:8080/"
        },
        "id": "5I7RTXqax_Ze",
        "outputId": "cfd4e8e9-a3eb-4360-c164-b502e0635816"
      },
      "execution_count": 41,
      "outputs": [
        {
          "output_type": "execute_result",
          "data": {
            "text/plain": [
              "235200"
            ]
          },
          "metadata": {},
          "execution_count": 41
        }
      ]
    },
    {
      "cell_type": "code",
      "source": [
        "#Aparece none al lado de 784, representa cuantos ejemplos se le va enviar para entrenar, todavia\n",
        "#no se sabe cuanto de va enviar es por eso el none\n",
        "#784x300=235200(pesos)+300(BAYAS) la suma da un total 235500\n",
        "#hay 3 matrices la primera 784x300=235200, segunda 300x100=30000(100 vallas), tercera 100x10=1000(10 vallas)\n"
      ],
      "metadata": {
        "id": "b_Z1SK_OrbhS"
      },
      "execution_count": 42,
      "outputs": []
    },
    {
      "cell_type": "markdown",
      "source": [
        "``sumary()`` despliega todas las capas del modelo, incluyendo su nombre, su dimensión de salida (``None`` el tamaño del batch que puede ser cualquiera), y su número de parámetros."
      ],
      "metadata": {
        "id": "ER_vvIXf2HGr"
      }
    },
    {
      "cell_type": "markdown",
      "source": [
        "Número de Parámetros:\n",
        "- En general las capas densas tienen muchos parámetros.\n",
        "- La primera capa oculta tiene $784\\times 300$ pesos, más 300 términos de bias, lo que totaliza 235500 parámetros.\n",
        "- Esto puede provocar overfitting."
      ],
      "metadata": {
        "id": "kNj6zLVlwUhe"
      }
    },
    {
      "cell_type": "code",
      "source": [
        "keras.utils.plot_model(model, \"my_fashion_mnist_model.png\", show_shapes=True)"
      ],
      "metadata": {
        "colab": {
          "base_uri": "https://localhost:8080/",
          "height": 533
        },
        "id": "UI4GxSeqwjGy",
        "outputId": "b2e39908-8cb7-4601-e14f-44cbed8f7ef2"
      },
      "execution_count": 44,
      "outputs": [
        {
          "output_type": "execute_result",
          "data": {
            "image/png": "[encoded data removed]",
            "text/plain": [
              "<IPython.core.display.Image object>"
            ]
          },
          "metadata": {},
          "execution_count": 44
        }
      ]
    },
    {
      "cell_type": "code",
      "source": [
        "hidden1 = model.layers[1]\n",
        "hidden1.name"
      ],
      "metadata": {
        "colab": {
          "base_uri": "https://localhost:8080/",
          "height": 35
        },
        "id": "MCkf7PIywoBs",
        "outputId": "0d38f817-a4da-4c2b-831a-fe57051f50c1"
      },
      "execution_count": 46,
      "outputs": [
        {
          "output_type": "execute_result",
          "data": {
            "text/plain": [
              "'dense'"
            ],
            "application/vnd.google.colaboratory.intrinsic+json": {
              "type": "string"
            }
          },
          "metadata": {},
          "execution_count": 46
        }
      ]
    },
    {
      "cell_type": "code",
      "source": [
        "model.get_layer(hidden1.name) is hidden1"
      ],
      "metadata": {
        "colab": {
          "base_uri": "https://localhost:8080/"
        },
        "id": "t1wPVJyZwohI",
        "outputId": "ddd5ac09-1301-4815-a8ac-8d9d2c9c831d"
      },
      "execution_count": 47,
      "outputs": [
        {
          "output_type": "execute_result",
          "data": {
            "text/plain": [
              "True"
            ]
          },
          "metadata": {},
          "execution_count": 47
        }
      ]
    },
    {
      "cell_type": "markdown",
      "source": [
        "Todos los parámetros de una capa pueden accesarse usando ``get_weights()`` y ``set_weights()``. Esto incluye los pesos y bias en capas densas."
      ],
      "metadata": {
        "id": "OYwDdbcp3qTs"
      }
    },
    {
      "cell_type": "code",
      "source": [
        "#el set_weigths no permite colocar pesos para tranferlearning"
      ],
      "metadata": {
        "id": "ST5L_LsdurhQ"
      },
      "execution_count": null,
      "outputs": []
    },
    {
      "cell_type": "code",
      "source": [
        "weights, biases = hidden1.get_weights()"
      ],
      "metadata": {
        "id": "Ztc9jV9Dwqrj"
      },
      "execution_count": 48,
      "outputs": []
    },
    {
      "cell_type": "code",
      "source": [
        "weights"
      ],
      "metadata": {
        "colab": {
          "base_uri": "https://localhost:8080/"
        },
        "id": "XO8xT5IYwssO",
        "outputId": "f237219f-29d3-490c-bcbf-5ed3809980ff"
      },
      "execution_count": 49,
      "outputs": [
        {
          "output_type": "execute_result",
          "data": {
            "text/plain": [
              "array([[-0.02602322, -0.01114149, -0.03275417, ...,  0.02263954,\n",
              "        -0.04913366, -0.05441438],\n",
              "       [ 0.03004271,  0.05114335,  0.03027906, ...,  0.01821975,\n",
              "         0.05337888,  0.00546936],\n",
              "       [-0.06658015,  0.00420222, -0.01589675, ..., -0.05793808,\n",
              "         0.01093645, -0.0330196 ],\n",
              "       ...,\n",
              "       [ 0.05309403,  0.02676538,  0.01648774, ...,  0.03199661,\n",
              "         0.05441044,  0.05369824],\n",
              "       [-0.02235197, -0.060784  ,  0.01635075, ...,  0.05445127,\n",
              "         0.02521968, -0.00132784],\n",
              "       [ 0.02511536,  0.0229784 ,  0.02560326, ...,  0.02581191,\n",
              "        -0.01100164,  0.04131155]], dtype=float32)"
            ]
          },
          "metadata": {},
          "execution_count": 49
        }
      ]
    },
    {
      "cell_type": "code",
      "source": [
        "weights.shape # tiene 784 listas de 300 elementos cada una"
      ],
      "metadata": {
        "colab": {
          "base_uri": "https://localhost:8080/"
        },
        "id": "wQM0fJ6pwuuN",
        "outputId": "988048c9-21da-4b79-fc2e-af9a965b0e16"
      },
      "execution_count": 50,
      "outputs": [
        {
          "output_type": "execute_result",
          "data": {
            "text/plain": [
              "(784, 300)"
            ]
          },
          "metadata": {},
          "execution_count": 50
        }
      ]
    },
    {
      "cell_type": "code",
      "source": [
        "len(weights[0])#tamaño de elementos de una fila"
      ],
      "metadata": {
        "colab": {
          "base_uri": "https://localhost:8080/"
        },
        "id": "_OADt-wwIlNm",
        "outputId": "f00ea723-a3d6-49d4-c67a-390a3a597dac"
      },
      "execution_count": 66,
      "outputs": [
        {
          "output_type": "execute_result",
          "data": {
            "text/plain": [
              "300"
            ]
          },
          "metadata": {},
          "execution_count": 66
        }
      ]
    },
    {
      "cell_type": "code",
      "source": [
        "biases"
      ],
      "metadata": {
        "colab": {
          "base_uri": "https://localhost:8080/"
        },
        "id": "tYa3P689wxvQ",
        "outputId": "45fe39d5-1fc0-47e8-8926-db70281e134f"
      },
      "execution_count": 67,
      "outputs": [
        {
          "output_type": "execute_result",
          "data": {
            "text/plain": [
              "array([0., 0., 0., 0., 0., 0., 0., 0., 0., 0., 0., 0., 0., 0., 0., 0., 0.,\n",
              "       0., 0., 0., 0., 0., 0., 0., 0., 0., 0., 0., 0., 0., 0., 0., 0., 0.,\n",
              "       0., 0., 0., 0., 0., 0., 0., 0., 0., 0., 0., 0., 0., 0., 0., 0., 0.,\n",
              "       0., 0., 0., 0., 0., 0., 0., 0., 0., 0., 0., 0., 0., 0., 0., 0., 0.,\n",
              "       0., 0., 0., 0., 0., 0., 0., 0., 0., 0., 0., 0., 0., 0., 0., 0., 0.,\n",
              "       0., 0., 0., 0., 0., 0., 0., 0., 0., 0., 0., 0., 0., 0., 0., 0., 0.,\n",
              "       0., 0., 0., 0., 0., 0., 0., 0., 0., 0., 0., 0., 0., 0., 0., 0., 0.,\n",
              "       0., 0., 0., 0., 0., 0., 0., 0., 0., 0., 0., 0., 0., 0., 0., 0., 0.,\n",
              "       0., 0., 0., 0., 0., 0., 0., 0., 0., 0., 0., 0., 0., 0., 0., 0., 0.,\n",
              "       0., 0., 0., 0., 0., 0., 0., 0., 0., 0., 0., 0., 0., 0., 0., 0., 0.,\n",
              "       0., 0., 0., 0., 0., 0., 0., 0., 0., 0., 0., 0., 0., 0., 0., 0., 0.,\n",
              "       0., 0., 0., 0., 0., 0., 0., 0., 0., 0., 0., 0., 0., 0., 0., 0., 0.,\n",
              "       0., 0., 0., 0., 0., 0., 0., 0., 0., 0., 0., 0., 0., 0., 0., 0., 0.,\n",
              "       0., 0., 0., 0., 0., 0., 0., 0., 0., 0., 0., 0., 0., 0., 0., 0., 0.,\n",
              "       0., 0., 0., 0., 0., 0., 0., 0., 0., 0., 0., 0., 0., 0., 0., 0., 0.,\n",
              "       0., 0., 0., 0., 0., 0., 0., 0., 0., 0., 0., 0., 0., 0., 0., 0., 0.,\n",
              "       0., 0., 0., 0., 0., 0., 0., 0., 0., 0., 0., 0., 0., 0., 0., 0., 0.,\n",
              "       0., 0., 0., 0., 0., 0., 0., 0., 0., 0., 0.], dtype=float32)"
            ]
          },
          "metadata": {},
          "execution_count": 67
        }
      ]
    },
    {
      "cell_type": "markdown",
      "source": [
        "Los pesos son iniciados con valores aleatorios, los bias con ceros. Se puede alterar esto usando el método ``kernel_initializer`` o ``bias_initializer`` al crear la capa."
      ],
      "metadata": {
        "id": "SESXfG-B3-HA"
      }
    },
    {
      "cell_type": "code",
      "source": [
        "biases.shape#se puede iniciliar con los bayas ceros pero no los pesos"
      ],
      "metadata": {
        "colab": {
          "base_uri": "https://localhost:8080/"
        },
        "id": "6vssom_Yw0DC",
        "outputId": "16d12014-bd1b-4be3-e440-8f226b6c22d2"
      },
      "execution_count": 68,
      "outputs": [
        {
          "output_type": "execute_result",
          "data": {
            "text/plain": [
              "(300,)"
            ]
          },
          "metadata": {},
          "execution_count": 68
        }
      ]
    },
    {
      "cell_type": "markdown",
      "source": [
        "##**Compilación del Modelo**"
      ],
      "metadata": {
        "id": "vdCSCsvL4W_I"
      }
    },
    {
      "cell_type": "code",
      "source": [
        "model.compile(loss=\"sparse_categorical_crossentropy\",\n",
        "              optimizer=\"sgd\",\n",
        "              metrics=[\"accuracy\"])"
      ],
      "metadata": {
        "id": "a8P8W3BXw59j"
      },
      "execution_count": 69,
      "outputs": []
    },
    {
      "cell_type": "code",
      "source": [
        "#accuracy proporcion de clases correctamente clasificadas"
      ],
      "metadata": {
        "id": "aZ-iOxVKvP-8"
      },
      "execution_count": null,
      "outputs": []
    },
    {
      "cell_type": "markdown",
      "source": [
        "En el método ``compile()`` se especifica principalmente la función de costo, el optimizador y métricas, entre otros parámetros.\n",
        "\n",
        "- Se usa ``sparse_categorical_crossentropy`` porque se tiene etiquetas en las clases (índices de 0 a 9).\n",
        "- Si tuvieramos codificaciones one_hot (por ejemplo la clase 3 codificada como [0, 0, 0, 1, 0, 0, 0, 0, 0]), entonces se usaría ``categorical_crossentropy``.\n",
        "- Si estuvieramos haciendo clasificación binaria, la función de activación en la capa de salida seria \"sigmoid\" y la función de pérdida usada sería ``binary_crossentropy``.\n",
        "- ``sgd`` indica quee entrenará el modelo usando Stochastic Gradient Descent. En ese sentido es importante tal vez hacer tuning del ``learning_rate``, que por defecti es ``lr=0.01``.\n",
        "- La métrica usada para entrenamiento y validación será ``accuracy``, que en español se traduce en ``exactitud.``\n",
        "\n"
      ],
      "metadata": {
        "id": "vgMOkoiqw-UY"
      }
    },
    {
      "cell_type": "markdown",
      "source": [
        "##**Aprendizaje y entrenamiento**"
      ],
      "metadata": {
        "id": "i_jhCotaxNOW"
      }
    },
    {
      "cell_type": "code",
      "source": [
        "history = model.fit(X_train, y_train, epochs=30,\n",
        "                    validation_data=(X_valid, y_valid))\n",
        "#epochs=30, 30 veces pasan los 55000 datos"
      ],
      "metadata": {
        "colab": {
          "base_uri": "https://localhost:8080/"
        },
        "id": "2thjG-atxGZJ",
        "outputId": "d96b6ff9-04c4-4e46-e747-d0469941452e"
      },
      "execution_count": 70,
      "outputs": [
        {
          "output_type": "stream",
          "name": "stdout",
          "text": [
            "Epoch 1/30\n",
            "1719/1719 [==============================] - 11s 6ms/step - loss: 0.7234 - accuracy: 0.7654 - val_loss: 0.5175 - val_accuracy: 0.8226\n",
            "Epoch 2/30\n",
            "1719/1719 [==============================] - 10s 6ms/step - loss: 0.4897 - accuracy: 0.8298 - val_loss: 0.4367 - val_accuracy: 0.8514\n",
            "Epoch 3/30\n",
            "1719/1719 [==============================] - 11s 6ms/step - loss: 0.4436 - accuracy: 0.8437 - val_loss: 0.5262 - val_accuracy: 0.8028\n",
            "Epoch 4/30\n",
            "1719/1719 [==============================] - 9s 5ms/step - loss: 0.4171 - accuracy: 0.8544 - val_loss: 0.3959 - val_accuracy: 0.8624\n",
            "Epoch 5/30\n",
            "1719/1719 [==============================] - 10s 6ms/step - loss: 0.3980 - accuracy: 0.8601 - val_loss: 0.3777 - val_accuracy: 0.8658\n",
            "Epoch 6/30\n",
            "1719/1719 [==============================] - 11s 6ms/step - loss: 0.3792 - accuracy: 0.8660 - val_loss: 0.3721 - val_accuracy: 0.8736\n",
            "Epoch 7/30\n",
            "1719/1719 [==============================] - 9s 5ms/step - loss: 0.3663 - accuracy: 0.8705 - val_loss: 0.3678 - val_accuracy: 0.8734\n",
            "Epoch 8/30\n",
            "1719/1719 [==============================] - 9s 5ms/step - loss: 0.3546 - accuracy: 0.8746 - val_loss: 0.3957 - val_accuracy: 0.8594\n",
            "Epoch 9/30\n",
            "1719/1719 [==============================] - 10s 6ms/step - loss: 0.3438 - accuracy: 0.8793 - val_loss: 0.3532 - val_accuracy: 0.8736\n",
            "Epoch 10/30\n",
            "1719/1719 [==============================] - 10s 6ms/step - loss: 0.3344 - accuracy: 0.8807 - val_loss: 0.3477 - val_accuracy: 0.8756\n",
            "Epoch 11/30\n",
            "1719/1719 [==============================] - 10s 6ms/step - loss: 0.3262 - accuracy: 0.8841 - val_loss: 0.3406 - val_accuracy: 0.8802\n",
            "Epoch 12/30\n",
            "1719/1719 [==============================] - 12s 7ms/step - loss: 0.3172 - accuracy: 0.8871 - val_loss: 0.3334 - val_accuracy: 0.8784\n",
            "Epoch 13/30\n",
            "1719/1719 [==============================] - 10s 6ms/step - loss: 0.3099 - accuracy: 0.8900 - val_loss: 0.3330 - val_accuracy: 0.8842\n",
            "Epoch 14/30\n",
            "1719/1719 [==============================] - 10s 6ms/step - loss: 0.3039 - accuracy: 0.8908 - val_loss: 0.3497 - val_accuracy: 0.8734\n",
            "Epoch 15/30\n",
            "1719/1719 [==============================] - 9s 5ms/step - loss: 0.2957 - accuracy: 0.8948 - val_loss: 0.3281 - val_accuracy: 0.8822\n",
            "Epoch 16/30\n",
            "1719/1719 [==============================] - 10s 6ms/step - loss: 0.2908 - accuracy: 0.8958 - val_loss: 0.3127 - val_accuracy: 0.8844\n",
            "Epoch 17/30\n",
            "1719/1719 [==============================] - 10s 6ms/step - loss: 0.2850 - accuracy: 0.8978 - val_loss: 0.3603 - val_accuracy: 0.8736\n",
            "Epoch 18/30\n",
            "1719/1719 [==============================] - 9s 5ms/step - loss: 0.2790 - accuracy: 0.8995 - val_loss: 0.3189 - val_accuracy: 0.8864\n",
            "Epoch 19/30\n",
            "1719/1719 [==============================] - 10s 6ms/step - loss: 0.2741 - accuracy: 0.9018 - val_loss: 0.3090 - val_accuracy: 0.8892\n",
            "Epoch 20/30\n",
            "1719/1719 [==============================] - 11s 6ms/step - loss: 0.2688 - accuracy: 0.9033 - val_loss: 0.3313 - val_accuracy: 0.8794\n",
            "Epoch 21/30\n",
            "1719/1719 [==============================] - 10s 6ms/step - loss: 0.2635 - accuracy: 0.9052 - val_loss: 0.3082 - val_accuracy: 0.8878\n",
            "Epoch 22/30\n",
            "1719/1719 [==============================] - 10s 6ms/step - loss: 0.2590 - accuracy: 0.9057 - val_loss: 0.2972 - val_accuracy: 0.8918\n",
            "Epoch 23/30\n",
            "1719/1719 [==============================] - 10s 6ms/step - loss: 0.2545 - accuracy: 0.9080 - val_loss: 0.3019 - val_accuracy: 0.8934\n",
            "Epoch 24/30\n",
            "1719/1719 [==============================] - 11s 6ms/step - loss: 0.2501 - accuracy: 0.9090 - val_loss: 0.3098 - val_accuracy: 0.8900\n",
            "Epoch 25/30\n",
            "1719/1719 [==============================] - 8s 5ms/step - loss: 0.2459 - accuracy: 0.9115 - val_loss: 0.3054 - val_accuracy: 0.8920\n",
            "Epoch 26/30\n",
            "1719/1719 [==============================] - 10s 6ms/step - loss: 0.2410 - accuracy: 0.9140 - val_loss: 0.3064 - val_accuracy: 0.8918\n",
            "Epoch 27/30\n",
            "1719/1719 [==============================] - 10s 6ms/step - loss: 0.2378 - accuracy: 0.9144 - val_loss: 0.3038 - val_accuracy: 0.8900\n",
            "Epoch 28/30\n",
            "1719/1719 [==============================] - 8s 5ms/step - loss: 0.2339 - accuracy: 0.9156 - val_loss: 0.3077 - val_accuracy: 0.8890\n",
            "Epoch 29/30\n",
            "1719/1719 [==============================] - 10s 6ms/step - loss: 0.2302 - accuracy: 0.9177 - val_loss: 0.3091 - val_accuracy: 0.8886\n",
            "Epoch 30/30\n",
            "1719/1719 [==============================] - 10s 6ms/step - loss: 0.2258 - accuracy: 0.9184 - val_loss: 0.3160 - val_accuracy: 0.8890\n"
          ]
        }
      ]
    },
    {
      "cell_type": "markdown",
      "source": [
        "- Es necesario pasar las características de entrada (``X_train``) y clases objetivo (``y_train``), así como el número de épocas. También se pasa el conjunto de validación (no obligatorio).\n",
        "- Otra forma de definir el conjunto de validación seria usando ``validation_split=0.1``, que indica que el 10\\% será usado para validación.\n",
        "- A cada época durante el entrenamiento, se despliega el número de instancias procesadas, el tiempo promedio por ejemplo, el ``loss`` y ``accuracy``, para el conjunto de entrenamiento y validación.\n",
        "- Se puede observar que el ``loss`` va disminuyendo, lo que es bueno. Asimismo el accuracy en validación llega a 89\\% después de 30 épocas, y que no está muy lejos del valor accuracy en entrenamiento. No parece haber overfitting.\n",
        "\n",
        "- Se puede usar el argumento ``class_weight`` al llamar el método ``fit()``, que permite darle un peso diferente a cada clase (atenuar el desbalanceo). Estos pesos serán usados durante el cálculo del costo.\n"
      ],
      "metadata": {
        "id": "-BTU7qoz8E1p"
      }
    },
    {
      "cell_type": "code",
      "source": [
        "#no parece haber overfiting porque la exactitud en el conjunto de entrenamiento y validadcion son\n",
        "#cercanas"
      ],
      "metadata": {
        "id": "e6cqtPi3yq31"
      },
      "execution_count": 71,
      "outputs": []
    },
    {
      "cell_type": "code",
      "source": [
        "history.params"
      ],
      "metadata": {
        "colab": {
          "base_uri": "https://localhost:8080/"
        },
        "id": "9RyPSeAoxOeo",
        "outputId": "fdd67b95-c4a0-4517-bce2-0c853c6c933c"
      },
      "execution_count": 72,
      "outputs": [
        {
          "output_type": "execute_result",
          "data": {
            "text/plain": [
              "{'verbose': 1, 'epochs': 30, 'steps': 1719}"
            ]
          },
          "metadata": {},
          "execution_count": 72
        }
      ]
    },
    {
      "cell_type": "markdown",
      "source": [
        "El objeto ``history``, retornado por fit, permite analizar el resultado de las métricas."
      ],
      "metadata": {
        "id": "NQcUK1qt9ZhE"
      }
    },
    {
      "cell_type": "code",
      "source": [
        "print(history.epoch)"
      ],
      "metadata": {
        "colab": {
          "base_uri": "https://localhost:8080/"
        },
        "id": "UHQzfRc1xr_q",
        "outputId": "de83ebea-546f-4c88-f506-04e35b7aa33d"
      },
      "execution_count": 74,
      "outputs": [
        {
          "output_type": "stream",
          "name": "stdout",
          "text": [
            "[0, 1, 2, 3, 4, 5, 6, 7, 8, 9, 10, 11, 12, 13, 14, 15, 16, 17, 18, 19, 20, 21, 22, 23, 24, 25, 26, 27, 28, 29]\n"
          ]
        }
      ]
    },
    {
      "cell_type": "code",
      "source": [
        "history.history.keys()"
      ],
      "metadata": {
        "colab": {
          "base_uri": "https://localhost:8080/"
        },
        "id": "qBCFWA3OxwJT",
        "outputId": "8711822d-6425-4675-f49a-9afe0861f8f7"
      },
      "execution_count": 75,
      "outputs": [
        {
          "output_type": "execute_result",
          "data": {
            "text/plain": [
              "dict_keys(['loss', 'accuracy', 'val_loss', 'val_accuracy'])"
            ]
          },
          "metadata": {},
          "execution_count": 75
        }
      ]
    },
    {
      "cell_type": "code",
      "source": [
        "import pandas as pd\n",
        "\n",
        "pd.DataFrame(history.history).plot(figsize=(8, 5))\n",
        "plt.grid(True)\n",
        "plt.gca().set_ylim(0, 1)\n",
        "plt.show()"
      ],
      "metadata": {
        "colab": {
          "base_uri": "https://localhost:8080/",
          "height": 456
        },
        "id": "X57tblWxxzkh",
        "outputId": "788b22e5-ffcc-4012-f304-d6930ffdcd6c"
      },
      "execution_count": 77,
      "outputs": [
        {
          "output_type": "display_data",
          "data": {
            "text/plain": [
              "<Figure size 800x500 with 1 Axes>"
            ],
            "image/png": "[encoded data removed]"
          },
          "metadata": {}
        }
      ]
    },
    {
      "cell_type": "markdown",
      "source": [
        "Análisis:"
      ],
      "metadata": {
        "id": "ZpPchydZx9HB"
      }
    },
    {
      "cell_type": "markdown",
      "source": [
        "- Se puede ver que tanto accuracy en validación y entrenamiento se incrementan durante el entrenamiento, mientras que el loss de validación y entrenamiento disminuyen.\n",
        "- Las curvas de validación y entrenamiento son cercanas, lo que indica poco overfitting.\n",
        "- Es usual que el desempeño del conjunto de entrenamiento sea mejor a la larga. En este caso más entrenamiento puede llevar a un accuracy de 89.4 \\% en validación.\n",
        "- Si el desempeño no es el esperado se debe ajustar hiperparámetros: ``learning_rate``, capas ocultas, número de neuronas por capa, funciones de activación, batch (32 por defecto), entre otros.\n",
        "\n"
      ],
      "metadata": {
        "id": "hx-Q0ImE-7-Z"
      }
    },
    {
      "cell_type": "code",
      "source": [
        "#los parametros en una mlp son los pesos y los bayas\n",
        "#los hiperparametros puede ser el numero de neuronas,el numero de capas y ratio de aprendizaje y\n",
        "#tambien la funcion de activacion"
      ],
      "metadata": {
        "id": "o89-tNHC0Wj1"
      },
      "execution_count": 79,
      "outputs": []
    },
    {
      "cell_type": "code",
      "source": [
        "model.evaluate(X_test, y_test)#el conjunto de prueba solo se usa para reportar el desempeño final\n"
      ],
      "metadata": {
        "colab": {
          "base_uri": "https://localhost:8080/"
        },
        "id": "OlUSHyAPx5yb",
        "outputId": "780d4067-eef7-4ffd-ee88-c2cf4e0a3646"
      },
      "execution_count": 80,
      "outputs": [
        {
          "output_type": "stream",
          "name": "stdout",
          "text": [
            "313/313 [==============================] - 1s 3ms/step - loss: 0.3435 - accuracy: 0.8801\n"
          ]
        },
        {
          "output_type": "execute_result",
          "data": {
            "text/plain": [
              "[0.3435029089450836, 0.8801000118255615]"
            ]
          },
          "metadata": {},
          "execution_count": 80
        }
      ]
    },
    {
      "cell_type": "markdown",
      "source": [
        "**Advertencia:**\n",
        "\n",
        "- Es común tener un desempeño inferior en el conjunto de prueba (debido al afinamiento en el conjunto de validación).\n",
        "- Se debe **evitar** hacer un afinamiento de los hiperparámetros sobre el conjunto de prueba, esto haría que mostraramos resultados de generalización muy optimistas."
      ],
      "metadata": {
        "id": "kSqaHY3e-3uP"
      }
    },
    {
      "cell_type": "markdown",
      "source": [
        "Predicciones sobre datos nuevos"
      ],
      "metadata": {
        "id": "1v4lvUoQyA8g"
      }
    },
    {
      "cell_type": "code",
      "source": [
        "X_new = X_test[:3]#consideramos las 3 primeras figuras de prueba\n",
        "y_proba = model.predict(X_new)\n",
        "y_proba.round(2)"
      ],
      "metadata": {
        "colab": {
          "base_uri": "https://localhost:8080/"
        },
        "id": "cuUydiSyx_Sz",
        "outputId": "8cd1a45b-a25a-465a-acee-a771b658a521"
      },
      "execution_count": 82,
      "outputs": [
        {
          "output_type": "stream",
          "name": "stdout",
          "text": [
            "1/1 [==============================] - 0s 27ms/step\n"
          ]
        },
        {
          "output_type": "execute_result",
          "data": {
            "text/plain": [
              "array([[0.  , 0.  , 0.  , 0.  , 0.  , 0.01, 0.  , 0.02, 0.  , 0.97],\n",
              "       [0.  , 0.  , 1.  , 0.  , 0.  , 0.  , 0.  , 0.  , 0.  , 0.  ],\n",
              "       [0.  , 1.  , 0.  , 0.  , 0.  , 0.  , 0.  , 0.  , 0.  , 0.  ]],\n",
              "      dtype=float32)"
            ]
          },
          "metadata": {},
          "execution_count": 82
        }
      ]
    },
    {
      "cell_type": "code",
      "source": [
        "#y_pred = model.predict_classes(X_new) # deprecated\n",
        "y_pred = np.argmax(model.predict(X_new), axis=-1)#np.argmax entrega el indice del mayor valor de la lista\n",
        "y_pred"
      ],
      "metadata": {
        "colab": {
          "base_uri": "https://localhost:8080/"
        },
        "id": "mM5or2lJyMrM",
        "outputId": "7609d178-c76f-490c-c7e3-24c8634d4d3c"
      },
      "execution_count": 85,
      "outputs": [
        {
          "output_type": "stream",
          "name": "stdout",
          "text": [
            "1/1 [==============================] - 0s 28ms/step\n"
          ]
        },
        {
          "output_type": "execute_result",
          "data": {
            "text/plain": [
              "array([9, 2, 1])"
            ]
          },
          "metadata": {},
          "execution_count": 85
        }
      ]
    },
    {
      "cell_type": "code",
      "source": [
        "np.array(class_names)[y_pred]"
      ],
      "metadata": {
        "colab": {
          "base_uri": "https://localhost:8080/"
        },
        "id": "zx_DJs4eyNEh",
        "outputId": "1d1f9349-e6f2-4aa8-da70-bc2a5e6cf838"
      },
      "execution_count": 86,
      "outputs": [
        {
          "output_type": "execute_result",
          "data": {
            "text/plain": [
              "array(['Ankle boot', 'Pullover', 'Trouser'], dtype='<U11')"
            ]
          },
          "metadata": {},
          "execution_count": 86
        }
      ]
    },
    {
      "cell_type": "code",
      "source": [
        "y_new = y_test[:3]#los 3 primeros figuras son 9,2,1\n",
        "y_new#lo que predijo es lo mismo que realmente se tiene"
      ],
      "metadata": {
        "colab": {
          "base_uri": "https://localhost:8080/"
        },
        "id": "ZHVwxSfYyPy0",
        "outputId": "191efbcd-4cbb-444e-b6ea-720ed9d0dc8d"
      },
      "execution_count": 89,
      "outputs": [
        {
          "output_type": "execute_result",
          "data": {
            "text/plain": [
              "array([9, 2, 1], dtype=uint8)"
            ]
          },
          "metadata": {},
          "execution_count": 89
        }
      ]
    },
    {
      "cell_type": "code",
      "source": [
        "plt.figure(figsize=(7.2, 2.4))\n",
        "for index, image in enumerate(X_new):\n",
        "    plt.subplot(1, 3, index + 1)\n",
        "    plt.imshow(image, cmap=\"binary\", interpolation=\"nearest\")\n",
        "    plt.axis('off')\n",
        "    plt.title(class_names[y_test[index]], fontsize=12)\n",
        "plt.subplots_adjust(wspace=0.2, hspace=0.5)\n",
        "plt.show()"
      ],
      "metadata": {
        "colab": {
          "base_uri": "https://localhost:8080/",
          "height": 223
        },
        "id": "HA79gG6UyScG",
        "outputId": "1c80c8da-e313-4cdc-f5b9-3c5a3bb09ce4"
      },
      "execution_count": 90,
      "outputs": [
        {
          "output_type": "display_data",
          "data": {
            "text/plain": [
              "<Figure size 720x240 with 3 Axes>"
            ],
            "image/png": "[encoded data removed]"
          },
          "metadata": {}
        }
      ]
    }
  ]
}
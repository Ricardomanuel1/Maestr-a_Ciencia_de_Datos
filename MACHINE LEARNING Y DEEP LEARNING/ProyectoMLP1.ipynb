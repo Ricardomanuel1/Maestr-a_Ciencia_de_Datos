{
  "nbformat": 4,
  "nbformat_minor": 0,
  "metadata": {
    "colab": {
      "provenance": [],
      "gpuType": "T4",
      "include_colab_link": true
    },
    "kernelspec": {
      "name": "python3",
      "display_name": "Python 3"
    },
    "language_info": {
      "name": "python"
    },
    "accelerator": "GPU"
  },
  "cells": [
    {
      "cell_type": "markdown",
      "metadata": {
        "id": "view-in-github",
        "colab_type": "text"
      },
      "source": [
        "<a href=\"https://colab.research.google.com/github/Ricardomanuel1/Maestria_Ciencia_de_Datos/blob/main/MACHINE%20LEARNING%20Y%20DEEP%20LEARNING/ProyectoMLP1.ipynb\" target=\"_parent\"><img src=\"https://colab.research.google.com/assets/colab-badge.svg\" alt=\"Open In Colab\"/></a>"
      ]
    },
    {
      "cell_type": "markdown",
      "source": [
        "#**Primer Proyecto de MLPs**\n",
        "\n",
        "- El objetivo de este ejercicio es revisar todos los conceptos vistos en clase hasta ahora, para construir una arquitectura de red neuronal completamente conectada (MLP), que tenga el mejor desempeño posible sobre una tarea dada.\n",
        "\n",
        "- La idea es que a través de la experimentación, lleguemos a construir un modelo robusto, que sirva como base para resolver otras tareas similares.\n",
        "\n",
        "- El problema a resolver es de clasificación de imágenes usando CIFAR10."
      ],
      "metadata": {
        "id": "bCWyQIVHOfbe"
      }
    },
    {
      "cell_type": "markdown",
      "source": [
        "##**Conjunto de Datos**\n",
        "\n",
        "El conjunto de datos CIFAR10 tiene imágenes de 32x32 píxeles. Hay 50.000 imágenes de entrenamiento y 10.000 imágenes de pruebas. Cada imagen en CIFAR10 tiene asignada una de las diez clases disponibles.\n"
      ],
      "metadata": {
        "id": "PUABO_FJOgDA"
      }
    },
    {
      "cell_type": "code",
      "source": [
        "# Python ≥3.5 is required\n",
        "import sys\n",
        "assert sys.version_info >= (3, 5)\n",
        "\n",
        "# Scikit-Learn ≥0.20 is required\n",
        "import sklearn\n",
        "assert sklearn.__version__ >= \"0.20\"\n",
        "\n",
        "try:\n",
        "    # %tensorflow_version only exists in Colab.\n",
        "    %tensorflow_version 2.x\n",
        "except Exception:\n",
        "    pass\n",
        "\n",
        "# TensorFlow ≥2.0 is required\n",
        "import tensorflow as tf\n",
        "assert tf.__version__ >= \"2.0\"\n",
        "%matplotlib inline\n",
        "import matplotlib as mpl\n",
        "import matplotlib.pyplot as plt\n",
        "mpl.rc('axes', labelsize=14)\n",
        "mpl.rc('xtick', labelsize=12)\n",
        "mpl.rc('ytick', labelsize=12)\n",
        "import numpy as np\n",
        "\n",
        "\n",
        "\n"
      ],
      "metadata": {
        "id": "1BD7tqzUYqaT",
        "outputId": "36bfc42b-810c-48b1-e3e5-b398eb9518bb",
        "colab": {
          "base_uri": "https://localhost:8080/"
        }
      },
      "execution_count": 3,
      "outputs": [
        {
          "output_type": "stream",
          "name": "stdout",
          "text": [
            "Colab only includes TensorFlow 2.x; %tensorflow_version has no effect.\n"
          ]
        }
      ]
    },
    {
      "cell_type": "code",
      "source": [
        "from tensorflow import keras\n",
        "from sklearn.model_selection import train_test_split\n",
        "#from tensorflow.keras.layers import Input, Dense, concatenate\n",
        "#from tensorflow.keras.models import Model"
      ],
      "metadata": {
        "id": "_OmTprhNZn9J"
      },
      "execution_count": 2,
      "outputs": []
    },
    {
      "cell_type": "markdown",
      "source": [
        "##**Etapas mínimas a realizar**"
      ],
      "metadata": {
        "id": "w1IUsNvEPnCN"
      }
    },
    {
      "cell_type": "markdown",
      "source": [
        "Las etapas se encuentran enumeradas\n",
        "\n",
        "\n",
        "\n",
        "\n",
        "\n",
        "\n",
        "\n",
        "\n",
        "\n",
        "\n",
        "\n",
        "\n"
      ],
      "metadata": {
        "id": "rhPWuSdwPsRz"
      }
    },
    {
      "cell_type": "markdown",
      "source": [
        "1. Separar los conjuntos de entrenamiento, validación y prueba correspondientes."
      ],
      "metadata": {
        "id": "iaZFx-bSwNrb"
      }
    },
    {
      "cell_type": "code",
      "source": [
        "(X_train_full, y_train_full), (X_test, y_test)=tf.keras.datasets.cifar10.load_data()\n",
        "X_train, X_valid, y_train, y_valid = train_test_split(X_train_full, y_train_full, random_state=42)\n",
        "# conservamos la separacion entre entrenamiento X_train_full (50000) y prueba X_test (10000)\n",
        "#separamos aleatoriamente X_train (37500) y X_valid (12500)"
      ],
      "metadata": {
        "id": "kn9BLjo0Q8ec",
        "outputId": "1a17747b-db7c-4102-b0f3-4e184b828aa2",
        "colab": {
          "base_uri": "https://localhost:8080/"
        }
      },
      "execution_count": 3,
      "outputs": [
        {
          "output_type": "stream",
          "name": "stdout",
          "text": [
            "Downloading data from https://www.cs.toronto.edu/~kriz/cifar-10-python.tar.gz\n",
            "170498071/170498071 [==============================] - 6s 0us/step\n"
          ]
        }
      ]
    },
    {
      "cell_type": "code",
      "source": [
        "assert X_train_full.shape == (50000, 32, 32, 3)\n",
        "assert y_train_full.shape == (50000, 1)\n",
        "assert y_test.shape == (10000, 1)\n",
        "assert X_train.shape == (37500, 32, 32, 3)\n",
        "assert X_valid.shape == (12500, 32, 32, 3)"
      ],
      "metadata": {
        "id": "htF9EWg1VgB_"
      },
      "execution_count": 4,
      "outputs": []
    },
    {
      "cell_type": "code",
      "source": [
        "clases_names = ['airplane','automobile','bird','cat','deer','dog','frog','horse','ship','truck']"
      ],
      "metadata": {
        "id": "D9f-S61KeLdp"
      },
      "execution_count": 5,
      "outputs": []
    },
    {
      "cell_type": "code",
      "source": [
        "#Imprimimos los primeros 20 objetos\n",
        "n_rows = 2\n",
        "n_cols = 10\n",
        "\n",
        "plt.figure(figsize=(n_cols * 1.2, n_rows * 1.2))\n",
        "\n",
        "for row in range(n_rows):\n",
        "    for col in range(n_cols):#\n",
        "        index = n_cols * row + col\n",
        "        plt.subplot(n_rows, n_cols, index + 1)\n",
        "\n",
        "        plt.imshow(X_train_full[index], cmap=\"binary\", interpolation=\"nearest\")\n",
        "        plt.axis('off')\n",
        "        #plt.title(clases_names[y_train_full[index]], fontsize=12)\n",
        "\n",
        "plt.subplots_adjust(wspace=0.2, hspace=0.5)\n",
        "plt.show()"
      ],
      "metadata": {
        "id": "f_9Bpmbae8Rg",
        "outputId": "84724984-b56a-4103-e60c-d9d02bc44b47",
        "colab": {
          "base_uri": "https://localhost:8080/",
          "height": 221
        }
      },
      "execution_count": 6,
      "outputs": [
        {
          "output_type": "display_data",
          "data": {
            "text/plain": [
              "<Figure size 1200x240 with 20 Axes>"
            ],
            "image/png": "[encoded data removed]"
          },
          "metadata": {}
        }
      ]
    },
    {
      "cell_type": "code",
      "source": [
        "X_train = X_train.reshape((X_train.shape[0], 32 * 32 * 3))\n",
        "X_valid=X_valid.reshape((X_valid.shape[0], 32 * 32 * 3))\n",
        "X_test = X_test.reshape((X_test.shape[0], 32 * 32 * 3))"
      ],
      "metadata": {
        "id": "bfbidWFwzr_C"
      },
      "execution_count": 7,
      "outputs": []
    },
    {
      "cell_type": "markdown",
      "source": [
        "2. Aplicar escala y normalización, si lo cree conveniente."
      ],
      "metadata": {
        "id": "ThxIsfSSY_6J"
      }
    },
    {
      "cell_type": "code",
      "source": [
        "#Reducimos las intensidades de los píxeles al rango 0-1 dividiéndolas por 255.\n",
        "#con ello normalizamos los datos y evitamos inestabilidad numérica\n",
        "X_train=X_train/255\n",
        "X_valid=X_valid/255\n",
        "X_test=X_test/255"
      ],
      "metadata": {
        "id": "a0fswMqAdwPV"
      },
      "execution_count": 8,
      "outputs": []
    },
    {
      "cell_type": "markdown",
      "source": [
        "3. Usar el enfoque funcional (functional API) para definir la arquitectura de la red neuronal MLP."
      ],
      "metadata": {
        "id": "eYJuTRYFwV9S"
      }
    },
    {
      "cell_type": "markdown",
      "source": [
        "Se va definir una red neuronal no secuencial de enfoque functional API(wide and deep) con una sola entrada correspondiente al conjunto de entrenamiento. Esta arquitectura de red neuronal permite que aprenda tanto patrones profundos y reglas simples."
      ],
      "metadata": {
        "id": "GBb7Led19Pge"
      }
    },
    {
      "cell_type": "markdown",
      "source": [
        "4. La arquitectura debe ser profunda, con por lo menos 5 capas densas. Definir un número de neuronas para cada capa oculta, función de costo y justificar esas elecciones."
      ],
      "metadata": {
        "id": "nKnhkUbYwjEV"
      }
    },
    {
      "cell_type": "markdown",
      "source": [
        "El número de neuronas se va definir cuando se realice el entrenamiento, por ahora seleccionamos 300 neuronas en cada capa densa ya cuando realizamos el entrenamiento podremos cambiar con otro numero si el accuracy es bajo."
      ],
      "metadata": {
        "id": "wjTi6NmBG4Sl"
      }
    },
    {
      "cell_type": "code",
      "source": [
        "np.random.seed(42)\n",
        "tf.random.set_seed(42)"
      ],
      "metadata": {
        "id": "BZxYbeMr8t9s"
      },
      "execution_count": 9,
      "outputs": []
    },
    {
      "cell_type": "code",
      "source": [
        "#input_ = keras.layers.Input(shape=(32,32,3))\n",
        "\n",
        "input_= keras.layers.Input(shape=X_train.shape[1:])\n",
        "hidden1 = keras.layers.Dense(500, activation='relu')(input_)\n",
        "hidden2 = keras.layers.Dense(400, activation='relu')(hidden1)\n",
        "hidden3 = keras.layers.Dense(300, activation='relu')(hidden2)\n",
        "hidden4 = keras.layers.Dense(200, activation='relu')(hidden3)\n",
        "hidden5 = keras.layers.Dense(100, activation='relu')(hidden4)\n",
        "\n",
        "concat = keras.layers.concatenate([input_, hidden5])\n",
        "\n",
        "output = keras.layers.Dense(10,activation='softmax')(concat)\n",
        "\n",
        "model = keras.models.Model(inputs=[input_], outputs=[output])"
      ],
      "metadata": {
        "id": "gtvOXsZB8vB_"
      },
      "execution_count": null,
      "outputs": []
    },
    {
      "cell_type": "code",
      "source": [
        "model.summary()"
      ],
      "metadata": {
        "id": "nUHMvd6F82aH",
        "outputId": "0a9d197d-1ab3-467a-fea6-4b6aa381c531",
        "colab": {
          "base_uri": "https://localhost:8080/"
        }
      },
      "execution_count": null,
      "outputs": [
        {
          "output_type": "stream",
          "name": "stdout",
          "text": [
            "Model: \"model_3\"\n",
            "__________________________________________________________________________________________________\n",
            " Layer (type)                Output Shape                 Param #   Connected to                  \n",
            "==================================================================================================\n",
            " input_4 (InputLayer)        [(None, 3072)]               0         []                            \n",
            "                                                                                                  \n",
            " dense_18 (Dense)            (None, 500)                  1536500   ['input_4[0][0]']             \n",
            "                                                                                                  \n",
            " dense_19 (Dense)            (None, 400)                  200400    ['dense_18[0][0]']            \n",
            "                                                                                                  \n",
            " dense_20 (Dense)            (None, 300)                  120300    ['dense_19[0][0]']            \n",
            "                                                                                                  \n",
            " dense_21 (Dense)            (None, 200)                  60200     ['dense_20[0][0]']            \n",
            "                                                                                                  \n",
            " dense_22 (Dense)            (None, 100)                  20100     ['dense_21[0][0]']            \n",
            "                                                                                                  \n",
            " concatenate_3 (Concatenate  (None, 3172)                 0         ['input_4[0][0]',             \n",
            " )                                                                   'dense_22[0][0]']            \n",
            "                                                                                                  \n",
            " dense_23 (Dense)            (None, 10)                   31730     ['concatenate_3[0][0]']       \n",
            "                                                                                                  \n",
            "==================================================================================================\n",
            "Total params: 1969230 (7.51 MB)\n",
            "Trainable params: 1969230 (7.51 MB)\n",
            "Non-trainable params: 0 (0.00 Byte)\n",
            "__________________________________________________________________________________________________\n"
          ]
        }
      ]
    },
    {
      "cell_type": "code",
      "source": [
        "keras.utils.plot_model(model, \"my_cifar10_model.png\", show_shapes=True)"
      ],
      "metadata": {
        "id": "T1dU0esds1G3",
        "outputId": "670ed381-7b10-47fe-b11b-119748c02c93",
        "colab": {
          "base_uri": "https://localhost:8080/",
          "height": 865
        }
      },
      "execution_count": null,
      "outputs": [
        {
          "output_type": "execute_result",
          "data": {
            "image/png": "[encoded data removed]",
            "text/plain": [
              "<IPython.core.display.Image object>"
            ]
          },
          "metadata": {},
          "execution_count": 41
        }
      ]
    },
    {
      "cell_type": "code",
      "source": [
        "#compilamos el modelo con la función de costo y el optimizador\n",
        "model.compile(loss=\"sparse_categorical_crossentropy\",\n",
        "              optimizer=\"adam\",\n",
        "              metrics=[\"accuracy\"])\n",
        "\n",
        "#optimizer=keras.optimizers.SGD(learning_rate=1e-3)\n",
        "#optimizer='adam'"
      ],
      "metadata": {
        "id": "rMbq4NsYtEFs"
      },
      "execution_count": null,
      "outputs": []
    },
    {
      "cell_type": "markdown",
      "source": [
        " Para la arquitectura de nuestro modelo inicimos con 300 neuronas en todas las capas, pero puede variar el número  de neuronas según el resultado del accuracy, utilizamos como función de costo (sparse_categorical_crossentropy) porque se tiene etiquetas con las clases(indices de 0 a 9) y la métrica que usaremos para entrenamiento y validación será accuracy por ser un problema de clasificacion"
      ],
      "metadata": {
        "id": "xljQ-QrnEuZC"
      }
    },
    {
      "cell_type": "markdown",
      "source": [
        "5. Usar Callbacks: ModelCheckpoint y EarlyStopping al momento de entrenar."
      ],
      "metadata": {
        "id": "N-HxFfdLwvhM"
      }
    },
    {
      "cell_type": "code",
      "source": [
        "#usamos el callbacks para guardar checkpoints e interrumpir cuando no hay progreso\n",
        "checkpoint_cb = keras.callbacks.ModelCheckpoint(\"mi_modelo1_keras.h5\", save_best_only=True)\n",
        "early_stopping_cb = keras.callbacks.EarlyStopping(patience=5,\n",
        "                                                  restore_best_weights=True)"
      ],
      "metadata": {
        "id": "hEpj38Y0vajf"
      },
      "execution_count": null,
      "outputs": []
    },
    {
      "cell_type": "code",
      "source": [
        "history = model.fit(X_train, y_train, epochs=100,\n",
        "                    validation_data=(X_valid, y_valid),\n",
        "                    callbacks=[checkpoint_cb,early_stopping_cb])\n",
        "\n",
        "model = keras.models.load_model(\"mi_modelo1_keras.h5\")"
      ],
      "metadata": {
        "id": "r2l6mjgnwioE",
        "outputId": "5aeb8789-35c7-49dc-8f33-7b81b025ce6f",
        "colab": {
          "base_uri": "https://localhost:8080/"
        }
      },
      "execution_count": null,
      "outputs": [
        {
          "output_type": "stream",
          "name": "stdout",
          "text": [
            "Epoch 1/100\n",
            "1172/1172 [==============================] - 8s 6ms/step - loss: 1.9764 - accuracy: 0.3102 - val_loss: 1.8720 - val_accuracy: 0.3514\n",
            "Epoch 2/100\n",
            "1172/1172 [==============================] - 6s 5ms/step - loss: 1.8835 - accuracy: 0.3456 - val_loss: 1.8678 - val_accuracy: 0.3494\n",
            "Epoch 3/100\n",
            "1172/1172 [==============================] - 6s 5ms/step - loss: 1.8540 - accuracy: 0.3638 - val_loss: 1.9687 - val_accuracy: 0.3273\n",
            "Epoch 4/100\n",
            "1172/1172 [==============================] - 6s 5ms/step - loss: 1.8340 - accuracy: 0.3710 - val_loss: 1.8897 - val_accuracy: 0.3547\n",
            "Epoch 5/100\n",
            "1172/1172 [==============================] - 6s 5ms/step - loss: 1.8300 - accuracy: 0.3751 - val_loss: 1.8352 - val_accuracy: 0.3633\n",
            "Epoch 6/100\n",
            "1172/1172 [==============================] - 7s 6ms/step - loss: 1.8233 - accuracy: 0.3799 - val_loss: 1.7975 - val_accuracy: 0.3804\n",
            "Epoch 7/100\n",
            "1172/1172 [==============================] - 6s 5ms/step - loss: 1.8249 - accuracy: 0.3803 - val_loss: 1.8133 - val_accuracy: 0.3802\n",
            "Epoch 8/100\n",
            "1172/1172 [==============================] - 6s 5ms/step - loss: 1.8078 - accuracy: 0.3841 - val_loss: 1.9420 - val_accuracy: 0.3423\n",
            "Epoch 9/100\n",
            "1172/1172 [==============================] - 6s 5ms/step - loss: 1.7998 - accuracy: 0.3881 - val_loss: 1.8027 - val_accuracy: 0.3914\n",
            "Epoch 10/100\n",
            "1172/1172 [==============================] - 6s 5ms/step - loss: 1.7919 - accuracy: 0.3887 - val_loss: 1.8129 - val_accuracy: 0.3767\n",
            "Epoch 11/100\n",
            "1172/1172 [==============================] - 6s 5ms/step - loss: 1.7874 - accuracy: 0.3914 - val_loss: 1.8398 - val_accuracy: 0.3725\n"
          ]
        }
      ]
    },
    {
      "cell_type": "markdown",
      "source": [
        "Se obtiene un accuracy de 0.3914, todavía muy bajo por tanto, es necesario realizar algunos ajustes a nuestro modelo con la finalidad de mejorar esta métrica."
      ],
      "metadata": {
        "id": "xVNqQb1bGjr_"
      }
    },
    {
      "cell_type": "markdown",
      "source": [
        "6. Mostrar el gráfico de la función de costo en tiempo de entrenamiento vs tiempo de validación, para verificar si hay overfitting."
      ],
      "metadata": {
        "id": "0gmAAlYjw2C9"
      }
    },
    {
      "cell_type": "code",
      "source": [
        "import pandas as pd\n",
        "\n",
        "pd.DataFrame(history.history).plot(figsize=(8, 5))\n",
        "plt.grid(True)\n",
        "plt.gca().set_ylim(0, 1)\n",
        "plt.show()"
      ],
      "metadata": {
        "id": "vE_6BcDgRdfL",
        "outputId": "c20a5615-1b1a-470a-e094-6347218e8af6",
        "colab": {
          "base_uri": "https://localhost:8080/",
          "height": 456
        }
      },
      "execution_count": null,
      "outputs": [
        {
          "output_type": "display_data",
          "data": {
            "text/plain": [
              "<Figure size 800x500 with 1 Axes>"
            ],
            "image/png": "[encoded data removed]"
          },
          "metadata": {}
        }
      ]
    },
    {
      "cell_type": "markdown",
      "source": [
        "No se aprecia distanciamiento entre ambos gráficos por consiguiente podrías decir que no existe overfitting"
      ],
      "metadata": {
        "id": "EKR1wke5I1wN"
      }
    },
    {
      "cell_type": "markdown",
      "source": [
        "6. Definir una función de activación y también un mecanismo de inicialización de pesos. Justificar esta elección."
      ],
      "metadata": {
        "id": "XkmZ70vVxAaZ"
      }
    },
    {
      "cell_type": "markdown",
      "source": [
        "A nuestro modelo ya definido le agregamos el inicializador de pesos y como nuestra función de activación con la que veniamos trabajando es relu le corresponde un inicializador he_normal. Esto se realiza con el objetivo de prevenir que los gradientes se vuelvan demasiado grandes o demasiado pequeños durante el entrenamiento"
      ],
      "metadata": {
        "id": "BqG9cwHmpA-2"
      }
    },
    {
      "cell_type": "code",
      "source": [
        "input_= keras.layers.Input(shape=X_train.shape[1:])\n",
        "hidden1 = keras.layers.Dense(500, activation=\"relu\",kernel_initializer=\"he_normal\")(input_)\n",
        "hidden2 = keras.layers.Dense(400, activation=\"relu\",kernel_initializer=\"he_normal\")(hidden1)\n",
        "hidden3 = keras.layers.Dense(300, activation=\"relu\",kernel_initializer=\"he_normal\")(hidden2)\n",
        "hidden4 = keras.layers.Dense(200, activation=\"relu\",kernel_initializer=\"he_normal\")(hidden3)\n",
        "hidden5 = keras.layers.Dense(100, activation=\"relu\",kernel_initializer=\"he_normal\")(hidden4)\n",
        "\n",
        "concat = keras.layers.concatenate([input_, hidden5])\n",
        "\n",
        "output = keras.layers.Dense(10,activation=\"softmax\",kernel_initializer=\"he_normal\")(concat)\n",
        "\n",
        "model = keras.models.Model(inputs=[input_], outputs=[output])"
      ],
      "metadata": {
        "id": "jUp9Z3VhJorA"
      },
      "execution_count": null,
      "outputs": []
    },
    {
      "cell_type": "code",
      "source": [
        "model.compile(loss=\"sparse_categorical_crossentropy\",\n",
        "              optimizer=\"adam\",\n",
        "              metrics=[\"accuracy\"])"
      ],
      "metadata": {
        "id": "6Jc4O11sYYSw"
      },
      "execution_count": null,
      "outputs": []
    },
    {
      "cell_type": "code",
      "source": [
        "checkpoint_cb = keras.callbacks.ModelCheckpoint(\"mi_modelo2_keras.h5\", save_best_only=True)\n",
        "early_stopping_cb = keras.callbacks.EarlyStopping(patience=5,\n",
        "                                                  restore_best_weights=True)"
      ],
      "metadata": {
        "id": "R_iTIVGzYZEI"
      },
      "execution_count": null,
      "outputs": []
    },
    {
      "cell_type": "code",
      "source": [
        "history = model.fit(X_train, y_train, epochs=100,\n",
        "                    validation_data=(X_valid, y_valid),\n",
        "                    callbacks=[checkpoint_cb,early_stopping_cb])\n",
        "\n",
        "model = keras.models.load_model(\"mi_modelo2_keras.h5\")"
      ],
      "metadata": {
        "id": "HnYuqizNWKYe",
        "outputId": "ecb1fb05-6b13-4727-85c6-6ee098ebfecc",
        "colab": {
          "base_uri": "https://localhost:8080/"
        }
      },
      "execution_count": null,
      "outputs": [
        {
          "output_type": "stream",
          "name": "stdout",
          "text": [
            "Epoch 1/100\n",
            "1172/1172 [==============================] - 8s 6ms/step - loss: 1.9762 - accuracy: 0.3098 - val_loss: 1.8786 - val_accuracy: 0.3502\n",
            "Epoch 2/100\n",
            "  14/1172 [..............................] - ETA: 4s - loss: 1.8204 - accuracy: 0.3482"
          ]
        },
        {
          "output_type": "stream",
          "name": "stderr",
          "text": [
            "/usr/local/lib/python3.10/dist-packages/keras/src/engine/training.py:3103: UserWarning: You are saving your model as an HDF5 file via `model.save()`. This file format is considered legacy. We recommend using instead the native Keras format, e.g. `model.save('my_model.keras')`.\n",
            "  saving_api.save_model(\n"
          ]
        },
        {
          "output_type": "stream",
          "name": "stdout",
          "text": [
            "1172/1172 [==============================] - 6s 5ms/step - loss: 1.8874 - accuracy: 0.3453 - val_loss: 1.8677 - val_accuracy: 0.3502\n",
            "Epoch 3/100\n",
            "1172/1172 [==============================] - 7s 6ms/step - loss: 1.8553 - accuracy: 0.3621 - val_loss: 1.9755 - val_accuracy: 0.3267\n",
            "Epoch 4/100\n",
            "1172/1172 [==============================] - 6s 5ms/step - loss: 1.8363 - accuracy: 0.3709 - val_loss: 1.8935 - val_accuracy: 0.3545\n",
            "Epoch 5/100\n",
            "1172/1172 [==============================] - 7s 6ms/step - loss: 1.8302 - accuracy: 0.3752 - val_loss: 1.8367 - val_accuracy: 0.3612\n",
            "Epoch 6/100\n",
            "1172/1172 [==============================] - 8s 7ms/step - loss: 1.8231 - accuracy: 0.3791 - val_loss: 1.8066 - val_accuracy: 0.3770\n",
            "Epoch 7/100\n",
            "1172/1172 [==============================] - 8s 7ms/step - loss: 1.8247 - accuracy: 0.3799 - val_loss: 1.8165 - val_accuracy: 0.3782\n",
            "Epoch 8/100\n",
            "1172/1172 [==============================] - 6s 5ms/step - loss: 1.8078 - accuracy: 0.3843 - val_loss: 1.9381 - val_accuracy: 0.3408\n",
            "Epoch 9/100\n",
            "1172/1172 [==============================] - 8s 7ms/step - loss: 1.7988 - accuracy: 0.3866 - val_loss: 1.8018 - val_accuracy: 0.3919\n",
            "Epoch 10/100\n",
            "1172/1172 [==============================] - 7s 6ms/step - loss: 1.7908 - accuracy: 0.3890 - val_loss: 1.8119 - val_accuracy: 0.3765\n",
            "Epoch 11/100\n",
            "1172/1172 [==============================] - 8s 7ms/step - loss: 1.7865 - accuracy: 0.3918 - val_loss: 1.8402 - val_accuracy: 0.3750\n",
            "Epoch 12/100\n",
            "1172/1172 [==============================] - 6s 5ms/step - loss: 1.7860 - accuracy: 0.3920 - val_loss: 1.8984 - val_accuracy: 0.3748\n",
            "Epoch 13/100\n",
            "1172/1172 [==============================] - 6s 5ms/step - loss: 1.7807 - accuracy: 0.3932 - val_loss: 1.9248 - val_accuracy: 0.3386\n",
            "Epoch 14/100\n",
            "1172/1172 [==============================] - 5s 5ms/step - loss: 1.7869 - accuracy: 0.3907 - val_loss: 1.8129 - val_accuracy: 0.3723\n"
          ]
        }
      ]
    },
    {
      "cell_type": "markdown",
      "source": [
        "Considerando el inicializador de pesos en cada capa con la finalidad que el aprendizaje mejore, logramos obtener un accuracy de 0.3907 y en comparación con el modelo anterior no logramos apreciar una mejora significativa."
      ],
      "metadata": {
        "id": "3e5QCptsJkrv"
      }
    },
    {
      "cell_type": "markdown",
      "source": [
        "7. Usar el mecanismo de Batch Normalization. Justificar la elección de sus hiperparámetros."
      ],
      "metadata": {
        "id": "UF-B-NB5xFJX"
      }
    },
    {
      "cell_type": "markdown",
      "source": [
        "\n"
      ],
      "metadata": {
        "id": "y_KNbr45zT-Y"
      }
    },
    {
      "cell_type": "code",
      "source": [
        "tf.keras.backend.clear_session()\n",
        "tf.random.set_seed(42)"
      ],
      "metadata": {
        "id": "s9SQuVKyaKsK"
      },
      "execution_count": null,
      "outputs": []
    },
    {
      "cell_type": "code",
      "source": [
        "input_= keras.layers.Input(shape=X_train.shape[1:])\n",
        "\n",
        "bn_1 = keras.layers.BatchNormalization(momentum=0.999)(input_)\n",
        "hidden1 = keras.layers.Dense(500, activation=\"relu\",kernel_initializer=\"he_normal\")(bn_1)\n",
        "\n",
        "bn_2 = keras.layers.BatchNormalization(momentum=0.999)(hidden1)\n",
        "hidden2 = keras.layers.Dense(400, activation=\"relu\",kernel_initializer=\"he_normal\")(bn_2)\n",
        "\n",
        "bn_3 = keras.layers.BatchNormalization(momentum=0.999)(hidden2)\n",
        "hidden3 = keras.layers.Dense(300, activation=\"relu\",kernel_initializer=\"he_normal\")(bn_3)\n",
        "\n",
        "bn_4 = keras.layers.BatchNormalization(momentum=0.999)(hidden3)\n",
        "hidden4 = keras.layers.Dense(200, activation=\"relu\",kernel_initializer=\"he_normal\")(bn_4)\n",
        "\n",
        "bn_5 = keras.layers.BatchNormalization(momentum=0.999)(hidden4)\n",
        "hidden5 = keras.layers.Dense(100, activation=\"relu\",kernel_initializer=\"he_normal\")(bn_5)\n",
        "\n",
        "concat = keras.layers.concatenate([input_, hidden5])\n",
        "\n",
        "bn_6 = keras.layers.BatchNormalization(momentum=0.999)(concat)\n",
        "output = keras.layers.Dense(10,activation=\"softmax\",kernel_initializer=\"he_normal\")(bn_6)\n",
        "\n",
        "model = keras.models.Model(inputs=[input_], outputs=[output])"
      ],
      "metadata": {
        "id": "I2wFVH4SbDHO"
      },
      "execution_count": null,
      "outputs": []
    },
    {
      "cell_type": "code",
      "source": [
        "#model.summary()"
      ],
      "metadata": {
        "id": "AntQjIIRtqvL"
      },
      "execution_count": null,
      "outputs": []
    },
    {
      "cell_type": "code",
      "source": [
        "model.compile(loss=\"sparse_categorical_crossentropy\",\n",
        "              optimizer=\"adam\",\n",
        "              metrics=[\"accuracy\"])"
      ],
      "metadata": {
        "id": "HNyBN42jxUcd"
      },
      "execution_count": null,
      "outputs": []
    },
    {
      "cell_type": "code",
      "source": [
        "checkpoint_cb = keras.callbacks.ModelCheckpoint(\"mi_modelo3_keras.h5\", save_best_only=True)\n",
        "early_stopping_cb = keras.callbacks.EarlyStopping(patience=5,\n",
        "                                                  restore_best_weights=True)"
      ],
      "metadata": {
        "id": "FI8XoFEQxY_W"
      },
      "execution_count": null,
      "outputs": []
    },
    {
      "cell_type": "code",
      "source": [
        "history = model.fit(X_train, y_train, epochs=100,\n",
        "                    validation_data=(X_valid, y_valid),\n",
        "                    callbacks=[checkpoint_cb,early_stopping_cb])\n",
        "\n",
        "model = keras.models.load_model(\"mi_modelo3_keras.h5\")"
      ],
      "metadata": {
        "id": "PiWYTZidxfGm",
        "outputId": "036b175a-9049-4929-f6eb-6f762c8f841a",
        "colab": {
          "base_uri": "https://localhost:8080/"
        }
      },
      "execution_count": null,
      "outputs": [
        {
          "output_type": "stream",
          "name": "stdout",
          "text": [
            "Epoch 1/100\n",
            "1172/1172 [==============================] - 17s 10ms/step - loss: 2.0484 - accuracy: 0.3408 - val_loss: 1.9727 - val_accuracy: 0.2978\n",
            "Epoch 2/100\n",
            "1172/1172 [==============================] - 13s 11ms/step - loss: 1.8405 - accuracy: 0.3947 - val_loss: 1.8221 - val_accuracy: 0.3980\n",
            "Epoch 3/100\n",
            "1172/1172 [==============================] - 12s 10ms/step - loss: 1.7348 - accuracy: 0.4277 - val_loss: 1.7833 - val_accuracy: 0.4383\n",
            "Epoch 4/100\n",
            "1172/1172 [==============================] - 11s 9ms/step - loss: 1.6420 - accuracy: 0.4514 - val_loss: 1.7634 - val_accuracy: 0.4469\n",
            "Epoch 5/100\n",
            "1172/1172 [==============================] - 12s 10ms/step - loss: 1.5665 - accuracy: 0.4732 - val_loss: 1.6411 - val_accuracy: 0.4827\n",
            "Epoch 6/100\n",
            "1172/1172 [==============================] - 10s 9ms/step - loss: 1.4861 - accuracy: 0.4976 - val_loss: 1.6965 - val_accuracy: 0.4693\n",
            "Epoch 7/100\n",
            "1172/1172 [==============================] - 10s 9ms/step - loss: 1.4206 - accuracy: 0.5124 - val_loss: 1.6592 - val_accuracy: 0.4693\n",
            "Epoch 8/100\n",
            "1172/1172 [==============================] - 11s 10ms/step - loss: 1.3583 - accuracy: 0.5321 - val_loss: 1.6415 - val_accuracy: 0.4829\n",
            "Epoch 9/100\n",
            "1172/1172 [==============================] - 11s 10ms/step - loss: 1.2912 - accuracy: 0.5536 - val_loss: 1.5958 - val_accuracy: 0.4924\n",
            "Epoch 10/100\n",
            "1172/1172 [==============================] - 12s 10ms/step - loss: 1.2294 - accuracy: 0.5735 - val_loss: 1.5831 - val_accuracy: 0.4983\n",
            "Epoch 11/100\n",
            "1172/1172 [==============================] - 11s 10ms/step - loss: 1.1793 - accuracy: 0.5904 - val_loss: 1.6013 - val_accuracy: 0.5075\n",
            "Epoch 12/100\n",
            "1172/1172 [==============================] - 12s 10ms/step - loss: 1.1260 - accuracy: 0.6081 - val_loss: 1.5619 - val_accuracy: 0.5122\n",
            "Epoch 13/100\n",
            "1172/1172 [==============================] - 10s 9ms/step - loss: 1.0724 - accuracy: 0.6239 - val_loss: 1.6483 - val_accuracy: 0.5101\n",
            "Epoch 14/100\n",
            "1172/1172 [==============================] - 11s 9ms/step - loss: 1.0142 - accuracy: 0.6425 - val_loss: 1.5528 - val_accuracy: 0.5254\n",
            "Epoch 15/100\n",
            "1172/1172 [==============================] - 11s 9ms/step - loss: 0.9793 - accuracy: 0.6559 - val_loss: 1.5696 - val_accuracy: 0.5251\n",
            "Epoch 16/100\n",
            "1172/1172 [==============================] - 11s 10ms/step - loss: 0.9278 - accuracy: 0.6699 - val_loss: 1.6276 - val_accuracy: 0.5206\n",
            "Epoch 17/100\n",
            "1172/1172 [==============================] - 11s 10ms/step - loss: 0.8799 - accuracy: 0.6897 - val_loss: 1.6497 - val_accuracy: 0.5229\n",
            "Epoch 18/100\n",
            "1172/1172 [==============================] - 12s 10ms/step - loss: 0.8489 - accuracy: 0.6976 - val_loss: 1.6847 - val_accuracy: 0.5237\n",
            "Epoch 19/100\n",
            "1172/1172 [==============================] - 10s 9ms/step - loss: 0.8090 - accuracy: 0.7136 - val_loss: 1.7157 - val_accuracy: 0.5198\n"
          ]
        }
      ]
    },
    {
      "cell_type": "markdown",
      "source": [
        "Insertaremos una capa de bath normalizacion antes de cada capa densa, y como hiperparametros utilicé el momentum con un valor de 0.9 inicialmente y conseguí un accuracy menor a cuando utilicé el momentum de 0.999 (accuracy de 0.7136)"
      ],
      "metadata": {
        "id": "baLoWbiENAxi"
      }
    },
    {
      "cell_type": "markdown",
      "source": [
        "8. Usar un mecanismo de regularización (puede ser Dropout)."
      ],
      "metadata": {
        "id": "p3ZL9wrOxKSH"
      }
    },
    {
      "cell_type": "markdown",
      "source": [
        "Con la finalidad de prevenir el sobreajuste hacemos uso de dropout, apagando cierta tasa de neuronas en cada capa.Se ha experimentado con diferentes tasas de Dropout 0.5 y 0.1 obteniendose como accuracy de 0.4695 y 0.6938 respectivamente, cabe recordar que el accuracy del modelo sin dropout fue 0.7136.\n",
        "Nos quedamos con un dropout de 0.1 que fue el que logra incrementar ligeramente el accuracy con respecto al modelo anterior. Apesar que disminuya la precisión en entrenamiento con un dropout, sabemos también que el dropout mejora el modelo en los datos de validación."
      ],
      "metadata": {
        "id": "d9aSKXzbJG8i"
      }
    },
    {
      "cell_type": "code",
      "source": [
        "from tensorflow.keras.layers import Input, Dense, Dropout"
      ],
      "metadata": {
        "id": "Enh5Vx5pDIfy"
      },
      "execution_count": 23,
      "outputs": []
    },
    {
      "cell_type": "code",
      "source": [
        "tf.keras.backend.clear_session()\n",
        "tf.random.set_seed(42)"
      ],
      "metadata": {
        "id": "RyBFfoatJGOA"
      },
      "execution_count": null,
      "outputs": []
    },
    {
      "cell_type": "code",
      "source": [
        "input_= keras.layers.Input(shape=X_train.shape[1:])\n",
        "\n",
        "bn_1 = keras.layers.BatchNormalization(momentum=0.99)(input_)\n",
        "hidden1 = keras.layers.Dense(500, activation=\"relu\",kernel_initializer=\"he_normal\")(bn_1)\n",
        "dropout1 = Dropout(0.1)(hidden1)\n",
        "\n",
        "bn_2 = keras.layers.BatchNormalization(momentum=0.99)(dropout1)\n",
        "hidden2 = keras.layers.Dense(400, activation=\"relu\",kernel_initializer=\"he_normal\")(bn_2)\n",
        "dropout2 = Dropout(0.1)(hidden2)\n",
        "\n",
        "bn_3 = keras.layers.BatchNormalization(momentum=0.99)(dropout2)\n",
        "hidden3 = keras.layers.Dense(300, activation=\"relu\",kernel_initializer=\"he_normal\")(bn_3)\n",
        "dropout3 = Dropout(0.1)(hidden3)\n",
        "\n",
        "bn_4 = keras.layers.BatchNormalization(momentum=0.99)(dropout3)\n",
        "hidden4 = keras.layers.Dense(200, activation=\"relu\",kernel_initializer=\"he_normal\")(bn_4)\n",
        "dropout4 = Dropout(0.1)(hidden4)\n",
        "\n",
        "bn_5 = keras.layers.BatchNormalization(momentum=0.99)(dropout4)\n",
        "hidden5 = keras.layers.Dense(100, activation=\"relu\",kernel_initializer=\"he_normal\")(bn_5)\n",
        "dropout5=Dropout(0.1)(hidden5)\n",
        "\n",
        "\n",
        "concat = keras.layers.concatenate([input_,dropout5])\n",
        "\n",
        "bn_6 = keras.layers.BatchNormalization(momentum=0.99)(concat)\n",
        "\n",
        "output = keras.layers.Dense(10,activation=\"softmax\",kernel_initializer=\"he_normal\")(bn_6)\n",
        "\n",
        "model = keras.models.Model(inputs=[input_], outputs=[output])"
      ],
      "metadata": {
        "id": "9fxcq9syKBBs"
      },
      "execution_count": null,
      "outputs": []
    },
    {
      "cell_type": "code",
      "source": [
        "model.compile(loss=\"sparse_categorical_crossentropy\",\n",
        "              optimizer=\"adam\",\n",
        "              metrics=[\"accuracy\"])"
      ],
      "metadata": {
        "id": "QTujbDAb17OY"
      },
      "execution_count": null,
      "outputs": []
    },
    {
      "cell_type": "code",
      "source": [
        "checkpoint_cb = keras.callbacks.ModelCheckpoint(\"mi_modelo4_keras.h5\", save_best_only=True)\n",
        "early_stopping_cb = keras.callbacks.EarlyStopping(patience=5,\n",
        "                                                  restore_best_weights=True)"
      ],
      "metadata": {
        "id": "Ov6c-4zICp-l"
      },
      "execution_count": null,
      "outputs": []
    },
    {
      "cell_type": "code",
      "source": [
        "history = model.fit(X_train, y_train, epochs=100,\n",
        "                    validation_data=(X_valid, y_valid),\n",
        "                    callbacks=[checkpoint_cb,early_stopping_cb])\n",
        "\n",
        "model = keras.models.load_model(\"mi_modelo4_keras.h5\")"
      ],
      "metadata": {
        "id": "GTjJCm8nCvHB",
        "outputId": "290d33bf-723b-4c17-8e19-45e987777a83",
        "colab": {
          "base_uri": "https://localhost:8080/"
        }
      },
      "execution_count": null,
      "outputs": [
        {
          "output_type": "stream",
          "name": "stdout",
          "text": [
            "Epoch 1/100\n",
            "1172/1172 [==============================] - 16s 11ms/step - loss: 2.0722 - accuracy: 0.3325 - val_loss: 1.8495 - val_accuracy: 0.3881\n",
            "Epoch 2/100\n",
            "1172/1172 [==============================] - 12s 10ms/step - loss: 1.8722 - accuracy: 0.3874 - val_loss: 1.8862 - val_accuracy: 0.3994\n",
            "Epoch 3/100\n",
            "1172/1172 [==============================] - 11s 10ms/step - loss: 1.7817 - accuracy: 0.4101 - val_loss: 1.7332 - val_accuracy: 0.4323\n",
            "Epoch 4/100\n",
            "1172/1172 [==============================] - 12s 10ms/step - loss: 1.7044 - accuracy: 0.4320 - val_loss: 1.7035 - val_accuracy: 0.4450\n",
            "Epoch 5/100\n",
            "1172/1172 [==============================] - 11s 9ms/step - loss: 1.6405 - accuracy: 0.4505 - val_loss: 1.6117 - val_accuracy: 0.4669\n",
            "Epoch 6/100\n",
            "1172/1172 [==============================] - 12s 10ms/step - loss: 1.5721 - accuracy: 0.4693 - val_loss: 1.7140 - val_accuracy: 0.4449\n",
            "Epoch 7/100\n",
            "1172/1172 [==============================] - 12s 10ms/step - loss: 1.5131 - accuracy: 0.4816 - val_loss: 1.6035 - val_accuracy: 0.4629\n",
            "Epoch 8/100\n",
            "1172/1172 [==============================] - 12s 10ms/step - loss: 1.4637 - accuracy: 0.4944 - val_loss: 1.5861 - val_accuracy: 0.4737\n",
            "Epoch 9/100\n",
            "1172/1172 [==============================] - 11s 10ms/step - loss: 1.4211 - accuracy: 0.5110 - val_loss: 1.5080 - val_accuracy: 0.4923\n",
            "Epoch 10/100\n",
            "1172/1172 [==============================] - 12s 10ms/step - loss: 1.3736 - accuracy: 0.5241 - val_loss: 1.5299 - val_accuracy: 0.4935\n",
            "Epoch 11/100\n",
            "1172/1172 [==============================] - 12s 10ms/step - loss: 1.3375 - accuracy: 0.5373 - val_loss: 1.5353 - val_accuracy: 0.5052\n",
            "Epoch 12/100\n",
            "1172/1172 [==============================] - 11s 9ms/step - loss: 1.3004 - accuracy: 0.5472 - val_loss: 1.5224 - val_accuracy: 0.4979\n",
            "Epoch 13/100\n",
            "1172/1172 [==============================] - 11s 9ms/step - loss: 1.2617 - accuracy: 0.5580 - val_loss: 1.5121 - val_accuracy: 0.5041\n",
            "Epoch 14/100\n",
            "1172/1172 [==============================] - 12s 10ms/step - loss: 1.2217 - accuracy: 0.5711 - val_loss: 1.4327 - val_accuracy: 0.5251\n",
            "Epoch 15/100\n",
            "1172/1172 [==============================] - 11s 10ms/step - loss: 1.1927 - accuracy: 0.5829 - val_loss: 1.4412 - val_accuracy: 0.5250\n",
            "Epoch 16/100\n",
            "1172/1172 [==============================] - 12s 10ms/step - loss: 1.1567 - accuracy: 0.5913 - val_loss: 1.4322 - val_accuracy: 0.5241\n",
            "Epoch 17/100\n",
            "1172/1172 [==============================] - 12s 10ms/step - loss: 1.1236 - accuracy: 0.6047 - val_loss: 1.4652 - val_accuracy: 0.5246\n",
            "Epoch 18/100\n",
            "1172/1172 [==============================] - 11s 10ms/step - loss: 1.1083 - accuracy: 0.6097 - val_loss: 1.4605 - val_accuracy: 0.5294\n",
            "Epoch 19/100\n",
            "1172/1172 [==============================] - 12s 11ms/step - loss: 1.0869 - accuracy: 0.6143 - val_loss: 1.4285 - val_accuracy: 0.5371\n",
            "Epoch 20/100\n",
            "1172/1172 [==============================] - 11s 10ms/step - loss: 1.0541 - accuracy: 0.6253 - val_loss: 1.4158 - val_accuracy: 0.5410\n",
            "Epoch 21/100\n",
            "1172/1172 [==============================] - 12s 10ms/step - loss: 1.0317 - accuracy: 0.6326 - val_loss: 1.4417 - val_accuracy: 0.5349\n",
            "Epoch 22/100\n",
            "1172/1172 [==============================] - 12s 11ms/step - loss: 1.0152 - accuracy: 0.6387 - val_loss: 1.4395 - val_accuracy: 0.5374\n",
            "Epoch 23/100\n",
            "1172/1172 [==============================] - 11s 9ms/step - loss: 0.9953 - accuracy: 0.6477 - val_loss: 1.4520 - val_accuracy: 0.5291\n",
            "Epoch 24/100\n",
            "1172/1172 [==============================] - 13s 11ms/step - loss: 0.9769 - accuracy: 0.6490 - val_loss: 1.4149 - val_accuracy: 0.5426\n",
            "Epoch 25/100\n",
            "1172/1172 [==============================] - 12s 10ms/step - loss: 0.9549 - accuracy: 0.6599 - val_loss: 1.4438 - val_accuracy: 0.5285\n",
            "Epoch 26/100\n",
            "1172/1172 [==============================] - 12s 10ms/step - loss: 0.9342 - accuracy: 0.6662 - val_loss: 1.4147 - val_accuracy: 0.5452\n",
            "Epoch 27/100\n",
            "1172/1172 [==============================] - 12s 10ms/step - loss: 0.9133 - accuracy: 0.6737 - val_loss: 1.4362 - val_accuracy: 0.5403\n",
            "Epoch 28/100\n",
            "1172/1172 [==============================] - 12s 10ms/step - loss: 0.8997 - accuracy: 0.6812 - val_loss: 1.4512 - val_accuracy: 0.5324\n",
            "Epoch 29/100\n",
            "1172/1172 [==============================] - 12s 10ms/step - loss: 0.8847 - accuracy: 0.6838 - val_loss: 1.4320 - val_accuracy: 0.5474\n",
            "Epoch 30/100\n",
            "1172/1172 [==============================] - 11s 9ms/step - loss: 0.8691 - accuracy: 0.6880 - val_loss: 1.4531 - val_accuracy: 0.5463\n",
            "Epoch 31/100\n",
            "1172/1172 [==============================] - 11s 10ms/step - loss: 0.8550 - accuracy: 0.6938 - val_loss: 1.4562 - val_accuracy: 0.5391\n"
          ]
        }
      ]
    },
    {
      "cell_type": "markdown",
      "source": [
        "9. Definir una función de optimización y justificar su elección."
      ],
      "metadata": {
        "id": "63AF9aFkxOKA"
      }
    },
    {
      "cell_type": "markdown",
      "source": [
        "Los modelos anteriores se entrenaron con el optimizador Adam, sin embargo realizaremos el entrenamiento con otro optimizador y este sería Nadam."
      ],
      "metadata": {
        "id": "1f3Ht-AH67y4"
      }
    },
    {
      "cell_type": "code",
      "source": [
        "tf.keras.backend.clear_session()\n",
        "tf.random.set_seed(42)"
      ],
      "metadata": {
        "id": "cHBnkq-T1-OB"
      },
      "execution_count": null,
      "outputs": []
    },
    {
      "cell_type": "code",
      "source": [
        "input_= keras.layers.Input(shape=X_train.shape[1:])\n",
        "\n",
        "bn_1 = keras.layers.BatchNormalization(momentum=0.99)(input_)\n",
        "hidden1 = keras.layers.Dense(500, activation=\"relu\",kernel_initializer=\"he_normal\")(bn_1)\n",
        "dropout1 = Dropout(0.1)(hidden1)\n",
        "\n",
        "bn_2 = keras.layers.BatchNormalization(momentum=0.99)(dropout1)\n",
        "hidden2 = keras.layers.Dense(400, activation=\"relu\",kernel_initializer=\"he_normal\")(bn_2)\n",
        "dropout2 = Dropout(0.1)(hidden2)\n",
        "\n",
        "bn_3 = keras.layers.BatchNormalization(momentum=0.99)(dropout2)\n",
        "hidden3 = keras.layers.Dense(300, activation=\"relu\",kernel_initializer=\"he_normal\")(bn_3)\n",
        "dropout3 = Dropout(0.1)(hidden3)\n",
        "\n",
        "bn_4 = keras.layers.BatchNormalization(momentum=0.99)(dropout3)\n",
        "hidden4 = keras.layers.Dense(200, activation=\"relu\",kernel_initializer=\"he_normal\")(bn_4)\n",
        "dropout4 = Dropout(0.1)(hidden4)\n",
        "\n",
        "bn_5 = keras.layers.BatchNormalization(momentum=0.99)(dropout4)\n",
        "hidden5 = keras.layers.Dense(100, activation=\"relu\",kernel_initializer=\"he_normal\")(bn_5)\n",
        "dropout5=Dropout(0.1)(hidden5)\n",
        "\n",
        "\n",
        "concat = keras.layers.concatenate([input_,dropout5])\n",
        "\n",
        "bn_6 = keras.layers.BatchNormalization(momentum=0.99)(concat)\n",
        "\n",
        "output = keras.layers.Dense(10,activation=\"softmax\",kernel_initializer=\"he_normal\")(bn_6)\n",
        "\n",
        "model = keras.models.Model(inputs=[input_], outputs=[output])"
      ],
      "metadata": {
        "id": "ibKT_goKUIoM"
      },
      "execution_count": null,
      "outputs": []
    },
    {
      "cell_type": "code",
      "source": [
        "model.compile(loss=\"sparse_categorical_crossentropy\",\n",
        "              optimizer=\"NADAM\",\n",
        "              metrics=[\"accuracy\"])\n",
        "checkpoint_cb = keras.callbacks.ModelCheckpoint(\"mi_modelo5_keras.h5\", save_best_only=True)\n",
        "early_stopping_cb = keras.callbacks.EarlyStopping(patience=5,\n",
        "                                                  restore_best_weights=True)"
      ],
      "metadata": {
        "id": "0i8hhKRYGkaA"
      },
      "execution_count": null,
      "outputs": []
    },
    {
      "cell_type": "code",
      "source": [
        "history = model.fit(X_train, y_train, epochs=100,\n",
        "                    validation_data=(X_valid, y_valid),\n",
        "                    callbacks=[checkpoint_cb,early_stopping_cb])\n",
        "\n",
        "model = keras.models.load_model(\"mi_modelo5_keras.h5\")"
      ],
      "metadata": {
        "id": "phMIkfZUGxwu",
        "outputId": "4808f079-e35f-4ad2-bd82-639001a0ef10",
        "colab": {
          "base_uri": "https://localhost:8080/"
        }
      },
      "execution_count": null,
      "outputs": [
        {
          "output_type": "stream",
          "name": "stdout",
          "text": [
            "Epoch 1/100\n",
            "1172/1172 [==============================] - 23s 12ms/step - loss: 2.0107 - accuracy: 0.3395 - val_loss: 1.8574 - val_accuracy: 0.3825\n",
            "Epoch 2/100\n",
            "1172/1172 [==============================] - 14s 12ms/step - loss: 1.8194 - accuracy: 0.3958 - val_loss: 1.8365 - val_accuracy: 0.4018\n",
            "Epoch 3/100\n",
            "1172/1172 [==============================] - 14s 12ms/step - loss: 1.7317 - accuracy: 0.4187 - val_loss: 1.6888 - val_accuracy: 0.4408\n",
            "Epoch 4/100\n",
            "1172/1172 [==============================] - 14s 12ms/step - loss: 1.6567 - accuracy: 0.4417 - val_loss: 1.7242 - val_accuracy: 0.4366\n",
            "Epoch 5/100\n",
            "1172/1172 [==============================] - 14s 12ms/step - loss: 1.5964 - accuracy: 0.4580 - val_loss: 1.6131 - val_accuracy: 0.4694\n",
            "Epoch 6/100\n",
            "1172/1172 [==============================] - 14s 12ms/step - loss: 1.5397 - accuracy: 0.4743 - val_loss: 1.6160 - val_accuracy: 0.4646\n",
            "Epoch 7/100\n",
            "1172/1172 [==============================] - 14s 12ms/step - loss: 1.4949 - accuracy: 0.4881 - val_loss: 1.5698 - val_accuracy: 0.4734\n",
            "Epoch 8/100\n",
            "1172/1172 [==============================] - 14s 12ms/step - loss: 1.4468 - accuracy: 0.4986 - val_loss: 1.6175 - val_accuracy: 0.4683\n",
            "Epoch 9/100\n",
            "1172/1172 [==============================] - 14s 12ms/step - loss: 1.4023 - accuracy: 0.5153 - val_loss: 1.4860 - val_accuracy: 0.4914\n",
            "Epoch 10/100\n",
            "1172/1172 [==============================] - 14s 12ms/step - loss: 1.3655 - accuracy: 0.5294 - val_loss: 1.5288 - val_accuracy: 0.4908\n",
            "Epoch 11/100\n",
            "1172/1172 [==============================] - 16s 14ms/step - loss: 1.3245 - accuracy: 0.5369 - val_loss: 1.4997 - val_accuracy: 0.5052\n",
            "Epoch 12/100\n",
            "1172/1172 [==============================] - 16s 13ms/step - loss: 1.2957 - accuracy: 0.5500 - val_loss: 1.5396 - val_accuracy: 0.4936\n",
            "Epoch 13/100\n",
            "1172/1172 [==============================] - 15s 13ms/step - loss: 1.2601 - accuracy: 0.5625 - val_loss: 1.5191 - val_accuracy: 0.5035\n",
            "Epoch 14/100\n",
            "1172/1172 [==============================] - 15s 13ms/step - loss: 1.2217 - accuracy: 0.5738 - val_loss: 1.4617 - val_accuracy: 0.5212\n",
            "Epoch 15/100\n",
            "1172/1172 [==============================] - 14s 12ms/step - loss: 1.1907 - accuracy: 0.5834 - val_loss: 1.4472 - val_accuracy: 0.5159\n",
            "Epoch 16/100\n",
            "1172/1172 [==============================] - 14s 12ms/step - loss: 1.1581 - accuracy: 0.5933 - val_loss: 1.4441 - val_accuracy: 0.5197\n",
            "Epoch 17/100\n",
            "1172/1172 [==============================] - 14s 12ms/step - loss: 1.1324 - accuracy: 0.6031 - val_loss: 1.4624 - val_accuracy: 0.5242\n",
            "Epoch 18/100\n",
            "1172/1172 [==============================] - 15s 13ms/step - loss: 1.1088 - accuracy: 0.6089 - val_loss: 1.4980 - val_accuracy: 0.5220\n",
            "Epoch 19/100\n",
            "1172/1172 [==============================] - 15s 12ms/step - loss: 1.0905 - accuracy: 0.6151 - val_loss: 1.4511 - val_accuracy: 0.5286\n",
            "Epoch 20/100\n",
            "1172/1172 [==============================] - 15s 13ms/step - loss: 1.0594 - accuracy: 0.6253 - val_loss: 1.4414 - val_accuracy: 0.5318\n",
            "Epoch 21/100\n",
            "1172/1172 [==============================] - 16s 14ms/step - loss: 1.0389 - accuracy: 0.6343 - val_loss: 1.4384 - val_accuracy: 0.5298\n",
            "Epoch 22/100\n",
            "1172/1172 [==============================] - 15s 13ms/step - loss: 1.0089 - accuracy: 0.6419 - val_loss: 1.4707 - val_accuracy: 0.5370\n",
            "Epoch 23/100\n",
            "1172/1172 [==============================] - 15s 12ms/step - loss: 0.9886 - accuracy: 0.6488 - val_loss: 1.4702 - val_accuracy: 0.5262\n",
            "Epoch 24/100\n",
            "1172/1172 [==============================] - 15s 13ms/step - loss: 0.9819 - accuracy: 0.6500 - val_loss: 1.4215 - val_accuracy: 0.5445\n",
            "Epoch 25/100\n",
            "1172/1172 [==============================] - 15s 13ms/step - loss: 0.9498 - accuracy: 0.6616 - val_loss: 1.4550 - val_accuracy: 0.5346\n",
            "Epoch 26/100\n",
            "1172/1172 [==============================] - 16s 13ms/step - loss: 0.9372 - accuracy: 0.6660 - val_loss: 1.4369 - val_accuracy: 0.5407\n",
            "Epoch 27/100\n",
            "1172/1172 [==============================] - 14s 12ms/step - loss: 0.9188 - accuracy: 0.6709 - val_loss: 1.4443 - val_accuracy: 0.5454\n",
            "Epoch 28/100\n",
            "1172/1172 [==============================] - 14s 12ms/step - loss: 0.9009 - accuracy: 0.6793 - val_loss: 1.4521 - val_accuracy: 0.5374\n",
            "Epoch 29/100\n",
            "1172/1172 [==============================] - 16s 14ms/step - loss: 0.8837 - accuracy: 0.6841 - val_loss: 1.4453 - val_accuracy: 0.5423\n"
          ]
        }
      ]
    },
    {
      "cell_type": "markdown",
      "source": [
        "Con el optimizador Adam se obtuvo 0.6938 y con el optimizador nadam accuracy: 0.6841, nos quedamos con el optimizador ADAM según los resultados obtenidos de precisión."
      ],
      "metadata": {
        "id": "V_AjIdhZWxmI"
      }
    },
    {
      "cell_type": "markdown",
      "source": [
        "10. Encontrar una taza de aprendizaje adecuada usando alguna estrategia de *Learning Rate Scheduling*. Justificar la elección de sus hiperparámetros."
      ],
      "metadata": {
        "id": "TLBQKeKFxTKS"
      }
    },
    {
      "cell_type": "code",
      "source": [
        "tf.keras.backend.clear_session()\n",
        "tf.random.set_seed(42)"
      ],
      "metadata": {
        "id": "qd0fNDEAHgeJ"
      },
      "execution_count": 21,
      "outputs": []
    },
    {
      "cell_type": "code",
      "source": [
        "input_= keras.layers.Input(shape=X_train.shape[1:])\n",
        "\n",
        "bn_1 = keras.layers.BatchNormalization(momentum=0.99)(input_)\n",
        "hidden1 = keras.layers.Dense(500, activation=\"relu\",kernel_initializer=\"he_normal\")(bn_1)\n",
        "dropout1 = Dropout(0.1)(hidden1)\n",
        "\n",
        "bn_2 = keras.layers.BatchNormalization(momentum=0.99)(dropout1)\n",
        "hidden2 = keras.layers.Dense(400, activation=\"relu\",kernel_initializer=\"he_normal\")(bn_2)\n",
        "dropout2 = Dropout(0.1)(hidden2)\n",
        "\n",
        "bn_3 = keras.layers.BatchNormalization(momentum=0.99)(dropout2)\n",
        "hidden3 = keras.layers.Dense(300, activation=\"relu\",kernel_initializer=\"he_normal\")(bn_3)\n",
        "dropout3 = Dropout(0.1)(hidden3)\n",
        "\n",
        "bn_4 = keras.layers.BatchNormalization(momentum=0.99)(dropout3)\n",
        "hidden4 = keras.layers.Dense(200, activation=\"relu\",kernel_initializer=\"he_normal\")(bn_4)\n",
        "dropout4 = Dropout(0.1)(hidden4)\n",
        "\n",
        "bn_5 = keras.layers.BatchNormalization(momentum=0.99)(dropout4)\n",
        "hidden5 = keras.layers.Dense(100, activation=\"relu\",kernel_initializer=\"he_normal\")(bn_5)\n",
        "dropout5=Dropout(0.1)(hidden5)\n",
        "\n",
        "\n",
        "concat = keras.layers.concatenate([input_,dropout5])\n",
        "\n",
        "bn_6 = keras.layers.BatchNormalization(momentum=0.99)(concat)\n",
        "\n",
        "output = keras.layers.Dense(10,activation=\"softmax\",kernel_initializer=\"he_normal\")(bn_6)\n",
        "\n",
        "model = keras.models.Model(inputs=[input_], outputs=[output])"
      ],
      "metadata": {
        "id": "wqplSwvmXP5I"
      },
      "execution_count": 24,
      "outputs": []
    },
    {
      "cell_type": "code",
      "source": [
        "optimizer = tf.keras.optimizers.Adam(learning_rate=0.001)\n",
        "\n",
        "model.compile(loss=\"sparse_categorical_crossentropy\",\n",
        "              optimizer=optimizer,\n",
        "              metrics=[\"accuracy\"])\n"
      ],
      "metadata": {
        "id": "9hGw7t_R2AWZ"
      },
      "execution_count": 25,
      "outputs": []
    },
    {
      "cell_type": "code",
      "source": [
        "checkpoint_cb = keras.callbacks.ModelCheckpoint(\"mi_modelo6_keras.h5\", save_best_only=True)\n",
        "early_stopping_cb = keras.callbacks.EarlyStopping(patience=5,\n",
        "                                                  restore_best_weights=True)"
      ],
      "metadata": {
        "id": "ZuasSRhYOawq"
      },
      "execution_count": 26,
      "outputs": []
    },
    {
      "cell_type": "code",
      "source": [
        "history = model.fit(X_train, y_train, epochs=100,\n",
        "                    validation_data=(X_valid, y_valid),\n",
        "                    callbacks=[checkpoint_cb,early_stopping_cb])\n",
        "\n",
        "model = keras.models.load_model(\"mi_modelo6_keras.h5\")"
      ],
      "metadata": {
        "id": "SSzJYM_9OiGe",
        "outputId": "4df17207-d965-4783-e6c2-b904a0eb67bb",
        "colab": {
          "base_uri": "https://localhost:8080/"
        }
      },
      "execution_count": 27,
      "outputs": [
        {
          "output_type": "stream",
          "name": "stdout",
          "text": [
            "Epoch 1/100\n",
            "1172/1172 [==============================] - 20s 11ms/step - loss: 2.0777 - accuracy: 0.3322 - val_loss: 1.8628 - val_accuracy: 0.3804\n",
            "Epoch 2/100\n",
            "   1/1172 [..............................] - ETA: 13s - loss: 1.7605 - accuracy: 0.4062"
          ]
        },
        {
          "output_type": "stream",
          "name": "stderr",
          "text": [
            "/usr/local/lib/python3.10/dist-packages/keras/src/engine/training.py:3103: UserWarning: You are saving your model as an HDF5 file via `model.save()`. This file format is considered legacy. We recommend using instead the native Keras format, e.g. `model.save('my_model.keras')`.\n",
            "  saving_api.save_model(\n"
          ]
        },
        {
          "output_type": "stream",
          "name": "stdout",
          "text": [
            "1172/1172 [==============================] - 12s 11ms/step - loss: 1.8837 - accuracy: 0.3850 - val_loss: 1.8600 - val_accuracy: 0.3992\n",
            "Epoch 3/100\n",
            "1172/1172 [==============================] - 12s 10ms/step - loss: 1.7874 - accuracy: 0.4122 - val_loss: 1.7321 - val_accuracy: 0.4346\n",
            "Epoch 4/100\n",
            "1172/1172 [==============================] - 13s 11ms/step - loss: 1.7049 - accuracy: 0.4334 - val_loss: 1.7126 - val_accuracy: 0.4458\n",
            "Epoch 5/100\n",
            "1172/1172 [==============================] - 12s 10ms/step - loss: 1.6356 - accuracy: 0.4512 - val_loss: 1.6230 - val_accuracy: 0.4641\n",
            "Epoch 6/100\n",
            "1172/1172 [==============================] - 14s 12ms/step - loss: 1.5713 - accuracy: 0.4707 - val_loss: 1.6980 - val_accuracy: 0.4506\n",
            "Epoch 7/100\n",
            "1172/1172 [==============================] - 12s 10ms/step - loss: 1.5200 - accuracy: 0.4772 - val_loss: 1.6167 - val_accuracy: 0.4598\n",
            "Epoch 8/100\n",
            "1172/1172 [==============================] - 11s 10ms/step - loss: 1.4673 - accuracy: 0.4948 - val_loss: 1.5799 - val_accuracy: 0.4761\n",
            "Epoch 9/100\n",
            "1172/1172 [==============================] - 11s 10ms/step - loss: 1.4211 - accuracy: 0.5080 - val_loss: 1.5240 - val_accuracy: 0.4930\n",
            "Epoch 10/100\n",
            "1172/1172 [==============================] - 12s 10ms/step - loss: 1.3775 - accuracy: 0.5220 - val_loss: 1.5310 - val_accuracy: 0.4958\n",
            "Epoch 11/100\n",
            "1172/1172 [==============================] - 12s 10ms/step - loss: 1.3404 - accuracy: 0.5369 - val_loss: 1.5280 - val_accuracy: 0.5023\n",
            "Epoch 12/100\n",
            "1172/1172 [==============================] - 12s 11ms/step - loss: 1.3093 - accuracy: 0.5429 - val_loss: 1.5071 - val_accuracy: 0.4998\n",
            "Epoch 13/100\n",
            "1172/1172 [==============================] - 12s 10ms/step - loss: 1.2654 - accuracy: 0.5562 - val_loss: 1.5043 - val_accuracy: 0.5038\n",
            "Epoch 14/100\n",
            "1172/1172 [==============================] - 12s 10ms/step - loss: 1.2271 - accuracy: 0.5690 - val_loss: 1.4762 - val_accuracy: 0.5134\n",
            "Epoch 15/100\n",
            "1172/1172 [==============================] - 12s 10ms/step - loss: 1.2000 - accuracy: 0.5782 - val_loss: 1.4233 - val_accuracy: 0.5305\n",
            "Epoch 16/100\n",
            "1172/1172 [==============================] - 12s 10ms/step - loss: 1.1631 - accuracy: 0.5886 - val_loss: 1.4391 - val_accuracy: 0.5202\n",
            "Epoch 17/100\n",
            "1172/1172 [==============================] - 11s 10ms/step - loss: 1.1379 - accuracy: 0.5979 - val_loss: 1.4646 - val_accuracy: 0.5241\n",
            "Epoch 18/100\n",
            "1172/1172 [==============================] - 12s 10ms/step - loss: 1.1133 - accuracy: 0.6071 - val_loss: 1.5049 - val_accuracy: 0.5161\n",
            "Epoch 19/100\n",
            "1172/1172 [==============================] - 12s 10ms/step - loss: 1.0913 - accuracy: 0.6138 - val_loss: 1.4379 - val_accuracy: 0.5268\n",
            "Epoch 20/100\n",
            "1172/1172 [==============================] - 13s 11ms/step - loss: 1.0621 - accuracy: 0.6235 - val_loss: 1.4323 - val_accuracy: 0.5332\n"
          ]
        }
      ]
    },
    {
      "cell_type": "markdown",
      "source": [
        "Con el optimizador adam que resultó mejor que el nadam, y un learning de 0.001 de tiene un accuracy de 0.6634 y con un learning rate de 0.01 se obtiene un accuracy de 0.3988. Nos quedamos con el learning rate de 0.001 por ser el mejor."
      ],
      "metadata": {
        "id": "jAJkMnJyp4WI"
      }
    },
    {
      "cell_type": "markdown",
      "source": [
        "11. Realizar un proceso de ajuste de hiperparámetros (los que considere convenientes), usando Keras Tuner."
      ],
      "metadata": {
        "id": "DIZS3cEmxXVQ"
      }
    },
    {
      "cell_type": "code",
      "source": [
        "tf.keras.backend.clear_session()\n",
        "tf.random.set_seed(42)"
      ],
      "metadata": {
        "id": "cdBLPY-VAeSo"
      },
      "execution_count": 10,
      "outputs": []
    },
    {
      "cell_type": "code",
      "source": [
        "if \"google.colab\" in sys.modules:\n",
        "    %pip install -q -U keras_tuner"
      ],
      "metadata": {
        "id": "YKTT8C2TAk-7",
        "outputId": "082689f7-6bb0-4941-ae2f-0b8963038b38",
        "colab": {
          "base_uri": "https://localhost:8080/"
        }
      },
      "execution_count": 11,
      "outputs": [
        {
          "output_type": "stream",
          "name": "stdout",
          "text": [
            "\u001b[?25l     \u001b[90m━━━━━━━━━━━━━━━━━━━━━━━━━━━━━━━━━━━━━━━━\u001b[0m \u001b[32m0.0/129.1 kB\u001b[0m \u001b[31m?\u001b[0m eta \u001b[36m-:--:--\u001b[0m\r\u001b[2K     \u001b[90m━━━━━━━━━━━━━━━━━━━━━━━━━━━━━━━━━━━━━━━━\u001b[0m \u001b[32m129.1/129.1 kB\u001b[0m \u001b[31m4.5 MB/s\u001b[0m eta \u001b[36m0:00:00\u001b[0m\n",
            "\u001b[?25h"
          ]
        }
      ]
    },
    {
      "cell_type": "code",
      "source": [
        "import keras_tuner as kt\n",
        "\n",
        "def build_model(hp):\n",
        "    n_hidden = hp.Int(\"n_hidden\", min_value=0, max_value=16, default=2)\n",
        "    n_neurons = hp.Int(\"n_neurons\", min_value=16, max_value=256)\n",
        "    learning_rate = hp.Float(\"learning_rate\", min_value=1e-4, max_value=1e-2,\n",
        "                             sampling=\"log\")\n",
        "\n",
        "    optimizer = hp.Choice(\"optimizer\", values=[\"adam\",'nadam'])\n",
        "    if optimizer == \"adam\":\n",
        "        optimizer = tf.keras.optimizers.Adam(learning_rate=learning_rate)\n",
        "    else:\n",
        "        optimizer = tf.keras.optimizers.Nadam(learning_rate=learning_rate)\n",
        "\n",
        "    model = tf.keras.Sequential()\n",
        "    model.add(tf.keras.layers.Flatten())\n",
        "\n",
        "    for _ in range(n_hidden):\n",
        "        model.add(tf.keras.layers.Dense(n_neurons, activation=\"relu\"))\n",
        "\n",
        "    model.add(tf.keras.layers.Dense(10, activation=\"softmax\"))\n",
        "\n",
        "    model.compile(loss=\"sparse_categorical_crossentropy\", optimizer=optimizer,\n",
        "                  metrics=[\"accuracy\"])\n",
        "    return model\n"
      ],
      "metadata": {
        "id": "xIBFx0v_Am-u"
      },
      "execution_count": 12,
      "outputs": []
    },
    {
      "cell_type": "code",
      "source": [
        "tuner = kt.RandomSearch(\n",
        "    build_model, objective=\"val_accuracy\", max_trials=5, overwrite=True,\n",
        "    directory=\"afinacion_red\", project_name=\"my_rnd_search\", seed=42)#max_trials=5 experiemntos"
      ],
      "metadata": {
        "id": "Ac790W7KBG3R"
      },
      "execution_count": 13,
      "outputs": []
    },
    {
      "cell_type": "code",
      "source": [
        "tuner.search(X_train, y_train, epochs=10,\n",
        "                           validation_data=(X_valid, y_valid))"
      ],
      "metadata": {
        "id": "gT7iqjU604GS",
        "outputId": "c95a14f0-273a-4beb-8794-cc84ccd43566",
        "colab": {
          "base_uri": "https://localhost:8080/"
        }
      },
      "execution_count": 14,
      "outputs": [
        {
          "output_type": "stream",
          "name": "stdout",
          "text": [
            "Trial 5 Complete [00h 01m 20s]\n",
            "val_accuracy: 0.44391998648643494\n",
            "\n",
            "Best val_accuracy So Far: 0.44391998648643494\n",
            "Total elapsed time: 00h 10m 13s\n"
          ]
        }
      ]
    },
    {
      "cell_type": "code",
      "source": [
        "top3_params = tuner.get_best_hyperparameters(num_trials=3)#parametros de los 3 modelos\n",
        "top3_params[2].values  # best hyperparameter values del primer modelo"
      ],
      "metadata": {
        "id": "RDlYx-tWBueF",
        "outputId": "821a566e-3da5-4fc0-80f2-c6f7f1ac1ffb",
        "colab": {
          "base_uri": "https://localhost:8080/"
        }
      },
      "execution_count": 15,
      "outputs": [
        {
          "output_type": "execute_result",
          "data": {
            "text/plain": [
              "{'n_hidden': 15,\n",
              " 'n_neurons': 100,\n",
              " 'learning_rate': 0.0012482904754698163,\n",
              " 'optimizer': 'adam'}"
            ]
          },
          "metadata": {},
          "execution_count": 15
        }
      ]
    },
    {
      "cell_type": "code",
      "source": [
        "best_trial = tuner.oracle.get_best_trials(num_trials=1)[0]\n",
        "best_trial.summary()"
      ],
      "metadata": {
        "id": "ZoSc_dggBwMG",
        "outputId": "0d33b1bb-659e-49b5-a933-966829348c6e",
        "colab": {
          "base_uri": "https://localhost:8080/"
        }
      },
      "execution_count": 16,
      "outputs": [
        {
          "output_type": "stream",
          "name": "stdout",
          "text": [
            "Trial 4 summary\n",
            "Hyperparameters:\n",
            "n_hidden: 9\n",
            "n_neurons: 70\n",
            "learning_rate: 0.00041268008323824807\n",
            "optimizer: adam\n",
            "Score: 0.44391998648643494\n"
          ]
        }
      ]
    },
    {
      "cell_type": "code",
      "source": [
        "tuner.results_summary()"
      ],
      "metadata": {
        "id": "mCnjfhQP8D1C",
        "outputId": "cbe94129-a273-4d3a-98fb-d5392e00acc3",
        "colab": {
          "base_uri": "https://localhost:8080/"
        }
      },
      "execution_count": 17,
      "outputs": [
        {
          "output_type": "stream",
          "name": "stdout",
          "text": [
            "Results summary\n",
            "Results in afinacion_red/my_rnd_search\n",
            "Showing 10 best trials\n",
            "Objective(name=\"val_accuracy\", direction=\"max\")\n",
            "\n",
            "Trial 4 summary\n",
            "Hyperparameters:\n",
            "n_hidden: 9\n",
            "n_neurons: 70\n",
            "learning_rate: 0.00041268008323824807\n",
            "optimizer: adam\n",
            "Score: 0.44391998648643494\n",
            "\n",
            "Trial 0 summary\n",
            "Hyperparameters:\n",
            "n_hidden: 10\n",
            "n_neurons: 25\n",
            "learning_rate: 0.0006562536901904111\n",
            "optimizer: adam\n",
            "Score: 0.37191998958587646\n",
            "\n",
            "Trial 1 summary\n",
            "Hyperparameters:\n",
            "n_hidden: 15\n",
            "n_neurons: 100\n",
            "learning_rate: 0.0012482904754698163\n",
            "optimizer: adam\n",
            "Score: 0.2778399884700775\n",
            "\n",
            "Trial 3 summary\n",
            "Hyperparameters:\n",
            "n_hidden: 15\n",
            "n_neurons: 37\n",
            "learning_rate: 0.008547485565344062\n",
            "optimizer: adam\n",
            "Score: 0.23960000276565552\n",
            "\n",
            "Trial 2 summary\n",
            "Hyperparameters:\n",
            "n_hidden: 8\n",
            "n_neurons: 74\n",
            "learning_rate: 0.00905127409782462\n",
            "optimizer: nadam\n",
            "Score: 0.10328000038862228\n"
          ]
        }
      ]
    },
    {
      "cell_type": "code",
      "source": [
        "best_trial.metrics.get_last_value(\"val_accuracy\")"
      ],
      "metadata": {
        "id": "zhzKfiYwB6iE",
        "outputId": "03598117-6c97-4524-af75-7e0d20dab4a1",
        "colab": {
          "base_uri": "https://localhost:8080/"
        }
      },
      "execution_count": 18,
      "outputs": [
        {
          "output_type": "execute_result",
          "data": {
            "text/plain": [
              "0.44391998648643494"
            ]
          },
          "metadata": {},
          "execution_count": 18
        }
      ]
    },
    {
      "cell_type": "code",
      "source": [
        "top3_params = tuner.get_best_hyperparameters(num_trials=3)"
      ],
      "metadata": {
        "id": "g8Vo4PqM7kR1"
      },
      "execution_count": 19,
      "outputs": []
    },
    {
      "cell_type": "markdown",
      "source": [
        "Con keras tuner podemos apreciar que para un modelo secuencial logramos obtener una accuracy de 0.438, pero con 15 capas ocultas y 100 neuronas cada una, siendo un número mayor de capas a los que consideramos."
      ],
      "metadata": {
        "id": "fbu_D9Wwvw_6"
      }
    },
    {
      "cell_type": "markdown",
      "source": [
        "usaremos Keras tuner para para nuestro modelo functional API"
      ],
      "metadata": {
        "id": "csflaDTD3mB7"
      }
    },
    {
      "cell_type": "code",
      "source": [],
      "metadata": {
        "id": "tQy7LrSB4cRh"
      },
      "execution_count": null,
      "outputs": []
    },
    {
      "cell_type": "markdown",
      "source": [
        "12. Reporte el resultado final en el conjunto de prueba usando la(s) métrica(s) de clasificación seleccionada(s)."
      ],
      "metadata": {
        "id": "zscJDA3kxdAE"
      }
    },
    {
      "cell_type": "markdown",
      "source": [
        "El accuracy obtenido con el conjunto de datos de prueba es 0.5340"
      ],
      "metadata": {
        "id": "PwxTQ6W61Xza"
      }
    },
    {
      "cell_type": "code",
      "source": [
        "model.evaluate(X_test, y_test)"
      ],
      "metadata": {
        "id": "AUoKzqb8Savw",
        "outputId": "3be8f102-cb9e-4993-e679-59992ffd7600",
        "colab": {
          "base_uri": "https://localhost:8080/"
        }
      },
      "execution_count": null,
      "outputs": [
        {
          "output_type": "stream",
          "name": "stdout",
          "text": [
            "313/313 [==============================] - 1s 3ms/step - loss: 1.4039 - accuracy: 0.5341\n"
          ]
        },
        {
          "output_type": "execute_result",
          "data": {
            "text/plain": [
              "[1.4038548469543457, 0.5340999960899353]"
            ]
          },
          "metadata": {},
          "execution_count": 33
        }
      ]
    },
    {
      "cell_type": "markdown",
      "source": [
        "13. Definir una segunda arquitectura reutilizando todas las capas y sus pesos (a excepción de la capa de salida) haciendo una conexión *wide and deep*, de las entradas. Mejora el resultado?"
      ],
      "metadata": {
        "id": "obusu7CgxjDx"
      }
    },
    {
      "cell_type": "code",
      "source": [
        "np.random.seed(42)\n",
        "tf.random.set_seed(42)"
      ],
      "metadata": {
        "id": "8nbHGvJlBpkF",
        "outputId": "72f8dfcf-8e5d-4c2d-f666-48ba86d1daf9",
        "colab": {
          "base_uri": "https://localhost:8080/",
          "height": 164
        }
      },
      "execution_count": 2,
      "outputs": [
        {
          "output_type": "error",
          "ename": "NameError",
          "evalue": "name 'np' is not defined",
          "traceback": [
            "\u001b[0;31m---------------------------------------------------------------------------\u001b[0m",
            "\u001b[0;31mNameError\u001b[0m                                 Traceback (most recent call last)",
            "\u001b[0;32m<ipython-input-2-8128c9544529>\u001b[0m in \u001b[0;36m<cell line: 1>\u001b[0;34m()\u001b[0m\n\u001b[0;32m----> 1\u001b[0;31m \u001b[0mnp\u001b[0m\u001b[0;34m.\u001b[0m\u001b[0mrandom\u001b[0m\u001b[0;34m.\u001b[0m\u001b[0mseed\u001b[0m\u001b[0;34m(\u001b[0m\u001b[0;36m42\u001b[0m\u001b[0;34m)\u001b[0m\u001b[0;34m\u001b[0m\u001b[0;34m\u001b[0m\u001b[0m\n\u001b[0m\u001b[1;32m      2\u001b[0m \u001b[0mtf\u001b[0m\u001b[0;34m.\u001b[0m\u001b[0mrandom\u001b[0m\u001b[0;34m.\u001b[0m\u001b[0mset_seed\u001b[0m\u001b[0;34m(\u001b[0m\u001b[0;36m42\u001b[0m\u001b[0;34m)\u001b[0m\u001b[0;34m\u001b[0m\u001b[0;34m\u001b[0m\u001b[0m\n",
            "\u001b[0;31mNameError\u001b[0m: name 'np' is not defined"
          ]
        }
      ]
    },
    {
      "cell_type": "code",
      "source": [
        "model1 = keras.models.load_model(\"mi_modelo6_keras.h5\")"
      ],
      "metadata": {
        "id": "EQgfIMajLcUH"
      },
      "execution_count": 28,
      "outputs": []
    },
    {
      "cell_type": "code",
      "source": [
        "tf.keras.backend.clear_session()\n",
        "tf.random.set_seed(42)"
      ],
      "metadata": {
        "id": "Vpd0Md8VRBf9",
        "outputId": "c2f7aa0e-cf03-4abc-b563-1b50743c0653",
        "colab": {
          "base_uri": "https://localhost:8080/",
          "height": 164
        }
      },
      "execution_count": 1,
      "outputs": [
        {
          "output_type": "error",
          "ename": "NameError",
          "evalue": "name 'tf' is not defined",
          "traceback": [
            "\u001b[0;31m---------------------------------------------------------------------------\u001b[0m",
            "\u001b[0;31mNameError\u001b[0m                                 Traceback (most recent call last)",
            "\u001b[0;32m<ipython-input-1-5b60d93b4a6c>\u001b[0m in \u001b[0;36m<cell line: 1>\u001b[0;34m()\u001b[0m\n\u001b[0;32m----> 1\u001b[0;31m \u001b[0mtf\u001b[0m\u001b[0;34m.\u001b[0m\u001b[0mkeras\u001b[0m\u001b[0;34m.\u001b[0m\u001b[0mbackend\u001b[0m\u001b[0;34m.\u001b[0m\u001b[0mclear_session\u001b[0m\u001b[0;34m(\u001b[0m\u001b[0;34m)\u001b[0m\u001b[0;34m\u001b[0m\u001b[0;34m\u001b[0m\u001b[0m\n\u001b[0m\u001b[1;32m      2\u001b[0m \u001b[0mtf\u001b[0m\u001b[0;34m.\u001b[0m\u001b[0mrandom\u001b[0m\u001b[0;34m.\u001b[0m\u001b[0mset_seed\u001b[0m\u001b[0;34m(\u001b[0m\u001b[0;36m42\u001b[0m\u001b[0;34m)\u001b[0m\u001b[0;34m\u001b[0m\u001b[0;34m\u001b[0m\u001b[0m\n",
            "\u001b[0;31mNameError\u001b[0m: name 'tf' is not defined"
          ]
        }
      ]
    },
    {
      "cell_type": "code",
      "source": [
        "#separando las entradas"
      ],
      "metadata": {
        "id": "1AbhV3JZSH7a"
      },
      "execution_count": null,
      "outputs": []
    },
    {
      "cell_type": "code",
      "source": [
        "input_A = keras.layers.Input(shape=[5], name=\"wide_input\")#se tiene solo una entrada, la entra A va tener 5 variables\n",
        "##input_= keras.layers.Input(shape=X_train.shape[1:])\n",
        "\n",
        "input_B = keras.layers.Input(shape=[6], name=\"deep_input\")#La entrada B va tener 6 variables y es la entrada profunda\n",
        "\n",
        "\n",
        "\n",
        "\n",
        "bn_1 = keras.layers.BatchNormalization(momentum=0.99)(input_B)\n",
        "hidden1 = keras.layers.Dense(500, activation=\"relu\",kernel_initializer=\"he_normal\")(bn_1)\n",
        "dropout1 = Dropout(0.1)(hidden1)\n",
        "\n",
        "bn_2 = keras.layers.BatchNormalization(momentum=0.99)(dropout1)\n",
        "hidden2 = keras.layers.Dense(400, activation=\"relu\",kernel_initializer=\"he_normal\")(bn_2)\n",
        "dropout2 = Dropout(0.1)(hidden2)\n",
        "\n",
        "bn_3 = keras.layers.BatchNormalization(momentum=0.99)(dropout2)\n",
        "hidden3 = keras.layers.Dense(300, activation=\"relu\",kernel_initializer=\"he_normal\")(bn_3)\n",
        "dropout3 = Dropout(0.1)(hidden3)\n",
        "\n",
        "bn_4 = keras.layers.BatchNormalization(momentum=0.99)(dropout3)\n",
        "hidden4 = keras.layers.Dense(200, activation=\"relu\",kernel_initializer=\"he_normal\")(bn_4)\n",
        "dropout4 = Dropout(0.1)(hidden4)\n",
        "\n",
        "bn_5 = keras.layers.BatchNormalization(momentum=0.99)(dropout4)\n",
        "hidden5 = keras.layers.Dense(100, activation=\"relu\",kernel_initializer=\"he_normal\")(bn_5)\n",
        "dropout5=Dropout(0.1)(hidden5)\n",
        "\n",
        "\n",
        "concat = keras.layers.concatenate([input_A,dropout5])\n",
        "\n",
        "bn_6 = keras.layers.BatchNormalization(momentum=0.99)(concat)\n",
        "\n",
        "\n",
        "output = keras.layers.Dense(10,activation=\"softmax\",kernel_initializer=\"he_normal\")(bn_6)\n",
        "\n",
        "model2 = keras.models.Model(inputs=[input_A,input_B], outputs=[output])\n",
        "\n"
      ],
      "metadata": {
        "id": "KlrphDwvSL27"
      },
      "execution_count": null,
      "outputs": []
    },
    {
      "cell_type": "markdown",
      "source": [
        "##**Recomendaciones**\n",
        "\n",
        "- Se pueden intentar otras optimizaciones adicionales, arquitecturas y afinamientos. El objetivo es intentar mejorar cada vez más la métrica del problema en cuestión.\n",
        "\n",
        "- En la medida de lo posible, justifique las elecciones de arquitectura, hiperparámetros, etc.\n",
        "\n",
        "- Es posible, que una arquitectura más simple resuelva mejor el problema, indicar esto después de haber probado la configuración básica propuesta."
      ],
      "metadata": {
        "id": "p43NgJFPVQqV"
      }
    }
  ]
}
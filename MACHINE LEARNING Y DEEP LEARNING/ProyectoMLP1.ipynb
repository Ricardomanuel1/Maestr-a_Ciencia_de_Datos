{
  "nbformat": 4,
  "nbformat_minor": 0,
  "metadata": {
    "colab": {
      "provenance": [],
      "include_colab_link": true
    },
    "kernelspec": {
      "name": "python3",
      "display_name": "Python 3"
    },
    "language_info": {
      "name": "python"
    }
  },
  "cells": [
    {
      "cell_type": "markdown",
      "metadata": {
        "id": "view-in-github",
        "colab_type": "text"
      },
      "source": [
        "<a href=\"https://colab.research.google.com/github/Ricardomanuel1/Maestria_Ciencia_de_Datos/blob/main/MACHINE%20LEARNING%20Y%20DEEP%20LEARNING/ProyectoMLP1.ipynb\" target=\"_parent\"><img src=\"https://colab.research.google.com/assets/colab-badge.svg\" alt=\"Open In Colab\"/></a>"
      ]
    },
    {
      "cell_type": "markdown",
      "source": [
        "#**Primer Proyecto de MLPs**\n",
        "\n",
        "- El objetivo de este ejercicio es revisar todos los conceptos vistos en clase hasta ahora, para construir una arquitectura de red neuronal completamente conectada (MLP), que tenga el mejor desempeño posible sobre una tarea dada.\n",
        "\n",
        "- La idea es que a través de la experimentación, lleguemos a construir un modelo robusto, que sirva como base para resolver otras tareas similares.\n",
        "\n",
        "- El problema a resolver es de clasificación de imágenes usando CIFAR10."
      ],
      "metadata": {
        "id": "bCWyQIVHOfbe"
      }
    },
    {
      "cell_type": "markdown",
      "source": [
        "##**Conjunto de Datos**\n",
        "\n",
        "El conjunto de datos CIFAR10 tiene imágenes de 32x32 píxeles. Hay 50.000 imágenes de entrenamiento y 10.000 imágenes de pruebas. Cada imagen en CIFAR10 tiene asignada una de las diez clases disponibles.\n"
      ],
      "metadata": {
        "id": "PUABO_FJOgDA"
      }
    },
    {
      "cell_type": "code",
      "source": [
        "# Python ≥3.5 is required\n",
        "import sys\n",
        "assert sys.version_info >= (3, 5)\n",
        "\n",
        "# Scikit-Learn ≥0.20 is required\n",
        "import sklearn\n",
        "assert sklearn.__version__ >= \"0.20\"\n",
        "\n",
        "try:\n",
        "    # %tensorflow_version only exists in Colab.\n",
        "    %tensorflow_version 2.x\n",
        "except Exception:\n",
        "    pass\n",
        "\n",
        "# TensorFlow ≥2.0 is required\n",
        "import tensorflow as tf\n",
        "assert tf.__version__ >= \"2.0\"\n",
        "%matplotlib inline\n",
        "import matplotlib as mpl\n",
        "import matplotlib.pyplot as plt\n",
        "mpl.rc('axes', labelsize=14)\n",
        "mpl.rc('xtick', labelsize=12)\n",
        "mpl.rc('ytick', labelsize=12)\n",
        "\n",
        "from tensorflow import keras"
      ],
      "metadata": {
        "id": "1BD7tqzUYqaT",
        "outputId": "a4da6b6c-d621-4fa2-f674-480130d7b5ce",
        "colab": {
          "base_uri": "https://localhost:8080/"
        }
      },
      "execution_count": 215,
      "outputs": [
        {
          "output_type": "stream",
          "name": "stdout",
          "text": [
            "Colab only includes TensorFlow 2.x; %tensorflow_version has no effect.\n"
          ]
        }
      ]
    },
    {
      "cell_type": "code",
      "source": [
        "from sklearn.model_selection import train_test_split"
      ],
      "metadata": {
        "id": "_OmTprhNZn9J"
      },
      "execution_count": 216,
      "outputs": []
    },
    {
      "cell_type": "markdown",
      "source": [
        "##**Etapas mínimas a realizar**"
      ],
      "metadata": {
        "id": "w1IUsNvEPnCN"
      }
    },
    {
      "cell_type": "markdown",
      "source": [
        "Las etapas se encuentran enumeradas\n",
        "\n",
        "\n",
        "\n",
        "\n",
        "\n",
        "\n",
        "\n",
        "\n",
        "\n",
        "\n",
        "\n",
        "\n"
      ],
      "metadata": {
        "id": "rhPWuSdwPsRz"
      }
    },
    {
      "cell_type": "markdown",
      "source": [
        "1. Separar los conjuntos de entrenamiento, validación y prueba correspondientes."
      ],
      "metadata": {
        "id": "iaZFx-bSwNrb"
      }
    },
    {
      "cell_type": "code",
      "source": [
        "(X_train_full, y_train_full), (X_test, y_test)=tf.keras.datasets.cifar10.load_data()\n",
        "X_train, X_valid, y_train, y_valid = train_test_split(X_train_full, y_train_full, random_state=42)\n",
        "# conservamos la separacion entre entrenamiento X_train_full (50000) y prueba X_test (10000)\n",
        "#separamos aleatoriamente X_train (37500) y X_valid (12500)"
      ],
      "metadata": {
        "id": "kn9BLjo0Q8ec"
      },
      "execution_count": 217,
      "outputs": []
    },
    {
      "cell_type": "code",
      "source": [
        "assert X_train_full.shape == (50000, 32, 32, 3)\n",
        "assert y_train_full.shape == (50000, 1)\n",
        "assert y_test.shape == (10000, 1)\n",
        "\n",
        "assert X_train.shape == (37500, 32, 32, 3)\n",
        "assert X_valid.shape == (12500, 32, 32, 3)"
      ],
      "metadata": {
        "id": "htF9EWg1VgB_"
      },
      "execution_count": 218,
      "outputs": []
    },
    {
      "cell_type": "code",
      "source": [
        "clases_names = ['airplane','automobile','bird','cat','deer','dog','frog','horse','ship','truck']"
      ],
      "metadata": {
        "id": "D9f-S61KeLdp"
      },
      "execution_count": 219,
      "outputs": []
    },
    {
      "cell_type": "code",
      "source": [
        "n_rows = 2\n",
        "n_cols = 10\n",
        "\n",
        "plt.figure(figsize=(n_cols * 1.2, n_rows * 1.2))\n",
        "\n",
        "for row in range(n_rows):\n",
        "    for col in range(n_cols):#\n",
        "        index = n_cols * row + col\n",
        "        plt.subplot(n_rows, n_cols, index + 1)\n",
        "\n",
        "        plt.imshow(X_train_full[index], cmap=\"binary\", interpolation=\"nearest\")\n",
        "        plt.axis('off')\n",
        "        #plt.title(clases_names[y_train_full[index]], fontsize=12)\n",
        "\n",
        "plt.subplots_adjust(wspace=0.2, hspace=0.5)\n",
        "plt.show()"
      ],
      "metadata": {
        "id": "f_9Bpmbae8Rg",
        "outputId": "455c6927-149c-46cd-fee6-27ac5f50fac8",
        "colab": {
          "base_uri": "https://localhost:8080/",
          "height": 221
        }
      },
      "execution_count": 220,
      "outputs": [
        {
          "output_type": "display_data",
          "data": {
            "text/plain": [
              "<Figure size 1200x240 with 20 Axes>"
            ],
            "image/png": "[encoded data removed]"
          },
          "metadata": {}
        }
      ]
    },
    {
      "cell_type": "markdown",
      "source": [
        "2. Aplicar escala y normalización, si lo cree conveniente."
      ],
      "metadata": {
        "id": "ThxIsfSSY_6J"
      }
    },
    {
      "cell_type": "code",
      "source": [
        "#Reducimos las intensidades de los píxeles al rango 0-1 dividiéndolas por 255.\n",
        "#con ello normalizamos los datos y evitamos inestabilidad numérica\n",
        "X_train=X_train/255\n",
        "X_valid=X_valid/255\n",
        "X_test=X_test/255"
      ],
      "metadata": {
        "id": "a0fswMqAdwPV"
      },
      "execution_count": 221,
      "outputs": []
    },
    {
      "cell_type": "markdown",
      "source": [
        "3. Usar el enfoque funcional (functional API) para definir la arquitectura de la red neuronal MLP."
      ],
      "metadata": {
        "id": "eYJuTRYFwV9S"
      }
    },
    {
      "cell_type": "code",
      "source": [
        "np.random.seed(42)\n",
        "tf.random.set_seed(42)"
      ],
      "metadata": {
        "id": "xih_Xp96wVH9"
      },
      "execution_count": 230,
      "outputs": []
    },
    {
      "cell_type": "code",
      "source": [
        "input_ = keras.layers.Input(shape=(32,32,3))\n",
        "\n",
        "hidden1 = keras.layers.Dense(50, activation=\"relu\")(input_)\n",
        "hidden2 = keras.layers.Dense(50, activation=\"relu\")(hidden1)\n",
        "hidden3 = keras.layers.Dense(50, activation=\"relu\")(hidden2)\n",
        "hidden4 = keras.layers.Dense(50, activation=\"relu\")(hidden3)\n",
        "hidden5 = keras.layers.Dense(50, activation=\"relu\")(hidden4)\n",
        "\n",
        "concat = keras.layers.concatenate([input_, hidden5])\n",
        "\n",
        "output = keras.layers.Dense(10,activation=\"softmax\")(concat)\n",
        "\n",
        "model1 = keras.models.Model(inputs=[input_], outputs=[output])"
      ],
      "metadata": {
        "id": "NPkIqM2-yss1"
      },
      "execution_count": 233,
      "outputs": []
    },
    {
      "cell_type": "code",
      "source": [
        "model1.summary()"
      ],
      "metadata": {
        "id": "m396JK-v5jqG",
        "outputId": "a67db83b-9553-497f-e974-4a148eafa960",
        "colab": {
          "base_uri": "https://localhost:8080/"
        }
      },
      "execution_count": 234,
      "outputs": [
        {
          "output_type": "stream",
          "name": "stdout",
          "text": [
            "Model: \"model_7\"\n",
            "__________________________________________________________________________________________________\n",
            " Layer (type)                Output Shape                 Param #   Connected to                  \n",
            "==================================================================================================\n",
            " input_8 (InputLayer)        [(None, 32, 32, 3)]          0         []                            \n",
            "                                                                                                  \n",
            " dense_42 (Dense)            (None, 32, 32, 50)           200       ['input_8[0][0]']             \n",
            "                                                                                                  \n",
            " dense_43 (Dense)            (None, 32, 32, 50)           2550      ['dense_42[0][0]']            \n",
            "                                                                                                  \n",
            " dense_44 (Dense)            (None, 32, 32, 50)           2550      ['dense_43[0][0]']            \n",
            "                                                                                                  \n",
            " dense_45 (Dense)            (None, 32, 32, 50)           2550      ['dense_44[0][0]']            \n",
            "                                                                                                  \n",
            " dense_46 (Dense)            (None, 32, 32, 50)           2550      ['dense_45[0][0]']            \n",
            "                                                                                                  \n",
            " concatenate_7 (Concatenate  (None, 32, 32, 53)           0         ['input_8[0][0]',             \n",
            " )                                                                   'dense_46[0][0]']            \n",
            "                                                                                                  \n",
            " dense_47 (Dense)            (None, 32, 32, 10)           540       ['concatenate_7[0][0]']       \n",
            "                                                                                                  \n",
            "==================================================================================================\n",
            "Total params: 10940 (42.73 KB)\n",
            "Trainable params: 10940 (42.73 KB)\n",
            "Non-trainable params: 0 (0.00 Byte)\n",
            "__________________________________________________________________________________________________\n"
          ]
        }
      ]
    },
    {
      "cell_type": "code",
      "source": [
        "input_ = keras.layers.Input(shape=X_train.shape[1:])\n",
        "\n",
        "hidden1 = keras.layers.Dense(50, activation=\"relu\")(input_)\n",
        "hidden2 = keras.layers.Dense(50, activation=\"relu\")(hidden1)\n",
        "hidden3 = keras.layers.Dense(50, activation=\"relu\")(hidden2)\n",
        "hidden4 = keras.layers.Dense(50, activation=\"relu\")(hidden3)\n",
        "hidden5 = keras.layers.Dense(50, activation=\"relu\")(hidden4)\n",
        "\n",
        "concat = keras.layers.concatenate([input_, hidden5])\n",
        "\n",
        "output = keras.layers.Dense(10,activation=\"softmax\")(concat)\n",
        "\n",
        "model2 = keras.models.Model(inputs=[input_], outputs=[output])\n"
      ],
      "metadata": {
        "id": "9_rVSGBDAug6"
      },
      "execution_count": 238,
      "outputs": []
    },
    {
      "cell_type": "code",
      "source": [
        "model1.summary()"
      ],
      "metadata": {
        "id": "qihycNE6Bg-R",
        "outputId": "342f9d68-2ecd-442b-d510-4b3d20cd431b",
        "colab": {
          "base_uri": "https://localhost:8080/"
        }
      },
      "execution_count": 239,
      "outputs": [
        {
          "output_type": "stream",
          "name": "stdout",
          "text": [
            "Model: \"model_7\"\n",
            "__________________________________________________________________________________________________\n",
            " Layer (type)                Output Shape                 Param #   Connected to                  \n",
            "==================================================================================================\n",
            " input_8 (InputLayer)        [(None, 32, 32, 3)]          0         []                            \n",
            "                                                                                                  \n",
            " dense_42 (Dense)            (None, 32, 32, 50)           200       ['input_8[0][0]']             \n",
            "                                                                                                  \n",
            " dense_43 (Dense)            (None, 32, 32, 50)           2550      ['dense_42[0][0]']            \n",
            "                                                                                                  \n",
            " dense_44 (Dense)            (None, 32, 32, 50)           2550      ['dense_43[0][0]']            \n",
            "                                                                                                  \n",
            " dense_45 (Dense)            (None, 32, 32, 50)           2550      ['dense_44[0][0]']            \n",
            "                                                                                                  \n",
            " dense_46 (Dense)            (None, 32, 32, 50)           2550      ['dense_45[0][0]']            \n",
            "                                                                                                  \n",
            " concatenate_7 (Concatenate  (None, 32, 32, 53)           0         ['input_8[0][0]',             \n",
            " )                                                                   'dense_46[0][0]']            \n",
            "                                                                                                  \n",
            " dense_47 (Dense)            (None, 32, 32, 10)           540       ['concatenate_7[0][0]']       \n",
            "                                                                                                  \n",
            "==================================================================================================\n",
            "Total params: 10940 (42.73 KB)\n",
            "Trainable params: 10940 (42.73 KB)\n",
            "Non-trainable params: 0 (0.00 Byte)\n",
            "__________________________________________________________________________________________________\n"
          ]
        }
      ]
    },
    {
      "cell_type": "markdown",
      "source": [
        "4. La arquitectura debe ser profunda, con por lo menos 5 capas densas. Definir un número de neuronas para cada capa oculta, función de costo y justificar esas elecciones."
      ],
      "metadata": {
        "id": "nKnhkUbYwjEV"
      }
    },
    {
      "cell_type": "markdown",
      "source": [
        "5. Usar Callbacks: ModelCheckpoint y EarlyStopping al momento de entrenar."
      ],
      "metadata": {
        "id": "N-HxFfdLwvhM"
      }
    },
    {
      "cell_type": "markdown",
      "source": [
        "6. Mostrar el gráfico de la función de costo en tiempo de entrenamiento vs tiempo de validación, para verificar si hay overfitting."
      ],
      "metadata": {
        "id": "0gmAAlYjw2C9"
      }
    },
    {
      "cell_type": "markdown",
      "source": [
        "6. Definir una función de activación y también un mecanismo de inicialización de pesos. Justificar esta elección."
      ],
      "metadata": {
        "id": "XkmZ70vVxAaZ"
      }
    },
    {
      "cell_type": "markdown",
      "source": [
        "7. Usar el mecanismo de Batch Normalization. Justificar la elección de sus hiperparámetros."
      ],
      "metadata": {
        "id": "UF-B-NB5xFJX"
      }
    },
    {
      "cell_type": "markdown",
      "source": [
        "8. Usar un mecanismo de regularización (puede ser Dropout)."
      ],
      "metadata": {
        "id": "p3ZL9wrOxKSH"
      }
    },
    {
      "cell_type": "markdown",
      "source": [
        "9. Definir una función de optimización y justificar su elección."
      ],
      "metadata": {
        "id": "63AF9aFkxOKA"
      }
    },
    {
      "cell_type": "markdown",
      "source": [
        "10. Encontrar una taza de aprendizaje adecuada usando alguna estrategia de *Learning Rate Scheduling*. Justificar la elección de sus hiperparámetros."
      ],
      "metadata": {
        "id": "TLBQKeKFxTKS"
      }
    },
    {
      "cell_type": "markdown",
      "source": [
        "11. Realizar un proceso de ajuste de hiperparámetros (los que considere convenientes), usando Keras Tuner."
      ],
      "metadata": {
        "id": "DIZS3cEmxXVQ"
      }
    },
    {
      "cell_type": "markdown",
      "source": [
        "12. Reporte el resultado final en el conjunto de prueba usando la(s) métrica(s) de clasificación seleccionada(s)."
      ],
      "metadata": {
        "id": "zscJDA3kxdAE"
      }
    },
    {
      "cell_type": "markdown",
      "source": [
        "13. Definir una segunda arquitectura reutilizando todas las capas y sus pesos (a excepción de la capa de salida) haciendo una conexión *wide and deep*, de las entradas. Mejora el resultado?"
      ],
      "metadata": {
        "id": "obusu7CgxjDx"
      }
    },
    {
      "cell_type": "markdown",
      "source": [
        "##**Recomendaciones**\n",
        "\n",
        "- Se pueden intentar otras optimizaciones adicionales, arquitecturas y afinamientos. El objetivo es intentar mejorar cada vez más la métrica del problema en cuestión.\n",
        "\n",
        "- En la medida de lo posible, justifique las elecciones de arquitectura, hiperparámetros, etc.\n",
        "\n",
        "- Es posible, que una arquitectura más simple resuelva mejor el problema, indicar esto después de haber probado la configuración básica propuesta."
      ],
      "metadata": {
        "id": "p43NgJFPVQqV"
      }
    },
    {
      "cell_type": "code",
      "source": [
        "import numpy as np\n",
        "\n",
        "# Crear una matriz de ejemplo\n",
        "matriz_ejemplo = np.random.randint(0, 256, size=(1, 32, 32, 3))\n",
        "\n",
        "# Mostrar la matriz de ejemplo\n",
        "print(matriz_ejemplo)"
      ],
      "metadata": {
        "id": "RJ3B-ksK-Z2R",
        "outputId": "01699647-5c8f-4c40-ada7-261c7cc75db4",
        "colab": {
          "base_uri": "https://localhost:8080/"
        }
      },
      "execution_count": 34,
      "outputs": [
        {
          "output_type": "stream",
          "name": "stdout",
          "text": [
            "[[[[ 67  60 124]\n",
            "   [ 52 133  69]\n",
            "   [ 76  99 191]\n",
            "   ...\n",
            "   [ 97 148  70]\n",
            "   [132  12  42]\n",
            "   [221 227 122]]\n",
            "\n",
            "  [[ 18 181  41]\n",
            "   [ 11 231 189]\n",
            "   [  4 232 171]\n",
            "   ...\n",
            "   [ 57 222 244]\n",
            "   [137 123 188]\n",
            "   [239 231 176]]\n",
            "\n",
            "  [[139 191 174]\n",
            "   [245 152 138]\n",
            "   [ 13  34 139]\n",
            "   ...\n",
            "   [203 130 232]\n",
            "   [ 82 208 137]\n",
            "   [243 252 200]]\n",
            "\n",
            "  ...\n",
            "\n",
            "  [[109 231  75]\n",
            "   [115 195 241]\n",
            "   [ 40  16  73]\n",
            "   ...\n",
            "   [126  60 200]\n",
            "   [171  67  16]\n",
            "   [100  71  57]]\n",
            "\n",
            "  [[108 228 165]\n",
            "   [239 183  88]\n",
            "   [135 153  93]\n",
            "   ...\n",
            "   [249 181 160]\n",
            "   [207 228 215]\n",
            "   [155 169 234]]\n",
            "\n",
            "  [[244 162 244]\n",
            "   [167 216 175]\n",
            "   [214  51  80]\n",
            "   ...\n",
            "   [ 48 237  33]\n",
            "   [ 44 223  22]\n",
            "   [185 148  33]]]]\n"
          ]
        }
      ]
    },
    {
      "cell_type": "code",
      "source": [
        "len(matriz_ejemplo)"
      ],
      "metadata": {
        "id": "LWgDS-HTEKVJ",
        "outputId": "2dba1a83-ff7a-48ba-f805-aef2b4c62bb7",
        "colab": {
          "base_uri": "https://localhost:8080/"
        }
      },
      "execution_count": 64,
      "outputs": [
        {
          "output_type": "execute_result",
          "data": {
            "text/plain": [
              "1"
            ]
          },
          "metadata": {},
          "execution_count": 64
        }
      ]
    },
    {
      "cell_type": "code",
      "source": [
        "len(matriz_ejemplo[0])"
      ],
      "metadata": {
        "id": "ZdeawEvYDWIY",
        "outputId": "d13c2f5b-3d29-413f-c525-da813a8666bc",
        "colab": {
          "base_uri": "https://localhost:8080/"
        }
      },
      "execution_count": 61,
      "outputs": [
        {
          "output_type": "execute_result",
          "data": {
            "text/plain": [
              "32"
            ]
          },
          "metadata": {},
          "execution_count": 61
        }
      ]
    },
    {
      "cell_type": "code",
      "source": [
        "len(matriz_ejemplo[0][0])"
      ],
      "metadata": {
        "id": "63Wh460ADuJb",
        "outputId": "d49472b1-23a1-424c-a338-d1a2eabe0ff6",
        "colab": {
          "base_uri": "https://localhost:8080/"
        }
      },
      "execution_count": 62,
      "outputs": [
        {
          "output_type": "execute_result",
          "data": {
            "text/plain": [
              "32"
            ]
          },
          "metadata": {},
          "execution_count": 62
        }
      ]
    },
    {
      "cell_type": "code",
      "source": [
        "len(matriz_ejemplo[0][0][0])"
      ],
      "metadata": {
        "id": "zsz9ocpUDvRW",
        "outputId": "64e667a1-fe7e-4959-b316-728fc267798c",
        "colab": {
          "base_uri": "https://localhost:8080/"
        }
      },
      "execution_count": 63,
      "outputs": [
        {
          "output_type": "execute_result",
          "data": {
            "text/plain": [
              "3"
            ]
          },
          "metadata": {},
          "execution_count": 63
        }
      ]
    },
    {
      "cell_type": "code",
      "source": [
        "print(matriz_ejemplo[0][0])"
      ],
      "metadata": {
        "id": "AbMgL2e3FRZo",
        "outputId": "a594c02f-ba4f-412f-cea9-7f0918f425da",
        "colab": {
          "base_uri": "https://localhost:8080/"
        }
      },
      "execution_count": 75,
      "outputs": [
        {
          "output_type": "stream",
          "name": "stdout",
          "text": [
            "[[ 67  60 124]\n",
            " [ 52 133  69]\n",
            " [ 76  99 191]\n",
            " [ 54 143 194]\n",
            " [ 80 135 170]\n",
            " [131 199 204]\n",
            " [ 81 153 198]\n",
            " [208 251 230]\n",
            " [186 103 203]\n",
            " [ 37 177 160]\n",
            " [ 63 241 133]\n",
            " [250 109  92]\n",
            " [ 80 141  60]\n",
            " [ 99  82 149]\n",
            " [ 89  81  54]\n",
            " [228 192 237]\n",
            " [ 84  41  67]\n",
            " [199  24   3]\n",
            " [121  62 188]\n",
            " [119  83 121]\n",
            " [ 56 179 243]\n",
            " [140  32  67]\n",
            " [ 27   6  39]\n",
            " [105 190 237]\n",
            " [ 39  62  48]\n",
            " [ 77 234 210]\n",
            " [ 92 163 117]\n",
            " [ 38 236  74]\n",
            " [248  39 185]\n",
            " [ 97 148  70]\n",
            " [132  12  42]\n",
            " [221 227 122]]\n"
          ]
        }
      ]
    }
  ]
}
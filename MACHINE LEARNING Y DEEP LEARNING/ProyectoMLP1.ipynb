{
  "nbformat": 4,
  "nbformat_minor": 0,
  "metadata": {
    "colab": {
      "provenance": [],
      "gpuType": "T4",
      "include_colab_link": true
    },
    "kernelspec": {
      "name": "python3",
      "display_name": "Python 3"
    },
    "language_info": {
      "name": "python"
    },
    "accelerator": "GPU"
  },
  "cells": [
    {
      "cell_type": "markdown",
      "metadata": {
        "id": "view-in-github",
        "colab_type": "text"
      },
      "source": [
        "<a href=\"https://colab.research.google.com/github/Ricardomanuel1/Maestria_Ciencia_de_Datos/blob/main/MACHINE%20LEARNING%20Y%20DEEP%20LEARNING/ProyectoMLP1.ipynb\" target=\"_parent\"><img src=\"https://colab.research.google.com/assets/colab-badge.svg\" alt=\"Open In Colab\"/></a>"
      ]
    },
    {
      "cell_type": "markdown",
      "source": [
        "#**Primer Proyecto de MLPs**\n",
        "\n",
        "- El objetivo de este ejercicio es revisar todos los conceptos vistos en clase hasta ahora, para construir una arquitectura de red neuronal completamente conectada (MLP), que tenga el mejor desempeño posible sobre una tarea dada.\n",
        "\n",
        "- La idea es que a través de la experimentación, lleguemos a construir un modelo robusto, que sirva como base para resolver otras tareas similares.\n",
        "\n",
        "- El problema a resolver es de clasificación de imágenes usando CIFAR10."
      ],
      "metadata": {
        "id": "bCWyQIVHOfbe"
      }
    },
    {
      "cell_type": "markdown",
      "source": [
        "##**Conjunto de Datos**\n",
        "\n",
        "El conjunto de datos CIFAR10 tiene imágenes de 32x32 píxeles. Hay 50.000 imágenes de entrenamiento y 10.000 imágenes de pruebas. Cada imagen en CIFAR10 tiene asignada una de las diez clases disponibles.\n"
      ],
      "metadata": {
        "id": "PUABO_FJOgDA"
      }
    },
    {
      "cell_type": "code",
      "source": [
        "# Python ≥3.5 is required\n",
        "import sys\n",
        "assert sys.version_info >= (3, 5)\n",
        "\n",
        "# Scikit-Learn ≥0.20 is required\n",
        "import sklearn\n",
        "assert sklearn.__version__ >= \"0.20\"\n",
        "\n",
        "try:\n",
        "    # %tensorflow_version only exists in Colab.\n",
        "    %tensorflow_version 2.x\n",
        "except Exception:\n",
        "    pass\n",
        "\n",
        "# TensorFlow ≥2.0 is required\n",
        "import tensorflow as tf\n",
        "assert tf.__version__ >= \"2.0\"\n",
        "%matplotlib inline\n",
        "import matplotlib as mpl\n",
        "import matplotlib.pyplot as plt\n",
        "mpl.rc('axes', labelsize=14)\n",
        "mpl.rc('xtick', labelsize=12)\n",
        "mpl.rc('ytick', labelsize=12)\n",
        "import numpy as np\n",
        "\n",
        "\n",
        "\n"
      ],
      "metadata": {
        "id": "1BD7tqzUYqaT",
        "outputId": "c5e94bd8-cffa-410a-cec1-a794e4819676",
        "colab": {
          "base_uri": "https://localhost:8080/"
        }
      },
      "execution_count": 80,
      "outputs": [
        {
          "output_type": "stream",
          "name": "stdout",
          "text": [
            "Colab only includes TensorFlow 2.x; %tensorflow_version has no effect.\n"
          ]
        }
      ]
    },
    {
      "cell_type": "code",
      "source": [
        "from tensorflow import keras\n",
        "from sklearn.model_selection import train_test_split\n",
        "#from tensorflow.keras.layers import Input, Dense, concatenate\n",
        "#from tensorflow.keras.models import Model"
      ],
      "metadata": {
        "id": "_OmTprhNZn9J"
      },
      "execution_count": 54,
      "outputs": []
    },
    {
      "cell_type": "markdown",
      "source": [
        "##**Etapas mínimas a realizar**"
      ],
      "metadata": {
        "id": "w1IUsNvEPnCN"
      }
    },
    {
      "cell_type": "markdown",
      "source": [
        "Las etapas se encuentran enumeradas\n",
        "\n",
        "\n",
        "\n",
        "\n",
        "\n",
        "\n",
        "\n",
        "\n",
        "\n",
        "\n",
        "\n",
        "\n"
      ],
      "metadata": {
        "id": "rhPWuSdwPsRz"
      }
    },
    {
      "cell_type": "markdown",
      "source": [
        "1. Separar los conjuntos de entrenamiento, validación y prueba correspondientes."
      ],
      "metadata": {
        "id": "iaZFx-bSwNrb"
      }
    },
    {
      "cell_type": "code",
      "source": [
        "(X_train_full, y_train_full), (X_test, y_test)=tf.keras.datasets.cifar10.load_data()\n",
        "X_train, X_valid, y_train, y_valid = train_test_split(X_train_full, y_train_full, random_state=42)\n",
        "# conservamos la separacion entre entrenamiento X_train_full (50000) y prueba X_test (10000)\n",
        "#separamos aleatoriamente X_train (37500) y X_valid (12500)"
      ],
      "metadata": {
        "id": "kn9BLjo0Q8ec"
      },
      "execution_count": 55,
      "outputs": []
    },
    {
      "cell_type": "code",
      "source": [
        "assert X_train_full.shape == (50000, 32, 32, 3)\n",
        "assert y_train_full.shape == (50000, 1)\n",
        "assert y_test.shape == (10000, 1)\n",
        "\n",
        "assert X_train.shape == (37500, 32, 32, 3)\n",
        "assert X_valid.shape == (12500, 32, 32, 3)"
      ],
      "metadata": {
        "id": "htF9EWg1VgB_"
      },
      "execution_count": 56,
      "outputs": []
    },
    {
      "cell_type": "code",
      "source": [
        "clases_names = ['airplane','automobile','bird','cat','deer','dog','frog','horse','ship','truck']"
      ],
      "metadata": {
        "id": "D9f-S61KeLdp"
      },
      "execution_count": 57,
      "outputs": []
    },
    {
      "cell_type": "code",
      "source": [
        "#Imprimimos los primeros 10 objetos\n",
        "n_rows = 2\n",
        "n_cols = 10\n",
        "\n",
        "plt.figure(figsize=(n_cols * 1.2, n_rows * 1.2))\n",
        "\n",
        "for row in range(n_rows):\n",
        "    for col in range(n_cols):#\n",
        "        index = n_cols * row + col\n",
        "        plt.subplot(n_rows, n_cols, index + 1)\n",
        "\n",
        "        plt.imshow(X_train_full[index], cmap=\"binary\", interpolation=\"nearest\")\n",
        "        plt.axis('off')\n",
        "        #plt.title(clases_names[y_train_full[index]], fontsize=12)\n",
        "\n",
        "plt.subplots_adjust(wspace=0.2, hspace=0.5)\n",
        "plt.show()"
      ],
      "metadata": {
        "id": "f_9Bpmbae8Rg",
        "outputId": "b61e1857-fedc-48ea-9c96-0d92d57ee17f",
        "colab": {
          "base_uri": "https://localhost:8080/",
          "height": 221
        }
      },
      "execution_count": 58,
      "outputs": [
        {
          "output_type": "display_data",
          "data": {
            "text/plain": [
              "<Figure size 1200x240 with 20 Axes>"
            ],
            "image/png": "[encoded data removed]"
          },
          "metadata": {}
        }
      ]
    },
    {
      "cell_type": "code",
      "source": [
        "#X_train = X_train.reshape((X_train.shape[0], 32 * 32 * 3))"
      ],
      "metadata": {
        "id": "SnJk2BSBzeqi"
      },
      "execution_count": null,
      "outputs": []
    },
    {
      "cell_type": "code",
      "source": [
        "X_train = X_train.reshape((X_train.shape[0], 32 * 32 * 3))\n",
        "X_valid=X_valid.reshape((X_valid.shape[0], 32 * 32 * 3))\n",
        "X_test = X_test.reshape((X_test.shape[0], 32 * 32 * 3))"
      ],
      "metadata": {
        "id": "bfbidWFwzr_C"
      },
      "execution_count": 59,
      "outputs": []
    },
    {
      "cell_type": "markdown",
      "source": [
        "2. Aplicar escala y normalización, si lo cree conveniente."
      ],
      "metadata": {
        "id": "ThxIsfSSY_6J"
      }
    },
    {
      "cell_type": "code",
      "source": [
        "#Reducimos las intensidades de los píxeles al rango 0-1 dividiéndolas por 255.\n",
        "#con ello normalizamos los datos y evitamos inestabilidad numérica\n",
        "X_train=X_train/255\n",
        "X_valid=X_valid/255\n",
        "X_test=X_test/255"
      ],
      "metadata": {
        "id": "a0fswMqAdwPV"
      },
      "execution_count": 60,
      "outputs": []
    },
    {
      "cell_type": "markdown",
      "source": [
        "3. Usar el enfoque funcional (functional API) para definir la arquitectura de la red neuronal MLP."
      ],
      "metadata": {
        "id": "eYJuTRYFwV9S"
      }
    },
    {
      "cell_type": "code",
      "source": [
        "np.random.seed(42)\n",
        "tf.random.set_seed(42)"
      ],
      "metadata": {
        "id": "xih_Xp96wVH9"
      },
      "execution_count": 61,
      "outputs": []
    },
    {
      "cell_type": "code",
      "source": [
        "#input_ = keras.layers.Input(shape=(32,32,3))\n",
        "\n",
        "input_= keras.layers.Input(shape=X_train.shape[1:])\n",
        "hidden1 = keras.layers.Dense(500, activation=\"relu\")(input_)\n",
        "hidden2 = keras.layers.Dense(400, activation=\"relu\")(hidden1)\n",
        "hidden3 = keras.layers.Dense(300, activation=\"relu\")(hidden2)\n",
        "hidden4 = keras.layers.Dense(200, activation=\"relu\")(hidden3)\n",
        "hidden5 = keras.layers.Dense(100, activation=\"relu\")(hidden4)\n",
        "\n",
        "concat = keras.layers.concatenate([input_, hidden5])\n",
        "\n",
        "output = keras.layers.Dense(10,activation=\"softmax\")(concat)\n",
        "\n",
        "model = keras.models.Model(inputs=[input_], outputs=[output])"
      ],
      "metadata": {
        "id": "NPkIqM2-yss1"
      },
      "execution_count": 62,
      "outputs": []
    },
    {
      "cell_type": "code",
      "source": [
        "model.layers"
      ],
      "metadata": {
        "id": "5u4JcdryDdVI",
        "outputId": "c96b73de-6628-4f68-a43c-3048d1d45d05",
        "colab": {
          "base_uri": "https://localhost:8080/"
        }
      },
      "execution_count": 63,
      "outputs": [
        {
          "output_type": "execute_result",
          "data": {
            "text/plain": [
              "[<keras.src.engine.input_layer.InputLayer at 0x7beb1c187700>,\n",
              " <keras.src.layers.core.dense.Dense at 0x7beb1c186d70>,\n",
              " <keras.src.layers.core.dense.Dense at 0x7beb1c2ba770>,\n",
              " <keras.src.layers.core.dense.Dense at 0x7beb1c187c70>,\n",
              " <keras.src.layers.core.dense.Dense at 0x7beb1c2b92d0>,\n",
              " <keras.src.layers.core.dense.Dense at 0x7beb1c209ab0>,\n",
              " <keras.src.layers.merging.concatenate.Concatenate at 0x7beb1be0b640>,\n",
              " <keras.src.layers.core.dense.Dense at 0x7beb1c20abc0>]"
            ]
          },
          "metadata": {},
          "execution_count": 63
        }
      ]
    },
    {
      "cell_type": "code",
      "source": [
        "model.summary()"
      ],
      "metadata": {
        "id": "Wl5Ar1F26IaH",
        "outputId": "f9586e45-3dc5-4b81-9a51-cbdef12cb285",
        "colab": {
          "base_uri": "https://localhost:8080/"
        }
      },
      "execution_count": 64,
      "outputs": [
        {
          "output_type": "stream",
          "name": "stdout",
          "text": [
            "Model: \"model_4\"\n",
            "__________________________________________________________________________________________________\n",
            " Layer (type)                Output Shape                 Param #   Connected to                  \n",
            "==================================================================================================\n",
            " input_5 (InputLayer)        [(None, 3072)]               0         []                            \n",
            "                                                                                                  \n",
            " dense_24 (Dense)            (None, 500)                  1536500   ['input_5[0][0]']             \n",
            "                                                                                                  \n",
            " dense_25 (Dense)            (None, 400)                  200400    ['dense_24[0][0]']            \n",
            "                                                                                                  \n",
            " dense_26 (Dense)            (None, 300)                  120300    ['dense_25[0][0]']            \n",
            "                                                                                                  \n",
            " dense_27 (Dense)            (None, 200)                  60200     ['dense_26[0][0]']            \n",
            "                                                                                                  \n",
            " dense_28 (Dense)            (None, 100)                  20100     ['dense_27[0][0]']            \n",
            "                                                                                                  \n",
            " concatenate_4 (Concatenate  (None, 3172)                 0         ['input_5[0][0]',             \n",
            " )                                                                   'dense_28[0][0]']            \n",
            "                                                                                                  \n",
            " dense_29 (Dense)            (None, 10)                   31730     ['concatenate_4[0][0]']       \n",
            "                                                                                                  \n",
            "==================================================================================================\n",
            "Total params: 1969230 (7.51 MB)\n",
            "Trainable params: 1969230 (7.51 MB)\n",
            "Non-trainable params: 0 (0.00 Byte)\n",
            "__________________________________________________________________________________________________\n"
          ]
        }
      ]
    },
    {
      "cell_type": "markdown",
      "source": [
        "4. La arquitectura debe ser profunda, con por lo menos 5 capas densas. Definir un número de neuronas para cada capa oculta, función de costo y justificar esas elecciones."
      ],
      "metadata": {
        "id": "nKnhkUbYwjEV"
      }
    },
    {
      "cell_type": "code",
      "source": [
        "keras.utils.plot_model(model, \"my_cifar10_model.png\", show_shapes=True)"
      ],
      "metadata": {
        "id": "T1dU0esds1G3",
        "outputId": "f57c59d2-711e-475c-9a45-51f6113c4254",
        "colab": {
          "base_uri": "https://localhost:8080/",
          "height": 865
        }
      },
      "execution_count": 65,
      "outputs": [
        {
          "output_type": "execute_result",
          "data": {
            "image/png": "[encoded data removed]",
            "text/plain": [
              "<IPython.core.display.Image object>"
            ]
          },
          "metadata": {},
          "execution_count": 65
        }
      ]
    },
    {
      "cell_type": "code",
      "source": [
        "#compilamos el modelo\n",
        "model.compile(loss=\"sparse_categorical_crossentropy\",\n",
        "              optimizer=\"adam\",\n",
        "              metrics=[\"accuracy\"])\n",
        "\n",
        "#optimizer=keras.optimizers.SGD(learning_rate=1e-3)\n",
        "#optimizer='adam'"
      ],
      "metadata": {
        "id": "rMbq4NsYtEFs"
      },
      "execution_count": 66,
      "outputs": []
    },
    {
      "cell_type": "markdown",
      "source": [
        " Para la arquitectura de nuestro modelo inicimos con 300 neuronas en todas las capas pero puede variar según el resultado del accuracy, utilizamos como función de costo (sparse_categorical_crossentropy) porque se tiene etiquetas con las clases(indices de 0 a 9) y la métrica que usaremos para entrenamiento y validación será ``accuracy`` por ser un problema de clasificacion"
      ],
      "metadata": {
        "id": "xljQ-QrnEuZC"
      }
    },
    {
      "cell_type": "markdown",
      "source": [
        "5. Usar Callbacks: ModelCheckpoint y EarlyStopping al momento de entrenar."
      ],
      "metadata": {
        "id": "N-HxFfdLwvhM"
      }
    },
    {
      "cell_type": "code",
      "source": [
        "#usamos el callbacks para guardar checkpoints e interrumpir cuando no hay progreso\n",
        "checkpoint_cb = keras.callbacks.ModelCheckpoint(\"mi_modelo_keras.h5\", save_best_only=True)\n",
        "early_stopping_cb = keras.callbacks.EarlyStopping(patience=5,\n",
        "                                                  restore_best_weights=True)"
      ],
      "metadata": {
        "id": "hEpj38Y0vajf"
      },
      "execution_count": 67,
      "outputs": []
    },
    {
      "cell_type": "code",
      "source": [
        "history = model.fit(X_train, y_train, epochs=100,\n",
        "                    validation_data=(X_valid, y_valid),\n",
        "                    callbacks=[checkpoint_cb,early_stopping_cb])\n",
        "\n",
        "model = keras.models.load_model(\"mi_modelo_keras.h5\")"
      ],
      "metadata": {
        "id": "r2l6mjgnwioE",
        "outputId": "ee4ecba8-c441-4237-cc24-8d904b5e7c26",
        "colab": {
          "base_uri": "https://localhost:8080/"
        }
      },
      "execution_count": 68,
      "outputs": [
        {
          "output_type": "stream",
          "name": "stdout",
          "text": [
            "Epoch 1/100\n",
            "1172/1172 [==============================] - 39s 32ms/step - loss: 1.9743 - accuracy: 0.3109 - val_loss: 1.8749 - val_accuracy: 0.3490\n",
            "Epoch 2/100\n",
            "1172/1172 [==============================] - 40s 34ms/step - loss: 1.8837 - accuracy: 0.3467 - val_loss: 1.8680 - val_accuracy: 0.3469\n",
            "Epoch 3/100\n",
            "1172/1172 [==============================] - 38s 33ms/step - loss: 1.8530 - accuracy: 0.3626 - val_loss: 1.9739 - val_accuracy: 0.3278\n",
            "Epoch 4/100\n",
            "1172/1172 [==============================] - 35s 30ms/step - loss: 1.8350 - accuracy: 0.3713 - val_loss: 1.8860 - val_accuracy: 0.3550\n",
            "Epoch 5/100\n",
            "1172/1172 [==============================] - 39s 34ms/step - loss: 1.8294 - accuracy: 0.3747 - val_loss: 1.8349 - val_accuracy: 0.3621\n",
            "Epoch 6/100\n",
            "1172/1172 [==============================] - 36s 31ms/step - loss: 1.8224 - accuracy: 0.3801 - val_loss: 1.7978 - val_accuracy: 0.3797\n",
            "Epoch 7/100\n",
            "1172/1172 [==============================] - 36s 31ms/step - loss: 1.8240 - accuracy: 0.3801 - val_loss: 1.8127 - val_accuracy: 0.3792\n",
            "Epoch 8/100\n",
            "1172/1172 [==============================] - 38s 33ms/step - loss: 1.8071 - accuracy: 0.3854 - val_loss: 1.9389 - val_accuracy: 0.3438\n",
            "Epoch 9/100\n",
            "1172/1172 [==============================] - 35s 30ms/step - loss: 1.7996 - accuracy: 0.3866 - val_loss: 1.7944 - val_accuracy: 0.3954\n",
            "Epoch 10/100\n",
            "1172/1172 [==============================] - 36s 31ms/step - loss: 1.7915 - accuracy: 0.3901 - val_loss: 1.8132 - val_accuracy: 0.3753\n",
            "Epoch 11/100\n",
            "1172/1172 [==============================] - 35s 30ms/step - loss: 1.7865 - accuracy: 0.3925 - val_loss: 1.8382 - val_accuracy: 0.3738\n",
            "Epoch 12/100\n",
            "1172/1172 [==============================] - 37s 31ms/step - loss: 1.7852 - accuracy: 0.3927 - val_loss: 1.8925 - val_accuracy: 0.3743\n",
            "Epoch 13/100\n",
            "1172/1172 [==============================] - 35s 30ms/step - loss: 1.7793 - accuracy: 0.3938 - val_loss: 1.9247 - val_accuracy: 0.3382\n",
            "Epoch 14/100\n",
            "1172/1172 [==============================] - 39s 33ms/step - loss: 1.7833 - accuracy: 0.3917 - val_loss: 1.8115 - val_accuracy: 0.3726\n"
          ]
        }
      ]
    },
    {
      "cell_type": "code",
      "source": [
        "mse_test = model.evaluate(X_test, y_test)\n",
        "mse_test"
      ],
      "metadata": {
        "id": "vEgxWdC_yhk8",
        "outputId": "1cce6d85-1799-47c4-b227-3e948cc295ba",
        "colab": {
          "base_uri": "https://localhost:8080/"
        }
      },
      "execution_count": 69,
      "outputs": [
        {
          "output_type": "stream",
          "name": "stdout",
          "text": [
            "313/313 [==============================] - 3s 9ms/step - loss: 1.8102 - accuracy: 0.3852\n"
          ]
        },
        {
          "output_type": "execute_result",
          "data": {
            "text/plain": [
              "[1.8102048635482788, 0.38519999384880066]"
            ]
          },
          "metadata": {},
          "execution_count": 69
        }
      ]
    },
    {
      "cell_type": "markdown",
      "source": [
        "6. Mostrar el gráfico de la función de costo en tiempo de entrenamiento vs tiempo de validación, para verificar si hay overfitting."
      ],
      "metadata": {
        "id": "0gmAAlYjw2C9"
      }
    },
    {
      "cell_type": "code",
      "source": [
        "import pandas as pd\n",
        "\n",
        "pd.DataFrame(history.history).plot(figsize=(8, 5))\n",
        "plt.grid(True)\n",
        "plt.gca().set_ylim(0, 1)\n",
        "plt.show()"
      ],
      "metadata": {
        "id": "vE_6BcDgRdfL",
        "outputId": "24938733-b589-4876-e87a-3e4311c72e01",
        "colab": {
          "base_uri": "https://localhost:8080/",
          "height": 456
        }
      },
      "execution_count": 71,
      "outputs": [
        {
          "output_type": "display_data",
          "data": {
            "text/plain": [
              "<Figure size 800x500 with 1 Axes>"
            ],
            "image/png": "[encoded data removed]"
          },
          "metadata": {}
        }
      ]
    },
    {
      "cell_type": "markdown",
      "source": [
        "No se aprecia distanciamiento entre ambos gráficos por consiguiente podrías decir que no existe overfitting"
      ],
      "metadata": {
        "id": "EKR1wke5I1wN"
      }
    },
    {
      "cell_type": "markdown",
      "source": [
        "6. Definir una función de activación y también un mecanismo de inicialización de pesos. Justificar esta elección."
      ],
      "metadata": {
        "id": "XkmZ70vVxAaZ"
      }
    },
    {
      "cell_type": "markdown",
      "source": [
        "Con el objetivo de prevenir que los gradientes se vuelvan demasiado grandes o demasiado pequeños durante el entrenamiento utilizamos la inicialización de pesos"
      ],
      "metadata": {
        "id": "BqG9cwHmpA-2"
      }
    },
    {
      "cell_type": "code",
      "source": [
        "input_= keras.layers.Input(shape=X_train.shape[1:])\n",
        "hidden1 = keras.layers.Dense(500, activation=\"relu\",kernel_initializer=\"he_normal\")(input_)\n",
        "hidden2 = keras.layers.Dense(400, activation=\"relu\",kernel_initializer=\"he_normal\")(hidden1)\n",
        "hidden3 = keras.layers.Dense(300, activation=\"relu\",kernel_initializer=\"he_normal\")(hidden2)\n",
        "hidden4 = keras.layers.Dense(200, activation=\"relu\",kernel_initializer=\"he_normal\")(hidden3)\n",
        "hidden5 = keras.layers.Dense(100, activation=\"relu\",kernel_initializer=\"he_normal\")(hidden4)\n",
        "\n",
        "concat = keras.layers.concatenate([input_, hidden5])\n",
        "\n",
        "output = keras.layers.Dense(10,activation=\"softmax\",kernel_initializer=\"he_normal\")(concat)\n",
        "\n",
        "model = keras.models.Model(inputs=[input_], outputs=[output])"
      ],
      "metadata": {
        "id": "jUp9Z3VhJorA"
      },
      "execution_count": 85,
      "outputs": []
    },
    {
      "cell_type": "code",
      "source": [
        "model.compile(loss=\"sparse_categorical_crossentropy\",\n",
        "              optimizer=\"adam\",\n",
        "              metrics=[\"accuracy\"])"
      ],
      "metadata": {
        "id": "6Jc4O11sYYSw"
      },
      "execution_count": 86,
      "outputs": []
    },
    {
      "cell_type": "code",
      "source": [
        "checkpoint_cb = keras.callbacks.ModelCheckpoint(\"mi_modelo2_keras.h5\", save_best_only=True)\n",
        "early_stopping_cb = keras.callbacks.EarlyStopping(patience=5,\n",
        "                                                  restore_best_weights=True)"
      ],
      "metadata": {
        "id": "R_iTIVGzYZEI"
      },
      "execution_count": 87,
      "outputs": []
    },
    {
      "cell_type": "code",
      "source": [
        "history = model.fit(X_train, y_train, epochs=100,\n",
        "                    validation_data=(X_valid, y_valid),\n",
        "                    callbacks=[checkpoint_cb,early_stopping_cb])\n",
        "\n",
        "model = keras.models.load_model(\"mi_modelo2_keras.h5\")"
      ],
      "metadata": {
        "id": "HnYuqizNWKYe",
        "outputId": "078023ba-bd9f-4f07-ba95-4fe6f198ec65",
        "colab": {
          "base_uri": "https://localhost:8080/"
        }
      },
      "execution_count": 89,
      "outputs": [
        {
          "output_type": "stream",
          "name": "stdout",
          "text": [
            "Epoch 1/100\n",
            "1172/1172 [==============================] - 42s 36ms/step - loss: 1.8395 - accuracy: 0.3714 - val_loss: 1.8433 - val_accuracy: 0.3700\n",
            "Epoch 2/100\n",
            "1172/1172 [==============================] - 43s 37ms/step - loss: 1.8238 - accuracy: 0.3732 - val_loss: 1.8561 - val_accuracy: 0.3586\n",
            "Epoch 3/100\n",
            "1172/1172 [==============================] - 37s 32ms/step - loss: 1.8138 - accuracy: 0.3810 - val_loss: 1.9663 - val_accuracy: 0.3335\n",
            "Epoch 4/100\n",
            "1172/1172 [==============================] - 39s 33ms/step - loss: 1.8055 - accuracy: 0.3838 - val_loss: 1.8908 - val_accuracy: 0.3571\n",
            "Epoch 5/100\n",
            "1172/1172 [==============================] - 39s 34ms/step - loss: 1.8059 - accuracy: 0.3851 - val_loss: 1.8367 - val_accuracy: 0.3650\n",
            "Epoch 6/100\n",
            "1172/1172 [==============================] - 37s 31ms/step - loss: 1.8031 - accuracy: 0.3887 - val_loss: 1.8007 - val_accuracy: 0.3793\n",
            "Epoch 7/100\n",
            "1172/1172 [==============================] - 41s 35ms/step - loss: 1.8065 - accuracy: 0.3869 - val_loss: 1.8144 - val_accuracy: 0.3787\n",
            "Epoch 8/100\n",
            "1172/1172 [==============================] - 43s 37ms/step - loss: 1.7921 - accuracy: 0.3911 - val_loss: 1.9444 - val_accuracy: 0.3424\n",
            "Epoch 9/100\n",
            "1172/1172 [==============================] - 42s 36ms/step - loss: 1.7857 - accuracy: 0.3928 - val_loss: 1.8026 - val_accuracy: 0.3920\n",
            "Epoch 10/100\n",
            "1172/1172 [==============================] - 47s 40ms/step - loss: 1.7791 - accuracy: 0.3944 - val_loss: 1.8207 - val_accuracy: 0.3753\n",
            "Epoch 11/100\n",
            "1172/1172 [==============================] - 50s 43ms/step - loss: 1.7757 - accuracy: 0.3964 - val_loss: 1.8449 - val_accuracy: 0.3722\n"
          ]
        }
      ]
    },
    {
      "cell_type": "markdown",
      "source": [
        "7. Usar el mecanismo de Batch Normalization. Justificar la elección de sus hiperparámetros."
      ],
      "metadata": {
        "id": "UF-B-NB5xFJX"
      }
    },
    {
      "cell_type": "markdown",
      "source": [
        "Insertaremos una capa de bath normalizacion antes de cada capa densa y como hiperparametros utilizaremos el momentum con un valor de 0.99"
      ],
      "metadata": {
        "id": "y_KNbr45zT-Y"
      }
    },
    {
      "cell_type": "code",
      "source": [
        "#La técnica consiste en agregar una operación en el modelo justo antes o después de la función de activación de cada capa oculta."
      ],
      "metadata": {
        "id": "Lva-YSydakVl"
      },
      "execution_count": null,
      "outputs": []
    },
    {
      "cell_type": "code",
      "source": [
        "tf.keras.backend.clear_session()\n",
        "tf.random.set_seed(42)"
      ],
      "metadata": {
        "id": "s9SQuVKyaKsK"
      },
      "execution_count": 104,
      "outputs": []
    },
    {
      "cell_type": "code",
      "source": [
        "input_= keras.layers.Input(shape=X_train.shape[1:])\n",
        "\n",
        "bn_1 = keras.layers.BatchNormalization(momentum=0.99)(input_)\n",
        "hidden1 = keras.layers.Dense(500, activation=\"relu\",kernel_initializer=\"he_normal\")(bn_1)\n",
        "bn_2 = keras.layers.BatchNormalization(momentum=0.99)(hidden1)\n",
        "hidden2 = keras.layers.Dense(400, activation=\"relu\",kernel_initializer=\"he_normal\")(bn_2)\n",
        "bn_2 = keras.layers.BatchNormalization(momentum=0.99)(hidden2)\n",
        "hidden3 = keras.layers.Dense(300, activation=\"relu\",kernel_initializer=\"he_normal\")(bn_2)\n",
        "bn_3 = keras.layers.BatchNormalization(momentum=0.99)(hidden3)\n",
        "hidden4 = keras.layers.Dense(200, activation=\"relu\",kernel_initializer=\"he_normal\")(bn_3)\n",
        "bn_4 = keras.layers.BatchNormalization(momentum=0.99)(hidden4)\n",
        "hidden5 = keras.layers.Dense(100, activation=\"relu\",kernel_initializer=\"he_normal\")(bn_4)\n",
        "\n",
        "concat = keras.layers.concatenate([input_, hidden5])\n",
        "bn_5 = keras.layers.BatchNormalization(momentum=0.99)(concat)\n",
        "\n",
        "output = keras.layers.Dense(10,activation=\"softmax\",kernel_initializer=\"he_normal\")(bn_5)\n",
        "\n",
        "model = keras.models.Model(inputs=[input_], outputs=[output])"
      ],
      "metadata": {
        "id": "I2wFVH4SbDHO"
      },
      "execution_count": 97,
      "outputs": []
    },
    {
      "cell_type": "code",
      "source": [
        "model.summary()"
      ],
      "metadata": {
        "id": "AntQjIIRtqvL",
        "outputId": "ab496fe9-d641-4c6e-c374-49dbf943cbfa",
        "colab": {
          "base_uri": "https://localhost:8080/"
        }
      },
      "execution_count": 105,
      "outputs": [
        {
          "output_type": "stream",
          "name": "stdout",
          "text": [
            "Model: \"model\"\n",
            "__________________________________________________________________________________________________\n",
            " Layer (type)                Output Shape                 Param #   Connected to                  \n",
            "==================================================================================================\n",
            " input_1 (InputLayer)        [(None, 3072)]               0         []                            \n",
            "                                                                                                  \n",
            " batch_normalization (Batch  (None, 3072)                 12288     ['input_1[0][0]']             \n",
            " Normalization)                                                                                   \n",
            "                                                                                                  \n",
            " dense (Dense)               (None, 500)                  1536500   ['batch_normalization[0][0]'] \n",
            "                                                                                                  \n",
            " batch_normalization_1 (Bat  (None, 500)                  2000      ['dense[0][0]']               \n",
            " chNormalization)                                                                                 \n",
            "                                                                                                  \n",
            " dense_1 (Dense)             (None, 400)                  200400    ['batch_normalization_1[0][0]'\n",
            "                                                                    ]                             \n",
            "                                                                                                  \n",
            " batch_normalization_2 (Bat  (None, 400)                  1600      ['dense_1[0][0]']             \n",
            " chNormalization)                                                                                 \n",
            "                                                                                                  \n",
            " dense_2 (Dense)             (None, 300)                  120300    ['batch_normalization_2[0][0]'\n",
            "                                                                    ]                             \n",
            "                                                                                                  \n",
            " batch_normalization_3 (Bat  (None, 300)                  1200      ['dense_2[0][0]']             \n",
            " chNormalization)                                                                                 \n",
            "                                                                                                  \n",
            " dense_3 (Dense)             (None, 200)                  60200     ['batch_normalization_3[0][0]'\n",
            "                                                                    ]                             \n",
            "                                                                                                  \n",
            " batch_normalization_4 (Bat  (None, 200)                  800       ['dense_3[0][0]']             \n",
            " chNormalization)                                                                                 \n",
            "                                                                                                  \n",
            " dense_4 (Dense)             (None, 100)                  20100     ['batch_normalization_4[0][0]'\n",
            "                                                                    ]                             \n",
            "                                                                                                  \n",
            " concatenate (Concatenate)   (None, 3172)                 0         ['input_1[0][0]',             \n",
            "                                                                     'dense_4[0][0]']             \n",
            "                                                                                                  \n",
            " batch_normalization_5 (Bat  (None, 3172)                 12688     ['concatenate[0][0]']         \n",
            " chNormalization)                                                                                 \n",
            "                                                                                                  \n",
            " dense_5 (Dense)             (None, 10)                   31730     ['batch_normalization_5[0][0]'\n",
            "                                                                    ]                             \n",
            "                                                                                                  \n",
            "==================================================================================================\n",
            "Total params: 1999806 (7.63 MB)\n",
            "Trainable params: 1984518 (7.57 MB)\n",
            "Non-trainable params: 15288 (59.72 KB)\n",
            "__________________________________________________________________________________________________\n"
          ]
        }
      ]
    },
    {
      "cell_type": "code",
      "source": [
        "model.compile(loss=\"sparse_categorical_crossentropy\",\n",
        "              optimizer=\"adam\",\n",
        "              metrics=[\"accuracy\"])"
      ],
      "metadata": {
        "id": "HNyBN42jxUcd"
      },
      "execution_count": 106,
      "outputs": []
    },
    {
      "cell_type": "code",
      "source": [
        "checkpoint_cb = keras.callbacks.ModelCheckpoint(\"mi_modelo3_keras.h5\", save_best_only=True)\n",
        "early_stopping_cb = keras.callbacks.EarlyStopping(patience=5,\n",
        "                                                  restore_best_weights=True)"
      ],
      "metadata": {
        "id": "FI8XoFEQxY_W"
      },
      "execution_count": 107,
      "outputs": []
    },
    {
      "cell_type": "code",
      "source": [
        "history = model.fit(X_train, y_train, epochs=100,\n",
        "                    validation_data=(X_valid, y_valid),\n",
        "                    callbacks=[checkpoint_cb,early_stopping_cb])\n",
        "\n",
        "model = keras.models.load_model(\"mi_modelo3_keras.h5\")"
      ],
      "metadata": {
        "id": "PiWYTZidxfGm",
        "outputId": "51d674dc-623e-4a77-de36-258be779b129",
        "colab": {
          "base_uri": "https://localhost:8080/"
        }
      },
      "execution_count": 108,
      "outputs": [
        {
          "output_type": "stream",
          "name": "stdout",
          "text": [
            "Epoch 1/100\n",
            "1172/1172 [==============================] - 57s 45ms/step - loss: 0.9379 - accuracy: 0.6681 - val_loss: 1.5809 - val_accuracy: 0.5206\n",
            "Epoch 2/100\n",
            "1172/1172 [==============================] - 46s 40ms/step - loss: 0.8743 - accuracy: 0.6910 - val_loss: 1.6097 - val_accuracy: 0.5278\n",
            "Epoch 3/100\n",
            "1172/1172 [==============================] - 46s 39ms/step - loss: 0.8347 - accuracy: 0.7040 - val_loss: 1.6021 - val_accuracy: 0.5366\n",
            "Epoch 4/100\n",
            "1172/1172 [==============================] - 45s 39ms/step - loss: 0.7982 - accuracy: 0.7154 - val_loss: 1.6436 - val_accuracy: 0.5278\n",
            "Epoch 5/100\n",
            "1172/1172 [==============================] - 46s 39ms/step - loss: 0.7608 - accuracy: 0.7299 - val_loss: 1.6805 - val_accuracy: 0.5270\n",
            "Epoch 6/100\n",
            "1172/1172 [==============================] - 47s 40ms/step - loss: 0.7230 - accuracy: 0.7430 - val_loss: 1.6941 - val_accuracy: 0.5272\n"
          ]
        }
      ]
    },
    {
      "cell_type": "code",
      "source": [
        "mse_test = model.evaluate(X_test, y_test)\n",
        "mse_test"
      ],
      "metadata": {
        "id": "E3teNl25z_fh",
        "outputId": "1e5f0de9-dfeb-497e-af77-3acf1a54f6ce",
        "colab": {
          "base_uri": "https://localhost:8080/"
        }
      },
      "execution_count": 109,
      "outputs": [
        {
          "output_type": "stream",
          "name": "stdout",
          "text": [
            "313/313 [==============================] - 3s 9ms/step - loss: 1.5865 - accuracy: 0.5176\n"
          ]
        },
        {
          "output_type": "execute_result",
          "data": {
            "text/plain": [
              "[1.586483359336853, 0.5175999999046326]"
            ]
          },
          "metadata": {},
          "execution_count": 109
        }
      ]
    },
    {
      "cell_type": "markdown",
      "source": [
        "8. Usar un mecanismo de regularización (puede ser Dropout)."
      ],
      "metadata": {
        "id": "p3ZL9wrOxKSH"
      }
    },
    {
      "cell_type": "markdown",
      "source": [
        "El dropout ayuda a prevenir el sobreajuste, ya que obliga a la red a aprender representaciones más robustas y generalizables.\n",
        "\n",
        "Se ha experimentado con diferentes tasas de Dropout para encontrar la que mejor funcione  con el conjunto de datos y modelo. La elección de la tasa de Dropout puede depender de la complejidad del modelo, el tamaño del conjunto de datos y otros factores.\n",
        "Es importante experimentar con diferentes tasas de Dropout para encontrar la que mejor funcione para tu conjunto de datos y arquitectura de red neuronal."
      ],
      "metadata": {
        "id": "d9aSKXzbJG8i"
      }
    },
    {
      "cell_type": "code",
      "source": [
        "tf.keras.backend.clear_session()\n",
        "tf.random.set_seed(42)"
      ],
      "metadata": {
        "id": "RyBFfoatJGOA"
      },
      "execution_count": null,
      "outputs": []
    },
    {
      "cell_type": "code",
      "source": [
        "input_= keras.layers.Input(shape=X_train.shape[1:])\n",
        "\n",
        "bn_1 = keras.layers.BatchNormalization(momentum=0.99)(input_)\n",
        "hidden1 = keras.layers.Dense(500, activation=\"relu\",kernel_initializer=\"he_normal\")(bn_1)\n",
        "bn_2 = keras.layers.BatchNormalization(momentum=0.99)(hidden1)\n",
        "hidden2 = keras.layers.Dense(400, activation=\"relu\",kernel_initializer=\"he_normal\")(bn_2)\n",
        "bn_2 = keras.layers.BatchNormalization(momentum=0.99)(hidden2)\n",
        "hidden3 = keras.layers.Dense(300, activation=\"relu\",kernel_initializer=\"he_normal\")(bn_2)\n",
        "bn_3 = keras.layers.BatchNormalization(momentum=0.99)(hidden3)\n",
        "hidden4 = keras.layers.Dense(200, activation=\"relu\",kernel_initializer=\"he_normal\")(bn_3)\n",
        "bn_4 = keras.layers.BatchNormalization(momentum=0.99)(hidden4)\n",
        "hidden5 = keras.layers.Dense(100, activation=\"relu\",kernel_initializer=\"he_normal\")(bn_4)\n",
        "\n",
        "concat = keras.layers.concatenate([input_, hidden5])\n",
        "bn_5 = keras.layers.BatchNormalization(momentum=0.99)(concat)\n",
        "\n",
        "output = keras.layers.Dense(10,activation=\"softmax\",kernel_initializer=\"he_normal\")(bn_5)\n",
        "\n",
        "model = keras.models.Model(inputs=[input_], outputs=[output])"
      ],
      "metadata": {
        "id": "9fxcq9syKBBs"
      },
      "execution_count": null,
      "outputs": []
    },
    {
      "cell_type": "code",
      "source": [],
      "metadata": {
        "id": "QTujbDAb17OY"
      },
      "execution_count": null,
      "outputs": []
    },
    {
      "cell_type": "markdown",
      "source": [
        "9. Definir una función de optimización y justificar su elección."
      ],
      "metadata": {
        "id": "63AF9aFkxOKA"
      }
    },
    {
      "cell_type": "code",
      "source": [],
      "metadata": {
        "id": "cHBnkq-T1-OB"
      },
      "execution_count": null,
      "outputs": []
    },
    {
      "cell_type": "markdown",
      "source": [
        "10. Encontrar una taza de aprendizaje adecuada usando alguna estrategia de *Learning Rate Scheduling*. Justificar la elección de sus hiperparámetros."
      ],
      "metadata": {
        "id": "TLBQKeKFxTKS"
      }
    },
    {
      "cell_type": "code",
      "source": [
        "optimizer = tf.keras.optimizers.Adam(learning_rate=0.001)\n",
        "\n",
        "model.compile(loss=\"sparse_categorical_crossentropy\",\n",
        "              optimizer=optimizer,\n",
        "              metrics=[\"accuracy\"])\n"
      ],
      "metadata": {
        "id": "9hGw7t_R2AWZ"
      },
      "execution_count": null,
      "outputs": []
    },
    {
      "cell_type": "code",
      "source": [
        "#pasar el nuevo modelo"
      ],
      "metadata": {
        "id": "RIGGo3w1IdDN"
      },
      "execution_count": null,
      "outputs": []
    },
    {
      "cell_type": "markdown",
      "source": [
        "11. Realizar un proceso de ajuste de hiperparámetros (los que considere convenientes), usando Keras Tuner."
      ],
      "metadata": {
        "id": "DIZS3cEmxXVQ"
      }
    },
    {
      "cell_type": "code",
      "source": [
        "tf.keras.backend.clear_session()\n",
        "tf.random.set_seed(42)"
      ],
      "metadata": {
        "id": "cdBLPY-VAeSo"
      },
      "execution_count": 110,
      "outputs": []
    },
    {
      "cell_type": "code",
      "source": [
        "if \"google.colab\" in sys.modules:\n",
        "    %pip install -q -U keras_tuner"
      ],
      "metadata": {
        "id": "YKTT8C2TAk-7",
        "outputId": "568cc590-2655-4a74-a47f-d2bf7457c5c8",
        "colab": {
          "base_uri": "https://localhost:8080/"
        }
      },
      "execution_count": 111,
      "outputs": [
        {
          "output_type": "stream",
          "name": "stdout",
          "text": [
            "\u001b[?25l     \u001b[90m━━━━━━━━━━━━━━━━━━━━━━━━━━━━━━━━━━━━━━━━\u001b[0m \u001b[32m0.0/129.1 kB\u001b[0m \u001b[31m?\u001b[0m eta \u001b[36m-:--:--\u001b[0m\r\u001b[2K     \u001b[91m━━━━━━━━━━━━━━━━━━━━━━━━━━━━━━━━━━━━━━\u001b[0m\u001b[90m╺\u001b[0m\u001b[90m━\u001b[0m \u001b[32m122.9/129.1 kB\u001b[0m \u001b[31m4.3 MB/s\u001b[0m eta \u001b[36m0:00:01\u001b[0m\r\u001b[2K     \u001b[90m━━━━━━━━━━━━━━━━━━━━━━━━━━━━━━━━━━━━━━━━\u001b[0m \u001b[32m129.1/129.1 kB\u001b[0m \u001b[31m3.3 MB/s\u001b[0m eta \u001b[36m0:00:00\u001b[0m\n",
            "\u001b[?25h"
          ]
        }
      ]
    },
    {
      "cell_type": "code",
      "source": [
        "import keras_tuner as kt\n",
        "\n",
        "def build_model(hp):\n",
        "    n_hidden = hp.Int(\"n_hidden\", min_value=0, max_value=8, default=2)\n",
        "    n_neurons = hp.Int(\"n_neurons\", min_value=16, max_value=256)\n",
        "    learning_rate = hp.Float(\"learning_rate\", min_value=1e-4, max_value=1e-2,\n",
        "                             sampling=\"log\")\n",
        "\n",
        "    optimizer = hp.Choice(\"optimizer\", values=[\"sgd\", \"adam\"])\n",
        "    if optimizer == \"sgd\":\n",
        "        optimizer = tf.keras.optimizers.SGD(learning_rate=learning_rate)\n",
        "    else:\n",
        "        optimizer = tf.keras.optimizers.Adam(learning_rate=learning_rate)\n",
        "\n",
        "    model = tf.keras.Sequential()\n",
        "    model.add(tf.keras.layers.Flatten())\n",
        "\n",
        "    for _ in range(n_hidden):\n",
        "        model.add(tf.keras.layers.Dense(n_neurons, activation=\"relu\"))\n",
        "\n",
        "    model.add(tf.keras.layers.Dense(10, activation=\"softmax\"))#es de 10 clases y se sa softmax cuando tienen mas de 2 clases\n",
        "\n",
        "    model.compile(loss=\"sparse_categorical_crossentropy\", optimizer=optimizer,\n",
        "                  metrics=[\"accuracy\"])#loss=\"sparse_categorical_crossentropy\" se usa por ser de clasificacion\n",
        "    return model\n",
        ""
      ],
      "metadata": {
        "id": "xIBFx0v_Am-u"
      },
      "execution_count": null,
      "outputs": []
    },
    {
      "cell_type": "code",
      "source": [
        "\n",
        "random_search_tuner = kt.RandomSearch(\n",
        "    build_model, objective=\"val_accuracy\", max_trials=5, overwrite=True,\n",
        "    directory=\"my_fashion_mnist\", project_name=\"my_rnd_search\", seed=42)#max_trials=5 experiemntos\n",
        "\n",
        "random_search_tuner.search(X_train, y_train, epochs=10,\n",
        "                           validation_data=(X_valid, y_valid))"
      ],
      "metadata": {
        "id": "Ac790W7KBG3R"
      },
      "execution_count": null,
      "outputs": []
    },
    {
      "cell_type": "code",
      "source": [
        "top3_params = random_search_tuner.get_best_hyperparameters(num_trials=3)#parametros de los 3 modelos\n",
        "top3_params[0].values  # best hyperparameter values del primer modelo"
      ],
      "metadata": {
        "id": "RDlYx-tWBueF"
      },
      "execution_count": null,
      "outputs": []
    },
    {
      "cell_type": "code",
      "source": [
        "best_trial = random_search_tuner.oracle.get_best_trials(num_trials=1)[0]\n",
        "best_trial.summary()"
      ],
      "metadata": {
        "id": "ZoSc_dggBwMG"
      },
      "execution_count": null,
      "outputs": []
    },
    {
      "cell_type": "code",
      "source": [
        "best_trial.metrics.get_last_value(\"val_accuracy\")"
      ],
      "metadata": {
        "id": "zhzKfiYwB6iE"
      },
      "execution_count": null,
      "outputs": []
    },
    {
      "cell_type": "markdown",
      "source": [
        "12. Reporte el resultado final en el conjunto de prueba usando la(s) métrica(s) de clasificación seleccionada(s)."
      ],
      "metadata": {
        "id": "zscJDA3kxdAE"
      }
    },
    {
      "cell_type": "markdown",
      "source": [
        "13. Definir una segunda arquitectura reutilizando todas las capas y sus pesos (a excepción de la capa de salida) haciendo una conexión *wide and deep*, de las entradas. Mejora el resultado?"
      ],
      "metadata": {
        "id": "obusu7CgxjDx"
      }
    },
    {
      "cell_type": "markdown",
      "source": [
        "##**Recomendaciones**\n",
        "\n",
        "- Se pueden intentar otras optimizaciones adicionales, arquitecturas y afinamientos. El objetivo es intentar mejorar cada vez más la métrica del problema en cuestión.\n",
        "\n",
        "- En la medida de lo posible, justifique las elecciones de arquitectura, hiperparámetros, etc.\n",
        "\n",
        "- Es posible, que una arquitectura más simple resuelva mejor el problema, indicar esto después de haber probado la configuración básica propuesta."
      ],
      "metadata": {
        "id": "p43NgJFPVQqV"
      }
    },
    {
      "cell_type": "code",
      "source": [
        "import numpy as np\n",
        "\n",
        "# Crear una matriz de ejemplo\n",
        "matriz_ejemplo = np.random.randint(0, 256, size=(1, 32, 32, 3))\n",
        "\n",
        "# Mostrar la matriz de ejemplo\n",
        "print(matriz_ejemplo)"
      ],
      "metadata": {
        "id": "RJ3B-ksK-Z2R",
        "outputId": "01699647-5c8f-4c40-ada7-261c7cc75db4",
        "colab": {
          "base_uri": "https://localhost:8080/"
        }
      },
      "execution_count": null,
      "outputs": [
        {
          "output_type": "stream",
          "name": "stdout",
          "text": [
            "[[[[ 67  60 124]\n",
            "   [ 52 133  69]\n",
            "   [ 76  99 191]\n",
            "   ...\n",
            "   [ 97 148  70]\n",
            "   [132  12  42]\n",
            "   [221 227 122]]\n",
            "\n",
            "  [[ 18 181  41]\n",
            "   [ 11 231 189]\n",
            "   [  4 232 171]\n",
            "   ...\n",
            "   [ 57 222 244]\n",
            "   [137 123 188]\n",
            "   [239 231 176]]\n",
            "\n",
            "  [[139 191 174]\n",
            "   [245 152 138]\n",
            "   [ 13  34 139]\n",
            "   ...\n",
            "   [203 130 232]\n",
            "   [ 82 208 137]\n",
            "   [243 252 200]]\n",
            "\n",
            "  ...\n",
            "\n",
            "  [[109 231  75]\n",
            "   [115 195 241]\n",
            "   [ 40  16  73]\n",
            "   ...\n",
            "   [126  60 200]\n",
            "   [171  67  16]\n",
            "   [100  71  57]]\n",
            "\n",
            "  [[108 228 165]\n",
            "   [239 183  88]\n",
            "   [135 153  93]\n",
            "   ...\n",
            "   [249 181 160]\n",
            "   [207 228 215]\n",
            "   [155 169 234]]\n",
            "\n",
            "  [[244 162 244]\n",
            "   [167 216 175]\n",
            "   [214  51  80]\n",
            "   ...\n",
            "   [ 48 237  33]\n",
            "   [ 44 223  22]\n",
            "   [185 148  33]]]]\n"
          ]
        }
      ]
    },
    {
      "cell_type": "code",
      "source": [
        "len(matriz_ejemplo)"
      ],
      "metadata": {
        "id": "LWgDS-HTEKVJ",
        "outputId": "2dba1a83-ff7a-48ba-f805-aef2b4c62bb7",
        "colab": {
          "base_uri": "https://localhost:8080/"
        }
      },
      "execution_count": null,
      "outputs": [
        {
          "output_type": "execute_result",
          "data": {
            "text/plain": [
              "1"
            ]
          },
          "metadata": {},
          "execution_count": 64
        }
      ]
    },
    {
      "cell_type": "code",
      "source": [
        "len(matriz_ejemplo[0])"
      ],
      "metadata": {
        "id": "ZdeawEvYDWIY",
        "outputId": "d13c2f5b-3d29-413f-c525-da813a8666bc",
        "colab": {
          "base_uri": "https://localhost:8080/"
        }
      },
      "execution_count": null,
      "outputs": [
        {
          "output_type": "execute_result",
          "data": {
            "text/plain": [
              "32"
            ]
          },
          "metadata": {},
          "execution_count": 61
        }
      ]
    },
    {
      "cell_type": "code",
      "source": [
        "len(matriz_ejemplo[0][0])"
      ],
      "metadata": {
        "id": "63Wh460ADuJb",
        "outputId": "d49472b1-23a1-424c-a338-d1a2eabe0ff6",
        "colab": {
          "base_uri": "https://localhost:8080/"
        }
      },
      "execution_count": null,
      "outputs": [
        {
          "output_type": "execute_result",
          "data": {
            "text/plain": [
              "32"
            ]
          },
          "metadata": {},
          "execution_count": 62
        }
      ]
    },
    {
      "cell_type": "code",
      "source": [
        "len(matriz_ejemplo[0][0][0])"
      ],
      "metadata": {
        "id": "zsz9ocpUDvRW",
        "outputId": "64e667a1-fe7e-4959-b316-728fc267798c",
        "colab": {
          "base_uri": "https://localhost:8080/"
        }
      },
      "execution_count": null,
      "outputs": [
        {
          "output_type": "execute_result",
          "data": {
            "text/plain": [
              "3"
            ]
          },
          "metadata": {},
          "execution_count": 63
        }
      ]
    },
    {
      "cell_type": "code",
      "source": [
        "print(matriz_ejemplo[0][0])"
      ],
      "metadata": {
        "id": "AbMgL2e3FRZo",
        "outputId": "a594c02f-ba4f-412f-cea9-7f0918f425da",
        "colab": {
          "base_uri": "https://localhost:8080/"
        }
      },
      "execution_count": null,
      "outputs": [
        {
          "output_type": "stream",
          "name": "stdout",
          "text": [
            "[[ 67  60 124]\n",
            " [ 52 133  69]\n",
            " [ 76  99 191]\n",
            " [ 54 143 194]\n",
            " [ 80 135 170]\n",
            " [131 199 204]\n",
            " [ 81 153 198]\n",
            " [208 251 230]\n",
            " [186 103 203]\n",
            " [ 37 177 160]\n",
            " [ 63 241 133]\n",
            " [250 109  92]\n",
            " [ 80 141  60]\n",
            " [ 99  82 149]\n",
            " [ 89  81  54]\n",
            " [228 192 237]\n",
            " [ 84  41  67]\n",
            " [199  24   3]\n",
            " [121  62 188]\n",
            " [119  83 121]\n",
            " [ 56 179 243]\n",
            " [140  32  67]\n",
            " [ 27   6  39]\n",
            " [105 190 237]\n",
            " [ 39  62  48]\n",
            " [ 77 234 210]\n",
            " [ 92 163 117]\n",
            " [ 38 236  74]\n",
            " [248  39 185]\n",
            " [ 97 148  70]\n",
            " [132  12  42]\n",
            " [221 227 122]]\n"
          ]
        }
      ]
    }
  ]
}
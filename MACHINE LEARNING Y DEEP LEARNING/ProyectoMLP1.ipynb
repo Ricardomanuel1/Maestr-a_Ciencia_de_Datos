{
  "nbformat": 4,
  "nbformat_minor": 0,
  "metadata": {
    "colab": {
      "provenance": [],
      "gpuType": "T4",
      "include_colab_link": true
    },
    "kernelspec": {
      "name": "python3",
      "display_name": "Python 3"
    },
    "language_info": {
      "name": "python"
    },
    "accelerator": "GPU"
  },
  "cells": [
    {
      "cell_type": "markdown",
      "metadata": {
        "id": "view-in-github",
        "colab_type": "text"
      },
      "source": [
        "<a href=\"https://colab.research.google.com/github/Ricardomanuel1/Maestria_Ciencia_de_Datos/blob/main/MACHINE%20LEARNING%20Y%20DEEP%20LEARNING/ProyectoMLP1.ipynb\" target=\"_parent\"><img src=\"https://colab.research.google.com/assets/colab-badge.svg\" alt=\"Open In Colab\"/></a>"
      ]
    },
    {
      "cell_type": "markdown",
      "source": [
        "#**Primer Proyecto de MLPs**\n",
        "\n",
        "- El objetivo de este ejercicio es revisar todos los conceptos vistos en clase hasta ahora, para construir una arquitectura de red neuronal completamente conectada (MLP), que tenga el mejor desempeño posible sobre una tarea dada.\n",
        "\n",
        "- La idea es que a través de la experimentación, lleguemos a construir un modelo robusto, que sirva como base para resolver otras tareas similares.\n",
        "\n",
        "- El problema a resolver es de clasificación de imágenes usando CIFAR10."
      ],
      "metadata": {
        "id": "bCWyQIVHOfbe"
      }
    },
    {
      "cell_type": "markdown",
      "source": [
        "##**Conjunto de Datos**\n",
        "\n",
        "El conjunto de datos CIFAR10 tiene imágenes de 32x32 píxeles. Hay 50.000 imágenes de entrenamiento y 10.000 imágenes de pruebas. Cada imagen en CIFAR10 tiene asignada una de las diez clases disponibles.\n"
      ],
      "metadata": {
        "id": "PUABO_FJOgDA"
      }
    },
    {
      "cell_type": "code",
      "source": [
        "# Python ≥3.5 is required\n",
        "import sys\n",
        "assert sys.version_info >= (3, 5)\n",
        "\n",
        "# Scikit-Learn ≥0.20 is required\n",
        "import sklearn\n",
        "assert sklearn.__version__ >= \"0.20\"\n",
        "\n",
        "try:\n",
        "    # %tensorflow_version only exists in Colab.\n",
        "    %tensorflow_version 2.x\n",
        "except Exception:\n",
        "    pass\n",
        "\n",
        "# TensorFlow ≥2.0 is required\n",
        "import tensorflow as tf\n",
        "assert tf.__version__ >= \"2.0\"\n",
        "%matplotlib inline\n",
        "import matplotlib as mpl\n",
        "import matplotlib.pyplot as plt\n",
        "mpl.rc('axes', labelsize=14)\n",
        "mpl.rc('xtick', labelsize=12)\n",
        "mpl.rc('ytick', labelsize=12)\n",
        "import numpy as np\n",
        "\n",
        "\n",
        "\n"
      ],
      "metadata": {
        "id": "1BD7tqzUYqaT",
        "outputId": "6175c126-6e88-4c68-d4be-bd7336b4ca74",
        "colab": {
          "base_uri": "https://localhost:8080/"
        }
      },
      "execution_count": 20,
      "outputs": [
        {
          "output_type": "stream",
          "name": "stdout",
          "text": [
            "Colab only includes TensorFlow 2.x; %tensorflow_version has no effect.\n"
          ]
        }
      ]
    },
    {
      "cell_type": "code",
      "source": [
        "from tensorflow import keras\n",
        "from sklearn.model_selection import train_test_split\n",
        "#from tensorflow.keras.layers import Input, Dense, concatenate\n",
        "#from tensorflow.keras.models import Model"
      ],
      "metadata": {
        "id": "_OmTprhNZn9J"
      },
      "execution_count": 21,
      "outputs": []
    },
    {
      "cell_type": "markdown",
      "source": [
        "##**Etapas mínimas a realizar**"
      ],
      "metadata": {
        "id": "w1IUsNvEPnCN"
      }
    },
    {
      "cell_type": "markdown",
      "source": [
        "Las etapas se encuentran enumeradas\n",
        "\n",
        "\n",
        "\n",
        "\n",
        "\n",
        "\n",
        "\n",
        "\n",
        "\n",
        "\n",
        "\n",
        "\n"
      ],
      "metadata": {
        "id": "rhPWuSdwPsRz"
      }
    },
    {
      "cell_type": "markdown",
      "source": [
        "1. Separar los conjuntos de entrenamiento, validación y prueba correspondientes."
      ],
      "metadata": {
        "id": "iaZFx-bSwNrb"
      }
    },
    {
      "cell_type": "code",
      "source": [
        "(X_train_full, y_train_full), (X_test, y_test)=tf.keras.datasets.cifar10.load_data()\n",
        "X_train, X_valid, y_train, y_valid = train_test_split(X_train_full, y_train_full, random_state=42)\n",
        "# conservamos la separacion entre entrenamiento X_train_full (50000) y prueba X_test (10000)\n",
        "#separamos aleatoriamente X_train (37500) y X_valid (12500)"
      ],
      "metadata": {
        "id": "kn9BLjo0Q8ec"
      },
      "execution_count": 22,
      "outputs": []
    },
    {
      "cell_type": "code",
      "source": [
        "assert X_train_full.shape == (50000, 32, 32, 3)\n",
        "assert y_train_full.shape == (50000, 1)\n",
        "assert y_test.shape == (10000, 1)\n",
        "assert X_train.shape == (37500, 32, 32, 3)\n",
        "assert X_valid.shape == (12500, 32, 32, 3)"
      ],
      "metadata": {
        "id": "htF9EWg1VgB_"
      },
      "execution_count": 23,
      "outputs": []
    },
    {
      "cell_type": "code",
      "source": [
        "clases_names = ['airplane','automobile','bird','cat','deer','dog','frog','horse','ship','truck']"
      ],
      "metadata": {
        "id": "D9f-S61KeLdp"
      },
      "execution_count": 24,
      "outputs": []
    },
    {
      "cell_type": "code",
      "source": [
        "#Imprimimos los primeros 10 objetos\n",
        "n_rows = 2\n",
        "n_cols = 10\n",
        "\n",
        "plt.figure(figsize=(n_cols * 1.2, n_rows * 1.2))\n",
        "\n",
        "for row in range(n_rows):\n",
        "    for col in range(n_cols):#\n",
        "        index = n_cols * row + col\n",
        "        plt.subplot(n_rows, n_cols, index + 1)\n",
        "\n",
        "        plt.imshow(X_train_full[index], cmap=\"binary\", interpolation=\"nearest\")\n",
        "        plt.axis('off')\n",
        "        #plt.title(clases_names[y_train_full[index]], fontsize=12)\n",
        "\n",
        "plt.subplots_adjust(wspace=0.2, hspace=0.5)\n",
        "plt.show()"
      ],
      "metadata": {
        "id": "f_9Bpmbae8Rg",
        "outputId": "0993fe7b-e485-42d2-b9c9-ef5f699e8cdd",
        "colab": {
          "base_uri": "https://localhost:8080/",
          "height": 221
        }
      },
      "execution_count": 26,
      "outputs": [
        {
          "output_type": "display_data",
          "data": {
            "text/plain": [
              "<Figure size 1200x240 with 20 Axes>"
            ],
            "image/png": "[encoded data removed]"
          },
          "metadata": {}
        }
      ]
    },
    {
      "cell_type": "code",
      "source": [
        "X_train = X_train.reshape((X_train.shape[0], 32 * 32 * 3))\n",
        "X_valid=X_valid.reshape((X_valid.shape[0], 32 * 32 * 3))\n",
        "X_test = X_test.reshape((X_test.shape[0], 32 * 32 * 3))"
      ],
      "metadata": {
        "id": "bfbidWFwzr_C"
      },
      "execution_count": 27,
      "outputs": []
    },
    {
      "cell_type": "markdown",
      "source": [
        "2. Aplicar escala y normalización, si lo cree conveniente."
      ],
      "metadata": {
        "id": "ThxIsfSSY_6J"
      }
    },
    {
      "cell_type": "code",
      "source": [
        "#Reducimos las intensidades de los píxeles al rango 0-1 dividiéndolas por 255.\n",
        "#con ello normalizamos los datos y evitamos inestabilidad numérica\n",
        "X_train=X_train/255\n",
        "X_valid=X_valid/255\n",
        "X_test=X_test/255"
      ],
      "metadata": {
        "id": "a0fswMqAdwPV"
      },
      "execution_count": 28,
      "outputs": []
    },
    {
      "cell_type": "markdown",
      "source": [
        "3. Usar el enfoque funcional (functional API) para definir la arquitectura de la red neuronal MLP."
      ],
      "metadata": {
        "id": "eYJuTRYFwV9S"
      }
    },
    {
      "cell_type": "code",
      "source": [
        "np.random.seed(42)\n",
        "tf.random.set_seed(42)"
      ],
      "metadata": {
        "id": "xih_Xp96wVH9"
      },
      "execution_count": 29,
      "outputs": []
    },
    {
      "cell_type": "code",
      "source": [
        "#input_ = keras.layers.Input(shape=(32,32,3))\n",
        "\n",
        "input_= keras.layers.Input(shape=X_train.shape[1:])\n",
        "hidden1 = keras.layers.Dense(500, activation=\"relu\")(input_)\n",
        "hidden2 = keras.layers.Dense(400, activation=\"relu\")(hidden1)\n",
        "hidden3 = keras.layers.Dense(300, activation=\"relu\")(hidden2)\n",
        "hidden4 = keras.layers.Dense(200, activation=\"relu\")(hidden3)\n",
        "hidden5 = keras.layers.Dense(100, activation=\"relu\")(hidden4)\n",
        "\n",
        "concat = keras.layers.concatenate([input_, hidden5])\n",
        "\n",
        "output = keras.layers.Dense(10,activation=\"softmax\")(concat)\n",
        "\n",
        "model = keras.models.Model(inputs=[input_], outputs=[output])"
      ],
      "metadata": {
        "id": "NPkIqM2-yss1"
      },
      "execution_count": 37,
      "outputs": []
    },
    {
      "cell_type": "code",
      "source": [
        "model.summary()"
      ],
      "metadata": {
        "id": "Wl5Ar1F26IaH",
        "outputId": "3e58f28b-c4d9-4b15-ee30-1962952f38b7",
        "colab": {
          "base_uri": "https://localhost:8080/"
        }
      },
      "execution_count": 38,
      "outputs": [
        {
          "output_type": "stream",
          "name": "stdout",
          "text": [
            "Model: \"model_3\"\n",
            "__________________________________________________________________________________________________\n",
            " Layer (type)                Output Shape                 Param #   Connected to                  \n",
            "==================================================================================================\n",
            " input_4 (InputLayer)        [(None, 3072)]               0         []                            \n",
            "                                                                                                  \n",
            " dense_18 (Dense)            (None, 500)                  1536500   ['input_4[0][0]']             \n",
            "                                                                                                  \n",
            " dense_19 (Dense)            (None, 400)                  200400    ['dense_18[0][0]']            \n",
            "                                                                                                  \n",
            " dense_20 (Dense)            (None, 300)                  120300    ['dense_19[0][0]']            \n",
            "                                                                                                  \n",
            " dense_21 (Dense)            (None, 200)                  60200     ['dense_20[0][0]']            \n",
            "                                                                                                  \n",
            " dense_22 (Dense)            (None, 100)                  20100     ['dense_21[0][0]']            \n",
            "                                                                                                  \n",
            " concatenate_3 (Concatenate  (None, 3172)                 0         ['input_4[0][0]',             \n",
            " )                                                                   'dense_22[0][0]']            \n",
            "                                                                                                  \n",
            " dense_23 (Dense)            (None, 10)                   31730     ['concatenate_3[0][0]']       \n",
            "                                                                                                  \n",
            "==================================================================================================\n",
            "Total params: 1969230 (7.51 MB)\n",
            "Trainable params: 1969230 (7.51 MB)\n",
            "Non-trainable params: 0 (0.00 Byte)\n",
            "__________________________________________________________________________________________________\n"
          ]
        }
      ]
    },
    {
      "cell_type": "markdown",
      "source": [
        "4. La arquitectura debe ser profunda, con por lo menos 5 capas densas. Definir un número de neuronas para cada capa oculta, función de costo y justificar esas elecciones."
      ],
      "metadata": {
        "id": "nKnhkUbYwjEV"
      }
    },
    {
      "cell_type": "markdown",
      "source": [
        "El número de neuronas se va definir cuando se realice el entrenamiento, por ahora seleccionamos 300 neuronas en cada capa densa ya cuando realizamos el entrenamiento podremos cambiar con otro numero si el accuracy es bajo."
      ],
      "metadata": {
        "id": "wjTi6NmBG4Sl"
      }
    },
    {
      "cell_type": "code",
      "source": [
        "keras.utils.plot_model(model, \"my_cifar10_model.png\", show_shapes=True)"
      ],
      "metadata": {
        "id": "T1dU0esds1G3",
        "outputId": "e7ede4f4-7ce3-4f09-e6d4-5979b992bcd4",
        "colab": {
          "base_uri": "https://localhost:8080/",
          "height": 865
        }
      },
      "execution_count": 39,
      "outputs": [
        {
          "output_type": "execute_result",
          "data": {
            "image/png": "[encoded data removed]",
            "text/plain": [
              "<IPython.core.display.Image object>"
            ]
          },
          "metadata": {},
          "execution_count": 39
        }
      ]
    },
    {
      "cell_type": "code",
      "source": [
        "#compilamos el modelo\n",
        "model.compile(loss=\"sparse_categorical_crossentropy\",\n",
        "              optimizer=\"adam\",\n",
        "              metrics=[\"accuracy\"])\n",
        "\n",
        "#optimizer=keras.optimizers.SGD(learning_rate=1e-3)\n",
        "#optimizer='adam'"
      ],
      "metadata": {
        "id": "rMbq4NsYtEFs"
      },
      "execution_count": 40,
      "outputs": []
    },
    {
      "cell_type": "markdown",
      "source": [
        " Para la arquitectura de nuestro modelo inicimos con 300 neuronas en todas las capas pero puede variar según el resultado del accuracy, utilizamos como función de costo (sparse_categorical_crossentropy) porque se tiene etiquetas con las clases(indices de 0 a 9) y la métrica que usaremos para entrenamiento y validación será ``accuracy`` por ser un problema de clasificacion"
      ],
      "metadata": {
        "id": "xljQ-QrnEuZC"
      }
    },
    {
      "cell_type": "markdown",
      "source": [
        "5. Usar Callbacks: ModelCheckpoint y EarlyStopping al momento de entrenar."
      ],
      "metadata": {
        "id": "N-HxFfdLwvhM"
      }
    },
    {
      "cell_type": "code",
      "source": [
        "#usamos el callbacks para guardar checkpoints e interrumpir cuando no hay progreso\n",
        "checkpoint_cb = keras.callbacks.ModelCheckpoint(\"mi_modelo1_keras.h5\", save_best_only=True)\n",
        "early_stopping_cb = keras.callbacks.EarlyStopping(patience=5,\n",
        "                                                  restore_best_weights=True)"
      ],
      "metadata": {
        "id": "hEpj38Y0vajf"
      },
      "execution_count": 42,
      "outputs": []
    },
    {
      "cell_type": "code",
      "source": [
        "history = model.fit(X_train, y_train, epochs=100,\n",
        "                    validation_data=(X_valid, y_valid),\n",
        "                    callbacks=[checkpoint_cb,early_stopping_cb])\n",
        "\n",
        "model = keras.models.load_model(\"mi_modelo1_keras.h5\")"
      ],
      "metadata": {
        "id": "r2l6mjgnwioE",
        "outputId": "2ddf7540-788d-40f8-ecb1-d44f877cf8dc",
        "colab": {
          "base_uri": "https://localhost:8080/"
        }
      },
      "execution_count": 43,
      "outputs": [
        {
          "output_type": "stream",
          "name": "stdout",
          "text": [
            "Epoch 1/100\n",
            "1172/1172 [==============================] - 34s 29ms/step - loss: 1.9775 - accuracy: 0.3085 - val_loss: 1.8713 - val_accuracy: 0.3507\n",
            "Epoch 2/100\n",
            "1172/1172 [==============================] - 32s 27ms/step - loss: 1.8855 - accuracy: 0.3455 - val_loss: 1.8669 - val_accuracy: 0.3500\n",
            "Epoch 3/100\n",
            "1172/1172 [==============================] - 32s 27ms/step - loss: 1.8567 - accuracy: 0.3627 - val_loss: 1.9756 - val_accuracy: 0.3262\n",
            "Epoch 4/100\n",
            "1172/1172 [==============================] - 31s 27ms/step - loss: 1.8356 - accuracy: 0.3707 - val_loss: 1.8916 - val_accuracy: 0.3529\n",
            "Epoch 5/100\n",
            "1172/1172 [==============================] - 33s 28ms/step - loss: 1.8290 - accuracy: 0.3746 - val_loss: 1.8314 - val_accuracy: 0.3633\n",
            "Epoch 6/100\n",
            "1172/1172 [==============================] - 32s 27ms/step - loss: 1.8201 - accuracy: 0.3783 - val_loss: 1.7982 - val_accuracy: 0.3770\n",
            "Epoch 7/100\n",
            "1172/1172 [==============================] - 33s 28ms/step - loss: 1.8157 - accuracy: 0.3810 - val_loss: 1.8061 - val_accuracy: 0.3818\n",
            "Epoch 8/100\n",
            "1172/1172 [==============================] - 33s 28ms/step - loss: 1.7935 - accuracy: 0.3865 - val_loss: 1.9483 - val_accuracy: 0.3374\n",
            "Epoch 9/100\n",
            "1172/1172 [==============================] - 31s 27ms/step - loss: 1.7826 - accuracy: 0.3893 - val_loss: 1.7827 - val_accuracy: 0.3938\n",
            "Epoch 10/100\n",
            "1172/1172 [==============================] - 32s 27ms/step - loss: 1.7714 - accuracy: 0.3933 - val_loss: 1.7891 - val_accuracy: 0.3770\n",
            "Epoch 11/100\n",
            "1172/1172 [==============================] - 32s 27ms/step - loss: 1.7667 - accuracy: 0.3936 - val_loss: 1.8261 - val_accuracy: 0.3755\n",
            "Epoch 12/100\n",
            "1172/1172 [==============================] - 32s 27ms/step - loss: 1.7642 - accuracy: 0.3968 - val_loss: 1.8817 - val_accuracy: 0.3722\n",
            "Epoch 13/100\n",
            "1172/1172 [==============================] - 31s 27ms/step - loss: 1.7581 - accuracy: 0.3986 - val_loss: 1.9243 - val_accuracy: 0.3326\n",
            "Epoch 14/100\n",
            "1172/1172 [==============================] - 32s 27ms/step - loss: 1.7646 - accuracy: 0.3950 - val_loss: 1.7833 - val_accuracy: 0.3805\n"
          ]
        }
      ]
    },
    {
      "cell_type": "code",
      "source": [
        "mse_test = model.evaluate(X_test, y_test)\n",
        "mse_test"
      ],
      "metadata": {
        "id": "vEgxWdC_yhk8",
        "outputId": "cfc57c03-807a-4e1b-8f62-98800babe3cd",
        "colab": {
          "base_uri": "https://localhost:8080/"
        }
      },
      "execution_count": 44,
      "outputs": [
        {
          "output_type": "stream",
          "name": "stdout",
          "text": [
            "313/313 [==============================] - 3s 7ms/step - loss: 1.7988 - accuracy: 0.3910\n"
          ]
        },
        {
          "output_type": "execute_result",
          "data": {
            "text/plain": [
              "[1.798760175704956, 0.39100000262260437]"
            ]
          },
          "metadata": {},
          "execution_count": 44
        }
      ]
    },
    {
      "cell_type": "markdown",
      "source": [
        "6. Mostrar el gráfico de la función de costo en tiempo de entrenamiento vs tiempo de validación, para verificar si hay overfitting."
      ],
      "metadata": {
        "id": "0gmAAlYjw2C9"
      }
    },
    {
      "cell_type": "code",
      "source": [
        "import pandas as pd\n",
        "\n",
        "pd.DataFrame(history.history).plot(figsize=(8, 5))\n",
        "plt.grid(True)\n",
        "plt.gca().set_ylim(0, 1)\n",
        "plt.show()"
      ],
      "metadata": {
        "id": "vE_6BcDgRdfL",
        "outputId": "70e6bd2d-f32b-4c10-854b-f2275f1e2b1e",
        "colab": {
          "base_uri": "https://localhost:8080/",
          "height": 456
        }
      },
      "execution_count": 45,
      "outputs": [
        {
          "output_type": "display_data",
          "data": {
            "text/plain": [
              "<Figure size 800x500 with 1 Axes>"
            ],
            "image/png": "[encoded data removed]"
          },
          "metadata": {}
        }
      ]
    },
    {
      "cell_type": "markdown",
      "source": [
        "No se aprecia distanciamiento entre ambos gráficos por consiguiente podrías decir que no existe overfitting"
      ],
      "metadata": {
        "id": "EKR1wke5I1wN"
      }
    },
    {
      "cell_type": "markdown",
      "source": [
        "6. Definir una función de activación y también un mecanismo de inicialización de pesos. Justificar esta elección."
      ],
      "metadata": {
        "id": "XkmZ70vVxAaZ"
      }
    },
    {
      "cell_type": "markdown",
      "source": [
        "Con el objetivo de prevenir que los gradientes se vuelvan demasiado grandes o demasiado pequeños durante el entrenamiento utilizamos la inicialización de pesos, como nuesta función de activación es RELU usaremos como el inicializar he_normal"
      ],
      "metadata": {
        "id": "BqG9cwHmpA-2"
      }
    },
    {
      "cell_type": "code",
      "source": [
        "input_= keras.layers.Input(shape=X_train.shape[1:])\n",
        "hidden1 = keras.layers.Dense(500, activation=\"relu\",kernel_initializer=\"he_normal\")(input_)\n",
        "hidden2 = keras.layers.Dense(400, activation=\"relu\",kernel_initializer=\"he_normal\")(hidden1)\n",
        "hidden3 = keras.layers.Dense(300, activation=\"relu\",kernel_initializer=\"he_normal\")(hidden2)\n",
        "hidden4 = keras.layers.Dense(200, activation=\"relu\",kernel_initializer=\"he_normal\")(hidden3)\n",
        "hidden5 = keras.layers.Dense(100, activation=\"relu\",kernel_initializer=\"he_normal\")(hidden4)\n",
        "\n",
        "concat = keras.layers.concatenate([input_, hidden5])\n",
        "\n",
        "output = keras.layers.Dense(10,activation=\"softmax\",kernel_initializer=\"he_normal\")(concat)\n",
        "\n",
        "model = keras.models.Model(inputs=[input_], outputs=[output])"
      ],
      "metadata": {
        "id": "jUp9Z3VhJorA"
      },
      "execution_count": 46,
      "outputs": []
    },
    {
      "cell_type": "code",
      "source": [
        "model.compile(loss=\"sparse_categorical_crossentropy\",\n",
        "              optimizer=\"adam\",\n",
        "              metrics=[\"accuracy\"])"
      ],
      "metadata": {
        "id": "6Jc4O11sYYSw"
      },
      "execution_count": 47,
      "outputs": []
    },
    {
      "cell_type": "code",
      "source": [
        "checkpoint_cb = keras.callbacks.ModelCheckpoint(\"mi_modelo2_keras.h5\", save_best_only=True)\n",
        "early_stopping_cb = keras.callbacks.EarlyStopping(patience=5,\n",
        "                                                  restore_best_weights=True)"
      ],
      "metadata": {
        "id": "R_iTIVGzYZEI"
      },
      "execution_count": 48,
      "outputs": []
    },
    {
      "cell_type": "code",
      "source": [
        "history = model.fit(X_train, y_train, epochs=100,\n",
        "                    validation_data=(X_valid, y_valid),\n",
        "                    callbacks=[checkpoint_cb,early_stopping_cb])\n",
        "\n",
        "model = keras.models.load_model(\"mi_modelo2_keras.h5\")"
      ],
      "metadata": {
        "id": "HnYuqizNWKYe",
        "outputId": "c4b377b1-e93a-4f15-dadc-3ef10169fafe",
        "colab": {
          "base_uri": "https://localhost:8080/"
        }
      },
      "execution_count": 51,
      "outputs": [
        {
          "output_type": "stream",
          "name": "stdout",
          "text": [
            "Epoch 1/100\n",
            "1172/1172 [==============================] - 33s 27ms/step - loss: 1.8096 - accuracy: 0.3826 - val_loss: 1.8359 - val_accuracy: 0.3736\n",
            "Epoch 2/100\n",
            "1172/1172 [==============================] - 33s 28ms/step - loss: 1.8027 - accuracy: 0.3818 - val_loss: 1.8532 - val_accuracy: 0.3608\n",
            "Epoch 3/100\n",
            "1172/1172 [==============================] - 32s 27ms/step - loss: 1.7969 - accuracy: 0.3878 - val_loss: 1.9608 - val_accuracy: 0.3367\n",
            "Epoch 4/100\n",
            "1172/1172 [==============================] - 31s 27ms/step - loss: 1.7890 - accuracy: 0.3904 - val_loss: 1.8913 - val_accuracy: 0.3617\n",
            "Epoch 5/100\n",
            "1172/1172 [==============================] - 33s 28ms/step - loss: 1.7923 - accuracy: 0.3913 - val_loss: 1.8321 - val_accuracy: 0.3705\n",
            "Epoch 6/100\n",
            "1172/1172 [==============================] - 32s 27ms/step - loss: 1.7905 - accuracy: 0.3931 - val_loss: 1.7966 - val_accuracy: 0.3820\n",
            "Epoch 7/100\n",
            "1172/1172 [==============================] - 33s 28ms/step - loss: 1.7949 - accuracy: 0.3916 - val_loss: 1.8144 - val_accuracy: 0.3798\n",
            "Epoch 8/100\n",
            "1172/1172 [==============================] - 34s 29ms/step - loss: 1.7812 - accuracy: 0.3960 - val_loss: 1.9492 - val_accuracy: 0.3431\n",
            "Epoch 9/100\n",
            "1172/1172 [==============================] - 36s 31ms/step - loss: 1.7764 - accuracy: 0.3959 - val_loss: 1.8066 - val_accuracy: 0.3898\n",
            "Epoch 10/100\n",
            "1172/1172 [==============================] - 33s 28ms/step - loss: 1.7693 - accuracy: 0.3982 - val_loss: 1.8172 - val_accuracy: 0.3782\n",
            "Epoch 11/100\n",
            "1172/1172 [==============================] - 33s 28ms/step - loss: 1.7664 - accuracy: 0.3997 - val_loss: 1.8516 - val_accuracy: 0.3730\n"
          ]
        }
      ]
    },
    {
      "cell_type": "code",
      "source": [
        "mse_test = model.evaluate(X_test, y_test)\n",
        "mse_test"
      ],
      "metadata": {
        "id": "V31AklTmSTt5",
        "outputId": "33f95ee3-3c55-45c3-b755-2463114c516c",
        "colab": {
          "base_uri": "https://localhost:8080/"
        }
      },
      "execution_count": 52,
      "outputs": [
        {
          "output_type": "stream",
          "name": "stdout",
          "text": [
            "313/313 [==============================] - 2s 6ms/step - loss: 1.8002 - accuracy: 0.3734\n"
          ]
        },
        {
          "output_type": "execute_result",
          "data": {
            "text/plain": [
              "[1.8001500368118286, 0.3734000027179718]"
            ]
          },
          "metadata": {},
          "execution_count": 52
        }
      ]
    },
    {
      "cell_type": "code",
      "source": [
        "#Se aprecia una disminución de accuracy con respecto al modelo original de 0.391 a 0.373\n",
        "#con el conjunto de datos de prueba al agregarle al modelo el inicializador"
      ],
      "metadata": {
        "id": "f2BeohYKUL6m"
      },
      "execution_count": null,
      "outputs": []
    },
    {
      "cell_type": "markdown",
      "source": [
        "7. Usar el mecanismo de Batch Normalization. Justificar la elección de sus hiperparámetros."
      ],
      "metadata": {
        "id": "UF-B-NB5xFJX"
      }
    },
    {
      "cell_type": "markdown",
      "source": [
        "Insertaremos una capa de bath normalizacion antes de cada capa densa y como hiperparametros, utilicé el momentum con un valor de 0.9 inicialmente y conseguí un accuracy de 0.49 con los datos de prueba y con un momentum de 0.999 se logró obtener un accuracy de 0.5156\n"
      ],
      "metadata": {
        "id": "y_KNbr45zT-Y"
      }
    },
    {
      "cell_type": "code",
      "source": [
        "tf.keras.backend.clear_session()\n",
        "tf.random.set_seed(42)"
      ],
      "metadata": {
        "id": "s9SQuVKyaKsK"
      },
      "execution_count": 60,
      "outputs": []
    },
    {
      "cell_type": "code",
      "source": [
        "input_= keras.layers.Input(shape=X_train.shape[1:])\n",
        "\n",
        "bn_1 = keras.layers.BatchNormalization(momentum=0.999)(input_)\n",
        "hidden1 = keras.layers.Dense(500, activation=\"relu\",kernel_initializer=\"he_normal\")(bn_1)\n",
        "\n",
        "bn_2 = keras.layers.BatchNormalization(momentum=0.999)(hidden1)\n",
        "hidden2 = keras.layers.Dense(400, activation=\"relu\",kernel_initializer=\"he_normal\")(bn_2)\n",
        "\n",
        "bn_3 = keras.layers.BatchNormalization(momentum=0.999)(hidden2)\n",
        "hidden3 = keras.layers.Dense(300, activation=\"relu\",kernel_initializer=\"he_normal\")(bn_3)\n",
        "\n",
        "bn_4 = keras.layers.BatchNormalization(momentum=0.999)(hidden3)\n",
        "hidden4 = keras.layers.Dense(200, activation=\"relu\",kernel_initializer=\"he_normal\")(bn_4)\n",
        "\n",
        "bn_5 = keras.layers.BatchNormalization(momentum=0.999)(hidden4)\n",
        "hidden5 = keras.layers.Dense(100, activation=\"relu\",kernel_initializer=\"he_normal\")(bn_5)\n",
        "\n",
        "concat = keras.layers.concatenate([input_, hidden5])\n",
        "\n",
        "bn_6 = keras.layers.BatchNormalization(momentum=0.999)(concat)\n",
        "output = keras.layers.Dense(10,activation=\"softmax\",kernel_initializer=\"he_normal\")(bn_6)\n",
        "\n",
        "model = keras.models.Model(inputs=[input_], outputs=[output])"
      ],
      "metadata": {
        "id": "I2wFVH4SbDHO"
      },
      "execution_count": 61,
      "outputs": []
    },
    {
      "cell_type": "code",
      "source": [
        "#model.summary()"
      ],
      "metadata": {
        "id": "AntQjIIRtqvL"
      },
      "execution_count": null,
      "outputs": []
    },
    {
      "cell_type": "code",
      "source": [
        "model.compile(loss=\"sparse_categorical_crossentropy\",\n",
        "              optimizer=\"adam\",\n",
        "              metrics=[\"accuracy\"])"
      ],
      "metadata": {
        "id": "HNyBN42jxUcd"
      },
      "execution_count": 62,
      "outputs": []
    },
    {
      "cell_type": "code",
      "source": [
        "checkpoint_cb = keras.callbacks.ModelCheckpoint(\"mi_modelo3_keras.h5\", save_best_only=True)\n",
        "early_stopping_cb = keras.callbacks.EarlyStopping(patience=5,\n",
        "                                                  restore_best_weights=True)"
      ],
      "metadata": {
        "id": "FI8XoFEQxY_W"
      },
      "execution_count": 63,
      "outputs": []
    },
    {
      "cell_type": "code",
      "source": [
        "history = model.fit(X_train, y_train, epochs=100,\n",
        "                    validation_data=(X_valid, y_valid),\n",
        "                    callbacks=[checkpoint_cb,early_stopping_cb])\n",
        "\n",
        "model = keras.models.load_model(\"mi_modelo3_keras.h5\")"
      ],
      "metadata": {
        "id": "PiWYTZidxfGm",
        "outputId": "ef77380d-1e3f-4a10-a52e-ccb5441183d2",
        "colab": {
          "base_uri": "https://localhost:8080/"
        }
      },
      "execution_count": 64,
      "outputs": [
        {
          "output_type": "stream",
          "name": "stdout",
          "text": [
            "Epoch 1/100\n",
            "1172/1172 [==============================] - 45s 35ms/step - loss: 2.0484 - accuracy: 0.3404 - val_loss: 1.9296 - val_accuracy: 0.3194\n",
            "Epoch 2/100\n",
            "1172/1172 [==============================] - 44s 37ms/step - loss: 1.8386 - accuracy: 0.3977 - val_loss: 1.8072 - val_accuracy: 0.3953\n",
            "Epoch 3/100\n",
            "1172/1172 [==============================] - 48s 41ms/step - loss: 1.7351 - accuracy: 0.4275 - val_loss: 1.7590 - val_accuracy: 0.4446\n",
            "Epoch 4/100\n",
            "1172/1172 [==============================] - 41s 35ms/step - loss: 1.6441 - accuracy: 0.4520 - val_loss: 1.7651 - val_accuracy: 0.4458\n",
            "Epoch 5/100\n",
            "1172/1172 [==============================] - 40s 34ms/step - loss: 1.5646 - accuracy: 0.4742 - val_loss: 1.6950 - val_accuracy: 0.4787\n",
            "Epoch 6/100\n",
            "1172/1172 [==============================] - 40s 34ms/step - loss: 1.4808 - accuracy: 0.4995 - val_loss: 1.7114 - val_accuracy: 0.4668\n",
            "Epoch 7/100\n",
            "1172/1172 [==============================] - 41s 35ms/step - loss: 1.4160 - accuracy: 0.5147 - val_loss: 1.6743 - val_accuracy: 0.4673\n",
            "Epoch 8/100\n",
            "1172/1172 [==============================] - 41s 35ms/step - loss: 1.3481 - accuracy: 0.5343 - val_loss: 1.6278 - val_accuracy: 0.4891\n",
            "Epoch 9/100\n",
            "1172/1172 [==============================] - 42s 36ms/step - loss: 1.2892 - accuracy: 0.5561 - val_loss: 1.5873 - val_accuracy: 0.5026\n",
            "Epoch 10/100\n",
            "1172/1172 [==============================] - 45s 39ms/step - loss: 1.2265 - accuracy: 0.5746 - val_loss: 1.5816 - val_accuracy: 0.4952\n",
            "Epoch 11/100\n",
            "1172/1172 [==============================] - 43s 36ms/step - loss: 1.1722 - accuracy: 0.5896 - val_loss: 1.5999 - val_accuracy: 0.5102\n",
            "Epoch 12/100\n",
            "1172/1172 [==============================] - 43s 37ms/step - loss: 1.1255 - accuracy: 0.6072 - val_loss: 1.5979 - val_accuracy: 0.5101\n",
            "Epoch 13/100\n",
            "1172/1172 [==============================] - 45s 39ms/step - loss: 1.0722 - accuracy: 0.6248 - val_loss: 1.6393 - val_accuracy: 0.5045\n",
            "Epoch 14/100\n",
            "1172/1172 [==============================] - 43s 36ms/step - loss: 1.0128 - accuracy: 0.6419 - val_loss: 1.5794 - val_accuracy: 0.5231\n",
            "Epoch 15/100\n",
            "1172/1172 [==============================] - 41s 35ms/step - loss: 0.9779 - accuracy: 0.6577 - val_loss: 1.5818 - val_accuracy: 0.5313\n",
            "Epoch 16/100\n",
            "1172/1172 [==============================] - 42s 36ms/step - loss: 0.9230 - accuracy: 0.6739 - val_loss: 1.6223 - val_accuracy: 0.5224\n",
            "Epoch 17/100\n",
            "1172/1172 [==============================] - 42s 36ms/step - loss: 0.8821 - accuracy: 0.6910 - val_loss: 1.6786 - val_accuracy: 0.5151\n",
            "Epoch 18/100\n",
            "1172/1172 [==============================] - 41s 35ms/step - loss: 0.8455 - accuracy: 0.7017 - val_loss: 1.7495 - val_accuracy: 0.5112\n",
            "Epoch 19/100\n",
            "1172/1172 [==============================] - 44s 37ms/step - loss: 0.8151 - accuracy: 0.7102 - val_loss: 1.7006 - val_accuracy: 0.5237\n"
          ]
        }
      ]
    },
    {
      "cell_type": "code",
      "source": [
        "mse_test = model.evaluate(X_test, y_test)\n",
        "mse_test"
      ],
      "metadata": {
        "id": "E3teNl25z_fh",
        "outputId": "2e1db23b-33b6-4942-e435-5402ec5cd452",
        "colab": {
          "base_uri": "https://localhost:8080/"
        }
      },
      "execution_count": 65,
      "outputs": [
        {
          "output_type": "stream",
          "name": "stdout",
          "text": [
            "313/313 [==============================] - 2s 7ms/step - loss: 1.5707 - accuracy: 0.5156\n"
          ]
        },
        {
          "output_type": "execute_result",
          "data": {
            "text/plain": [
              "[1.5707355737686157, 0.5156000256538391]"
            ]
          },
          "metadata": {},
          "execution_count": 65
        }
      ]
    },
    {
      "cell_type": "markdown",
      "source": [
        "8. Usar un mecanismo de regularización (puede ser Dropout)."
      ],
      "metadata": {
        "id": "p3ZL9wrOxKSH"
      }
    },
    {
      "cell_type": "markdown",
      "source": [
        "Con la finalidad de prevenir el sobreajuste.\n",
        "\n",
        "Se ha experimentado con diferentes tasas de Dropout 0.5 y 0.1 obteniendose como accuracy de 0.469 y 0.5252 respectivamente, cabe recordar que el accuracy del modelo sin dropout fue 0.5156.\n",
        "Nos quedamos con un dropout de 0.1 que fue el que logra incrementar ligeramente el accuracy con respecto al modelo anterior."
      ],
      "metadata": {
        "id": "d9aSKXzbJG8i"
      }
    },
    {
      "cell_type": "code",
      "source": [
        "from tensorflow.keras.layers import Input, Dense, Dropout"
      ],
      "metadata": {
        "id": "Enh5Vx5pDIfy"
      },
      "execution_count": 66,
      "outputs": []
    },
    {
      "cell_type": "code",
      "source": [
        "tf.keras.backend.clear_session()\n",
        "tf.random.set_seed(42)"
      ],
      "metadata": {
        "id": "RyBFfoatJGOA"
      },
      "execution_count": 73,
      "outputs": []
    },
    {
      "cell_type": "code",
      "source": [
        "input_= keras.layers.Input(shape=X_train.shape[1:])\n",
        "\n",
        "bn_1 = keras.layers.BatchNormalization(momentum=0.99)(input_)\n",
        "hidden1 = keras.layers.Dense(500, activation=\"relu\",kernel_initializer=\"he_normal\")(bn_1)\n",
        "dropout1 = Dropout(0.1)(hidden1)\n",
        "\n",
        "bn_2 = keras.layers.BatchNormalization(momentum=0.99)(dropout1)\n",
        "hidden2 = keras.layers.Dense(400, activation=\"relu\",kernel_initializer=\"he_normal\")(bn_2)\n",
        "dropout2 = Dropout(0.1)(hidden2)\n",
        "\n",
        "bn_3 = keras.layers.BatchNormalization(momentum=0.99)(dropout2)\n",
        "hidden3 = keras.layers.Dense(300, activation=\"relu\",kernel_initializer=\"he_normal\")(bn_3)\n",
        "dropout3 = Dropout(0.1)(hidden3)\n",
        "\n",
        "bn_4 = keras.layers.BatchNormalization(momentum=0.99)(dropout3)\n",
        "hidden4 = keras.layers.Dense(200, activation=\"relu\",kernel_initializer=\"he_normal\")(bn_4)\n",
        "dropout4 = Dropout(0.1)(hidden4)\n",
        "\n",
        "bn_5 = keras.layers.BatchNormalization(momentum=0.99)(dropout4)\n",
        "hidden5 = keras.layers.Dense(100, activation=\"relu\",kernel_initializer=\"he_normal\")(bn_5)\n",
        "dropout5=Dropout(0.1)(hidden5)\n",
        "\n",
        "\n",
        "concat = keras.layers.concatenate([input_,dropout5])\n",
        "\n",
        "bn_6 = keras.layers.BatchNormalization(momentum=0.99)(concat)\n",
        "\n",
        "output = keras.layers.Dense(10,activation=\"softmax\",kernel_initializer=\"he_normal\")(bn_6)\n",
        "\n",
        "model = keras.models.Model(inputs=[input_], outputs=[output])"
      ],
      "metadata": {
        "id": "9fxcq9syKBBs"
      },
      "execution_count": 74,
      "outputs": []
    },
    {
      "cell_type": "code",
      "source": [
        "model.compile(loss=\"sparse_categorical_crossentropy\",\n",
        "              optimizer=\"adam\",\n",
        "              metrics=[\"accuracy\"])"
      ],
      "metadata": {
        "id": "QTujbDAb17OY"
      },
      "execution_count": 75,
      "outputs": []
    },
    {
      "cell_type": "code",
      "source": [
        "checkpoint_cb = keras.callbacks.ModelCheckpoint(\"mi_modelo4_keras.h5\", save_best_only=True)\n",
        "early_stopping_cb = keras.callbacks.EarlyStopping(patience=5,\n",
        "                                                  restore_best_weights=True)"
      ],
      "metadata": {
        "id": "Ov6c-4zICp-l"
      },
      "execution_count": 76,
      "outputs": []
    },
    {
      "cell_type": "code",
      "source": [
        "history = model.fit(X_train, y_train, epochs=100,\n",
        "                    validation_data=(X_valid, y_valid),\n",
        "                    callbacks=[checkpoint_cb,early_stopping_cb])\n",
        "\n",
        "model = keras.models.load_model(\"mi_modelo4_keras.h5\")"
      ],
      "metadata": {
        "id": "GTjJCm8nCvHB",
        "outputId": "5717f270-cbb4-4802-af38-383f86cf4570",
        "colab": {
          "base_uri": "https://localhost:8080/"
        }
      },
      "execution_count": 77,
      "outputs": [
        {
          "output_type": "stream",
          "name": "stdout",
          "text": [
            "Epoch 1/100\n",
            "1172/1172 [==============================] - 45s 35ms/step - loss: 2.0729 - accuracy: 0.3320 - val_loss: 1.8700 - val_accuracy: 0.3786\n",
            "Epoch 2/100\n",
            "1172/1172 [==============================] - 41s 35ms/step - loss: 1.8782 - accuracy: 0.3850 - val_loss: 1.8661 - val_accuracy: 0.3946\n",
            "Epoch 3/100\n",
            "1172/1172 [==============================] - 40s 34ms/step - loss: 1.7850 - accuracy: 0.4094 - val_loss: 1.7370 - val_accuracy: 0.4313\n",
            "Epoch 4/100\n",
            "1172/1172 [==============================] - 40s 35ms/step - loss: 1.7033 - accuracy: 0.4323 - val_loss: 1.6991 - val_accuracy: 0.4473\n",
            "Epoch 5/100\n",
            "1172/1172 [==============================] - 41s 35ms/step - loss: 1.6407 - accuracy: 0.4489 - val_loss: 1.6252 - val_accuracy: 0.4650\n",
            "Epoch 6/100\n",
            "1172/1172 [==============================] - 42s 36ms/step - loss: 1.5735 - accuracy: 0.4679 - val_loss: 1.6776 - val_accuracy: 0.4541\n",
            "Epoch 7/100\n",
            "1172/1172 [==============================] - 40s 34ms/step - loss: 1.5242 - accuracy: 0.4780 - val_loss: 1.6409 - val_accuracy: 0.4510\n",
            "Epoch 8/100\n",
            "1172/1172 [==============================] - 40s 35ms/step - loss: 1.4678 - accuracy: 0.4930 - val_loss: 1.5848 - val_accuracy: 0.4715\n",
            "Epoch 9/100\n",
            "1172/1172 [==============================] - 40s 34ms/step - loss: 1.4265 - accuracy: 0.5050 - val_loss: 1.5324 - val_accuracy: 0.4868\n",
            "Epoch 10/100\n",
            "1172/1172 [==============================] - 40s 34ms/step - loss: 1.3771 - accuracy: 0.5231 - val_loss: 1.5534 - val_accuracy: 0.4821\n",
            "Epoch 11/100\n",
            "1172/1172 [==============================] - 43s 36ms/step - loss: 1.3419 - accuracy: 0.5328 - val_loss: 1.5498 - val_accuracy: 0.4940\n",
            "Epoch 12/100\n",
            "1172/1172 [==============================] - 41s 35ms/step - loss: 1.3076 - accuracy: 0.5445 - val_loss: 1.5087 - val_accuracy: 0.4938\n",
            "Epoch 13/100\n",
            "1172/1172 [==============================] - 41s 35ms/step - loss: 1.2718 - accuracy: 0.5574 - val_loss: 1.5395 - val_accuracy: 0.4942\n",
            "Epoch 14/100\n",
            "1172/1172 [==============================] - 40s 34ms/step - loss: 1.2259 - accuracy: 0.5689 - val_loss: 1.4769 - val_accuracy: 0.5066\n",
            "Epoch 15/100\n",
            "1172/1172 [==============================] - 41s 35ms/step - loss: 1.2053 - accuracy: 0.5789 - val_loss: 1.4317 - val_accuracy: 0.5221\n",
            "Epoch 16/100\n",
            "1172/1172 [==============================] - 40s 34ms/step - loss: 1.1698 - accuracy: 0.5859 - val_loss: 1.4447 - val_accuracy: 0.5174\n",
            "Epoch 17/100\n",
            "1172/1172 [==============================] - 42s 36ms/step - loss: 1.1292 - accuracy: 0.6039 - val_loss: 1.4761 - val_accuracy: 0.5170\n",
            "Epoch 18/100\n",
            "1172/1172 [==============================] - 40s 34ms/step - loss: 1.1126 - accuracy: 0.6041 - val_loss: 1.4726 - val_accuracy: 0.5197\n",
            "Epoch 19/100\n",
            "1172/1172 [==============================] - 40s 34ms/step - loss: 1.0913 - accuracy: 0.6151 - val_loss: 1.4413 - val_accuracy: 0.5275\n",
            "Epoch 20/100\n",
            "1172/1172 [==============================] - 40s 34ms/step - loss: 1.0620 - accuracy: 0.6245 - val_loss: 1.4231 - val_accuracy: 0.5296\n",
            "Epoch 21/100\n",
            "1172/1172 [==============================] - 40s 34ms/step - loss: 1.0383 - accuracy: 0.6306 - val_loss: 1.4430 - val_accuracy: 0.5290\n",
            "Epoch 22/100\n",
            "1172/1172 [==============================] - 41s 35ms/step - loss: 1.0189 - accuracy: 0.6367 - val_loss: 1.4232 - val_accuracy: 0.5367\n",
            "Epoch 23/100\n",
            "1172/1172 [==============================] - 40s 34ms/step - loss: 0.9976 - accuracy: 0.6446 - val_loss: 1.4253 - val_accuracy: 0.5348\n",
            "Epoch 24/100\n",
            "1172/1172 [==============================] - 40s 34ms/step - loss: 0.9733 - accuracy: 0.6538 - val_loss: 1.4277 - val_accuracy: 0.5333\n",
            "Epoch 25/100\n",
            "1172/1172 [==============================] - 40s 34ms/step - loss: 0.9547 - accuracy: 0.6602 - val_loss: 1.4293 - val_accuracy: 0.5340\n"
          ]
        }
      ]
    },
    {
      "cell_type": "code",
      "source": [
        "mse_test = model.evaluate(X_test, y_test)\n",
        "mse_test"
      ],
      "metadata": {
        "id": "bgkCFBKVzxJP",
        "outputId": "5cd27fb1-55d6-4823-a6d2-1b607fc06f1c",
        "colab": {
          "base_uri": "https://localhost:8080/"
        }
      },
      "execution_count": 78,
      "outputs": [
        {
          "output_type": "stream",
          "name": "stdout",
          "text": [
            "313/313 [==============================] - 2s 6ms/step - loss: 1.4195 - accuracy: 0.5252\n"
          ]
        },
        {
          "output_type": "execute_result",
          "data": {
            "text/plain": [
              "[1.419496774673462, 0.5252000093460083]"
            ]
          },
          "metadata": {},
          "execution_count": 78
        }
      ]
    },
    {
      "cell_type": "markdown",
      "source": [
        "9. Definir una función de optimización y justificar su elección."
      ],
      "metadata": {
        "id": "63AF9aFkxOKA"
      }
    },
    {
      "cell_type": "markdown",
      "source": [
        "Los modelos anteriores se entrenaron con el optimizador Adam sin embargo realizaremos el entrenamiento con otro optimizador Nadam."
      ],
      "metadata": {
        "id": "1f3Ht-AH67y4"
      }
    },
    {
      "cell_type": "markdown",
      "source": [
        "Se vino trabajando con el optimizador Adam obteniendose un accuracy de 0.525, se probó con nadam accuracy de 0.498 y finalmente SDG 0.469, según los resultados conservamos el optimizador ADAM"
      ],
      "metadata": {
        "id": "HPwDV_qhDUVR"
      }
    },
    {
      "cell_type": "code",
      "source": [
        "tf.keras.backend.clear_session()\n",
        "tf.random.set_seed(42)"
      ],
      "metadata": {
        "id": "cHBnkq-T1-OB"
      },
      "execution_count": 89,
      "outputs": []
    },
    {
      "cell_type": "code",
      "source": [
        "input_= keras.layers.Input(shape=X_train.shape[1:])\n",
        "\n",
        "bn_1 = keras.layers.BatchNormalization(momentum=0.99)(input_)\n",
        "hidden1 = keras.layers.Dense(500, activation=\"relu\",kernel_initializer=\"he_normal\")(bn_1)\n",
        "\n",
        "bn_2 = keras.layers.BatchNormalization(momentum=0.99)(hidden1)\n",
        "hidden2 = keras.layers.Dense(400, activation=\"relu\",kernel_initializer=\"he_normal\")(bn_2)\n",
        "\n",
        "bn_3 = keras.layers.BatchNormalization(momentum=0.99)(hidden2)\n",
        "hidden3 = keras.layers.Dense(300, activation=\"relu\",kernel_initializer=\"he_normal\")(bn_3)\n",
        "\n",
        "bn_4 = keras.layers.BatchNormalization(momentum=0.99)(hidden3)\n",
        "hidden4 = keras.layers.Dense(200, activation=\"relu\",kernel_initializer=\"he_normal\")(bn_4)\n",
        "\n",
        "bn_5 = keras.layers.BatchNormalization(momentum=0.99)(hidden4)\n",
        "hidden5 = keras.layers.Dense(100, activation=\"relu\",kernel_initializer=\"he_normal\")(bn_5)\n",
        "\n",
        "concat = keras.layers.concatenate([input_, hidden5])\n",
        "\n",
        "bn_6 = keras.layers.BatchNormalization(momentum=0.99)(concat)\n",
        "output = keras.layers.Dense(10,activation=\"softmax\",kernel_initializer=\"he_normal\")(bn_6)\n",
        "\n",
        "model = keras.models.Model(inputs=[input_], outputs=[output])"
      ],
      "metadata": {
        "id": "Un_yzkuGGRFe"
      },
      "execution_count": 90,
      "outputs": []
    },
    {
      "cell_type": "code",
      "source": [
        "model.compile(loss=\"sparse_categorical_crossentropy\",\n",
        "              optimizer=\"ADAM\",\n",
        "              metrics=[\"accuracy\"])\n",
        "checkpoint_cb = keras.callbacks.ModelCheckpoint(\"mi_modelo5_keras.h5\", save_best_only=True)\n",
        "early_stopping_cb = keras.callbacks.EarlyStopping(patience=5,\n",
        "                                                  restore_best_weights=True)"
      ],
      "metadata": {
        "id": "0i8hhKRYGkaA"
      },
      "execution_count": 91,
      "outputs": []
    },
    {
      "cell_type": "code",
      "source": [
        "history = model.fit(X_train, y_train, epochs=100,\n",
        "                    validation_data=(X_valid, y_valid),\n",
        "                    callbacks=[checkpoint_cb,early_stopping_cb])\n",
        "\n",
        "model = keras.models.load_model(\"mi_modelo5_keras.h5\")"
      ],
      "metadata": {
        "id": "phMIkfZUGxwu",
        "outputId": "6320a8f2-77fd-4deb-ece8-122003b6302a",
        "colab": {
          "base_uri": "https://localhost:8080/"
        }
      },
      "execution_count": 92,
      "outputs": [
        {
          "output_type": "stream",
          "name": "stdout",
          "text": [
            "Epoch 1/100\n",
            "1172/1172 [==============================] - 41s 33ms/step - loss: 2.0534 - accuracy: 0.3393 - val_loss: 1.8644 - val_accuracy: 0.3852\n",
            "Epoch 2/100\n",
            "1172/1172 [==============================] - 38s 32ms/step - loss: 1.8377 - accuracy: 0.3979 - val_loss: 1.8565 - val_accuracy: 0.4090\n",
            "Epoch 3/100\n",
            "1172/1172 [==============================] - 38s 33ms/step - loss: 1.7321 - accuracy: 0.4286 - val_loss: 1.7121 - val_accuracy: 0.4450\n",
            "Epoch 4/100\n",
            "1172/1172 [==============================] - 41s 35ms/step - loss: 1.6424 - accuracy: 0.4515 - val_loss: 1.6932 - val_accuracy: 0.4498\n",
            "Epoch 5/100\n",
            "1172/1172 [==============================] - 39s 33ms/step - loss: 1.5633 - accuracy: 0.4755 - val_loss: 1.6118 - val_accuracy: 0.4745\n",
            "Epoch 6/100\n",
            "1172/1172 [==============================] - 38s 32ms/step - loss: 1.4786 - accuracy: 0.4999 - val_loss: 1.7228 - val_accuracy: 0.4562\n",
            "Epoch 7/100\n",
            "1172/1172 [==============================] - 37s 32ms/step - loss: 1.4138 - accuracy: 0.5144 - val_loss: 1.5985 - val_accuracy: 0.4763\n",
            "Epoch 8/100\n",
            "1172/1172 [==============================] - 39s 33ms/step - loss: 1.3486 - accuracy: 0.5342 - val_loss: 1.5766 - val_accuracy: 0.4860\n",
            "Epoch 9/100\n",
            "1172/1172 [==============================] - 40s 34ms/step - loss: 1.2872 - accuracy: 0.5559 - val_loss: 1.5391 - val_accuracy: 0.4987\n",
            "Epoch 10/100\n",
            "1172/1172 [==============================] - 37s 32ms/step - loss: 1.2271 - accuracy: 0.5749 - val_loss: 1.5667 - val_accuracy: 0.4957\n",
            "Epoch 11/100\n",
            "1172/1172 [==============================] - 37s 31ms/step - loss: 1.1721 - accuracy: 0.5910 - val_loss: 1.5934 - val_accuracy: 0.5054\n",
            "Epoch 12/100\n",
            "1172/1172 [==============================] - 38s 32ms/step - loss: 1.1231 - accuracy: 0.6084 - val_loss: 1.5459 - val_accuracy: 0.5088\n",
            "Epoch 13/100\n",
            "1172/1172 [==============================] - 38s 32ms/step - loss: 1.0703 - accuracy: 0.6230 - val_loss: 1.5895 - val_accuracy: 0.5138\n",
            "Epoch 14/100\n",
            "1172/1172 [==============================] - 40s 34ms/step - loss: 1.0113 - accuracy: 0.6419 - val_loss: 1.5707 - val_accuracy: 0.5179\n"
          ]
        }
      ]
    },
    {
      "cell_type": "code",
      "source": [
        "mse_test = model.evaluate(X_test, y_test)\n",
        "mse_test"
      ],
      "metadata": {
        "id": "tE5XwyoSP_Em",
        "outputId": "20116e45-96c4-4fc0-84bf-d3baa1c4a192",
        "colab": {
          "base_uri": "https://localhost:8080/"
        }
      },
      "execution_count": 93,
      "outputs": [
        {
          "output_type": "stream",
          "name": "stdout",
          "text": [
            "313/313 [==============================] - 2s 7ms/step - loss: 1.5454 - accuracy: 0.4969\n"
          ]
        },
        {
          "output_type": "execute_result",
          "data": {
            "text/plain": [
              "[1.5453659296035767, 0.4968999922275543]"
            ]
          },
          "metadata": {},
          "execution_count": 93
        }
      ]
    },
    {
      "cell_type": "markdown",
      "source": [
        "10. Encontrar una taza de aprendizaje adecuada usando alguna estrategia de *Learning Rate Scheduling*. Justificar la elección de sus hiperparámetros."
      ],
      "metadata": {
        "id": "TLBQKeKFxTKS"
      }
    },
    {
      "cell_type": "code",
      "source": [
        "tf.keras.backend.clear_session()\n",
        "tf.random.set_seed(42)"
      ],
      "metadata": {
        "id": "qd0fNDEAHgeJ"
      },
      "execution_count": null,
      "outputs": []
    },
    {
      "cell_type": "code",
      "source": [
        "input_= keras.layers.Input(shape=X_train.shape[1:])\n",
        "\n",
        "bn_1 = keras.layers.BatchNormalization(momentum=0.99)(input_)\n",
        "hidden1 = keras.layers.Dense(500, activation=\"relu\",kernel_initializer=\"he_normal\")(bn_1)\n",
        "dropout1 = Dropout(0.5)(hidden1)\n",
        "\n",
        "bn_2 = keras.layers.BatchNormalization(momentum=0.99)(dropout1)\n",
        "hidden2 = keras.layers.Dense(400, activation=\"relu\",kernel_initializer=\"he_normal\")(bn_2)\n",
        "dropout2 = Dropout(0.5)(hidden2)\n",
        "\n",
        "bn_3 = keras.layers.BatchNormalization(momentum=0.99)(dropout2)\n",
        "hidden3 = keras.layers.Dense(300, activation=\"relu\",kernel_initializer=\"he_normal\")(bn_3)\n",
        "dropout3 = Dropout(0.5)(hidden3)\n",
        "\n",
        "bn_4 = keras.layers.BatchNormalization(momentum=0.99)(dropout3)\n",
        "hidden4 = keras.layers.Dense(200, activation=\"relu\",kernel_initializer=\"he_normal\")(bn_4)\n",
        "dropout4 = Dropout(0.5)(hidden4)\n",
        "\n",
        "bn_5 = keras.layers.BatchNormalization(momentum=0.99)(dropout4)\n",
        "hidden5 = keras.layers.Dense(100, activation=\"relu\",kernel_initializer=\"he_normal\")(bn_5)\n",
        "dropout5=Dropout(0.5)(hidden5)\n",
        "\n",
        "\n",
        "concat = keras.layers.concatenate([input_,dropout5])\n",
        "\n",
        "bn_6 = keras.layers.BatchNormalization(momentum=0.99)(concat)\n",
        "\n",
        "output = keras.layers.Dense(10,activation=\"softmax\",kernel_initializer=\"he_normal\")(bn_6)\n",
        "\n",
        "model = keras.models.Model(inputs=[input_], outputs=[output])"
      ],
      "metadata": {
        "id": "_hFLBzUWONCq"
      },
      "execution_count": null,
      "outputs": []
    },
    {
      "cell_type": "code",
      "source": [
        "optimizer = tf.keras.optimizers.Adam(learning_rate=0.001)\n",
        "\n",
        "model.compile(loss=\"sparse_categorical_crossentropy\",\n",
        "              optimizer=optimizer,\n",
        "              metrics=[\"accuracy\"])\n"
      ],
      "metadata": {
        "id": "9hGw7t_R2AWZ"
      },
      "execution_count": null,
      "outputs": []
    },
    {
      "cell_type": "code",
      "source": [
        "checkpoint_cb = keras.callbacks.ModelCheckpoint(\"mi_modelo5_keras.h5\", save_best_only=True)\n",
        "early_stopping_cb = keras.callbacks.EarlyStopping(patience=5,\n",
        "                                                  restore_best_weights=True)"
      ],
      "metadata": {
        "id": "ZuasSRhYOawq"
      },
      "execution_count": null,
      "outputs": []
    },
    {
      "cell_type": "code",
      "source": [
        "history = model.fit(X_train, y_train, epochs=100,\n",
        "                    validation_data=(X_valid, y_valid),\n",
        "                    callbacks=[checkpoint_cb,early_stopping_cb])\n",
        "\n",
        "model = keras.models.load_model(\"mi_modelo6_keras.h5\")"
      ],
      "metadata": {
        "id": "SSzJYM_9OiGe"
      },
      "execution_count": null,
      "outputs": []
    },
    {
      "cell_type": "markdown",
      "source": [
        "El acuraccy para conjunto de entrenamineto con una tasa de 0.5 de dropout fue , para 0.6 xxx fue y para 0.7 fue xxxx seleccionamos el dropout con el mejor resultado"
      ],
      "metadata": {
        "id": "jAJkMnJyp4WI"
      }
    },
    {
      "cell_type": "markdown",
      "source": [
        "11. Realizar un proceso de ajuste de hiperparámetros (los que considere convenientes), usando Keras Tuner."
      ],
      "metadata": {
        "id": "DIZS3cEmxXVQ"
      }
    },
    {
      "cell_type": "code",
      "source": [
        "tf.keras.backend.clear_session()\n",
        "tf.random.set_seed(42)"
      ],
      "metadata": {
        "id": "cdBLPY-VAeSo"
      },
      "execution_count": null,
      "outputs": []
    },
    {
      "cell_type": "code",
      "source": [
        "if \"google.colab\" in sys.modules:\n",
        "    %pip install -q -U keras_tuner"
      ],
      "metadata": {
        "id": "YKTT8C2TAk-7",
        "outputId": "568cc590-2655-4a74-a47f-d2bf7457c5c8",
        "colab": {
          "base_uri": "https://localhost:8080/"
        }
      },
      "execution_count": null,
      "outputs": [
        {
          "output_type": "stream",
          "name": "stdout",
          "text": [
            "\u001b[?25l     \u001b[90m━━━━━━━━━━━━━━━━━━━━━━━━━━━━━━━━━━━━━━━━\u001b[0m \u001b[32m0.0/129.1 kB\u001b[0m \u001b[31m?\u001b[0m eta \u001b[36m-:--:--\u001b[0m\r\u001b[2K     \u001b[91m━━━━━━━━━━━━━━━━━━━━━━━━━━━━━━━━━━━━━━\u001b[0m\u001b[90m╺\u001b[0m\u001b[90m━\u001b[0m \u001b[32m122.9/129.1 kB\u001b[0m \u001b[31m4.3 MB/s\u001b[0m eta \u001b[36m0:00:01\u001b[0m\r\u001b[2K     \u001b[90m━━━━━━━━━━━━━━━━━━━━━━━━━━━━━━━━━━━━━━━━\u001b[0m \u001b[32m129.1/129.1 kB\u001b[0m \u001b[31m3.3 MB/s\u001b[0m eta \u001b[36m0:00:00\u001b[0m\n",
            "\u001b[?25h"
          ]
        }
      ]
    },
    {
      "cell_type": "code",
      "source": [
        "import keras_tuner as kt\n",
        "\n",
        "def build_model(hp):\n",
        "    n_hidden = hp.Int(\"n_hidden\", min_value=0, max_value=8, default=2)\n",
        "    n_neurons = hp.Int(\"n_neurons\", min_value=16, max_value=256)\n",
        "    learning_rate = hp.Float(\"learning_rate\", min_value=1e-4, max_value=1e-2,\n",
        "                             sampling=\"log\")\n",
        "\n",
        "    optimizer = hp.Choice(\"optimizer\", values=[\"sgd\", \"adam\"])\n",
        "    if optimizer == \"sgd\":\n",
        "        optimizer = tf.keras.optimizers.SGD(learning_rate=learning_rate)\n",
        "    else:\n",
        "        optimizer = tf.keras.optimizers.Adam(learning_rate=learning_rate)\n",
        "\n",
        "    model = tf.keras.Sequential()\n",
        "    model.add(tf.keras.layers.Flatten())\n",
        "\n",
        "    for _ in range(n_hidden):\n",
        "        model.add(tf.keras.layers.Dense(n_neurons, activation=\"relu\"))\n",
        "\n",
        "    model.add(tf.keras.layers.Dense(10, activation=\"softmax\"))\n",
        "\n",
        "    model.compile(loss=\"sparse_categorical_crossentropy\", optimizer=optimizer,\n",
        "                  metrics=[\"accuracy\"])\n",
        "    return model\n"
      ],
      "metadata": {
        "id": "xIBFx0v_Am-u"
      },
      "execution_count": null,
      "outputs": []
    },
    {
      "cell_type": "code",
      "source": [
        "\n",
        "random_search_tuner = kt.RandomSearch(\n",
        "    build_model, objective=\"val_accuracy\", max_trials=5, overwrite=True,\n",
        "    directory=\"my_fashion_mnist\", project_name=\"my_rnd_search\", seed=42)#max_trials=5 experiemntos\n",
        "\n",
        "random_search_tuner.search(X_train, y_train, epochs=10,\n",
        "                           validation_data=(X_valid, y_valid))"
      ],
      "metadata": {
        "id": "Ac790W7KBG3R"
      },
      "execution_count": null,
      "outputs": []
    },
    {
      "cell_type": "code",
      "source": [
        "top3_params = random_search_tuner.get_best_hyperparameters(num_trials=3)#parametros de los 3 modelos\n",
        "top3_params[0].values  # best hyperparameter values del primer modelo"
      ],
      "metadata": {
        "id": "RDlYx-tWBueF"
      },
      "execution_count": null,
      "outputs": []
    },
    {
      "cell_type": "code",
      "source": [
        "best_trial = random_search_tuner.oracle.get_best_trials(num_trials=1)[0]\n",
        "best_trial.summary()"
      ],
      "metadata": {
        "id": "ZoSc_dggBwMG"
      },
      "execution_count": null,
      "outputs": []
    },
    {
      "cell_type": "code",
      "source": [
        "best_trial.metrics.get_last_value(\"val_accuracy\")"
      ],
      "metadata": {
        "id": "zhzKfiYwB6iE"
      },
      "execution_count": null,
      "outputs": []
    },
    {
      "cell_type": "markdown",
      "source": [
        "12. Reporte el resultado final en el conjunto de prueba usando la(s) métrica(s) de clasificación seleccionada(s)."
      ],
      "metadata": {
        "id": "zscJDA3kxdAE"
      }
    },
    {
      "cell_type": "code",
      "source": [],
      "metadata": {
        "id": "AUoKzqb8Savw"
      },
      "execution_count": null,
      "outputs": []
    },
    {
      "cell_type": "markdown",
      "source": [
        "13. Definir una segunda arquitectura reutilizando todas las capas y sus pesos (a excepción de la capa de salida) haciendo una conexión *wide and deep*, de las entradas. Mejora el resultado?"
      ],
      "metadata": {
        "id": "obusu7CgxjDx"
      }
    },
    {
      "cell_type": "code",
      "source": [],
      "metadata": {
        "id": "IhcWL5xyShGU"
      },
      "execution_count": null,
      "outputs": []
    },
    {
      "cell_type": "markdown",
      "source": [
        "##**Recomendaciones**\n",
        "\n",
        "- Se pueden intentar otras optimizaciones adicionales, arquitecturas y afinamientos. El objetivo es intentar mejorar cada vez más la métrica del problema en cuestión.\n",
        "\n",
        "- En la medida de lo posible, justifique las elecciones de arquitectura, hiperparámetros, etc.\n",
        "\n",
        "- Es posible, que una arquitectura más simple resuelva mejor el problema, indicar esto después de haber probado la configuración básica propuesta."
      ],
      "metadata": {
        "id": "p43NgJFPVQqV"
      }
    }
  ]
}
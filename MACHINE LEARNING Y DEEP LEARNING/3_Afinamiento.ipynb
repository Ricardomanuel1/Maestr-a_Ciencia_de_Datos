{
  "nbformat": 4,
  "nbformat_minor": 0,
  "metadata": {
    "colab": {
      "provenance": [],
      "include_colab_link": true
    },
    "kernelspec": {
      "name": "python3",
      "display_name": "Python 3"
    },
    "language_info": {
      "name": "python"
    }
  },
  "cells": [
    {
      "cell_type": "markdown",
      "metadata": {
        "id": "view-in-github",
        "colab_type": "text"
      },
      "source": [
        "<a href=\"https://colab.research.google.com/github/Ricardomanuel1/Maestria_Ciencia_de_Datos/blob/main/MACHINE%20LEARNING%20Y%20DEEP%20LEARNING/3_Afinamiento.ipynb\" target=\"_parent\"><img src=\"https://colab.research.google.com/assets/colab-badge.svg\" alt=\"Open In Colab\"/></a>"
      ]
    },
    {
      "cell_type": "markdown",
      "source": [
        "#**Afinamiento de Hiperparámetros en una Red Neuronal MLP**"
      ],
      "metadata": {
        "id": "frNuMy8EMrNR"
      }
    },
    {
      "cell_type": "markdown",
      "source": [
        "- La flexibilidad de las redes neuronales es también uno de sus principales inconvenientes: hay muchos hiperparámetros que modificar.\n",
        "\n",
        "- Incluso en un MLP básico se puede cambiar el número\n",
        "de capas, el número de neuronas y el tipo de función de activación a utilizar en cada capa, la lógica de inicialización de pesos, el tipo de optimizador a utilizar, su tasa de aprendizaje, tamaño de batch\n",
        "\n",
        "Opciones para está búsqueda:\n",
        "\n",
        "- Convertir el modelo Keras en un estimador Scikit-Learn, y usarGridSearchCV o RandomizedSearchCV para ajustar los\n",
        "hiperparámetros. Para esto, puede usar las\n",
        "clases  KerasRegressor y KerasClassifier de SciKeras ( https://github.com/adriangb/scikeras).\n",
        "\n",
        "- Una mejor opción: usar la biblioteca Keras Tuner, desarrollada para ajustar hiperparámetros en modelos Keras. Esa será la opción mostrada a seguir."
      ],
      "metadata": {
        "id": "6gfJ-orRM-uG"
      }
    },
    {
      "cell_type": "code",
      "source": [
        "import sys\n",
        "assert sys.version_info >= (3, 7)"
      ],
      "metadata": {
        "id": "wdIpZrzpM9LN"
      },
      "execution_count": null,
      "outputs": []
    },
    {
      "cell_type": "code",
      "source": [
        "from packaging import version\n",
        "import sklearn\n",
        "assert version.parse(sklearn.__version__) >= version.parse(\"1.0.1\")"
      ],
      "metadata": {
        "id": "Gy8WTxayMqT0"
      },
      "execution_count": null,
      "outputs": []
    },
    {
      "cell_type": "code",
      "source": [
        "import tensorflow as tf\n",
        "assert version.parse(tf.__version__) >= version.parse(\"2.8.0\")"
      ],
      "metadata": {
        "id": "bewZ-mhCNE6c"
      },
      "execution_count": null,
      "outputs": []
    },
    {
      "cell_type": "code",
      "source": [
        "import matplotlib.pyplot as plt\n",
        "\n",
        "plt.rc('font', size=14)\n",
        "plt.rc('axes', labelsize=14, titlesize=14)\n",
        "plt.rc('legend', fontsize=14)\n",
        "plt.rc('xtick', labelsize=10)\n",
        "plt.rc('ytick', labelsize=10)"
      ],
      "metadata": {
        "id": "YPDaTN0PNO81"
      },
      "execution_count": null,
      "outputs": []
    },
    {
      "cell_type": "markdown",
      "source": [
        "Dataset: MNIST Fashion"
      ],
      "metadata": {
        "id": "306grEAjNXAh"
      }
    },
    {
      "cell_type": "code",
      "source": [
        "import tensorflow as tf\n",
        "fashion_mnist = tf.keras.datasets.fashion_mnist.load_data()"
      ],
      "metadata": {
        "colab": {
          "base_uri": "https://localhost:8080/"
        },
        "id": "w7aHQw-6NifO",
        "outputId": "6768d2cb-8a3a-456b-c2b6-da6fc4fc708a"
      },
      "execution_count": null,
      "outputs": [
        {
          "output_type": "stream",
          "name": "stdout",
          "text": [
            "Downloading data from https://storage.googleapis.com/tensorflow/tf-keras-datasets/train-labels-idx1-ubyte.gz\n",
            "29515/29515 [==============================] - 0s 0us/step\n",
            "Downloading data from https://storage.googleapis.com/tensorflow/tf-keras-datasets/train-images-idx3-ubyte.gz\n",
            "26421880/26421880 [==============================] - 0s 0us/step\n",
            "Downloading data from https://storage.googleapis.com/tensorflow/tf-keras-datasets/t10k-labels-idx1-ubyte.gz\n",
            "5148/5148 [==============================] - 0s 0us/step\n",
            "Downloading data from https://storage.googleapis.com/tensorflow/tf-keras-datasets/t10k-images-idx3-ubyte.gz\n",
            "4422102/4422102 [==============================] - 0s 0us/step\n"
          ]
        }
      ]
    },
    {
      "cell_type": "markdown",
      "source": [
        "Entrenamiento, validación, prueba"
      ],
      "metadata": {
        "id": "AnQRbuoAODGr"
      }
    },
    {
      "cell_type": "code",
      "source": [
        "(X_train_full, y_train_full), (X_test, y_test) = fashion_mnist\n",
        "X_train, y_train = X_train_full[:-5000], y_train_full[:-5000]\n",
        "X_valid, y_valid = X_train_full[-5000:], y_train_full[-5000:]"
      ],
      "metadata": {
        "id": "SpeWfopYMqXg"
      },
      "execution_count": null,
      "outputs": []
    },
    {
      "cell_type": "code",
      "source": [
        "tf.keras.backend.clear_session()\n",
        "tf.random.set_seed(42)"
      ],
      "metadata": {
        "id": "8EzGyodQMxIy"
      },
      "execution_count": null,
      "outputs": []
    },
    {
      "cell_type": "markdown",
      "source": [
        "**Keras Tuner**"
      ],
      "metadata": {
        "id": "pDhxwtNkfWBk"
      }
    },
    {
      "cell_type": "markdown",
      "source": [
        "\n",
        "- Después de instalar e importar ``keras_tuner``, generalmente como kt, se escribe una función que construye, compila y devuelve un modelo de Keras.\n",
        "- La función debe tomar un objeto kt.HyperParameters como argumento, lo que permite definir hiperparámetros (enteros, flotantes, strings, etc.) junto con sus posibles rangos de valores,\n",
        "- Estos hiperparámetros pueden usarse para construir\n",
        "y compilar el modelo.\n",
        "\n",
        "La siguiente función construye y compila un MLP para clasificar imágenes de MNIST Fashion, se definen hiperparámetros como el número de capas ocultas (``n_hidden``), el número de neuronas por capa (``n_neurons``), la tasa de aprendizaje y el tipo de optimizador a utilizar :"
      ],
      "metadata": {
        "id": "o-lxE8UyZGtO"
      }
    },
    {
      "cell_type": "markdown",
      "source": [
        "Instalación Keras Tuner"
      ],
      "metadata": {
        "id": "i8dfEeRnOHwY"
      }
    },
    {
      "cell_type": "code",
      "source": [
        "if \"google.colab\" in sys.modules:\n",
        "    %pip install -q -U keras_tuner"
      ],
      "metadata": {
        "colab": {
          "base_uri": "https://localhost:8080/"
        },
        "id": "TDdKrq6CM1cI",
        "outputId": "af1baae5-55dc-473d-c306-c6c3133f9bec"
      },
      "execution_count": null,
      "outputs": [
        {
          "output_type": "stream",
          "name": "stdout",
          "text": [
            "\u001b[?25l     \u001b[90m━━━━━━━━━━━━━━━━━━━━━━━━━━━━━━━━━━━━━━━━\u001b[0m \u001b[32m0.0/129.1 kB\u001b[0m \u001b[31m?\u001b[0m eta \u001b[36m-:--:--\u001b[0m\r\u001b[2K     \u001b[91m━━━━━━━━━━━━━━━━━━━━━━━━━━━━━━━━━━━━━━\u001b[0m\u001b[90m╺\u001b[0m\u001b[90m━\u001b[0m \u001b[32m122.9/129.1 kB\u001b[0m \u001b[31m3.8 MB/s\u001b[0m eta \u001b[36m0:00:01\u001b[0m\r\u001b[2K     \u001b[90m━━━━━━━━━━━━━━━━━━━━━━━━━━━━━━━━━━━━━━━━\u001b[0m \u001b[32m129.1/129.1 kB\u001b[0m \u001b[31m3.0 MB/s\u001b[0m eta \u001b[36m0:00:00\u001b[0m\n",
            "\u001b[?25h"
          ]
        }
      ]
    },
    {
      "cell_type": "markdown",
      "source": [
        "Definición de la función"
      ],
      "metadata": {
        "id": "smqRcezyORVf"
      }
    },
    {
      "cell_type": "code",
      "source": [
        "import keras_tuner as kt\n",
        "\n",
        "def build_model(hp):\n",
        "    n_hidden = hp.Int(\"n_hidden\", min_value=0, max_value=8, default=2)\n",
        "    n_neurons = hp.Int(\"n_neurons\", min_value=16, max_value=256)\n",
        "    learning_rate = hp.Float(\"learning_rate\", min_value=1e-4, max_value=1e-2,\n",
        "                             sampling=\"log\")\n",
        "    optimizer = hp.Choice(\"optimizer\", values=[\"sgd\", \"adam\"])\n",
        "    if optimizer == \"sgd\":\n",
        "        optimizer = tf.keras.optimizers.SGD(learning_rate=learning_rate)\n",
        "    else:\n",
        "        optimizer = tf.keras.optimizers.Adam(learning_rate=learning_rate)\n",
        "\n",
        "    model = tf.keras.Sequential()\n",
        "    model.add(tf.keras.layers.Flatten())\n",
        "    for _ in range(n_hidden):\n",
        "        model.add(tf.keras.layers.Dense(n_neurons, activation=\"relu\"))\n",
        "    model.add(tf.keras.layers.Dense(10, activation=\"softmax\"))\n",
        "    model.compile(loss=\"sparse_categorical_crossentropy\", optimizer=optimizer,\n",
        "                  metrics=[\"accuracy\"])\n",
        "    return model"
      ],
      "metadata": {
        "id": "ToYCFSkIOQoO"
      },
      "execution_count": null,
      "outputs": []
    },
    {
      "cell_type": "markdown",
      "source": [
        "- La primera parte de la función define los hiperparámetros. Por ejemplo, ``hp.Int(\"n_hidden\", min_value=0, max_value=8, default=2)`` comprueba si un hiperparámetro llamado ``\"n_hidden\"``\n",
        "ya está presente en el objeto HyperParameters hp y, de ser así, devuelve su valor. Si no, registra un nuevo hiperparámetro entero llamado ``\"n_hidden\"``, cuyos valores posibles van de 0 a 8 (inclusive), y\n",
        "devuelve el valor predeterminado, que es 2. Cuando ``default`` no es definido, el valor retornado es ``min_value``.\n",
        "- El hiperparámetro \"n_neurons\" es registrado de manera similar.\n",
        "- El hiperparámetro \"learning_rate\" es\n",
        "registrado como flotante que oscila entre $10^{-4}$ a $10^{-2}$, y desde y dado ``sampling=\"log\"``\n",
        "muestreo=\"log\", las tasas de aprendizaje de todas las escalas serán sorteadas por igual.\n",
        "- El hiperparámetro ``optimizer`` se registra con dos posibles\n",
        "valores: ``\"sgd\"`` o ``\"adam\"`` (el valor predeterminado es sgd).\n",
        "\n",
        "- La segunda parte de la función construye el modelo usando los\n",
        "valores de hiperparámetros. Crea un modelo secuencial comenzando con un capa Flatten, seguida del número solicitado de capas ocultas (\n",
        "determinado por el hiperparámetro ``n_hidden``) usando la activación ReLU y una capa de salida con 10 neuronas (una por clase) usando la\n",
        "función de activación softmax. Por último, la función compila el modelo y lo devuelve.\n",
        "\n",
        "\n",
        "Si se desea realizar una búsqueda aleatoria, se puede crear un tuner kt.RandomSearch, pasandole la función build_model al\n",
        "constructor y llamando al método search() del tuner:"
      ],
      "metadata": {
        "id": "N_DPgNhNchkb"
      }
    },
    {
      "cell_type": "code",
      "source": [
        "random_search_tuner = kt.RandomSearch(\n",
        "    build_model, objective=\"val_accuracy\", max_trials=5, overwrite=True,\n",
        "    directory=\"my_fashion_mnist\", project_name=\"my_rnd_search\", seed=42)\n",
        "random_search_tuner.search(X_train, y_train, epochs=10,\n",
        "                           validation_data=(X_valid, y_valid))"
      ],
      "metadata": {
        "colab": {
          "base_uri": "https://localhost:8080/"
        },
        "id": "w0R9qNdMOVDO",
        "outputId": "07b809ed-45f0-47cb-e04c-3c871ed181ad"
      },
      "execution_count": null,
      "outputs": [
        {
          "output_type": "stream",
          "name": "stdout",
          "text": [
            "Trial 5 Complete [00h 01m 00s]\n",
            "val_accuracy: 0.8389999866485596\n",
            "\n",
            "Best val_accuracy So Far: 0.8619999885559082\n",
            "Total elapsed time: 00h 05m 29s\n"
          ]
        }
      ]
    },
    {
      "cell_type": "markdown",
      "source": [
        "- El tuner ``RandomSearch`` llama a build_model() una vez con un\n",
        "objeto de hiperparámetros vacío, solo para reunir sus especificaciones.\n",
        "- Luego, en este ejemplo, se ejecuta 5 veces; en cada trial, construye un modelo utilizando hiperparámetros muestreados aleatoriamente dentro de sus respectivos rangos, luego entrena ese modelo durante 10 épocas y lo guarda en un subdirectorio.\n",
        "- Dado que ``overwrite=True``, el directorio my_rnd_search se elimina antes de iniciar el entrenamiento. Si se ejecuta este código por segunda vez pero con ``overwrite=False`` y ``max_trials=10``, el tuner continuará el afinamiento desde donde se quedó, ejecutando 5 pruebas más\n",
        "- Por último, dado que el objetivo es \"val_accuracy\", el tuner prefiere modelos con una accuracy alto en la  validación, por lo que una vez que el tuner termina, se podrá obtener los mejores modelos:"
      ],
      "metadata": {
        "id": "48sRm3Loc7r-"
      }
    },
    {
      "cell_type": "code",
      "source": [
        "top3_models = random_search_tuner.get_best_models(num_models=3)\n",
        "best_model = top3_models[0]"
      ],
      "metadata": {
        "id": "DozaFDCcPR6s"
      },
      "execution_count": null,
      "outputs": []
    },
    {
      "cell_type": "markdown",
      "source": [
        "También se puede llamar a get_best_hyperparameters() para obtener\n",
        "kt.HyperParameters de los mejores modelos:"
      ],
      "metadata": {
        "id": "Tzc-zvE6dQIb"
      }
    },
    {
      "cell_type": "code",
      "source": [
        "top3_params = random_search_tuner.get_best_hyperparameters(num_trials=3)\n",
        "top3_params[0].values  # best hyperparameter values"
      ],
      "metadata": {
        "colab": {
          "base_uri": "https://localhost:8080/"
        },
        "id": "dOsHfRZGPUx0",
        "outputId": "0f73c502-d34f-44b3-ae90-8c619152aec4"
      },
      "execution_count": null,
      "outputs": [
        {
          "output_type": "execute_result",
          "data": {
            "text/plain": [
              "{'n_hidden': 7,\n",
              " 'n_neurons': 100,\n",
              " 'learning_rate': 0.0012482904754698163,\n",
              " 'optimizer': 'sgd'}"
            ]
          },
          "metadata": {},
          "execution_count": 12
        }
      ]
    },
    {
      "cell_type": "markdown",
      "source": [
        "- Cada tuner es guiado por un oráculo: antes de cada prueba, el tuner pregunta al oráculo que le indique cuál debería ser la próxima prueba.\n",
        "- El tuner RandomSearch utiliza RandomSearchOracle, que es bastante básico: simplemente selecciona el siguiente trial al azar.\n",
        "- Dado que el oráculo realiza un seguimiento de todas\n",
        "las pruebas, se puede solicitar la mejor y mostrar un resumen:\n"
      ],
      "metadata": {
        "id": "6qiDPdg1da5i"
      }
    },
    {
      "cell_type": "code",
      "source": [
        "best_trial = random_search_tuner.oracle.get_best_trials(num_trials=1)[0]\n",
        "best_trial.summary()"
      ],
      "metadata": {
        "colab": {
          "base_uri": "https://localhost:8080/"
        },
        "id": "p-FLvAhdPXdc",
        "outputId": "9616118f-6cbe-463e-fd05-9998823d9b15"
      },
      "execution_count": null,
      "outputs": [
        {
          "output_type": "stream",
          "name": "stdout",
          "text": [
            "Trial 1 summary\n",
            "Hyperparameters:\n",
            "n_hidden: 7\n",
            "n_neurons: 100\n",
            "learning_rate: 0.0012482904754698163\n",
            "optimizer: sgd\n",
            "Score: 0.8619999885559082\n"
          ]
        }
      ]
    },
    {
      "cell_type": "markdown",
      "source": [
        "También se puede acceder a las métricas directamente:"
      ],
      "metadata": {
        "id": "18S0avZfdjJW"
      }
    },
    {
      "cell_type": "code",
      "source": [
        "best_trial.metrics.get_last_value(\"val_accuracy\")"
      ],
      "metadata": {
        "colab": {
          "base_uri": "https://localhost:8080/"
        },
        "id": "09okbKrLPa3G",
        "outputId": "7a50335d-7268-4add-e64f-7f6fb3d6e1fb"
      },
      "execution_count": null,
      "outputs": [
        {
          "output_type": "execute_result",
          "data": {
            "text/plain": [
              "0.8619999885559082"
            ]
          },
          "metadata": {},
          "execution_count": 14
        }
      ]
    },
    {
      "cell_type": "markdown",
      "source": [
        "Entrenamiento completo\n",
        "\n",
        "Si se está satisfecho con el rendimiento del mejor modelo, se puede continuar entrenándolo durante algunas épocas usando el conjunto de entrenamiento completo (X_train_full y\n",
        "y_train_full), para despúes evaluarlo en el conjunto de prueba y ponerlo en producción."
      ],
      "metadata": {
        "id": "zpqg8STnPbp5"
      }
    },
    {
      "cell_type": "code",
      "source": [
        "best_model.fit(X_train_full, y_train_full, epochs=10)\n",
        "test_loss, test_accuracy = best_model.evaluate(X_test, y_test)"
      ],
      "metadata": {
        "colab": {
          "base_uri": "https://localhost:8080/"
        },
        "id": "2jRhBnTEPdKa",
        "outputId": "d955c417-b22a-403d-df7c-5e661fd6043f"
      },
      "execution_count": null,
      "outputs": [
        {
          "output_type": "stream",
          "name": "stdout",
          "text": [
            "Epoch 1/10\n",
            "1875/1875 [==============================] - 8s 4ms/step - loss: 0.3369 - accuracy: 0.8749\n",
            "Epoch 2/10\n",
            "1875/1875 [==============================] - 6s 3ms/step - loss: 0.3268 - accuracy: 0.8797\n",
            "Epoch 3/10\n",
            "1875/1875 [==============================] - 7s 4ms/step - loss: 0.3172 - accuracy: 0.8832\n",
            "Epoch 4/10\n",
            "1875/1875 [==============================] - 6s 3ms/step - loss: 0.3096 - accuracy: 0.8869\n",
            "Epoch 5/10\n",
            "1875/1875 [==============================] - 7s 4ms/step - loss: 0.3040 - accuracy: 0.8869\n",
            "Epoch 6/10\n",
            "1875/1875 [==============================] - 7s 4ms/step - loss: 0.2960 - accuracy: 0.8904\n",
            "Epoch 7/10\n",
            "1875/1875 [==============================] - 7s 4ms/step - loss: 0.2907 - accuracy: 0.8909\n",
            "Epoch 8/10\n",
            "1875/1875 [==============================] - 7s 4ms/step - loss: 0.2839 - accuracy: 0.8937\n",
            "Epoch 9/10\n",
            "1875/1875 [==============================] - 6s 3ms/step - loss: 0.2782 - accuracy: 0.8955\n",
            "Epoch 10/10\n",
            "1875/1875 [==============================] - 7s 4ms/step - loss: 0.2739 - accuracy: 0.8966\n",
            "313/313 [==============================] - 1s 2ms/step - loss: 0.4204 - accuracy: 0.8527\n"
          ]
        }
      ]
    },
    {
      "cell_type": "markdown",
      "source": [
        "# **Elección de parámetros**"
      ],
      "metadata": {
        "id": "1fS2WzPs9wH0"
      }
    },
    {
      "cell_type": "markdown",
      "source": [
        "**Número de Capas Ocultas**\n",
        "- Para muchos problemas se puede empezar con sólo una o dos capas ocultas.\n",
        "\n",
        "- Se puede alcanzar fácilmente una precisión superior al 97 % en el conjunto de datos MNIST utilizando solo una\n",
        "capa oculta con unos pocos cientos de neuronas y una precisión superior al 98% utilizando\n",
        "dos capas ocultas con el mismo número de neuronas.\n",
        "\n",
        "- Para problemas más complejos, se puede aumentar el número de capas ocultas hasta que produzca overfitting en el conjunto de entrenamiento.\n",
        "\n",
        "- Tareas muy complejas, como clasificación de imágenes o reconocimiento de voz normalmente requieren redes con docenas de capas (o incluso cientos, pero no MLPs), y necesitan una gran cantidad de datos de entrenamiento.\n",
        "\n",
        "- Transfer learning: rara vez se entrena tales\n",
        "redes grandes desde cero: es mucho más común reutilizar partes de una\n",
        "red de última generación previamente entrenada que realiza una tarea similar. La clasificación entonces será mucho más rápida y requerirá muchos menos datos.\n"
      ],
      "metadata": {
        "id": "UIUS5yie94cs"
      }
    },
    {
      "cell_type": "markdown",
      "source": [
        "**Número de neuronas por capa oculta**\n",
        "\n",
        "- Las capas de entrada y salida dependen de los datos\n",
        "- Antes se pensaba que en MLPs debería comenzarse con muchas neuronas e ir disminuyendo gradualmente. La red neuronal para MNIST podía tener 3 capas ocultas, la primera con 300 neuronas, la segunda con 200 y la tercera con 100.\n",
        "- Esta práctica ha sido abandonada en gran medida porque parece que usar el mismo número de neuronas en todas las capas ocultas funciona igual de bien en la mayoría de casos.\n",
        "-  En general, dependiendo del conjunto de datos, a veces puede resultar útil hacer la primera capa oculta más grande que las demás."
      ],
      "metadata": {
        "id": "72rAbQRM94oD"
      }
    },
    {
      "cell_type": "markdown",
      "source": [
        "**Learning Rate, Batch Size, y otros**\n",
        "\n",
        "*Learning rate*:\n",
        "\n",
        "- Para encontrar una buena tasa de aprendizaje se entrena\n",
        "el modelo durante unos cientos de iteraciones, comenzando con un valor muy bajo (por ejemplo, $10^{-5}$)\n",
        "- Se aumenta gradualmente hasta un valor muy grande (por ejemplo,\n",
        "10).\n",
        "- Esto se consigue multiplicando la tasa de aprendizaje por un factor constante en cada iteración (por ejemplo, por $(10/10^{-5})^{1/500}$ para pasar de $10^{-5}$ a 10 en 500\n",
        "iteraciones).\n",
        "- Se grafica la pérdida (loss) en función de la tasa de aprendizaje (usando un escala logarítmica), se debería observar que disminuye al principio. Pero después de un tiempo, la tasa de aprendizaje será demasiado grande, por lo que el loss se disparará.\n",
        "- Copia de seguridad: la tasa de aprendizaje óptima será un poco más baja que el punto en donde el loss comienza a aumentar.\n",
        "- Se re entrena el modelo con esta tasa de aprendizaje óptima.\n",
        "\n",
        "*Optimizador*:\n",
        "\n",
        "Elegir un optimizador mejor que el antiguo descenso de gradiente con mini batches (y ajustar sus hiperparámetros) es bastante importante. Se verán opciones en otros jupyters.\n",
        "\n",
        "*Batch*:\n",
        "\n",
        "- El tamaño del batch puede tener un impacto significativo en el rendimiento de su modelo.\n",
        "- El principal beneficio de utilizar batches grandes es que las GPU pueden procesarlos eficientemente.\n",
        "- Sin embargo, hay un problema: en la práctica, los batches grandes a menudo conducen a inestabilidades del entrenamiento, especialmente al inicio del mismo, y el modelo resultante puede no generalizar bien\n",
        "- Según LeCun se debe usar tamaños de batch de hasta 32.\n",
        "- Dominic Masters y Carlo Luschi, investigaron que el uso de pequeños\n",
        "batches (de 2 a 32) era preferible ya que conducían a mejores modelos en menos tiempo de entrenamiento.\n",
        "-  Para contrariar esto, Elad Hoffer et al.\n",
        "y Priya Goyal et al. demostraron que era posible utilizar tamaños muy grandes de batch (hasta 8,192) junto con varias técnicas asociadas a la alteración de la tasa de aprendizaje. Obtuvieron tiempos de entrenamiento cortos, sin ninguna brecha de generalización.\n",
        "- Una estrategia es intentar a utilizar un tamaño de batch grande, con una pequeña tasa de aprendizaje y luego aumentándola, y si el entrenamiento es inestable o el rendimiento final es decepcionante, utilice un batch pequeño.\n",
        "\n",
        "*Función de activación*\n",
        "\n",
        "En general, la función de activación ReLU será un buen valor predeterminado para todas las capas ocultas, pero para la capa de salida depende de la tarea a resolver.\n",
        "\n",
        "*Número de iteraciones*\n",
        "\n",
        "En la mayoría de los casos, no es necesario que el número de iteraciones sea ajustada, utilice early stopping."
      ],
      "metadata": {
        "id": "iOrius8YA2hJ"
      }
    },
    {
      "cell_type": "code",
      "source": [],
      "metadata": {
        "id": "VdUmy9Wf_NM4"
      },
      "execution_count": null,
      "outputs": []
    }
  ]
}
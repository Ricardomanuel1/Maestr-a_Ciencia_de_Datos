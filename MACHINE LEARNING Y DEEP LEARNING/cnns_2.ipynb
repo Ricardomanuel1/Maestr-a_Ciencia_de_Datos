{
  "nbformat": 4,
  "nbformat_minor": 0,
  "metadata": {
    "colab": {
      "provenance": [],
      "include_colab_link": true
    },
    "kernelspec": {
      "name": "python3",
      "display_name": "Python 3"
    },
    "language_info": {
      "name": "python"
    }
  },
  "cells": [
    {
      "cell_type": "markdown",
      "metadata": {
        "id": "view-in-github",
        "colab_type": "text"
      },
      "source": [
        "<a href=\"https://colab.research.google.com/github/Ricardomanuel1/Maestria_Ciencia_de_Datos/blob/main/MACHINE%20LEARNING%20Y%20DEEP%20LEARNING/cnns_2.ipynb\" target=\"_parent\"><img src=\"https://colab.research.google.com/assets/colab-badge.svg\" alt=\"Open In Colab\"/></a>"
      ]
    },
    {
      "cell_type": "markdown",
      "source": [
        "# ImageNet dataset\n",
        "\n",
        "ImageNet es una de las bases de datos más grandes y ampliamente utilizadas para\n",
        "el entrenamiento y evaluación de algoritmos de visión por computadora, particularmente\n",
        "en tareas de clasificación de imágenes y reconocimiento de objetos. Fue creada por un\n",
        "equipo liderado por Fei-Fei Li y lanzada en 2009.\n",
        "\n",
        "Características de la Base de Datos ImageNet:\n",
        "\n",
        "* **Número de Imágenes**: ImageNet contiene más de 14 millones de imágenes, con anotaciones para más de 20,000 categorías de objetos.\n",
        "* **Conjunto de Entrenamiento**: 1,281,167 imágenes images.\n",
        "* **Conjunto de Prueba**: 50,000 imágenes.\n",
        "* **Conjunto de Test**: 100,000 imágenes.\n",
        "* **Dimensiones de las Imágenes**: Cada imagen es de 28x28 píxeles.\n",
        "* **Formato de las Imágenes**: A color (tres canales).\n",
        "* **Etiquetas**: Uno de los aspectos más destacados de ImageNet es el ILSVRC, una\n",
        "competencia anual que desafía a los investigadores a desarrollar los mejores algoritmos\n",
        "para la clasificación y detección de objetos en un subconjunto de 1,000 categorías de ImageNet."
      ],
      "metadata": {
        "id": "cMSbEWPPUA5T"
      }
    },
    {
      "cell_type": "markdown",
      "source": [
        "# Modelo VGG16\n",
        "\n",
        "VGG16 es una de las arquitecturas de redes neuronales convolucionales (CNN) más influyentes y ampliamente utilizadas en la visión por computadora. Fue desarrollada por Simonyan y Zisserman del Visual Geometry Group (VGG) de la Universidad de Oxford y presentada en el artículo \"Very Deep Convolutional Networks for Large-Scale Image Recognition\" en 2014.\n",
        "\n",
        "\n",
        "\n",
        "\n",
        "![](https://drive.google.com/uc?export=view&id=1oYJMdepcSIkkUjsSp8Y3XtnGVVpSiuQG)"
      ],
      "metadata": {
        "id": "hF9VcZYsURRQ"
      }
    },
    {
      "cell_type": "code",
      "source": [
        "# Crear el Modelo VGG16\n",
        "\n",
        "class VGG(nn.Module):\n",
        "\n",
        "\n",
        "model = VGG()"
      ],
      "metadata": {
        "id": "Az4p8OAzUwOx"
      },
      "execution_count": null,
      "outputs": []
    },
    {
      "cell_type": "code",
      "source": [
        "# Crear un batch de 100 imágenes de 224x224x3\n",
        "\n",
        "x ="
      ],
      "metadata": {
        "id": "ieMQWGkBSLHi"
      },
      "execution_count": null,
      "outputs": []
    },
    {
      "cell_type": "code",
      "source": [
        "# Alimentar el modelo VGG16 con el batch de imágenes\n",
        "\n",
        "y = model(x)"
      ],
      "metadata": {
        "id": "tsh8GnDoU0_6"
      },
      "execution_count": null,
      "outputs": []
    }
  ]
}
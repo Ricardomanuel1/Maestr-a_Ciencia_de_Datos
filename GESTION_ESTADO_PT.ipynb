{
  "nbformat": 4,
  "nbformat_minor": 0,
  "metadata": {
    "colab": {
      "provenance": [],
      "authorship_tag": "ABX9TyNyc01YU8LGOFbJATsScPJn",
      "include_colab_link": true
    },
    "kernelspec": {
      "name": "python3",
      "display_name": "Python 3"
    },
    "language_info": {
      "name": "python"
    }
  },
  "cells": [
    {
      "cell_type": "markdown",
      "metadata": {
        "id": "view-in-github",
        "colab_type": "text"
      },
      "source": [
        "<a href=\"https://colab.research.google.com/github/Ricardomanuel1/Maestria_Ciencia_de_Datos/blob/main/GESTION_ESTADO_PT.ipynb\" target=\"_parent\"><img src=\"https://colab.research.google.com/assets/colab-badge.svg\" alt=\"Open In Colab\"/></a>"
      ]
    },
    {
      "cell_type": "code",
      "execution_count": 346,
      "metadata": {
        "id": "1U81uH8bSvk4"
      },
      "outputs": [],
      "source": [
        "import pandas as pd\n",
        "import numpy as np\n",
        "import matplotlib.pyplot as plt\n",
        "import matplotlib.colors as mcolors\n",
        "import seaborn as sns\n",
        "import warnings\n",
        "import statsmodels.api as sm\n",
        "import datetime\n",
        "from datetime import date\n",
        "from datetime import timedelta\n",
        "from scipy import stats\n",
        "warnings.filterwarnings(\"ignore\")"
      ]
    },
    {
      "cell_type": "code",
      "source": [
        "!pip install pandas openpyxl"
      ],
      "metadata": {
        "colab": {
          "base_uri": "https://localhost:8080/"
        },
        "id": "IwdHlbWsVBsU",
        "outputId": "a63e24b4-99c7-4f6c-af8c-a4d23be77d21"
      },
      "execution_count": 347,
      "outputs": [
        {
          "output_type": "stream",
          "name": "stdout",
          "text": [
            "Requirement already satisfied: pandas in /usr/local/lib/python3.10/dist-packages (1.5.3)\n",
            "Requirement already satisfied: openpyxl in /usr/local/lib/python3.10/dist-packages (3.1.2)\n",
            "Requirement already satisfied: python-dateutil>=2.8.1 in /usr/local/lib/python3.10/dist-packages (from pandas) (2.8.2)\n",
            "Requirement already satisfied: pytz>=2020.1 in /usr/local/lib/python3.10/dist-packages (from pandas) (2023.3.post1)\n",
            "Requirement already satisfied: numpy>=1.21.0 in /usr/local/lib/python3.10/dist-packages (from pandas) (1.23.5)\n",
            "Requirement already satisfied: et-xmlfile in /usr/local/lib/python3.10/dist-packages (from openpyxl) (1.1.0)\n",
            "Requirement already satisfied: six>=1.5 in /usr/local/lib/python3.10/dist-packages (from python-dateutil>=2.8.1->pandas) (1.16.0)\n"
          ]
        }
      ]
    },
    {
      "cell_type": "code",
      "source": [
        "from google.colab import drive\n",
        "drive.mount('/content/drive')"
      ],
      "metadata": {
        "colab": {
          "base_uri": "https://localhost:8080/"
        },
        "id": "s0QWB-baS9iP",
        "outputId": "f56d0157-6e82-4ee0-95e9-505b6988db9f"
      },
      "execution_count": 348,
      "outputs": [
        {
          "output_type": "stream",
          "name": "stdout",
          "text": [
            "Drive already mounted at /content/drive; to attempt to forcibly remount, call drive.mount(\"/content/drive\", force_remount=True).\n"
          ]
        }
      ]
    },
    {
      "cell_type": "code",
      "source": [
        "#Cargamos el consolidado del informe de operación de las subestaciones"
      ],
      "metadata": {
        "id": "kY6Mv1j1-reE"
      },
      "execution_count": 349,
      "outputs": []
    },
    {
      "cell_type": "code",
      "source": [
        "datos = pd.read_excel('/content/drive/MyDrive/INFORME DE OPERACION STN/RESUMEN INFORME DE OPERACION STN_PYTHON.xlsx')"
      ],
      "metadata": {
        "id": "e18mcjBiTBM5"
      },
      "execution_count": 350,
      "outputs": []
    },
    {
      "cell_type": "code",
      "source": [
        "datos.shape"
      ],
      "metadata": {
        "colab": {
          "base_uri": "https://localhost:8080/"
        },
        "id": "XxoIx2g1h1G1",
        "outputId": "1a771c1d-0bb2-4052-e378-d521126eff00"
      },
      "execution_count": 351,
      "outputs": [
        {
          "output_type": "execute_result",
          "data": {
            "text/plain": [
              "(2934, 25)"
            ]
          },
          "metadata": {},
          "execution_count": 351
        }
      ]
    },
    {
      "cell_type": "markdown",
      "source": [
        "## GESTION DE PLANES DE TRABAJO A ESTADO EJECUTADO"
      ],
      "metadata": {
        "id": "201pxP7dH7ut"
      }
    },
    {
      "cell_type": "code",
      "source": [
        "#Quitar los los planes de trabajo duplicados"
      ],
      "metadata": {
        "id": "_qs1iLw6fWVZ"
      },
      "execution_count": 352,
      "outputs": []
    },
    {
      "cell_type": "code",
      "source": [
        "datos_sin_duplicados=datos.drop_duplicates(datos[['PLAN DE TRABAJO']])\n",
        "datos_sin_duplicados.shape"
      ],
      "metadata": {
        "colab": {
          "base_uri": "https://localhost:8080/"
        },
        "id": "uSUCTiS91ViD",
        "outputId": "74556e6b-482d-43cf-dedb-4647d3475418"
      },
      "execution_count": 353,
      "outputs": [
        {
          "output_type": "execute_result",
          "data": {
            "text/plain": [
              "(1243, 25)"
            ]
          },
          "metadata": {},
          "execution_count": 353
        }
      ]
    },
    {
      "cell_type": "code",
      "source": [
        "plan=datos_sin_duplicados[[\"NUMERO DE PERMISO\",\"SUBESTACIÓN\",\"FECHA DE INICIO\",\"PLAN DE TRABAJO\",\"TIPO DE PLAN\"]]"
      ],
      "metadata": {
        "id": "uwlD1iRzWJDm"
      },
      "execution_count": 354,
      "outputs": []
    },
    {
      "cell_type": "code",
      "source": [
        "pt=plan[[\"PLAN DE TRABAJO\"]]"
      ],
      "metadata": {
        "id": "A47rt5yxYEwA"
      },
      "execution_count": 355,
      "outputs": []
    },
    {
      "cell_type": "code",
      "source": [
        "#Guardamos los planes de trabajo no repetidos para la consulta del estado en SAP"
      ],
      "metadata": {
        "id": "2iEGULjIlrPk"
      },
      "execution_count": 356,
      "outputs": []
    },
    {
      "cell_type": "code",
      "source": [
        "pt.to_csv(\"/content/drive/MyDrive/INFORME DE OPERACION STN/consulta_SAP.csv\",index=False)"
      ],
      "metadata": {
        "id": "gwVUlw1iZHmS"
      },
      "execution_count": 357,
      "outputs": []
    },
    {
      "cell_type": "code",
      "source": [
        "#Cargamos la consulta en realizada en SAP de los estados de los planes"
      ],
      "metadata": {
        "id": "PgkeeNw2l069"
      },
      "execution_count": 358,
      "outputs": []
    },
    {
      "cell_type": "code",
      "source": [
        "sap = pd.read_excel('/content/drive/MyDrive/INFORME DE OPERACION STN/sap_python.XLSX')"
      ],
      "metadata": {
        "id": "7dCaEOusZYzg"
      },
      "execution_count": 359,
      "outputs": []
    },
    {
      "cell_type": "code",
      "source": [
        "#Seleccionamos las 04 primeras columnas"
      ],
      "metadata": {
        "id": "1bmW1u5TlXiU"
      },
      "execution_count": 360,
      "outputs": []
    },
    {
      "cell_type": "code",
      "source": [
        "ptsap=sap[['Planes Trab.', 'Estado', 'Núm.Consignación', 'Fecha fin revisión']]\n",
        "ptsap.columns"
      ],
      "metadata": {
        "colab": {
          "base_uri": "https://localhost:8080/"
        },
        "id": "nujZHqrrkvl3",
        "outputId": "47128438-20b5-4c73-d6fa-602415e566e5"
      },
      "execution_count": 361,
      "outputs": [
        {
          "output_type": "execute_result",
          "data": {
            "text/plain": [
              "Index(['Planes Trab.', 'Estado', 'Núm.Consignación', 'Fecha fin revisión'], dtype='object')"
            ]
          },
          "metadata": {},
          "execution_count": 361
        }
      ]
    },
    {
      "cell_type": "code",
      "source": [
        "cabecera=['PLAN DE TRABAJO', 'Estado', 'Núm.Consignación', 'Fecha fin revisión']"
      ],
      "metadata": {
        "id": "BQ5qGXjQlyC6"
      },
      "execution_count": 362,
      "outputs": []
    },
    {
      "cell_type": "code",
      "source": [
        "#Cambiamos el nombre del Planes Trab a PLAN DE TRABAJO de la consulta hecha en SAP"
      ],
      "metadata": {
        "id": "D81H9Y0k_RXV"
      },
      "execution_count": 363,
      "outputs": []
    },
    {
      "cell_type": "code",
      "source": [
        "ptsap.columns=cabecera"
      ],
      "metadata": {
        "id": "Z0JRYGh1mJDK"
      },
      "execution_count": 364,
      "outputs": []
    },
    {
      "cell_type": "code",
      "source": [
        "#Hacemos un merge entre los planes no repetidos(plan) y la consulta en sap(ptsap)"
      ],
      "metadata": {
        "id": "84JnklPDy_--"
      },
      "execution_count": 365,
      "outputs": []
    },
    {
      "cell_type": "code",
      "source": [
        "merged_pt = pd.merge(plan,ptsap, on='PLAN DE TRABAJO', how='inner')"
      ],
      "metadata": {
        "id": "A0eEiqaFlCad"
      },
      "execution_count": 366,
      "outputs": []
    },
    {
      "cell_type": "code",
      "source": [
        "merged_pt.head(2)"
      ],
      "metadata": {
        "colab": {
          "base_uri": "https://localhost:8080/",
          "height": 112
        },
        "id": "HnOULfyjlp7L",
        "outputId": "71c293a5-90d8-43ba-a942-6fe8ab9b9e98"
      },
      "execution_count": 367,
      "outputs": [
        {
          "output_type": "execute_result",
          "data": {
            "text/plain": [
              "  NUMERO DE PERMISO         SUBESTACIÓN FECHA DE INICIO PLAN DE TRABAJO  \\\n",
              "0                64  CARHUAQUERO (ISAP)      2023-08-26        R0084687   \n",
              "1                54  CARHUAQUERO (ISAP)      2023-08-16        R0101338   \n",
              "\n",
              "       TIPO DE PLAN  Estado Núm.Consignación Fecha fin revisión  \n",
              "0          NACIONAL       8           N84687         2023-08-27  \n",
              "1  SIN CONSIGNACIÓN       8     S00000004773         2023-08-17  "
            ],
            "text/html": [
              "\n",
              "  <div id=\"df-ca7399f2-fe46-4962-b334-4938b7f08c0c\" class=\"colab-df-container\">\n",
              "    <div>\n",
              "<style scoped>\n",
              "    .dataframe tbody tr th:only-of-type {\n",
              "        vertical-align: middle;\n",
              "    }\n",
              "\n",
              "    .dataframe tbody tr th {\n",
              "        vertical-align: top;\n",
              "    }\n",
              "\n",
              "    .dataframe thead th {\n",
              "        text-align: right;\n",
              "    }\n",
              "</style>\n",
              "<table border=\"1\" class=\"dataframe\">\n",
              "  <thead>\n",
              "    <tr style=\"text-align: right;\">\n",
              "      <th></th>\n",
              "      <th>NUMERO DE PERMISO</th>\n",
              "      <th>SUBESTACIÓN</th>\n",
              "      <th>FECHA DE INICIO</th>\n",
              "      <th>PLAN DE TRABAJO</th>\n",
              "      <th>TIPO DE PLAN</th>\n",
              "      <th>Estado</th>\n",
              "      <th>Núm.Consignación</th>\n",
              "      <th>Fecha fin revisión</th>\n",
              "    </tr>\n",
              "  </thead>\n",
              "  <tbody>\n",
              "    <tr>\n",
              "      <th>0</th>\n",
              "      <td>64</td>\n",
              "      <td>CARHUAQUERO (ISAP)</td>\n",
              "      <td>2023-08-26</td>\n",
              "      <td>R0084687</td>\n",
              "      <td>NACIONAL</td>\n",
              "      <td>8</td>\n",
              "      <td>N84687</td>\n",
              "      <td>2023-08-27</td>\n",
              "    </tr>\n",
              "    <tr>\n",
              "      <th>1</th>\n",
              "      <td>54</td>\n",
              "      <td>CARHUAQUERO (ISAP)</td>\n",
              "      <td>2023-08-16</td>\n",
              "      <td>R0101338</td>\n",
              "      <td>SIN CONSIGNACIÓN</td>\n",
              "      <td>8</td>\n",
              "      <td>S00000004773</td>\n",
              "      <td>2023-08-17</td>\n",
              "    </tr>\n",
              "  </tbody>\n",
              "</table>\n",
              "</div>\n",
              "    <div class=\"colab-df-buttons\">\n",
              "\n",
              "  <div class=\"colab-df-container\">\n",
              "    <button class=\"colab-df-convert\" onclick=\"convertToInteractive('df-ca7399f2-fe46-4962-b334-4938b7f08c0c')\"\n",
              "            title=\"Convert this dataframe to an interactive table.\"\n",
              "            style=\"display:none;\">\n",
              "\n",
              "  <svg xmlns=\"http://www.w3.org/2000/svg\" height=\"24px\" viewBox=\"0 -960 960 960\">\n",
              "    <path d=\"M120-120v-720h720v720H120Zm60-500h600v-160H180v160Zm220 220h160v-160H400v160Zm0 220h160v-160H400v160ZM180-400h160v-160H180v160Zm440 0h160v-160H620v160ZM180-180h160v-160H180v160Zm440 0h160v-160H620v160Z\"/>\n",
              "  </svg>\n",
              "    </button>\n",
              "\n",
              "  <style>\n",
              "    .colab-df-container {\n",
              "      display:flex;\n",
              "      gap: 12px;\n",
              "    }\n",
              "\n",
              "    .colab-df-convert {\n",
              "      background-color: #E8F0FE;\n",
              "      border: none;\n",
              "      border-radius: 50%;\n",
              "      cursor: pointer;\n",
              "      display: none;\n",
              "      fill: #1967D2;\n",
              "      height: 32px;\n",
              "      padding: 0 0 0 0;\n",
              "      width: 32px;\n",
              "    }\n",
              "\n",
              "    .colab-df-convert:hover {\n",
              "      background-color: #E2EBFA;\n",
              "      box-shadow: 0px 1px 2px rgba(60, 64, 67, 0.3), 0px 1px 3px 1px rgba(60, 64, 67, 0.15);\n",
              "      fill: #174EA6;\n",
              "    }\n",
              "\n",
              "    .colab-df-buttons div {\n",
              "      margin-bottom: 4px;\n",
              "    }\n",
              "\n",
              "    [theme=dark] .colab-df-convert {\n",
              "      background-color: #3B4455;\n",
              "      fill: #D2E3FC;\n",
              "    }\n",
              "\n",
              "    [theme=dark] .colab-df-convert:hover {\n",
              "      background-color: #434B5C;\n",
              "      box-shadow: 0px 1px 3px 1px rgba(0, 0, 0, 0.15);\n",
              "      filter: drop-shadow(0px 1px 2px rgba(0, 0, 0, 0.3));\n",
              "      fill: #FFFFFF;\n",
              "    }\n",
              "  </style>\n",
              "\n",
              "    <script>\n",
              "      const buttonEl =\n",
              "        document.querySelector('#df-ca7399f2-fe46-4962-b334-4938b7f08c0c button.colab-df-convert');\n",
              "      buttonEl.style.display =\n",
              "        google.colab.kernel.accessAllowed ? 'block' : 'none';\n",
              "\n",
              "      async function convertToInteractive(key) {\n",
              "        const element = document.querySelector('#df-ca7399f2-fe46-4962-b334-4938b7f08c0c');\n",
              "        const dataTable =\n",
              "          await google.colab.kernel.invokeFunction('convertToInteractive',\n",
              "                                                    [key], {});\n",
              "        if (!dataTable) return;\n",
              "\n",
              "        const docLinkHtml = 'Like what you see? Visit the ' +\n",
              "          '<a target=\"_blank\" href=https://colab.research.google.com/notebooks/data_table.ipynb>data table notebook</a>'\n",
              "          + ' to learn more about interactive tables.';\n",
              "        element.innerHTML = '';\n",
              "        dataTable['output_type'] = 'display_data';\n",
              "        await google.colab.output.renderOutput(dataTable, element);\n",
              "        const docLink = document.createElement('div');\n",
              "        docLink.innerHTML = docLinkHtml;\n",
              "        element.appendChild(docLink);\n",
              "      }\n",
              "    </script>\n",
              "  </div>\n",
              "\n",
              "\n",
              "<div id=\"df-05890065-9de8-4af5-9d8f-032e44abb954\">\n",
              "  <button class=\"colab-df-quickchart\" onclick=\"quickchart('df-05890065-9de8-4af5-9d8f-032e44abb954')\"\n",
              "            title=\"Suggest charts.\"\n",
              "            style=\"display:none;\">\n",
              "\n",
              "<svg xmlns=\"http://www.w3.org/2000/svg\" height=\"24px\"viewBox=\"0 0 24 24\"\n",
              "     width=\"24px\">\n",
              "    <g>\n",
              "        <path d=\"M19 3H5c-1.1 0-2 .9-2 2v14c0 1.1.9 2 2 2h14c1.1 0 2-.9 2-2V5c0-1.1-.9-2-2-2zM9 17H7v-7h2v7zm4 0h-2V7h2v10zm4 0h-2v-4h2v4z\"/>\n",
              "    </g>\n",
              "</svg>\n",
              "  </button>\n",
              "\n",
              "<style>\n",
              "  .colab-df-quickchart {\n",
              "      --bg-color: #E8F0FE;\n",
              "      --fill-color: #1967D2;\n",
              "      --hover-bg-color: #E2EBFA;\n",
              "      --hover-fill-color: #174EA6;\n",
              "      --disabled-fill-color: #AAA;\n",
              "      --disabled-bg-color: #DDD;\n",
              "  }\n",
              "\n",
              "  [theme=dark] .colab-df-quickchart {\n",
              "      --bg-color: #3B4455;\n",
              "      --fill-color: #D2E3FC;\n",
              "      --hover-bg-color: #434B5C;\n",
              "      --hover-fill-color: #FFFFFF;\n",
              "      --disabled-bg-color: #3B4455;\n",
              "      --disabled-fill-color: #666;\n",
              "  }\n",
              "\n",
              "  .colab-df-quickchart {\n",
              "    background-color: var(--bg-color);\n",
              "    border: none;\n",
              "    border-radius: 50%;\n",
              "    cursor: pointer;\n",
              "    display: none;\n",
              "    fill: var(--fill-color);\n",
              "    height: 32px;\n",
              "    padding: 0;\n",
              "    width: 32px;\n",
              "  }\n",
              "\n",
              "  .colab-df-quickchart:hover {\n",
              "    background-color: var(--hover-bg-color);\n",
              "    box-shadow: 0 1px 2px rgba(60, 64, 67, 0.3), 0 1px 3px 1px rgba(60, 64, 67, 0.15);\n",
              "    fill: var(--button-hover-fill-color);\n",
              "  }\n",
              "\n",
              "  .colab-df-quickchart-complete:disabled,\n",
              "  .colab-df-quickchart-complete:disabled:hover {\n",
              "    background-color: var(--disabled-bg-color);\n",
              "    fill: var(--disabled-fill-color);\n",
              "    box-shadow: none;\n",
              "  }\n",
              "\n",
              "  .colab-df-spinner {\n",
              "    border: 2px solid var(--fill-color);\n",
              "    border-color: transparent;\n",
              "    border-bottom-color: var(--fill-color);\n",
              "    animation:\n",
              "      spin 1s steps(1) infinite;\n",
              "  }\n",
              "\n",
              "  @keyframes spin {\n",
              "    0% {\n",
              "      border-color: transparent;\n",
              "      border-bottom-color: var(--fill-color);\n",
              "      border-left-color: var(--fill-color);\n",
              "    }\n",
              "    20% {\n",
              "      border-color: transparent;\n",
              "      border-left-color: var(--fill-color);\n",
              "      border-top-color: var(--fill-color);\n",
              "    }\n",
              "    30% {\n",
              "      border-color: transparent;\n",
              "      border-left-color: var(--fill-color);\n",
              "      border-top-color: var(--fill-color);\n",
              "      border-right-color: var(--fill-color);\n",
              "    }\n",
              "    40% {\n",
              "      border-color: transparent;\n",
              "      border-right-color: var(--fill-color);\n",
              "      border-top-color: var(--fill-color);\n",
              "    }\n",
              "    60% {\n",
              "      border-color: transparent;\n",
              "      border-right-color: var(--fill-color);\n",
              "    }\n",
              "    80% {\n",
              "      border-color: transparent;\n",
              "      border-right-color: var(--fill-color);\n",
              "      border-bottom-color: var(--fill-color);\n",
              "    }\n",
              "    90% {\n",
              "      border-color: transparent;\n",
              "      border-bottom-color: var(--fill-color);\n",
              "    }\n",
              "  }\n",
              "</style>\n",
              "\n",
              "  <script>\n",
              "    async function quickchart(key) {\n",
              "      const quickchartButtonEl =\n",
              "        document.querySelector('#' + key + ' button');\n",
              "      quickchartButtonEl.disabled = true;  // To prevent multiple clicks.\n",
              "      quickchartButtonEl.classList.add('colab-df-spinner');\n",
              "      try {\n",
              "        const charts = await google.colab.kernel.invokeFunction(\n",
              "            'suggestCharts', [key], {});\n",
              "      } catch (error) {\n",
              "        console.error('Error during call to suggestCharts:', error);\n",
              "      }\n",
              "      quickchartButtonEl.classList.remove('colab-df-spinner');\n",
              "      quickchartButtonEl.classList.add('colab-df-quickchart-complete');\n",
              "    }\n",
              "    (() => {\n",
              "      let quickchartButtonEl =\n",
              "        document.querySelector('#df-05890065-9de8-4af5-9d8f-032e44abb954 button');\n",
              "      quickchartButtonEl.style.display =\n",
              "        google.colab.kernel.accessAllowed ? 'block' : 'none';\n",
              "    })();\n",
              "  </script>\n",
              "</div>\n",
              "    </div>\n",
              "  </div>\n"
            ]
          },
          "metadata": {},
          "execution_count": 367
        }
      ]
    },
    {
      "cell_type": "code",
      "source": [
        "#Creamos una columna con la fecha de hoy"
      ],
      "metadata": {
        "id": "DE0KmPLzAfEL"
      },
      "execution_count": 368,
      "outputs": []
    },
    {
      "cell_type": "code",
      "source": [
        "hoy = date.today()\n",
        "merged_pt[\"hoy\"]=hoy\n",
        "merged_pt['hoy'] = pd.to_datetime(merged_pt['hoy'])"
      ],
      "metadata": {
        "id": "dBdp4KNxAnKL"
      },
      "execution_count": 369,
      "outputs": []
    },
    {
      "cell_type": "code",
      "source": [
        "merged_pt.head(2)"
      ],
      "metadata": {
        "colab": {
          "base_uri": "https://localhost:8080/",
          "height": 112
        },
        "id": "UWgm0hX4BM0v",
        "outputId": "72ed671c-1912-4b87-ec28-25d14fb6ce3b"
      },
      "execution_count": 370,
      "outputs": [
        {
          "output_type": "execute_result",
          "data": {
            "text/plain": [
              "  NUMERO DE PERMISO         SUBESTACIÓN FECHA DE INICIO PLAN DE TRABAJO  \\\n",
              "0                64  CARHUAQUERO (ISAP)      2023-08-26        R0084687   \n",
              "1                54  CARHUAQUERO (ISAP)      2023-08-16        R0101338   \n",
              "\n",
              "       TIPO DE PLAN  Estado Núm.Consignación Fecha fin revisión        hoy  \n",
              "0          NACIONAL       8           N84687         2023-08-27 2023-10-03  \n",
              "1  SIN CONSIGNACIÓN       8     S00000004773         2023-08-17 2023-10-03  "
            ],
            "text/html": [
              "\n",
              "  <div id=\"df-31a5b96d-2ac1-43da-add7-7dc7ccd0ab3a\" class=\"colab-df-container\">\n",
              "    <div>\n",
              "<style scoped>\n",
              "    .dataframe tbody tr th:only-of-type {\n",
              "        vertical-align: middle;\n",
              "    }\n",
              "\n",
              "    .dataframe tbody tr th {\n",
              "        vertical-align: top;\n",
              "    }\n",
              "\n",
              "    .dataframe thead th {\n",
              "        text-align: right;\n",
              "    }\n",
              "</style>\n",
              "<table border=\"1\" class=\"dataframe\">\n",
              "  <thead>\n",
              "    <tr style=\"text-align: right;\">\n",
              "      <th></th>\n",
              "      <th>NUMERO DE PERMISO</th>\n",
              "      <th>SUBESTACIÓN</th>\n",
              "      <th>FECHA DE INICIO</th>\n",
              "      <th>PLAN DE TRABAJO</th>\n",
              "      <th>TIPO DE PLAN</th>\n",
              "      <th>Estado</th>\n",
              "      <th>Núm.Consignación</th>\n",
              "      <th>Fecha fin revisión</th>\n",
              "      <th>hoy</th>\n",
              "    </tr>\n",
              "  </thead>\n",
              "  <tbody>\n",
              "    <tr>\n",
              "      <th>0</th>\n",
              "      <td>64</td>\n",
              "      <td>CARHUAQUERO (ISAP)</td>\n",
              "      <td>2023-08-26</td>\n",
              "      <td>R0084687</td>\n",
              "      <td>NACIONAL</td>\n",
              "      <td>8</td>\n",
              "      <td>N84687</td>\n",
              "      <td>2023-08-27</td>\n",
              "      <td>2023-10-03</td>\n",
              "    </tr>\n",
              "    <tr>\n",
              "      <th>1</th>\n",
              "      <td>54</td>\n",
              "      <td>CARHUAQUERO (ISAP)</td>\n",
              "      <td>2023-08-16</td>\n",
              "      <td>R0101338</td>\n",
              "      <td>SIN CONSIGNACIÓN</td>\n",
              "      <td>8</td>\n",
              "      <td>S00000004773</td>\n",
              "      <td>2023-08-17</td>\n",
              "      <td>2023-10-03</td>\n",
              "    </tr>\n",
              "  </tbody>\n",
              "</table>\n",
              "</div>\n",
              "    <div class=\"colab-df-buttons\">\n",
              "\n",
              "  <div class=\"colab-df-container\">\n",
              "    <button class=\"colab-df-convert\" onclick=\"convertToInteractive('df-31a5b96d-2ac1-43da-add7-7dc7ccd0ab3a')\"\n",
              "            title=\"Convert this dataframe to an interactive table.\"\n",
              "            style=\"display:none;\">\n",
              "\n",
              "  <svg xmlns=\"http://www.w3.org/2000/svg\" height=\"24px\" viewBox=\"0 -960 960 960\">\n",
              "    <path d=\"M120-120v-720h720v720H120Zm60-500h600v-160H180v160Zm220 220h160v-160H400v160Zm0 220h160v-160H400v160ZM180-400h160v-160H180v160Zm440 0h160v-160H620v160ZM180-180h160v-160H180v160Zm440 0h160v-160H620v160Z\"/>\n",
              "  </svg>\n",
              "    </button>\n",
              "\n",
              "  <style>\n",
              "    .colab-df-container {\n",
              "      display:flex;\n",
              "      gap: 12px;\n",
              "    }\n",
              "\n",
              "    .colab-df-convert {\n",
              "      background-color: #E8F0FE;\n",
              "      border: none;\n",
              "      border-radius: 50%;\n",
              "      cursor: pointer;\n",
              "      display: none;\n",
              "      fill: #1967D2;\n",
              "      height: 32px;\n",
              "      padding: 0 0 0 0;\n",
              "      width: 32px;\n",
              "    }\n",
              "\n",
              "    .colab-df-convert:hover {\n",
              "      background-color: #E2EBFA;\n",
              "      box-shadow: 0px 1px 2px rgba(60, 64, 67, 0.3), 0px 1px 3px 1px rgba(60, 64, 67, 0.15);\n",
              "      fill: #174EA6;\n",
              "    }\n",
              "\n",
              "    .colab-df-buttons div {\n",
              "      margin-bottom: 4px;\n",
              "    }\n",
              "\n",
              "    [theme=dark] .colab-df-convert {\n",
              "      background-color: #3B4455;\n",
              "      fill: #D2E3FC;\n",
              "    }\n",
              "\n",
              "    [theme=dark] .colab-df-convert:hover {\n",
              "      background-color: #434B5C;\n",
              "      box-shadow: 0px 1px 3px 1px rgba(0, 0, 0, 0.15);\n",
              "      filter: drop-shadow(0px 1px 2px rgba(0, 0, 0, 0.3));\n",
              "      fill: #FFFFFF;\n",
              "    }\n",
              "  </style>\n",
              "\n",
              "    <script>\n",
              "      const buttonEl =\n",
              "        document.querySelector('#df-31a5b96d-2ac1-43da-add7-7dc7ccd0ab3a button.colab-df-convert');\n",
              "      buttonEl.style.display =\n",
              "        google.colab.kernel.accessAllowed ? 'block' : 'none';\n",
              "\n",
              "      async function convertToInteractive(key) {\n",
              "        const element = document.querySelector('#df-31a5b96d-2ac1-43da-add7-7dc7ccd0ab3a');\n",
              "        const dataTable =\n",
              "          await google.colab.kernel.invokeFunction('convertToInteractive',\n",
              "                                                    [key], {});\n",
              "        if (!dataTable) return;\n",
              "\n",
              "        const docLinkHtml = 'Like what you see? Visit the ' +\n",
              "          '<a target=\"_blank\" href=https://colab.research.google.com/notebooks/data_table.ipynb>data table notebook</a>'\n",
              "          + ' to learn more about interactive tables.';\n",
              "        element.innerHTML = '';\n",
              "        dataTable['output_type'] = 'display_data';\n",
              "        await google.colab.output.renderOutput(dataTable, element);\n",
              "        const docLink = document.createElement('div');\n",
              "        docLink.innerHTML = docLinkHtml;\n",
              "        element.appendChild(docLink);\n",
              "      }\n",
              "    </script>\n",
              "  </div>\n",
              "\n",
              "\n",
              "<div id=\"df-df3c01be-84aa-4e2a-9c9c-0e676b8505cd\">\n",
              "  <button class=\"colab-df-quickchart\" onclick=\"quickchart('df-df3c01be-84aa-4e2a-9c9c-0e676b8505cd')\"\n",
              "            title=\"Suggest charts.\"\n",
              "            style=\"display:none;\">\n",
              "\n",
              "<svg xmlns=\"http://www.w3.org/2000/svg\" height=\"24px\"viewBox=\"0 0 24 24\"\n",
              "     width=\"24px\">\n",
              "    <g>\n",
              "        <path d=\"M19 3H5c-1.1 0-2 .9-2 2v14c0 1.1.9 2 2 2h14c1.1 0 2-.9 2-2V5c0-1.1-.9-2-2-2zM9 17H7v-7h2v7zm4 0h-2V7h2v10zm4 0h-2v-4h2v4z\"/>\n",
              "    </g>\n",
              "</svg>\n",
              "  </button>\n",
              "\n",
              "<style>\n",
              "  .colab-df-quickchart {\n",
              "      --bg-color: #E8F0FE;\n",
              "      --fill-color: #1967D2;\n",
              "      --hover-bg-color: #E2EBFA;\n",
              "      --hover-fill-color: #174EA6;\n",
              "      --disabled-fill-color: #AAA;\n",
              "      --disabled-bg-color: #DDD;\n",
              "  }\n",
              "\n",
              "  [theme=dark] .colab-df-quickchart {\n",
              "      --bg-color: #3B4455;\n",
              "      --fill-color: #D2E3FC;\n",
              "      --hover-bg-color: #434B5C;\n",
              "      --hover-fill-color: #FFFFFF;\n",
              "      --disabled-bg-color: #3B4455;\n",
              "      --disabled-fill-color: #666;\n",
              "  }\n",
              "\n",
              "  .colab-df-quickchart {\n",
              "    background-color: var(--bg-color);\n",
              "    border: none;\n",
              "    border-radius: 50%;\n",
              "    cursor: pointer;\n",
              "    display: none;\n",
              "    fill: var(--fill-color);\n",
              "    height: 32px;\n",
              "    padding: 0;\n",
              "    width: 32px;\n",
              "  }\n",
              "\n",
              "  .colab-df-quickchart:hover {\n",
              "    background-color: var(--hover-bg-color);\n",
              "    box-shadow: 0 1px 2px rgba(60, 64, 67, 0.3), 0 1px 3px 1px rgba(60, 64, 67, 0.15);\n",
              "    fill: var(--button-hover-fill-color);\n",
              "  }\n",
              "\n",
              "  .colab-df-quickchart-complete:disabled,\n",
              "  .colab-df-quickchart-complete:disabled:hover {\n",
              "    background-color: var(--disabled-bg-color);\n",
              "    fill: var(--disabled-fill-color);\n",
              "    box-shadow: none;\n",
              "  }\n",
              "\n",
              "  .colab-df-spinner {\n",
              "    border: 2px solid var(--fill-color);\n",
              "    border-color: transparent;\n",
              "    border-bottom-color: var(--fill-color);\n",
              "    animation:\n",
              "      spin 1s steps(1) infinite;\n",
              "  }\n",
              "\n",
              "  @keyframes spin {\n",
              "    0% {\n",
              "      border-color: transparent;\n",
              "      border-bottom-color: var(--fill-color);\n",
              "      border-left-color: var(--fill-color);\n",
              "    }\n",
              "    20% {\n",
              "      border-color: transparent;\n",
              "      border-left-color: var(--fill-color);\n",
              "      border-top-color: var(--fill-color);\n",
              "    }\n",
              "    30% {\n",
              "      border-color: transparent;\n",
              "      border-left-color: var(--fill-color);\n",
              "      border-top-color: var(--fill-color);\n",
              "      border-right-color: var(--fill-color);\n",
              "    }\n",
              "    40% {\n",
              "      border-color: transparent;\n",
              "      border-right-color: var(--fill-color);\n",
              "      border-top-color: var(--fill-color);\n",
              "    }\n",
              "    60% {\n",
              "      border-color: transparent;\n",
              "      border-right-color: var(--fill-color);\n",
              "    }\n",
              "    80% {\n",
              "      border-color: transparent;\n",
              "      border-right-color: var(--fill-color);\n",
              "      border-bottom-color: var(--fill-color);\n",
              "    }\n",
              "    90% {\n",
              "      border-color: transparent;\n",
              "      border-bottom-color: var(--fill-color);\n",
              "    }\n",
              "  }\n",
              "</style>\n",
              "\n",
              "  <script>\n",
              "    async function quickchart(key) {\n",
              "      const quickchartButtonEl =\n",
              "        document.querySelector('#' + key + ' button');\n",
              "      quickchartButtonEl.disabled = true;  // To prevent multiple clicks.\n",
              "      quickchartButtonEl.classList.add('colab-df-spinner');\n",
              "      try {\n",
              "        const charts = await google.colab.kernel.invokeFunction(\n",
              "            'suggestCharts', [key], {});\n",
              "      } catch (error) {\n",
              "        console.error('Error during call to suggestCharts:', error);\n",
              "      }\n",
              "      quickchartButtonEl.classList.remove('colab-df-spinner');\n",
              "      quickchartButtonEl.classList.add('colab-df-quickchart-complete');\n",
              "    }\n",
              "    (() => {\n",
              "      let quickchartButtonEl =\n",
              "        document.querySelector('#df-df3c01be-84aa-4e2a-9c9c-0e676b8505cd button');\n",
              "      quickchartButtonEl.style.display =\n",
              "        google.colab.kernel.accessAllowed ? 'block' : 'none';\n",
              "    })();\n",
              "  </script>\n",
              "</div>\n",
              "    </div>\n",
              "  </div>\n"
            ]
          },
          "metadata": {},
          "execution_count": 370
        }
      ]
    },
    {
      "cell_type": "code",
      "source": [
        "#Filtramos los sin consignación y local que deben ser cambiados a estado EJECUTADO."
      ],
      "metadata": {
        "id": "29_aQHeqGcps"
      },
      "execution_count": 371,
      "outputs": []
    },
    {
      "cell_type": "code",
      "source": [
        "filtro1=merged_pt[(merged_pt.Estado<8) & ((merged_pt[\"Fecha fin revisión\"])<(merged_pt[\"hoy\"]))]\n",
        "filtro1.head(3)"
      ],
      "metadata": {
        "colab": {
          "base_uri": "https://localhost:8080/",
          "height": 80
        },
        "id": "Ax-BgeO2BaFg",
        "outputId": "7040e92a-0351-4621-f014-7c50c24f61ba"
      },
      "execution_count": 372,
      "outputs": [
        {
          "output_type": "execute_result",
          "data": {
            "text/plain": [
              "   NUMERO DE PERMISO     SUBESTACIÓN FECHA DE INICIO PLAN DE TRABAJO  \\\n",
              "38               483  CHICLAYO OESTE      2023-10-02        R0102226   \n",
              "\n",
              "        TIPO DE PLAN  Estado Núm.Consignación Fecha fin revisión        hoy  \n",
              "38  SIN CONSIGNACIÓN       2     S00000004804         2023-10-02 2023-10-03  "
            ],
            "text/html": [
              "\n",
              "  <div id=\"df-cf556e8e-add9-45d3-b16c-5f8dfefd0d03\" class=\"colab-df-container\">\n",
              "    <div>\n",
              "<style scoped>\n",
              "    .dataframe tbody tr th:only-of-type {\n",
              "        vertical-align: middle;\n",
              "    }\n",
              "\n",
              "    .dataframe tbody tr th {\n",
              "        vertical-align: top;\n",
              "    }\n",
              "\n",
              "    .dataframe thead th {\n",
              "        text-align: right;\n",
              "    }\n",
              "</style>\n",
              "<table border=\"1\" class=\"dataframe\">\n",
              "  <thead>\n",
              "    <tr style=\"text-align: right;\">\n",
              "      <th></th>\n",
              "      <th>NUMERO DE PERMISO</th>\n",
              "      <th>SUBESTACIÓN</th>\n",
              "      <th>FECHA DE INICIO</th>\n",
              "      <th>PLAN DE TRABAJO</th>\n",
              "      <th>TIPO DE PLAN</th>\n",
              "      <th>Estado</th>\n",
              "      <th>Núm.Consignación</th>\n",
              "      <th>Fecha fin revisión</th>\n",
              "      <th>hoy</th>\n",
              "    </tr>\n",
              "  </thead>\n",
              "  <tbody>\n",
              "    <tr>\n",
              "      <th>38</th>\n",
              "      <td>483</td>\n",
              "      <td>CHICLAYO OESTE</td>\n",
              "      <td>2023-10-02</td>\n",
              "      <td>R0102226</td>\n",
              "      <td>SIN CONSIGNACIÓN</td>\n",
              "      <td>2</td>\n",
              "      <td>S00000004804</td>\n",
              "      <td>2023-10-02</td>\n",
              "      <td>2023-10-03</td>\n",
              "    </tr>\n",
              "  </tbody>\n",
              "</table>\n",
              "</div>\n",
              "    <div class=\"colab-df-buttons\">\n",
              "\n",
              "  <div class=\"colab-df-container\">\n",
              "    <button class=\"colab-df-convert\" onclick=\"convertToInteractive('df-cf556e8e-add9-45d3-b16c-5f8dfefd0d03')\"\n",
              "            title=\"Convert this dataframe to an interactive table.\"\n",
              "            style=\"display:none;\">\n",
              "\n",
              "  <svg xmlns=\"http://www.w3.org/2000/svg\" height=\"24px\" viewBox=\"0 -960 960 960\">\n",
              "    <path d=\"M120-120v-720h720v720H120Zm60-500h600v-160H180v160Zm220 220h160v-160H400v160Zm0 220h160v-160H400v160ZM180-400h160v-160H180v160Zm440 0h160v-160H620v160ZM180-180h160v-160H180v160Zm440 0h160v-160H620v160Z\"/>\n",
              "  </svg>\n",
              "    </button>\n",
              "\n",
              "  <style>\n",
              "    .colab-df-container {\n",
              "      display:flex;\n",
              "      gap: 12px;\n",
              "    }\n",
              "\n",
              "    .colab-df-convert {\n",
              "      background-color: #E8F0FE;\n",
              "      border: none;\n",
              "      border-radius: 50%;\n",
              "      cursor: pointer;\n",
              "      display: none;\n",
              "      fill: #1967D2;\n",
              "      height: 32px;\n",
              "      padding: 0 0 0 0;\n",
              "      width: 32px;\n",
              "    }\n",
              "\n",
              "    .colab-df-convert:hover {\n",
              "      background-color: #E2EBFA;\n",
              "      box-shadow: 0px 1px 2px rgba(60, 64, 67, 0.3), 0px 1px 3px 1px rgba(60, 64, 67, 0.15);\n",
              "      fill: #174EA6;\n",
              "    }\n",
              "\n",
              "    .colab-df-buttons div {\n",
              "      margin-bottom: 4px;\n",
              "    }\n",
              "\n",
              "    [theme=dark] .colab-df-convert {\n",
              "      background-color: #3B4455;\n",
              "      fill: #D2E3FC;\n",
              "    }\n",
              "\n",
              "    [theme=dark] .colab-df-convert:hover {\n",
              "      background-color: #434B5C;\n",
              "      box-shadow: 0px 1px 3px 1px rgba(0, 0, 0, 0.15);\n",
              "      filter: drop-shadow(0px 1px 2px rgba(0, 0, 0, 0.3));\n",
              "      fill: #FFFFFF;\n",
              "    }\n",
              "  </style>\n",
              "\n",
              "    <script>\n",
              "      const buttonEl =\n",
              "        document.querySelector('#df-cf556e8e-add9-45d3-b16c-5f8dfefd0d03 button.colab-df-convert');\n",
              "      buttonEl.style.display =\n",
              "        google.colab.kernel.accessAllowed ? 'block' : 'none';\n",
              "\n",
              "      async function convertToInteractive(key) {\n",
              "        const element = document.querySelector('#df-cf556e8e-add9-45d3-b16c-5f8dfefd0d03');\n",
              "        const dataTable =\n",
              "          await google.colab.kernel.invokeFunction('convertToInteractive',\n",
              "                                                    [key], {});\n",
              "        if (!dataTable) return;\n",
              "\n",
              "        const docLinkHtml = 'Like what you see? Visit the ' +\n",
              "          '<a target=\"_blank\" href=https://colab.research.google.com/notebooks/data_table.ipynb>data table notebook</a>'\n",
              "          + ' to learn more about interactive tables.';\n",
              "        element.innerHTML = '';\n",
              "        dataTable['output_type'] = 'display_data';\n",
              "        await google.colab.output.renderOutput(dataTable, element);\n",
              "        const docLink = document.createElement('div');\n",
              "        docLink.innerHTML = docLinkHtml;\n",
              "        element.appendChild(docLink);\n",
              "      }\n",
              "    </script>\n",
              "  </div>\n",
              "\n",
              "    </div>\n",
              "  </div>\n"
            ]
          },
          "metadata": {},
          "execution_count": 372
        }
      ]
    },
    {
      "cell_type": "code",
      "source": [
        "filtro2=filtro1[\"PLAN DE TRABAJO\"]"
      ],
      "metadata": {
        "id": "de8CFx4VZyvj"
      },
      "execution_count": 373,
      "outputs": []
    },
    {
      "cell_type": "code",
      "source": [
        "#Guardamos en el drive los planes que deben ser pasados a EJECUTADO"
      ],
      "metadata": {
        "id": "DGLck7ldbAjo"
      },
      "execution_count": 374,
      "outputs": []
    },
    {
      "cell_type": "code",
      "source": [
        "filtro2.to_csv(\"/content/drive/MyDrive/INFORME DE OPERACION STN/pasarPTa8.csv\",index=False)"
      ],
      "metadata": {
        "id": "iK50NpbkaQVg"
      },
      "execution_count": 375,
      "outputs": []
    },
    {
      "cell_type": "markdown",
      "source": [
        "##CALCULO DE INDICADORES"
      ],
      "metadata": {
        "id": "4CImNDfR-b05"
      }
    },
    {
      "cell_type": "code",
      "source": [
        "datos.head(3)"
      ],
      "metadata": {
        "colab": {
          "base_uri": "https://localhost:8080/",
          "height": 297
        },
        "id": "tuJfo_Lz-ac7",
        "outputId": "b45a1d7e-2da4-4873-fa6c-f29ba0b746bd"
      },
      "execution_count": 376,
      "outputs": [
        {
          "output_type": "execute_result",
          "data": {
            "text/plain": [
              "  NUMERO DE PERMISO         SUBESTACIÓN FECHA DE INICIO   HORA DE INICIO  \\\n",
              "0                64  CARHUAQUERO (ISAP)      2023-08-26  10:35:16.950000   \n",
              "1                63  CARHUAQUERO (ISAP)      2023-08-25  08:07:51.250000   \n",
              "2                62  CARHUAQUERO (ISAP)      2023-08-24         08:10:00   \n",
              "\n",
              "  PLAN DE TRABAJO TIPO DE PLAN INTEGRADOR PLANES DE TRABAJO DEPENDIENTES  \\\n",
              "0        R0084687     NACIONAL         NO                             NO   \n",
              "1        R0084687     NACIONAL         NO                             NO   \n",
              "2        R0084687     NACIONAL         NO                             NO   \n",
              "\n",
              "  AUTORIZACIÓN CCREP    O.M.  ...       EMPRESA PROPIETARIO DEL ACTIVO  \\\n",
              "0                 SI  953365  ...  NAZCA ENERGY                   ISAP   \n",
              "1                 SI  953365  ...  NAZCA ENERGY                   ISAP   \n",
              "2                 SI  953365  ...  NAZCA ENERGY                   ISAP   \n",
              "\n",
              "  SUPERVISOR DE TRABAJO SUPERVISOR SUSTITUTO NUMERO DE TRABAJADORES  \\\n",
              "0        JAVIER SALAZAR           HENRY PUSE                    7.0   \n",
              "1        JAVIER SALAZAR           HENRY PUSE                   11.0   \n",
              "2        JAVIER SALAZAR           HENRY PUSE                    9.0   \n",
              "\n",
              "  ASISTENTE / INGENIERO DE TURNO FECHA DE FIN HORA DE FIN  \\\n",
              "0                       KIBERICO            0           0   \n",
              "1                       KIBERICO            0           0   \n",
              "2                       KIBERICO            0           0   \n",
              "\n",
              "  ¿SE CONCLUYÓ CON EL TRABAJO?    OBSERVACIONES  \n",
              "0              Permiso abierto  Permiso abierto  \n",
              "1              Permiso abierto  Permiso abierto  \n",
              "2              Permiso abierto  Permiso abierto  \n",
              "\n",
              "[3 rows x 25 columns]"
            ],
            "text/html": [
              "\n",
              "  <div id=\"df-1e550b68-5e2c-4c9b-8058-264f00eb7c38\" class=\"colab-df-container\">\n",
              "    <div>\n",
              "<style scoped>\n",
              "    .dataframe tbody tr th:only-of-type {\n",
              "        vertical-align: middle;\n",
              "    }\n",
              "\n",
              "    .dataframe tbody tr th {\n",
              "        vertical-align: top;\n",
              "    }\n",
              "\n",
              "    .dataframe thead th {\n",
              "        text-align: right;\n",
              "    }\n",
              "</style>\n",
              "<table border=\"1\" class=\"dataframe\">\n",
              "  <thead>\n",
              "    <tr style=\"text-align: right;\">\n",
              "      <th></th>\n",
              "      <th>NUMERO DE PERMISO</th>\n",
              "      <th>SUBESTACIÓN</th>\n",
              "      <th>FECHA DE INICIO</th>\n",
              "      <th>HORA DE INICIO</th>\n",
              "      <th>PLAN DE TRABAJO</th>\n",
              "      <th>TIPO DE PLAN</th>\n",
              "      <th>INTEGRADOR</th>\n",
              "      <th>PLANES DE TRABAJO DEPENDIENTES</th>\n",
              "      <th>AUTORIZACIÓN CCREP</th>\n",
              "      <th>O.M.</th>\n",
              "      <th>...</th>\n",
              "      <th>EMPRESA</th>\n",
              "      <th>PROPIETARIO DEL ACTIVO</th>\n",
              "      <th>SUPERVISOR DE TRABAJO</th>\n",
              "      <th>SUPERVISOR SUSTITUTO</th>\n",
              "      <th>NUMERO DE TRABAJADORES</th>\n",
              "      <th>ASISTENTE / INGENIERO DE TURNO</th>\n",
              "      <th>FECHA DE FIN</th>\n",
              "      <th>HORA DE FIN</th>\n",
              "      <th>¿SE CONCLUYÓ CON EL TRABAJO?</th>\n",
              "      <th>OBSERVACIONES</th>\n",
              "    </tr>\n",
              "  </thead>\n",
              "  <tbody>\n",
              "    <tr>\n",
              "      <th>0</th>\n",
              "      <td>64</td>\n",
              "      <td>CARHUAQUERO (ISAP)</td>\n",
              "      <td>2023-08-26</td>\n",
              "      <td>10:35:16.950000</td>\n",
              "      <td>R0084687</td>\n",
              "      <td>NACIONAL</td>\n",
              "      <td>NO</td>\n",
              "      <td>NO</td>\n",
              "      <td>SI</td>\n",
              "      <td>953365</td>\n",
              "      <td>...</td>\n",
              "      <td>NAZCA ENERGY</td>\n",
              "      <td>ISAP</td>\n",
              "      <td>JAVIER SALAZAR</td>\n",
              "      <td>HENRY PUSE</td>\n",
              "      <td>7.0</td>\n",
              "      <td>KIBERICO</td>\n",
              "      <td>0</td>\n",
              "      <td>0</td>\n",
              "      <td>Permiso abierto</td>\n",
              "      <td>Permiso abierto</td>\n",
              "    </tr>\n",
              "    <tr>\n",
              "      <th>1</th>\n",
              "      <td>63</td>\n",
              "      <td>CARHUAQUERO (ISAP)</td>\n",
              "      <td>2023-08-25</td>\n",
              "      <td>08:07:51.250000</td>\n",
              "      <td>R0084687</td>\n",
              "      <td>NACIONAL</td>\n",
              "      <td>NO</td>\n",
              "      <td>NO</td>\n",
              "      <td>SI</td>\n",
              "      <td>953365</td>\n",
              "      <td>...</td>\n",
              "      <td>NAZCA ENERGY</td>\n",
              "      <td>ISAP</td>\n",
              "      <td>JAVIER SALAZAR</td>\n",
              "      <td>HENRY PUSE</td>\n",
              "      <td>11.0</td>\n",
              "      <td>KIBERICO</td>\n",
              "      <td>0</td>\n",
              "      <td>0</td>\n",
              "      <td>Permiso abierto</td>\n",
              "      <td>Permiso abierto</td>\n",
              "    </tr>\n",
              "    <tr>\n",
              "      <th>2</th>\n",
              "      <td>62</td>\n",
              "      <td>CARHUAQUERO (ISAP)</td>\n",
              "      <td>2023-08-24</td>\n",
              "      <td>08:10:00</td>\n",
              "      <td>R0084687</td>\n",
              "      <td>NACIONAL</td>\n",
              "      <td>NO</td>\n",
              "      <td>NO</td>\n",
              "      <td>SI</td>\n",
              "      <td>953365</td>\n",
              "      <td>...</td>\n",
              "      <td>NAZCA ENERGY</td>\n",
              "      <td>ISAP</td>\n",
              "      <td>JAVIER SALAZAR</td>\n",
              "      <td>HENRY PUSE</td>\n",
              "      <td>9.0</td>\n",
              "      <td>KIBERICO</td>\n",
              "      <td>0</td>\n",
              "      <td>0</td>\n",
              "      <td>Permiso abierto</td>\n",
              "      <td>Permiso abierto</td>\n",
              "    </tr>\n",
              "  </tbody>\n",
              "</table>\n",
              "<p>3 rows × 25 columns</p>\n",
              "</div>\n",
              "    <div class=\"colab-df-buttons\">\n",
              "\n",
              "  <div class=\"colab-df-container\">\n",
              "    <button class=\"colab-df-convert\" onclick=\"convertToInteractive('df-1e550b68-5e2c-4c9b-8058-264f00eb7c38')\"\n",
              "            title=\"Convert this dataframe to an interactive table.\"\n",
              "            style=\"display:none;\">\n",
              "\n",
              "  <svg xmlns=\"http://www.w3.org/2000/svg\" height=\"24px\" viewBox=\"0 -960 960 960\">\n",
              "    <path d=\"M120-120v-720h720v720H120Zm60-500h600v-160H180v160Zm220 220h160v-160H400v160Zm0 220h160v-160H400v160ZM180-400h160v-160H180v160Zm440 0h160v-160H620v160ZM180-180h160v-160H180v160Zm440 0h160v-160H620v160Z\"/>\n",
              "  </svg>\n",
              "    </button>\n",
              "\n",
              "  <style>\n",
              "    .colab-df-container {\n",
              "      display:flex;\n",
              "      gap: 12px;\n",
              "    }\n",
              "\n",
              "    .colab-df-convert {\n",
              "      background-color: #E8F0FE;\n",
              "      border: none;\n",
              "      border-radius: 50%;\n",
              "      cursor: pointer;\n",
              "      display: none;\n",
              "      fill: #1967D2;\n",
              "      height: 32px;\n",
              "      padding: 0 0 0 0;\n",
              "      width: 32px;\n",
              "    }\n",
              "\n",
              "    .colab-df-convert:hover {\n",
              "      background-color: #E2EBFA;\n",
              "      box-shadow: 0px 1px 2px rgba(60, 64, 67, 0.3), 0px 1px 3px 1px rgba(60, 64, 67, 0.15);\n",
              "      fill: #174EA6;\n",
              "    }\n",
              "\n",
              "    .colab-df-buttons div {\n",
              "      margin-bottom: 4px;\n",
              "    }\n",
              "\n",
              "    [theme=dark] .colab-df-convert {\n",
              "      background-color: #3B4455;\n",
              "      fill: #D2E3FC;\n",
              "    }\n",
              "\n",
              "    [theme=dark] .colab-df-convert:hover {\n",
              "      background-color: #434B5C;\n",
              "      box-shadow: 0px 1px 3px 1px rgba(0, 0, 0, 0.15);\n",
              "      filter: drop-shadow(0px 1px 2px rgba(0, 0, 0, 0.3));\n",
              "      fill: #FFFFFF;\n",
              "    }\n",
              "  </style>\n",
              "\n",
              "    <script>\n",
              "      const buttonEl =\n",
              "        document.querySelector('#df-1e550b68-5e2c-4c9b-8058-264f00eb7c38 button.colab-df-convert');\n",
              "      buttonEl.style.display =\n",
              "        google.colab.kernel.accessAllowed ? 'block' : 'none';\n",
              "\n",
              "      async function convertToInteractive(key) {\n",
              "        const element = document.querySelector('#df-1e550b68-5e2c-4c9b-8058-264f00eb7c38');\n",
              "        const dataTable =\n",
              "          await google.colab.kernel.invokeFunction('convertToInteractive',\n",
              "                                                    [key], {});\n",
              "        if (!dataTable) return;\n",
              "\n",
              "        const docLinkHtml = 'Like what you see? Visit the ' +\n",
              "          '<a target=\"_blank\" href=https://colab.research.google.com/notebooks/data_table.ipynb>data table notebook</a>'\n",
              "          + ' to learn more about interactive tables.';\n",
              "        element.innerHTML = '';\n",
              "        dataTable['output_type'] = 'display_data';\n",
              "        await google.colab.output.renderOutput(dataTable, element);\n",
              "        const docLink = document.createElement('div');\n",
              "        docLink.innerHTML = docLinkHtml;\n",
              "        element.appendChild(docLink);\n",
              "      }\n",
              "    </script>\n",
              "  </div>\n",
              "\n",
              "\n",
              "<div id=\"df-479f66a5-35ef-42e0-9783-a88b1ab5991a\">\n",
              "  <button class=\"colab-df-quickchart\" onclick=\"quickchart('df-479f66a5-35ef-42e0-9783-a88b1ab5991a')\"\n",
              "            title=\"Suggest charts.\"\n",
              "            style=\"display:none;\">\n",
              "\n",
              "<svg xmlns=\"http://www.w3.org/2000/svg\" height=\"24px\"viewBox=\"0 0 24 24\"\n",
              "     width=\"24px\">\n",
              "    <g>\n",
              "        <path d=\"M19 3H5c-1.1 0-2 .9-2 2v14c0 1.1.9 2 2 2h14c1.1 0 2-.9 2-2V5c0-1.1-.9-2-2-2zM9 17H7v-7h2v7zm4 0h-2V7h2v10zm4 0h-2v-4h2v4z\"/>\n",
              "    </g>\n",
              "</svg>\n",
              "  </button>\n",
              "\n",
              "<style>\n",
              "  .colab-df-quickchart {\n",
              "      --bg-color: #E8F0FE;\n",
              "      --fill-color: #1967D2;\n",
              "      --hover-bg-color: #E2EBFA;\n",
              "      --hover-fill-color: #174EA6;\n",
              "      --disabled-fill-color: #AAA;\n",
              "      --disabled-bg-color: #DDD;\n",
              "  }\n",
              "\n",
              "  [theme=dark] .colab-df-quickchart {\n",
              "      --bg-color: #3B4455;\n",
              "      --fill-color: #D2E3FC;\n",
              "      --hover-bg-color: #434B5C;\n",
              "      --hover-fill-color: #FFFFFF;\n",
              "      --disabled-bg-color: #3B4455;\n",
              "      --disabled-fill-color: #666;\n",
              "  }\n",
              "\n",
              "  .colab-df-quickchart {\n",
              "    background-color: var(--bg-color);\n",
              "    border: none;\n",
              "    border-radius: 50%;\n",
              "    cursor: pointer;\n",
              "    display: none;\n",
              "    fill: var(--fill-color);\n",
              "    height: 32px;\n",
              "    padding: 0;\n",
              "    width: 32px;\n",
              "  }\n",
              "\n",
              "  .colab-df-quickchart:hover {\n",
              "    background-color: var(--hover-bg-color);\n",
              "    box-shadow: 0 1px 2px rgba(60, 64, 67, 0.3), 0 1px 3px 1px rgba(60, 64, 67, 0.15);\n",
              "    fill: var(--button-hover-fill-color);\n",
              "  }\n",
              "\n",
              "  .colab-df-quickchart-complete:disabled,\n",
              "  .colab-df-quickchart-complete:disabled:hover {\n",
              "    background-color: var(--disabled-bg-color);\n",
              "    fill: var(--disabled-fill-color);\n",
              "    box-shadow: none;\n",
              "  }\n",
              "\n",
              "  .colab-df-spinner {\n",
              "    border: 2px solid var(--fill-color);\n",
              "    border-color: transparent;\n",
              "    border-bottom-color: var(--fill-color);\n",
              "    animation:\n",
              "      spin 1s steps(1) infinite;\n",
              "  }\n",
              "\n",
              "  @keyframes spin {\n",
              "    0% {\n",
              "      border-color: transparent;\n",
              "      border-bottom-color: var(--fill-color);\n",
              "      border-left-color: var(--fill-color);\n",
              "    }\n",
              "    20% {\n",
              "      border-color: transparent;\n",
              "      border-left-color: var(--fill-color);\n",
              "      border-top-color: var(--fill-color);\n",
              "    }\n",
              "    30% {\n",
              "      border-color: transparent;\n",
              "      border-left-color: var(--fill-color);\n",
              "      border-top-color: var(--fill-color);\n",
              "      border-right-color: var(--fill-color);\n",
              "    }\n",
              "    40% {\n",
              "      border-color: transparent;\n",
              "      border-right-color: var(--fill-color);\n",
              "      border-top-color: var(--fill-color);\n",
              "    }\n",
              "    60% {\n",
              "      border-color: transparent;\n",
              "      border-right-color: var(--fill-color);\n",
              "    }\n",
              "    80% {\n",
              "      border-color: transparent;\n",
              "      border-right-color: var(--fill-color);\n",
              "      border-bottom-color: var(--fill-color);\n",
              "    }\n",
              "    90% {\n",
              "      border-color: transparent;\n",
              "      border-bottom-color: var(--fill-color);\n",
              "    }\n",
              "  }\n",
              "</style>\n",
              "\n",
              "  <script>\n",
              "    async function quickchart(key) {\n",
              "      const quickchartButtonEl =\n",
              "        document.querySelector('#' + key + ' button');\n",
              "      quickchartButtonEl.disabled = true;  // To prevent multiple clicks.\n",
              "      quickchartButtonEl.classList.add('colab-df-spinner');\n",
              "      try {\n",
              "        const charts = await google.colab.kernel.invokeFunction(\n",
              "            'suggestCharts', [key], {});\n",
              "      } catch (error) {\n",
              "        console.error('Error during call to suggestCharts:', error);\n",
              "      }\n",
              "      quickchartButtonEl.classList.remove('colab-df-spinner');\n",
              "      quickchartButtonEl.classList.add('colab-df-quickchart-complete');\n",
              "    }\n",
              "    (() => {\n",
              "      let quickchartButtonEl =\n",
              "        document.querySelector('#df-479f66a5-35ef-42e0-9783-a88b1ab5991a button');\n",
              "      quickchartButtonEl.style.display =\n",
              "        google.colab.kernel.accessAllowed ? 'block' : 'none';\n",
              "    })();\n",
              "  </script>\n",
              "</div>\n",
              "    </div>\n",
              "  </div>\n"
            ]
          },
          "metadata": {},
          "execution_count": 376
        }
      ]
    },
    {
      "cell_type": "code",
      "source": [
        "filtro11=datos[datos.SUBESTACIÓN==0]\n",
        "filtro11"
      ],
      "metadata": {
        "colab": {
          "base_uri": "https://localhost:8080/",
          "height": 150
        },
        "id": "KdK7n8HfOJht",
        "outputId": "79216cc1-ed35-411d-964d-8b0d3ddff13b"
      },
      "execution_count": 377,
      "outputs": [
        {
          "output_type": "execute_result",
          "data": {
            "text/plain": [
              "Empty DataFrame\n",
              "Columns: [NUMERO DE PERMISO, SUBESTACIÓN, FECHA DE INICIO, HORA DE INICIO, PLAN DE TRABAJO, TIPO DE PLAN, INTEGRADOR, PLANES DE TRABAJO DEPENDIENTES, AUTORIZACIÓN CCREP, O.M., ACTIVIDAD, EQUIPO / LLTT, ESTRUCTURAS, ZONA, CONDICIÓN, EMPRESA, PROPIETARIO DEL ACTIVO, SUPERVISOR DE TRABAJO, SUPERVISOR SUSTITUTO, NUMERO DE TRABAJADORES, ASISTENTE / INGENIERO DE TURNO, FECHA DE FIN, HORA DE FIN, ¿SE CONCLUYÓ CON EL TRABAJO?, OBSERVACIONES]\n",
              "Index: []\n",
              "\n",
              "[0 rows x 25 columns]"
            ],
            "text/html": [
              "\n",
              "  <div id=\"df-365013bc-6e78-4786-98bc-bdc1e675b278\" class=\"colab-df-container\">\n",
              "    <div>\n",
              "<style scoped>\n",
              "    .dataframe tbody tr th:only-of-type {\n",
              "        vertical-align: middle;\n",
              "    }\n",
              "\n",
              "    .dataframe tbody tr th {\n",
              "        vertical-align: top;\n",
              "    }\n",
              "\n",
              "    .dataframe thead th {\n",
              "        text-align: right;\n",
              "    }\n",
              "</style>\n",
              "<table border=\"1\" class=\"dataframe\">\n",
              "  <thead>\n",
              "    <tr style=\"text-align: right;\">\n",
              "      <th></th>\n",
              "      <th>NUMERO DE PERMISO</th>\n",
              "      <th>SUBESTACIÓN</th>\n",
              "      <th>FECHA DE INICIO</th>\n",
              "      <th>HORA DE INICIO</th>\n",
              "      <th>PLAN DE TRABAJO</th>\n",
              "      <th>TIPO DE PLAN</th>\n",
              "      <th>INTEGRADOR</th>\n",
              "      <th>PLANES DE TRABAJO DEPENDIENTES</th>\n",
              "      <th>AUTORIZACIÓN CCREP</th>\n",
              "      <th>O.M.</th>\n",
              "      <th>...</th>\n",
              "      <th>EMPRESA</th>\n",
              "      <th>PROPIETARIO DEL ACTIVO</th>\n",
              "      <th>SUPERVISOR DE TRABAJO</th>\n",
              "      <th>SUPERVISOR SUSTITUTO</th>\n",
              "      <th>NUMERO DE TRABAJADORES</th>\n",
              "      <th>ASISTENTE / INGENIERO DE TURNO</th>\n",
              "      <th>FECHA DE FIN</th>\n",
              "      <th>HORA DE FIN</th>\n",
              "      <th>¿SE CONCLUYÓ CON EL TRABAJO?</th>\n",
              "      <th>OBSERVACIONES</th>\n",
              "    </tr>\n",
              "  </thead>\n",
              "  <tbody>\n",
              "  </tbody>\n",
              "</table>\n",
              "<p>0 rows × 25 columns</p>\n",
              "</div>\n",
              "    <div class=\"colab-df-buttons\">\n",
              "\n",
              "  <div class=\"colab-df-container\">\n",
              "    <button class=\"colab-df-convert\" onclick=\"convertToInteractive('df-365013bc-6e78-4786-98bc-bdc1e675b278')\"\n",
              "            title=\"Convert this dataframe to an interactive table.\"\n",
              "            style=\"display:none;\">\n",
              "\n",
              "  <svg xmlns=\"http://www.w3.org/2000/svg\" height=\"24px\" viewBox=\"0 -960 960 960\">\n",
              "    <path d=\"M120-120v-720h720v720H120Zm60-500h600v-160H180v160Zm220 220h160v-160H400v160Zm0 220h160v-160H400v160ZM180-400h160v-160H180v160Zm440 0h160v-160H620v160ZM180-180h160v-160H180v160Zm440 0h160v-160H620v160Z\"/>\n",
              "  </svg>\n",
              "    </button>\n",
              "\n",
              "  <style>\n",
              "    .colab-df-container {\n",
              "      display:flex;\n",
              "      gap: 12px;\n",
              "    }\n",
              "\n",
              "    .colab-df-convert {\n",
              "      background-color: #E8F0FE;\n",
              "      border: none;\n",
              "      border-radius: 50%;\n",
              "      cursor: pointer;\n",
              "      display: none;\n",
              "      fill: #1967D2;\n",
              "      height: 32px;\n",
              "      padding: 0 0 0 0;\n",
              "      width: 32px;\n",
              "    }\n",
              "\n",
              "    .colab-df-convert:hover {\n",
              "      background-color: #E2EBFA;\n",
              "      box-shadow: 0px 1px 2px rgba(60, 64, 67, 0.3), 0px 1px 3px 1px rgba(60, 64, 67, 0.15);\n",
              "      fill: #174EA6;\n",
              "    }\n",
              "\n",
              "    .colab-df-buttons div {\n",
              "      margin-bottom: 4px;\n",
              "    }\n",
              "\n",
              "    [theme=dark] .colab-df-convert {\n",
              "      background-color: #3B4455;\n",
              "      fill: #D2E3FC;\n",
              "    }\n",
              "\n",
              "    [theme=dark] .colab-df-convert:hover {\n",
              "      background-color: #434B5C;\n",
              "      box-shadow: 0px 1px 3px 1px rgba(0, 0, 0, 0.15);\n",
              "      filter: drop-shadow(0px 1px 2px rgba(0, 0, 0, 0.3));\n",
              "      fill: #FFFFFF;\n",
              "    }\n",
              "  </style>\n",
              "\n",
              "    <script>\n",
              "      const buttonEl =\n",
              "        document.querySelector('#df-365013bc-6e78-4786-98bc-bdc1e675b278 button.colab-df-convert');\n",
              "      buttonEl.style.display =\n",
              "        google.colab.kernel.accessAllowed ? 'block' : 'none';\n",
              "\n",
              "      async function convertToInteractive(key) {\n",
              "        const element = document.querySelector('#df-365013bc-6e78-4786-98bc-bdc1e675b278');\n",
              "        const dataTable =\n",
              "          await google.colab.kernel.invokeFunction('convertToInteractive',\n",
              "                                                    [key], {});\n",
              "        if (!dataTable) return;\n",
              "\n",
              "        const docLinkHtml = 'Like what you see? Visit the ' +\n",
              "          '<a target=\"_blank\" href=https://colab.research.google.com/notebooks/data_table.ipynb>data table notebook</a>'\n",
              "          + ' to learn more about interactive tables.';\n",
              "        element.innerHTML = '';\n",
              "        dataTable['output_type'] = 'display_data';\n",
              "        await google.colab.output.renderOutput(dataTable, element);\n",
              "        const docLink = document.createElement('div');\n",
              "        docLink.innerHTML = docLinkHtml;\n",
              "        element.appendChild(docLink);\n",
              "      }\n",
              "    </script>\n",
              "  </div>\n",
              "\n",
              "    </div>\n",
              "  </div>\n"
            ]
          },
          "metadata": {},
          "execution_count": 377
        }
      ]
    },
    {
      "cell_type": "code",
      "source": [
        "datos.shape"
      ],
      "metadata": {
        "colab": {
          "base_uri": "https://localhost:8080/"
        },
        "id": "9ruNvv5SNiIB",
        "outputId": "14c2c6c4-4439-44ac-9cd3-685cf7d8dcf4"
      },
      "execution_count": 385,
      "outputs": [
        {
          "output_type": "execute_result",
          "data": {
            "text/plain": [
              "(2934, 25)"
            ]
          },
          "metadata": {},
          "execution_count": 385
        }
      ]
    },
    {
      "cell_type": "code",
      "source": [
        "from numpy import median"
      ],
      "metadata": {
        "id": "u8Wp7Yias3tQ"
      },
      "execution_count": 403,
      "outputs": []
    },
    {
      "cell_type": "code",
      "source": [
        "sns.set(rc={\"figure.figsize\":(8, 6)})\n",
        "sns.countplot(data=datos, y=\"SUBESTACIÓN\")\n",
        "plt.ylabel(\"SUBESTACIONES\")\n",
        "plt.xlabel(\"CANTIDAD DE PERSMISOS OTORGADOS\");"
      ],
      "metadata": {
        "colab": {
          "base_uri": "https://localhost:8080/",
          "height": 550
        },
        "id": "gy07HOd2Ke8F",
        "outputId": "6e3b0096-fb8c-4e98-d578-f9f82401dd2c"
      },
      "execution_count": 452,
      "outputs": [
        {
          "output_type": "display_data",
          "data": {
            "text/plain": [
              "<Figure size 800x600 with 1 Axes>"
            ],
            "image/png": "[encoded data removed]"
          },
          "metadata": {}
        }
      ]
    },
    {
      "cell_type": "code",
      "source": [],
      "metadata": {
        "id": "sZ25Htyp8wAY"
      },
      "execution_count": null,
      "outputs": []
    },
    {
      "cell_type": "code",
      "source": [
        "datos[\"SUBESTACIÓN\"].value_counts()"
      ],
      "metadata": {
        "colab": {
          "base_uri": "https://localhost:8080/"
        },
        "id": "Wbl7m0rpnDyd",
        "outputId": "7b0198aa-3ba5-4cec-a6b2-97622d1da4b5"
      },
      "execution_count": 395,
      "outputs": [
        {
          "output_type": "execute_result",
          "data": {
            "text/plain": [
              "LAGUNA LA NIÑA (CTM)     417\n",
              "CHIMBOTE 1 (REP)         379\n",
              "CHICLAYO OESTE           372\n",
              "PARAMONGA NUEVA (REP)    250\n",
              "HUALLANCA (ISAP)         216\n",
              "CHIMBOTE NUEVA (CTM)     177\n",
              "TRUJILLO NORTE (REP)     166\n",
              "TALARA (REP)             162\n",
              "PIURA OESTE (REP)        148\n",
              "TRUJILLO NUEVA (CTM)     139\n",
              "PARIÑAS (REP)            139\n",
              "GUADALUPE (REP)          126\n",
              "ZORRITOS (REP)            68\n",
              "REQUE (REP)               62\n",
              "CARHUAQUERO (ISAP)        60\n",
              "LA BREA (CTM)             43\n",
              "VIZCARRA (ISA PERÚ)       10\n",
              "Name: SUBESTACIÓN, dtype: int64"
            ]
          },
          "metadata": {},
          "execution_count": 395
        }
      ]
    },
    {
      "cell_type": "code",
      "source": [
        "sns.set(rc={\"figure.figsize\":(10, 8)})\n",
        "sns.countplot(data=datos, y=\"ASISTENTE / INGENIERO DE TURNO\")"
      ],
      "metadata": {
        "colab": {
          "base_uri": "https://localhost:8080/",
          "height": 722
        },
        "id": "GzG1Rk0FSrry",
        "outputId": "83180a9e-3265-4332-8b24-99e35e8c4f91"
      },
      "execution_count": 401,
      "outputs": [
        {
          "output_type": "execute_result",
          "data": {
            "text/plain": [
              "<Axes: xlabel='count', ylabel='ASISTENTE / INGENIERO DE TURNO'>"
            ]
          },
          "metadata": {},
          "execution_count": 401
        },
        {
          "output_type": "display_data",
          "data": {
            "text/plain": [
              "<Figure size 1000x800 with 1 Axes>"
            ],
            "image/png": "[encoded data removed]"
          },
          "metadata": {}
        }
      ]
    },
    {
      "cell_type": "code",
      "source": [
        "datos[\"ASISTENTE / INGENIERO DE TURNO\"].value_counts()"
      ],
      "metadata": {
        "colab": {
          "base_uri": "https://localhost:8080/"
        },
        "id": "uDhxV9mKoV0A",
        "outputId": "c48a3ebf-fe96-4434-fe9f-dc9f61d286bf"
      },
      "execution_count": 396,
      "outputs": [
        {
          "output_type": "execute_result",
          "data": {
            "text/plain": [
              "RQUISPE                266\n",
              "GDUENEZ                195\n",
              "MCHUNGA                180\n",
              "ECHIRINOS              174\n",
              "JCULLANCO              170\n",
              "DMARROQUIN             160\n",
              "HZUÑIGA                159\n",
              "JPINTADO               150\n",
              "SERGIO ALVARADO        147\n",
              "KIBERICO               138\n",
              "CCERNA                 130\n",
              "GMALCA                 130\n",
              "CDCARRION              106\n",
              "EGUANILO                96\n",
              "ESAUCEDO                92\n",
              "KCANCINO                86\n",
              "APLASENCIA              82\n",
              "VLALUPU                 73\n",
              "HNINAQUISPE             71\n",
              "JLIZA                   65\n",
              "DIEGO ROSADIO           59\n",
              "CHRISTIAN SILVESTRE     54\n",
              "ACASANOVA               35\n",
              "JCASTILLO               29\n",
              "A PLASENCIA             17\n",
              "CSILVESTRE              13\n",
              "DROSARIO                 9\n",
              "SALVARADO                7\n",
              "VLALUPU                  7\n",
              "ENMANUEL GUANILO         5\n",
              "JESUS CASTILLO           5\n",
              "DROSADIO                 4\n",
              "CCARRION                 4\n",
              "GUILLERMO MALCA          3\n",
              "hninaquispe              3\n",
              "MIGUEL PALOMARES         2\n",
              "GDUENEZ                  1\n",
              "HGZUÑIGA                 1\n",
              "EGUANILO                 1\n",
              "A PLASENCIA              1\n",
              "APLASAENCIA              1\n",
              "CULLANCO                 1\n",
              "HNINAQUISEP              1\n",
              "IESAUCEDO                1\n",
              "Name: ASISTENTE / INGENIERO DE TURNO, dtype: int64"
            ]
          },
          "metadata": {},
          "execution_count": 396
        }
      ]
    },
    {
      "cell_type": "code",
      "source": [],
      "metadata": {
        "id": "1vsgf0vS3t-P"
      },
      "execution_count": null,
      "outputs": []
    }
  ]
}
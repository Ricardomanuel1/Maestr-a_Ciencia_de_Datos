{
  "nbformat": 4,
  "nbformat_minor": 0,
  "metadata": {
    "colab": {
      "provenance": [],
      "gpuType": "T4",
      "include_colab_link": true
    },
    "kernelspec": {
      "name": "python3",
      "display_name": "Python 3"
    },
    "language_info": {
      "name": "python"
    },
    "accelerator": "GPU"
  },
  "cells": [
    {
      "cell_type": "markdown",
      "metadata": {
        "id": "view-in-github",
        "colab_type": "text"
      },
      "source": [
        "<a href=\"https://colab.research.google.com/github/Ricardomanuel1/Maestria_Ciencia_de_Datos/blob/main/II.%20Introduccion_Ciencia_Datos/8_KerasDeepLearning.ipynb\" target=\"_parent\"><img src=\"https://colab.research.google.com/assets/colab-badge.svg\" alt=\"Open In Colab\"/></a>"
      ]
    },
    {
      "cell_type": "markdown",
      "metadata": {
        "id": "B6MjBuBNJax9"
      },
      "source": [
        "#**Desarrollo de Modelos de Deep Learning con Keras**"
      ]
    },
    {
      "cell_type": "markdown",
      "metadata": {
        "id": "pqAyrRWW0Qlr"
      },
      "source": [
        "Basado en: https://machinelearningmastery.com/tensorflow-tutorial-deep-learning-with-tf-keras/"
      ]
    },
    {
      "cell_type": "markdown",
      "metadata": {
        "id": "rGYqPmifJfHS"
      },
      "source": [
        "Cinco pasos a utilizar con Keras:\n",
        "\n",
        "- Definir el modelo (arquitectura).\n",
        "- Compilar el modelo.\n",
        "- Ajustar el modelo (fit).\n",
        "- Evaluar el modelo.\n",
        "- Hacer predicciones."
      ]
    },
    {
      "cell_type": "markdown",
      "metadata": {
        "id": "zJKTBHOSJtSI"
      },
      "source": [
        "**Definir el Modelo**\n"
      ]
    },
    {
      "cell_type": "markdown",
      "metadata": {
        "id": "tE2tAnVZJv4V"
      },
      "source": [
        "Implica la definición de las capas del modelo, configurar cada capa con un número de nodos y funciones de activación y conectar las capas en un modelo compacto."
      ]
    },
    {
      "cell_type": "code",
      "metadata": {
        "id": "HfjYB3aEJiV9"
      },
      "source": [
        "# definir el modelo\n",
        "model = ..."
      ],
      "execution_count": null,
      "outputs": []
    },
    {
      "cell_type": "markdown",
      "metadata": {
        "id": "Qa9eZNDyxXaG"
      },
      "source": [
        "**Compilar el modelo**\n",
        "\n",
        "Implica llamar una función para compilar el modelo con una configuración dada, la cual preparará las estructuras de datos requeridas para el uso eficiente del modelo.\n",
        "\n",
        "El optimizador se puede especificar como strings, ejemplo: ‘sgd‘ o se puede configurar una instancia de una clase optimizadora."
      ]
    },
    {
      "cell_type": "code",
      "metadata": {
        "id": "uw6c4zuMxaam"
      },
      "source": [
        "# compilar el modelo\n",
        "opt = SGD(learning_rate=0.01, momentum=0.9)\n",
        "model.compile(optimizer=opt, loss='binary_crossentropy')"
      ],
      "execution_count": null,
      "outputs": []
    },
    {
      "cell_type": "markdown",
      "metadata": {
        "id": "q7OjBCcbxkZh"
      },
      "source": [
        "Las tres funciones de perdida (loss) más comunes son::\n",
        "\n",
        "- ‘binary_crossentropy‘ para clasificación binaria.\n",
        "- ‘sparse_categorical_crossentropy‘ para clasificación multiclase.\n",
        "- ‘mse‘ (mean squared error) para regresión."
      ]
    },
    {
      "cell_type": "markdown",
      "metadata": {
        "id": "qp9t2a9wxwn_"
      },
      "source": [
        "Métricas son definidas como listas de strings o una lista de funciones para evaluar predicciones."
      ]
    },
    {
      "cell_type": "code",
      "metadata": {
        "id": "41FUK7p5xnBj"
      },
      "source": [
        "# compilar el modelo\n",
        "model.compile(optimizer='sgd', loss='binary_crossentropy', metrics=['accuracy'])"
      ],
      "execution_count": null,
      "outputs": []
    },
    {
      "cell_type": "markdown",
      "metadata": {
        "id": "oNa9A88tx614"
      },
      "source": [
        "**Ajustar el Modelo (fit - aprendizaje)**\n",
        "\n",
        "Para ajustar el modelo se requiere seleccionar la configuración de entrenamiento, el número de épocas (cuantas veces se recorrerá el dataset) y tamaño de batch (número de muestras en cada época para estimar el error del modelo).\n"
      ]
    },
    {
      "cell_type": "code",
      "metadata": {
        "id": "8UI5pMV5yASa"
      },
      "source": [
        "# ajustar el modelo (aprendizaje)\n",
        "model.fit(X, y, epochs=100, batch_size=32)"
      ],
      "execution_count": null,
      "outputs": []
    },
    {
      "cell_type": "markdown",
      "metadata": {
        "id": "81Fh0pHryigA"
      },
      "source": [
        " Se puede hacer el reporte del desempeño del modelo en cada época, utilizando el argumento “verbose” a 2. Todas las salidas pueden ser apagadas durante entrenamiento, definiendo “verbose” a 0."
      ]
    },
    {
      "cell_type": "code",
      "metadata": {
        "id": "jDkO2b5NynkB"
      },
      "source": [
        "# ajustar el modelo\n",
        "model.fit(X, y, epochs=100, batch_size=32, verbose=0)"
      ],
      "execution_count": null,
      "outputs": []
    },
    {
      "cell_type": "markdown",
      "metadata": {
        "id": "woVtG2CXzIpv"
      },
      "source": [
        "**Evaluar el Modelo**\n",
        "\n",
        "Requiere haber separado una parte del dataset para evaluar el modelo.\n",
        "\n",
        "En la API, implica llamar una función con el conjunto separado para pruebas y obtener la pérdida y métricas  que pueden ser reportadas."
      ]
    },
    {
      "cell_type": "code",
      "metadata": {
        "id": "gEkMmNTRzS-r"
      },
      "source": [
        "# evaluar el modelo\n",
        "loss = model.evaluate(X, y, verbose=0)"
      ],
      "execution_count": null,
      "outputs": []
    },
    {
      "cell_type": "markdown",
      "metadata": {
        "id": "jj9Gqf-GzW-m"
      },
      "source": [
        "**Hacer una predicción**\n",
        "\n",
        "Paso final del ciclo de vida.\n",
        "\n",
        "Se requiere datos nuevos para los que se hará una predicción (sin valores target u objetivos).\n",
        "\n",
        "En términos de API, implica llamar una función para hacer la predicción de una clase, probabilidad o valor numérico.\n",
        "\n"
      ]
    },
    {
      "cell_type": "code",
      "metadata": {
        "id": "fexuCuF6zPbb"
      },
      "source": [
        "# hacer una predicción\n",
        "yhat = model.predict(X)"
      ],
      "execution_count": null,
      "outputs": []
    },
    {
      "cell_type": "markdown",
      "metadata": {
        "id": "UnLH7eeJ1Afl"
      },
      "source": [
        "**1.Deep MLP para clasificación binaria**\n",
        "\n",
        "\n",
        "Se usuará el dataset Ionosphere para clasificación binaria (dos -clases) : https://archive.ics.uci.edu/ml/datasets/ionosphere\n",
        "\n",
        "Este dataset implica predecir si una estructura está o no en la atmosfera, de acuerdo a los datos retornados por radares."
      ]
    },
    {
      "cell_type": "code",
      "metadata": {
        "id": "M32w6ga11SRH"
      },
      "source": [
        "# mlp para clasificación binaria\n",
        "import pandas as pd\n",
        "from sklearn.model_selection import train_test_split\n",
        "from sklearn.preprocessing import LabelEncoder\n",
        "from tensorflow.keras import Sequential\n",
        "from tensorflow.keras.layers import Dense\n",
        "from tensorflow.keras.layers import Dropout\n",
        "from tensorflow.keras.utils import plot_model"
      ],
      "execution_count": null,
      "outputs": []
    },
    {
      "cell_type": "code",
      "metadata": {
        "id": "b5DjypxS1a5t"
      },
      "source": [
        "# carga dataset\n",
        "url = 'https://raw.githubusercontent.com/jbrownlee/Datasets/master/ionosphere.csv'\n",
        "df = pd.read_csv(url, header=None)"
      ],
      "execution_count": null,
      "outputs": []
    },
    {
      "cell_type": "code",
      "metadata": {
        "colab": {
          "base_uri": "https://localhost:8080/",
          "height": 255
        },
        "id": "3ePSOlwx2II_",
        "outputId": "b74173d8-4d76-43d8-8bc9-e60b50662e80"
      },
      "source": [
        "df.head()"
      ],
      "execution_count": null,
      "outputs": [
        {
          "output_type": "execute_result",
          "data": {
            "text/plain": [
              "   0   1        2        3        4        5        6        7        8   \\\n",
              "0   1   0  0.99539 -0.05889  0.85243  0.02306  0.83398 -0.37708  1.00000   \n",
              "1   1   0  1.00000 -0.18829  0.93035 -0.36156 -0.10868 -0.93597  1.00000   \n",
              "2   1   0  1.00000 -0.03365  1.00000  0.00485  1.00000 -0.12062  0.88965   \n",
              "3   1   0  1.00000 -0.45161  1.00000  1.00000  0.71216 -1.00000  0.00000   \n",
              "4   1   0  1.00000 -0.02401  0.94140  0.06531  0.92106 -0.23255  0.77152   \n",
              "\n",
              "        9   ...       25       26       27       28       29       30  \\\n",
              "0  0.03760  ... -0.51171  0.41078 -0.46168  0.21266 -0.34090  0.42267   \n",
              "1 -0.04549  ... -0.26569 -0.20468 -0.18401 -0.19040 -0.11593 -0.16626   \n",
              "2  0.01198  ... -0.40220  0.58984 -0.22145  0.43100 -0.17365  0.60436   \n",
              "3  0.00000  ...  0.90695  0.51613  1.00000  1.00000 -0.20099  0.25682   \n",
              "4 -0.16399  ... -0.65158  0.13290 -0.53206  0.02431 -0.62197 -0.05707   \n",
              "\n",
              "        31       32       33  34  \n",
              "0 -0.54487  0.18641 -0.45300   g  \n",
              "1 -0.06288 -0.13738 -0.02447   b  \n",
              "2 -0.24180  0.56045 -0.38238   g  \n",
              "3  1.00000 -0.32382  1.00000   b  \n",
              "4 -0.59573 -0.04608 -0.65697   g  \n",
              "\n",
              "[5 rows x 35 columns]"
            ],
            "text/html": [
              "\n",
              "  <div id=\"df-61afec00-b22e-4048-a2aa-1e736a08c10a\" class=\"colab-df-container\">\n",
              "    <div>\n",
              "<style scoped>\n",
              "    .dataframe tbody tr th:only-of-type {\n",
              "        vertical-align: middle;\n",
              "    }\n",
              "\n",
              "    .dataframe tbody tr th {\n",
              "        vertical-align: top;\n",
              "    }\n",
              "\n",
              "    .dataframe thead th {\n",
              "        text-align: right;\n",
              "    }\n",
              "</style>\n",
              "<table border=\"1\" class=\"dataframe\">\n",
              "  <thead>\n",
              "    <tr style=\"text-align: right;\">\n",
              "      <th></th>\n",
              "      <th>0</th>\n",
              "      <th>1</th>\n",
              "      <th>2</th>\n",
              "      <th>3</th>\n",
              "      <th>4</th>\n",
              "      <th>5</th>\n",
              "      <th>6</th>\n",
              "      <th>7</th>\n",
              "      <th>8</th>\n",
              "      <th>9</th>\n",
              "      <th>...</th>\n",
              "      <th>25</th>\n",
              "      <th>26</th>\n",
              "      <th>27</th>\n",
              "      <th>28</th>\n",
              "      <th>29</th>\n",
              "      <th>30</th>\n",
              "      <th>31</th>\n",
              "      <th>32</th>\n",
              "      <th>33</th>\n",
              "      <th>34</th>\n",
              "    </tr>\n",
              "  </thead>\n",
              "  <tbody>\n",
              "    <tr>\n",
              "      <th>0</th>\n",
              "      <td>1</td>\n",
              "      <td>0</td>\n",
              "      <td>0.99539</td>\n",
              "      <td>-0.05889</td>\n",
              "      <td>0.85243</td>\n",
              "      <td>0.02306</td>\n",
              "      <td>0.83398</td>\n",
              "      <td>-0.37708</td>\n",
              "      <td>1.00000</td>\n",
              "      <td>0.03760</td>\n",
              "      <td>...</td>\n",
              "      <td>-0.51171</td>\n",
              "      <td>0.41078</td>\n",
              "      <td>-0.46168</td>\n",
              "      <td>0.21266</td>\n",
              "      <td>-0.34090</td>\n",
              "      <td>0.42267</td>\n",
              "      <td>-0.54487</td>\n",
              "      <td>0.18641</td>\n",
              "      <td>-0.45300</td>\n",
              "      <td>g</td>\n",
              "    </tr>\n",
              "    <tr>\n",
              "      <th>1</th>\n",
              "      <td>1</td>\n",
              "      <td>0</td>\n",
              "      <td>1.00000</td>\n",
              "      <td>-0.18829</td>\n",
              "      <td>0.93035</td>\n",
              "      <td>-0.36156</td>\n",
              "      <td>-0.10868</td>\n",
              "      <td>-0.93597</td>\n",
              "      <td>1.00000</td>\n",
              "      <td>-0.04549</td>\n",
              "      <td>...</td>\n",
              "      <td>-0.26569</td>\n",
              "      <td>-0.20468</td>\n",
              "      <td>-0.18401</td>\n",
              "      <td>-0.19040</td>\n",
              "      <td>-0.11593</td>\n",
              "      <td>-0.16626</td>\n",
              "      <td>-0.06288</td>\n",
              "      <td>-0.13738</td>\n",
              "      <td>-0.02447</td>\n",
              "      <td>b</td>\n",
              "    </tr>\n",
              "    <tr>\n",
              "      <th>2</th>\n",
              "      <td>1</td>\n",
              "      <td>0</td>\n",
              "      <td>1.00000</td>\n",
              "      <td>-0.03365</td>\n",
              "      <td>1.00000</td>\n",
              "      <td>0.00485</td>\n",
              "      <td>1.00000</td>\n",
              "      <td>-0.12062</td>\n",
              "      <td>0.88965</td>\n",
              "      <td>0.01198</td>\n",
              "      <td>...</td>\n",
              "      <td>-0.40220</td>\n",
              "      <td>0.58984</td>\n",
              "      <td>-0.22145</td>\n",
              "      <td>0.43100</td>\n",
              "      <td>-0.17365</td>\n",
              "      <td>0.60436</td>\n",
              "      <td>-0.24180</td>\n",
              "      <td>0.56045</td>\n",
              "      <td>-0.38238</td>\n",
              "      <td>g</td>\n",
              "    </tr>\n",
              "    <tr>\n",
              "      <th>3</th>\n",
              "      <td>1</td>\n",
              "      <td>0</td>\n",
              "      <td>1.00000</td>\n",
              "      <td>-0.45161</td>\n",
              "      <td>1.00000</td>\n",
              "      <td>1.00000</td>\n",
              "      <td>0.71216</td>\n",
              "      <td>-1.00000</td>\n",
              "      <td>0.00000</td>\n",
              "      <td>0.00000</td>\n",
              "      <td>...</td>\n",
              "      <td>0.90695</td>\n",
              "      <td>0.51613</td>\n",
              "      <td>1.00000</td>\n",
              "      <td>1.00000</td>\n",
              "      <td>-0.20099</td>\n",
              "      <td>0.25682</td>\n",
              "      <td>1.00000</td>\n",
              "      <td>-0.32382</td>\n",
              "      <td>1.00000</td>\n",
              "      <td>b</td>\n",
              "    </tr>\n",
              "    <tr>\n",
              "      <th>4</th>\n",
              "      <td>1</td>\n",
              "      <td>0</td>\n",
              "      <td>1.00000</td>\n",
              "      <td>-0.02401</td>\n",
              "      <td>0.94140</td>\n",
              "      <td>0.06531</td>\n",
              "      <td>0.92106</td>\n",
              "      <td>-0.23255</td>\n",
              "      <td>0.77152</td>\n",
              "      <td>-0.16399</td>\n",
              "      <td>...</td>\n",
              "      <td>-0.65158</td>\n",
              "      <td>0.13290</td>\n",
              "      <td>-0.53206</td>\n",
              "      <td>0.02431</td>\n",
              "      <td>-0.62197</td>\n",
              "      <td>-0.05707</td>\n",
              "      <td>-0.59573</td>\n",
              "      <td>-0.04608</td>\n",
              "      <td>-0.65697</td>\n",
              "      <td>g</td>\n",
              "    </tr>\n",
              "  </tbody>\n",
              "</table>\n",
              "<p>5 rows × 35 columns</p>\n",
              "</div>\n",
              "    <div class=\"colab-df-buttons\">\n",
              "\n",
              "  <div class=\"colab-df-container\">\n",
              "    <button class=\"colab-df-convert\" onclick=\"convertToInteractive('df-61afec00-b22e-4048-a2aa-1e736a08c10a')\"\n",
              "            title=\"Convert this dataframe to an interactive table.\"\n",
              "            style=\"display:none;\">\n",
              "\n",
              "  <svg xmlns=\"http://www.w3.org/2000/svg\" height=\"24px\" viewBox=\"0 -960 960 960\">\n",
              "    <path d=\"M120-120v-720h720v720H120Zm60-500h600v-160H180v160Zm220 220h160v-160H400v160Zm0 220h160v-160H400v160ZM180-400h160v-160H180v160Zm440 0h160v-160H620v160ZM180-180h160v-160H180v160Zm440 0h160v-160H620v160Z\"/>\n",
              "  </svg>\n",
              "    </button>\n",
              "\n",
              "  <style>\n",
              "    .colab-df-container {\n",
              "      display:flex;\n",
              "      gap: 12px;\n",
              "    }\n",
              "\n",
              "    .colab-df-convert {\n",
              "      background-color: #E8F0FE;\n",
              "      border: none;\n",
              "      border-radius: 50%;\n",
              "      cursor: pointer;\n",
              "      display: none;\n",
              "      fill: #1967D2;\n",
              "      height: 32px;\n",
              "      padding: 0 0 0 0;\n",
              "      width: 32px;\n",
              "    }\n",
              "\n",
              "    .colab-df-convert:hover {\n",
              "      background-color: #E2EBFA;\n",
              "      box-shadow: 0px 1px 2px rgba(60, 64, 67, 0.3), 0px 1px 3px 1px rgba(60, 64, 67, 0.15);\n",
              "      fill: #174EA6;\n",
              "    }\n",
              "\n",
              "    .colab-df-buttons div {\n",
              "      margin-bottom: 4px;\n",
              "    }\n",
              "\n",
              "    [theme=dark] .colab-df-convert {\n",
              "      background-color: #3B4455;\n",
              "      fill: #D2E3FC;\n",
              "    }\n",
              "\n",
              "    [theme=dark] .colab-df-convert:hover {\n",
              "      background-color: #434B5C;\n",
              "      box-shadow: 0px 1px 3px 1px rgba(0, 0, 0, 0.15);\n",
              "      filter: drop-shadow(0px 1px 2px rgba(0, 0, 0, 0.3));\n",
              "      fill: #FFFFFF;\n",
              "    }\n",
              "  </style>\n",
              "\n",
              "    <script>\n",
              "      const buttonEl =\n",
              "        document.querySelector('#df-61afec00-b22e-4048-a2aa-1e736a08c10a button.colab-df-convert');\n",
              "      buttonEl.style.display =\n",
              "        google.colab.kernel.accessAllowed ? 'block' : 'none';\n",
              "\n",
              "      async function convertToInteractive(key) {\n",
              "        const element = document.querySelector('#df-61afec00-b22e-4048-a2aa-1e736a08c10a');\n",
              "        const dataTable =\n",
              "          await google.colab.kernel.invokeFunction('convertToInteractive',\n",
              "                                                    [key], {});\n",
              "        if (!dataTable) return;\n",
              "\n",
              "        const docLinkHtml = 'Like what you see? Visit the ' +\n",
              "          '<a target=\"_blank\" href=https://colab.research.google.com/notebooks/data_table.ipynb>data table notebook</a>'\n",
              "          + ' to learn more about interactive tables.';\n",
              "        element.innerHTML = '';\n",
              "        dataTable['output_type'] = 'display_data';\n",
              "        await google.colab.output.renderOutput(dataTable, element);\n",
              "        const docLink = document.createElement('div');\n",
              "        docLink.innerHTML = docLinkHtml;\n",
              "        element.appendChild(docLink);\n",
              "      }\n",
              "    </script>\n",
              "  </div>\n",
              "\n",
              "\n",
              "<div id=\"df-8b041918-950b-4891-9310-f1d1411edf51\">\n",
              "  <button class=\"colab-df-quickchart\" onclick=\"quickchart('df-8b041918-950b-4891-9310-f1d1411edf51')\"\n",
              "            title=\"Suggest charts\"\n",
              "            style=\"display:none;\">\n",
              "\n",
              "<svg xmlns=\"http://www.w3.org/2000/svg\" height=\"24px\"viewBox=\"0 0 24 24\"\n",
              "     width=\"24px\">\n",
              "    <g>\n",
              "        <path d=\"M19 3H5c-1.1 0-2 .9-2 2v14c0 1.1.9 2 2 2h14c1.1 0 2-.9 2-2V5c0-1.1-.9-2-2-2zM9 17H7v-7h2v7zm4 0h-2V7h2v10zm4 0h-2v-4h2v4z\"/>\n",
              "    </g>\n",
              "</svg>\n",
              "  </button>\n",
              "\n",
              "<style>\n",
              "  .colab-df-quickchart {\n",
              "      --bg-color: #E8F0FE;\n",
              "      --fill-color: #1967D2;\n",
              "      --hover-bg-color: #E2EBFA;\n",
              "      --hover-fill-color: #174EA6;\n",
              "      --disabled-fill-color: #AAA;\n",
              "      --disabled-bg-color: #DDD;\n",
              "  }\n",
              "\n",
              "  [theme=dark] .colab-df-quickchart {\n",
              "      --bg-color: #3B4455;\n",
              "      --fill-color: #D2E3FC;\n",
              "      --hover-bg-color: #434B5C;\n",
              "      --hover-fill-color: #FFFFFF;\n",
              "      --disabled-bg-color: #3B4455;\n",
              "      --disabled-fill-color: #666;\n",
              "  }\n",
              "\n",
              "  .colab-df-quickchart {\n",
              "    background-color: var(--bg-color);\n",
              "    border: none;\n",
              "    border-radius: 50%;\n",
              "    cursor: pointer;\n",
              "    display: none;\n",
              "    fill: var(--fill-color);\n",
              "    height: 32px;\n",
              "    padding: 0;\n",
              "    width: 32px;\n",
              "  }\n",
              "\n",
              "  .colab-df-quickchart:hover {\n",
              "    background-color: var(--hover-bg-color);\n",
              "    box-shadow: 0 1px 2px rgba(60, 64, 67, 0.3), 0 1px 3px 1px rgba(60, 64, 67, 0.15);\n",
              "    fill: var(--button-hover-fill-color);\n",
              "  }\n",
              "\n",
              "  .colab-df-quickchart-complete:disabled,\n",
              "  .colab-df-quickchart-complete:disabled:hover {\n",
              "    background-color: var(--disabled-bg-color);\n",
              "    fill: var(--disabled-fill-color);\n",
              "    box-shadow: none;\n",
              "  }\n",
              "\n",
              "  .colab-df-spinner {\n",
              "    border: 2px solid var(--fill-color);\n",
              "    border-color: transparent;\n",
              "    border-bottom-color: var(--fill-color);\n",
              "    animation:\n",
              "      spin 1s steps(1) infinite;\n",
              "  }\n",
              "\n",
              "  @keyframes spin {\n",
              "    0% {\n",
              "      border-color: transparent;\n",
              "      border-bottom-color: var(--fill-color);\n",
              "      border-left-color: var(--fill-color);\n",
              "    }\n",
              "    20% {\n",
              "      border-color: transparent;\n",
              "      border-left-color: var(--fill-color);\n",
              "      border-top-color: var(--fill-color);\n",
              "    }\n",
              "    30% {\n",
              "      border-color: transparent;\n",
              "      border-left-color: var(--fill-color);\n",
              "      border-top-color: var(--fill-color);\n",
              "      border-right-color: var(--fill-color);\n",
              "    }\n",
              "    40% {\n",
              "      border-color: transparent;\n",
              "      border-right-color: var(--fill-color);\n",
              "      border-top-color: var(--fill-color);\n",
              "    }\n",
              "    60% {\n",
              "      border-color: transparent;\n",
              "      border-right-color: var(--fill-color);\n",
              "    }\n",
              "    80% {\n",
              "      border-color: transparent;\n",
              "      border-right-color: var(--fill-color);\n",
              "      border-bottom-color: var(--fill-color);\n",
              "    }\n",
              "    90% {\n",
              "      border-color: transparent;\n",
              "      border-bottom-color: var(--fill-color);\n",
              "    }\n",
              "  }\n",
              "</style>\n",
              "\n",
              "  <script>\n",
              "    async function quickchart(key) {\n",
              "      const quickchartButtonEl =\n",
              "        document.querySelector('#' + key + ' button');\n",
              "      quickchartButtonEl.disabled = true;  // To prevent multiple clicks.\n",
              "      quickchartButtonEl.classList.add('colab-df-spinner');\n",
              "      try {\n",
              "        const charts = await google.colab.kernel.invokeFunction(\n",
              "            'suggestCharts', [key], {});\n",
              "      } catch (error) {\n",
              "        console.error('Error during call to suggestCharts:', error);\n",
              "      }\n",
              "      quickchartButtonEl.classList.remove('colab-df-spinner');\n",
              "      quickchartButtonEl.classList.add('colab-df-quickchart-complete');\n",
              "    }\n",
              "    (() => {\n",
              "      let quickchartButtonEl =\n",
              "        document.querySelector('#df-8b041918-950b-4891-9310-f1d1411edf51 button');\n",
              "      quickchartButtonEl.style.display =\n",
              "        google.colab.kernel.accessAllowed ? 'block' : 'none';\n",
              "    })();\n",
              "  </script>\n",
              "</div>\n",
              "    </div>\n",
              "  </div>\n"
            ]
          },
          "metadata": {},
          "execution_count": 3
        }
      ]
    },
    {
      "cell_type": "code",
      "metadata": {
        "id": "4CSaDkE_1fkR"
      },
      "source": [
        "# divide datos en X, y (target)\n",
        "X, y = df.values[:, :-1], df.values[:, -1]\n",
        "# garantiza que los datos sean flotantes\n",
        "X = X.astype('float32')"
      ],
      "execution_count": null,
      "outputs": []
    },
    {
      "cell_type": "code",
      "metadata": {
        "id": "E8Z8FO301jEh"
      },
      "source": [
        "# codifica cadenas a enteros\n",
        "y = LabelEncoder().fit_transform(y)\n"
      ],
      "execution_count": null,
      "outputs": []
    },
    {
      "cell_type": "code",
      "metadata": {
        "colab": {
          "base_uri": "https://localhost:8080/"
        },
        "id": "DthOs6ByFy3n",
        "outputId": "60f09fd6-0373-46c8-9fdf-13b0647888e9"
      },
      "source": [
        "y[:4]"
      ],
      "execution_count": null,
      "outputs": [
        {
          "output_type": "execute_result",
          "data": {
            "text/plain": [
              "array([1, 0, 1, 0])"
            ]
          },
          "metadata": {},
          "execution_count": 6
        }
      ]
    },
    {
      "cell_type": "code",
      "metadata": {
        "colab": {
          "base_uri": "https://localhost:8080/"
        },
        "id": "qy8Wftj6Fv2n",
        "outputId": "8e0a0a2e-3f46-4f52-c9f1-ccd406a04b5b"
      },
      "source": [
        "# divide conjunto de entrenamiento y prueba\n",
        "X_train, X_test, y_train, y_test = train_test_split(X, y, test_size=0.33, random_state=42)\n",
        "print(X_train.shape, X_test.shape, y_train.shape, y_test.shape)\n"
      ],
      "execution_count": null,
      "outputs": [
        {
          "output_type": "stream",
          "name": "stdout",
          "text": [
            "(235, 34) (116, 34) (235,) (116,)\n"
          ]
        }
      ]
    },
    {
      "cell_type": "code",
      "metadata": {
        "colab": {
          "base_uri": "https://localhost:8080/"
        },
        "id": "-PyXZ0A-ugiP",
        "outputId": "89729b0b-8eeb-49be-c8a3-01bd7f2ebd63"
      },
      "source": [
        "y_test"
      ],
      "execution_count": null,
      "outputs": [
        {
          "output_type": "execute_result",
          "data": {
            "text/plain": [
              "array([1, 1, 1, 0, 1, 1, 1, 1, 1, 1, 0, 0, 0, 0, 1, 0, 1, 0, 1, 0, 1, 0,\n",
              "       0, 1, 1, 0, 0, 0, 0, 1, 1, 1, 1, 1, 1, 0, 1, 1, 0, 1, 1, 1, 1, 0,\n",
              "       1, 0, 0, 1, 0, 1, 1, 0, 0, 1, 0, 1, 1, 1, 1, 0, 0, 0, 0, 1, 1, 1,\n",
              "       1, 1, 1, 1, 0, 1, 1, 1, 1, 1, 0, 0, 0, 1, 1, 1, 1, 1, 1, 1, 1, 0,\n",
              "       0, 0, 1, 0, 0, 1, 1, 1, 0, 1, 1, 1, 0, 1, 1, 1, 0, 1, 0, 0, 1, 1,\n",
              "       0, 1, 0, 1, 0, 0])"
            ]
          },
          "metadata": {},
          "execution_count": 8
        }
      ]
    },
    {
      "cell_type": "markdown",
      "metadata": {
        "id": "osDGPAQZ1n54"
      },
      "source": [
        "**Modelo**"
      ]
    },
    {
      "cell_type": "code",
      "metadata": {
        "id": "vMf5Rw5g1tet"
      },
      "source": [
        "# determina el número de características de entrada\n",
        "n_features = X_train.shape[1] # 34\n",
        "\n"
      ],
      "execution_count": null,
      "outputs": []
    },
    {
      "cell_type": "code",
      "source": [
        "# define el modelo\n",
        "model = Sequential()\n",
        "model.add(Dense(10, activation='relu', kernel_initializer='he_normal', input_shape=(n_features,)))\n",
        "model.add(Dense(8, activation='relu', kernel_initializer='he_normal'))\n",
        "model.add(Dense(8, activation='relu', kernel_initializer='he_normal'))\n",
        "model.add(Dense(4, activation='relu', kernel_initializer='he_normal'))\n",
        "model.add(Dense(1, activation='sigmoid'))"
      ],
      "metadata": {
        "id": "BfpPsBRsh0U3"
      },
      "execution_count": null,
      "outputs": []
    },
    {
      "cell_type": "code",
      "metadata": {
        "id": "M05vkYJw1tyO"
      },
      "source": [
        "# compila el modelo\n",
        "model.compile(optimizer='adam', loss='binary_crossentropy', metrics=['accuracy'])\n"
      ],
      "execution_count": null,
      "outputs": []
    },
    {
      "cell_type": "code",
      "metadata": {
        "colab": {
          "base_uri": "https://localhost:8080/"
        },
        "id": "wJeQKs0fHLq4",
        "outputId": "a4a85796-0879-4696-d4db-1aa47b8129ca"
      },
      "source": [
        "model.summary()"
      ],
      "execution_count": null,
      "outputs": [
        {
          "output_type": "stream",
          "name": "stdout",
          "text": [
            "Model: \"sequential\"\n",
            "_________________________________________________________________\n",
            " Layer (type)                Output Shape              Param #   \n",
            "=================================================================\n",
            " dense (Dense)               (None, 10)                350       \n",
            "                                                                 \n",
            " dense_1 (Dense)             (None, 8)                 88        \n",
            "                                                                 \n",
            " dense_2 (Dense)             (None, 8)                 72        \n",
            "                                                                 \n",
            " dense_3 (Dense)             (None, 4)                 36        \n",
            "                                                                 \n",
            " dense_4 (Dense)             (None, 1)                 5         \n",
            "                                                                 \n",
            "=================================================================\n",
            "Total params: 551 (2.15 KB)\n",
            "Trainable params: 551 (2.15 KB)\n",
            "Non-trainable params: 0 (0.00 Byte)\n",
            "_________________________________________________________________\n"
          ]
        }
      ]
    },
    {
      "cell_type": "code",
      "metadata": {
        "colab": {
          "base_uri": "https://localhost:8080/"
        },
        "id": "9FwfSdsG1D14",
        "outputId": "216b008c-eed8-4c5e-8c87-cce85235ac45"
      },
      "source": [
        "# ajustar el modelo (aprendizaje)\n",
        "model.fit(X_train, y_train, epochs=150, batch_size=32, verbose=0)\n"
      ],
      "execution_count": null,
      "outputs": [
        {
          "output_type": "execute_result",
          "data": {
            "text/plain": [
              "<keras.src.callbacks.History at 0x7a4fa1fa0a90>"
            ]
          },
          "metadata": {},
          "execution_count": 15
        }
      ]
    },
    {
      "cell_type": "code",
      "metadata": {
        "colab": {
          "base_uri": "https://localhost:8080/"
        },
        "id": "ZqZFMJzx1zdX",
        "outputId": "0f058174-1540-4344-b026-483a322b2ad8"
      },
      "source": [
        "# evaluar el modelo\n",
        "loss, acc = model.evaluate(X_test, y_test, verbose=0)\n",
        "print('Accuracy prueba: %.3f' % acc)\n",
        " #0.914"
      ],
      "execution_count": null,
      "outputs": [
        {
          "output_type": "stream",
          "name": "stdout",
          "text": [
            "Accuracy prueba: 0.914\n"
          ]
        }
      ]
    },
    {
      "cell_type": "code",
      "metadata": {
        "colab": {
          "base_uri": "https://localhost:8080/"
        },
        "id": "1x7K8EzA2Aou",
        "outputId": "d0ac0c91-4b07-495a-9214-f412bb71e05f"
      },
      "source": [
        "# realizar una predicción\n",
        "row = [1,0,0.99539,-0.05889,0.85243,0.02306,0.83398,-0.37708,1,0.03760,0.85243,-0.17755,0.59755,-0.44945,0.60536,-0.38223,0.84356,-0.38542,0.58212,-0.32192,0.56971,-0.29674,0.36946,-0.47357,0.56811,-0.51171,0.41078,-0.46168,0.21266,-0.34090,0.42267,-0.54487,0.18641,-0.45300]\n",
        "yhat = model.predict([row])\n",
        "print('Predicho: %.3f' % yhat)"
      ],
      "execution_count": null,
      "outputs": [
        {
          "output_type": "stream",
          "name": "stdout",
          "text": [
            "1/1 [==============================] - 0s 105ms/step\n",
            "Predicho: 1.000\n"
          ]
        }
      ]
    },
    {
      "cell_type": "markdown",
      "metadata": {
        "id": "6d8CZ0dQ4SEc"
      },
      "source": [
        "**2. Desarrollar modelos de Redes Neuronales Convolucionales**\n",
        "\n",
        "Modelos con capas convolucionales que extraen características (llamadas mapas de características) y capas pooling que extraen elemenos más salientes de las características.\n",
        "\n",
        "CNNs son adecuadas para tareas de clasificación de imágenes, aunque pueden ser usadas en otras tareas que tengan imágenes como entrada.\n",
        "\n",
        "Una tarea de clasificación de imágenes popular es clasificación de digitos MNIST. Implica algunos miles de digitos escritos a mano que deben ser clasificados entre 0 y 9.\n",
        "\n",
        "Modelos CNN reciben imágenes en formato de canales (channels) al final, cada ejemplo enviado a la red tiene dimensiones [rows, columns, channels], donde ``channels''\n",
        " representa los canales de color de los datos de la imagen(RGB).\n",
        "\n"
      ]
    },
    {
      "cell_type": "markdown",
      "metadata": {
        "id": "16kXKo2r5jZm"
      },
      "source": [
        "El código carga las imágenes y muestra algunas de ellas."
      ]
    },
    {
      "cell_type": "code",
      "metadata": {
        "colab": {
          "base_uri": "https://localhost:8080/"
        },
        "id": "hkJkWpQSWuF-",
        "outputId": "5ce99956-4ce0-45a6-926a-945ea4e5212a"
      },
      "source": [
        "# example of loading and plotting the mnist dataset\n",
        "from tensorflow.keras.datasets.mnist import load_data\n",
        "from matplotlib import pyplot\n",
        "# load dataset\n",
        "(trainX, trainy), (testX, testy) = load_data()\n",
        "# summarize loaded dataset\n",
        "print('Entrenamiento: X=%s, y=%s' % (trainX.shape, trainy.shape))\n",
        "print('Prueba: X=%s, y=%s' % (testX.shape, testy.shape))"
      ],
      "execution_count": null,
      "outputs": [
        {
          "output_type": "stream",
          "name": "stdout",
          "text": [
            "Downloading data from https://storage.googleapis.com/tensorflow/tf-keras-datasets/mnist.npz\n",
            "11490434/11490434 [==============================] - 2s 0us/step\n",
            "Entrenamiento: X=(60000, 28, 28), y=(60000,)\n",
            "Prueba: X=(10000, 28, 28), y=(10000,)\n"
          ]
        }
      ]
    },
    {
      "cell_type": "code",
      "metadata": {
        "colab": {
          "base_uri": "https://localhost:8080/",
          "height": 434
        },
        "id": "7quzz_3m5Ic8",
        "outputId": "e072baad-0b80-4494-c024-c817bd52f709"
      },
      "source": [
        "\n",
        "# muestra algunas imágenes\n",
        "for i in range(25):\n",
        "\t# define subplot\n",
        "\tpyplot.subplot(5, 5, i+1)\n",
        "\t# plot raw pixel data\n",
        "\tpyplot.imshow(trainX[i], cmap=pyplot.get_cmap('gray'))\n",
        "# show the figure\n",
        "pyplot.show()"
      ],
      "execution_count": null,
      "outputs": [
        {
          "output_type": "display_data",
          "data": {
            "text/plain": [
              "<Figure size 640x480 with 25 Axes>"
            ],
            "image/png": "[encoded data removed]"
          },
          "metadata": {}
        }
      ]
    },
    {
      "cell_type": "markdown",
      "source": [
        "Librerías"
      ],
      "metadata": {
        "id": "nMkVRUptpIYw"
      }
    },
    {
      "cell_type": "code",
      "metadata": {
        "id": "bI7I6Sj3AVe7"
      },
      "source": [
        "from tensorflow.keras.layers import Dense\n",
        "from tensorflow.keras.layers import Conv2D\n",
        "from tensorflow.keras.layers import MaxPool2D\n",
        "from tensorflow.keras.layers import Flatten\n",
        "from tensorflow.keras.layers import Dropout\n",
        "import numpy as np\n"
      ],
      "execution_count": null,
      "outputs": []
    },
    {
      "cell_type": "code",
      "source": [
        "# carga dataset\n",
        "(x_train, y_train), (x_test, y_test) = load_data()\n",
        "x_train.shape"
      ],
      "metadata": {
        "colab": {
          "base_uri": "https://localhost:8080/"
        },
        "id": "RYClA3pnkBuD",
        "outputId": "00ca67d6-106f-4a9f-921f-cdd7b258b70f"
      },
      "execution_count": null,
      "outputs": [
        {
          "output_type": "execute_result",
          "data": {
            "text/plain": [
              "(60000, 28, 28)"
            ]
          },
          "metadata": {},
          "execution_count": 21
        }
      ]
    },
    {
      "cell_type": "code",
      "metadata": {
        "colab": {
          "base_uri": "https://localhost:8080/"
        },
        "id": "dXA5vF5hAizx",
        "outputId": "455ce532-55df-47a8-8921-20c190528717"
      },
      "source": [
        "\n",
        "# reshape datos para que tenga un solo canal\n",
        "x_train = x_train.reshape((x_train.shape[0], x_train.shape[1], x_train.shape[2], 1))\n",
        "x_test = x_test.reshape((x_test.shape[0], x_test.shape[1], x_test.shape[2], 1))\n",
        "# determina la dimensión de las imágenes de entrada (28,28,1)\n",
        "in_shape = x_train.shape[1:]\n",
        "# determina el número de clases (10)\n",
        "n_classes = len(np.unique(y_train))\n",
        "print(in_shape, n_classes)\n"
      ],
      "execution_count": null,
      "outputs": [
        {
          "output_type": "stream",
          "name": "stdout",
          "text": [
            "(28, 28, 1) 10\n"
          ]
        }
      ]
    },
    {
      "cell_type": "code",
      "metadata": {
        "id": "q0Ib76TbAsC3"
      },
      "source": [
        "# normalizar los valores de las intensidades de pixeles\n",
        "x_train = x_train.astype('float32') / 255.0\n",
        "x_test = x_test.astype('float32') / 255.0\n"
      ],
      "execution_count": null,
      "outputs": []
    },
    {
      "cell_type": "code",
      "metadata": {
        "id": "PG9F7Z-jAxnp"
      },
      "source": [
        "# definir el  modelo\n",
        "model = Sequential()\n",
        "model.add(Conv2D(32, (3,3), activation='relu', kernel_initializer='he_uniform', input_shape=in_shape)) # 32 filtros de 3x3 en primera capa\n",
        "model.add(MaxPool2D((2, 2)))\n",
        "model.add(Flatten()) # transformación en un vector plano de datos para conectarse a una MLP\n",
        "model.add(Dense(100, activation='relu', kernel_initializer='he_uniform')) # capa intermedia completamente conectada\n",
        "model.add(Dropout(0.5)) # ayuda a atenuar el overfitting\n",
        "model.add(Dense(n_classes, activation='softmax')) # 10\n"
      ],
      "execution_count": null,
      "outputs": []
    },
    {
      "cell_type": "code",
      "metadata": {
        "colab": {
          "base_uri": "https://localhost:8080/"
        },
        "id": "FCU6LPB6BRN9",
        "outputId": "8e1d1046-1fbb-4d62-c737-456f16e461df"
      },
      "source": [
        "model.summary()"
      ],
      "execution_count": null,
      "outputs": [
        {
          "output_type": "stream",
          "name": "stdout",
          "text": [
            "Model: \"sequential_1\"\n",
            "_________________________________________________________________\n",
            " Layer (type)                Output Shape              Param #   \n",
            "=================================================================\n",
            " conv2d (Conv2D)             (None, 26, 26, 32)        320       \n",
            "                                                                 \n",
            " max_pooling2d (MaxPooling2  (None, 13, 13, 32)        0         \n",
            " D)                                                              \n",
            "                                                                 \n",
            " flatten (Flatten)           (None, 5408)              0         \n",
            "                                                                 \n",
            " dense_5 (Dense)             (None, 100)               540900    \n",
            "                                                                 \n",
            " dropout (Dropout)           (None, 100)               0         \n",
            "                                                                 \n",
            " dense_6 (Dense)             (None, 10)                1010      \n",
            "                                                                 \n",
            "=================================================================\n",
            "Total params: 542230 (2.07 MB)\n",
            "Trainable params: 542230 (2.07 MB)\n",
            "Non-trainable params: 0 (0.00 Byte)\n",
            "_________________________________________________________________\n"
          ]
        }
      ]
    },
    {
      "cell_type": "code",
      "metadata": {
        "id": "mG022j8gA0JJ"
      },
      "source": [
        "# define perdida y optimizador\n",
        "model.compile(optimizer='adam', loss='sparse_categorical_crossentropy', metrics=['accuracy']) #sparse_categorical_crossentropy espera que la clase Y sean enteros (no codificaciones one-hot )\n"
      ],
      "execution_count": null,
      "outputs": []
    },
    {
      "cell_type": "code",
      "metadata": {
        "colab": {
          "base_uri": "https://localhost:8080/"
        },
        "id": "VIlCAGMEA3xK",
        "outputId": "d28fcd1a-1559-436d-b6cb-8bcd0aaa521d"
      },
      "source": [
        "# ajusta el modelo (aprendizaje)\n",
        "model.fit(x_train, y_train, epochs=10, batch_size=128, verbose=0)\n"
      ],
      "execution_count": null,
      "outputs": [
        {
          "output_type": "execute_result",
          "data": {
            "text/plain": [
              "<keras.src.callbacks.History at 0x7a4fa0ff4430>"
            ]
          },
          "metadata": {},
          "execution_count": 27
        }
      ]
    },
    {
      "cell_type": "code",
      "metadata": {
        "colab": {
          "base_uri": "https://localhost:8080/"
        },
        "id": "om9vZhPoA6Uk",
        "outputId": "8e8498fd-bd46-48b2-d678-b81e61de0685"
      },
      "source": [
        "# evaluar el modelo\n",
        "loss, acc = model.evaluate(x_test, y_test, verbose=0)\n",
        "print('Accuracy: %.3f' % acc) #mientras más cercano a 1 mejor\n"
      ],
      "execution_count": null,
      "outputs": [
        {
          "output_type": "stream",
          "name": "stdout",
          "text": [
            "Accuracy: 0.987\n"
          ]
        }
      ]
    },
    {
      "cell_type": "code",
      "metadata": {
        "colab": {
          "base_uri": "https://localhost:8080/"
        },
        "id": "olzMwVbZA8am",
        "outputId": "e378209a-3fce-4f49-f1fb-44f39948af93"
      },
      "source": [
        "# Hacer una predicción\n",
        "image = x_test[200]\n",
        "yhat = model.predict(np.asarray([image]))\n",
        "print('Predicho: clase=%d' % np.argmax(yhat))"
      ],
      "execution_count": null,
      "outputs": [
        {
          "output_type": "stream",
          "name": "stdout",
          "text": [
            "1/1 [==============================] - 0s 82ms/step\n",
            "Predicho: clase=3\n"
          ]
        }
      ]
    },
    {
      "cell_type": "code",
      "metadata": {
        "colab": {
          "base_uri": "https://localhost:8080/"
        },
        "id": "zeWYd4huCmix",
        "outputId": "5185018f-494e-4ba9-ebef-dbc212cbcd46"
      },
      "source": [
        "y_test[200]"
      ],
      "execution_count": null,
      "outputs": [
        {
          "output_type": "execute_result",
          "data": {
            "text/plain": [
              "3"
            ]
          },
          "metadata": {},
          "execution_count": 30
        }
      ]
    },
    {
      "cell_type": "markdown",
      "metadata": {
        "id": "NpJVe0X4EXkt"
      },
      "source": [
        "**3. Recurrent Neural Network Models (RNNs, Redes Neuronales Recurrentes)**\n",
        "\n",
        "\n",
        "- RNNs diseñadas para operar sobre secuencias de datos.\n",
        "\n",
        "- El tipo más popular es la Long Short-Term Memory network (LSTM). LSTMs aceptan una secuencia de datos de entrada y hacen una predicción, por ejemplo asignar una clase o predecir un valor numérico (el próximo valor o valores de una secuencia).\n",
        "\n"
      ]
    },
    {
      "cell_type": "markdown",
      "metadata": {
        "id": "UD1UODcxErBa"
      },
      "source": [
        "Se usará un dataset de ventas de carros para demostrar una LSTM RNN para forecasting de series de tiempo univariada.\n",
        "\n",
        "Este problema implica predecir el número de carros vendidos por mes.\n",
        "\n"
      ]
    },
    {
      "cell_type": "markdown",
      "metadata": {
        "id": "WWiVjUHTEyR2"
      },
      "source": [
        "Se utilizará una ventana de los últimos cinco meses de datos para predecir los datos del mes actual."
      ]
    },
    {
      "cell_type": "markdown",
      "metadata": {
        "id": "tfYLsLxAE6ry"
      },
      "source": [
        "Por ejemplo, si la secuencia es:"
      ]
    },
    {
      "cell_type": "code",
      "metadata": {
        "id": "WWq7p6C-EYsH"
      },
      "source": [
        "1, 2, 3, 4, 5, 6, 7, 8, 9, 10"
      ],
      "execution_count": null,
      "outputs": []
    },
    {
      "cell_type": "markdown",
      "metadata": {
        "id": "lafxo0U0FCx2"
      },
      "source": [
        "Entonces la muestra para entrenar el modelo sería:\n",
        "\n"
      ]
    },
    {
      "cell_type": "code",
      "metadata": {
        "id": "lquGA3noFGr4"
      },
      "source": [
        "\n",
        "Input \t\t\t\tOutput\n",
        "1, 2, 3, 4, 5 \t\t6\n",
        "2, 3, 4, 5, 6 \t\t7\n",
        "3, 4, 5, 6, 7 \t\t8"
      ],
      "execution_count": null,
      "outputs": []
    },
    {
      "cell_type": "markdown",
      "metadata": {
        "id": "U68BTSt9FTEn"
      },
      "source": [
        "LSTMs esperan que cada ejemplo de entrenamiento tenga dos dimensiones; la primera es el número de time steps (pasos, en este caso 5) y la segunda es el número de observaciones para cada paso de tiempo (en este caso 1)."
      ]
    },
    {
      "cell_type": "code",
      "metadata": {
        "id": "jR6Ct4sDFayE"
      },
      "source": [
        "from tensorflow.keras import Sequential\n",
        "from tensorflow.keras.layers import Dense\n",
        "from tensorflow.keras.layers import LSTM"
      ],
      "execution_count": null,
      "outputs": []
    },
    {
      "cell_type": "code",
      "metadata": {
        "id": "YI8RVdkOFiUy"
      },
      "source": [
        "# divide una secuencia univariada en muestras\n",
        "def split_sequence(sequence, n_steps):\n",
        "\tX, y = list(), list()\n",
        "\tfor i in range(len(sequence)):\n",
        "\t\t# find the end of this pattern\n",
        "\t\tend_ix = i + n_steps\n",
        "\t\t# check if we are beyond the sequence\n",
        "\t\tif end_ix > len(sequence)-1:\n",
        "\t\t\tbreak\n",
        "\t\t# gather input and outpt parts of the pattern\n",
        "\t\tseq_x, seq_y = sequence[i:end_ix], sequence[end_ix]\n",
        "\t\tX.append(seq_x)\n",
        "\t\ty.append(seq_y)\n",
        "\treturn np.asarray(X), np.asarray(y)\n"
      ],
      "execution_count": null,
      "outputs": []
    },
    {
      "cell_type": "code",
      "metadata": {
        "colab": {
          "base_uri": "https://localhost:8080/"
        },
        "id": "9sqxdQ7VFs6p",
        "outputId": "82a4c466-46d0-452b-c0b7-7c71e678d8f1"
      },
      "source": [
        "# carga el dataset\n",
        "url = 'https://raw.githubusercontent.com/jbrownlee/Datasets/master/monthly-car-sales.csv'\n",
        "df = pd.read_csv(url, header=0, index_col=0, squeeze=True)\n",
        "df.head()"
      ],
      "execution_count": null,
      "outputs": [
        {
          "output_type": "stream",
          "name": "stderr",
          "text": [
            "<ipython-input-34-7b32f415496e>:3: FutureWarning: The squeeze argument has been deprecated and will be removed in a future version. Append .squeeze(\"columns\") to the call to squeeze.\n",
            "\n",
            "\n",
            "  df = pd.read_csv(url, header=0, index_col=0, squeeze=True)\n"
          ]
        },
        {
          "output_type": "execute_result",
          "data": {
            "text/plain": [
              "Month\n",
              "1960-01     6550\n",
              "1960-02     8728\n",
              "1960-03    12026\n",
              "1960-04    14395\n",
              "1960-05    14587\n",
              "Name: Sales, dtype: int64"
            ]
          },
          "metadata": {},
          "execution_count": 34
        }
      ]
    },
    {
      "cell_type": "code",
      "metadata": {
        "id": "ogjTuGu3F0jQ"
      },
      "source": [
        "# retorna los valores\n",
        "values = df.values.astype('float32')\n",
        "# specifica el tamaÑo de la ventana (window)\n",
        "n_steps = 5\n",
        "# divide en muestras\n",
        "X, y = split_sequence(values, n_steps)"
      ],
      "execution_count": null,
      "outputs": []
    },
    {
      "cell_type": "code",
      "metadata": {
        "colab": {
          "base_uri": "https://localhost:8080/"
        },
        "id": "XK3CTP6vQ2Y-",
        "outputId": "997b4b52-2ae5-48aa-d8bb-4364d8b884a8"
      },
      "source": [
        "X[:4]"
      ],
      "execution_count": null,
      "outputs": [
        {
          "output_type": "execute_result",
          "data": {
            "text/plain": [
              "array([[ 6550.,  8728., 12026., 14395., 14587.],\n",
              "       [ 8728., 12026., 14395., 14587., 13791.],\n",
              "       [12026., 14395., 14587., 13791.,  9498.],\n",
              "       [14395., 14587., 13791.,  9498.,  8251.]], dtype=float32)"
            ]
          },
          "metadata": {},
          "execution_count": 36
        }
      ]
    },
    {
      "cell_type": "code",
      "source": [
        "y[:4]"
      ],
      "metadata": {
        "colab": {
          "base_uri": "https://localhost:8080/"
        },
        "id": "Y8tvBPNJQu5A",
        "outputId": "8b5dda59-0a9e-4d91-9b67-a13fb6865621"
      },
      "execution_count": null,
      "outputs": [
        {
          "output_type": "execute_result",
          "data": {
            "text/plain": [
              "array([13791.,  9498.,  8251.,  7049.], dtype=float32)"
            ]
          },
          "metadata": {},
          "execution_count": 37
        }
      ]
    },
    {
      "cell_type": "code",
      "metadata": {
        "id": "fGPx7FvJGMdI"
      },
      "source": [
        "# se hace el reshape a [samples, timesteps, features]\n",
        "X = X.reshape((X.shape[0], X.shape[1], 1))"
      ],
      "execution_count": null,
      "outputs": []
    },
    {
      "cell_type": "code",
      "metadata": {
        "colab": {
          "base_uri": "https://localhost:8080/"
        },
        "id": "2OAzuDOwQ9kA",
        "outputId": "bc58a1b2-0152-40f5-8e57-4a3f1b3a25df"
      },
      "source": [
        "X.shape"
      ],
      "execution_count": null,
      "outputs": [
        {
          "output_type": "execute_result",
          "data": {
            "text/plain": [
              "(103, 5, 1)"
            ]
          },
          "metadata": {},
          "execution_count": 39
        }
      ]
    },
    {
      "cell_type": "code",
      "metadata": {
        "colab": {
          "base_uri": "https://localhost:8080/"
        },
        "id": "tPI9LGaXGQfi",
        "outputId": "22601941-6bbe-486c-a1e3-be30d9ae7c82"
      },
      "source": [
        "# Divide en entrenamiento y prueba (no puede ser aleatoria en series de tiempo)\n",
        "n_test = 12\n",
        "X_train, X_test, y_train, y_test = X[:-n_test], X[-n_test:], y[:-n_test], y[-n_test:]\n",
        "print(X_train.shape, X_test.shape, y_train.shape, y_test.shape)"
      ],
      "execution_count": null,
      "outputs": [
        {
          "output_type": "stream",
          "name": "stdout",
          "text": [
            "(91, 5, 1) (12, 5, 1) (91,) (12,)\n"
          ]
        }
      ]
    },
    {
      "cell_type": "code",
      "metadata": {
        "id": "dRPORQCcRCB3",
        "colab": {
          "base_uri": "https://localhost:8080/"
        },
        "outputId": "7cf533b1-2c4c-47e7-c919-879a8669a988"
      },
      "source": [
        "# define el modelo # la arquitectura es many-to-one\n",
        "model = Sequential()\n",
        "model.add(LSTM(100, activation='relu', kernel_initializer='he_normal', input_shape=(n_steps,1))) # cada unidad de LSTM tendrá 100 unidades\n",
        "model.add(Dense(50, activation='relu', kernel_initializer='he_normal')) #la última unidad LSTM (la quinta para este ejemplo) se conectará con una MLP completamente conectada\n",
        "model.add(Dense(50, activation='relu', kernel_initializer='he_normal'))\n",
        "model.add(Dense(1))"
      ],
      "execution_count": null,
      "outputs": [
        {
          "output_type": "stream",
          "name": "stderr",
          "text": [
            "WARNING:tensorflow:Layer lstm will not use cuDNN kernels since it doesn't meet the criteria. It will use a generic GPU kernel as fallback when running on GPU.\n"
          ]
        }
      ]
    },
    {
      "cell_type": "code",
      "metadata": {
        "id": "f4rxzlAeRFLe"
      },
      "source": [
        "# compila el modelo\n",
        "model.compile(optimizer='adam', loss='mse', metrics=['mae']) # se usan funciones de costo y métricas de regresión"
      ],
      "execution_count": null,
      "outputs": []
    },
    {
      "cell_type": "code",
      "metadata": {
        "colab": {
          "base_uri": "https://localhost:8080/"
        },
        "id": "sqa1FWGKRINH",
        "outputId": "db326520-3b18-40e6-9ad6-8782372aa8a7"
      },
      "source": [
        "model.summary()"
      ],
      "execution_count": null,
      "outputs": [
        {
          "output_type": "stream",
          "name": "stdout",
          "text": [
            "Model: \"sequential_2\"\n",
            "_________________________________________________________________\n",
            " Layer (type)                Output Shape              Param #   \n",
            "=================================================================\n",
            " lstm (LSTM)                 (None, 100)               40800     \n",
            "                                                                 \n",
            " dense_7 (Dense)             (None, 50)                5050      \n",
            "                                                                 \n",
            " dense_8 (Dense)             (None, 50)                2550      \n",
            "                                                                 \n",
            " dense_9 (Dense)             (None, 1)                 51        \n",
            "                                                                 \n",
            "=================================================================\n",
            "Total params: 48451 (189.26 KB)\n",
            "Trainable params: 48451 (189.26 KB)\n",
            "Non-trainable params: 0 (0.00 Byte)\n",
            "_________________________________________________________________\n"
          ]
        }
      ]
    },
    {
      "cell_type": "code",
      "metadata": {
        "colab": {
          "base_uri": "https://localhost:8080/",
          "height": 533
        },
        "id": "t0dfywNNTwQz",
        "outputId": "b390f951-26fd-4c30-ef2d-e95250be4db5"
      },
      "source": [
        "plot_model(model, 'model.png', show_shapes=True)"
      ],
      "execution_count": null,
      "outputs": [
        {
          "output_type": "execute_result",
          "data": {
            "image/png": "[encoded data removed]",
            "text/plain": [
              "<IPython.core.display.Image object>"
            ]
          },
          "metadata": {},
          "execution_count": 44
        }
      ]
    },
    {
      "cell_type": "code",
      "metadata": {
        "colab": {
          "base_uri": "https://localhost:8080/"
        },
        "id": "9-qly38vRHos",
        "outputId": "ee3d87f3-e12a-4bf3-99de-d5b0c0cbf525"
      },
      "source": [
        "# ajusta el modelo (aprendizaje)\n",
        "model.fit(X_train, y_train, epochs=350, batch_size=32, verbose=2, validation_data=(X_test, y_test))\n"
      ],
      "execution_count": null,
      "outputs": [
        {
          "output_type": "stream",
          "name": "stdout",
          "text": [
            "Epoch 1/350\n",
            "3/3 - 3s - loss: 803358272.0000 - mae: 23090.0723 - val_loss: 178759376.0000 - val_mae: 10825.7451 - 3s/epoch - 1s/step\n",
            "Epoch 2/350\n",
            "3/3 - 0s - loss: 134608656.0000 - mae: 8501.4512 - val_loss: 234709840.0000 - val_mae: 13973.5820 - 59ms/epoch - 20ms/step\n",
            "Epoch 3/350\n",
            "3/3 - 0s - loss: 222919648.0000 - mae: 13308.6484 - val_loss: 205937232.0000 - val_mae: 12817.5830 - 64ms/epoch - 21ms/step\n",
            "Epoch 4/350\n",
            "3/3 - 0s - loss: 122709352.0000 - mae: 9240.9043 - val_loss: 67846368.0000 - val_mae: 6674.9009 - 58ms/epoch - 19ms/step\n",
            "Epoch 5/350\n",
            "3/3 - 0s - loss: 45367288.0000 - mae: 5249.8618 - val_loss: 56364368.0000 - val_mae: 6460.3276 - 55ms/epoch - 18ms/step\n",
            "Epoch 6/350\n",
            "3/3 - 0s - loss: 71050248.0000 - mae: 7186.7183 - val_loss: 149688928.0000 - val_mae: 10900.0469 - 59ms/epoch - 20ms/step\n",
            "Epoch 7/350\n",
            "3/3 - 0s - loss: 78014280.0000 - mae: 7742.3638 - val_loss: 44165024.0000 - val_mae: 6112.1206 - 61ms/epoch - 20ms/step\n",
            "Epoch 8/350\n",
            "3/3 - 0s - loss: 36043612.0000 - mae: 4557.4668 - val_loss: 19308476.0000 - val_mae: 3184.5251 - 59ms/epoch - 20ms/step\n",
            "Epoch 9/350\n",
            "3/3 - 0s - loss: 22593384.0000 - mae: 3879.0176 - val_loss: 27676370.0000 - val_mae: 4477.9277 - 55ms/epoch - 18ms/step\n",
            "Epoch 10/350\n",
            "3/3 - 0s - loss: 43698800.0000 - mae: 4923.3057 - val_loss: 53075532.0000 - val_mae: 6000.3696 - 57ms/epoch - 19ms/step\n",
            "Epoch 11/350\n",
            "3/3 - 0s - loss: 37093096.0000 - mae: 4786.0483 - val_loss: 25529614.0000 - val_mae: 4478.1328 - 63ms/epoch - 21ms/step\n",
            "Epoch 12/350\n",
            "3/3 - 0s - loss: 20754370.0000 - mae: 3869.4897 - val_loss: 10290321.0000 - val_mae: 2392.4395 - 59ms/epoch - 20ms/step\n",
            "Epoch 13/350\n",
            "3/3 - 0s - loss: 23297634.0000 - mae: 3807.6177 - val_loss: 26008410.0000 - val_mae: 3935.2820 - 56ms/epoch - 19ms/step\n",
            "Epoch 14/350\n",
            "3/3 - 0s - loss: 26695832.0000 - mae: 4108.9229 - val_loss: 25155880.0000 - val_mae: 3953.9524 - 78ms/epoch - 26ms/step\n",
            "Epoch 15/350\n",
            "3/3 - 0s - loss: 23199334.0000 - mae: 3797.6899 - val_loss: 15938029.0000 - val_mae: 2943.0027 - 60ms/epoch - 20ms/step\n",
            "Epoch 16/350\n",
            "3/3 - 0s - loss: 20612126.0000 - mae: 3546.7500 - val_loss: 19497750.0000 - val_mae: 3636.6067 - 53ms/epoch - 18ms/step\n",
            "Epoch 17/350\n",
            "3/3 - 0s - loss: 17601912.0000 - mae: 3354.0337 - val_loss: 21058666.0000 - val_mae: 3906.7395 - 52ms/epoch - 17ms/step\n",
            "Epoch 18/350\n",
            "3/3 - 0s - loss: 16088331.0000 - mae: 3266.4712 - val_loss: 18344160.0000 - val_mae: 3466.1360 - 54ms/epoch - 18ms/step\n",
            "Epoch 19/350\n",
            "3/3 - 0s - loss: 14624243.0000 - mae: 3119.1106 - val_loss: 16624632.0000 - val_mae: 3139.5498 - 61ms/epoch - 20ms/step\n",
            "Epoch 20/350\n",
            "3/3 - 0s - loss: 13616440.0000 - mae: 2935.6072 - val_loss: 16096156.0000 - val_mae: 3059.2014 - 55ms/epoch - 18ms/step\n",
            "Epoch 21/350\n",
            "3/3 - 0s - loss: 13389278.0000 - mae: 2937.9485 - val_loss: 16079408.0000 - val_mae: 3189.4226 - 57ms/epoch - 19ms/step\n",
            "Epoch 22/350\n",
            "3/3 - 0s - loss: 12514076.0000 - mae: 2900.1721 - val_loss: 16780514.0000 - val_mae: 3391.5671 - 56ms/epoch - 19ms/step\n",
            "Epoch 23/350\n",
            "3/3 - 0s - loss: 12118702.0000 - mae: 2877.5078 - val_loss: 17968060.0000 - val_mae: 3646.3333 - 53ms/epoch - 18ms/step\n",
            "Epoch 24/350\n",
            "3/3 - 0s - loss: 11766919.0000 - mae: 2785.3833 - val_loss: 17691882.0000 - val_mae: 3591.1943 - 73ms/epoch - 24ms/step\n",
            "Epoch 25/350\n",
            "3/3 - 0s - loss: 11638721.0000 - mae: 2720.1860 - val_loss: 13693501.0000 - val_mae: 3082.5715 - 64ms/epoch - 21ms/step\n",
            "Epoch 26/350\n",
            "3/3 - 0s - loss: 11996897.0000 - mae: 2726.4146 - val_loss: 13561232.0000 - val_mae: 3020.1582 - 61ms/epoch - 20ms/step\n",
            "Epoch 27/350\n",
            "3/3 - 0s - loss: 12502022.0000 - mae: 2767.2041 - val_loss: 14001805.0000 - val_mae: 3011.9841 - 57ms/epoch - 19ms/step\n",
            "Epoch 28/350\n",
            "3/3 - 0s - loss: 11413506.0000 - mae: 2619.7244 - val_loss: 14921717.0000 - val_mae: 3184.6750 - 59ms/epoch - 20ms/step\n",
            "Epoch 29/350\n",
            "3/3 - 0s - loss: 12745329.0000 - mae: 2741.3555 - val_loss: 15171708.0000 - val_mae: 3249.9895 - 61ms/epoch - 20ms/step\n",
            "Epoch 30/350\n",
            "3/3 - 0s - loss: 14211552.0000 - mae: 2901.7466 - val_loss: 14252427.0000 - val_mae: 3193.0461 - 68ms/epoch - 23ms/step\n",
            "Epoch 31/350\n",
            "3/3 - 0s - loss: 13541332.0000 - mae: 2780.9719 - val_loss: 16069576.0000 - val_mae: 3369.0833 - 55ms/epoch - 18ms/step\n",
            "Epoch 32/350\n",
            "3/3 - 0s - loss: 13034521.0000 - mae: 2811.9036 - val_loss: 14349627.0000 - val_mae: 3089.9707 - 64ms/epoch - 21ms/step\n",
            "Epoch 33/350\n",
            "3/3 - 0s - loss: 13336537.0000 - mae: 2899.6045 - val_loss: 14690037.0000 - val_mae: 3170.6953 - 65ms/epoch - 22ms/step\n",
            "Epoch 34/350\n",
            "3/3 - 0s - loss: 12839771.0000 - mae: 2812.1885 - val_loss: 13264417.0000 - val_mae: 3006.6204 - 60ms/epoch - 20ms/step\n",
            "Epoch 35/350\n",
            "3/3 - 0s - loss: 11655233.0000 - mae: 2669.0610 - val_loss: 11848425.0000 - val_mae: 2938.9871 - 68ms/epoch - 23ms/step\n",
            "Epoch 36/350\n",
            "3/3 - 0s - loss: 11513399.0000 - mae: 2594.2581 - val_loss: 8156220.5000 - val_mae: 2289.8101 - 58ms/epoch - 19ms/step\n",
            "Epoch 37/350\n",
            "3/3 - 0s - loss: 11018060.0000 - mae: 2510.4597 - val_loss: 7922596.5000 - val_mae: 2233.8330 - 65ms/epoch - 22ms/step\n",
            "Epoch 38/350\n",
            "3/3 - 0s - loss: 10585372.0000 - mae: 2442.5564 - val_loss: 9666605.0000 - val_mae: 2630.9060 - 65ms/epoch - 22ms/step\n",
            "Epoch 39/350\n",
            "3/3 - 0s - loss: 11336044.0000 - mae: 2558.5593 - val_loss: 8171892.0000 - val_mae: 2272.4299 - 62ms/epoch - 21ms/step\n",
            "Epoch 40/350\n",
            "3/3 - 0s - loss: 10377611.0000 - mae: 2410.4675 - val_loss: 13876019.0000 - val_mae: 3026.6426 - 64ms/epoch - 21ms/step\n",
            "Epoch 41/350\n",
            "3/3 - 0s - loss: 9906895.0000 - mae: 2416.6362 - val_loss: 10236731.0000 - val_mae: 2519.8904 - 64ms/epoch - 21ms/step\n",
            "Epoch 42/350\n",
            "3/3 - 0s - loss: 11768056.0000 - mae: 2623.3389 - val_loss: 12011716.0000 - val_mae: 2830.5320 - 63ms/epoch - 21ms/step\n",
            "Epoch 43/350\n",
            "3/3 - 0s - loss: 9700811.0000 - mae: 2457.1028 - val_loss: 11023273.0000 - val_mae: 2768.1008 - 60ms/epoch - 20ms/step\n",
            "Epoch 44/350\n",
            "3/3 - 0s - loss: 8707148.0000 - mae: 2346.1917 - val_loss: 11661999.0000 - val_mae: 2722.3743 - 58ms/epoch - 19ms/step\n",
            "Epoch 45/350\n",
            "3/3 - 0s - loss: 9221524.0000 - mae: 2367.6895 - val_loss: 13019475.0000 - val_mae: 2881.1914 - 71ms/epoch - 24ms/step\n",
            "Epoch 46/350\n",
            "3/3 - 0s - loss: 8945146.0000 - mae: 2307.7996 - val_loss: 16826014.0000 - val_mae: 3241.8977 - 59ms/epoch - 20ms/step\n",
            "Epoch 47/350\n",
            "3/3 - 0s - loss: 9254012.0000 - mae: 2317.9128 - val_loss: 15571357.0000 - val_mae: 3159.9551 - 54ms/epoch - 18ms/step\n",
            "Epoch 48/350\n",
            "3/3 - 0s - loss: 9183639.0000 - mae: 2323.6016 - val_loss: 15509996.0000 - val_mae: 3243.8293 - 54ms/epoch - 18ms/step\n",
            "Epoch 49/350\n",
            "3/3 - 0s - loss: 8364984.5000 - mae: 2221.1335 - val_loss: 17390250.0000 - val_mae: 3228.5488 - 60ms/epoch - 20ms/step\n",
            "Epoch 50/350\n",
            "3/3 - 0s - loss: 8313586.0000 - mae: 2176.0935 - val_loss: 17198814.0000 - val_mae: 3182.3896 - 57ms/epoch - 19ms/step\n",
            "Epoch 51/350\n",
            "3/3 - 0s - loss: 8122854.0000 - mae: 2162.6892 - val_loss: 17859656.0000 - val_mae: 3349.4978 - 69ms/epoch - 23ms/step\n",
            "Epoch 52/350\n",
            "3/3 - 0s - loss: 7930840.5000 - mae: 2186.3955 - val_loss: 18454734.0000 - val_mae: 3367.2429 - 63ms/epoch - 21ms/step\n",
            "Epoch 53/350\n",
            "3/3 - 0s - loss: 8171049.0000 - mae: 2214.8916 - val_loss: 18220906.0000 - val_mae: 3329.8164 - 60ms/epoch - 20ms/step\n",
            "Epoch 54/350\n",
            "3/3 - 0s - loss: 7695033.5000 - mae: 2136.3752 - val_loss: 17204494.0000 - val_mae: 3251.6716 - 56ms/epoch - 19ms/step\n",
            "Epoch 55/350\n",
            "3/3 - 0s - loss: 7552894.0000 - mae: 2079.9626 - val_loss: 16961456.0000 - val_mae: 3244.5762 - 57ms/epoch - 19ms/step\n",
            "Epoch 56/350\n",
            "3/3 - 0s - loss: 7351202.5000 - mae: 2004.3302 - val_loss: 18009028.0000 - val_mae: 3362.3977 - 75ms/epoch - 25ms/step\n",
            "Epoch 57/350\n",
            "3/3 - 0s - loss: 7672732.0000 - mae: 2036.6191 - val_loss: 17820486.0000 - val_mae: 3426.5383 - 64ms/epoch - 21ms/step\n",
            "Epoch 58/350\n",
            "3/3 - 0s - loss: 6570480.0000 - mae: 1899.0905 - val_loss: 16791772.0000 - val_mae: 3308.4309 - 55ms/epoch - 18ms/step\n",
            "Epoch 59/350\n",
            "3/3 - 0s - loss: 6665624.0000 - mae: 1919.6333 - val_loss: 17301532.0000 - val_mae: 3360.6218 - 62ms/epoch - 21ms/step\n",
            "Epoch 60/350\n",
            "3/3 - 0s - loss: 6286317.5000 - mae: 1882.1978 - val_loss: 18032130.0000 - val_mae: 3365.1160 - 79ms/epoch - 26ms/step\n",
            "Epoch 61/350\n",
            "3/3 - 0s - loss: 6057881.5000 - mae: 1858.3839 - val_loss: 18447106.0000 - val_mae: 3426.2078 - 60ms/epoch - 20ms/step\n",
            "Epoch 62/350\n",
            "3/3 - 0s - loss: 5939466.0000 - mae: 1828.9341 - val_loss: 17128562.0000 - val_mae: 3216.5540 - 60ms/epoch - 20ms/step\n",
            "Epoch 63/350\n",
            "3/3 - 0s - loss: 5866602.0000 - mae: 1812.7834 - val_loss: 16963754.0000 - val_mae: 3178.3994 - 57ms/epoch - 19ms/step\n",
            "Epoch 64/350\n",
            "3/3 - 0s - loss: 6018733.5000 - mae: 1828.3989 - val_loss: 17833362.0000 - val_mae: 3322.7009 - 58ms/epoch - 19ms/step\n",
            "Epoch 65/350\n",
            "3/3 - 0s - loss: 6402592.5000 - mae: 1854.7854 - val_loss: 18681938.0000 - val_mae: 3398.8733 - 54ms/epoch - 18ms/step\n",
            "Epoch 66/350\n",
            "3/3 - 0s - loss: 6228411.0000 - mae: 1822.8324 - val_loss: 18914658.0000 - val_mae: 3409.2502 - 60ms/epoch - 20ms/step\n",
            "Epoch 67/350\n",
            "3/3 - 0s - loss: 6520256.0000 - mae: 1832.5118 - val_loss: 18858008.0000 - val_mae: 3406.5852 - 58ms/epoch - 19ms/step\n",
            "Epoch 68/350\n",
            "3/3 - 0s - loss: 6730456.5000 - mae: 1893.4993 - val_loss: 18940374.0000 - val_mae: 3414.3467 - 54ms/epoch - 18ms/step\n",
            "Epoch 69/350\n",
            "3/3 - 0s - loss: 6742295.0000 - mae: 1905.8087 - val_loss: 19664126.0000 - val_mae: 3471.6370 - 53ms/epoch - 18ms/step\n",
            "Epoch 70/350\n",
            "3/3 - 0s - loss: 6878668.5000 - mae: 1922.4519 - val_loss: 18743480.0000 - val_mae: 3422.6404 - 61ms/epoch - 20ms/step\n",
            "Epoch 71/350\n",
            "3/3 - 0s - loss: 6786890.5000 - mae: 1919.4701 - val_loss: 18982274.0000 - val_mae: 3618.8416 - 59ms/epoch - 20ms/step\n",
            "Epoch 72/350\n",
            "3/3 - 0s - loss: 7239095.0000 - mae: 2016.8420 - val_loss: 18964926.0000 - val_mae: 3404.8020 - 118ms/epoch - 39ms/step\n",
            "Epoch 73/350\n",
            "3/3 - 0s - loss: 7411878.0000 - mae: 2024.8016 - val_loss: 20359348.0000 - val_mae: 3488.7168 - 114ms/epoch - 38ms/step\n",
            "Epoch 74/350\n",
            "3/3 - 0s - loss: 7422404.0000 - mae: 2017.5747 - val_loss: 19495814.0000 - val_mae: 3449.6475 - 76ms/epoch - 25ms/step\n",
            "Epoch 75/350\n",
            "3/3 - 0s - loss: 7807662.5000 - mae: 2052.6426 - val_loss: 18235242.0000 - val_mae: 3427.5918 - 64ms/epoch - 21ms/step\n",
            "Epoch 76/350\n",
            "3/3 - 0s - loss: 7848815.0000 - mae: 2112.7473 - val_loss: 17849732.0000 - val_mae: 3414.3684 - 57ms/epoch - 19ms/step\n",
            "Epoch 77/350\n",
            "3/3 - 0s - loss: 7373680.0000 - mae: 2052.7229 - val_loss: 17042762.0000 - val_mae: 3521.3125 - 57ms/epoch - 19ms/step\n",
            "Epoch 78/350\n",
            "3/3 - 0s - loss: 8108681.0000 - mae: 2150.4727 - val_loss: 14866376.0000 - val_mae: 3254.4973 - 70ms/epoch - 23ms/step\n",
            "Epoch 79/350\n",
            "3/3 - 0s - loss: 8338039.5000 - mae: 2164.1892 - val_loss: 16246280.0000 - val_mae: 3521.5261 - 53ms/epoch - 18ms/step\n",
            "Epoch 80/350\n",
            "3/3 - 0s - loss: 7945835.0000 - mae: 2130.6401 - val_loss: 15951968.0000 - val_mae: 3598.3958 - 54ms/epoch - 18ms/step\n",
            "Epoch 81/350\n",
            "3/3 - 0s - loss: 7887346.0000 - mae: 2118.3059 - val_loss: 15901291.0000 - val_mae: 3562.0891 - 57ms/epoch - 19ms/step\n",
            "Epoch 82/350\n",
            "3/3 - 0s - loss: 7680482.0000 - mae: 2098.5791 - val_loss: 16421967.0000 - val_mae: 3478.8379 - 55ms/epoch - 18ms/step\n",
            "Epoch 83/350\n",
            "3/3 - 0s - loss: 7793564.0000 - mae: 2128.7786 - val_loss: 16603424.0000 - val_mae: 3486.8049 - 60ms/epoch - 20ms/step\n",
            "Epoch 84/350\n",
            "3/3 - 0s - loss: 7778222.5000 - mae: 2109.9907 - val_loss: 16054523.0000 - val_mae: 3440.9854 - 57ms/epoch - 19ms/step\n",
            "Epoch 85/350\n",
            "3/3 - 0s - loss: 7696451.5000 - mae: 2107.2905 - val_loss: 16181832.0000 - val_mae: 3483.2568 - 60ms/epoch - 20ms/step\n",
            "Epoch 86/350\n",
            "3/3 - 0s - loss: 7519050.5000 - mae: 2058.8167 - val_loss: 16176571.0000 - val_mae: 3482.1882 - 125ms/epoch - 42ms/step\n",
            "Epoch 87/350\n",
            "3/3 - 0s - loss: 7552472.5000 - mae: 2075.5154 - val_loss: 16139333.0000 - val_mae: 3458.2090 - 146ms/epoch - 49ms/step\n",
            "Epoch 88/350\n",
            "3/3 - 0s - loss: 7468596.0000 - mae: 2053.8452 - val_loss: 16417015.0000 - val_mae: 3474.6765 - 193ms/epoch - 64ms/step\n",
            "Epoch 89/350\n",
            "3/3 - 0s - loss: 7389856.5000 - mae: 2046.5873 - val_loss: 16463199.0000 - val_mae: 3482.6687 - 130ms/epoch - 43ms/step\n",
            "Epoch 90/350\n",
            "3/3 - 0s - loss: 7442658.0000 - mae: 2061.0859 - val_loss: 16062792.0000 - val_mae: 3463.7471 - 212ms/epoch - 71ms/step\n",
            "Epoch 91/350\n",
            "3/3 - 0s - loss: 7235783.0000 - mae: 2011.1023 - val_loss: 16259665.0000 - val_mae: 3452.9192 - 214ms/epoch - 71ms/step\n",
            "Epoch 92/350\n",
            "3/3 - 0s - loss: 7352464.0000 - mae: 2043.6487 - val_loss: 18596200.0000 - val_mae: 3584.7493 - 137ms/epoch - 46ms/step\n",
            "Epoch 93/350\n",
            "3/3 - 0s - loss: 7338115.5000 - mae: 2043.7261 - val_loss: 18524188.0000 - val_mae: 3604.5886 - 124ms/epoch - 41ms/step\n",
            "Epoch 94/350\n",
            "3/3 - 0s - loss: 7230123.0000 - mae: 2025.5005 - val_loss: 18764360.0000 - val_mae: 3613.3337 - 168ms/epoch - 56ms/step\n",
            "Epoch 95/350\n",
            "3/3 - 0s - loss: 7354373.5000 - mae: 2037.5974 - val_loss: 18789326.0000 - val_mae: 3601.0046 - 165ms/epoch - 55ms/step\n",
            "Epoch 96/350\n",
            "3/3 - 0s - loss: 7320155.5000 - mae: 2053.8701 - val_loss: 17872018.0000 - val_mae: 3583.2844 - 114ms/epoch - 38ms/step\n",
            "Epoch 97/350\n",
            "3/3 - 0s - loss: 7381203.0000 - mae: 2061.4739 - val_loss: 17963470.0000 - val_mae: 3585.0203 - 91ms/epoch - 30ms/step\n",
            "Epoch 98/350\n",
            "3/3 - 0s - loss: 7309438.5000 - mae: 2057.3723 - val_loss: 18601534.0000 - val_mae: 3587.7629 - 61ms/epoch - 20ms/step\n",
            "Epoch 99/350\n",
            "3/3 - 0s - loss: 7323091.0000 - mae: 2051.1042 - val_loss: 17737864.0000 - val_mae: 3542.4287 - 95ms/epoch - 32ms/step\n",
            "Epoch 100/350\n",
            "3/3 - 0s - loss: 7207385.5000 - mae: 2034.7957 - val_loss: 16360380.0000 - val_mae: 3477.4988 - 118ms/epoch - 39ms/step\n",
            "Epoch 101/350\n",
            "3/3 - 0s - loss: 7216811.5000 - mae: 2017.5835 - val_loss: 15101251.0000 - val_mae: 3362.9470 - 110ms/epoch - 37ms/step\n",
            "Epoch 102/350\n",
            "3/3 - 0s - loss: 7139778.0000 - mae: 2007.3379 - val_loss: 14795948.0000 - val_mae: 3321.2493 - 138ms/epoch - 46ms/step\n",
            "Epoch 103/350\n",
            "3/3 - 0s - loss: 7104086.5000 - mae: 1988.5933 - val_loss: 14559608.0000 - val_mae: 3327.2034 - 126ms/epoch - 42ms/step\n",
            "Epoch 104/350\n",
            "3/3 - 0s - loss: 7091334.5000 - mae: 2009.1204 - val_loss: 14529753.0000 - val_mae: 3326.5088 - 100ms/epoch - 33ms/step\n",
            "Epoch 105/350\n",
            "3/3 - 0s - loss: 6993442.5000 - mae: 1995.3273 - val_loss: 14739867.0000 - val_mae: 3331.2805 - 115ms/epoch - 38ms/step\n",
            "Epoch 106/350\n",
            "3/3 - 0s - loss: 7224973.5000 - mae: 2015.0811 - val_loss: 14271547.0000 - val_mae: 3289.3918 - 117ms/epoch - 39ms/step\n",
            "Epoch 107/350\n",
            "3/3 - 0s - loss: 6974001.0000 - mae: 2007.6600 - val_loss: 13906641.0000 - val_mae: 3271.2156 - 114ms/epoch - 38ms/step\n",
            "Epoch 108/350\n",
            "3/3 - 0s - loss: 7110019.0000 - mae: 2028.7162 - val_loss: 14387443.0000 - val_mae: 3297.0459 - 108ms/epoch - 36ms/step\n",
            "Epoch 109/350\n",
            "3/3 - 0s - loss: 7100309.0000 - mae: 2004.1703 - val_loss: 14466365.0000 - val_mae: 3293.8088 - 117ms/epoch - 39ms/step\n",
            "Epoch 110/350\n",
            "3/3 - 0s - loss: 6929344.5000 - mae: 1967.7808 - val_loss: 14147813.0000 - val_mae: 3269.0427 - 195ms/epoch - 65ms/step\n",
            "Epoch 111/350\n",
            "3/3 - 0s - loss: 6972165.5000 - mae: 1981.1326 - val_loss: 13517689.0000 - val_mae: 3225.3875 - 210ms/epoch - 70ms/step\n",
            "Epoch 112/350\n",
            "3/3 - 0s - loss: 6845413.5000 - mae: 1947.1930 - val_loss: 13583968.0000 - val_mae: 3223.7939 - 212ms/epoch - 71ms/step\n",
            "Epoch 113/350\n",
            "3/3 - 0s - loss: 6856723.0000 - mae: 1944.4955 - val_loss: 13544867.0000 - val_mae: 3232.4414 - 397ms/epoch - 132ms/step\n",
            "Epoch 114/350\n",
            "3/3 - 0s - loss: 6832835.0000 - mae: 1944.7125 - val_loss: 13607371.0000 - val_mae: 3246.2151 - 248ms/epoch - 83ms/step\n",
            "Epoch 115/350\n",
            "3/3 - 0s - loss: 6934372.0000 - mae: 1960.0890 - val_loss: 13672968.0000 - val_mae: 3233.0090 - 132ms/epoch - 44ms/step\n",
            "Epoch 116/350\n",
            "3/3 - 0s - loss: 6709819.0000 - mae: 1925.6816 - val_loss: 13598951.0000 - val_mae: 3226.4119 - 112ms/epoch - 37ms/step\n",
            "Epoch 117/350\n",
            "3/3 - 0s - loss: 7030531.5000 - mae: 1964.6752 - val_loss: 13470304.0000 - val_mae: 3211.3806 - 113ms/epoch - 38ms/step\n",
            "Epoch 118/350\n",
            "3/3 - 0s - loss: 7228109.5000 - mae: 2005.7487 - val_loss: 13283528.0000 - val_mae: 3152.2588 - 58ms/epoch - 19ms/step\n",
            "Epoch 119/350\n",
            "3/3 - 0s - loss: 6998196.5000 - mae: 1946.1559 - val_loss: 11757784.0000 - val_mae: 2975.4968 - 57ms/epoch - 19ms/step\n",
            "Epoch 120/350\n",
            "3/3 - 0s - loss: 6890428.5000 - mae: 1939.7991 - val_loss: 11498313.0000 - val_mae: 2942.4609 - 60ms/epoch - 20ms/step\n",
            "Epoch 121/350\n",
            "3/3 - 0s - loss: 6866579.5000 - mae: 1930.6729 - val_loss: 11486987.0000 - val_mae: 2930.1091 - 57ms/epoch - 19ms/step\n",
            "Epoch 122/350\n",
            "3/3 - 0s - loss: 6864683.5000 - mae: 1924.9191 - val_loss: 11482143.0000 - val_mae: 2931.8455 - 60ms/epoch - 20ms/step\n",
            "Epoch 123/350\n",
            "3/3 - 0s - loss: 6872053.5000 - mae: 1914.8658 - val_loss: 11454768.0000 - val_mae: 2921.3420 - 57ms/epoch - 19ms/step\n",
            "Epoch 124/350\n",
            "3/3 - 0s - loss: 6843848.5000 - mae: 1899.6837 - val_loss: 11398289.0000 - val_mae: 2911.6511 - 54ms/epoch - 18ms/step\n",
            "Epoch 125/350\n",
            "3/3 - 0s - loss: 6731159.0000 - mae: 1893.7627 - val_loss: 11444197.0000 - val_mae: 2920.8445 - 74ms/epoch - 25ms/step\n",
            "Epoch 126/350\n",
            "3/3 - 0s - loss: 6967764.5000 - mae: 1957.0349 - val_loss: 11466139.0000 - val_mae: 2924.9177 - 59ms/epoch - 20ms/step\n",
            "Epoch 127/350\n",
            "3/3 - 0s - loss: 7738427.0000 - mae: 2005.0114 - val_loss: 11402659.0000 - val_mae: 2930.0186 - 64ms/epoch - 21ms/step\n",
            "Epoch 128/350\n",
            "3/3 - 0s - loss: 7841728.5000 - mae: 2119.0127 - val_loss: 14499376.0000 - val_mae: 3278.7139 - 57ms/epoch - 19ms/step\n",
            "Epoch 129/350\n",
            "3/3 - 0s - loss: 7460940.0000 - mae: 2047.2188 - val_loss: 13972461.0000 - val_mae: 3228.0254 - 57ms/epoch - 19ms/step\n",
            "Epoch 130/350\n",
            "3/3 - 0s - loss: 7439558.5000 - mae: 2044.5060 - val_loss: 14069984.0000 - val_mae: 3215.2283 - 56ms/epoch - 19ms/step\n",
            "Epoch 131/350\n",
            "3/3 - 0s - loss: 7454760.0000 - mae: 2036.9330 - val_loss: 13927760.0000 - val_mae: 3219.5784 - 58ms/epoch - 19ms/step\n",
            "Epoch 132/350\n",
            "3/3 - 0s - loss: 7630945.0000 - mae: 2013.9586 - val_loss: 13926825.0000 - val_mae: 3249.1204 - 61ms/epoch - 20ms/step\n",
            "Epoch 133/350\n",
            "3/3 - 0s - loss: 7250445.5000 - mae: 2004.2218 - val_loss: 14356584.0000 - val_mae: 3231.6094 - 56ms/epoch - 19ms/step\n",
            "Epoch 134/350\n",
            "3/3 - 0s - loss: 7029980.0000 - mae: 1985.2218 - val_loss: 14223416.0000 - val_mae: 3210.1570 - 55ms/epoch - 18ms/step\n",
            "Epoch 135/350\n",
            "3/3 - 0s - loss: 6935766.0000 - mae: 1981.1432 - val_loss: 13526512.0000 - val_mae: 3090.8242 - 57ms/epoch - 19ms/step\n",
            "Epoch 136/350\n",
            "3/3 - 0s - loss: 6881112.5000 - mae: 1974.1255 - val_loss: 13728025.0000 - val_mae: 3115.5095 - 55ms/epoch - 18ms/step\n",
            "Epoch 137/350\n",
            "3/3 - 0s - loss: 6886670.0000 - mae: 1990.0009 - val_loss: 13248157.0000 - val_mae: 3032.9231 - 60ms/epoch - 20ms/step\n",
            "Epoch 138/350\n",
            "3/3 - 0s - loss: 6870618.5000 - mae: 1990.0413 - val_loss: 13016937.0000 - val_mae: 3026.7058 - 60ms/epoch - 20ms/step\n",
            "Epoch 139/350\n",
            "3/3 - 0s - loss: 6719615.5000 - mae: 1962.9780 - val_loss: 12927153.0000 - val_mae: 3039.6406 - 55ms/epoch - 18ms/step\n",
            "Epoch 140/350\n",
            "3/3 - 0s - loss: 6900169.0000 - mae: 2005.9895 - val_loss: 13164772.0000 - val_mae: 3076.9260 - 64ms/epoch - 21ms/step\n",
            "Epoch 141/350\n",
            "3/3 - 0s - loss: 6643501.5000 - mae: 1922.5037 - val_loss: 13224197.0000 - val_mae: 3047.0039 - 77ms/epoch - 26ms/step\n",
            "Epoch 142/350\n",
            "3/3 - 0s - loss: 6650813.0000 - mae: 1958.1171 - val_loss: 13039611.0000 - val_mae: 3055.7043 - 56ms/epoch - 19ms/step\n",
            "Epoch 143/350\n",
            "3/3 - 0s - loss: 6551823.0000 - mae: 1920.2157 - val_loss: 13133525.0000 - val_mae: 3101.9407 - 58ms/epoch - 19ms/step\n",
            "Epoch 144/350\n",
            "3/3 - 0s - loss: 6426529.0000 - mae: 1893.7623 - val_loss: 13296369.0000 - val_mae: 3090.5859 - 58ms/epoch - 19ms/step\n",
            "Epoch 145/350\n",
            "3/3 - 0s - loss: 6421788.0000 - mae: 1897.2378 - val_loss: 13276349.0000 - val_mae: 3066.0422 - 58ms/epoch - 19ms/step\n",
            "Epoch 146/350\n",
            "3/3 - 0s - loss: 6478140.0000 - mae: 1930.6310 - val_loss: 13315912.0000 - val_mae: 3063.0247 - 59ms/epoch - 20ms/step\n",
            "Epoch 147/350\n",
            "3/3 - 0s - loss: 6374663.0000 - mae: 1821.9258 - val_loss: 13344821.0000 - val_mae: 3173.5977 - 57ms/epoch - 19ms/step\n",
            "Epoch 148/350\n",
            "3/3 - 0s - loss: 6573520.0000 - mae: 1891.5566 - val_loss: 14268120.0000 - val_mae: 3254.5305 - 63ms/epoch - 21ms/step\n",
            "Epoch 149/350\n",
            "3/3 - 0s - loss: 6414780.0000 - mae: 1869.2002 - val_loss: 16650323.0000 - val_mae: 3303.1985 - 57ms/epoch - 19ms/step\n",
            "Epoch 150/350\n",
            "3/3 - 0s - loss: 6982983.5000 - mae: 1963.3104 - val_loss: 17326504.0000 - val_mae: 3378.4563 - 56ms/epoch - 19ms/step\n",
            "Epoch 151/350\n",
            "3/3 - 0s - loss: 6816252.0000 - mae: 1949.1191 - val_loss: 16909410.0000 - val_mae: 3383.5437 - 57ms/epoch - 19ms/step\n",
            "Epoch 152/350\n",
            "3/3 - 0s - loss: 7018425.0000 - mae: 1999.5173 - val_loss: 17353080.0000 - val_mae: 3429.1711 - 61ms/epoch - 20ms/step\n",
            "Epoch 153/350\n",
            "3/3 - 0s - loss: 7376084.5000 - mae: 2022.3202 - val_loss: 17020432.0000 - val_mae: 3406.1689 - 56ms/epoch - 19ms/step\n",
            "Epoch 154/350\n",
            "3/3 - 0s - loss: 7112134.5000 - mae: 1989.4307 - val_loss: 13978148.0000 - val_mae: 3104.8604 - 66ms/epoch - 22ms/step\n",
            "Epoch 155/350\n",
            "3/3 - 0s - loss: 6799729.0000 - mae: 1964.4861 - val_loss: 13899601.0000 - val_mae: 3104.9182 - 57ms/epoch - 19ms/step\n",
            "Epoch 156/350\n",
            "3/3 - 0s - loss: 6828796.0000 - mae: 1913.8297 - val_loss: 13814596.0000 - val_mae: 3098.1973 - 70ms/epoch - 23ms/step\n",
            "Epoch 157/350\n",
            "3/3 - 0s - loss: 6708554.0000 - mae: 1892.6669 - val_loss: 13741473.0000 - val_mae: 3063.4128 - 54ms/epoch - 18ms/step\n",
            "Epoch 158/350\n",
            "3/3 - 0s - loss: 6907829.5000 - mae: 1976.1714 - val_loss: 13787653.0000 - val_mae: 3088.8477 - 55ms/epoch - 18ms/step\n",
            "Epoch 159/350\n",
            "3/3 - 0s - loss: 6839807.5000 - mae: 1957.1610 - val_loss: 14382528.0000 - val_mae: 3253.7424 - 54ms/epoch - 18ms/step\n",
            "Epoch 160/350\n",
            "3/3 - 0s - loss: 6589662.0000 - mae: 1930.1494 - val_loss: 14212819.0000 - val_mae: 3203.7363 - 62ms/epoch - 21ms/step\n",
            "Epoch 161/350\n",
            "3/3 - 0s - loss: 6875569.0000 - mae: 1996.5292 - val_loss: 14519900.0000 - val_mae: 3269.1562 - 59ms/epoch - 20ms/step\n",
            "Epoch 162/350\n",
            "3/3 - 0s - loss: 6799754.0000 - mae: 1991.9889 - val_loss: 14569432.0000 - val_mae: 3251.1143 - 57ms/epoch - 19ms/step\n",
            "Epoch 163/350\n",
            "3/3 - 0s - loss: 7820036.0000 - mae: 2120.8101 - val_loss: 14655696.0000 - val_mae: 3241.1790 - 68ms/epoch - 23ms/step\n",
            "Epoch 164/350\n",
            "3/3 - 0s - loss: 7458276.5000 - mae: 2103.0979 - val_loss: 13577088.0000 - val_mae: 3242.3340 - 75ms/epoch - 25ms/step\n",
            "Epoch 165/350\n",
            "3/3 - 0s - loss: 9051080.0000 - mae: 2386.0413 - val_loss: 14000267.0000 - val_mae: 3088.6768 - 62ms/epoch - 21ms/step\n",
            "Epoch 166/350\n",
            "3/3 - 0s - loss: 8914026.0000 - mae: 2346.6165 - val_loss: 13543920.0000 - val_mae: 3139.1582 - 68ms/epoch - 23ms/step\n",
            "Epoch 167/350\n",
            "3/3 - 0s - loss: 8616674.0000 - mae: 2359.8757 - val_loss: 14195296.0000 - val_mae: 3210.5339 - 64ms/epoch - 21ms/step\n",
            "Epoch 168/350\n",
            "3/3 - 0s - loss: 7740873.0000 - mae: 2142.4360 - val_loss: 18481526.0000 - val_mae: 3372.2820 - 60ms/epoch - 20ms/step\n",
            "Epoch 169/350\n",
            "3/3 - 0s - loss: 7971157.0000 - mae: 2234.8376 - val_loss: 15042888.0000 - val_mae: 3302.5940 - 60ms/epoch - 20ms/step\n",
            "Epoch 170/350\n",
            "3/3 - 0s - loss: 8128440.5000 - mae: 2267.8879 - val_loss: 15806805.0000 - val_mae: 3340.4355 - 65ms/epoch - 22ms/step\n",
            "Epoch 171/350\n",
            "3/3 - 0s - loss: 8596762.0000 - mae: 2311.3870 - val_loss: 14477211.0000 - val_mae: 2925.0508 - 74ms/epoch - 25ms/step\n",
            "Epoch 172/350\n",
            "3/3 - 0s - loss: 8830604.0000 - mae: 2294.9155 - val_loss: 12515427.0000 - val_mae: 2832.4597 - 58ms/epoch - 19ms/step\n",
            "Epoch 173/350\n",
            "3/3 - 0s - loss: 8851200.0000 - mae: 2307.7957 - val_loss: 14334088.0000 - val_mae: 2786.0583 - 60ms/epoch - 20ms/step\n",
            "Epoch 174/350\n",
            "3/3 - 0s - loss: 8908045.0000 - mae: 2292.4419 - val_loss: 15850189.0000 - val_mae: 2942.2490 - 59ms/epoch - 20ms/step\n",
            "Epoch 175/350\n",
            "3/3 - 0s - loss: 8184393.0000 - mae: 2233.3193 - val_loss: 18877202.0000 - val_mae: 3253.9531 - 60ms/epoch - 20ms/step\n",
            "Epoch 176/350\n",
            "3/3 - 0s - loss: 8700278.0000 - mae: 2339.7886 - val_loss: 18557654.0000 - val_mae: 3433.3933 - 57ms/epoch - 19ms/step\n",
            "Epoch 177/350\n",
            "3/3 - 0s - loss: 8795806.0000 - mae: 2335.5698 - val_loss: 12230512.0000 - val_mae: 2727.5730 - 60ms/epoch - 20ms/step\n",
            "Epoch 178/350\n",
            "3/3 - 0s - loss: 8822013.0000 - mae: 2404.5901 - val_loss: 11435391.0000 - val_mae: 2612.9316 - 55ms/epoch - 18ms/step\n",
            "Epoch 179/350\n",
            "3/3 - 0s - loss: 8481552.0000 - mae: 2251.9070 - val_loss: 12090753.0000 - val_mae: 2707.6697 - 58ms/epoch - 19ms/step\n",
            "Epoch 180/350\n",
            "3/3 - 0s - loss: 8031910.0000 - mae: 2263.1121 - val_loss: 13756361.0000 - val_mae: 2774.7356 - 57ms/epoch - 19ms/step\n",
            "Epoch 181/350\n",
            "3/3 - 0s - loss: 8987962.0000 - mae: 2343.8748 - val_loss: 12744716.0000 - val_mae: 2705.5696 - 67ms/epoch - 22ms/step\n",
            "Epoch 182/350\n",
            "3/3 - 0s - loss: 8372764.0000 - mae: 2236.0757 - val_loss: 12176101.0000 - val_mae: 2676.6606 - 60ms/epoch - 20ms/step\n",
            "Epoch 183/350\n",
            "3/3 - 0s - loss: 8413645.0000 - mae: 2173.0237 - val_loss: 14814411.0000 - val_mae: 2954.6299 - 71ms/epoch - 24ms/step\n",
            "Epoch 184/350\n",
            "3/3 - 0s - loss: 10478194.0000 - mae: 2632.6033 - val_loss: 16736908.0000 - val_mae: 3244.2415 - 59ms/epoch - 20ms/step\n",
            "Epoch 185/350\n",
            "3/3 - 0s - loss: 9984041.0000 - mae: 2483.9822 - val_loss: 13589331.0000 - val_mae: 3373.1794 - 56ms/epoch - 19ms/step\n",
            "Epoch 186/350\n",
            "3/3 - 0s - loss: 10456151.0000 - mae: 2474.1838 - val_loss: 18975960.0000 - val_mae: 3499.6833 - 56ms/epoch - 19ms/step\n",
            "Epoch 187/350\n",
            "3/3 - 0s - loss: 8404901.0000 - mae: 2272.3486 - val_loss: 16697891.0000 - val_mae: 3124.0781 - 63ms/epoch - 21ms/step\n",
            "Epoch 188/350\n",
            "3/3 - 0s - loss: 7732371.5000 - mae: 2164.4409 - val_loss: 16883656.0000 - val_mae: 3259.1692 - 67ms/epoch - 22ms/step\n",
            "Epoch 189/350\n",
            "3/3 - 0s - loss: 8039998.5000 - mae: 2167.6326 - val_loss: 18850126.0000 - val_mae: 3601.2112 - 63ms/epoch - 21ms/step\n",
            "Epoch 190/350\n",
            "3/3 - 0s - loss: 8243217.0000 - mae: 2199.8152 - val_loss: 17892826.0000 - val_mae: 3595.0388 - 56ms/epoch - 19ms/step\n",
            "Epoch 191/350\n",
            "3/3 - 0s - loss: 8584707.0000 - mae: 2283.1030 - val_loss: 17206648.0000 - val_mae: 3428.8350 - 61ms/epoch - 20ms/step\n",
            "Epoch 192/350\n",
            "3/3 - 0s - loss: 11718205.0000 - mae: 2569.3076 - val_loss: 16259717.0000 - val_mae: 2986.5156 - 58ms/epoch - 19ms/step\n",
            "Epoch 193/350\n",
            "3/3 - 0s - loss: 10636035.0000 - mae: 2505.7446 - val_loss: 17400402.0000 - val_mae: 3433.8020 - 57ms/epoch - 19ms/step\n",
            "Epoch 194/350\n",
            "3/3 - 0s - loss: 10791221.0000 - mae: 2544.3267 - val_loss: 18951710.0000 - val_mae: 3607.4934 - 65ms/epoch - 22ms/step\n",
            "Epoch 195/350\n",
            "3/3 - 0s - loss: 11587758.0000 - mae: 2664.7009 - val_loss: 21140864.0000 - val_mae: 3510.3748 - 62ms/epoch - 21ms/step\n",
            "Epoch 196/350\n",
            "3/3 - 0s - loss: 12887189.0000 - mae: 2816.1582 - val_loss: 16360131.0000 - val_mae: 3284.0383 - 67ms/epoch - 22ms/step\n",
            "Epoch 197/350\n",
            "3/3 - 0s - loss: 10732512.0000 - mae: 2545.4458 - val_loss: 11630379.0000 - val_mae: 2964.7922 - 58ms/epoch - 19ms/step\n",
            "Epoch 198/350\n",
            "3/3 - 0s - loss: 10946601.0000 - mae: 2574.9104 - val_loss: 11055808.0000 - val_mae: 2476.3140 - 58ms/epoch - 19ms/step\n",
            "Epoch 199/350\n",
            "3/3 - 0s - loss: 9113393.0000 - mae: 2331.6565 - val_loss: 9263032.0000 - val_mae: 2502.9668 - 63ms/epoch - 21ms/step\n",
            "Epoch 200/350\n",
            "3/3 - 0s - loss: 7463904.5000 - mae: 2152.1147 - val_loss: 10605438.0000 - val_mae: 2698.0447 - 65ms/epoch - 22ms/step\n",
            "Epoch 201/350\n",
            "3/3 - 0s - loss: 7264280.5000 - mae: 2146.2368 - val_loss: 10055964.0000 - val_mae: 2676.3879 - 59ms/epoch - 20ms/step\n",
            "Epoch 202/350\n",
            "3/3 - 0s - loss: 7011734.5000 - mae: 2096.9424 - val_loss: 9903713.0000 - val_mae: 2652.0073 - 73ms/epoch - 24ms/step\n",
            "Epoch 203/350\n",
            "3/3 - 0s - loss: 6831737.0000 - mae: 2089.0601 - val_loss: 10259141.0000 - val_mae: 2683.3711 - 68ms/epoch - 23ms/step\n",
            "Epoch 204/350\n",
            "3/3 - 0s - loss: 6835362.5000 - mae: 2064.8401 - val_loss: 10528167.0000 - val_mae: 2683.6121 - 62ms/epoch - 21ms/step\n",
            "Epoch 205/350\n",
            "3/3 - 0s - loss: 6184093.5000 - mae: 1961.7948 - val_loss: 10847256.0000 - val_mae: 2734.7039 - 63ms/epoch - 21ms/step\n",
            "Epoch 206/350\n",
            "3/3 - 0s - loss: 6126604.0000 - mae: 1938.5642 - val_loss: 10511933.0000 - val_mae: 2705.0408 - 59ms/epoch - 20ms/step\n",
            "Epoch 207/350\n",
            "3/3 - 0s - loss: 5669123.5000 - mae: 1828.3801 - val_loss: 10034044.0000 - val_mae: 2691.2942 - 69ms/epoch - 23ms/step\n",
            "Epoch 208/350\n",
            "3/3 - 0s - loss: 5460482.0000 - mae: 1873.5322 - val_loss: 10251614.0000 - val_mae: 2700.6965 - 81ms/epoch - 27ms/step\n",
            "Epoch 209/350\n",
            "3/3 - 0s - loss: 5369678.5000 - mae: 1834.0280 - val_loss: 10280380.0000 - val_mae: 2707.9216 - 108ms/epoch - 36ms/step\n",
            "Epoch 210/350\n",
            "3/3 - 0s - loss: 5469679.0000 - mae: 1807.1841 - val_loss: 10497899.0000 - val_mae: 2721.5593 - 63ms/epoch - 21ms/step\n",
            "Epoch 211/350\n",
            "3/3 - 0s - loss: 5307298.0000 - mae: 1821.9995 - val_loss: 10270076.0000 - val_mae: 2717.2227 - 61ms/epoch - 20ms/step\n",
            "Epoch 212/350\n",
            "3/3 - 0s - loss: 5396104.0000 - mae: 1808.9840 - val_loss: 10464747.0000 - val_mae: 2715.4158 - 57ms/epoch - 19ms/step\n",
            "Epoch 213/350\n",
            "3/3 - 0s - loss: 5198762.0000 - mae: 1763.3665 - val_loss: 10833495.0000 - val_mae: 2755.2502 - 58ms/epoch - 19ms/step\n",
            "Epoch 214/350\n",
            "3/3 - 0s - loss: 5324999.5000 - mae: 1814.9055 - val_loss: 10815327.0000 - val_mae: 2757.5300 - 59ms/epoch - 20ms/step\n",
            "Epoch 215/350\n",
            "3/3 - 0s - loss: 5402640.0000 - mae: 1764.9045 - val_loss: 10629496.0000 - val_mae: 2731.6082 - 65ms/epoch - 22ms/step\n",
            "Epoch 216/350\n",
            "3/3 - 0s - loss: 5131071.5000 - mae: 1774.0933 - val_loss: 10926644.0000 - val_mae: 2753.6858 - 70ms/epoch - 23ms/step\n",
            "Epoch 217/350\n",
            "3/3 - 0s - loss: 5349453.5000 - mae: 1835.1841 - val_loss: 10405845.0000 - val_mae: 2725.6445 - 59ms/epoch - 20ms/step\n",
            "Epoch 218/350\n",
            "3/3 - 0s - loss: 4962597.5000 - mae: 1720.5632 - val_loss: 10720464.0000 - val_mae: 2749.1152 - 61ms/epoch - 20ms/step\n",
            "Epoch 219/350\n",
            "3/3 - 0s - loss: 5310021.5000 - mae: 1825.8732 - val_loss: 10711409.0000 - val_mae: 2741.7371 - 67ms/epoch - 22ms/step\n",
            "Epoch 220/350\n",
            "3/3 - 0s - loss: 4840719.0000 - mae: 1724.9565 - val_loss: 10662939.0000 - val_mae: 2721.6331 - 60ms/epoch - 20ms/step\n",
            "Epoch 221/350\n",
            "3/3 - 0s - loss: 5100668.5000 - mae: 1705.8636 - val_loss: 10222787.0000 - val_mae: 2682.3323 - 61ms/epoch - 20ms/step\n",
            "Epoch 222/350\n",
            "3/3 - 0s - loss: 5129073.5000 - mae: 1809.0228 - val_loss: 10395249.0000 - val_mae: 2672.9607 - 61ms/epoch - 20ms/step\n",
            "Epoch 223/350\n",
            "3/3 - 0s - loss: 4820562.5000 - mae: 1719.0759 - val_loss: 10163280.0000 - val_mae: 2639.4631 - 61ms/epoch - 20ms/step\n",
            "Epoch 224/350\n",
            "3/3 - 0s - loss: 4918458.5000 - mae: 1713.1145 - val_loss: 10219617.0000 - val_mae: 2657.7356 - 69ms/epoch - 23ms/step\n",
            "Epoch 225/350\n",
            "3/3 - 0s - loss: 4697634.0000 - mae: 1721.8949 - val_loss: 10094247.0000 - val_mae: 2647.6465 - 69ms/epoch - 23ms/step\n",
            "Epoch 226/350\n",
            "3/3 - 0s - loss: 4878590.0000 - mae: 1688.7288 - val_loss: 10171297.0000 - val_mae: 2659.7566 - 73ms/epoch - 24ms/step\n",
            "Epoch 227/350\n",
            "3/3 - 0s - loss: 4767893.0000 - mae: 1704.6841 - val_loss: 10574773.0000 - val_mae: 2686.0886 - 60ms/epoch - 20ms/step\n",
            "Epoch 228/350\n",
            "3/3 - 0s - loss: 4969418.0000 - mae: 1706.5745 - val_loss: 10766893.0000 - val_mae: 2743.9778 - 62ms/epoch - 21ms/step\n",
            "Epoch 229/350\n",
            "3/3 - 0s - loss: 4985348.0000 - mae: 1746.5021 - val_loss: 10817168.0000 - val_mae: 2721.0762 - 64ms/epoch - 21ms/step\n",
            "Epoch 230/350\n",
            "3/3 - 0s - loss: 4685904.0000 - mae: 1685.7009 - val_loss: 10460893.0000 - val_mae: 2691.1704 - 71ms/epoch - 24ms/step\n",
            "Epoch 231/350\n",
            "3/3 - 0s - loss: 4833039.0000 - mae: 1710.4375 - val_loss: 10657905.0000 - val_mae: 2713.0002 - 61ms/epoch - 20ms/step\n",
            "Epoch 232/350\n",
            "3/3 - 0s - loss: 4794200.5000 - mae: 1744.2648 - val_loss: 10586737.0000 - val_mae: 2706.6692 - 57ms/epoch - 19ms/step\n",
            "Epoch 233/350\n",
            "3/3 - 0s - loss: 4522517.0000 - mae: 1649.7863 - val_loss: 10605907.0000 - val_mae: 2705.5530 - 72ms/epoch - 24ms/step\n",
            "Epoch 234/350\n",
            "3/3 - 0s - loss: 4905853.0000 - mae: 1737.7800 - val_loss: 10676080.0000 - val_mae: 2710.4036 - 58ms/epoch - 19ms/step\n",
            "Epoch 235/350\n",
            "3/3 - 0s - loss: 5081778.5000 - mae: 1736.5161 - val_loss: 10864932.0000 - val_mae: 2731.9775 - 61ms/epoch - 20ms/step\n",
            "Epoch 236/350\n",
            "3/3 - 0s - loss: 4446291.0000 - mae: 1616.0972 - val_loss: 10962995.0000 - val_mae: 2731.6074 - 62ms/epoch - 21ms/step\n",
            "Epoch 237/350\n",
            "3/3 - 0s - loss: 4750357.5000 - mae: 1715.7318 - val_loss: 10527578.0000 - val_mae: 2689.1282 - 59ms/epoch - 20ms/step\n",
            "Epoch 238/350\n",
            "3/3 - 0s - loss: 4873553.5000 - mae: 1701.0347 - val_loss: 10371900.0000 - val_mae: 2675.4612 - 61ms/epoch - 20ms/step\n",
            "Epoch 239/350\n",
            "3/3 - 0s - loss: 5522264.5000 - mae: 1861.7623 - val_loss: 10796448.0000 - val_mae: 2688.0952 - 64ms/epoch - 21ms/step\n",
            "Epoch 240/350\n",
            "3/3 - 0s - loss: 4733383.0000 - mae: 1657.8396 - val_loss: 11753389.0000 - val_mae: 2919.6152 - 60ms/epoch - 20ms/step\n",
            "Epoch 241/350\n",
            "3/3 - 0s - loss: 7629634.0000 - mae: 1941.5553 - val_loss: 11366107.0000 - val_mae: 2511.9016 - 61ms/epoch - 20ms/step\n",
            "Epoch 242/350\n",
            "3/3 - 0s - loss: 15439849.0000 - mae: 2815.4458 - val_loss: 21812502.0000 - val_mae: 3672.2917 - 53ms/epoch - 18ms/step\n",
            "Epoch 243/350\n",
            "3/3 - 0s - loss: 18259298.0000 - mae: 3244.0178 - val_loss: 27652954.0000 - val_mae: 4107.3828 - 61ms/epoch - 20ms/step\n",
            "Epoch 244/350\n",
            "3/3 - 0s - loss: 18712712.0000 - mae: 3514.5491 - val_loss: 25387522.0000 - val_mae: 3880.5547 - 55ms/epoch - 18ms/step\n",
            "Epoch 245/350\n",
            "3/3 - 0s - loss: 18708190.0000 - mae: 3452.4175 - val_loss: 24501254.0000 - val_mae: 3907.1384 - 60ms/epoch - 20ms/step\n",
            "Epoch 246/350\n",
            "3/3 - 0s - loss: 16373823.0000 - mae: 3247.0354 - val_loss: 21809078.0000 - val_mae: 3681.4407 - 69ms/epoch - 23ms/step\n",
            "Epoch 247/350\n",
            "3/3 - 0s - loss: 14622433.0000 - mae: 3149.4299 - val_loss: 19631152.0000 - val_mae: 3282.1199 - 63ms/epoch - 21ms/step\n",
            "Epoch 248/350\n",
            "3/3 - 0s - loss: 12236907.0000 - mae: 2852.3069 - val_loss: 17345976.0000 - val_mae: 3053.5664 - 59ms/epoch - 20ms/step\n",
            "Epoch 249/350\n",
            "3/3 - 0s - loss: 11368356.0000 - mae: 2821.9136 - val_loss: 14330308.0000 - val_mae: 2677.3818 - 76ms/epoch - 25ms/step\n",
            "Epoch 250/350\n",
            "3/3 - 0s - loss: 9707804.0000 - mae: 2569.2925 - val_loss: 11937680.0000 - val_mae: 2286.2441 - 77ms/epoch - 26ms/step\n",
            "Epoch 251/350\n",
            "3/3 - 0s - loss: 9306364.0000 - mae: 2366.1311 - val_loss: 11596632.0000 - val_mae: 2445.5510 - 62ms/epoch - 21ms/step\n",
            "Epoch 252/350\n",
            "3/3 - 0s - loss: 9771087.0000 - mae: 2454.2080 - val_loss: 16624635.0000 - val_mae: 3109.4788 - 61ms/epoch - 20ms/step\n",
            "Epoch 253/350\n",
            "3/3 - 0s - loss: 10148085.0000 - mae: 2574.8521 - val_loss: 14192645.0000 - val_mae: 2856.8076 - 55ms/epoch - 18ms/step\n",
            "Epoch 254/350\n",
            "3/3 - 0s - loss: 10235163.0000 - mae: 2474.3599 - val_loss: 13855725.0000 - val_mae: 2755.0862 - 59ms/epoch - 20ms/step\n",
            "Epoch 255/350\n",
            "3/3 - 0s - loss: 10145797.0000 - mae: 2426.6577 - val_loss: 14876101.0000 - val_mae: 2995.4089 - 62ms/epoch - 21ms/step\n",
            "Epoch 256/350\n",
            "3/3 - 0s - loss: 9574233.0000 - mae: 2425.0935 - val_loss: 12804923.0000 - val_mae: 2668.7307 - 62ms/epoch - 21ms/step\n",
            "Epoch 257/350\n",
            "3/3 - 0s - loss: 8618447.0000 - mae: 2220.3372 - val_loss: 10419953.0000 - val_mae: 2264.9326 - 74ms/epoch - 25ms/step\n",
            "Epoch 258/350\n",
            "3/3 - 0s - loss: 9257826.0000 - mae: 2322.0254 - val_loss: 11305744.0000 - val_mae: 2407.8918 - 63ms/epoch - 21ms/step\n",
            "Epoch 259/350\n",
            "3/3 - 0s - loss: 10882823.0000 - mae: 2381.9915 - val_loss: 10985272.0000 - val_mae: 2524.4082 - 60ms/epoch - 20ms/step\n",
            "Epoch 260/350\n",
            "3/3 - 0s - loss: 9571182.0000 - mae: 2422.0981 - val_loss: 14497593.0000 - val_mae: 3007.4551 - 76ms/epoch - 25ms/step\n",
            "Epoch 261/350\n",
            "3/3 - 0s - loss: 9808723.0000 - mae: 2349.4443 - val_loss: 11793516.0000 - val_mae: 2722.7087 - 121ms/epoch - 40ms/step\n",
            "Epoch 262/350\n",
            "3/3 - 0s - loss: 10509674.0000 - mae: 2557.5327 - val_loss: 14346376.0000 - val_mae: 2948.4463 - 105ms/epoch - 35ms/step\n",
            "Epoch 263/350\n",
            "3/3 - 0s - loss: 9917012.0000 - mae: 2444.0669 - val_loss: 14615637.0000 - val_mae: 2899.9695 - 121ms/epoch - 40ms/step\n",
            "Epoch 264/350\n",
            "3/3 - 0s - loss: 10165474.0000 - mae: 2465.6443 - val_loss: 14273039.0000 - val_mae: 2915.6702 - 96ms/epoch - 32ms/step\n",
            "Epoch 265/350\n",
            "3/3 - 0s - loss: 9373929.0000 - mae: 2393.7776 - val_loss: 14217117.0000 - val_mae: 2933.2146 - 126ms/epoch - 42ms/step\n",
            "Epoch 266/350\n",
            "3/3 - 0s - loss: 8821775.0000 - mae: 2280.5725 - val_loss: 13728157.0000 - val_mae: 2869.6179 - 126ms/epoch - 42ms/step\n",
            "Epoch 267/350\n",
            "3/3 - 0s - loss: 9260921.0000 - mae: 2356.1987 - val_loss: 13463741.0000 - val_mae: 2883.8857 - 117ms/epoch - 39ms/step\n",
            "Epoch 268/350\n",
            "3/3 - 0s - loss: 8714519.0000 - mae: 2362.4526 - val_loss: 12686056.0000 - val_mae: 2871.8906 - 115ms/epoch - 38ms/step\n",
            "Epoch 269/350\n",
            "3/3 - 0s - loss: 8682236.0000 - mae: 2286.8022 - val_loss: 12114320.0000 - val_mae: 2843.3691 - 104ms/epoch - 35ms/step\n",
            "Epoch 270/350\n",
            "3/3 - 0s - loss: 7846471.5000 - mae: 2121.3733 - val_loss: 11971097.0000 - val_mae: 2677.9651 - 125ms/epoch - 42ms/step\n",
            "Epoch 271/350\n",
            "3/3 - 0s - loss: 7073093.5000 - mae: 1968.8252 - val_loss: 12491339.0000 - val_mae: 2643.6387 - 119ms/epoch - 40ms/step\n",
            "Epoch 272/350\n",
            "3/3 - 0s - loss: 7462324.0000 - mae: 2032.7782 - val_loss: 13428496.0000 - val_mae: 2689.4006 - 126ms/epoch - 42ms/step\n",
            "Epoch 273/350\n",
            "3/3 - 0s - loss: 8970585.0000 - mae: 2267.9766 - val_loss: 15232101.0000 - val_mae: 3018.0735 - 139ms/epoch - 46ms/step\n",
            "Epoch 274/350\n",
            "3/3 - 0s - loss: 8677429.0000 - mae: 2266.6340 - val_loss: 14097975.0000 - val_mae: 2881.9236 - 119ms/epoch - 40ms/step\n",
            "Epoch 275/350\n",
            "3/3 - 0s - loss: 8779763.0000 - mae: 2271.3645 - val_loss: 14979531.0000 - val_mae: 3072.0242 - 120ms/epoch - 40ms/step\n",
            "Epoch 276/350\n",
            "3/3 - 0s - loss: 8352619.0000 - mae: 2172.7202 - val_loss: 15182849.0000 - val_mae: 3290.5027 - 123ms/epoch - 41ms/step\n",
            "Epoch 277/350\n",
            "3/3 - 0s - loss: 9074786.0000 - mae: 2325.0598 - val_loss: 15464625.0000 - val_mae: 2999.8975 - 119ms/epoch - 40ms/step\n",
            "Epoch 278/350\n",
            "3/3 - 0s - loss: 8811635.0000 - mae: 2202.0427 - val_loss: 13738461.0000 - val_mae: 2848.2656 - 115ms/epoch - 38ms/step\n",
            "Epoch 279/350\n",
            "3/3 - 0s - loss: 8045910.0000 - mae: 2141.0793 - val_loss: 13793744.0000 - val_mae: 2823.4551 - 72ms/epoch - 24ms/step\n",
            "Epoch 280/350\n",
            "3/3 - 0s - loss: 8345128.0000 - mae: 2250.4221 - val_loss: 13591776.0000 - val_mae: 2823.4082 - 61ms/epoch - 20ms/step\n",
            "Epoch 281/350\n",
            "3/3 - 0s - loss: 8159983.0000 - mae: 2184.5681 - val_loss: 14040280.0000 - val_mae: 2901.8298 - 54ms/epoch - 18ms/step\n",
            "Epoch 282/350\n",
            "3/3 - 0s - loss: 7656177.0000 - mae: 2115.1455 - val_loss: 14120889.0000 - val_mae: 2887.9062 - 63ms/epoch - 21ms/step\n",
            "Epoch 283/350\n",
            "3/3 - 0s - loss: 7852338.0000 - mae: 2145.5818 - val_loss: 13182544.0000 - val_mae: 2750.0723 - 68ms/epoch - 23ms/step\n",
            "Epoch 284/350\n",
            "3/3 - 0s - loss: 7681931.5000 - mae: 2109.8599 - val_loss: 12950340.0000 - val_mae: 2750.0540 - 64ms/epoch - 21ms/step\n",
            "Epoch 285/350\n",
            "3/3 - 0s - loss: 8294353.5000 - mae: 2161.3625 - val_loss: 12887549.0000 - val_mae: 2753.7646 - 58ms/epoch - 19ms/step\n",
            "Epoch 286/350\n",
            "3/3 - 0s - loss: 8624658.0000 - mae: 2228.9006 - val_loss: 13727836.0000 - val_mae: 2903.5984 - 61ms/epoch - 20ms/step\n",
            "Epoch 287/350\n",
            "3/3 - 0s - loss: 7904306.0000 - mae: 2178.1479 - val_loss: 13643508.0000 - val_mae: 2864.3516 - 63ms/epoch - 21ms/step\n",
            "Epoch 288/350\n",
            "3/3 - 0s - loss: 7950573.5000 - mae: 2218.2239 - val_loss: 14185808.0000 - val_mae: 3020.3430 - 62ms/epoch - 21ms/step\n",
            "Epoch 289/350\n",
            "3/3 - 0s - loss: 8118916.0000 - mae: 2148.6934 - val_loss: 13114323.0000 - val_mae: 2795.7461 - 60ms/epoch - 20ms/step\n",
            "Epoch 290/350\n",
            "3/3 - 0s - loss: 7449417.0000 - mae: 2058.0286 - val_loss: 12803144.0000 - val_mae: 2769.2229 - 56ms/epoch - 19ms/step\n",
            "Epoch 291/350\n",
            "3/3 - 0s - loss: 7450485.5000 - mae: 2086.5569 - val_loss: 13096292.0000 - val_mae: 2803.4421 - 72ms/epoch - 24ms/step\n",
            "Epoch 292/350\n",
            "3/3 - 0s - loss: 7436298.0000 - mae: 2024.8561 - val_loss: 13631048.0000 - val_mae: 2867.2852 - 62ms/epoch - 21ms/step\n",
            "Epoch 293/350\n",
            "3/3 - 0s - loss: 7514570.0000 - mae: 2108.5581 - val_loss: 13416243.0000 - val_mae: 2724.9377 - 62ms/epoch - 21ms/step\n",
            "Epoch 294/350\n",
            "3/3 - 0s - loss: 8436595.0000 - mae: 2240.4192 - val_loss: 12763411.0000 - val_mae: 3187.6853 - 62ms/epoch - 21ms/step\n",
            "Epoch 295/350\n",
            "3/3 - 0s - loss: 7171215.0000 - mae: 2097.3577 - val_loss: 16294753.0000 - val_mae: 3183.3264 - 63ms/epoch - 21ms/step\n",
            "Epoch 296/350\n",
            "3/3 - 0s - loss: 8626777.0000 - mae: 2355.4377 - val_loss: 14647324.0000 - val_mae: 3214.3020 - 54ms/epoch - 18ms/step\n",
            "Epoch 297/350\n",
            "3/3 - 0s - loss: 8915394.0000 - mae: 2268.3372 - val_loss: 13537448.0000 - val_mae: 3003.9856 - 63ms/epoch - 21ms/step\n",
            "Epoch 298/350\n",
            "3/3 - 0s - loss: 9153232.0000 - mae: 2383.4875 - val_loss: 13313381.0000 - val_mae: 2932.0955 - 63ms/epoch - 21ms/step\n",
            "Epoch 299/350\n",
            "3/3 - 0s - loss: 7863559.0000 - mae: 2198.9026 - val_loss: 15286040.0000 - val_mae: 3329.2590 - 59ms/epoch - 20ms/step\n",
            "Epoch 300/350\n",
            "3/3 - 0s - loss: 8455023.0000 - mae: 2267.2854 - val_loss: 12482360.0000 - val_mae: 2792.0400 - 59ms/epoch - 20ms/step\n",
            "Epoch 301/350\n",
            "3/3 - 0s - loss: 8019243.5000 - mae: 2247.1506 - val_loss: 12409737.0000 - val_mae: 2985.1545 - 70ms/epoch - 23ms/step\n",
            "Epoch 302/350\n",
            "3/3 - 0s - loss: 7168422.5000 - mae: 2109.2451 - val_loss: 11985309.0000 - val_mae: 2781.3779 - 71ms/epoch - 24ms/step\n",
            "Epoch 303/350\n",
            "3/3 - 0s - loss: 7292372.5000 - mae: 2109.7563 - val_loss: 12654949.0000 - val_mae: 3032.6072 - 65ms/epoch - 22ms/step\n",
            "Epoch 304/350\n",
            "3/3 - 0s - loss: 7184872.0000 - mae: 2038.2328 - val_loss: 11964195.0000 - val_mae: 2775.5320 - 58ms/epoch - 19ms/step\n",
            "Epoch 305/350\n",
            "3/3 - 0s - loss: 7256000.5000 - mae: 2095.5408 - val_loss: 12225679.0000 - val_mae: 2913.7771 - 61ms/epoch - 20ms/step\n",
            "Epoch 306/350\n",
            "3/3 - 0s - loss: 7335378.5000 - mae: 2064.5037 - val_loss: 12143408.0000 - val_mae: 2895.3870 - 69ms/epoch - 23ms/step\n",
            "Epoch 307/350\n",
            "3/3 - 0s - loss: 7230313.5000 - mae: 2106.1089 - val_loss: 11914099.0000 - val_mae: 2739.4104 - 60ms/epoch - 20ms/step\n",
            "Epoch 308/350\n",
            "3/3 - 0s - loss: 6928409.5000 - mae: 2038.9860 - val_loss: 12921107.0000 - val_mae: 3070.2634 - 62ms/epoch - 21ms/step\n",
            "Epoch 309/350\n",
            "3/3 - 0s - loss: 7274482.0000 - mae: 2062.7798 - val_loss: 11672364.0000 - val_mae: 2692.7185 - 66ms/epoch - 22ms/step\n",
            "Epoch 310/350\n",
            "3/3 - 0s - loss: 8009572.0000 - mae: 2251.4202 - val_loss: 11623216.0000 - val_mae: 2808.2766 - 62ms/epoch - 21ms/step\n",
            "Epoch 311/350\n",
            "3/3 - 0s - loss: 7622970.5000 - mae: 2098.7698 - val_loss: 12721853.0000 - val_mae: 3050.7468 - 62ms/epoch - 21ms/step\n",
            "Epoch 312/350\n",
            "3/3 - 0s - loss: 8148279.0000 - mae: 2180.9866 - val_loss: 11986649.0000 - val_mae: 2683.9045 - 98ms/epoch - 33ms/step\n",
            "Epoch 313/350\n",
            "3/3 - 0s - loss: 7164113.5000 - mae: 2090.6167 - val_loss: 13575936.0000 - val_mae: 3141.9531 - 209ms/epoch - 70ms/step\n",
            "Epoch 314/350\n",
            "3/3 - 0s - loss: 7094102.5000 - mae: 2086.2063 - val_loss: 12373445.0000 - val_mae: 2740.1914 - 103ms/epoch - 34ms/step\n",
            "Epoch 315/350\n",
            "3/3 - 0s - loss: 7404783.0000 - mae: 2138.1646 - val_loss: 11831997.0000 - val_mae: 2867.8557 - 119ms/epoch - 40ms/step\n",
            "Epoch 316/350\n",
            "3/3 - 0s - loss: 6674947.5000 - mae: 1958.8719 - val_loss: 11541627.0000 - val_mae: 2674.1653 - 181ms/epoch - 60ms/step\n",
            "Epoch 317/350\n",
            "3/3 - 0s - loss: 6731269.0000 - mae: 1981.9843 - val_loss: 11438637.0000 - val_mae: 2754.7732 - 122ms/epoch - 41ms/step\n",
            "Epoch 318/350\n",
            "3/3 - 0s - loss: 6699942.0000 - mae: 1975.0278 - val_loss: 11284197.0000 - val_mae: 2763.1729 - 116ms/epoch - 39ms/step\n",
            "Epoch 319/350\n",
            "3/3 - 0s - loss: 6702382.5000 - mae: 1965.0093 - val_loss: 11219220.0000 - val_mae: 2689.2510 - 64ms/epoch - 21ms/step\n",
            "Epoch 320/350\n",
            "3/3 - 0s - loss: 6838154.0000 - mae: 1986.3529 - val_loss: 11361867.0000 - val_mae: 2624.5193 - 68ms/epoch - 23ms/step\n",
            "Epoch 321/350\n",
            "3/3 - 0s - loss: 7204565.0000 - mae: 2114.5479 - val_loss: 11318405.0000 - val_mae: 2786.1260 - 58ms/epoch - 19ms/step\n",
            "Epoch 322/350\n",
            "3/3 - 0s - loss: 7162402.0000 - mae: 2064.7358 - val_loss: 11176947.0000 - val_mae: 2720.4070 - 61ms/epoch - 20ms/step\n",
            "Epoch 323/350\n",
            "3/3 - 0s - loss: 6860399.0000 - mae: 2044.7191 - val_loss: 11335473.0000 - val_mae: 2616.7556 - 71ms/epoch - 24ms/step\n",
            "Epoch 324/350\n",
            "3/3 - 0s - loss: 6827142.5000 - mae: 2050.4968 - val_loss: 11963239.0000 - val_mae: 2940.7432 - 64ms/epoch - 21ms/step\n",
            "Epoch 325/350\n",
            "3/3 - 0s - loss: 6855453.5000 - mae: 1961.6372 - val_loss: 11704987.0000 - val_mae: 2672.7449 - 61ms/epoch - 20ms/step\n",
            "Epoch 326/350\n",
            "3/3 - 0s - loss: 7288592.0000 - mae: 2041.3855 - val_loss: 11617504.0000 - val_mae: 2880.0713 - 65ms/epoch - 22ms/step\n",
            "Epoch 327/350\n",
            "3/3 - 0s - loss: 7308028.0000 - mae: 2068.4927 - val_loss: 11338939.0000 - val_mae: 2631.1238 - 68ms/epoch - 23ms/step\n",
            "Epoch 328/350\n",
            "3/3 - 0s - loss: 7951220.0000 - mae: 2161.6807 - val_loss: 11123709.0000 - val_mae: 2786.2734 - 70ms/epoch - 23ms/step\n",
            "Epoch 329/350\n",
            "3/3 - 0s - loss: 7281102.0000 - mae: 2095.5879 - val_loss: 11572843.0000 - val_mae: 2643.0437 - 62ms/epoch - 21ms/step\n",
            "Epoch 330/350\n",
            "3/3 - 0s - loss: 6485850.0000 - mae: 1981.3092 - val_loss: 13008201.0000 - val_mae: 3062.2832 - 64ms/epoch - 21ms/step\n",
            "Epoch 331/350\n",
            "3/3 - 0s - loss: 7115524.0000 - mae: 2052.9956 - val_loss: 11827965.0000 - val_mae: 2680.6995 - 70ms/epoch - 23ms/step\n",
            "Epoch 332/350\n",
            "3/3 - 0s - loss: 6781729.0000 - mae: 2077.0535 - val_loss: 11357037.0000 - val_mae: 2834.0090 - 57ms/epoch - 19ms/step\n",
            "Epoch 333/350\n",
            "3/3 - 0s - loss: 7251377.0000 - mae: 2001.7754 - val_loss: 10989317.0000 - val_mae: 2590.6624 - 63ms/epoch - 21ms/step\n",
            "Epoch 334/350\n",
            "3/3 - 0s - loss: 7259496.0000 - mae: 2162.0581 - val_loss: 11614952.0000 - val_mae: 2676.1355 - 63ms/epoch - 21ms/step\n",
            "Epoch 335/350\n",
            "3/3 - 0s - loss: 7837825.5000 - mae: 2142.2583 - val_loss: 12317704.0000 - val_mae: 2970.1721 - 62ms/epoch - 21ms/step\n",
            "Epoch 336/350\n",
            "3/3 - 0s - loss: 6947768.5000 - mae: 2057.6931 - val_loss: 13810060.0000 - val_mae: 2928.6218 - 52ms/epoch - 17ms/step\n",
            "Epoch 337/350\n",
            "3/3 - 0s - loss: 7431479.0000 - mae: 2080.1614 - val_loss: 12440728.0000 - val_mae: 2984.3362 - 58ms/epoch - 19ms/step\n",
            "Epoch 338/350\n",
            "3/3 - 0s - loss: 6897405.0000 - mae: 2001.0916 - val_loss: 11661117.0000 - val_mae: 2671.9558 - 62ms/epoch - 21ms/step\n",
            "Epoch 339/350\n",
            "3/3 - 0s - loss: 6851097.5000 - mae: 2072.2878 - val_loss: 10909560.0000 - val_mae: 2725.1287 - 61ms/epoch - 20ms/step\n",
            "Epoch 340/350\n",
            "3/3 - 0s - loss: 6622515.5000 - mae: 1963.8922 - val_loss: 10797821.0000 - val_mae: 2626.4707 - 58ms/epoch - 19ms/step\n",
            "Epoch 341/350\n",
            "3/3 - 0s - loss: 6203615.5000 - mae: 1883.7009 - val_loss: 10778547.0000 - val_mae: 2614.9075 - 56ms/epoch - 19ms/step\n",
            "Epoch 342/350\n",
            "3/3 - 0s - loss: 6016212.5000 - mae: 1870.9440 - val_loss: 10975676.0000 - val_mae: 2599.0090 - 69ms/epoch - 23ms/step\n",
            "Epoch 343/350\n",
            "3/3 - 0s - loss: 6296595.5000 - mae: 1956.4075 - val_loss: 10657021.0000 - val_mae: 2609.0398 - 65ms/epoch - 22ms/step\n",
            "Epoch 344/350\n",
            "3/3 - 0s - loss: 6478964.0000 - mae: 1924.3627 - val_loss: 10662592.0000 - val_mae: 2567.3660 - 66ms/epoch - 22ms/step\n",
            "Epoch 345/350\n",
            "3/3 - 0s - loss: 5959583.5000 - mae: 1872.4110 - val_loss: 11238813.0000 - val_mae: 2654.0276 - 61ms/epoch - 20ms/step\n",
            "Epoch 346/350\n",
            "3/3 - 0s - loss: 6123760.5000 - mae: 1912.9553 - val_loss: 10662634.0000 - val_mae: 2582.3584 - 61ms/epoch - 20ms/step\n",
            "Epoch 347/350\n",
            "3/3 - 0s - loss: 6015084.5000 - mae: 1870.9619 - val_loss: 10702779.0000 - val_mae: 2568.2451 - 61ms/epoch - 20ms/step\n",
            "Epoch 348/350\n",
            "3/3 - 0s - loss: 5924419.5000 - mae: 1855.2162 - val_loss: 10610437.0000 - val_mae: 2573.1045 - 66ms/epoch - 22ms/step\n",
            "Epoch 349/350\n",
            "3/3 - 0s - loss: 6463881.0000 - mae: 1997.9678 - val_loss: 10592518.0000 - val_mae: 2587.8293 - 66ms/epoch - 22ms/step\n",
            "Epoch 350/350\n",
            "3/3 - 0s - loss: 5951045.5000 - mae: 1849.9967 - val_loss: 11124113.0000 - val_mae: 2768.3103 - 58ms/epoch - 19ms/step\n"
          ]
        },
        {
          "output_type": "execute_result",
          "data": {
            "text/plain": [
              "<keras.src.callbacks.History at 0x7a4fa0ff7eb0>"
            ]
          },
          "metadata": {},
          "execution_count": 45
        }
      ]
    },
    {
      "cell_type": "code",
      "metadata": {
        "colab": {
          "base_uri": "https://localhost:8080/"
        },
        "id": "8h_vWxcrROuZ",
        "outputId": "0a263fab-a3f3-442b-c0a5-acf24729af09"
      },
      "source": [
        "# evalua el modelo\n",
        "mse, mae = model.evaluate(X_test, y_test, verbose=0)\n",
        "print('MSE: %.3f, RMSE: %.3f, MAE: %.3f' % (mse, np.sqrt(mse), mae)) # mientras mas cercano a 0 mejor\n"
      ],
      "execution_count": null,
      "outputs": [
        {
          "output_type": "stream",
          "name": "stdout",
          "text": [
            "MSE: 11124113.000, RMSE: 3335.283, MAE: 2768.310\n"
          ]
        }
      ]
    },
    {
      "cell_type": "code",
      "metadata": {
        "colab": {
          "base_uri": "https://localhost:8080/"
        },
        "id": "m0eTPb6WFTcv",
        "outputId": "779b1c79-5ec2-43f8-94fd-ac7aaef450fa"
      },
      "source": [
        "# realiza una predicción\n",
        "row = np.asarray([18024.0, 16722.0, 14385.0, 21342.0, 17180.0]).reshape((1, n_steps, 1))\n",
        "yhat = model.predict(row)\n",
        "print('Predicho: %.3f' % (yhat))"
      ],
      "execution_count": null,
      "outputs": [
        {
          "output_type": "stream",
          "name": "stdout",
          "text": [
            "1/1 [==============================] - 0s 170ms/step\n",
            "Predicho: 15476.346\n"
          ]
        }
      ]
    },
    {
      "cell_type": "markdown",
      "metadata": {
        "id": "ChiaPV4BRZ43"
      },
      "source": [
        "El modelo obtuvo un MAE de 2,768 y predijo el valor siguiente de las secuencia como 15476, el valor esperado era 14,577."
      ]
    },
    {
      "cell_type": "markdown",
      "metadata": {
        "id": "QsC85JcixRjx"
      },
      "source": [
        "##**Mejoras a los Modelos**"
      ]
    },
    {
      "cell_type": "markdown",
      "metadata": {
        "id": "UhgU01Tzxo6N"
      },
      "source": [
        "*Learning Curves*"
      ]
    },
    {
      "cell_type": "code",
      "metadata": {
        "colab": {
          "base_uri": "https://localhost:8080/",
          "height": 472
        },
        "id": "Af42N0dUxUDU",
        "outputId": "872f6510-6715-4e56-ec0d-34c457e0d159"
      },
      "source": [
        "# ejemplo de visualización de curvas de aprendizaje\n",
        "from sklearn.datasets import make_classification\n",
        "from tensorflow.keras.optimizers import SGD\n",
        "from matplotlib import pyplot\n",
        "\n",
        "# creación de dataset\n",
        "X, y = make_classification(n_samples=1000, n_classes=2, random_state=1)\n",
        "# número de caracteristicas de entrada\n",
        "n_features = X.shape[1]\n",
        "# definición del modelo\n",
        "model = Sequential()\n",
        "model.add(Dense(10, activation='relu', kernel_initializer='he_normal', input_shape=(n_features,)))\n",
        "model.add(Dense(1, activation='sigmoid'))\n",
        "# compilar el modelo\n",
        "sgd = SGD(learning_rate=0.001, momentum=0.8)\n",
        "model.compile(optimizer=sgd, loss='binary_crossentropy')\n",
        "# aprendizaje\n",
        "history = model.fit(X, y, epochs=100, batch_size=32, verbose=0, validation_split=0.3)\n",
        "# plot curvas de aprendizaje\n",
        "pyplot.title('Learning Curves')\n",
        "pyplot.xlabel('Epoch')\n",
        "pyplot.ylabel('Cross Entropy')\n",
        "pyplot.plot(history.history['loss'], label='train')\n",
        "pyplot.plot(history.history['val_loss'], label='val')\n",
        "pyplot.legend()\n",
        "pyplot.show()"
      ],
      "execution_count": null,
      "outputs": [
        {
          "output_type": "display_data",
          "data": {
            "text/plain": [
              "<Figure size 640x480 with 1 Axes>"
            ],
            "image/png": "[encoded data removed]"
          },
          "metadata": {}
        }
      ]
    },
    {
      "cell_type": "markdown",
      "metadata": {
        "id": "DDdoCPfByI_m"
      },
      "source": [
        "*Guardar y cargar un modelo*"
      ]
    },
    {
      "cell_type": "code",
      "metadata": {
        "colab": {
          "base_uri": "https://localhost:8080/"
        },
        "id": "yl9r8O1lyNyM",
        "outputId": "67f5af9b-3d9c-43c1-d79d-2e374093ff37"
      },
      "source": [
        "!pip install h5py"
      ],
      "execution_count": null,
      "outputs": [
        {
          "output_type": "stream",
          "name": "stdout",
          "text": [
            "Requirement already satisfied: h5py in /usr/local/lib/python3.10/dist-packages (3.9.0)\n",
            "Requirement already satisfied: numpy>=1.17.3 in /usr/local/lib/python3.10/dist-packages (from h5py) (1.23.5)\n"
          ]
        }
      ]
    },
    {
      "cell_type": "code",
      "source": [
        "#from google.colab import drive\n",
        "#drive.mount('/content/drive')\n",
        "\n",
        "#url =\"/content/drive/My Drive/Colab Notebooks/MaestriaCienciaDatosV1/IntroCienciaDatos/SesionIII/\"\n",
        "#url =\"/content/drive/My Drive/Colab Notebooks/\""
      ],
      "metadata": {
        "id": "dh32XZIwzltz"
      },
      "execution_count": null,
      "outputs": []
    },
    {
      "cell_type": "code",
      "metadata": {
        "id": "cAE7OKiTyJ3I",
        "colab": {
          "base_uri": "https://localhost:8080/"
        },
        "outputId": "94293510-4a69-4098-fea2-a0edd224b958"
      },
      "source": [
        "# ejemplo de grabar modelo entrenado\n",
        "\n",
        "# el dataset\n",
        "X, y = make_classification(n_samples=1000, n_features=4, n_classes=2, random_state=1)\n",
        "# número de características entrada\n",
        "n_features = X.shape[1]\n",
        "# definición modelo\n",
        "model = Sequential()\n",
        "model.add(Dense(10, activation='relu', kernel_initializer='he_normal', input_shape=(n_features,)))\n",
        "model.add(Dense(1, activation='sigmoid'))\n",
        "# compila el modelo\n",
        "sgd = SGD(learning_rate=0.001, momentum=0.8)\n",
        "model.compile(optimizer=sgd, loss='binary_crossentropy')\n",
        "# aprendizaje\n",
        "model.fit(X, y, epochs=100, batch_size=32, verbose=0, validation_split=0.3)\n",
        "# Graba archivo\n",
        "model.save('model.h5')"
      ],
      "execution_count": null,
      "outputs": [
        {
          "output_type": "stream",
          "name": "stderr",
          "text": [
            "/usr/local/lib/python3.10/dist-packages/keras/src/engine/training.py:3079: UserWarning: You are saving your model as an HDF5 file via `model.save()`. This file format is considered legacy. We recommend using instead the native Keras format, e.g. `model.save('my_model.keras')`.\n",
            "  saving_api.save_model(\n"
          ]
        }
      ]
    },
    {
      "cell_type": "code",
      "metadata": {
        "colab": {
          "base_uri": "https://localhost:8080/"
        },
        "id": "WJ_NVng0yhTQ",
        "outputId": "6c5fb098-7a56-4b71-e533-6831a8d2bdfd"
      },
      "source": [
        "# ejemplo carga modelo grabado\n",
        "from tensorflow.keras.models import load_model\n",
        "# crea dataset\n",
        "X, y = make_classification(n_samples=1000, n_features=4, n_classes=2, random_state=1)\n",
        "# cargar modelo de archivo\n",
        "model = load_model('model.h5')\n",
        "# hacer predicción\n",
        "row = [1.91518414, 1.14995454, -1.52847073, 0.79430654]\n",
        "yhat = model.predict([row])\n",
        "print('Predicho: %.3f' % yhat[0])"
      ],
      "execution_count": null,
      "outputs": [
        {
          "output_type": "stream",
          "name": "stdout",
          "text": [
            "1/1 [==============================] - 0s 55ms/step\n",
            "Predicho: 0.863\n"
          ]
        }
      ]
    },
    {
      "cell_type": "markdown",
      "metadata": {
        "id": "_NpIFEJqyoy5"
      },
      "source": [
        "*Reducir Overfitting con Dropout*"
      ]
    },
    {
      "cell_type": "code",
      "metadata": {
        "colab": {
          "base_uri": "https://localhost:8080/"
        },
        "id": "xsXaqrzxyrQL",
        "outputId": "36513f6c-0c9c-4040-f943-4e1ac7b54e75"
      },
      "source": [
        "# Ejemplo de uso dropout\n",
        "\n",
        "# crear dataset\n",
        "X, y = make_classification(n_samples=1000, n_classes=2, random_state=1)\n",
        "# número caracterisiticas entrada\n",
        "n_features = X.shape[1]\n",
        "# define el  modelo\n",
        "model = Sequential()\n",
        "model.add(Dense(10, activation='relu', kernel_initializer='he_normal', input_shape=(n_features,)))\n",
        "model.add(Dropout(0.2)) #reduce overfitting\n",
        "model.add(Dense(1, activation='sigmoid'))\n",
        "# compilar el modelo\n",
        "model.compile(optimizer='adam', loss='binary_crossentropy')\n",
        "# aprendizaje\n",
        "model.fit(X, y, epochs=100, batch_size=32, verbose=0)"
      ],
      "execution_count": null,
      "outputs": [
        {
          "output_type": "execute_result",
          "data": {
            "text/plain": [
              "<keras.src.callbacks.History at 0x7a4fa1222ef0>"
            ]
          },
          "metadata": {},
          "execution_count": 53
        }
      ]
    },
    {
      "cell_type": "markdown",
      "metadata": {
        "id": "aphFvIYXzC73"
      },
      "source": [
        "*Acelar entrenamiento con Batch Normalization*"
      ]
    },
    {
      "cell_type": "code",
      "metadata": {
        "colab": {
          "base_uri": "https://localhost:8080/"
        },
        "id": "DNnuiLPizELB",
        "outputId": "5ad50b96-4fae-457d-a9ee-40832a340cda"
      },
      "source": [
        "# batch normalization\n",
        "from tensorflow.keras.layers import BatchNormalization\n",
        "\n",
        "# crea el dataset\n",
        "X, y = make_classification(n_samples=1000, n_classes=2, random_state=1)\n",
        "# número de características\n",
        "n_features = X.shape[1]\n",
        "# define modelo\n",
        "model = Sequential()\n",
        "model.add(Dense(10, activation='relu', kernel_initializer='he_normal', input_shape=(n_features,)))\n",
        "model.add(BatchNormalization()) # realiza normalización de los datos que estan en el batch\n",
        "model.add(Dense(1, activation='sigmoid'))\n",
        "# compila el modelo\n",
        "model.compile(optimizer='adam', loss='binary_crossentropy')\n",
        "# aprendizaje\n",
        "model.fit(X, y, epochs=100, batch_size=32, verbose=0)"
      ],
      "execution_count": null,
      "outputs": [
        {
          "output_type": "execute_result",
          "data": {
            "text/plain": [
              "<keras.src.callbacks.History at 0x7a4fa1fa0f40>"
            ]
          },
          "metadata": {},
          "execution_count": 54
        }
      ]
    },
    {
      "cell_type": "markdown",
      "metadata": {
        "id": "r6zi2SXPzSdT"
      },
      "source": [
        "*Para el entrenamiento con Early Stopping*\n",
        "\n",
        "- Poco entrenamiento provoca underfit; mucho entrenamiento provoca  overfitting. En ambos casos el resultado es un modelo menos efectivo.\n",
        "\n",
        "- Early stopping implica monitorear la perdida de un dataset de entrenamiento y dataset de validación (subconjunto de datos no usado para entrenar). Conforme el conjunto de validación comienza a mostrar señales de overfitting, todo el entrenamiento se detiene."
      ]
    },
    {
      "cell_type": "code",
      "metadata": {
        "id": "Vi_UVwPazToj",
        "colab": {
          "base_uri": "https://localhost:8080/"
        },
        "outputId": "af4fc7fc-0582-4548-a3a7-f16fc4080c7c"
      },
      "source": [
        "# early stopping\n",
        "from tensorflow.keras.callbacks import EarlyStopping\n",
        "\n",
        "\n",
        "# crea el dataset\n",
        "X, y = make_classification(n_samples=1000, n_classes=2, random_state=1)\n",
        "#  numero de características\n",
        "n_features = X.shape[1]\n",
        "# define modelo\n",
        "model = Sequential()\n",
        "model.add(Dense(10, activation='relu', kernel_initializer='he_normal', input_shape=(n_features,)))\n",
        "model.add(Dense(1, activation='sigmoid'))\n",
        "# compila el modelo\n",
        "model.compile(optimizer='adam', loss='binary_crossentropy')\n",
        "# configura early stopping\n",
        "es = EarlyStopping(monitor='val_loss', patience=5) #patience: número de epocas sin mejoras hasta que el entrenamiento es parado\n",
        "# aprendizaje\n",
        "history = model.fit(X, y, epochs=200, batch_size=32, verbose=2, validation_split=0.3, callbacks=[es])"
      ],
      "execution_count": null,
      "outputs": [
        {
          "output_type": "stream",
          "name": "stdout",
          "text": [
            "Epoch 1/200\n",
            "22/22 - 1s - loss: 0.7690 - val_loss: 0.7329 - 852ms/epoch - 39ms/step\n",
            "Epoch 2/200\n",
            "22/22 - 0s - loss: 0.6898 - val_loss: 0.6737 - 106ms/epoch - 5ms/step\n",
            "Epoch 3/200\n",
            "22/22 - 0s - loss: 0.6308 - val_loss: 0.6328 - 100ms/epoch - 5ms/step\n",
            "Epoch 4/200\n",
            "22/22 - 0s - loss: 0.5837 - val_loss: 0.6002 - 100ms/epoch - 5ms/step\n",
            "Epoch 5/200\n",
            "22/22 - 0s - loss: 0.5476 - val_loss: 0.5744 - 103ms/epoch - 5ms/step\n",
            "Epoch 6/200\n",
            "22/22 - 0s - loss: 0.5177 - val_loss: 0.5529 - 96ms/epoch - 4ms/step\n",
            "Epoch 7/200\n",
            "22/22 - 0s - loss: 0.4941 - val_loss: 0.5350 - 98ms/epoch - 4ms/step\n",
            "Epoch 8/200\n",
            "22/22 - 0s - loss: 0.4722 - val_loss: 0.5197 - 99ms/epoch - 4ms/step\n",
            "Epoch 9/200\n",
            "22/22 - 0s - loss: 0.4550 - val_loss: 0.5064 - 105ms/epoch - 5ms/step\n",
            "Epoch 10/200\n",
            "22/22 - 0s - loss: 0.4397 - val_loss: 0.4954 - 94ms/epoch - 4ms/step\n",
            "Epoch 11/200\n",
            "22/22 - 0s - loss: 0.4262 - val_loss: 0.4855 - 98ms/epoch - 4ms/step\n",
            "Epoch 12/200\n",
            "22/22 - 0s - loss: 0.4146 - val_loss: 0.4771 - 100ms/epoch - 5ms/step\n",
            "Epoch 13/200\n",
            "22/22 - 0s - loss: 0.4040 - val_loss: 0.4700 - 94ms/epoch - 4ms/step\n",
            "Epoch 14/200\n",
            "22/22 - 0s - loss: 0.3953 - val_loss: 0.4625 - 93ms/epoch - 4ms/step\n",
            "Epoch 15/200\n",
            "22/22 - 0s - loss: 0.3869 - val_loss: 0.4577 - 149ms/epoch - 7ms/step\n",
            "Epoch 16/200\n",
            "22/22 - 0s - loss: 0.3798 - val_loss: 0.4529 - 139ms/epoch - 6ms/step\n",
            "Epoch 17/200\n",
            "22/22 - 0s - loss: 0.3735 - val_loss: 0.4480 - 144ms/epoch - 7ms/step\n",
            "Epoch 18/200\n",
            "22/22 - 0s - loss: 0.3674 - val_loss: 0.4443 - 129ms/epoch - 6ms/step\n",
            "Epoch 19/200\n",
            "22/22 - 0s - loss: 0.3621 - val_loss: 0.4402 - 171ms/epoch - 8ms/step\n",
            "Epoch 20/200\n",
            "22/22 - 0s - loss: 0.3572 - val_loss: 0.4378 - 144ms/epoch - 7ms/step\n",
            "Epoch 21/200\n",
            "22/22 - 0s - loss: 0.3525 - val_loss: 0.4347 - 146ms/epoch - 7ms/step\n",
            "Epoch 22/200\n",
            "22/22 - 0s - loss: 0.3485 - val_loss: 0.4316 - 152ms/epoch - 7ms/step\n",
            "Epoch 23/200\n",
            "22/22 - 0s - loss: 0.3440 - val_loss: 0.4302 - 133ms/epoch - 6ms/step\n",
            "Epoch 24/200\n",
            "22/22 - 0s - loss: 0.3404 - val_loss: 0.4274 - 175ms/epoch - 8ms/step\n",
            "Epoch 25/200\n",
            "22/22 - 0s - loss: 0.3373 - val_loss: 0.4266 - 138ms/epoch - 6ms/step\n",
            "Epoch 26/200\n",
            "22/22 - 0s - loss: 0.3338 - val_loss: 0.4247 - 167ms/epoch - 8ms/step\n",
            "Epoch 27/200\n",
            "22/22 - 0s - loss: 0.3308 - val_loss: 0.4238 - 138ms/epoch - 6ms/step\n",
            "Epoch 28/200\n",
            "22/22 - 0s - loss: 0.3281 - val_loss: 0.4232 - 154ms/epoch - 7ms/step\n",
            "Epoch 29/200\n",
            "22/22 - 0s - loss: 0.3256 - val_loss: 0.4229 - 170ms/epoch - 8ms/step\n",
            "Epoch 30/200\n",
            "22/22 - 0s - loss: 0.3231 - val_loss: 0.4201 - 105ms/epoch - 5ms/step\n",
            "Epoch 31/200\n",
            "22/22 - 0s - loss: 0.3210 - val_loss: 0.4203 - 98ms/epoch - 4ms/step\n",
            "Epoch 32/200\n",
            "22/22 - 0s - loss: 0.3185 - val_loss: 0.4201 - 100ms/epoch - 5ms/step\n",
            "Epoch 33/200\n",
            "22/22 - 0s - loss: 0.3165 - val_loss: 0.4196 - 95ms/epoch - 4ms/step\n",
            "Epoch 34/200\n",
            "22/22 - 0s - loss: 0.3144 - val_loss: 0.4195 - 100ms/epoch - 5ms/step\n",
            "Epoch 35/200\n",
            "22/22 - 0s - loss: 0.3127 - val_loss: 0.4196 - 108ms/epoch - 5ms/step\n",
            "Epoch 36/200\n",
            "22/22 - 0s - loss: 0.3107 - val_loss: 0.4191 - 102ms/epoch - 5ms/step\n",
            "Epoch 37/200\n",
            "22/22 - 0s - loss: 0.3091 - val_loss: 0.4187 - 110ms/epoch - 5ms/step\n",
            "Epoch 38/200\n",
            "22/22 - 0s - loss: 0.3070 - val_loss: 0.4182 - 96ms/epoch - 4ms/step\n",
            "Epoch 39/200\n",
            "22/22 - 0s - loss: 0.3057 - val_loss: 0.4180 - 100ms/epoch - 5ms/step\n",
            "Epoch 40/200\n",
            "22/22 - 0s - loss: 0.3043 - val_loss: 0.4179 - 98ms/epoch - 4ms/step\n",
            "Epoch 41/200\n",
            "22/22 - 0s - loss: 0.3023 - val_loss: 0.4186 - 99ms/epoch - 4ms/step\n",
            "Epoch 42/200\n",
            "22/22 - 0s - loss: 0.3009 - val_loss: 0.4180 - 95ms/epoch - 4ms/step\n",
            "Epoch 43/200\n",
            "22/22 - 0s - loss: 0.2994 - val_loss: 0.4177 - 95ms/epoch - 4ms/step\n",
            "Epoch 44/200\n",
            "22/22 - 0s - loss: 0.2982 - val_loss: 0.4185 - 100ms/epoch - 5ms/step\n",
            "Epoch 45/200\n",
            "22/22 - 0s - loss: 0.2967 - val_loss: 0.4183 - 101ms/epoch - 5ms/step\n",
            "Epoch 46/200\n",
            "22/22 - 0s - loss: 0.2953 - val_loss: 0.4183 - 112ms/epoch - 5ms/step\n",
            "Epoch 47/200\n",
            "22/22 - 0s - loss: 0.2943 - val_loss: 0.4185 - 105ms/epoch - 5ms/step\n",
            "Epoch 48/200\n",
            "22/22 - 0s - loss: 0.2929 - val_loss: 0.4187 - 95ms/epoch - 4ms/step\n"
          ]
        }
      ]
    }
  ]
}
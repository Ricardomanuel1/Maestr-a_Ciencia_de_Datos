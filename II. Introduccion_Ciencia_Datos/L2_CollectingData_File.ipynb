{
  "nbformat": 4,
  "nbformat_minor": 0,
  "metadata": {
    "colab": {
      "provenance": [],
      "include_colab_link": true
    },
    "kernelspec": {
      "name": "python3",
      "display_name": "Python 3"
    },
    "language_info": {
      "name": "python"
    }
  },
  "cells": [
    {
      "cell_type": "markdown",
      "metadata": {
        "id": "view-in-github",
        "colab_type": "text"
      },
      "source": [
        "<a href=\"https://colab.research.google.com/github/Ricardomanuel1/Maestria_Ciencia_de_Datos/blob/main/II.%20Introduccion_Ciencia_Datos/L2_CollectingData_File.ipynb\" target=\"_parent\"><img src=\"https://colab.research.google.com/assets/colab-badge.svg\" alt=\"Open In Colab\"/></a>"
      ]
    },
    {
      "cell_type": "markdown",
      "source": [
        "# **Load file in Google Colab (temporary)**"
      ],
      "metadata": {
        "id": "_c3iVmjaGTeZ"
      }
    },
    {
      "cell_type": "code",
      "source": [
        "import pandas as pd\n",
        "\n",
        "df_0 = pd.read_csv('...') # replace with filename path in colab\n",
        "print(df_0.head())"
      ],
      "metadata": {
        "id": "MnTLfuJlGx7u"
      },
      "execution_count": null,
      "outputs": []
    },
    {
      "cell_type": "markdown",
      "source": [
        "# **Load file from Google Drive**"
      ],
      "metadata": {
        "id": "BQk9jZOPGzqa"
      }
    },
    {
      "cell_type": "code",
      "execution_count": null,
      "metadata": {
        "id": "vShSM9fyFvJQ"
      },
      "outputs": [],
      "source": [
        "from pydrive.auth import GoogleAuth\n",
        "from pydrive.drive import GoogleDrive\n",
        "from google.colab import auth\n",
        "from oauth2client.client import GoogleCredentials"
      ]
    },
    {
      "cell_type": "code",
      "source": [
        "auth.authenticate_user()\n",
        "gauth = GoogleAuth()\n",
        "gauth.credentials = GoogleCredentials.get_application_default()\n",
        "drive = GoogleDrive(gauth)"
      ],
      "metadata": {
        "id": "KO1SnXi6GTJp"
      },
      "execution_count": null,
      "outputs": []
    },
    {
      "cell_type": "code",
      "source": [
        "downloaded = drive.CreateFile({'id':'...'}) # replace the id with id of file you want to access\n",
        "downloaded.GetContentFile('...') # replace with filename and extension"
      ],
      "metadata": {
        "id": "UdZ9fHE8Ghlh"
      },
      "execution_count": null,
      "outputs": []
    },
    {
      "cell_type": "code",
      "source": [
        "import pandas as pd\n",
        "\n",
        "df = pd.read_csv('...') # replace with filename as local\n",
        "print(df.head())"
      ],
      "metadata": {
        "id": "vDYmGGq7GtAh"
      },
      "execution_count": null,
      "outputs": []
    },
    {
      "cell_type": "markdown",
      "source": [
        "# **Our first (statistical) analysis**\n",
        "Documentation: https://pandas.pydata.org/docs/reference/api/pandas.DataFrame.html"
      ],
      "metadata": {
        "id": "Ptu-1ckNH_yJ"
      }
    },
    {
      "cell_type": "code",
      "source": [
        "df.info() # Generates the summary of the DataFrame, this will include info about columns with their names, their datatypes, and missing values."
      ],
      "metadata": {
        "id": "Vze3FxZjHT_i"
      },
      "execution_count": null,
      "outputs": []
    },
    {
      "cell_type": "code",
      "source": [
        "df.dtypes # Returns a Series with the data type of each column"
      ],
      "metadata": {
        "id": "Xdb5yX84IfbC"
      },
      "execution_count": null,
      "outputs": []
    },
    {
      "cell_type": "code",
      "source": [
        "df.shape # It returns a tuple representing the dimensionality of the Pandas DataFrame."
      ],
      "metadata": {
        "id": "Zs-0htkqIvP5"
      },
      "execution_count": null,
      "outputs": []
    },
    {
      "cell_type": "code",
      "source": [
        "df.describe() # Returns descriptive statistics about the data like mean, minimum, maximum, standard deviation, etc."
      ],
      "metadata": {
        "id": "pz49aTH0JACR"
      },
      "execution_count": null,
      "outputs": []
    },
    {
      "cell_type": "code",
      "source": [
        "df.columns # Returns column names of the dataframe"
      ],
      "metadata": {
        "id": "WIDNrr0NJPfq"
      },
      "execution_count": null,
      "outputs": []
    },
    {
      "cell_type": "code",
      "source": [
        "df.hist(bins=3) # Make a histogram of the DataFrame’s columns."
      ],
      "metadata": {
        "id": "GYPi25v8MJtZ"
      },
      "execution_count": null,
      "outputs": []
    }
  ]
}
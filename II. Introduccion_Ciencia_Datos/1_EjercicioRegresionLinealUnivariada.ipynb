{
  "nbformat": 4,
  "nbformat_minor": 0,
  "metadata": {
    "colab": {
      "provenance": [],
      "include_colab_link": true
    },
    "kernelspec": {
      "name": "python3",
      "display_name": "Python 3"
    },
    "language_info": {
      "name": "python"
    }
  },
  "cells": [
    {
      "cell_type": "markdown",
      "metadata": {
        "id": "view-in-github",
        "colab_type": "text"
      },
      "source": [
        "<a href=\"https://colab.research.google.com/github/Ricardomanuel1/Maestria_Ciencia_de_Datos/blob/main/II.%20Introduccion_Ciencia_Datos/1_EjercicioRegresionLinealUnivariada.ipynb\" target=\"_parent\"><img src=\"https://colab.research.google.com/assets/colab-badge.svg\" alt=\"Open In Colab\"/></a>"
      ]
    },
    {
      "cell_type": "markdown",
      "source": [
        "# **Ejercicio: Predictor de salarios**"
      ],
      "metadata": {
        "id": "PhEkYKYesDcA"
      }
    },
    {
      "cell_type": "markdown",
      "source": [
        "- Variable de entrada: posición o cargo\n",
        "- Regresion lineal univariada\n",
        "- Visualización"
      ],
      "metadata": {
        "id": "iWjTnf9jwuzt"
      }
    },
    {
      "cell_type": "code",
      "source": [
        "import pandas as pd\n",
        "import numpy as np\n",
        "import matplotlib.pyplot as plt\n",
        "from sklearn.linear_model import LinearRegression\n"
      ],
      "metadata": {
        "id": "iNojI0YhsL3z"
      },
      "execution_count": null,
      "outputs": []
    },
    {
      "cell_type": "markdown",
      "source": [
        "**Ejercicio:** aprender un regresor lineal, graficar la recta aprendida\n",
        "\n",
        "No separar en conjunto de entrenamiento y prueba porque son muy pocos datos"
      ],
      "metadata": {
        "id": "EmDaVLuG8WOQ"
      }
    },
    {
      "cell_type": "markdown",
      "source": [
        "**Datos**"
      ],
      "metadata": {
        "id": "XQGmoig-8QfS"
      }
    },
    {
      "cell_type": "code",
      "source": [
        "# cargar los datos\n",
        "url = \"https://raw.githubusercontent.com/eduardool/MaestriaCienciaDatos/main/datasets/Position_Salaries.csv\"\n"
      ],
      "metadata": {
        "id": "55jiaHc-8KdP"
      },
      "execution_count": null,
      "outputs": []
    }
  ]
}
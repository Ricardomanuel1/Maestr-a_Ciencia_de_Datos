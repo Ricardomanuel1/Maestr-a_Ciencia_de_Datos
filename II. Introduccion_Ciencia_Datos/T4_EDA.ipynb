{
  "nbformat": 4,
  "nbformat_minor": 0,
  "metadata": {
    "colab": {
      "provenance": [],
      "include_colab_link": true
    },
    "kernelspec": {
      "name": "python3",
      "display_name": "Python 3"
    },
    "language_info": {
      "name": "python"
    }
  },
  "cells": [
    {
      "cell_type": "markdown",
      "metadata": {
        "id": "view-in-github",
        "colab_type": "text"
      },
      "source": [
        "<a href=\"https://colab.research.google.com/github/Ricardomanuel1/Maestria_Ciencia_de_Datos/blob/main/II.%20Introduccion_Ciencia_Datos/T4_EDA.ipynb\" target=\"_parent\"><img src=\"https://colab.research.google.com/assets/colab-badge.svg\" alt=\"Open In Colab\"/></a>"
      ]
    },
    {
      "cell_type": "markdown",
      "metadata": {
        "id": "my7v38iY_rsu"
      },
      "source": [
        "# **Introduction to Data Visualization using Python (Seaborn section)**\n",
        "Full documentation in https://seaborn.pydata.org/"
      ]
    },
    {
      "cell_type": "markdown",
      "metadata": {
        "id": "8_nHpo5bhXfE"
      },
      "source": [
        "## ***A simple example***\n",
        "\n"
      ]
    },
    {
      "cell_type": "code",
      "metadata": {
        "id": "HLbWe8xfhXmz"
      },
      "source": [
        "import seaborn as sns  # We import seaborn, which is the only library necessary for this simple example.\n",
        "\n",
        "sns.set()               # We apply the default default seaborn theme, scaling, and color palette.\n",
        "\n",
        "tips = sns.load_dataset(\"tips\")    # We load one of the example datasets.\n",
        "\n",
        "# print(tips)\n",
        "# We draw a faceted scatter plot with multiple semantic variables.\n",
        "sns.relplot(x=\"total_bill\", y=\"tip\", col=\"day\",\n",
        "            hue=\"smoker\", style=\"time\", size=\"size\",\n",
        "            data=tips);"
      ],
      "execution_count": null,
      "outputs": []
    },
    {
      "cell_type": "code",
      "metadata": {
        "id": "p4XmKZDFOJcM"
      },
      "source": [
        "# We draw a faceted scatter plot with multiple semantic variables.\n",
        "sns.scatterplot(x=\"total_bill\", y=\"tip\", #col=\"time\",\n",
        "            hue=\"smoker\", style=\"smoker\", size=\"size\",\n",
        "            data=tips);"
      ],
      "execution_count": null,
      "outputs": []
    },
    {
      "cell_type": "code",
      "metadata": {
        "id": "mJeix_U9j6C8"
      },
      "source": [
        "print(tips)"
      ],
      "execution_count": null,
      "outputs": []
    },
    {
      "cell_type": "markdown",
      "metadata": {
        "id": "S1M5jDIaeUAt"
      },
      "source": [
        "##**Timeseries plot with error bands**\n"
      ]
    },
    {
      "cell_type": "code",
      "metadata": {
        "id": "PO0QaXjmeULy"
      },
      "source": [
        "import seaborn as sns\n",
        "\n",
        "sns.set(style=\"darkgrid\")\n",
        "\n",
        "# Load an example dataset with long-form data\n",
        "fmri = sns.load_dataset(\"fmri\")\n",
        "\n",
        "print(fmri)"
      ],
      "execution_count": null,
      "outputs": []
    },
    {
      "cell_type": "code",
      "metadata": {
        "id": "6sTXj4HRi5fN"
      },
      "source": [
        "# Plot the responses for different events and regions\n",
        "sns.lineplot(x=\"timepoint\", y=\"signal\",\n",
        "             hue=\"event\", style=\"event\",\n",
        "             data=fmri)"
      ],
      "execution_count": null,
      "outputs": []
    },
    {
      "cell_type": "markdown",
      "metadata": {
        "id": "__aWYFs4iIIF"
      },
      "source": [
        "##**Specialized categorical plots**"
      ]
    },
    {
      "cell_type": "code",
      "metadata": {
        "id": "lW8_kTu9iISr"
      },
      "source": [
        "import seaborn as sns\n",
        "sns.set(style=\"darkgrid\")\n",
        "\n",
        "# Load an example dataset with long-form data\n",
        "tips = sns.load_dataset(\"tips\")\n",
        "\n",
        "# scatter\n",
        "#sns.catplot(x=\"day\", y=\"total_bill\", hue=\"time\",\n",
        "#            kind=\"swarm\", data=tips);\n",
        "\n",
        "# violin\n",
        "#sns.catplot(x=\"day\", y=\"total_bill\", hue=\"time\",\n",
        "#            kind=\"violin\", split=True, data=tips);\n",
        "\n",
        "# bar\n",
        "sns.catplot(x=\"day\", y=\"total_bill\", hue=\"time\",\n",
        "            kind=\"bar\", data=tips);"
      ],
      "execution_count": null,
      "outputs": []
    },
    {
      "cell_type": "markdown",
      "metadata": {
        "id": "9P4eG2dJe2si"
      },
      "source": [
        "##**Scatterplot Matrix**"
      ]
    },
    {
      "cell_type": "code",
      "metadata": {
        "id": "uIce_AsYe21k"
      },
      "source": [
        "import seaborn as sns\n",
        "sns.set(style=\"ticks\")\n",
        "#sns.set_palette(\"Set1\", n_colors=8, desat=.5)\n",
        "\n",
        "df = sns.load_dataset(\"iris\")\n",
        "print(df)"
      ],
      "execution_count": null,
      "outputs": []
    },
    {
      "cell_type": "code",
      "metadata": {
        "id": "Ggk7Lj7ZuKrk"
      },
      "source": [
        "g = sns.pairplot(df, hue=\"species\", diag_kind=\"hist\", corner=False)\n",
        "g.map_lower(sns.scatterplot)\n",
        "g.map_upper(sns.kdeplot, levels=4, color=\".2\")"
      ],
      "execution_count": null,
      "outputs": []
    },
    {
      "cell_type": "markdown",
      "metadata": {
        "id": "AKaM0rlKfD9S"
      },
      "source": [
        "##**Grouped boxplots**"
      ]
    },
    {
      "cell_type": "code",
      "metadata": {
        "id": "JW69qzWafEI6"
      },
      "source": [
        "import matplotlib.pyplot as plt\n",
        "\n",
        "sns.set(style=\"ticks\", palette=\"pastel\")\n",
        "\n",
        "# Load the example tips dataset\n",
        "tips = sns.load_dataset(\"tips\")\n",
        "\n",
        "# Draw a nested boxplot to show bills by day and time\n",
        "sns.boxplot(x=\"time\", y=\"total_bill\",\n",
        "            hue=\"day\", palette=[\"g\", \"b\", \"r\", \"m\"],\n",
        "            data=tips)\n",
        "sns.despine(offset=10, trim=True)\n",
        "\n",
        "#place legend in upper right of plot\n",
        "plt.legend(loc='upper center')"
      ],
      "execution_count": null,
      "outputs": []
    },
    {
      "cell_type": "markdown",
      "metadata": {
        "id": "FSPkNG-lfFa8"
      },
      "source": [
        "##**Plotting a diagonal correlation matrix**"
      ]
    },
    {
      "cell_type": "code",
      "metadata": {
        "id": "jS_DtZrQfFij"
      },
      "source": [
        "from string import ascii_letters\n",
        "import numpy as np\n",
        "import pandas as pd\n",
        "import seaborn as sns\n",
        "import matplotlib.pyplot as plt\n",
        "\n",
        "sns.set(style=\"white\")\n",
        "\n",
        "# Generate a large random dataset\n",
        "rs = np.random.RandomState(33)\n",
        "d = pd.DataFrame(data=rs.normal(size=(100, 26)),\n",
        "                 columns=list(ascii_letters[26:]))\n",
        "\n",
        "# Compute the correlation matrix\n",
        "corr = d.corr()\n",
        "\n",
        "# Generate a mask for the upper triangle\n",
        "mask = np.triu(np.ones_like(corr, dtype=np.bool))\n",
        "\n",
        "# Set up the matplotlib figure\n",
        "f, ax = plt.subplots(figsize=(11, 9))\n",
        "\n",
        "# Generate a custom diverging colormap\n",
        "cmap = sns.diverging_palette(220, 10, as_cmap=True)\n",
        "\n",
        "# Draw the heatmap with the mask and correct aspect ratio\n",
        "sns.heatmap(corr, mask=mask,\n",
        "            cmap=cmap, vmax=.3, center=0,\n",
        "            square=True, linewidths=.5, cbar_kws={\"shrink\": .5})"
      ],
      "execution_count": null,
      "outputs": []
    },
    {
      "cell_type": "markdown",
      "metadata": {
        "id": "_LNrgLXefOoz"
      },
      "source": [
        "##**Plotting on a large number of facets**"
      ]
    },
    {
      "cell_type": "code",
      "metadata": {
        "id": "U_rNEgatfOwr"
      },
      "source": [
        "import pandas as pd\n",
        "import seaborn as sns\n",
        "import matplotlib.pyplot as plt\n",
        "\n",
        "sns.set(style=\"ticks\")\n",
        "\n",
        "# Create a dataset with many short random walks\n",
        "rs = np.random.RandomState(4)\n",
        "pos = rs.randint(-1, 2, (20, 5)).cumsum(axis=1)\n",
        "pos -= pos[:, 0, np.newaxis]\n",
        "step = np.tile(range(5), 20)\n",
        "walk = np.repeat(range(20), 5)\n",
        "df = pd.DataFrame(np.c_[pos.flat, step, walk],\n",
        "                  columns=[\"position\", \"step\", \"walk\"])\n",
        "\n",
        "\n",
        "print(df)\n",
        "\n",
        "# Initialize a grid of plots with an Axes for each walk\n",
        "grid = sns.FacetGrid(df, col=\"walk\", hue=\"walk\", palette=\"tab20c\",\n",
        "                     col_wrap=4, height=1.5)\n",
        "\n",
        "# Draw a horizontal line to show the starting point\n",
        "grid.map(plt.axhline, y=0, ls=\":\", c=\".5\")\n",
        "\n",
        "# Draw a line plot to show the trajectory of each random walk\n",
        "grid.map(plt.plot, \"step\", \"position\", marker=\"P\")\n",
        "\n",
        "# Adjust the tick positions and labels\n",
        "grid.set(xticks=np.arange(5), yticks=[-3, 3],\n",
        "         xlim=(-.5, 4.5), ylim=(-3.5, 3.5))\n",
        "\n",
        "# Adjust the arrangement of the plots\n",
        "grid.fig.tight_layout(w_pad=1)"
      ],
      "execution_count": null,
      "outputs": []
    }
  ]
}
{
  "cells": [
    {
      "cell_type": "markdown",
      "metadata": {
        "id": "view-in-github",
        "colab_type": "text"
      },
      "source": [
        "<a href=\"https://colab.research.google.com/github/Ricardomanuel1/Maestria_Ciencia_de_Datos/blob/main/0_Probability_distributions.ipynb\" target=\"_parent\"><img src=\"https://colab.research.google.com/assets/colab-badge.svg\" alt=\"Open In Colab\"/></a>"
      ]
    },
    {
      "cell_type": "markdown",
      "metadata": {
        "_cell_guid": "b1076dfc-b9ad-4769-8c92-a6c4dae69d19",
        "_uuid": "8f2839f25d086af736a60e9eeb907d3b93b6e0e5",
        "id": "FNKi9h5uJm7Y"
      },
      "source": [
        "# Probability Distributions\n"
      ]
    },
    {
      "cell_type": "markdown",
      "metadata": {
        "id": "L1KQmeq8Jm7i"
      },
      "source": [
        "Many statistical tools and techniques used in data analysis are based on probability. Probability measures how likely it is for an event to occur on a scale from 0 (the event never occurs) to 1 (the event always occurs). When working with data, variables in the columns of the data set can be thought of as random variables: variables that vary due to chance. A [probability distribution](https://en.wikipedia.org/wiki/Probability_distribution) describes how a random variable is distributed; it tells us which values a random variable is most likely to take on and which values are less likely.\n",
        "\n",
        "In statistics, there are a range of precisely defined probability distributions that have different shapes and can be used to model different types of random events."
      ]
    },
    {
      "cell_type": "markdown",
      "metadata": {
        "id": "yz-pq5LjJm7k"
      },
      "source": [
        "## The Uniform Distribution"
      ]
    },
    {
      "cell_type": "markdown",
      "metadata": {
        "id": "vIqgDptCJm7l"
      },
      "source": [
        "The uniform distribution  is a probability distribution where each value within a certain range is equally likely to occur and values outside of the range never occur. If we make a density plot of a uniform distribution, it appears flat because no value is any more likely (and hence has any more density) than another. Many useful functions for working with probability distributions in Python are contained in the scipy.stats library."
      ]
    },
    {
      "cell_type": "code",
      "execution_count": null,
      "metadata": {
        "id": "3F37NFaJJm7l"
      },
      "outputs": [],
      "source": [
        "%matplotlib inline\n",
        "\n",
        "import numpy as np\n",
        "import pandas as pd\n",
        "import matplotlib.pyplot as plt\n",
        "import scipy.stats as stats"
      ]
    },
    {
      "cell_type": "code",
      "execution_count": null,
      "metadata": {
        "id": "ZqOYC3t8Jm7s"
      },
      "outputs": [],
      "source": [
        "uniform_data = stats.uniform.rvs(size=100000,  # Generate 100000 numbers\n",
        "                                 loc = 0,      # From 0\n",
        "                                 scale=10)     # To 10"
      ]
    },
    {
      "cell_type": "code",
      "execution_count": null,
      "metadata": {
        "colab": {
          "base_uri": "https://localhost:8080/",
          "height": 368
        },
        "id": "blvVONI4Jm7t",
        "outputId": "6a492973-22ab-4cbb-ec68-3950bcdcc2f5"
      },
      "outputs": [
        {
          "output_type": "display_data",
          "data": {
            "text/plain": [
              "<Figure size 1000x400 with 1 Axes>"
            ],
            "image/png": "[encoded data removed]"
          },
          "metadata": {}
        }
      ],
      "source": [
        "pd.DataFrame(uniform_data).plot(kind=\"density\",  # Plot the distribution\n",
        "                               figsize=(10,4),\n",
        "                               xlim=(-1,11));\n",
        "# We generated 100 000 data points from a uniform distribution spanning the range 0 to 10.\n",
        "# In the density plot, we see that the density of our uniform data is essentially level meaning\n",
        "# any given value has the same probability of occurring. The area under a probability density curve is always equal to 1.\n"
      ]
    },
    {
      "cell_type": "markdown",
      "metadata": {
        "id": "bUdtxRK_Jm7w"
      },
      "source": [
        "Probability distributions in scipy come with several useful functions for generating random data and extracting values of interest:\n",
        "\n",
        "\n",
        "*   stats.distribution.rvs() generates random numbers from the specified distribution. The arguments to rvs() will vary depending on the type of distribution you're working with; in the case of the uniform distribution, we have to specify the starting and ending points and the size (number of random points to generate.).\n",
        "\n",
        "\n",
        "*   stats.distribution.cdf() is used to determine the probability that an observation drawn from a distribution falls below a specified value (known as the cumulative distribution function"
      ]
    },
    {
      "cell_type": "code",
      "execution_count": null,
      "metadata": {
        "colab": {
          "base_uri": "https://localhost:8080/"
        },
        "id": "s8mRRbnhJm72",
        "outputId": "77a872e9-a2c6-47a5-fcf6-c4a78d47489a"
      },
      "outputs": [
        {
          "output_type": "execute_result",
          "data": {
            "text/plain": [
              "0.25"
            ]
          },
          "metadata": {},
          "execution_count": 32
        }
      ],
      "source": [
        "# F(x)=P(X<=x) Cumulative Distribution Function\n",
        "\n",
        "# P(X<=2.5)=int\n",
        "stats.uniform.cdf(x=2.5,         # Cutoff value (quantile) to check\n",
        "                  loc=0,         # Distribution start\n",
        "                  scale=10)      # Distribution end"
      ]
    },
    {
      "cell_type": "markdown",
      "metadata": {
        "id": "24grqWL5Jm73"
      },
      "source": [
        "*  stats.distribution.ppf() is the inverse of cdf(): it returns the x axis cutoff value (quantile) associated with a given probability. For instance, if we want to know the cutoff value for which we have a 40% chance of drawing an observation below that value, we can use ppf():"
      ]
    },
    {
      "cell_type": "code",
      "execution_count": null,
      "metadata": {
        "colab": {
          "base_uri": "https://localhost:8080/"
        },
        "id": "-YibFBAeJm73",
        "outputId": "d94dafc8-8cf9-4508-ca5c-24bba74cee8c"
      },
      "outputs": [
        {
          "output_type": "execute_result",
          "data": {
            "text/plain": [
              "4.0"
            ]
          },
          "metadata": {},
          "execution_count": 33
        }
      ],
      "source": [
        "stats.uniform.ppf(q=0.4,         # Probability cutoff\n",
        "                  loc=0,         # Distribution start\n",
        "                  scale=10)      # Distribution end"
      ]
    },
    {
      "cell_type": "markdown",
      "metadata": {
        "id": "eJJAwfV5Jm79"
      },
      "source": [
        "* stats.distribution.pdf() gives you the probability density (height of the distribution) at a given x value."
      ]
    },
    {
      "cell_type": "code",
      "execution_count": null,
      "metadata": {
        "colab": {
          "base_uri": "https://localhost:8080/"
        },
        "id": "yG2wwX9gJm79",
        "outputId": "5f9c2814-82f9-41ea-de27-e3657a943ec8"
      },
      "outputs": [
        {
          "output_type": "stream",
          "name": "stdout",
          "text": [
            "Density at x value -1\n",
            "0.0\n",
            "Density at x value 2\n",
            "0.1\n",
            "Density at x value 5\n",
            "0.1\n",
            "Density at x value 8\n",
            "0.1\n",
            "Density at x value 11\n",
            "0.0\n"
          ]
        }
      ],
      "source": [
        "for x in range(-1,12,3):\n",
        "    print(\"Density at x value \" + str(x))\n",
        "    print( stats.uniform.pdf(x, loc=0, scale=10) )"
      ]
    },
    {
      "cell_type": "markdown",
      "metadata": {
        "id": "5Ynk2S4RJm7-"
      },
      "source": [
        "Probability distribution functions in scipy also support median(), mean(), var() and std()."
      ]
    },
    {
      "cell_type": "markdown",
      "metadata": {
        "id": "fobnFv46Jm7-"
      },
      "source": [
        "## Generating Random Numbers and Setting The Seed"
      ]
    },
    {
      "cell_type": "markdown",
      "metadata": {
        "id": "hBrtBqL0Jm8D"
      },
      "source": [
        "When you need to generate random real numbers in a range with equal probability you can draw numbers from a uniform distribution using stats.distribution.rvs(). Python also comes with a library called \"random\" that lets you perform various operations that involve randomization."
      ]
    },
    {
      "cell_type": "code",
      "execution_count": null,
      "metadata": {
        "colab": {
          "base_uri": "https://localhost:8080/"
        },
        "id": "h0SEXkTlJm8D",
        "outputId": "e428f23d-ac9f-4ba7-aa3d-01ebf09b626d"
      },
      "outputs": [
        {
          "output_type": "execute_result",
          "data": {
            "text/plain": [
              "7"
            ]
          },
          "metadata": {},
          "execution_count": 35
        }
      ],
      "source": [
        "import random\n",
        "\n",
        "random.randint(0,10)     # Get a random integer in the specified range"
      ]
    },
    {
      "cell_type": "code",
      "execution_count": null,
      "metadata": {
        "colab": {
          "base_uri": "https://localhost:8080/"
        },
        "id": "bCygYDaAJm8E",
        "outputId": "c26a5885-5f5b-4f96-bed6-a9224c39133d"
      },
      "outputs": [
        {
          "output_type": "execute_result",
          "data": {
            "text/plain": [
              "6"
            ]
          },
          "metadata": {},
          "execution_count": 36
        }
      ],
      "source": [
        "random.choice([2,4,6,9]) # Get a random element from a sequence"
      ]
    },
    {
      "cell_type": "code",
      "execution_count": null,
      "metadata": {
        "colab": {
          "base_uri": "https://localhost:8080/"
        },
        "id": "jic5rGvOJm8E",
        "outputId": "1112dc86-9389-44e6-b6d3-6edb7a26fd5b"
      },
      "outputs": [
        {
          "output_type": "execute_result",
          "data": {
            "text/plain": [
              "0.6574725026572553"
            ]
          },
          "metadata": {},
          "execution_count": 37
        }
      ],
      "source": [
        "random.random()          # Get a real number between 0 and 1"
      ]
    },
    {
      "cell_type": "code",
      "execution_count": null,
      "metadata": {
        "colab": {
          "base_uri": "https://localhost:8080/"
        },
        "id": "44GmWUofJm8P",
        "outputId": "20d2c881-19f7-4638-9c78-57331594d1d7"
      },
      "outputs": [
        {
          "output_type": "execute_result",
          "data": {
            "text/plain": [
              "6.206961044701675"
            ]
          },
          "metadata": {},
          "execution_count": 71
        }
      ],
      "source": [
        "random.uniform(-10,10)     # Get a real in the specified range"
      ]
    },
    {
      "cell_type": "markdown",
      "metadata": {
        "id": "H9voTvtBJm8Q"
      },
      "source": [
        "Notice that the random library also lets you generate random uniform numbers. Regardless of the method you use to generate random numbers, however, the result of a random process can differ from one run to the next. Having results vary each time you run a function is often not desirable. For example, if you want a colleague to be able to reproduce your results exactly, you can run into problems when you use randomization. You can ensure that your results are the same each time you use a function that involves randomness by setting the random number generator's seed value to initialize it prior to running the function. Set the random seed with random.seed():"
      ]
    },
    {
      "cell_type": "code",
      "execution_count": null,
      "metadata": {
        "colab": {
          "base_uri": "https://localhost:8080/"
        },
        "id": "38vcp-P7Jm8Q",
        "outputId": "2d9c2e44-a17a-44c7-9022-fb48538d48c0"
      },
      "outputs": [
        {
          "output_type": "stream",
          "name": "stdout",
          "text": [
            "[4.7457067868854805, 6.574725026572553, 6.664104711248381, 1.4260035292536777]\n",
            "[2.5900849171547358, 6.852579929645369, 6.840819180161107, 8.493361613899301]\n"
          ]
        }
      ],
      "source": [
        "random.seed(12)  # Set the seed to an arbitrary value\n",
        "\n",
        "print([random.uniform(0,10) for x in range(4)])\n",
        "\n",
        "random.seed(13)  # Set the seed to the same value\n",
        "\n",
        "print([random.uniform(0,10) for x in range(4)])"
      ]
    },
    {
      "cell_type": "markdown",
      "metadata": {
        "id": "GzNAOqD2Jm8W"
      },
      "source": [
        "Notice that we generated the exact same numbers with both calls to random.uniform() because we set the same seed before each call. If we had not set the seed, we would have gotten different numbers. This reproducibility illustrates the fact that these random numbers aren't truly random, but rather \"pseudorandom\".\n",
        "\n",
        "Many functions in Python's libraries that use randomness have an optional random seed argument built in so that you don't have to set the seed outside of the function. For instance, the rvs() function has an optional argument random_state, that lets you set the seed.\n",
        "\n",
        "*Note: The Python standard library \"random\" has a separate internal seed from the numpy library. When using functions from numpy and libraries built on top of numpy (pandas, scipy, scikit-learn) use np.random.seed() to set the seed.*"
      ]
    },
    {
      "cell_type": "markdown",
      "metadata": {
        "id": "WZ-7I0-HJm8W"
      },
      "source": [
        "## The Normal Distribution"
      ]
    },
    {
      "cell_type": "markdown",
      "metadata": {
        "id": "X0BVzWalJm8W"
      },
      "source": [
        "The normal or Gaussian distribution is a continuous probability distribution characterized by a symmetric bell-shaped curve.\n",
        "\n",
        "A normal distribution is defined by its center (mean) and spread (standard deviation.). The bulk of the observations generated from a normal distribution lie near the mean, which lies at the exact center of the distribution: as a rule of thumb, about 68% of the data lies within 1 standard deviation of the mean, 95% lies within 2 standard deviations and 99.7% lies within 3 standard deviations.\n",
        "\n",
        "The normal distribution is perhaps the most important distribution in all of statistics.  Many common statistical tests assume distributions are normal.\n"
      ]
    },
    {
      "cell_type": "code",
      "execution_count": null,
      "metadata": {
        "colab": {
          "base_uri": "https://localhost:8080/"
        },
        "id": "S7muDEsXJm8W",
        "outputId": "866ba755-fe06-436e-f017-919c4c1add36"
      },
      "outputs": [
        {
          "output_type": "stream",
          "name": "stdout",
          "text": [
            "0.15865525393145707 0.15865525393145707 0.6826894921370859\n"
          ]
        }
      ],
      "source": [
        "#stats.distribution.rvs() generates random numbers from the specified distribution.\n",
        "\n",
        "# P(Z<-1) sabiendo que Z es normal con media 0 y varianza 1.\n",
        "\n",
        "# P(Z>1) sabiendo que Z es normal con media 0 y varianza 1.\n",
        "\n",
        "prob_under_minus1 = stats.norm.cdf(x= -1,\n",
        "                                loc = 0,\n",
        "                                scale= 1)\n",
        "\n",
        "prob_over_1 = 1 - stats.norm.cdf(x= 1,\n",
        "                                loc = 0,\n",
        "                                scale= 1)\n",
        "\n",
        "between_prob = 1-(prob_under_minus1+prob_over_1)\n",
        "\n",
        "print(prob_under_minus1, prob_over_1, between_prob)"
      ]
    },
    {
      "cell_type": "code",
      "source": [
        "stats.norm.cdf(x= 1,loc = 0, scale= 1) - stats.norm.cdf(x= -1,loc = 0, scale= 1)"
      ],
      "metadata": {
        "colab": {
          "base_uri": "https://localhost:8080/"
        },
        "id": "KILysQM3YVnB",
        "outputId": "dc69c87d-aa8f-4941-a745-f4c3eabf6f2d"
      },
      "execution_count": null,
      "outputs": [
        {
          "output_type": "execute_result",
          "data": {
            "text/plain": [
              "0.6826894921370859"
            ]
          },
          "metadata": {},
          "execution_count": 73
        }
      ]
    },
    {
      "cell_type": "markdown",
      "metadata": {
        "id": "mhzyqxZyJm8c"
      },
      "source": [
        "The output shows that roughly 16% of the data generated by a normal distribution with mean 0 and standard deviation 1 is below -1, 16% is above 1 and 68% lies between -1 and 1, which agrees with the 68, 95, 99.7 rule. Let's plot the normal distribution and inspect areas we calculated:"
      ]
    },
    {
      "cell_type": "code",
      "execution_count": null,
      "metadata": {
        "colab": {
          "base_uri": "https://localhost:8080/",
          "height": 368
        },
        "id": "3QbNYtYFJm8c",
        "outputId": "0b5b3aec-d2ed-4a73-aae5-54578eae1ac8"
      },
      "outputs": [
        {
          "output_type": "display_data",
          "data": {
            "text/plain": [
              "<Figure size 1600x400 with 1 Axes>"
            ],
            "image/png": "[encoded data removed]"
          },
          "metadata": {}
        }
      ],
      "source": [
        "# Plot normal distribution areas*\n",
        "\n",
        "plt.rcParams[\"figure.figsize\"] = (16,4)\n",
        "\n",
        "plt.fill_between(x=np.arange(-4,-1,0.01),\n",
        "                 y1= stats.norm.pdf(np.arange(-4,-1,0.01)) ,\n",
        "                 facecolor='red',\n",
        "                 alpha=0.35)\n",
        "\n",
        "plt.fill_between(x=np.arange(1,4,0.01),\n",
        "                 y1= stats.norm.pdf(np.arange(1,4,0.01)) ,\n",
        "                 facecolor='red',\n",
        "                 alpha=0.35)\n",
        "\n",
        "plt.fill_between(x=np.arange(-1,1,0.01),\n",
        "                 y1= stats.norm.pdf(np.arange(-1,1,0.01)) ,\n",
        "                 facecolor='blue',\n",
        "                 alpha=0.35)\n",
        "\n",
        "plt.text(x=-1.8, y=0.03, s= round(prob_under_minus1,3))\n",
        "plt.text(x=-0.2, y=0.1, s= round(between_prob,3))\n",
        "plt.text(x=1.4, y=0.03, s= round(prob_over_1,3));"
      ]
    },
    {
      "cell_type": "markdown",
      "metadata": {
        "id": "gplvHmLlJm8c"
      },
      "source": [
        "The plot above shows the bell shape of the normal distribution, the area below and above one standard deviation and the area within 1 standard deviation of the mean.\n"
      ]
    },
    {
      "cell_type": "markdown",
      "source": [
        "Finding quantiles of the normal distribution is a common task when performing statistical tests. You can check normal distribution quantiles with stats.norm.ppf():"
      ],
      "metadata": {
        "id": "fxPf-2c_xGfl"
      }
    },
    {
      "cell_type": "code",
      "execution_count": null,
      "metadata": {
        "colab": {
          "base_uri": "https://localhost:8080/"
        },
        "id": "R5r0GODWJm8c",
        "outputId": "178eaacc-ef7f-4c43-be59-3c32d0dbf73e"
      },
      "outputs": [
        {
          "output_type": "stream",
          "name": "stdout",
          "text": [
            "-1.9599639845400545\n",
            "1.959963984540054\n"
          ]
        }
      ],
      "source": [
        "print( stats.norm.ppf(q=0.025) ) # Find the quantile for the 2.5% cutoff\n",
        "\n",
        "print( stats.norm.ppf(q=0.975) ) # Find the quantile for the 97.5% cutoff"
      ]
    },
    {
      "cell_type": "markdown",
      "metadata": {
        "id": "PNxYBy3kJm8j"
      },
      "source": [
        "## The Binomial Distribution"
      ]
    },
    {
      "cell_type": "markdown",
      "metadata": {
        "id": "vDw7AHpzJm8j"
      },
      "source": [
        "The binomial distribution is a discrete probability distribution that models the outcomes of a given number of random trails of some experiment or event. The binomial is defined by two parameters: the probability of success in any given trial and the number of trials. The binomial distribution tells you how likely it is to achieve a given number of successes in n trials of the experiment. For example, we could model flipping a fair coin 10 times with a binomial distribution where the number of trials is set to 10 and the probability of success is set to 0.5. In this case the distribution would tell us how likely it is to get zero heads, 1 head, 2 heads and so on.\n",
        "\n",
        "The scipy name for the binomial is binom. Let's generate and investigate some binomial data:"
      ]
    },
    {
      "cell_type": "code",
      "execution_count": null,
      "metadata": {
        "colab": {
          "base_uri": "https://localhost:8080/",
          "height": 391
        },
        "id": "_YkQsJEZJm8p",
        "outputId": "cd93c2f1-be71-4a79-f65a-dbb2ac14a206"
      },
      "outputs": [
        {
          "output_type": "display_data",
          "data": {
            "text/plain": [
              "<Figure size 1000x400 with 1 Axes>"
            ],
            "image/png": "[encoded data removed]"
          },
          "metadata": {}
        }
      ],
      "source": [
        "fair_coin_flips = stats.binom.rvs(n=10,        # Number of flips per trial\n",
        "                                  p=0.5,       # Success probability\n",
        "                                  size=10000)    # Number of trials\n",
        "\n",
        "pd.DataFrame(fair_coin_flips).hist(range=(-0.5,10.5), bins=11,figsize=(10,4));"
      ]
    },
    {
      "cell_type": "code",
      "source": [
        "pd.crosstab(index=\"counts\", columns= fair_coin_flips,normalize='index')"
      ],
      "metadata": {
        "colab": {
          "base_uri": "https://localhost:8080/",
          "height": 112
        },
        "id": "r907ZJonzXfB",
        "outputId": "54af38a2-b5f6-430b-972c-e53ba199d47b"
      },
      "execution_count": null,
      "outputs": [
        {
          "output_type": "execute_result",
          "data": {
            "text/plain": [
              "col_0       0       1       2       3       4       5       6       7   \\\n",
              "row_0                                                                    \n",
              "counts  0.0007  0.0099  0.0426  0.1124  0.2028  0.2478  0.2058  0.1205   \n",
              "\n",
              "col_0       8       9      10  \n",
              "row_0                          \n",
              "counts  0.0458  0.0107  0.001  "
            ],
            "text/html": [
              "\n",
              "  <div id=\"df-19cd1452-097b-4843-9d77-6cecc11b6e23\" class=\"colab-df-container\">\n",
              "    <div>\n",
              "<style scoped>\n",
              "    .dataframe tbody tr th:only-of-type {\n",
              "        vertical-align: middle;\n",
              "    }\n",
              "\n",
              "    .dataframe tbody tr th {\n",
              "        vertical-align: top;\n",
              "    }\n",
              "\n",
              "    .dataframe thead th {\n",
              "        text-align: right;\n",
              "    }\n",
              "</style>\n",
              "<table border=\"1\" class=\"dataframe\">\n",
              "  <thead>\n",
              "    <tr style=\"text-align: right;\">\n",
              "      <th>col_0</th>\n",
              "      <th>0</th>\n",
              "      <th>1</th>\n",
              "      <th>2</th>\n",
              "      <th>3</th>\n",
              "      <th>4</th>\n",
              "      <th>5</th>\n",
              "      <th>6</th>\n",
              "      <th>7</th>\n",
              "      <th>8</th>\n",
              "      <th>9</th>\n",
              "      <th>10</th>\n",
              "    </tr>\n",
              "    <tr>\n",
              "      <th>row_0</th>\n",
              "      <th></th>\n",
              "      <th></th>\n",
              "      <th></th>\n",
              "      <th></th>\n",
              "      <th></th>\n",
              "      <th></th>\n",
              "      <th></th>\n",
              "      <th></th>\n",
              "      <th></th>\n",
              "      <th></th>\n",
              "      <th></th>\n",
              "    </tr>\n",
              "  </thead>\n",
              "  <tbody>\n",
              "    <tr>\n",
              "      <th>counts</th>\n",
              "      <td>0.0007</td>\n",
              "      <td>0.0099</td>\n",
              "      <td>0.0426</td>\n",
              "      <td>0.1124</td>\n",
              "      <td>0.2028</td>\n",
              "      <td>0.2478</td>\n",
              "      <td>0.2058</td>\n",
              "      <td>0.1205</td>\n",
              "      <td>0.0458</td>\n",
              "      <td>0.0107</td>\n",
              "      <td>0.001</td>\n",
              "    </tr>\n",
              "  </tbody>\n",
              "</table>\n",
              "</div>\n",
              "    <div class=\"colab-df-buttons\">\n",
              "\n",
              "  <div class=\"colab-df-container\">\n",
              "    <button class=\"colab-df-convert\" onclick=\"convertToInteractive('df-19cd1452-097b-4843-9d77-6cecc11b6e23')\"\n",
              "            title=\"Convert this dataframe to an interactive table.\"\n",
              "            style=\"display:none;\">\n",
              "\n",
              "  <svg xmlns=\"http://www.w3.org/2000/svg\" height=\"24px\" viewBox=\"0 -960 960 960\">\n",
              "    <path d=\"M120-120v-720h720v720H120Zm60-500h600v-160H180v160Zm220 220h160v-160H400v160Zm0 220h160v-160H400v160ZM180-400h160v-160H180v160Zm440 0h160v-160H620v160ZM180-180h160v-160H180v160Zm440 0h160v-160H620v160Z\"/>\n",
              "  </svg>\n",
              "    </button>\n",
              "\n",
              "  <style>\n",
              "    .colab-df-container {\n",
              "      display:flex;\n",
              "      gap: 12px;\n",
              "    }\n",
              "\n",
              "    .colab-df-convert {\n",
              "      background-color: #E8F0FE;\n",
              "      border: none;\n",
              "      border-radius: 50%;\n",
              "      cursor: pointer;\n",
              "      display: none;\n",
              "      fill: #1967D2;\n",
              "      height: 32px;\n",
              "      padding: 0 0 0 0;\n",
              "      width: 32px;\n",
              "    }\n",
              "\n",
              "    .colab-df-convert:hover {\n",
              "      background-color: #E2EBFA;\n",
              "      box-shadow: 0px 1px 2px rgba(60, 64, 67, 0.3), 0px 1px 3px 1px rgba(60, 64, 67, 0.15);\n",
              "      fill: #174EA6;\n",
              "    }\n",
              "\n",
              "    .colab-df-buttons div {\n",
              "      margin-bottom: 4px;\n",
              "    }\n",
              "\n",
              "    [theme=dark] .colab-df-convert {\n",
              "      background-color: #3B4455;\n",
              "      fill: #D2E3FC;\n",
              "    }\n",
              "\n",
              "    [theme=dark] .colab-df-convert:hover {\n",
              "      background-color: #434B5C;\n",
              "      box-shadow: 0px 1px 3px 1px rgba(0, 0, 0, 0.15);\n",
              "      filter: drop-shadow(0px 1px 2px rgba(0, 0, 0, 0.3));\n",
              "      fill: #FFFFFF;\n",
              "    }\n",
              "  </style>\n",
              "\n",
              "    <script>\n",
              "      const buttonEl =\n",
              "        document.querySelector('#df-19cd1452-097b-4843-9d77-6cecc11b6e23 button.colab-df-convert');\n",
              "      buttonEl.style.display =\n",
              "        google.colab.kernel.accessAllowed ? 'block' : 'none';\n",
              "\n",
              "      async function convertToInteractive(key) {\n",
              "        const element = document.querySelector('#df-19cd1452-097b-4843-9d77-6cecc11b6e23');\n",
              "        const dataTable =\n",
              "          await google.colab.kernel.invokeFunction('convertToInteractive',\n",
              "                                                    [key], {});\n",
              "        if (!dataTable) return;\n",
              "\n",
              "        const docLinkHtml = 'Like what you see? Visit the ' +\n",
              "          '<a target=\"_blank\" href=https://colab.research.google.com/notebooks/data_table.ipynb>data table notebook</a>'\n",
              "          + ' to learn more about interactive tables.';\n",
              "        element.innerHTML = '';\n",
              "        dataTable['output_type'] = 'display_data';\n",
              "        await google.colab.output.renderOutput(dataTable, element);\n",
              "        const docLink = document.createElement('div');\n",
              "        docLink.innerHTML = docLinkHtml;\n",
              "        element.appendChild(docLink);\n",
              "      }\n",
              "    </script>\n",
              "  </div>\n",
              "\n",
              "    </div>\n",
              "  </div>\n"
            ],
            "application/vnd.google.colaboratory.intrinsic+json": {
              "type": "dataframe",
              "summary": "{\n  \"name\": \"pd\",\n  \"rows\": 1,\n  \"fields\": [\n    {\n      \"column\": \"row_0\",\n      \"properties\": {\n        \"dtype\": \"string\",\n        \"num_unique_values\": 1,\n        \"samples\": [\n          \"counts\"\n        ],\n        \"semantic_type\": \"\",\n        \"description\": \"\"\n      }\n    },\n    {\n      \"column\": 0,\n      \"properties\": {\n        \"dtype\": \"number\",\n        \"std\": null,\n        \"min\": 0.0007,\n        \"max\": 0.0007,\n        \"num_unique_values\": 1,\n        \"samples\": [\n          0.0007\n        ],\n        \"semantic_type\": \"\",\n        \"description\": \"\"\n      }\n    },\n    {\n      \"column\": 1,\n      \"properties\": {\n        \"dtype\": \"number\",\n        \"std\": null,\n        \"min\": 0.0099,\n        \"max\": 0.0099,\n        \"num_unique_values\": 1,\n        \"samples\": [\n          0.0099\n        ],\n        \"semantic_type\": \"\",\n        \"description\": \"\"\n      }\n    },\n    {\n      \"column\": 2,\n      \"properties\": {\n        \"dtype\": \"number\",\n        \"std\": null,\n        \"min\": 0.0426,\n        \"max\": 0.0426,\n        \"num_unique_values\": 1,\n        \"samples\": [\n          0.0426\n        ],\n        \"semantic_type\": \"\",\n        \"description\": \"\"\n      }\n    },\n    {\n      \"column\": 3,\n      \"properties\": {\n        \"dtype\": \"number\",\n        \"std\": null,\n        \"min\": 0.1124,\n        \"max\": 0.1124,\n        \"num_unique_values\": 1,\n        \"samples\": [\n          0.1124\n        ],\n        \"semantic_type\": \"\",\n        \"description\": \"\"\n      }\n    },\n    {\n      \"column\": 4,\n      \"properties\": {\n        \"dtype\": \"number\",\n        \"std\": null,\n        \"min\": 0.2028,\n        \"max\": 0.2028,\n        \"num_unique_values\": 1,\n        \"samples\": [\n          0.2028\n        ],\n        \"semantic_type\": \"\",\n        \"description\": \"\"\n      }\n    },\n    {\n      \"column\": 5,\n      \"properties\": {\n        \"dtype\": \"number\",\n        \"std\": null,\n        \"min\": 0.2478,\n        \"max\": 0.2478,\n        \"num_unique_values\": 1,\n        \"samples\": [\n          0.2478\n        ],\n        \"semantic_type\": \"\",\n        \"description\": \"\"\n      }\n    },\n    {\n      \"column\": 6,\n      \"properties\": {\n        \"dtype\": \"number\",\n        \"std\": null,\n        \"min\": 0.2058,\n        \"max\": 0.2058,\n        \"num_unique_values\": 1,\n        \"samples\": [\n          0.2058\n        ],\n        \"semantic_type\": \"\",\n        \"description\": \"\"\n      }\n    },\n    {\n      \"column\": 7,\n      \"properties\": {\n        \"dtype\": \"number\",\n        \"std\": null,\n        \"min\": 0.1205,\n        \"max\": 0.1205,\n        \"num_unique_values\": 1,\n        \"samples\": [\n          0.1205\n        ],\n        \"semantic_type\": \"\",\n        \"description\": \"\"\n      }\n    },\n    {\n      \"column\": 8,\n      \"properties\": {\n        \"dtype\": \"number\",\n        \"std\": null,\n        \"min\": 0.0458,\n        \"max\": 0.0458,\n        \"num_unique_values\": 1,\n        \"samples\": [\n          0.0458\n        ],\n        \"semantic_type\": \"\",\n        \"description\": \"\"\n      }\n    },\n    {\n      \"column\": 9,\n      \"properties\": {\n        \"dtype\": \"number\",\n        \"std\": null,\n        \"min\": 0.0107,\n        \"max\": 0.0107,\n        \"num_unique_values\": 1,\n        \"samples\": [\n          0.0107\n        ],\n        \"semantic_type\": \"\",\n        \"description\": \"\"\n      }\n    },\n    {\n      \"column\": 10,\n      \"properties\": {\n        \"dtype\": \"number\",\n        \"std\": null,\n        \"min\": 0.001,\n        \"max\": 0.001,\n        \"num_unique_values\": 1,\n        \"samples\": [\n          0.001\n        ],\n        \"semantic_type\": \"\",\n        \"description\": \"\"\n      }\n    }\n  ]\n}"
            }
          },
          "metadata": {},
          "execution_count": 77
        }
      ]
    },
    {
      "cell_type": "markdown",
      "metadata": {
        "id": "_A9hK5BiJm8q"
      },
      "source": [
        "Note that since the binomial distribution is discrete, it only takes on integer values so we can summarize binomial data with a frequency table and its distribution with a histogram. The histogram shows us that a binomial distribution with a 50% probability of success is roughly symmetric, with the most likely outcomes lying at the center. This is reminiscent of the normal distribution, but if we alter the success probability, the distribution won't be symmetric:"
      ]
    },
    {
      "cell_type": "code",
      "execution_count": null,
      "metadata": {
        "colab": {
          "base_uri": "https://localhost:8080/",
          "height": 391
        },
        "id": "mXunZwl5Jm8q",
        "outputId": "a9713eaf-9e42-412a-f723-35725db915bc"
      },
      "outputs": [
        {
          "output_type": "display_data",
          "data": {
            "text/plain": [
              "<Figure size 1000x400 with 1 Axes>"
            ],
            "image/png": "[encoded data removed]"
          },
          "metadata": {}
        }
      ],
      "source": [
        "biased_coin_flips = stats.binom.rvs(n=10,      # Number of flips per trial\n",
        "                                  p=0.8,       # Success probability\n",
        "                                  size=10000)  # Number of trials\n",
        "\n",
        "# Plot histogram\n",
        "pd.DataFrame(biased_coin_flips).hist(range=(-0.5,10.5), bins=11,figsize=(10,4));"
      ]
    },
    {
      "cell_type": "code",
      "source": [
        "pd.crosstab(index=\"counts\", columns= biased_coin_flips,normalize='index')"
      ],
      "metadata": {
        "colab": {
          "base_uri": "https://localhost:8080/",
          "height": 112
        },
        "id": "OUejZBSzzJXY",
        "outputId": "46d24bdc-903d-4000-e669-a573407b4796"
      },
      "execution_count": null,
      "outputs": [
        {
          "output_type": "execute_result",
          "data": {
            "text/plain": [
              "col_0       2       3       4       5       6     7       8       9      10\n",
              "row_0                                                                      \n",
              "counts  0.0001  0.0007  0.0052  0.0245  0.0883  0.21  0.3047  0.2595  0.107"
            ],
            "text/html": [
              "\n",
              "  <div id=\"df-c40b0c66-cf98-407d-ac94-1173ce3cadef\" class=\"colab-df-container\">\n",
              "    <div>\n",
              "<style scoped>\n",
              "    .dataframe tbody tr th:only-of-type {\n",
              "        vertical-align: middle;\n",
              "    }\n",
              "\n",
              "    .dataframe tbody tr th {\n",
              "        vertical-align: top;\n",
              "    }\n",
              "\n",
              "    .dataframe thead th {\n",
              "        text-align: right;\n",
              "    }\n",
              "</style>\n",
              "<table border=\"1\" class=\"dataframe\">\n",
              "  <thead>\n",
              "    <tr style=\"text-align: right;\">\n",
              "      <th>col_0</th>\n",
              "      <th>2</th>\n",
              "      <th>3</th>\n",
              "      <th>4</th>\n",
              "      <th>5</th>\n",
              "      <th>6</th>\n",
              "      <th>7</th>\n",
              "      <th>8</th>\n",
              "      <th>9</th>\n",
              "      <th>10</th>\n",
              "    </tr>\n",
              "    <tr>\n",
              "      <th>row_0</th>\n",
              "      <th></th>\n",
              "      <th></th>\n",
              "      <th></th>\n",
              "      <th></th>\n",
              "      <th></th>\n",
              "      <th></th>\n",
              "      <th></th>\n",
              "      <th></th>\n",
              "      <th></th>\n",
              "    </tr>\n",
              "  </thead>\n",
              "  <tbody>\n",
              "    <tr>\n",
              "      <th>counts</th>\n",
              "      <td>0.0001</td>\n",
              "      <td>0.0007</td>\n",
              "      <td>0.0052</td>\n",
              "      <td>0.0245</td>\n",
              "      <td>0.0883</td>\n",
              "      <td>0.21</td>\n",
              "      <td>0.3047</td>\n",
              "      <td>0.2595</td>\n",
              "      <td>0.107</td>\n",
              "    </tr>\n",
              "  </tbody>\n",
              "</table>\n",
              "</div>\n",
              "    <div class=\"colab-df-buttons\">\n",
              "\n",
              "  <div class=\"colab-df-container\">\n",
              "    <button class=\"colab-df-convert\" onclick=\"convertToInteractive('df-c40b0c66-cf98-407d-ac94-1173ce3cadef')\"\n",
              "            title=\"Convert this dataframe to an interactive table.\"\n",
              "            style=\"display:none;\">\n",
              "\n",
              "  <svg xmlns=\"http://www.w3.org/2000/svg\" height=\"24px\" viewBox=\"0 -960 960 960\">\n",
              "    <path d=\"M120-120v-720h720v720H120Zm60-500h600v-160H180v160Zm220 220h160v-160H400v160Zm0 220h160v-160H400v160ZM180-400h160v-160H180v160Zm440 0h160v-160H620v160ZM180-180h160v-160H180v160Zm440 0h160v-160H620v160Z\"/>\n",
              "  </svg>\n",
              "    </button>\n",
              "\n",
              "  <style>\n",
              "    .colab-df-container {\n",
              "      display:flex;\n",
              "      gap: 12px;\n",
              "    }\n",
              "\n",
              "    .colab-df-convert {\n",
              "      background-color: #E8F0FE;\n",
              "      border: none;\n",
              "      border-radius: 50%;\n",
              "      cursor: pointer;\n",
              "      display: none;\n",
              "      fill: #1967D2;\n",
              "      height: 32px;\n",
              "      padding: 0 0 0 0;\n",
              "      width: 32px;\n",
              "    }\n",
              "\n",
              "    .colab-df-convert:hover {\n",
              "      background-color: #E2EBFA;\n",
              "      box-shadow: 0px 1px 2px rgba(60, 64, 67, 0.3), 0px 1px 3px 1px rgba(60, 64, 67, 0.15);\n",
              "      fill: #174EA6;\n",
              "    }\n",
              "\n",
              "    .colab-df-buttons div {\n",
              "      margin-bottom: 4px;\n",
              "    }\n",
              "\n",
              "    [theme=dark] .colab-df-convert {\n",
              "      background-color: #3B4455;\n",
              "      fill: #D2E3FC;\n",
              "    }\n",
              "\n",
              "    [theme=dark] .colab-df-convert:hover {\n",
              "      background-color: #434B5C;\n",
              "      box-shadow: 0px 1px 3px 1px rgba(0, 0, 0, 0.15);\n",
              "      filter: drop-shadow(0px 1px 2px rgba(0, 0, 0, 0.3));\n",
              "      fill: #FFFFFF;\n",
              "    }\n",
              "  </style>\n",
              "\n",
              "    <script>\n",
              "      const buttonEl =\n",
              "        document.querySelector('#df-c40b0c66-cf98-407d-ac94-1173ce3cadef button.colab-df-convert');\n",
              "      buttonEl.style.display =\n",
              "        google.colab.kernel.accessAllowed ? 'block' : 'none';\n",
              "\n",
              "      async function convertToInteractive(key) {\n",
              "        const element = document.querySelector('#df-c40b0c66-cf98-407d-ac94-1173ce3cadef');\n",
              "        const dataTable =\n",
              "          await google.colab.kernel.invokeFunction('convertToInteractive',\n",
              "                                                    [key], {});\n",
              "        if (!dataTable) return;\n",
              "\n",
              "        const docLinkHtml = 'Like what you see? Visit the ' +\n",
              "          '<a target=\"_blank\" href=https://colab.research.google.com/notebooks/data_table.ipynb>data table notebook</a>'\n",
              "          + ' to learn more about interactive tables.';\n",
              "        element.innerHTML = '';\n",
              "        dataTable['output_type'] = 'display_data';\n",
              "        await google.colab.output.renderOutput(dataTable, element);\n",
              "        const docLink = document.createElement('div');\n",
              "        docLink.innerHTML = docLinkHtml;\n",
              "        element.appendChild(docLink);\n",
              "      }\n",
              "    </script>\n",
              "  </div>\n",
              "\n",
              "    </div>\n",
              "  </div>\n"
            ],
            "application/vnd.google.colaboratory.intrinsic+json": {
              "type": "dataframe",
              "summary": "{\n  \"name\": \"pd\",\n  \"rows\": 1,\n  \"fields\": [\n    {\n      \"column\": \"row_0\",\n      \"properties\": {\n        \"dtype\": \"string\",\n        \"num_unique_values\": 1,\n        \"samples\": [\n          \"counts\"\n        ],\n        \"semantic_type\": \"\",\n        \"description\": \"\"\n      }\n    },\n    {\n      \"column\": 2,\n      \"properties\": {\n        \"dtype\": \"number\",\n        \"std\": null,\n        \"min\": 0.0001,\n        \"max\": 0.0001,\n        \"num_unique_values\": 1,\n        \"samples\": [\n          0.0001\n        ],\n        \"semantic_type\": \"\",\n        \"description\": \"\"\n      }\n    },\n    {\n      \"column\": 3,\n      \"properties\": {\n        \"dtype\": \"number\",\n        \"std\": null,\n        \"min\": 0.0007,\n        \"max\": 0.0007,\n        \"num_unique_values\": 1,\n        \"samples\": [\n          0.0007\n        ],\n        \"semantic_type\": \"\",\n        \"description\": \"\"\n      }\n    },\n    {\n      \"column\": 4,\n      \"properties\": {\n        \"dtype\": \"number\",\n        \"std\": null,\n        \"min\": 0.0052,\n        \"max\": 0.0052,\n        \"num_unique_values\": 1,\n        \"samples\": [\n          0.0052\n        ],\n        \"semantic_type\": \"\",\n        \"description\": \"\"\n      }\n    },\n    {\n      \"column\": 5,\n      \"properties\": {\n        \"dtype\": \"number\",\n        \"std\": null,\n        \"min\": 0.0245,\n        \"max\": 0.0245,\n        \"num_unique_values\": 1,\n        \"samples\": [\n          0.0245\n        ],\n        \"semantic_type\": \"\",\n        \"description\": \"\"\n      }\n    },\n    {\n      \"column\": 6,\n      \"properties\": {\n        \"dtype\": \"number\",\n        \"std\": null,\n        \"min\": 0.0883,\n        \"max\": 0.0883,\n        \"num_unique_values\": 1,\n        \"samples\": [\n          0.0883\n        ],\n        \"semantic_type\": \"\",\n        \"description\": \"\"\n      }\n    },\n    {\n      \"column\": 7,\n      \"properties\": {\n        \"dtype\": \"number\",\n        \"std\": null,\n        \"min\": 0.21,\n        \"max\": 0.21,\n        \"num_unique_values\": 1,\n        \"samples\": [\n          0.21\n        ],\n        \"semantic_type\": \"\",\n        \"description\": \"\"\n      }\n    },\n    {\n      \"column\": 8,\n      \"properties\": {\n        \"dtype\": \"number\",\n        \"std\": null,\n        \"min\": 0.3047,\n        \"max\": 0.3047,\n        \"num_unique_values\": 1,\n        \"samples\": [\n          0.3047\n        ],\n        \"semantic_type\": \"\",\n        \"description\": \"\"\n      }\n    },\n    {\n      \"column\": 9,\n      \"properties\": {\n        \"dtype\": \"number\",\n        \"std\": null,\n        \"min\": 0.2595,\n        \"max\": 0.2595,\n        \"num_unique_values\": 1,\n        \"samples\": [\n          0.2595\n        ],\n        \"semantic_type\": \"\",\n        \"description\": \"\"\n      }\n    },\n    {\n      \"column\": 10,\n      \"properties\": {\n        \"dtype\": \"number\",\n        \"std\": null,\n        \"min\": 0.107,\n        \"max\": 0.107,\n        \"num_unique_values\": 1,\n        \"samples\": [\n          0.107\n        ],\n        \"semantic_type\": \"\",\n        \"description\": \"\"\n      }\n    }\n  ]\n}"
            }
          },
          "metadata": {},
          "execution_count": 46
        }
      ]
    },
    {
      "cell_type": "markdown",
      "metadata": {
        "id": "oPN0tK3TJm8r"
      },
      "source": [
        "The cdf() function lets us check the probability of achieving a number of successes within a certain range:"
      ]
    },
    {
      "cell_type": "code",
      "execution_count": null,
      "metadata": {
        "colab": {
          "base_uri": "https://localhost:8080/"
        },
        "id": "74075y9RJm8w",
        "outputId": "2eeb7156-9968-4932-9de8-3bd1b1633dc0"
      },
      "outputs": [
        {
          "output_type": "execute_result",
          "data": {
            "text/plain": [
              "0.03279349759999997"
            ]
          },
          "metadata": {},
          "execution_count": 47
        }
      ],
      "source": [
        "# P(X<=5)\n",
        "stats.binom.cdf(k=5,        # Probability of k = 5 successes or less\n",
        "                n=10,       # With 10 flips\n",
        "                p=0.8)      # And success probability 0.8"
      ]
    },
    {
      "cell_type": "code",
      "execution_count": null,
      "metadata": {
        "colab": {
          "base_uri": "https://localhost:8080/"
        },
        "id": "MGIlyZyBJm8x",
        "outputId": "75fba6b8-7c52-4f0a-b8cb-7f19450fe6f4"
      },
      "outputs": [
        {
          "output_type": "execute_result",
          "data": {
            "text/plain": [
              "0.37580963840000015"
            ]
          },
          "metadata": {},
          "execution_count": 48
        }
      ],
      "source": [
        "# P(X>=9)=1-P(X<=8)\n",
        "\n",
        "1 - stats.binom.cdf(k=8,        # Probability of k = 9 successes or more\n",
        "                    n=10,       # With 10 flips\n",
        "                    p=0.8)      # And success probability 0.8"
      ]
    },
    {
      "cell_type": "markdown",
      "metadata": {
        "id": "PMcVDGnQJm82"
      },
      "source": [
        "For continuous probability density functions, you use pdf() to check the probability density at a given x value. For discrete distributions like the binomial, use stats.distribution.pmf() (probability mass function) to check the proportion of observations at given number of successes k:"
      ]
    },
    {
      "cell_type": "code",
      "execution_count": null,
      "metadata": {
        "colab": {
          "base_uri": "https://localhost:8080/"
        },
        "id": "L85bTStdJm88",
        "outputId": "cf2b9489-b175-4828-e1f8-d1adfb056274"
      },
      "outputs": [
        {
          "output_type": "execute_result",
          "data": {
            "text/plain": [
              "0.24609375000000003"
            ]
          },
          "metadata": {},
          "execution_count": 49
        }
      ],
      "source": [
        "# P(X=5)\n",
        "stats.binom.pmf(k=5,        # Probability of k = 5 successes\n",
        "                n=10,       # With 10 flips\n",
        "                p=0.5)      # And success probability 0.5"
      ]
    },
    {
      "cell_type": "code",
      "execution_count": null,
      "metadata": {
        "colab": {
          "base_uri": "https://localhost:8080/"
        },
        "id": "GTxh_HV2Jm88",
        "outputId": "ef20a564-d098-410a-f850-83e8b81880c1"
      },
      "outputs": [
        {
          "output_type": "execute_result",
          "data": {
            "text/plain": [
              "0.30198988799999993"
            ]
          },
          "metadata": {},
          "execution_count": 50
        }
      ],
      "source": [
        "# P(X=8)\n",
        "stats.binom.pmf(k=8,        # Probability of k = 8 successes\n",
        "                n=10,       # With 10 flips\n",
        "                p=0.8)      # And success probability 0.8"
      ]
    },
    {
      "cell_type": "markdown",
      "metadata": {
        "id": "J1UX65KmJm89"
      },
      "source": [
        "## The Geometric and Exponential Distributions"
      ]
    },
    {
      "cell_type": "markdown",
      "metadata": {
        "id": "dh-L9CvvJm89"
      },
      "source": [
        "The [geometric](https://en.wikipedia.org/wiki/Geometric_distribution) and [exponential](https://en.wikipedia.org/wiki/Exponential_distribution) distributions model the time it takes for an event to occur.\n",
        "\n",
        "* The geometric distribution is discrete and models the number of trials it takes to achieve a success in repeated experiments with a given probability of success.\n",
        "\n",
        "* The exponential distribution is a continuous analog of the geometric distribution and models the amount of time you have to wait before an event occurs given a certain occurrence rate.\n"
      ]
    },
    {
      "cell_type": "markdown",
      "source": [
        "## Geometric Distributions"
      ],
      "metadata": {
        "id": "PGhkGIG1y3rF"
      }
    },
    {
      "cell_type": "code",
      "execution_count": null,
      "metadata": {
        "colab": {
          "base_uri": "https://localhost:8080/",
          "height": 443
        },
        "id": "KQNsowGbJm9C",
        "outputId": "b5e8f8ab-de2e-40a1-d40f-7aa709887972"
      },
      "outputs": [
        {
          "output_type": "stream",
          "name": "stdout",
          "text": [
            "col_0     1     2     3    4    5    6   7   8   9   10  11  12  13  14  18\n",
            "row_0                                                                      \n",
            "counts  5035  2467  1287  617  312  140  67  34  18  12   4   3   1   2   1\n"
          ]
        },
        {
          "output_type": "display_data",
          "data": {
            "text/plain": [
              "<Figure size 1000x400 with 1 Axes>"
            ],
            "image/png": "[encoded data removed]"
          },
          "metadata": {}
        }
      ],
      "source": [
        "random.seed(12)\n",
        "\n",
        "flips_till_heads = stats.geom.rvs(size=10000,  # Generate geometric data\n",
        "                                  p=0.5)       # With success prob 0.5\n",
        "\n",
        "# Print table of counts\n",
        "print(pd.crosstab(index=\"counts\", columns= flips_till_heads))\n",
        "\n",
        "# Plot histogram\n",
        "pd.DataFrame(flips_till_heads).hist(range=(-0.5,max(flips_till_heads)+0.5), bins=max(flips_till_heads)+1,figsize=(10,4));"
      ]
    },
    {
      "cell_type": "code",
      "source": [
        "pd.crosstab(index=\"counts\", columns= flips_till_heads,normalize='index')"
      ],
      "metadata": {
        "colab": {
          "base_uri": "https://localhost:8080/",
          "height": 112
        },
        "id": "EH2gx6VIx6VW",
        "outputId": "9a4c50e6-7b20-48ff-b170-45b02c8a167c"
      },
      "execution_count": null,
      "outputs": [
        {
          "output_type": "execute_result",
          "data": {
            "text/plain": [
              "col_0       1       2       3       4       5      6       7       8       9   \\\n",
              "row_0                                                                           \n",
              "counts  0.5035  0.2467  0.1287  0.0617  0.0312  0.014  0.0067  0.0034  0.0018   \n",
              "\n",
              "col_0       10      11      12      13      14      18  \n",
              "row_0                                                   \n",
              "counts  0.0012  0.0004  0.0003  0.0001  0.0002  0.0001  "
            ],
            "text/html": [
              "\n",
              "  <div id=\"df-9c642240-c902-4b5d-9f2e-01eb01bef187\" class=\"colab-df-container\">\n",
              "    <div>\n",
              "<style scoped>\n",
              "    .dataframe tbody tr th:only-of-type {\n",
              "        vertical-align: middle;\n",
              "    }\n",
              "\n",
              "    .dataframe tbody tr th {\n",
              "        vertical-align: top;\n",
              "    }\n",
              "\n",
              "    .dataframe thead th {\n",
              "        text-align: right;\n",
              "    }\n",
              "</style>\n",
              "<table border=\"1\" class=\"dataframe\">\n",
              "  <thead>\n",
              "    <tr style=\"text-align: right;\">\n",
              "      <th>col_0</th>\n",
              "      <th>1</th>\n",
              "      <th>2</th>\n",
              "      <th>3</th>\n",
              "      <th>4</th>\n",
              "      <th>5</th>\n",
              "      <th>6</th>\n",
              "      <th>7</th>\n",
              "      <th>8</th>\n",
              "      <th>9</th>\n",
              "      <th>10</th>\n",
              "      <th>11</th>\n",
              "      <th>12</th>\n",
              "      <th>13</th>\n",
              "      <th>14</th>\n",
              "      <th>18</th>\n",
              "    </tr>\n",
              "    <tr>\n",
              "      <th>row_0</th>\n",
              "      <th></th>\n",
              "      <th></th>\n",
              "      <th></th>\n",
              "      <th></th>\n",
              "      <th></th>\n",
              "      <th></th>\n",
              "      <th></th>\n",
              "      <th></th>\n",
              "      <th></th>\n",
              "      <th></th>\n",
              "      <th></th>\n",
              "      <th></th>\n",
              "      <th></th>\n",
              "      <th></th>\n",
              "      <th></th>\n",
              "    </tr>\n",
              "  </thead>\n",
              "  <tbody>\n",
              "    <tr>\n",
              "      <th>counts</th>\n",
              "      <td>0.5035</td>\n",
              "      <td>0.2467</td>\n",
              "      <td>0.1287</td>\n",
              "      <td>0.0617</td>\n",
              "      <td>0.0312</td>\n",
              "      <td>0.014</td>\n",
              "      <td>0.0067</td>\n",
              "      <td>0.0034</td>\n",
              "      <td>0.0018</td>\n",
              "      <td>0.0012</td>\n",
              "      <td>0.0004</td>\n",
              "      <td>0.0003</td>\n",
              "      <td>0.0001</td>\n",
              "      <td>0.0002</td>\n",
              "      <td>0.0001</td>\n",
              "    </tr>\n",
              "  </tbody>\n",
              "</table>\n",
              "</div>\n",
              "    <div class=\"colab-df-buttons\">\n",
              "\n",
              "  <div class=\"colab-df-container\">\n",
              "    <button class=\"colab-df-convert\" onclick=\"convertToInteractive('df-9c642240-c902-4b5d-9f2e-01eb01bef187')\"\n",
              "            title=\"Convert this dataframe to an interactive table.\"\n",
              "            style=\"display:none;\">\n",
              "\n",
              "  <svg xmlns=\"http://www.w3.org/2000/svg\" height=\"24px\" viewBox=\"0 -960 960 960\">\n",
              "    <path d=\"M120-120v-720h720v720H120Zm60-500h600v-160H180v160Zm220 220h160v-160H400v160Zm0 220h160v-160H400v160ZM180-400h160v-160H180v160Zm440 0h160v-160H620v160ZM180-180h160v-160H180v160Zm440 0h160v-160H620v160Z\"/>\n",
              "  </svg>\n",
              "    </button>\n",
              "\n",
              "  <style>\n",
              "    .colab-df-container {\n",
              "      display:flex;\n",
              "      gap: 12px;\n",
              "    }\n",
              "\n",
              "    .colab-df-convert {\n",
              "      background-color: #E8F0FE;\n",
              "      border: none;\n",
              "      border-radius: 50%;\n",
              "      cursor: pointer;\n",
              "      display: none;\n",
              "      fill: #1967D2;\n",
              "      height: 32px;\n",
              "      padding: 0 0 0 0;\n",
              "      width: 32px;\n",
              "    }\n",
              "\n",
              "    .colab-df-convert:hover {\n",
              "      background-color: #E2EBFA;\n",
              "      box-shadow: 0px 1px 2px rgba(60, 64, 67, 0.3), 0px 1px 3px 1px rgba(60, 64, 67, 0.15);\n",
              "      fill: #174EA6;\n",
              "    }\n",
              "\n",
              "    .colab-df-buttons div {\n",
              "      margin-bottom: 4px;\n",
              "    }\n",
              "\n",
              "    [theme=dark] .colab-df-convert {\n",
              "      background-color: #3B4455;\n",
              "      fill: #D2E3FC;\n",
              "    }\n",
              "\n",
              "    [theme=dark] .colab-df-convert:hover {\n",
              "      background-color: #434B5C;\n",
              "      box-shadow: 0px 1px 3px 1px rgba(0, 0, 0, 0.15);\n",
              "      filter: drop-shadow(0px 1px 2px rgba(0, 0, 0, 0.3));\n",
              "      fill: #FFFFFF;\n",
              "    }\n",
              "  </style>\n",
              "\n",
              "    <script>\n",
              "      const buttonEl =\n",
              "        document.querySelector('#df-9c642240-c902-4b5d-9f2e-01eb01bef187 button.colab-df-convert');\n",
              "      buttonEl.style.display =\n",
              "        google.colab.kernel.accessAllowed ? 'block' : 'none';\n",
              "\n",
              "      async function convertToInteractive(key) {\n",
              "        const element = document.querySelector('#df-9c642240-c902-4b5d-9f2e-01eb01bef187');\n",
              "        const dataTable =\n",
              "          await google.colab.kernel.invokeFunction('convertToInteractive',\n",
              "                                                    [key], {});\n",
              "        if (!dataTable) return;\n",
              "\n",
              "        const docLinkHtml = 'Like what you see? Visit the ' +\n",
              "          '<a target=\"_blank\" href=https://colab.research.google.com/notebooks/data_table.ipynb>data table notebook</a>'\n",
              "          + ' to learn more about interactive tables.';\n",
              "        element.innerHTML = '';\n",
              "        dataTable['output_type'] = 'display_data';\n",
              "        await google.colab.output.renderOutput(dataTable, element);\n",
              "        const docLink = document.createElement('div');\n",
              "        docLink.innerHTML = docLinkHtml;\n",
              "        element.appendChild(docLink);\n",
              "      }\n",
              "    </script>\n",
              "  </div>\n",
              "\n",
              "    </div>\n",
              "  </div>\n"
            ],
            "application/vnd.google.colaboratory.intrinsic+json": {
              "type": "dataframe",
              "summary": "{\n  \"name\": \"pd\",\n  \"rows\": 1,\n  \"fields\": [\n    {\n      \"column\": \"row_0\",\n      \"properties\": {\n        \"dtype\": \"string\",\n        \"num_unique_values\": 1,\n        \"samples\": [\n          \"counts\"\n        ],\n        \"semantic_type\": \"\",\n        \"description\": \"\"\n      }\n    },\n    {\n      \"column\": 1,\n      \"properties\": {\n        \"dtype\": \"number\",\n        \"std\": null,\n        \"min\": 0.5035,\n        \"max\": 0.5035,\n        \"num_unique_values\": 1,\n        \"samples\": [\n          0.5035\n        ],\n        \"semantic_type\": \"\",\n        \"description\": \"\"\n      }\n    },\n    {\n      \"column\": 2,\n      \"properties\": {\n        \"dtype\": \"number\",\n        \"std\": null,\n        \"min\": 0.2467,\n        \"max\": 0.2467,\n        \"num_unique_values\": 1,\n        \"samples\": [\n          0.2467\n        ],\n        \"semantic_type\": \"\",\n        \"description\": \"\"\n      }\n    },\n    {\n      \"column\": 3,\n      \"properties\": {\n        \"dtype\": \"number\",\n        \"std\": null,\n        \"min\": 0.1287,\n        \"max\": 0.1287,\n        \"num_unique_values\": 1,\n        \"samples\": [\n          0.1287\n        ],\n        \"semantic_type\": \"\",\n        \"description\": \"\"\n      }\n    },\n    {\n      \"column\": 4,\n      \"properties\": {\n        \"dtype\": \"number\",\n        \"std\": null,\n        \"min\": 0.0617,\n        \"max\": 0.0617,\n        \"num_unique_values\": 1,\n        \"samples\": [\n          0.0617\n        ],\n        \"semantic_type\": \"\",\n        \"description\": \"\"\n      }\n    },\n    {\n      \"column\": 5,\n      \"properties\": {\n        \"dtype\": \"number\",\n        \"std\": null,\n        \"min\": 0.0312,\n        \"max\": 0.0312,\n        \"num_unique_values\": 1,\n        \"samples\": [\n          0.0312\n        ],\n        \"semantic_type\": \"\",\n        \"description\": \"\"\n      }\n    },\n    {\n      \"column\": 6,\n      \"properties\": {\n        \"dtype\": \"number\",\n        \"std\": null,\n        \"min\": 0.014,\n        \"max\": 0.014,\n        \"num_unique_values\": 1,\n        \"samples\": [\n          0.014\n        ],\n        \"semantic_type\": \"\",\n        \"description\": \"\"\n      }\n    },\n    {\n      \"column\": 7,\n      \"properties\": {\n        \"dtype\": \"number\",\n        \"std\": null,\n        \"min\": 0.0067,\n        \"max\": 0.0067,\n        \"num_unique_values\": 1,\n        \"samples\": [\n          0.0067\n        ],\n        \"semantic_type\": \"\",\n        \"description\": \"\"\n      }\n    },\n    {\n      \"column\": 8,\n      \"properties\": {\n        \"dtype\": \"number\",\n        \"std\": null,\n        \"min\": 0.0034,\n        \"max\": 0.0034,\n        \"num_unique_values\": 1,\n        \"samples\": [\n          0.0034\n        ],\n        \"semantic_type\": \"\",\n        \"description\": \"\"\n      }\n    },\n    {\n      \"column\": 9,\n      \"properties\": {\n        \"dtype\": \"number\",\n        \"std\": null,\n        \"min\": 0.0018,\n        \"max\": 0.0018,\n        \"num_unique_values\": 1,\n        \"samples\": [\n          0.0018\n        ],\n        \"semantic_type\": \"\",\n        \"description\": \"\"\n      }\n    },\n    {\n      \"column\": 10,\n      \"properties\": {\n        \"dtype\": \"number\",\n        \"std\": null,\n        \"min\": 0.0012,\n        \"max\": 0.0012,\n        \"num_unique_values\": 1,\n        \"samples\": [\n          0.0012\n        ],\n        \"semantic_type\": \"\",\n        \"description\": \"\"\n      }\n    },\n    {\n      \"column\": 11,\n      \"properties\": {\n        \"dtype\": \"number\",\n        \"std\": null,\n        \"min\": 0.0004,\n        \"max\": 0.0004,\n        \"num_unique_values\": 1,\n        \"samples\": [\n          0.0004\n        ],\n        \"semantic_type\": \"\",\n        \"description\": \"\"\n      }\n    },\n    {\n      \"column\": 12,\n      \"properties\": {\n        \"dtype\": \"number\",\n        \"std\": null,\n        \"min\": 0.0003,\n        \"max\": 0.0003,\n        \"num_unique_values\": 1,\n        \"samples\": [\n          0.0003\n        ],\n        \"semantic_type\": \"\",\n        \"description\": \"\"\n      }\n    },\n    {\n      \"column\": 13,\n      \"properties\": {\n        \"dtype\": \"number\",\n        \"std\": null,\n        \"min\": 0.0001,\n        \"max\": 0.0001,\n        \"num_unique_values\": 1,\n        \"samples\": [\n          0.0001\n        ],\n        \"semantic_type\": \"\",\n        \"description\": \"\"\n      }\n    },\n    {\n      \"column\": 14,\n      \"properties\": {\n        \"dtype\": \"number\",\n        \"std\": null,\n        \"min\": 0.0002,\n        \"max\": 0.0002,\n        \"num_unique_values\": 1,\n        \"samples\": [\n          0.0002\n        ],\n        \"semantic_type\": \"\",\n        \"description\": \"\"\n      }\n    },\n    {\n      \"column\": 18,\n      \"properties\": {\n        \"dtype\": \"number\",\n        \"std\": null,\n        \"min\": 0.0001,\n        \"max\": 0.0001,\n        \"num_unique_values\": 1,\n        \"samples\": [\n          0.0001\n        ],\n        \"semantic_type\": \"\",\n        \"description\": \"\"\n      }\n    }\n  ]\n}"
            }
          },
          "metadata": {},
          "execution_count": 52
        }
      ]
    },
    {
      "cell_type": "code",
      "execution_count": null,
      "metadata": {
        "colab": {
          "base_uri": "https://localhost:8080/"
        },
        "id": "NmCr8OMIJm9D",
        "outputId": "637686f0-8c4b-46da-e3d6-f5697424ac06"
      },
      "outputs": [
        {
          "output_type": "execute_result",
          "data": {
            "text/plain": [
              "0.03125"
            ]
          },
          "metadata": {},
          "execution_count": 53
        }
      ],
      "source": [
        "# P(X>6) =1-P(X<=5)  using cdf()\n",
        "first_five = stats.geom.cdf(k=5,   # Prob of success in first 5 flips\n",
        "                           p=0.5)\n",
        "\n",
        "1 - first_five"
      ]
    },
    {
      "cell_type": "code",
      "execution_count": null,
      "metadata": {
        "colab": {
          "base_uri": "https://localhost:8080/"
        },
        "id": "C880DrixJm9I",
        "outputId": "c776064f-3135-4914-9979-81d465e26fbc"
      },
      "outputs": [
        {
          "output_type": "execute_result",
          "data": {
            "text/plain": [
              "0.25"
            ]
          },
          "metadata": {},
          "execution_count": 54
        }
      ],
      "source": [
        "# P(X=2) using pmf()\n",
        "stats.geom.pmf(k=2,   # Prob of needing exactly 2 flips to get first success\n",
        "              p=0.5)"
      ]
    },
    {
      "cell_type": "markdown",
      "source": [
        "## Exponencial Distributions"
      ],
      "metadata": {
        "id": "O47Rricc2AiO"
      }
    },
    {
      "cell_type": "markdown",
      "metadata": {
        "id": "5Gth1KamJm9O"
      },
      "source": [
        "*Note: The average arrival time for the exponential distribution is equal to 1/arrival_rate.*\n",
        "\n",
        "Let's plot this exponential distribution to get an idea of its shape:"
      ]
    },
    {
      "cell_type": "code",
      "source": [
        "# Get the probability of waiting more than 1 time unit before a success\n",
        "\n",
        "# P(X>1) sabiendo que X sigue una exponencial\n",
        "\n",
        "# P(X>1) = 1 - P(X<=1)\n",
        "\n",
        "prob_1 = stats.expon.cdf(x=1,\n",
        "                         scale=1)  # Arrival rate\n",
        "\n",
        "1 - prob_1"
      ],
      "metadata": {
        "colab": {
          "base_uri": "https://localhost:8080/"
        },
        "id": "4whC3-6dM6mc",
        "outputId": "763e4a2c-6a05-4609-dc4f-2006c6f82658"
      },
      "execution_count": null,
      "outputs": [
        {
          "output_type": "execute_result",
          "data": {
            "text/plain": [
              "0.36787944117144233"
            ]
          },
          "metadata": {},
          "execution_count": 78
        }
      ]
    },
    {
      "cell_type": "code",
      "execution_count": null,
      "metadata": {
        "colab": {
          "base_uri": "https://localhost:8080/",
          "height": 368
        },
        "id": "KOk2FhwcJm9O",
        "outputId": "05cc6821-813b-4b6e-b428-3118654b0c8a"
      },
      "outputs": [
        {
          "output_type": "display_data",
          "data": {
            "text/plain": [
              "<Figure size 1600x400 with 1 Axes>"
            ],
            "image/png": "[encoded data removed]"
          },
          "metadata": {}
        }
      ],
      "source": [
        "plt.fill_between(x=np.arange(0,1,0.01),\n",
        "                 y1= stats.expon.pdf(np.arange(0,1,0.01)) ,\n",
        "                 facecolor='blue',\n",
        "                 alpha=0.35)\n",
        "\n",
        "plt.fill_between(x=np.arange(1,7,0.01),\n",
        "                 y1= stats.expon.pdf(np.arange(1,7,0.01)) ,\n",
        "                 facecolor='red',\n",
        "                 alpha=0.35)\n",
        "\n",
        "\n",
        "plt.text(x=0.3, y=0.2, s= round(prob_1,4))\n",
        "plt.text(x=1.5, y=0.08, s= round(1 - prob_1,4));"
      ]
    },
    {
      "cell_type": "code",
      "source": [
        "# P(X<=1)\n",
        "print('P(X<=1) =',round(stats.expon.cdf(x=1,scale=1),3))\n",
        "# P(X<=1)\n",
        "print(' P(X>1) =',round(1-stats.expon.cdf(x=1,scale=1),3))"
      ],
      "metadata": {
        "colab": {
          "base_uri": "https://localhost:8080/"
        },
        "id": "glkzsE-s2hL5",
        "outputId": "dc911a58-0108-4622-d873-734eefe9d22a"
      },
      "execution_count": null,
      "outputs": [
        {
          "output_type": "stream",
          "name": "stdout",
          "text": [
            "P(X<=1) = 0.632\n",
            " P(X>1) = 0.368\n"
          ]
        }
      ]
    },
    {
      "cell_type": "markdown",
      "metadata": {
        "id": "pUU810VBJm9P"
      },
      "source": [
        "Similar to the geometric distribution, the exponential starts high and has a long tail that trails off to the right that contains rare cases where you have to wait much longer than average for an arrival."
      ]
    },
    {
      "cell_type": "markdown",
      "metadata": {
        "id": "_l0xORUOJm9U"
      },
      "source": [
        "## The Poisson Distribution"
      ]
    },
    {
      "cell_type": "markdown",
      "metadata": {
        "id": "fn_brBADJm9V"
      },
      "source": [
        "The [Poisson distribution](https://en.wikipedia.org/wiki/Poisson_distribution) models the probability of seeing a certain number of successes within a time interval, where the time it takes for the next success is modeled by an exponential distribution. The Poisson distribution can be used to model traffic, such as the number of arrivals a hospital can expect in a hour's time or the number of emails you'd expect to receive in a week.\n",
        "\n",
        "The scipy name for the Poisson distribution is \"poisson\". Let's generate and plot some data from a Poisson distribution with an arrival rate of 1 per time unit:"
      ]
    },
    {
      "cell_type": "code",
      "execution_count": null,
      "metadata": {
        "colab": {
          "base_uri": "https://localhost:8080/",
          "height": 391
        },
        "id": "YRHCObVFJm9V",
        "outputId": "364ef859-adbe-47e5-a81d-e92d19c3b204"
      },
      "outputs": [
        {
          "output_type": "display_data",
          "data": {
            "text/plain": [
              "<Figure size 1400x400 with 1 Axes>"
            ],
            "image/png": "[encoded data removed]"
          },
          "metadata": {}
        }
      ],
      "source": [
        "random.seed(12)\n",
        "\n",
        "arrival_rate_1 = stats.poisson.rvs(size=10000,  # Generate Poisson data\n",
        "                                   mu=1 )       # Average arrival time 1\n",
        "\n",
        "\n",
        "# Plot histogram\n",
        "pd.DataFrame(arrival_rate_1).hist(range=(-0.5,max(arrival_rate_1)+0.5)\n",
        "                                    , bins=max(arrival_rate_1)+1,figsize=(14,4));"
      ]
    },
    {
      "cell_type": "code",
      "source": [
        "# Print table of counts\n",
        "pd.crosstab(index=\"counts\", columns= arrival_rate_1,normalize='index')\n"
      ],
      "metadata": {
        "colab": {
          "base_uri": "https://localhost:8080/",
          "height": 112
        },
        "id": "mWF0UCE43i2C",
        "outputId": "498f6c08-acfd-4355-bcd1-f8b00f1a7dba"
      },
      "execution_count": null,
      "outputs": [
        {
          "output_type": "execute_result",
          "data": {
            "text/plain": [
              "col_0        0       1       2       3       4       5       6       7\n",
              "row_0                                                                 \n",
              "counts  0.3618  0.3706  0.1854  0.0627  0.0155  0.0033  0.0005  0.0002"
            ],
            "text/html": [
              "\n",
              "  <div id=\"df-41f59078-7ca1-4374-a8e0-2b1c309f2f2a\" class=\"colab-df-container\">\n",
              "    <div>\n",
              "<style scoped>\n",
              "    .dataframe tbody tr th:only-of-type {\n",
              "        vertical-align: middle;\n",
              "    }\n",
              "\n",
              "    .dataframe tbody tr th {\n",
              "        vertical-align: top;\n",
              "    }\n",
              "\n",
              "    .dataframe thead th {\n",
              "        text-align: right;\n",
              "    }\n",
              "</style>\n",
              "<table border=\"1\" class=\"dataframe\">\n",
              "  <thead>\n",
              "    <tr style=\"text-align: right;\">\n",
              "      <th>col_0</th>\n",
              "      <th>0</th>\n",
              "      <th>1</th>\n",
              "      <th>2</th>\n",
              "      <th>3</th>\n",
              "      <th>4</th>\n",
              "      <th>5</th>\n",
              "      <th>6</th>\n",
              "      <th>7</th>\n",
              "    </tr>\n",
              "    <tr>\n",
              "      <th>row_0</th>\n",
              "      <th></th>\n",
              "      <th></th>\n",
              "      <th></th>\n",
              "      <th></th>\n",
              "      <th></th>\n",
              "      <th></th>\n",
              "      <th></th>\n",
              "      <th></th>\n",
              "    </tr>\n",
              "  </thead>\n",
              "  <tbody>\n",
              "    <tr>\n",
              "      <th>counts</th>\n",
              "      <td>0.3618</td>\n",
              "      <td>0.3706</td>\n",
              "      <td>0.1854</td>\n",
              "      <td>0.0627</td>\n",
              "      <td>0.0155</td>\n",
              "      <td>0.0033</td>\n",
              "      <td>0.0005</td>\n",
              "      <td>0.0002</td>\n",
              "    </tr>\n",
              "  </tbody>\n",
              "</table>\n",
              "</div>\n",
              "    <div class=\"colab-df-buttons\">\n",
              "\n",
              "  <div class=\"colab-df-container\">\n",
              "    <button class=\"colab-df-convert\" onclick=\"convertToInteractive('df-41f59078-7ca1-4374-a8e0-2b1c309f2f2a')\"\n",
              "            title=\"Convert this dataframe to an interactive table.\"\n",
              "            style=\"display:none;\">\n",
              "\n",
              "  <svg xmlns=\"http://www.w3.org/2000/svg\" height=\"24px\" viewBox=\"0 -960 960 960\">\n",
              "    <path d=\"M120-120v-720h720v720H120Zm60-500h600v-160H180v160Zm220 220h160v-160H400v160Zm0 220h160v-160H400v160ZM180-400h160v-160H180v160Zm440 0h160v-160H620v160ZM180-180h160v-160H180v160Zm440 0h160v-160H620v160Z\"/>\n",
              "  </svg>\n",
              "    </button>\n",
              "\n",
              "  <style>\n",
              "    .colab-df-container {\n",
              "      display:flex;\n",
              "      gap: 12px;\n",
              "    }\n",
              "\n",
              "    .colab-df-convert {\n",
              "      background-color: #E8F0FE;\n",
              "      border: none;\n",
              "      border-radius: 50%;\n",
              "      cursor: pointer;\n",
              "      display: none;\n",
              "      fill: #1967D2;\n",
              "      height: 32px;\n",
              "      padding: 0 0 0 0;\n",
              "      width: 32px;\n",
              "    }\n",
              "\n",
              "    .colab-df-convert:hover {\n",
              "      background-color: #E2EBFA;\n",
              "      box-shadow: 0px 1px 2px rgba(60, 64, 67, 0.3), 0px 1px 3px 1px rgba(60, 64, 67, 0.15);\n",
              "      fill: #174EA6;\n",
              "    }\n",
              "\n",
              "    .colab-df-buttons div {\n",
              "      margin-bottom: 4px;\n",
              "    }\n",
              "\n",
              "    [theme=dark] .colab-df-convert {\n",
              "      background-color: #3B4455;\n",
              "      fill: #D2E3FC;\n",
              "    }\n",
              "\n",
              "    [theme=dark] .colab-df-convert:hover {\n",
              "      background-color: #434B5C;\n",
              "      box-shadow: 0px 1px 3px 1px rgba(0, 0, 0, 0.15);\n",
              "      filter: drop-shadow(0px 1px 2px rgba(0, 0, 0, 0.3));\n",
              "      fill: #FFFFFF;\n",
              "    }\n",
              "  </style>\n",
              "\n",
              "    <script>\n",
              "      const buttonEl =\n",
              "        document.querySelector('#df-41f59078-7ca1-4374-a8e0-2b1c309f2f2a button.colab-df-convert');\n",
              "      buttonEl.style.display =\n",
              "        google.colab.kernel.accessAllowed ? 'block' : 'none';\n",
              "\n",
              "      async function convertToInteractive(key) {\n",
              "        const element = document.querySelector('#df-41f59078-7ca1-4374-a8e0-2b1c309f2f2a');\n",
              "        const dataTable =\n",
              "          await google.colab.kernel.invokeFunction('convertToInteractive',\n",
              "                                                    [key], {});\n",
              "        if (!dataTable) return;\n",
              "\n",
              "        const docLinkHtml = 'Like what you see? Visit the ' +\n",
              "          '<a target=\"_blank\" href=https://colab.research.google.com/notebooks/data_table.ipynb>data table notebook</a>'\n",
              "          + ' to learn more about interactive tables.';\n",
              "        element.innerHTML = '';\n",
              "        dataTable['output_type'] = 'display_data';\n",
              "        await google.colab.output.renderOutput(dataTable, element);\n",
              "        const docLink = document.createElement('div');\n",
              "        docLink.innerHTML = docLinkHtml;\n",
              "        element.appendChild(docLink);\n",
              "      }\n",
              "    </script>\n",
              "  </div>\n",
              "\n",
              "    </div>\n",
              "  </div>\n"
            ],
            "application/vnd.google.colaboratory.intrinsic+json": {
              "type": "dataframe",
              "summary": "{\n  \"name\": \"pd\",\n  \"rows\": 1,\n  \"fields\": [\n    {\n      \"column\": \"row_0\",\n      \"properties\": {\n        \"dtype\": \"string\",\n        \"num_unique_values\": 1,\n        \"samples\": [\n          \"counts\"\n        ],\n        \"semantic_type\": \"\",\n        \"description\": \"\"\n      }\n    },\n    {\n      \"column\": 0,\n      \"properties\": {\n        \"dtype\": \"number\",\n        \"std\": null,\n        \"min\": 0.3618,\n        \"max\": 0.3618,\n        \"num_unique_values\": 1,\n        \"samples\": [\n          0.3618\n        ],\n        \"semantic_type\": \"\",\n        \"description\": \"\"\n      }\n    },\n    {\n      \"column\": 1,\n      \"properties\": {\n        \"dtype\": \"number\",\n        \"std\": null,\n        \"min\": 0.3706,\n        \"max\": 0.3706,\n        \"num_unique_values\": 1,\n        \"samples\": [\n          0.3706\n        ],\n        \"semantic_type\": \"\",\n        \"description\": \"\"\n      }\n    },\n    {\n      \"column\": 2,\n      \"properties\": {\n        \"dtype\": \"number\",\n        \"std\": null,\n        \"min\": 0.1854,\n        \"max\": 0.1854,\n        \"num_unique_values\": 1,\n        \"samples\": [\n          0.1854\n        ],\n        \"semantic_type\": \"\",\n        \"description\": \"\"\n      }\n    },\n    {\n      \"column\": 3,\n      \"properties\": {\n        \"dtype\": \"number\",\n        \"std\": null,\n        \"min\": 0.0627,\n        \"max\": 0.0627,\n        \"num_unique_values\": 1,\n        \"samples\": [\n          0.0627\n        ],\n        \"semantic_type\": \"\",\n        \"description\": \"\"\n      }\n    },\n    {\n      \"column\": 4,\n      \"properties\": {\n        \"dtype\": \"number\",\n        \"std\": null,\n        \"min\": 0.0155,\n        \"max\": 0.0155,\n        \"num_unique_values\": 1,\n        \"samples\": [\n          0.0155\n        ],\n        \"semantic_type\": \"\",\n        \"description\": \"\"\n      }\n    },\n    {\n      \"column\": 5,\n      \"properties\": {\n        \"dtype\": \"number\",\n        \"std\": null,\n        \"min\": 0.0033,\n        \"max\": 0.0033,\n        \"num_unique_values\": 1,\n        \"samples\": [\n          0.0033\n        ],\n        \"semantic_type\": \"\",\n        \"description\": \"\"\n      }\n    },\n    {\n      \"column\": 6,\n      \"properties\": {\n        \"dtype\": \"number\",\n        \"std\": null,\n        \"min\": 0.0005,\n        \"max\": 0.0005,\n        \"num_unique_values\": 1,\n        \"samples\": [\n          0.0005\n        ],\n        \"semantic_type\": \"\",\n        \"description\": \"\"\n      }\n    },\n    {\n      \"column\": 7,\n      \"properties\": {\n        \"dtype\": \"number\",\n        \"std\": null,\n        \"min\": 0.0002,\n        \"max\": 0.0002,\n        \"num_unique_values\": 1,\n        \"samples\": [\n          0.0002\n        ],\n        \"semantic_type\": \"\",\n        \"description\": \"\"\n      }\n    }\n  ]\n}"
            }
          },
          "metadata": {},
          "execution_count": 59
        }
      ]
    },
    {
      "cell_type": "markdown",
      "metadata": {
        "id": "JghHGJ1rJm9b"
      },
      "source": [
        "The histogram shows that when arrivals are relatively infrequent, it is rare to see more than a couple of arrivals in each time period. When the arrival rate is high, it becomes increasingly rare to see a low number of arrivals and the distribution starts to look more symmetric:"
      ]
    },
    {
      "cell_type": "code",
      "execution_count": null,
      "metadata": {
        "colab": {
          "base_uri": "https://localhost:8080/",
          "height": 391
        },
        "id": "0OcVbjvuJm9c",
        "outputId": "b20dfef4-dcc1-4f4c-c494-2be4177aa466"
      },
      "outputs": [
        {
          "output_type": "display_data",
          "data": {
            "text/plain": [
              "<Figure size 1400x400 with 1 Axes>"
            ],
            "image/png": "[encoded data removed]"
          },
          "metadata": {}
        }
      ],
      "source": [
        "random.seed(12)\n",
        "\n",
        "arrival_rate_10 = stats.poisson.rvs(size=10000,  # Generate Poisson data\n",
        "                                   mu=10 )       # Average arrival time 10\n",
        "\n",
        "# Plot histogram\n",
        "pd.DataFrame(arrival_rate_10).hist(range=(-0.5,max(arrival_rate_10)+0.5)\n",
        "                                    , bins=max(arrival_rate_10)+1,figsize=(14,4));"
      ]
    },
    {
      "cell_type": "code",
      "source": [
        "pd.crosstab(index=\"counts\", columns= arrival_rate_10,normalize='index')"
      ],
      "metadata": {
        "colab": {
          "base_uri": "https://localhost:8080/",
          "height": 141
        },
        "id": "hrQDjLOC3tbH",
        "outputId": "943ef55f-e265-4da0-d0ef-43c02da46e16"
      },
      "execution_count": null,
      "outputs": [
        {
          "output_type": "execute_result",
          "data": {
            "text/plain": [
              "col_0       1       2       3       4       5       6       7      8       9   \\\n",
              "row_0                                                                           \n",
              "counts  0.0005  0.0027  0.0067  0.0196  0.0399  0.0633  0.0886  0.105  0.1214   \n",
              "\n",
              "col_0       10  ...      16      17      18      19      20      21      22  \\\n",
              "row_0           ...                                                           \n",
              "counts  0.1243  ...  0.0219  0.0142  0.0059  0.0047  0.0017  0.0015  0.0002   \n",
              "\n",
              "col_0       23      24      25  \n",
              "row_0                           \n",
              "counts  0.0002  0.0002  0.0001  \n",
              "\n",
              "[1 rows x 25 columns]"
            ],
            "text/html": [
              "\n",
              "  <div id=\"df-53a78750-dc2a-4e48-8926-75bb257d2a6f\" class=\"colab-df-container\">\n",
              "    <div>\n",
              "<style scoped>\n",
              "    .dataframe tbody tr th:only-of-type {\n",
              "        vertical-align: middle;\n",
              "    }\n",
              "\n",
              "    .dataframe tbody tr th {\n",
              "        vertical-align: top;\n",
              "    }\n",
              "\n",
              "    .dataframe thead th {\n",
              "        text-align: right;\n",
              "    }\n",
              "</style>\n",
              "<table border=\"1\" class=\"dataframe\">\n",
              "  <thead>\n",
              "    <tr style=\"text-align: right;\">\n",
              "      <th>col_0</th>\n",
              "      <th>1</th>\n",
              "      <th>2</th>\n",
              "      <th>3</th>\n",
              "      <th>4</th>\n",
              "      <th>5</th>\n",
              "      <th>6</th>\n",
              "      <th>7</th>\n",
              "      <th>8</th>\n",
              "      <th>9</th>\n",
              "      <th>10</th>\n",
              "      <th>...</th>\n",
              "      <th>16</th>\n",
              "      <th>17</th>\n",
              "      <th>18</th>\n",
              "      <th>19</th>\n",
              "      <th>20</th>\n",
              "      <th>21</th>\n",
              "      <th>22</th>\n",
              "      <th>23</th>\n",
              "      <th>24</th>\n",
              "      <th>25</th>\n",
              "    </tr>\n",
              "    <tr>\n",
              "      <th>row_0</th>\n",
              "      <th></th>\n",
              "      <th></th>\n",
              "      <th></th>\n",
              "      <th></th>\n",
              "      <th></th>\n",
              "      <th></th>\n",
              "      <th></th>\n",
              "      <th></th>\n",
              "      <th></th>\n",
              "      <th></th>\n",
              "      <th></th>\n",
              "      <th></th>\n",
              "      <th></th>\n",
              "      <th></th>\n",
              "      <th></th>\n",
              "      <th></th>\n",
              "      <th></th>\n",
              "      <th></th>\n",
              "      <th></th>\n",
              "      <th></th>\n",
              "      <th></th>\n",
              "    </tr>\n",
              "  </thead>\n",
              "  <tbody>\n",
              "    <tr>\n",
              "      <th>counts</th>\n",
              "      <td>0.0005</td>\n",
              "      <td>0.0027</td>\n",
              "      <td>0.0067</td>\n",
              "      <td>0.0196</td>\n",
              "      <td>0.0399</td>\n",
              "      <td>0.0633</td>\n",
              "      <td>0.0886</td>\n",
              "      <td>0.105</td>\n",
              "      <td>0.1214</td>\n",
              "      <td>0.1243</td>\n",
              "      <td>...</td>\n",
              "      <td>0.0219</td>\n",
              "      <td>0.0142</td>\n",
              "      <td>0.0059</td>\n",
              "      <td>0.0047</td>\n",
              "      <td>0.0017</td>\n",
              "      <td>0.0015</td>\n",
              "      <td>0.0002</td>\n",
              "      <td>0.0002</td>\n",
              "      <td>0.0002</td>\n",
              "      <td>0.0001</td>\n",
              "    </tr>\n",
              "  </tbody>\n",
              "</table>\n",
              "<p>1 rows × 25 columns</p>\n",
              "</div>\n",
              "    <div class=\"colab-df-buttons\">\n",
              "\n",
              "  <div class=\"colab-df-container\">\n",
              "    <button class=\"colab-df-convert\" onclick=\"convertToInteractive('df-53a78750-dc2a-4e48-8926-75bb257d2a6f')\"\n",
              "            title=\"Convert this dataframe to an interactive table.\"\n",
              "            style=\"display:none;\">\n",
              "\n",
              "  <svg xmlns=\"http://www.w3.org/2000/svg\" height=\"24px\" viewBox=\"0 -960 960 960\">\n",
              "    <path d=\"M120-120v-720h720v720H120Zm60-500h600v-160H180v160Zm220 220h160v-160H400v160Zm0 220h160v-160H400v160ZM180-400h160v-160H180v160Zm440 0h160v-160H620v160ZM180-180h160v-160H180v160Zm440 0h160v-160H620v160Z\"/>\n",
              "  </svg>\n",
              "    </button>\n",
              "\n",
              "  <style>\n",
              "    .colab-df-container {\n",
              "      display:flex;\n",
              "      gap: 12px;\n",
              "    }\n",
              "\n",
              "    .colab-df-convert {\n",
              "      background-color: #E8F0FE;\n",
              "      border: none;\n",
              "      border-radius: 50%;\n",
              "      cursor: pointer;\n",
              "      display: none;\n",
              "      fill: #1967D2;\n",
              "      height: 32px;\n",
              "      padding: 0 0 0 0;\n",
              "      width: 32px;\n",
              "    }\n",
              "\n",
              "    .colab-df-convert:hover {\n",
              "      background-color: #E2EBFA;\n",
              "      box-shadow: 0px 1px 2px rgba(60, 64, 67, 0.3), 0px 1px 3px 1px rgba(60, 64, 67, 0.15);\n",
              "      fill: #174EA6;\n",
              "    }\n",
              "\n",
              "    .colab-df-buttons div {\n",
              "      margin-bottom: 4px;\n",
              "    }\n",
              "\n",
              "    [theme=dark] .colab-df-convert {\n",
              "      background-color: #3B4455;\n",
              "      fill: #D2E3FC;\n",
              "    }\n",
              "\n",
              "    [theme=dark] .colab-df-convert:hover {\n",
              "      background-color: #434B5C;\n",
              "      box-shadow: 0px 1px 3px 1px rgba(0, 0, 0, 0.15);\n",
              "      filter: drop-shadow(0px 1px 2px rgba(0, 0, 0, 0.3));\n",
              "      fill: #FFFFFF;\n",
              "    }\n",
              "  </style>\n",
              "\n",
              "    <script>\n",
              "      const buttonEl =\n",
              "        document.querySelector('#df-53a78750-dc2a-4e48-8926-75bb257d2a6f button.colab-df-convert');\n",
              "      buttonEl.style.display =\n",
              "        google.colab.kernel.accessAllowed ? 'block' : 'none';\n",
              "\n",
              "      async function convertToInteractive(key) {\n",
              "        const element = document.querySelector('#df-53a78750-dc2a-4e48-8926-75bb257d2a6f');\n",
              "        const dataTable =\n",
              "          await google.colab.kernel.invokeFunction('convertToInteractive',\n",
              "                                                    [key], {});\n",
              "        if (!dataTable) return;\n",
              "\n",
              "        const docLinkHtml = 'Like what you see? Visit the ' +\n",
              "          '<a target=\"_blank\" href=https://colab.research.google.com/notebooks/data_table.ipynb>data table notebook</a>'\n",
              "          + ' to learn more about interactive tables.';\n",
              "        element.innerHTML = '';\n",
              "        dataTable['output_type'] = 'display_data';\n",
              "        await google.colab.output.renderOutput(dataTable, element);\n",
              "        const docLink = document.createElement('div');\n",
              "        docLink.innerHTML = docLinkHtml;\n",
              "        element.appendChild(docLink);\n",
              "      }\n",
              "    </script>\n",
              "  </div>\n",
              "\n",
              "    </div>\n",
              "  </div>\n"
            ],
            "application/vnd.google.colaboratory.intrinsic+json": {
              "type": "dataframe"
            }
          },
          "metadata": {},
          "execution_count": 61
        }
      ]
    },
    {
      "cell_type": "code",
      "execution_count": null,
      "metadata": {
        "colab": {
          "base_uri": "https://localhost:8080/"
        },
        "id": "s0_3pJiVJm9i",
        "outputId": "291010bc-7211-4f7b-abd6-a995f106f7df"
      },
      "outputs": [
        {
          "output_type": "execute_result",
          "data": {
            "text/plain": [
              "0.06708596287903189"
            ]
          },
          "metadata": {},
          "execution_count": 62
        }
      ],
      "source": [
        "# P(X<=5)\n",
        "stats.poisson.cdf(k=5,     # Check the probability of 5 arrivals or less\n",
        "                  mu=10)   # With arrival rate 10"
      ]
    },
    {
      "cell_type": "code",
      "execution_count": null,
      "metadata": {
        "colab": {
          "base_uri": "https://localhost:8080/"
        },
        "id": "-J7J0zRMJm9n",
        "outputId": "f2d509ed-5d7a-408e-8487-05f7108a1e11"
      },
      "outputs": [
        {
          "output_type": "execute_result",
          "data": {
            "text/plain": [
              "0.12511003572113372"
            ]
          },
          "metadata": {},
          "execution_count": 63
        }
      ],
      "source": [
        "# P(X=10)\n",
        "stats.poisson.pmf(k=9,     # Check the prob f exactly 10 arrivals\n",
        "                  mu=10)    # With arrival rate 10"
      ]
    },
    {
      "cell_type": "code",
      "source": [],
      "metadata": {
        "id": "6SmXx5f4eBLD"
      },
      "execution_count": null,
      "outputs": []
    },
    {
      "cell_type": "markdown",
      "source": [
        "Suppose the amount of gasoline sold daily at a service station\n",
        "is uniformly distributed with a minimum of 2000 gallons and a\n",
        "maximum of 5000 gallons. What is the probability that daily sales will fall between 2500 gallons and 3000 gallons?"
      ],
      "metadata": {
        "id": "rWfKW3tUeBod"
      }
    },
    {
      "cell_type": "code",
      "source": [
        "# P(2500<X<3000) sabiendo que X es U(2000,5000)\n",
        "\n",
        "# P(X<3000) - P(X<2500)\n",
        "stats.uniform.cdf(x=3000,loc=2000,scale=5000) - stats.uniform.cdf(x=2500,loc=2000,scale=5000)"
      ],
      "metadata": {
        "colab": {
          "base_uri": "https://localhost:8080/"
        },
        "id": "MoQNF0vheE3X",
        "outputId": "69b5f979-8c32-4408-ba88-1a52d4fa8ceb"
      },
      "execution_count": null,
      "outputs": [
        {
          "output_type": "execute_result",
          "data": {
            "text/plain": [
              "0.1"
            ]
          },
          "metadata": {},
          "execution_count": 80
        }
      ]
    }
  ],
  "metadata": {
    "kernelspec": {
      "display_name": "Python 3",
      "language": "python",
      "name": "python3"
    },
    "language_info": {
      "codemirror_mode": {
        "name": "ipython",
        "version": 3
      },
      "file_extension": ".py",
      "mimetype": "text/x-python",
      "name": "python",
      "nbconvert_exporter": "python",
      "pygments_lexer": "ipython3",
      "version": "3.6.4"
    },
    "colab": {
      "provenance": [],
      "include_colab_link": true
    }
  },
  "nbformat": 4,
  "nbformat_minor": 0
}
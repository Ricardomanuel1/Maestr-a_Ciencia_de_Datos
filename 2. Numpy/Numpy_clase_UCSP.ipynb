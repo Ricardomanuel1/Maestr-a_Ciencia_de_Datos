{
  "cells": [
    {
      "cell_type": "markdown",
      "metadata": {
        "id": "view-in-github",
        "colab_type": "text"
      },
      "source": [
        "<a href=\"https://colab.research.google.com/github/Ricardomanuel1/Maestria_Ciencia_de_Datos/blob/main/2.%20Numpy/Numpy_clase_UCSP.ipynb\" target=\"_parent\"><img src=\"https://colab.research.google.com/assets/colab-badge.svg\" alt=\"Open In Colab\"/></a>"
      ]
    },
    {
      "cell_type": "markdown",
      "source": [
        "#Numpy\n",
        "Es un paquete de python que significa \"Numerical Python\", es la librería principal para informática científica, proporciona potentes estructuras de datos.\n",
        "Numpy es una biblioteca para el lenguaje de programación python que da soporte para crear vectores y matrices multidimensionales.\n",
        "\n",
        "Una matriz es una lista de listas.\n"
      ],
      "metadata": {
        "id": "6Va_cOnUR2NK"
      }
    },
    {
      "cell_type": "code",
      "source": [
        "#pip install numpy cuando se trabajo en modo offline\n",
        "import numpy as np\n",
        "import random\n",
        "import matplotlib.pyplot as plt"
      ],
      "metadata": {
        "id": "vmbuhmLGi8rp"
      },
      "execution_count": 1,
      "outputs": []
    },
    {
      "cell_type": "markdown",
      "source": [
        "Diferencias entre una matriz y una lista"
      ],
      "metadata": {
        "id": "8KYIKf8qZDAm"
      }
    },
    {
      "cell_type": "code",
      "source": [
        "x1=[2.0,4.6,9.3,1.2]\n",
        "print(type(x1))\n",
        "len(x1)"
      ],
      "metadata": {
        "colab": {
          "base_uri": "https://localhost:8080/"
        },
        "id": "eNGDEbqnZA1i",
        "outputId": "3296a6cd-fc3e-484a-e093-cafe74359396"
      },
      "execution_count": null,
      "outputs": [
        {
          "output_type": "stream",
          "name": "stdout",
          "text": [
            "<class 'list'>\n"
          ]
        },
        {
          "output_type": "execute_result",
          "data": {
            "text/plain": [
              "4"
            ]
          },
          "metadata": {},
          "execution_count": 2
        }
      ]
    },
    {
      "cell_type": "code",
      "source": [
        "x=np.array([2.0,4.6,9.3,1.2])#la lista se convirtió en una matriz o array\n",
        "#siempre va el alias de la libreria seguido de un punto\n",
        "print(type(x))\n",
        "len(x)"
      ],
      "metadata": {
        "colab": {
          "base_uri": "https://localhost:8080/"
        },
        "id": "GX1jQCnSZMLR",
        "outputId": "8ab5001a-5b51-4d61-c9ac-b20773803296"
      },
      "execution_count": null,
      "outputs": [
        {
          "output_type": "stream",
          "name": "stdout",
          "text": [
            "<class 'numpy.ndarray'>\n"
          ]
        },
        {
          "output_type": "execute_result",
          "data": {
            "text/plain": [
              "4"
            ]
          },
          "metadata": {},
          "execution_count": 3
        }
      ]
    },
    {
      "cell_type": "markdown",
      "source": [
        "#Accediento a elementos de una matriz de dos dimensiones y 3 dimensiones"
      ],
      "metadata": {
        "id": "XHFm4I79WHPC"
      }
    },
    {
      "cell_type": "markdown",
      "source": [
        "**Unidimensional**"
      ],
      "metadata": {
        "id": "POihoPeQcNgm"
      }
    },
    {
      "cell_type": "code",
      "source": [
        "numeros = np.array([10, 11, 12, 13, 14, 15, 16, 17, 18, 19])"
      ],
      "metadata": {
        "id": "yI7cugpHcM43"
      },
      "execution_count": null,
      "outputs": []
    },
    {
      "cell_type": "code",
      "source": [
        "print(numeros)"
      ],
      "metadata": {
        "colab": {
          "base_uri": "https://localhost:8080/"
        },
        "id": "dgupGhbpcVfM",
        "outputId": "e9bf1e1d-b187-41e0-8c22-f0c24f94ee68"
      },
      "execution_count": null,
      "outputs": [
        {
          "output_type": "stream",
          "name": "stdout",
          "text": [
            "[10 11 12 13 14 15 16 17 18 19]\n"
          ]
        }
      ]
    },
    {
      "cell_type": "code",
      "source": [
        "print(numeros[:])"
      ],
      "metadata": {
        "colab": {
          "base_uri": "https://localhost:8080/"
        },
        "id": "Cb--PVjccfgx",
        "outputId": "739fe4c8-ebb2-4789-839e-a60a90be5c7c"
      },
      "execution_count": null,
      "outputs": [
        {
          "output_type": "stream",
          "name": "stdout",
          "text": [
            "[10 11 12 13 14 15 16 17 18 19]\n"
          ]
        }
      ]
    },
    {
      "cell_type": "code",
      "source": [
        "print(numeros[3:8])#La posición 8 no lo toma en cuenta"
      ],
      "metadata": {
        "colab": {
          "base_uri": "https://localhost:8080/"
        },
        "id": "GPIfKU4-ciat",
        "outputId": "20d359f8-cbba-40bf-c44e-c85bc10bfdc8"
      },
      "execution_count": null,
      "outputs": [
        {
          "output_type": "stream",
          "name": "stdout",
          "text": [
            "[13 14 15 16 17]\n"
          ]
        }
      ]
    },
    {
      "cell_type": "markdown",
      "source": [
        "**Matriz de dos dimensiones**"
      ],
      "metadata": {
        "id": "BgIykBSkWpte"
      }
    },
    {
      "cell_type": "code",
      "source": [
        "A=[[1,2,3],[7,8,9],[13,14,15],[19,20,21]]#tiene como posiciones 0,1,2,3\n",
        "#  ...0.......1........2..........3......"
      ],
      "metadata": {
        "id": "i--K4hO8RxQQ"
      },
      "execution_count": null,
      "outputs": []
    },
    {
      "cell_type": "code",
      "source": [
        "A[0][1]"
      ],
      "metadata": {
        "colab": {
          "base_uri": "https://localhost:8080/"
        },
        "id": "hhXFKvgVTsMR",
        "outputId": "792d6c5d-4439-461f-f259-e7beef53ccca"
      },
      "execution_count": null,
      "outputs": [
        {
          "output_type": "execute_result",
          "data": {
            "text/plain": [
              "2"
            ]
          },
          "metadata": {},
          "execution_count": 9
        }
      ]
    },
    {
      "cell_type": "code",
      "source": [
        "A[1]"
      ],
      "metadata": {
        "colab": {
          "base_uri": "https://localhost:8080/"
        },
        "id": "U95ElPJbT2Wi",
        "outputId": "46158034-1031-4a38-fddf-b7946eb2f6fc"
      },
      "execution_count": null,
      "outputs": [
        {
          "output_type": "execute_result",
          "data": {
            "text/plain": [
              "[7, 8, 9]"
            ]
          },
          "metadata": {},
          "execution_count": 10
        }
      ]
    },
    {
      "cell_type": "code",
      "source": [
        "A[1:3]"
      ],
      "metadata": {
        "colab": {
          "base_uri": "https://localhost:8080/"
        },
        "id": "O2wL82czVAl4",
        "outputId": "dc5451ab-cf0f-465d-faaf-5b3fd0e34fa4"
      },
      "execution_count": null,
      "outputs": [
        {
          "output_type": "execute_result",
          "data": {
            "text/plain": [
              "[[7, 8, 9], [13, 14, 15]]"
            ]
          },
          "metadata": {},
          "execution_count": 11
        }
      ]
    },
    {
      "cell_type": "code",
      "source": [
        "A[1:2]"
      ],
      "metadata": {
        "colab": {
          "base_uri": "https://localhost:8080/"
        },
        "id": "OLaVkwfbYMYN",
        "outputId": "fc2c9a21-39b2-4c74-b49d-af6ed28fe555"
      },
      "execution_count": null,
      "outputs": [
        {
          "output_type": "execute_result",
          "data": {
            "text/plain": [
              "[[7, 8, 9]]"
            ]
          },
          "metadata": {},
          "execution_count": 12
        }
      ]
    },
    {
      "cell_type": "markdown",
      "source": [
        "**Matriz de tres dimensiones**, dentro de los parentesis van las matrices de dos dimensiones"
      ],
      "metadata": {
        "id": "EwW_xWSlW2Gv"
      }
    },
    {
      "cell_type": "code",
      "source": [
        "notas_3d=[\n",
        "    [[1,2,3],[4,5,6]],\n",
        "     [[7,8,9],[10,11,12]]]#Es una matriz de 2x2x3..tiene 2 filas, 2 columnas y 3 de profundidad"
      ],
      "metadata": {
        "id": "KHUJ0oWfXAIg"
      },
      "execution_count": null,
      "outputs": []
    },
    {
      "cell_type": "code",
      "source": [
        "len(notas_3d)"
      ],
      "metadata": {
        "colab": {
          "base_uri": "https://localhost:8080/"
        },
        "id": "bYegmqcIbhjS",
        "outputId": "a9b63bd3-96d6-49cf-e680-4d7dc3e5df6c"
      },
      "execution_count": null,
      "outputs": [
        {
          "output_type": "execute_result",
          "data": {
            "text/plain": [
              "2"
            ]
          },
          "metadata": {},
          "execution_count": 14
        }
      ]
    },
    {
      "cell_type": "code",
      "source": [
        "notas_3d[0]"
      ],
      "metadata": {
        "colab": {
          "base_uri": "https://localhost:8080/"
        },
        "id": "1-d2vFvMY-tr",
        "outputId": "7171e4c7-f5c2-482d-b3d1-72ce27c32ebd"
      },
      "execution_count": null,
      "outputs": [
        {
          "output_type": "execute_result",
          "data": {
            "text/plain": [
              "[[1, 2, 3], [4, 5, 6]]"
            ]
          },
          "metadata": {},
          "execution_count": 16
        }
      ]
    },
    {
      "cell_type": "code",
      "source": [
        "notas_3d[1]"
      ],
      "metadata": {
        "id": "QMg9qNhj1ylR",
        "outputId": "fd42dc0c-4531-403c-ca93-2935da8a50ed",
        "colab": {
          "base_uri": "https://localhost:8080/"
        }
      },
      "execution_count": null,
      "outputs": [
        {
          "output_type": "execute_result",
          "data": {
            "text/plain": [
              "[[7, 8, 9], [10, 11, 12]]"
            ]
          },
          "metadata": {},
          "execution_count": 15
        }
      ]
    },
    {
      "cell_type": "code",
      "source": [
        "notas_3d[0][0]"
      ],
      "metadata": {
        "colab": {
          "base_uri": "https://localhost:8080/"
        },
        "id": "uw2uhAkvVS_i",
        "outputId": "93e2699a-3ff1-4133-98c7-892ae4cea65a"
      },
      "execution_count": null,
      "outputs": [
        {
          "output_type": "execute_result",
          "data": {
            "text/plain": [
              "[1, 2, 3]"
            ]
          },
          "metadata": {},
          "execution_count": 17
        }
      ]
    },
    {
      "cell_type": "code",
      "source": [
        "notas_3d[1][1]"
      ],
      "metadata": {
        "id": "Vv17IOpv162u",
        "outputId": "138a1a0d-efc3-4616-d688-e333b4739df9",
        "colab": {
          "base_uri": "https://localhost:8080/"
        }
      },
      "execution_count": null,
      "outputs": [
        {
          "output_type": "execute_result",
          "data": {
            "text/plain": [
              "[10, 11, 12]"
            ]
          },
          "metadata": {},
          "execution_count": 18
        }
      ]
    },
    {
      "cell_type": "code",
      "source": [
        "notas_3d[0][0][2]"
      ],
      "metadata": {
        "colab": {
          "base_uri": "https://localhost:8080/"
        },
        "id": "dNO-ajp8agh4",
        "outputId": "bab2bf18-6b66-4a7f-b8b0-1f97b72938a4"
      },
      "execution_count": null,
      "outputs": [
        {
          "output_type": "execute_result",
          "data": {
            "text/plain": [
              "3"
            ]
          },
          "metadata": {},
          "execution_count": 19
        }
      ]
    },
    {
      "cell_type": "code",
      "source": [
        "notas_3d[1][1][2]"
      ],
      "metadata": {
        "colab": {
          "base_uri": "https://localhost:8080/"
        },
        "id": "iH1tDAoSam41",
        "outputId": "b212f03c-f177-45c5-ec32-5f02e4f7c5f2"
      },
      "execution_count": null,
      "outputs": [
        {
          "output_type": "execute_result",
          "data": {
            "text/plain": [
              "12"
            ]
          },
          "metadata": {},
          "execution_count": 20
        }
      ]
    },
    {
      "cell_type": "markdown",
      "source": [
        "#Creación de arrays\n",
        "Creación de array especiales de ceros, unos, vacío, unidimensionalmente"
      ],
      "metadata": {
        "id": "TZXNernweMHd"
      }
    },
    {
      "cell_type": "code",
      "source": [
        "ceros=np.zeros(5)\n",
        "print(ceros)"
      ],
      "metadata": {
        "colab": {
          "base_uri": "https://localhost:8080/"
        },
        "id": "cLknS_bgb1H2",
        "outputId": "ba35ec85-de75-4cb1-a206-ffe3d8c111f5"
      },
      "execution_count": null,
      "outputs": [
        {
          "output_type": "stream",
          "name": "stdout",
          "text": [
            "[0. 0. 0. 0. 0.]\n"
          ]
        }
      ]
    },
    {
      "cell_type": "code",
      "source": [
        "unos=np.ones(5)\n",
        "print(unos)"
      ],
      "metadata": {
        "id": "M7awGjKVB-YE",
        "outputId": "884d8585-ea42-4d1b-b766-6ff001631ac4",
        "colab": {
          "base_uri": "https://localhost:8080/"
        }
      },
      "execution_count": null,
      "outputs": [
        {
          "output_type": "stream",
          "name": "stdout",
          "text": [
            "[1. 1. 1. 1. 1.]\n"
          ]
        }
      ]
    },
    {
      "cell_type": "code",
      "source": [
        "vacio1=np.empty(4)#sale cualquier cosa\n",
        "print(vacio1)"
      ],
      "metadata": {
        "id": "_oVpjq5gCjx-",
        "outputId": "11963edf-5fd3-495e-84e7-95fa8ef0b479",
        "colab": {
          "base_uri": "https://localhost:8080/"
        }
      },
      "execution_count": null,
      "outputs": [
        {
          "output_type": "stream",
          "name": "stdout",
          "text": [
            "[4.99394629e-310 0.00000000e+000 6.92288616e-310 6.92288618e-310]\n"
          ]
        }
      ]
    },
    {
      "cell_type": "markdown",
      "source": [
        "**Creando una matriz de dos dimensiones**"
      ],
      "metadata": {
        "id": "wanLOUhcff4M"
      }
    },
    {
      "cell_type": "code",
      "source": [
        "x=np.array([[2,4.6],[9.3,1.2]])\n",
        "print(x)"
      ],
      "metadata": {
        "colab": {
          "base_uri": "https://localhost:8080/"
        },
        "id": "S4wK6G43ffA0",
        "outputId": "157bd205-a9d9-4cd1-ebae-2ab665f2f9eb"
      },
      "execution_count": null,
      "outputs": [
        {
          "output_type": "stream",
          "name": "stdout",
          "text": [
            "[[2.  4.6]\n",
            " [9.3 1.2]]\n"
          ]
        }
      ]
    },
    {
      "cell_type": "code",
      "source": [
        "x[0]"
      ],
      "metadata": {
        "colab": {
          "base_uri": "https://localhost:8080/"
        },
        "id": "7nebTc06f941",
        "outputId": "1a4bdefc-f68b-4ff1-ecd5-3f23ab18aa67"
      },
      "execution_count": null,
      "outputs": [
        {
          "output_type": "execute_result",
          "data": {
            "text/plain": [
              "array([2. , 4.6])"
            ]
          },
          "metadata": {},
          "execution_count": 26
        }
      ]
    },
    {
      "cell_type": "code",
      "source": [
        "x[0][1]"
      ],
      "metadata": {
        "colab": {
          "base_uri": "https://localhost:8080/"
        },
        "id": "LEpZPdNKgI-b",
        "outputId": "093823c1-9b6a-4ffa-8f82-5506f0a331b6"
      },
      "execution_count": null,
      "outputs": [
        {
          "output_type": "execute_result",
          "data": {
            "text/plain": [
              "4.6"
            ]
          },
          "metadata": {},
          "execution_count": 27
        }
      ]
    },
    {
      "cell_type": "code",
      "source": [
        "len(x)"
      ],
      "metadata": {
        "colab": {
          "base_uri": "https://localhost:8080/"
        },
        "id": "Q3gAZfhFkTSN",
        "outputId": "2568041d-ed88-4013-cdb9-425f570a726c"
      },
      "execution_count": null,
      "outputs": [
        {
          "output_type": "execute_result",
          "data": {
            "text/plain": [
              "2"
            ]
          },
          "metadata": {},
          "execution_count": 29
        }
      ]
    },
    {
      "cell_type": "code",
      "source": [
        "x.shape"
      ],
      "metadata": {
        "colab": {
          "base_uri": "https://localhost:8080/"
        },
        "id": "sjqCU08lkVwG",
        "outputId": "4fcde0a7-65ef-4f6d-ce1c-56ac3255b8f0"
      },
      "execution_count": null,
      "outputs": [
        {
          "output_type": "execute_result",
          "data": {
            "text/plain": [
              "(2, 2)"
            ]
          },
          "metadata": {},
          "execution_count": 30
        }
      ]
    },
    {
      "cell_type": "code",
      "source": [
        "print(type(x))"
      ],
      "metadata": {
        "colab": {
          "base_uri": "https://localhost:8080/"
        },
        "id": "KH6IJEzakdFy",
        "outputId": "fc12b908-87e4-4f45-b16a-19fdaaff7b1f"
      },
      "execution_count": null,
      "outputs": [
        {
          "output_type": "stream",
          "name": "stdout",
          "text": [
            "<class 'numpy.ndarray'>\n"
          ]
        }
      ]
    },
    {
      "cell_type": "code",
      "source": [
        "z=np.array([[2,4.6],[9.3,1.2],[1,0.6]])"
      ],
      "metadata": {
        "id": "up6ziB7ck9vq"
      },
      "execution_count": null,
      "outputs": []
    },
    {
      "cell_type": "code",
      "source": [
        "z[1:,0]#extra las filas [9.3,1.2] [1,0.6] pero, la columna cero osea 9.3,1"
      ],
      "metadata": {
        "colab": {
          "base_uri": "https://localhost:8080/"
        },
        "id": "BoT4DbSZER0_",
        "outputId": "22dc5b04-64da-4d13-9e9d-ef03d4fb5e9c"
      },
      "execution_count": null,
      "outputs": [
        {
          "output_type": "execute_result",
          "data": {
            "text/plain": [
              "array([9.3, 1. ])"
            ]
          },
          "metadata": {},
          "execution_count": 33
        }
      ]
    },
    {
      "cell_type": "code",
      "source": [
        "z[1:,-1]#la última columna es -1, la penúltima columna es -2, extrae como fila [9.3,1.2],[1,0.6] pero con la columna -1 osea 1.2 y 0.6"
      ],
      "metadata": {
        "colab": {
          "base_uri": "https://localhost:8080/"
        },
        "id": "Z9L7D2VAFDJ0",
        "outputId": "6349c2df-60ec-4cf2-d97e-0a65d4b697c8"
      },
      "execution_count": null,
      "outputs": [
        {
          "output_type": "execute_result",
          "data": {
            "text/plain": [
              "array([1.2, 0.6])"
            ]
          },
          "metadata": {},
          "execution_count": 34
        }
      ]
    },
    {
      "cell_type": "code",
      "source": [
        "z[2:,:]"
      ],
      "metadata": {
        "colab": {
          "base_uri": "https://localhost:8080/"
        },
        "id": "sAP_AiqgD3QN",
        "outputId": "99b4e02a-2617-4987-faeb-e71c63b2472a"
      },
      "execution_count": null,
      "outputs": [
        {
          "output_type": "execute_result",
          "data": {
            "text/plain": [
              "array([[1. , 0.6]])"
            ]
          },
          "metadata": {},
          "execution_count": 35
        }
      ]
    },
    {
      "cell_type": "code",
      "source": [
        "z[1:,:]"
      ],
      "metadata": {
        "colab": {
          "base_uri": "https://localhost:8080/"
        },
        "id": "s0P8tqPOlVab",
        "outputId": "402245d8-a8cd-4cbd-e5c7-f2764bc887c6"
      },
      "execution_count": null,
      "outputs": [
        {
          "output_type": "execute_result",
          "data": {
            "text/plain": [
              "array([[9.3, 1.2],\n",
              "       [1. , 0.6]])"
            ]
          },
          "metadata": {},
          "execution_count": 36
        }
      ]
    },
    {
      "cell_type": "code",
      "source": [
        "z[1:,-2]#saca la penúltima columna."
      ],
      "metadata": {
        "colab": {
          "base_uri": "https://localhost:8080/"
        },
        "id": "0Z5c5apFlitf",
        "outputId": "058696a3-d5e2-48da-cb7c-223c645a8f70"
      },
      "execution_count": null,
      "outputs": [
        {
          "output_type": "execute_result",
          "data": {
            "text/plain": [
              "array([9.3, 1. ])"
            ]
          },
          "metadata": {},
          "execution_count": 37
        }
      ]
    },
    {
      "cell_type": "code",
      "source": [
        "z[2,1]"
      ],
      "metadata": {
        "colab": {
          "base_uri": "https://localhost:8080/"
        },
        "id": "DuRsX6MElyfb",
        "outputId": "0f829598-a416-42c6-fa26-bd59c1996ce0"
      },
      "execution_count": null,
      "outputs": [
        {
          "output_type": "execute_result",
          "data": {
            "text/plain": [
              "0.6"
            ]
          },
          "metadata": {},
          "execution_count": 38
        }
      ]
    },
    {
      "cell_type": "code",
      "source": [
        "print(\"z =\\n\",z)"
      ],
      "metadata": {
        "colab": {
          "base_uri": "https://localhost:8080/"
        },
        "id": "skn5SR2nmIQA",
        "outputId": "48c7730e-1992-45a8-bdfc-c19f80f48238"
      },
      "execution_count": null,
      "outputs": [
        {
          "output_type": "stream",
          "name": "stdout",
          "text": [
            "z =\n",
            " [[2.  4.6]\n",
            " [9.3 1.2]\n",
            " [1.  0.6]]\n"
          ]
        }
      ]
    },
    {
      "cell_type": "code",
      "source": [
        "print(\"Segmento de z = \\n\",z[1:,:])"
      ],
      "metadata": {
        "id": "gypO7xZP6D8L",
        "outputId": "a7811656-d58a-40ae-9b75-076a33a1770e",
        "colab": {
          "base_uri": "https://localhost:8080/"
        }
      },
      "execution_count": null,
      "outputs": [
        {
          "output_type": "stream",
          "name": "stdout",
          "text": [
            "Segmento de z =\n",
            " [[9.3 1.2]\n",
            " [1.  0.6]]\n"
          ]
        }
      ]
    },
    {
      "cell_type": "code",
      "source": [
        "z[0:2,0]#el primer elemento 0:2 ve las filas(no toma en cuenta el 2), 0 las columnas."
      ],
      "metadata": {
        "colab": {
          "base_uri": "https://localhost:8080/"
        },
        "id": "dm_2L0mOmeYC",
        "outputId": "5ed21878-1f37-419c-b238-f6fe10f8d092"
      },
      "execution_count": null,
      "outputs": [
        {
          "output_type": "execute_result",
          "data": {
            "text/plain": [
              "array([2. , 9.3])"
            ]
          },
          "metadata": {},
          "execution_count": 43
        }
      ]
    },
    {
      "cell_type": "markdown",
      "source": [
        "##**Creación de array especiales de ceros, unos, vacío, unidimensionalmente**"
      ],
      "metadata": {
        "id": "cHXVQtEuGaJk"
      }
    },
    {
      "cell_type": "code",
      "source": [
        "ceros1=np.zeros((5,4))#de tamaño 5(filas)x4(columnas)\n",
        "print(ceros1)"
      ],
      "metadata": {
        "colab": {
          "base_uri": "https://localhost:8080/"
        },
        "id": "Dec_cX5gGWuC",
        "outputId": "10af6663-7d5e-45cd-b446-95e449530fb3"
      },
      "execution_count": null,
      "outputs": [
        {
          "output_type": "stream",
          "name": "stdout",
          "text": [
            "[[0. 0. 0. 0.]\n",
            " [0. 0. 0. 0.]\n",
            " [0. 0. 0. 0.]\n",
            " [0. 0. 0. 0.]\n",
            " [0. 0. 0. 0.]]\n"
          ]
        }
      ]
    },
    {
      "cell_type": "code",
      "source": [
        "zeros=np.zeros((3,3))\n",
        "print(zeros)"
      ],
      "metadata": {
        "id": "EjtUymTC6w29",
        "outputId": "ca3f9f19-3310-43f1-bd31-d341f9f030a5",
        "colab": {
          "base_uri": "https://localhost:8080/"
        }
      },
      "execution_count": null,
      "outputs": [
        {
          "output_type": "stream",
          "name": "stdout",
          "text": [
            "[[0. 0. 0.]\n",
            " [0. 0. 0.]\n",
            " [0. 0. 0.]]\n"
          ]
        }
      ]
    },
    {
      "cell_type": "code",
      "source": [
        "unos1=np.ones((5,4))\n",
        "print(unos1)"
      ],
      "metadata": {
        "colab": {
          "base_uri": "https://localhost:8080/"
        },
        "id": "fVIwYzk8Gqar",
        "outputId": "7db28bda-3785-4669-bcb1-da406c586e3e"
      },
      "execution_count": null,
      "outputs": [
        {
          "output_type": "stream",
          "name": "stdout",
          "text": [
            "[[1. 1. 1. 1.]\n",
            " [1. 1. 1. 1.]\n",
            " [1. 1. 1. 1.]\n",
            " [1. 1. 1. 1.]\n",
            " [1. 1. 1. 1.]]\n"
          ]
        }
      ]
    },
    {
      "cell_type": "code",
      "source": [
        "unos2=np.ones((5,1))#unidimensional vertical\n",
        "print(unos2)"
      ],
      "metadata": {
        "colab": {
          "base_uri": "https://localhost:8080/"
        },
        "id": "hs1yNq3IHc22",
        "outputId": "5afdf566-baf8-4474-8b85-9a399cd5f39a"
      },
      "execution_count": null,
      "outputs": [
        {
          "output_type": "stream",
          "name": "stdout",
          "text": [
            "[[1.]\n",
            " [1.]\n",
            " [1.]\n",
            " [1.]\n",
            " [1.]]\n"
          ]
        }
      ]
    },
    {
      "cell_type": "code",
      "source": [
        "unos2.shape"
      ],
      "metadata": {
        "id": "iK-gN1zG7dEk",
        "outputId": "25c3d2dd-db4e-463e-935e-f60ceebbf0e9",
        "colab": {
          "base_uri": "https://localhost:8080/"
        }
      },
      "execution_count": null,
      "outputs": [
        {
          "output_type": "execute_result",
          "data": {
            "text/plain": [
              "(5, 1)"
            ]
          },
          "metadata": {},
          "execution_count": 54
        }
      ]
    },
    {
      "cell_type": "code",
      "source": [
        "unos3=np.ones((1,5))#unidimensional horizontal\n",
        "print(unos3)"
      ],
      "metadata": {
        "colab": {
          "base_uri": "https://localhost:8080/"
        },
        "id": "8Bv1qnX2Hl1t",
        "outputId": "6d46f02b-bcc5-4b21-9471-9b5bfb8c12f4"
      },
      "execution_count": null,
      "outputs": [
        {
          "output_type": "stream",
          "name": "stdout",
          "text": [
            "[[1. 1. 1. 1. 1.]]\n"
          ]
        }
      ]
    },
    {
      "cell_type": "code",
      "source": [
        "vacio1=np.empty((2,3))#imprime basura\n",
        "print(vacio1)"
      ],
      "metadata": {
        "colab": {
          "base_uri": "https://localhost:8080/"
        },
        "id": "Dmx1jJ6CGudB",
        "outputId": "96110abe-f9c5-4984-9c0b-5b19197a9b4f"
      },
      "execution_count": null,
      "outputs": [
        {
          "output_type": "stream",
          "name": "stdout",
          "text": [
            "[[2.  4.6 9.3]\n",
            " [1.2 1.  0.6]]\n"
          ]
        }
      ]
    },
    {
      "cell_type": "markdown",
      "source": [
        "**Creando matriz de 3 dimensiones**"
      ],
      "metadata": {
        "id": "TOGRXgpTkCip"
      }
    },
    {
      "cell_type": "code",
      "source": [
        "y=np.array([[[1,2,3],[4,5,6]],[[7,8,9],[10,11,12]]])\n",
        "#Es un cubo con cara(elementos)...1,4 (posicion 0_lado superior) y 7,10(posicion 1_lado inferior)\n",
        "#el 2,3....5,6......8,9.....11,12....son la profundidad del cubo\n",
        "#El parentesis en azul es 0 y 1\n",
        "#El parentesis en amarillo es 0 y 1\n",
        "#La posción de los elementos en amarillo es 0,1,2"
      ],
      "metadata": {
        "id": "gMDqXs-6gVg2"
      },
      "execution_count": null,
      "outputs": []
    },
    {
      "cell_type": "code",
      "source": [
        "print(type(y))"
      ],
      "metadata": {
        "colab": {
          "base_uri": "https://localhost:8080/"
        },
        "id": "tC3emnX0ksbb",
        "outputId": "0ecc2f83-1adb-4bb0-edfe-4a91c482c897"
      },
      "execution_count": null,
      "outputs": [
        {
          "output_type": "stream",
          "name": "stdout",
          "text": [
            "<class 'numpy.ndarray'>\n"
          ]
        }
      ]
    },
    {
      "cell_type": "code",
      "source": [
        "print(y)"
      ],
      "metadata": {
        "colab": {
          "base_uri": "https://localhost:8080/"
        },
        "id": "eRVjp_dcgvDN",
        "outputId": "d6a8e87b-1dea-4785-a642-ba84298a9f25"
      },
      "execution_count": null,
      "outputs": [
        {
          "output_type": "stream",
          "name": "stdout",
          "text": [
            "[[[ 1  2  3]\n",
            "  [ 4  5  6]]\n",
            "\n",
            " [[ 7  8  9]\n",
            "  [10 11 12]]]\n"
          ]
        }
      ]
    },
    {
      "cell_type": "code",
      "source": [
        "y[1][0][1]"
      ],
      "metadata": {
        "colab": {
          "base_uri": "https://localhost:8080/"
        },
        "id": "bmCbZK_HjH5n",
        "outputId": "b2ee7b51-3795-476a-d3ca-998445b75c09"
      },
      "execution_count": null,
      "outputs": [
        {
          "output_type": "execute_result",
          "data": {
            "text/plain": [
              "8"
            ]
          },
          "metadata": {},
          "execution_count": 60
        }
      ]
    },
    {
      "cell_type": "code",
      "source": [
        "y[1][1][2]"
      ],
      "metadata": {
        "colab": {
          "base_uri": "https://localhost:8080/"
        },
        "id": "ddUf5tfeg3x4",
        "outputId": "fcc0e763-ad66-4f47-c765-c86eb8cff2d9"
      },
      "execution_count": null,
      "outputs": [
        {
          "output_type": "execute_result",
          "data": {
            "text/plain": [
              "12"
            ]
          },
          "metadata": {},
          "execution_count": 61
        }
      ]
    },
    {
      "cell_type": "code",
      "source": [
        "len(y)"
      ],
      "metadata": {
        "colab": {
          "base_uri": "https://localhost:8080/"
        },
        "id": "6PX-5nkvjt2Y",
        "outputId": "b8f1d92e-99c7-4ef7-ff5c-97d23fd2da39"
      },
      "execution_count": null,
      "outputs": [
        {
          "output_type": "execute_result",
          "data": {
            "text/plain": [
              "2"
            ]
          },
          "metadata": {},
          "execution_count": 62
        }
      ]
    },
    {
      "cell_type": "code",
      "source": [],
      "metadata": {
        "id": "lNFQLUEyIhEo"
      },
      "execution_count": null,
      "outputs": []
    },
    {
      "cell_type": "code",
      "source": [
        "y[1,1,:]\n",
        "#para el primer elemento ver la matriz como un todo las sub matrices seran 0,1,2 segun cuantas hayan y seran la filas\n",
        "#para el segundo elemento ver lo que esta dentro de la sun  matriz y cada lista sera 0,1,2 según hayan\n",
        "#para el tercer elemento la profundidad (o ver como si fuera las columnas de una matriz bidimensional)"
      ],
      "metadata": {
        "id": "xmOjl7BMIhBA",
        "outputId": "306774ab-33e4-4d0e-b124-a2fc11440fbd",
        "colab": {
          "base_uri": "https://localhost:8080/"
        }
      },
      "execution_count": null,
      "outputs": [
        {
          "output_type": "execute_result",
          "data": {
            "text/plain": [
              "array([10, 11, 12])"
            ]
          },
          "metadata": {},
          "execution_count": 73
        }
      ]
    },
    {
      "cell_type": "code",
      "source": [
        "print(y)"
      ],
      "metadata": {
        "id": "asxFx5lwEkcW",
        "outputId": "b3b90a71-13e1-4004-e4fa-d376e099419e",
        "colab": {
          "base_uri": "https://localhost:8080/"
        }
      },
      "execution_count": null,
      "outputs": [
        {
          "output_type": "stream",
          "name": "stdout",
          "text": [
            "[[[ 1  2  3]\n",
            "  [ 4  5  6]]\n",
            "\n",
            " [[ 7  8  9]\n",
            "  [10 11 12]]]\n"
          ]
        }
      ]
    },
    {
      "cell_type": "markdown",
      "source": [
        "[0:,:,1:] ver como si fuera un cubo"
      ],
      "metadata": {
        "id": "z-6IsjgnEaNH"
      }
    },
    {
      "cell_type": "code",
      "source": [
        "y[0:,:,1:]#el primer elemento 0: ve filas, el segundo : columnas, y el tercero 1: profundidad"
      ],
      "metadata": {
        "colab": {
          "base_uri": "https://localhost:8080/"
        },
        "id": "06wDJk2InnlK",
        "outputId": "6a2f9f4a-cba8-4ef3-ceed-4be3658dc39a"
      },
      "execution_count": null,
      "outputs": [
        {
          "output_type": "execute_result",
          "data": {
            "text/plain": [
              "array([[[ 2,  3],\n",
              "        [ 5,  6]],\n",
              "\n",
              "       [[ 8,  9],\n",
              "        [11, 12]]])"
            ]
          },
          "metadata": {},
          "execution_count": 85
        }
      ]
    },
    {
      "cell_type": "code",
      "source": [
        "y[0:,1,1:]\n",
        "#0:, considera todas las filas 0 y 1, la primera matriz [1,2,3 y 4,5,6] es fila 0 y la segunda matriz [7,8,9 y 4,5,6] es 1\n",
        "#1, considera la columna 1, los elementos de la columna 1 son [4,5,6] y [10,11,12]\n",
        "#1:, ver la profundidad 0(1,4 y 7,10),1(2,5 y 8,11),2 (3,6 y 9,12)"
      ],
      "metadata": {
        "id": "vLg_SyANAYz1",
        "outputId": "9d86dbbf-0239-4630-bba8-1c91af6903e8",
        "colab": {
          "base_uri": "https://localhost:8080/"
        }
      },
      "execution_count": null,
      "outputs": [
        {
          "output_type": "execute_result",
          "data": {
            "text/plain": [
              "array([[ 5,  6],\n",
              "       [11, 12]])"
            ]
          },
          "metadata": {},
          "execution_count": 71
        }
      ]
    },
    {
      "cell_type": "code",
      "source": [
        "y[0:,:,0]"
      ],
      "metadata": {
        "colab": {
          "base_uri": "https://localhost:8080/"
        },
        "id": "a7ApOjyvoNYh",
        "outputId": "35e1b599-ba3b-4e0b-b84b-e87be8d8cf08"
      },
      "execution_count": null,
      "outputs": [
        {
          "output_type": "execute_result",
          "data": {
            "text/plain": [
              "array([[ 1,  4],\n",
              "       [ 7, 10]])"
            ]
          },
          "metadata": {},
          "execution_count": 72
        }
      ]
    },
    {
      "cell_type": "code",
      "source": [
        "print(y.shape)"
      ],
      "metadata": {
        "colab": {
          "base_uri": "https://localhost:8080/"
        },
        "id": "TrbtYh8KjyzL",
        "outputId": "ca50b224-aa15-4573-ac58-e05df1e3ae6a"
      },
      "execution_count": null,
      "outputs": [
        {
          "output_type": "stream",
          "name": "stdout",
          "text": [
            "(2, 2, 3)\n"
          ]
        }
      ]
    },
    {
      "cell_type": "markdown",
      "source": [
        "**Creación de array randomicos**"
      ],
      "metadata": {
        "id": "ONBFr-MoIxBm"
      }
    },
    {
      "cell_type": "code",
      "source": [
        "alea=np.random.rand(2,3)#crea una matriz de 2 por 3 de tipo float\n",
        "print(alea)"
      ],
      "metadata": {
        "colab": {
          "base_uri": "https://localhost:8080/"
        },
        "id": "lrRy9WRTI2j3",
        "outputId": "91983fe9-0903-47ff-c4ec-adfa1989e950"
      },
      "execution_count": null,
      "outputs": [
        {
          "output_type": "stream",
          "name": "stdout",
          "text": [
            "[[0.96390938 0.48841425 0.81123783]\n",
            " [0.06407815 0.25056784 0.3863668 ]]\n"
          ]
        }
      ]
    },
    {
      "cell_type": "code",
      "source": [
        "age=np.random.randint(8,10)#Genera un número aleatorio entre 8 y 10, sin considerar el 10\n",
        "print(age)"
      ],
      "metadata": {
        "id": "q_4qMPA8cDWg",
        "outputId": "f88cc72e-297a-4cad-de84-605f1a72ffa2",
        "colab": {
          "base_uri": "https://localhost:8080/"
        }
      },
      "execution_count": null,
      "outputs": [
        {
          "output_type": "stream",
          "name": "stdout",
          "text": [
            "9\n"
          ]
        }
      ]
    },
    {
      "cell_type": "code",
      "source": [
        "array=np.random.randint(5,10,size=(2,3))#genera una matriz de 2 por 3, pero de entero\n",
        "print(array)"
      ],
      "metadata": {
        "id": "9J6wet3xcQjE",
        "outputId": "90cc834a-8912-484e-e59a-28a52de5a089",
        "colab": {
          "base_uri": "https://localhost:8080/"
        }
      },
      "execution_count": null,
      "outputs": [
        {
          "output_type": "stream",
          "name": "stdout",
          "text": [
            "[[8 7 9]\n",
            " [8 6 8]]\n"
          ]
        }
      ]
    },
    {
      "cell_type": "code",
      "source": [
        "array=np.random.randint(1,10,size=(3,3))\n",
        "print(array)"
      ],
      "metadata": {
        "id": "6lsSLNbRczt1",
        "outputId": "f60ccd90-ed7c-420a-cf3a-acd4d606604e",
        "colab": {
          "base_uri": "https://localhost:8080/"
        }
      },
      "execution_count": null,
      "outputs": [
        {
          "output_type": "stream",
          "name": "stdout",
          "text": [
            "[[8 7 6]\n",
            " [2 5 2]\n",
            " [9 4 9]]\n"
          ]
        }
      ]
    },
    {
      "cell_type": "markdown",
      "source": [
        "#Operaciones matemáticas con arrays, lo hace elemento por elemento y para ejectuarse la operación deben tener ambos arreglos osea el mismo tamaño."
      ],
      "metadata": {
        "id": "BTkDnAYQJnDu"
      }
    },
    {
      "cell_type": "code",
      "source": [
        "a = np.array([1, 2, 3, 4])\n",
        "b = np.array([1, 3, 1,3])"
      ],
      "metadata": {
        "id": "GyhO1Gi1JQwk"
      },
      "execution_count": null,
      "outputs": []
    },
    {
      "cell_type": "code",
      "source": [
        " print(\"Suma= \\n\",a+b)"
      ],
      "metadata": {
        "colab": {
          "base_uri": "https://localhost:8080/"
        },
        "id": "FFh7Up88KFdE",
        "outputId": "7b9bd1b1-d39f-4a9c-f0e4-0a078315569d"
      },
      "execution_count": null,
      "outputs": [
        {
          "output_type": "stream",
          "name": "stdout",
          "text": [
            "Suma= \n",
            " [2 5 4 7]\n"
          ]
        }
      ]
    },
    {
      "cell_type": "code",
      "source": [
        "print(\"Multiplicación= \\n\",a*b)"
      ],
      "metadata": {
        "colab": {
          "base_uri": "https://localhost:8080/"
        },
        "id": "RUjwScIpKVSn",
        "outputId": "3e05a801-f1f1-4859-94b9-cd30bb583096"
      },
      "execution_count": null,
      "outputs": [
        {
          "output_type": "stream",
          "name": "stdout",
          "text": [
            "Multiplicación= \n",
            " [ 1  6  3 12]\n"
          ]
        }
      ]
    },
    {
      "cell_type": "code",
      "source": [
        "print(\"Resta= \\n\",a-b)"
      ],
      "metadata": {
        "colab": {
          "base_uri": "https://localhost:8080/"
        },
        "id": "BkCIgu9gLJL6",
        "outputId": "75cbbd48-83ff-472c-a6f3-8d4296795bf7"
      },
      "execution_count": null,
      "outputs": [
        {
          "output_type": "stream",
          "name": "stdout",
          "text": [
            "Resta= \n",
            " [ 0 -1  2  1]\n"
          ]
        }
      ]
    },
    {
      "cell_type": "code",
      "source": [
        "print(\"Division= \\n\",a/b)"
      ],
      "metadata": {
        "colab": {
          "base_uri": "https://localhost:8080/"
        },
        "id": "BVdEEVWULUoH",
        "outputId": "6d0fafd2-c092-4a69-d40a-446e4b4c6316"
      },
      "execution_count": null,
      "outputs": [
        {
          "output_type": "stream",
          "name": "stdout",
          "text": [
            "Division= \n",
            " [1.         0.66666667 3.         1.33333333]\n"
          ]
        }
      ]
    },
    {
      "cell_type": "code",
      "source": [
        "print(\"Division= \\n\",a%b)#residuo"
      ],
      "metadata": {
        "colab": {
          "base_uri": "https://localhost:8080/"
        },
        "id": "vv-M5rqALaUN",
        "outputId": "57befe32-8e32-4be6-d30d-b71c48ea6877"
      },
      "execution_count": null,
      "outputs": [
        {
          "output_type": "stream",
          "name": "stdout",
          "text": [
            "Division= \n",
            " [0 2 0 1]\n"
          ]
        }
      ]
    },
    {
      "cell_type": "code",
      "source": [
        "print(\"Potencia= \\n\",a**b)"
      ],
      "metadata": {
        "colab": {
          "base_uri": "https://localhost:8080/"
        },
        "id": "FovMdwhoLw5C",
        "outputId": "d2719957-32ab-4c32-dac3-da3d921ddd70"
      },
      "execution_count": null,
      "outputs": [
        {
          "output_type": "stream",
          "name": "stdout",
          "text": [
            "Potencia= \n",
            " [ 1  8  3 64]\n"
          ]
        }
      ]
    },
    {
      "cell_type": "code",
      "source": [
        "print(\"Raiz cuadrada de la matriz a= \\n\",np.sqrt(a))#llamamos a numpy y luego llamamos a la funcion sqrt"
      ],
      "metadata": {
        "id": "gECzHJ0fMo1y",
        "outputId": "9692e18b-b37c-4d05-cad1-2fd328893026",
        "colab": {
          "base_uri": "https://localhost:8080/"
        }
      },
      "execution_count": null,
      "outputs": [
        {
          "output_type": "stream",
          "name": "stdout",
          "text": [
            "Raiz cuadrada de la matriz a= \n",
            " [1.         1.41421356 1.73205081 2.        ]\n"
          ]
        }
      ]
    },
    {
      "cell_type": "markdown",
      "source": [
        "**Operaciones de matrices bidimensionales, las operaciones se hacen punto a punto**"
      ],
      "metadata": {
        "id": "MuFMwXNpNZpo"
      }
    },
    {
      "cell_type": "code",
      "source": [
        "c=np.array([[1,0],[-1,2],[1,3]])\n",
        "c.shape"
      ],
      "metadata": {
        "id": "luOWkaTeNfkz",
        "outputId": "665c429c-1100-4327-c67a-af6318f5a421",
        "colab": {
          "base_uri": "https://localhost:8080/"
        }
      },
      "execution_count": null,
      "outputs": [
        {
          "output_type": "execute_result",
          "data": {
            "text/plain": [
              "(3, 2)"
            ]
          },
          "metadata": {},
          "execution_count": 100
        }
      ]
    },
    {
      "cell_type": "code",
      "source": [
        "d=np.array([[-3,3],[2,0],[7,16]])\n",
        "d.shape"
      ],
      "metadata": {
        "id": "saC-kHneSu-K",
        "outputId": "cdb99fea-5f9f-4006-b2ac-034556baf86d",
        "colab": {
          "base_uri": "https://localhost:8080/"
        }
      },
      "execution_count": null,
      "outputs": [
        {
          "output_type": "execute_result",
          "data": {
            "text/plain": [
              "(3, 2)"
            ]
          },
          "metadata": {},
          "execution_count": 101
        }
      ]
    },
    {
      "cell_type": "code",
      "source": [
        "e=d.reshape(2,3)\n",
        "e.shape"
      ],
      "metadata": {
        "id": "q18BinzMSbJ2",
        "outputId": "b6e63284-3d0f-4ef3-cac4-40341b761ee2",
        "colab": {
          "base_uri": "https://localhost:8080/"
        }
      },
      "execution_count": null,
      "outputs": [
        {
          "output_type": "execute_result",
          "data": {
            "text/plain": [
              "(2, 3)"
            ]
          },
          "metadata": {},
          "execution_count": 104
        }
      ]
    },
    {
      "cell_type": "code",
      "source": [
        "print(\"Suma: \\n\",c+d)"
      ],
      "metadata": {
        "id": "_M1Qz7-wS83i",
        "outputId": "de8eefd7-62bb-466f-99c1-fee78234e928",
        "colab": {
          "base_uri": "https://localhost:8080/"
        }
      },
      "execution_count": null,
      "outputs": [
        {
          "output_type": "stream",
          "name": "stdout",
          "text": [
            "Suma: \n",
            " [[-2  3]\n",
            " [ 1  2]\n",
            " [ 8 19]]\n"
          ]
        }
      ]
    },
    {
      "cell_type": "code",
      "source": [
        "print(\"Multiplicación: \\n\",c*d)"
      ],
      "metadata": {
        "id": "QMoC-cvQTYFF",
        "outputId": "c4ef71f1-e32e-4f35-eca7-03f5ffd60040",
        "colab": {
          "base_uri": "https://localhost:8080/"
        }
      },
      "execution_count": null,
      "outputs": [
        {
          "output_type": "stream",
          "name": "stdout",
          "text": [
            "Multiplicación: \n",
            " [[-3  0]\n",
            " [-2  0]\n",
            " [ 7 48]]\n"
          ]
        }
      ]
    },
    {
      "cell_type": "code",
      "source": [
        "print(\"Resta: \\n\",c-d)"
      ],
      "metadata": {
        "id": "XZPdLMR9Tgy1",
        "outputId": "4f92fa7a-5bc9-4d05-c44c-827477f08930",
        "colab": {
          "base_uri": "https://localhost:8080/"
        }
      },
      "execution_count": null,
      "outputs": [
        {
          "output_type": "stream",
          "name": "stdout",
          "text": [
            "Resta: \n",
            " [[  4  -3]\n",
            " [ -3   2]\n",
            " [ -6 -13]]\n"
          ]
        }
      ]
    },
    {
      "cell_type": "markdown",
      "source": [
        "**Multiplicación de matrices con el operador @**\n",
        "la primera matriz es de tamaño mxn, la segunda matriz pxq\n",
        "para efectuar la multiplicación se debe cumplir n=p"
      ],
      "metadata": {
        "id": "1NxHXJ1lUA7l"
      }
    },
    {
      "cell_type": "code",
      "source": [
        "f=c@e\n",
        "print(f)"
      ],
      "metadata": {
        "id": "mPQRakcEUJ1G",
        "outputId": "210a50d8-c285-409c-9dc1-a8497151acdb",
        "colab": {
          "base_uri": "https://localhost:8080/"
        }
      },
      "execution_count": null,
      "outputs": [
        {
          "output_type": "stream",
          "name": "stdout",
          "text": [
            "[[-3  3  2]\n",
            " [ 3 11 30]\n",
            " [-3 24 50]]\n"
          ]
        }
      ]
    },
    {
      "cell_type": "markdown",
      "source": [
        "#Propiedades de las matrices"
      ],
      "metadata": {
        "id": "w4q48t2oU9IW"
      }
    },
    {
      "cell_type": "markdown",
      "source": [
        "##**Transpuesta de una matriz**"
      ],
      "metadata": {
        "id": "BKqOAXgvVFOl"
      }
    },
    {
      "cell_type": "code",
      "source": [
        "A=np.array([[1,2,3],[4,5,6],[7,8,9]])"
      ],
      "metadata": {
        "id": "q3cIU6BiVC8t"
      },
      "execution_count": null,
      "outputs": []
    },
    {
      "cell_type": "code",
      "source": [
        "print(A)"
      ],
      "metadata": {
        "id": "dhvHE5tOVX1x",
        "outputId": "8722884b-5990-4983-f59f-1403c19a3ffa",
        "colab": {
          "base_uri": "https://localhost:8080/"
        }
      },
      "execution_count": null,
      "outputs": [
        {
          "output_type": "stream",
          "name": "stdout",
          "text": [
            "[[1 2 3]\n",
            " [4 5 6]\n",
            " [7 8 9]]\n"
          ]
        }
      ]
    },
    {
      "cell_type": "code",
      "source": [
        "print(A.T)"
      ],
      "metadata": {
        "id": "uEHySi6NVaQf",
        "outputId": "2c515d12-9fd7-408a-9a53-c60e92bf7ae0",
        "colab": {
          "base_uri": "https://localhost:8080/"
        }
      },
      "execution_count": null,
      "outputs": [
        {
          "output_type": "stream",
          "name": "stdout",
          "text": [
            "[[1 4 7]\n",
            " [2 5 8]\n",
            " [3 6 9]]\n"
          ]
        }
      ]
    },
    {
      "cell_type": "code",
      "source": [
        "a_t=np.transpose(A)\n",
        "print(a_t)"
      ],
      "metadata": {
        "id": "Ch85L6wZVi3S",
        "outputId": "c49af52a-58a0-4e96-a617-1a08993bc8c6",
        "colab": {
          "base_uri": "https://localhost:8080/"
        }
      },
      "execution_count": null,
      "outputs": [
        {
          "output_type": "stream",
          "name": "stdout",
          "text": [
            "[[1 4 7]\n",
            " [2 5 8]\n",
            " [3 6 9]]\n"
          ]
        }
      ]
    },
    {
      "cell_type": "code",
      "source": [
        "print(np.transpose(A))"
      ],
      "metadata": {
        "id": "-idV-3ipTefR",
        "outputId": "0891bdf4-6781-4414-bcb0-aa9fabc111e6",
        "colab": {
          "base_uri": "https://localhost:8080/"
        }
      },
      "execution_count": null,
      "outputs": [
        {
          "output_type": "stream",
          "name": "stdout",
          "text": [
            "[[1 4 7]\n",
            " [2 5 8]\n",
            " [3 6 9]]\n"
          ]
        }
      ]
    },
    {
      "cell_type": "markdown",
      "source": [
        "##**Función reshape**"
      ],
      "metadata": {
        "id": "tekL27VoWEY1"
      }
    },
    {
      "cell_type": "code",
      "source": [
        "d = np.array([1, 2, 3, 4, 5, 8])"
      ],
      "metadata": {
        "id": "_Mst1QaZWIQ2"
      },
      "execution_count": null,
      "outputs": []
    },
    {
      "cell_type": "code",
      "source": [
        "e = d.reshape(2, 3)#realiza un arreglo con filas 2 y 3 columnas\n",
        "print(e)"
      ],
      "metadata": {
        "id": "koqmiBaeWRMi",
        "outputId": "43790c5f-9a1c-4087-c59b-9d5c2621d9a7",
        "colab": {
          "base_uri": "https://localhost:8080/"
        }
      },
      "execution_count": null,
      "outputs": [
        {
          "output_type": "stream",
          "name": "stdout",
          "text": [
            "[[1 2 3]\n",
            " [4 5 8]]\n"
          ]
        }
      ]
    },
    {
      "cell_type": "code",
      "source": [
        "f = d.reshape(3,2)#realiza un arreglo con 3 filas y 2 columnas\n",
        "print(f)"
      ],
      "metadata": {
        "id": "7FXXDG2TWXP2",
        "outputId": "28390f1b-799d-4d3b-d13e-d5bd58379326",
        "colab": {
          "base_uri": "https://localhost:8080/"
        }
      },
      "execution_count": null,
      "outputs": [
        {
          "output_type": "stream",
          "name": "stdout",
          "text": [
            "[[1 2]\n",
            " [3 4]\n",
            " [5 8]]\n"
          ]
        }
      ]
    },
    {
      "cell_type": "markdown",
      "source": [
        "##**Indexación booleana, permite seleccionar elementos basado en condiciones**"
      ],
      "metadata": {
        "id": "Bjkyyl2qXF66"
      }
    },
    {
      "cell_type": "code",
      "source": [
        " w= np.array([x for x in range(1,11)])\n",
        " print(w)\n",
        "mask=np.array([True,False,True,False,True,False,True,False,True,False])\n",
        "f=w[mask]\n",
        "print(f)"
      ],
      "metadata": {
        "id": "dWUqkd7hXI4t",
        "outputId": "29679509-fa9d-4f79-cd91-4023d4c3f6f8",
        "colab": {
          "base_uri": "https://localhost:8080/"
        }
      },
      "execution_count": null,
      "outputs": [
        {
          "output_type": "stream",
          "name": "stdout",
          "text": [
            "[ 1  2  3  4  5  6  7  8  9 10]\n",
            "[1 3 5 7 9]\n"
          ]
        }
      ]
    },
    {
      "cell_type": "code",
      "source": [
        "mask1=w<=7  #La mascara puede usarse como condición\n",
        "g=w[mask1]\n",
        "print(g)"
      ],
      "metadata": {
        "id": "dPCjuS8IangO",
        "outputId": "debb1f21-fefc-4474-8ee9-47ad3947813a",
        "colab": {
          "base_uri": "https://localhost:8080/"
        }
      },
      "execution_count": null,
      "outputs": [
        {
          "output_type": "stream",
          "name": "stdout",
          "text": [
            "[1 2 3 4 5 6 7]\n"
          ]
        }
      ]
    },
    {
      "cell_type": "markdown",
      "source": [
        "#**EJERCICIOS**"
      ],
      "metadata": {
        "id": "s_7iUQm0bHNV"
      }
    },
    {
      "cell_type": "markdown",
      "source": [
        "**1.- Crear el vector con valores aleatorios de tamaño 30**"
      ],
      "metadata": {
        "id": "8R92UA5CsqBJ"
      }
    },
    {
      "cell_type": "code",
      "source": [
        "a=np.array(np.random.randint(0,50,24))# El números aleatorios van de 0 a 50 y el tercer elemento indica la cantidad de números aleatorios.\n",
        "print(a)"
      ],
      "metadata": {
        "colab": {
          "base_uri": "https://localhost:8080/"
        },
        "id": "Oz0PeYpgjPp5",
        "outputId": "0b5fa392-dd5e-4454-c659-d6ac0ba63763"
      },
      "execution_count": 25,
      "outputs": [
        {
          "output_type": "stream",
          "name": "stdout",
          "text": [
            "[ 2  8  0  5 38 47 15 35 33 38  5 44 31 15  6 39 45  1 19 25 13 10  8 28]\n"
          ]
        }
      ]
    },
    {
      "cell_type": "code",
      "source": [
        "a1=np.random.randint(50,size=24)#Serán size=24 números aleatorios de 0 a 50\n",
        "print(a1)"
      ],
      "metadata": {
        "colab": {
          "base_uri": "https://localhost:8080/"
        },
        "id": "Oi-cZCWUs9CS",
        "outputId": "f08eba99-a1a1-4763-c575-9cf85488b212"
      },
      "execution_count": 8,
      "outputs": [
        {
          "output_type": "stream",
          "name": "stdout",
          "text": [
            "[25 38 16 48 40 29 21  4 22 28 36 33 14  2  4 28 48 22  7 27 17 41 26 48]\n"
          ]
        }
      ]
    },
    {
      "cell_type": "code",
      "source": [
        "a2=[x for x in np.array(np.random.randint(0,10,5))]\n",
        "print(a2)"
      ],
      "metadata": {
        "id": "DsWyeOf8adP-",
        "outputId": "d665a035-d26e-47b6-cb27-c72f494691ea",
        "colab": {
          "base_uri": "https://localhost:8080/"
        }
      },
      "execution_count": 21,
      "outputs": [
        {
          "output_type": "stream",
          "name": "stdout",
          "text": [
            "[6, 3, 1, 3, 0]\n"
          ]
        }
      ]
    },
    {
      "cell_type": "markdown",
      "source": [
        "**2.- Invertir el vector creada anteriormente**"
      ],
      "metadata": {
        "id": "twPKFbucsyH1"
      }
    },
    {
      "cell_type": "code",
      "source": [
        "print(a[::-1])"
      ],
      "metadata": {
        "colab": {
          "base_uri": "https://localhost:8080/"
        },
        "id": "GX2KcuHStWgn",
        "outputId": "989a7212-edfb-4b51-846a-3c5539bad448"
      },
      "execution_count": 18,
      "outputs": [
        {
          "output_type": "stream",
          "name": "stdout",
          "text": [
            "[16 10 18 46  6 28  7 13  4 34 28 16 36 49 46 35 22 46 11  5 26 42  2  8]\n"
          ]
        }
      ]
    },
    {
      "cell_type": "code",
      "source": [
        "print(a1[::-1])"
      ],
      "metadata": {
        "id": "8FqH6OjIXTO3",
        "outputId": "d1274374-2622-421e-e350-e8e3cde5a049",
        "colab": {
          "base_uri": "https://localhost:8080/"
        }
      },
      "execution_count": 19,
      "outputs": [
        {
          "output_type": "stream",
          "name": "stdout",
          "text": [
            "[48 26 41 17 27  7 22 48 28  4  2 14 33 36 28 22  4 21 29 40 48 16 38 25]\n"
          ]
        }
      ]
    },
    {
      "cell_type": "code",
      "source": [
        "print(a2[::-1])"
      ],
      "metadata": {
        "id": "jkSyQUudehRI",
        "outputId": "6db2d072-8932-42cb-d3f3-b21a14ba7d89",
        "colab": {
          "base_uri": "https://localhost:8080/"
        }
      },
      "execution_count": 22,
      "outputs": [
        {
          "output_type": "stream",
          "name": "stdout",
          "text": [
            "[0, 3, 1, 3, 6]\n"
          ]
        }
      ]
    },
    {
      "cell_type": "code",
      "source": [
        "b=a.reshape(24,1)\n",
        "print(b)"
      ],
      "metadata": {
        "colab": {
          "base_uri": "https://localhost:8080/"
        },
        "id": "c-s60mRPjlVm",
        "outputId": "89c56178-bd33-4510-e10a-7456fa554223"
      },
      "execution_count": 24,
      "outputs": [
        {
          "output_type": "stream",
          "name": "stdout",
          "text": [
            "[[ 8]\n",
            " [ 2]\n",
            " [42]\n",
            " [26]\n",
            " [ 5]\n",
            " [11]\n",
            " [46]\n",
            " [22]\n",
            " [35]\n",
            " [46]\n",
            " [49]\n",
            " [36]\n",
            " [16]\n",
            " [28]\n",
            " [34]\n",
            " [ 4]\n",
            " [13]\n",
            " [ 7]\n",
            " [28]\n",
            " [ 6]\n",
            " [46]\n",
            " [18]\n",
            " [10]\n",
            " [16]]\n"
          ]
        }
      ]
    },
    {
      "cell_type": "markdown",
      "source": [
        "3. Crear una matriz de 4x4 con valores aleatorios"
      ],
      "metadata": {
        "id": "7GpvrfWtfYZB"
      }
    },
    {
      "cell_type": "code",
      "source": [
        "s=np.array(np.random.randint(100, size=(4,4)))\n",
        "print(s)"
      ],
      "metadata": {
        "id": "x2e0A9fwXwcE",
        "outputId": "3353aeb3-4606-4689-d218-170e2e1c832e",
        "colab": {
          "base_uri": "https://localhost:8080/"
        }
      },
      "execution_count": 27,
      "outputs": [
        {
          "output_type": "stream",
          "name": "stdout",
          "text": [
            "[[31 87  8 81]\n",
            " [65 60 28 15]\n",
            " [92 25 68 96]\n",
            " [ 9 37 76  8]]\n"
          ]
        }
      ]
    },
    {
      "cell_type": "code",
      "source": [
        "type(s)"
      ],
      "metadata": {
        "id": "dCfFbbjgX64k",
        "outputId": "8f57e18a-3f05-47cc-fdb3-7fbdbe75e2cf",
        "colab": {
          "base_uri": "https://localhost:8080/"
        }
      },
      "execution_count": 28,
      "outputs": [
        {
          "output_type": "execute_result",
          "data": {
            "text/plain": [
              "numpy.ndarray"
            ]
          },
          "metadata": {},
          "execution_count": 28
        }
      ]
    },
    {
      "cell_type": "code",
      "source": [
        "x =np.array(np.random.randint(100, size=(5,5)))\n",
        "type(x)"
      ],
      "metadata": {
        "id": "qK6_PfuAjxsd",
        "outputId": "093e1e6d-b322-4545-a9a9-5f8598e34c5d",
        "colab": {
          "base_uri": "https://localhost:8080/"
        }
      },
      "execution_count": 29,
      "outputs": [
        {
          "output_type": "execute_result",
          "data": {
            "text/plain": [
              "numpy.ndarray"
            ]
          },
          "metadata": {},
          "execution_count": 29
        }
      ]
    },
    {
      "cell_type": "code",
      "source": [
        "print(x)"
      ],
      "metadata": {
        "id": "3bqYGE_pkblh",
        "colab": {
          "base_uri": "https://localhost:8080/"
        },
        "outputId": "feddae9a-cdd7-4805-9e09-d0903ac86963"
      },
      "execution_count": null,
      "outputs": [
        {
          "output_type": "stream",
          "name": "stdout",
          "text": [
            "[[32 76 93 69 79]\n",
            " [ 3 87 22 38 77]\n",
            " [44 66  4 51  0]\n",
            " [74 33 29 79 45]\n",
            " [ 9 59 87 15 24]]\n"
          ]
        }
      ]
    },
    {
      "cell_type": "code",
      "source": [
        "g=[x for x in np.random.randint(10, size=(3,3))]\n",
        "print(g)"
      ],
      "metadata": {
        "id": "RZlwTAZRgQ5p",
        "outputId": "a8a101fd-ecef-4216-8428-f64c6807b35a",
        "colab": {
          "base_uri": "https://localhost:8080/"
        }
      },
      "execution_count": 33,
      "outputs": [
        {
          "output_type": "stream",
          "name": "stdout",
          "text": [
            "[array([0, 4, 7]), array([3, 6, 3]), array([4, 8, 2])]\n"
          ]
        }
      ]
    },
    {
      "cell_type": "markdown",
      "source": [
        "4. Crear una matriz de tamaño 6x6 en donde\n",
        "- La diagonal tenga 1 (matriz A)\n",
        "- La antidiagonal tenga 1 (matriz B)"
      ],
      "metadata": {
        "id": "4NHPGyrSk6cu"
      }
    },
    {
      "cell_type": "code",
      "source": [
        "A=np.identity(6)\n",
        "print(A)"
      ],
      "metadata": {
        "colab": {
          "base_uri": "https://localhost:8080/"
        },
        "id": "1ieK0PxFmiAx",
        "outputId": "33b80b5b-a05f-4f7d-9981-ba680f115cb7"
      },
      "execution_count": 34,
      "outputs": [
        {
          "output_type": "stream",
          "name": "stdout",
          "text": [
            "[[1. 0. 0. 0. 0. 0.]\n",
            " [0. 1. 0. 0. 0. 0.]\n",
            " [0. 0. 1. 0. 0. 0.]\n",
            " [0. 0. 0. 1. 0. 0.]\n",
            " [0. 0. 0. 0. 1. 0.]\n",
            " [0. 0. 0. 0. 0. 1.]]\n"
          ]
        }
      ]
    },
    {
      "cell_type": "code",
      "source": [
        "A1=np.eye(6)\n",
        "print(A1)"
      ],
      "metadata": {
        "colab": {
          "base_uri": "https://localhost:8080/"
        },
        "id": "WpfXtkLst1oQ",
        "outputId": "5839dc80-92d3-4349-eede-67f655f217d6"
      },
      "execution_count": 35,
      "outputs": [
        {
          "output_type": "stream",
          "name": "stdout",
          "text": [
            "[[1. 0. 0. 0. 0. 0.]\n",
            " [0. 1. 0. 0. 0. 0.]\n",
            " [0. 0. 1. 0. 0. 0.]\n",
            " [0. 0. 0. 1. 0. 0.]\n",
            " [0. 0. 0. 0. 1. 0.]\n",
            " [0. 0. 0. 0. 0. 1.]]\n"
          ]
        }
      ]
    },
    {
      "cell_type": "code",
      "source": [
        "matriz=np.random.randint(10, size=(6,6))\n",
        "for i in range(6):\n",
        "  print(matriz[i])"
      ],
      "metadata": {
        "id": "hiDV3RazuR9I",
        "outputId": "d8c0dca7-34f8-4bf9-cd61-40045acc5739",
        "colab": {
          "base_uri": "https://localhost:8080/"
        }
      },
      "execution_count": 36,
      "outputs": [
        {
          "output_type": "stream",
          "name": "stdout",
          "text": [
            "[4 4 4 6 1 3]\n",
            "[3 0 1 1 9 0]\n",
            "[5 1 5 8 5 1]\n",
            "[6 6 9 6 0 7]\n",
            "[2 5 3 5 9 8]\n",
            "[8 5 9 7 1 7]\n"
          ]
        }
      ]
    },
    {
      "cell_type": "markdown",
      "source": [
        "Matriz antidiagonal"
      ],
      "metadata": {
        "id": "XhoeW0aFcRkQ"
      }
    },
    {
      "cell_type": "code",
      "source": [
        "mdiag=np.fliplr(np.identity(6))\n",
        "print(mdiag)"
      ],
      "metadata": {
        "colab": {
          "base_uri": "https://localhost:8080/"
        },
        "id": "d2rwU5fAtmsy",
        "outputId": "4fe31294-ecaa-4aff-8812-28227da31fe5"
      },
      "execution_count": 40,
      "outputs": [
        {
          "output_type": "stream",
          "name": "stdout",
          "text": [
            "[[0. 0. 0. 0. 0. 1.]\n",
            " [0. 0. 0. 0. 1. 0.]\n",
            " [0. 0. 0. 1. 0. 0.]\n",
            " [0. 0. 1. 0. 0. 0.]\n",
            " [0. 1. 0. 0. 0. 0.]\n",
            " [1. 0. 0. 0. 0. 0.]]\n"
          ]
        }
      ]
    },
    {
      "cell_type": "code",
      "source": [
        "iden=np.identity(6)\n",
        "m1diag=iden[::-1]\n",
        "print(m1diag)"
      ],
      "metadata": {
        "id": "ljyr2lOHhI3v",
        "outputId": "cc2c0e3a-076a-4db0-e50d-225cf2835c5a",
        "colab": {
          "base_uri": "https://localhost:8080/"
        }
      },
      "execution_count": 44,
      "outputs": [
        {
          "output_type": "stream",
          "name": "stdout",
          "text": [
            "[[0. 0. 0. 0. 0. 1.]\n",
            " [0. 0. 0. 0. 1. 0.]\n",
            " [0. 0. 0. 1. 0. 0.]\n",
            " [0. 0. 1. 0. 0. 0.]\n",
            " [0. 1. 0. 0. 0. 0.]\n",
            " [1. 0. 0. 0. 0. 0.]]\n"
          ]
        }
      ]
    },
    {
      "cell_type": "markdown",
      "source": [
        "5.- Crear dos matrices con valores aleatorios e indicar despues si tienen valores iguales(posiciones)"
      ],
      "metadata": {
        "id": "8Ty-T-VslJfC"
      }
    },
    {
      "cell_type": "code",
      "source": [
        "m1=np.random.randint(10,size=(6,6))\n",
        "m2=np.random.randint(10,size=(6,6))"
      ],
      "metadata": {
        "id": "u1GWeT0blx3t"
      },
      "execution_count": 45,
      "outputs": []
    },
    {
      "cell_type": "code",
      "source": [
        "mask= (m1==m2)\n",
        "print(mask)"
      ],
      "metadata": {
        "colab": {
          "base_uri": "https://localhost:8080/"
        },
        "id": "zKJYd9bsvTix",
        "outputId": "f35bb783-543f-4ea1-e066-97a70a797dd2"
      },
      "execution_count": 46,
      "outputs": [
        {
          "output_type": "stream",
          "name": "stdout",
          "text": [
            "[[False False False False False False]\n",
            " [False False False False False False]\n",
            " [False False False False False False]\n",
            " [False False False  True False False]\n",
            " [False False False False False False]\n",
            " [False False False  True False False]]\n"
          ]
        }
      ]
    },
    {
      "cell_type": "code",
      "source": [
        "print(np.equal(m1,m2))"
      ],
      "metadata": {
        "colab": {
          "base_uri": "https://localhost:8080/"
        },
        "id": "kjNwGoZZvick",
        "outputId": "8f0cf203-efb5-4682-ab34-945ca1abf286"
      },
      "execution_count": 47,
      "outputs": [
        {
          "output_type": "stream",
          "name": "stdout",
          "text": [
            "[[False False False False False False]\n",
            " [False False False False False False]\n",
            " [False False False False False False]\n",
            " [False False False  True False False]\n",
            " [False False False False False False]\n",
            " [False False False  True False False]]\n"
          ]
        }
      ]
    },
    {
      "cell_type": "code",
      "source": [
        "print(m1)\n",
        "print(m2)"
      ],
      "metadata": {
        "colab": {
          "base_uri": "https://localhost:8080/"
        },
        "id": "_jh-_4Ibv0et",
        "outputId": "cae68a39-7927-49c4-efed-0f4eb3384048"
      },
      "execution_count": 48,
      "outputs": [
        {
          "output_type": "stream",
          "name": "stdout",
          "text": [
            "[[1 8 4 2 3 7]\n",
            " [2 6 3 7 6 0]\n",
            " [6 9 2 7 6 3]\n",
            " [0 8 3 0 3 7]\n",
            " [1 0 8 2 2 0]\n",
            " [6 6 2 9 2 1]]\n",
            "[[2 9 8 8 8 6]\n",
            " [1 7 2 3 2 3]\n",
            " [1 2 5 6 9 0]\n",
            " [3 5 4 0 5 5]\n",
            " [6 8 3 9 6 9]\n",
            " [5 9 9 9 1 2]]\n"
          ]
        }
      ]
    },
    {
      "cell_type": "code",
      "source": [
        "print(np.where(m1==m2))"
      ],
      "metadata": {
        "colab": {
          "base_uri": "https://localhost:8080/"
        },
        "id": "h2aQ9g_LvqwK",
        "outputId": "4eb0de03-1a2d-4958-a4bb-3d5155f44276"
      },
      "execution_count": 53,
      "outputs": [
        {
          "output_type": "stream",
          "name": "stdout",
          "text": [
            "(array([3, 5]), array([3, 3]))\n"
          ]
        }
      ]
    },
    {
      "cell_type": "markdown",
      "source": [
        "6.- Crear una matriz con valores aleatorios y hacer una funcion que sume los valores de cada fila"
      ],
      "metadata": {
        "id": "iqVo1RGmlThL"
      }
    },
    {
      "cell_type": "code",
      "source": [
        "z =np.array(np.random.randint(100, size=(3,3)))\n",
        "print(z)"
      ],
      "metadata": {
        "colab": {
          "base_uri": "https://localhost:8080/"
        },
        "id": "tWQZECsjnDGc",
        "outputId": "1195ea31-8710-4bfe-dbc3-f0099a049e66"
      },
      "execution_count": 61,
      "outputs": [
        {
          "output_type": "stream",
          "name": "stdout",
          "text": [
            "[[74 46 24]\n",
            " [88 88 93]\n",
            " [ 6 94 69]]\n"
          ]
        }
      ]
    },
    {
      "cell_type": "code",
      "source": [
        "z[2,2]"
      ],
      "metadata": {
        "id": "lhUL5V96jqV4",
        "outputId": "bc24e946-b6a0-4dc3-8c92-41af4c5f2f23",
        "colab": {
          "base_uri": "https://localhost:8080/"
        }
      },
      "execution_count": 58,
      "outputs": [
        {
          "output_type": "execute_result",
          "data": {
            "text/plain": [
              "90"
            ]
          },
          "metadata": {},
          "execution_count": 58
        }
      ]
    },
    {
      "cell_type": "code",
      "source": [
        "for i in range(len(z)):\n",
        "  suma=0\n",
        "  for j in range (len(z[0])):\n",
        "    suma=suma+z[i,j]\n",
        "  print(suma)\n"
      ],
      "metadata": {
        "colab": {
          "base_uri": "https://localhost:8080/"
        },
        "id": "yH39D2Ymo6VN",
        "outputId": "e9970ef5-2866-4c46-fcb3-4a9a8823d636"
      },
      "execution_count": 65,
      "outputs": [
        {
          "output_type": "stream",
          "name": "stdout",
          "text": [
            "144\n",
            "269\n",
            "169\n"
          ]
        }
      ]
    },
    {
      "cell_type": "code",
      "source": [
        "#imprimiendo posiciones\n",
        "for i in range(len(z)):\n",
        "  list=[]\n",
        "  #suma=0\n",
        "  for j in range (len(z[0])):\n",
        "    cordenada=i,j\n",
        "    list.append(cordenada)\n",
        "  print(list)\n"
      ],
      "metadata": {
        "id": "fiqkqWhnlPYL",
        "outputId": "79010850-591b-4db3-f954-364f9e3dd166",
        "colab": {
          "base_uri": "https://localhost:8080/"
        }
      },
      "execution_count": 86,
      "outputs": [
        {
          "output_type": "stream",
          "name": "stdout",
          "text": [
            "[(0, 0), (0, 1), (0, 2)]\n",
            "[(1, 0), (1, 1), (1, 2)]\n",
            "[(2, 0), (2, 1), (2, 2)]\n"
          ]
        }
      ]
    },
    {
      "cell_type": "code",
      "source": [
        "print(np.sum(z,1))#con 1 suma filas y con cero suma columnas"
      ],
      "metadata": {
        "colab": {
          "base_uri": "https://localhost:8080/"
        },
        "id": "Be-2qI9cwIwF",
        "outputId": "19b6d83b-1fd2-4221-ab30-4e3e0d14cda1"
      },
      "execution_count": 67,
      "outputs": [
        {
          "output_type": "stream",
          "name": "stdout",
          "text": [
            "[144 269 169]\n"
          ]
        }
      ]
    },
    {
      "cell_type": "code",
      "source": [
        "print(np.sum(z,0))"
      ],
      "metadata": {
        "id": "K1YnQ35lkkg_",
        "outputId": "3bc94680-9887-4e00-bdc2-fc7b1fdad35d",
        "colab": {
          "base_uri": "https://localhost:8080/"
        }
      },
      "execution_count": 70,
      "outputs": [
        {
          "output_type": "stream",
          "name": "stdout",
          "text": [
            "[168 228 186]\n"
          ]
        }
      ]
    },
    {
      "cell_type": "code",
      "source": [
        "print(np.sum(z))"
      ],
      "metadata": {
        "id": "rSoiy05WkskS",
        "outputId": "e9e38100-c3ce-4037-cdfe-2488f69a027d",
        "colab": {
          "base_uri": "https://localhost:8080/"
        }
      },
      "execution_count": 71,
      "outputs": [
        {
          "output_type": "stream",
          "name": "stdout",
          "text": [
            "582\n"
          ]
        }
      ]
    },
    {
      "cell_type": "markdown",
      "source": [
        "7.- Usando la matriz anterior sumar los valores que están en la diagonal"
      ],
      "metadata": {
        "id": "JkZsblfrla_O"
      }
    },
    {
      "cell_type": "code",
      "source": [
        "suma=0\n",
        "for i in range(len(z)):\n",
        "\n",
        "  for j in range (len(z[0])):\n",
        "    if i==j:\n",
        "      suma=suma+z[i,j]\n",
        "print(suma)"
      ],
      "metadata": {
        "colab": {
          "base_uri": "https://localhost:8080/"
        },
        "id": "065VWGzMok4D",
        "outputId": "03c2e3a1-dd70-40cb-faac-53e3588a6a1f"
      },
      "execution_count": 87,
      "outputs": [
        {
          "output_type": "stream",
          "name": "stdout",
          "text": [
            "231\n"
          ]
        }
      ]
    },
    {
      "cell_type": "code",
      "source": [
        "np.sum(np.diagonal(z))"
      ],
      "metadata": {
        "colab": {
          "base_uri": "https://localhost:8080/"
        },
        "id": "vh6HYY-iwf70",
        "outputId": "b7a89c00-20b2-4cf0-ba8b-077918318955"
      },
      "execution_count": 88,
      "outputs": [
        {
          "output_type": "execute_result",
          "data": {
            "text/plain": [
              "231"
            ]
          },
          "metadata": {},
          "execution_count": 88
        }
      ]
    },
    {
      "cell_type": "markdown",
      "source": [
        "8.-Con la matriz creada en el ejercicio 6, modificar los primeros valores que estan en cada fila y reemplazar con 10"
      ],
      "metadata": {
        "id": "_3MwHVsglhpW"
      }
    },
    {
      "cell_type": "code",
      "source": [
        "z[0:,0]=10\n",
        "print(z)"
      ],
      "metadata": {
        "colab": {
          "base_uri": "https://localhost:8080/"
        },
        "id": "Gm-pgSR5w3pU",
        "outputId": "97a8824c-ca98-42aa-d9e9-0f5d47ac707b"
      },
      "execution_count": 89,
      "outputs": [
        {
          "output_type": "stream",
          "name": "stdout",
          "text": [
            "[[10 46 24]\n",
            " [10 88 93]\n",
            " [10 94 69]]\n"
          ]
        }
      ]
    },
    {
      "cell_type": "markdown",
      "source": [
        "9.-"
      ],
      "metadata": {
        "id": "evku7yAyxPot"
      }
    },
    {
      "cell_type": "code",
      "source": [
        "np.max(z,0)"
      ],
      "metadata": {
        "colab": {
          "base_uri": "https://localhost:8080/"
        },
        "id": "KG1eOyxaxTpY",
        "outputId": "76841e40-2c1d-4ba1-e15b-0d2d986ce191"
      },
      "execution_count": 90,
      "outputs": [
        {
          "output_type": "execute_result",
          "data": {
            "text/plain": [
              "array([10, 94, 93])"
            ]
          },
          "metadata": {},
          "execution_count": 90
        }
      ]
    },
    {
      "cell_type": "code",
      "source": [
        "M=[[2,2,1,3,2],[3,4,2,2,1],[1,3,4,3,4],[2,3,2,4,2],[1,2,3,4,1]]"
      ],
      "metadata": {
        "id": "qV9MXT0Lxogb"
      },
      "execution_count": null,
      "outputs": []
    },
    {
      "cell_type": "code",
      "source": [
        "M=np.array(M)\n",
        "print(M)"
      ],
      "metadata": {
        "colab": {
          "base_uri": "https://localhost:8080/"
        },
        "id": "j5Lrb3-Qycb4",
        "outputId": "9b979c4e-bfba-41ad-b65d-061f6f0f49c6"
      },
      "execution_count": null,
      "outputs": [
        {
          "output_type": "stream",
          "name": "stdout",
          "text": [
            "[[2 2 1 3 2]\n",
            " [3 4 2 2 1]\n",
            " [1 3 4 3 4]\n",
            " [2 3 2 4 2]\n",
            " [1 2 3 4 1]]\n"
          ]
        }
      ]
    },
    {
      "cell_type": "code",
      "source": [
        "M[0][3]"
      ],
      "metadata": {
        "colab": {
          "base_uri": "https://localhost:8080/"
        },
        "id": "HBgkCrof5wr7",
        "outputId": "68f2d3da-918b-4233-c6b4-041e75ce2e93"
      },
      "execution_count": null,
      "outputs": [
        {
          "output_type": "execute_result",
          "data": {
            "text/plain": [
              "3"
            ]
          },
          "metadata": {},
          "execution_count": 112
        }
      ]
    },
    {
      "cell_type": "markdown",
      "source": [
        "3.Cantidad de veces que aparecen los numeros"
      ],
      "metadata": {
        "id": "Txj7vySfx8nq"
      }
    },
    {
      "cell_type": "code",
      "source": [],
      "metadata": {
        "id": "G5JYZaJXyCI8"
      },
      "execution_count": 90,
      "outputs": []
    },
    {
      "cell_type": "markdown",
      "source": [
        "4.Cree una función LISTAR(matriz) la cual imprima los valores de la matriz (sin repetirse),\n",
        "(con la imagen de la matriz anterior se tiene:)"
      ],
      "metadata": {
        "id": "k98WwXZDyEkw"
      }
    },
    {
      "cell_type": "markdown",
      "source": [
        "5.Indicar la suma de los valores de la matriz en donde la suma de sus posiciones (x+y) estén\n",
        "en el intervalo de 6 a 13"
      ],
      "metadata": {
        "id": "8DF0UrPWyJDu"
      }
    },
    {
      "cell_type": "code",
      "source": [
        "np.linspace(2.0, 3.0, num=5)"
      ],
      "metadata": {
        "colab": {
          "base_uri": "https://localhost:8080/"
        },
        "id": "rCTvnEfG11q1",
        "outputId": "5b005c96-e397-4b48-fd65-99f5c9b948fd"
      },
      "execution_count": null,
      "outputs": [
        {
          "output_type": "execute_result",
          "data": {
            "text/plain": [
              "array([2.  , 2.25, 2.5 , 2.75, 3.  ])"
            ]
          },
          "metadata": {},
          "execution_count": 113
        }
      ]
    },
    {
      "cell_type": "code",
      "source": [
        "fils = 255\n",
        "cols = 255\n",
        "matrix = np.zeros([fils, cols, 3], dtype=np.uint8)\n",
        "for i in range(fils):\n",
        " for j in range(cols):\n",
        "  matrix[i][j] = [0, 0, 255]\n",
        "\n",
        "plt.imshow(matrix)"
      ],
      "metadata": {
        "id": "nYrAON6Cc8-X"
      },
      "execution_count": null,
      "outputs": []
    },
    {
      "cell_type": "code",
      "source": [
        "fils = 255\n",
        "cols = 255\n",
        "matrix = np.zeros([fils, cols, 3], dtype=np.uint8)\n",
        "for i in range(fils):\n",
        " for j in range(cols):\n",
        "  matrix[i][j] = [0, 0, i]\n",
        "\n",
        "plt.imshow(matrix)"
      ],
      "metadata": {
        "id": "9Va9hX_6dESP"
      },
      "execution_count": null,
      "outputs": []
    },
    {
      "cell_type": "code",
      "source": [
        "fils = 255\n",
        "cols = 255\n",
        "matrix = np.zeros([fils, cols, 3], dtype=np.uint8)\n",
        "for i in range(fils):\n",
        " for j in range(cols):\n",
        "  matrix[i][j] = [i, 0, j]\n",
        "\n",
        "plt.imshow(matrix)"
      ],
      "metadata": {
        "id": "rORfat_TdFjY"
      },
      "execution_count": null,
      "outputs": []
    },
    {
      "cell_type": "code",
      "source": [
        "fils = 255\n",
        "cols = 255\n",
        "matrix = np.zeros([fils, cols, 3], dtype=np.uint8)\n",
        "for i in range(fils):\n",
        " for j in range(cols):\n",
        "  matrix[i][j] = [i, j, 0]\n",
        "plt.imshow(matrix)"
      ],
      "metadata": {
        "id": "qWTdw4L0dLXk"
      },
      "execution_count": null,
      "outputs": []
    },
    {
      "cell_type": "code",
      "source": [
        "fils = 26\n",
        "cols = 26\n",
        "matrix = np.zeros([fils, cols, 3], dtype=np.uint8)\n",
        "for i in range(fils):\n",
        "  for j in range(cols):\n",
        "    if i%5 == 0 or j%5 == 0:\n",
        "      matrix[i][j] = [255, 255, 255]\n",
        "    else:\n",
        "      matrix[i][j] = [0, 0, 0]\n",
        "plt.imshow(matrix)"
      ],
      "metadata": {
        "id": "NYKAfFoKdSpl"
      },
      "execution_count": null,
      "outputs": []
    },
    {
      "cell_type": "code",
      "source": [
        "matrix = np.zeros([100, 300, 3], dtype=np.uint8)\n",
        "matrix[:,:100] = [255, 0, 0] # Rojo\n",
        "matrix[:,100:200] = [255, 255, 255] # Blanco\n",
        "matrix[:,200:] = [255, 0, 0] # Rojo\n",
        "plt.imshow(matrix)"
      ],
      "metadata": {
        "id": "eywm7TPxdYqL"
      },
      "execution_count": null,
      "outputs": []
    }
  ],
  "metadata": {
    "colab": {
      "provenance": [],
      "mount_file_id": "1JZH1AahZB3yGvgP7Dj4HPeu7YBjrb7ay",
      "authorship_tag": "ABX9TyMGzG5IakStlM4xDpR9xyoj",
      "include_colab_link": true
    },
    "kernelspec": {
      "display_name": "Python 3",
      "name": "python3"
    },
    "language_info": {
      "name": "python"
    }
  },
  "nbformat": 4,
  "nbformat_minor": 0
}
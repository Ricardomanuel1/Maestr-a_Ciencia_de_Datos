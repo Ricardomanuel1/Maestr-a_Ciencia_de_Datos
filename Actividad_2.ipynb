{
  "nbformat": 4,
  "nbformat_minor": 0,
  "metadata": {
    "colab": {
      "provenance": [],
      "authorship_tag": "ABX9TyNLMphz09BOnQo8kz4dag4O",
      "include_colab_link": true
    },
    "kernelspec": {
      "name": "python3",
      "display_name": "Python 3"
    },
    "language_info": {
      "name": "python"
    }
  },
  "cells": [
    {
      "cell_type": "markdown",
      "metadata": {
        "id": "view-in-github",
        "colab_type": "text"
      },
      "source": [
        "<a href=\"https://colab.research.google.com/github/Ricardomanuel1/Maestria_Ciencia_de_Datos/blob/main/Actividad_2.ipynb\" target=\"_parent\"><img src=\"https://colab.research.google.com/assets/colab-badge.svg\" alt=\"Open In Colab\"/></a>"
      ]
    },
    {
      "cell_type": "markdown",
      "source": [
        "Elaborar una función en python que simule los estados de una cadena de Markov teniendo como datos la matriz P y la distribución inicial p0 y con estados S={1,2,...n}"
      ],
      "metadata": {
        "id": "zQc2nEP1Run5"
      }
    },
    {
      "cell_type": "code",
      "source": [
        "import numpy as np\n",
        "import random\n",
        "import matplotlib.pyplot as plt"
      ],
      "metadata": {
        "id": "_AuTocLpSQFj"
      },
      "execution_count": 400,
      "outputs": []
    },
    {
      "cell_type": "markdown",
      "source": [
        "Creamos las matrices P y p0 con distribución uniforme, ambas de tamaño n"
      ],
      "metadata": {
        "id": "gVcbCfMjRJBn"
      }
    },
    {
      "cell_type": "code",
      "source": [
        "import numpy as np\n",
        "np.random.seed(101)\n",
        "def matriz_P(n):\n",
        "    matriz = np.random.uniform(0, 1,size=(n, n))  # Genera matriz aleatoria\n",
        "    matriz =matriz/matriz.sum(axis=1, keepdims=True)\n",
        "    return matriz\n",
        "np.random.seed(101)\n",
        "def matriz_p0(n):\n",
        "    fila = np.random.uniform(0, 1, size=(1, n))  # Genera una fila aleatoria con distribución uniforme\n",
        "    fila =fila/np.sum(fila)\n",
        "    return fila\n",
        "\n",
        "n = 4  # Tamaño de la matriz P y de la matriz p0\n",
        "\n",
        "P = matriz_P(n)\n",
        "p0= matriz_p0(n)"
      ],
      "metadata": {
        "id": "_mbU0SEGd9i5"
      },
      "execution_count": 401,
      "outputs": []
    },
    {
      "cell_type": "code",
      "source": [
        "print(P)#matriz de tamaño nxn"
      ],
      "metadata": {
        "colab": {
          "base_uri": "https://localhost:8080/"
        },
        "id": "jIAO7UJAlzi3",
        "outputId": "b253416c-fd41-4157-817d-c45d1414dbf3"
      },
      "execution_count": 402,
      "outputs": [
        {
          "output_type": "stream",
          "name": "stdout",
          "text": [
            "[[0.40122278 0.44338777 0.02212343 0.13326603]\n",
            " [0.25196293 0.30660756 0.11286547 0.32856404]\n",
            " [0.39692323 0.10448593 0.3048821  0.19370874]\n",
            " [0.08400212 0.36280908 0.4458825  0.1073063 ]]\n"
          ]
        }
      ]
    },
    {
      "cell_type": "code",
      "source": [
        "print(p0)"
      ],
      "metadata": {
        "colab": {
          "base_uri": "https://localhost:8080/"
        },
        "id": "wcvU8eeblo8g",
        "outputId": "48f00509-fc2b-441e-da84-766f0f2dbe20"
      },
      "execution_count": 403,
      "outputs": [
        {
          "output_type": "stream",
          "name": "stdout",
          "text": [
            "[[0.04937623 0.35663514 0.43075986 0.16322878]]\n"
          ]
        }
      ]
    },
    {
      "cell_type": "markdown",
      "source": [
        "Efectuamos la multiplicación de las matrices p0*P, el resultado multiplicamos nuevamente por P y asi hata obtener pn"
      ],
      "metadata": {
        "id": "iZTGcqVORb4s"
      }
    },
    {
      "cell_type": "code",
      "source": [
        "p1=p0@P\n",
        "p2=p1@P\n",
        "p3=p2@P\n",
        "p4=p3@P\n",
        "#p5=p4@P"
      ],
      "metadata": {
        "id": "1nkTINnEmEtF"
      },
      "execution_count": 404,
      "outputs": []
    },
    {
      "cell_type": "markdown",
      "source": [
        "Creamos un función que sume los indices con la finalidad de obtener los intervalos, teniendo en cuenta que el último valor sera 1"
      ],
      "metadata": {
        "id": "xHtoT2ZUSoTN"
      }
    },
    {
      "cell_type": "code",
      "source": [
        "def intervalos(matrix):\n",
        "  lista=[]\n",
        "  suma=0\n",
        "  for i in range(len(matrix)):#0\n",
        "    for j in range(len(matrix[0])):#0,1,2\n",
        "      suma=suma+matrix[i][j]\n",
        "      lista.append(suma)\n",
        "  return lista"
      ],
      "metadata": {
        "id": "0SznRMeocKUo"
      },
      "execution_count": 405,
      "outputs": []
    },
    {
      "cell_type": "code",
      "source": [
        "list_matrix=[p0,p1,p2,p3,p4,p5]"
      ],
      "metadata": {
        "id": "lPvEs_nsMOKB"
      },
      "execution_count": 406,
      "outputs": []
    },
    {
      "cell_type": "code",
      "source": [
        "for i in range(n+1):\n",
        "  print(f'Intervalos p{i}',intervalos(list_matrix[i]))"
      ],
      "metadata": {
        "id": "mJKMTxa9c6i0",
        "outputId": "36804dc4-2c56-4a24-ecb6-e5230f21e903",
        "colab": {
          "base_uri": "https://localhost:8080/"
        }
      },
      "execution_count": 407,
      "outputs": [
        {
          "output_type": "stream",
          "name": "stdout",
          "text": [
            "Intervalos p0 [0.04937622609859187, 0.40601136331467996, 0.8367712202253136, 1.0]\n",
            "Intervalos p1 [0.2943598596808149, 0.5298289302618012, 0.7752849193963331, 1.0]\n",
            "Intervalos p2 [0.29373708559597056, 0.6036246111837819, 0.8117448468365791, 1.0]\n",
            "Intervalos p3 [0.29435576757394766, 0.6096553696328506, 0.7985212549355034, 1.0]\n",
            "Intervalos p4 [0.28943595038538406, 0.6094550824380738, 0.79897135317823, 1.0000000000000002]\n"
          ]
        }
      ]
    },
    {
      "cell_type": "markdown",
      "source": [
        "Creamos los números aleatorios (n+1), estos números serán ubicados en los intervalos 1,2...n y según en que intervalo se encuentre tendremos el estado"
      ],
      "metadata": {
        "id": "0uhS5jFuUWpl"
      }
    },
    {
      "cell_type": "code",
      "source": [
        "def aleatorios(n):\n",
        "    aleatorios = []\n",
        "    for k in range(n):\n",
        "      numero = random.random()\n",
        "      aleatorios.append(numero)\n",
        "    return aleatorios"
      ],
      "metadata": {
        "id": "8wo9q_IBQ8D4"
      },
      "execution_count": 408,
      "outputs": []
    },
    {
      "cell_type": "markdown",
      "source": [
        "Con el primer número aleatorio creado ubicamos en que posicion se encuentra en la matriz p0, con el segundo número aleatorio ubicamos en la matriz p1 y asi sucesivamente hasta pn"
      ],
      "metadata": {
        "id": "7SsqgZVlVW9S"
      }
    },
    {
      "cell_type": "code",
      "source": [
        "def estado(aleatorio,intervalo):\n",
        "\n",
        "  for i in range(len(intervalo)):\n",
        "    list10=[]\n",
        "    if aleatorio<intervalo[i]:\n",
        "      list10.append(1)\n",
        "    elif aleatorio<intervalo[i+1]:\n",
        "      list10.append(2)\n",
        "    elif aleatorio<intervalo[i+2]:\n",
        "      list10.append(3)\n",
        "    elif aleatorio<intervalo[i+3]:\n",
        "      list10.append(4)\n",
        "    elif aleatorio<intervalo[i+4]:\n",
        "      list10.append(5)\n",
        "    elif aleatorio<intervalo[i+5]:\n",
        "      list10.append(6)\n",
        "    elif aleatorio<intervalo[i+6]:\n",
        "      list10.append(7)\n",
        "    elif aleatorio<intervalo[i+7]:\n",
        "      list10.append(8)\n",
        "    elif aleatorio<intervalo[i+8]:\n",
        "      list10.append(9)\n",
        "    elif aleatorio<intervalo[i+9]:\n",
        "      list10.append(10)\n",
        "    return list10"
      ],
      "metadata": {
        "id": "Q8YoEL2u588e"
      },
      "execution_count": 409,
      "outputs": []
    },
    {
      "cell_type": "markdown",
      "source": [
        "Realizamos nsim simulaciones"
      ],
      "metadata": {
        "id": "ePqudDMd57R0"
      }
    },
    {
      "cell_type": "code",
      "source": [
        "nsim=1\n",
        "lista_estado=[]\n",
        "\n",
        "for i in range (nsim):#0,1,2\n",
        "  random_num=aleatorios(n+1)\n",
        "  print('Números aleatorios:',random_num)\n",
        "  for i in range(n+1):\n",
        "    e=estado(random_num[i],intervalos(list_matrix[i]))\n",
        "    lista_estado.append(e)\n",
        "print('Estados:',lista_estado)"
      ],
      "metadata": {
        "id": "5l6feYxfXYL3",
        "outputId": "e1dfa552-205b-4d0f-a1f5-db6baa92db6a",
        "colab": {
          "base_uri": "https://localhost:8080/"
        }
      },
      "execution_count": 417,
      "outputs": [
        {
          "output_type": "stream",
          "name": "stdout",
          "text": [
            "Números aleatorios: [0.7501935059211469, 0.7472447204754505, 0.2858919722942357, 0.2944468349037107, 0.26023908106818483]\n",
            "Estados: [[3], [3], [1], [2], [1]]\n"
          ]
        }
      ]
    },
    {
      "cell_type": "markdown",
      "source": [
        "Realizamos la comprobación y efectivamente es conforme los estado de acuerdo a que intervalo se encuentra el numero aleatorio"
      ],
      "metadata": {
        "id": "GoettSMo-kOE"
      }
    },
    {
      "cell_type": "code",
      "source": [
        "for i in range(n+1):\n",
        "  s=intervalos(list_matrix[i])\n",
        "  print(f'p{i}:',s)"
      ],
      "metadata": {
        "id": "wya2Dv7JYqd0",
        "outputId": "86c86b2f-be81-40ca-da6c-e486e89d4755",
        "colab": {
          "base_uri": "https://localhost:8080/"
        }
      },
      "execution_count": 413,
      "outputs": [
        {
          "output_type": "stream",
          "name": "stdout",
          "text": [
            "p0: [0.04937622609859187, 0.40601136331467996, 0.8367712202253136, 1.0]\n",
            "p1: [0.2943598596808149, 0.5298289302618012, 0.7752849193963331, 1.0]\n",
            "p2: [0.29373708559597056, 0.6036246111837819, 0.8117448468365791, 1.0]\n",
            "p3: [0.29435576757394766, 0.6096553696328506, 0.7985212549355034, 1.0]\n",
            "p4: [0.28943595038538406, 0.6094550824380738, 0.79897135317823, 1.0000000000000002]\n"
          ]
        }
      ]
    }
  ]
}
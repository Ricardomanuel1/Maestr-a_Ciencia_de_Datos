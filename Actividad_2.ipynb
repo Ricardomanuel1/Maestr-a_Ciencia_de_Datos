{
  "nbformat": 4,
  "nbformat_minor": 0,
  "metadata": {
    "colab": {
      "provenance": [],
      "authorship_tag": "ABX9TyMiLZmkaXojCq7oTnVaQCBL",
      "include_colab_link": true
    },
    "kernelspec": {
      "name": "python3",
      "display_name": "Python 3"
    },
    "language_info": {
      "name": "python"
    }
  },
  "cells": [
    {
      "cell_type": "markdown",
      "metadata": {
        "id": "view-in-github",
        "colab_type": "text"
      },
      "source": [
        "<a href=\"https://colab.research.google.com/github/Ricardomanuel1/Maestria_Ciencia_de_Datos/blob/main/Actividad_2.ipynb\" target=\"_parent\"><img src=\"https://colab.research.google.com/assets/colab-badge.svg\" alt=\"Open In Colab\"/></a>"
      ]
    },
    {
      "cell_type": "markdown",
      "source": [
        "Elaborar una función en python que simule los estados de una cadena de Markov teniendo como datos la matriz P y la distribución inicial p0 y con estados S={1,2,...n}"
      ],
      "metadata": {
        "id": "zQc2nEP1Run5"
      }
    },
    {
      "cell_type": "code",
      "source": [
        "import numpy as np\n",
        "import random\n",
        "import matplotlib.pyplot as plt"
      ],
      "metadata": {
        "id": "_AuTocLpSQFj"
      },
      "execution_count": 356,
      "outputs": []
    },
    {
      "cell_type": "code",
      "source": [
        "import numpy as np\n",
        "np.random.seed(101)\n",
        "def matriz_P(n):\n",
        "    matriz = np.random.uniform(0, 1,size=(n, n))  # Genera matriz aleatoria\n",
        "    matriz =matriz/matriz.sum(axis=1, keepdims=True)\n",
        "    return matriz\n",
        "np.random.seed(101)\n",
        "def matriz_p0(n):\n",
        "    fila = np.random.uniform(0, 1, size=(1, n))  # Genera una fila aleatoria con distribución uniforme\n",
        "    fila =fila/np.sum(fila)\n",
        "    return fila\n",
        "\n",
        "n = 3  # Tamaño de la matriz P y de la matriz p0\n",
        "\n",
        "P = matriz_P(n)\n",
        "p0= matriz_p0(n)"
      ],
      "metadata": {
        "id": "_mbU0SEGd9i5"
      },
      "execution_count": 357,
      "outputs": []
    },
    {
      "cell_type": "code",
      "source": [
        "print(P)"
      ],
      "metadata": {
        "colab": {
          "base_uri": "https://localhost:8080/"
        },
        "id": "jIAO7UJAlzi3",
        "outputId": "61eb8249-725c-4c57-e65a-79f21e3cc16e"
      },
      "execution_count": 358,
      "outputs": [
        {
          "output_type": "stream",
          "name": "stdout",
          "text": [
            "[[0.46291341 0.51156154 0.02552505]\n",
            " [0.10145035 0.40532253 0.49322711]\n",
            " [0.15970164 0.46490938 0.37538898]]\n"
          ]
        }
      ]
    },
    {
      "cell_type": "code",
      "source": [
        "print(p0)"
      ],
      "metadata": {
        "colab": {
          "base_uri": "https://localhost:8080/"
        },
        "id": "wcvU8eeblo8g",
        "outputId": "d3b90542-f7a8-4740-e306-0cddddf59546"
      },
      "execution_count": 359,
      "outputs": [
        {
          "output_type": "stream",
          "name": "stdout",
          "text": [
            "[[0.17325478 0.50554442 0.3212008 ]]\n"
          ]
        }
      ]
    },
    {
      "cell_type": "code",
      "source": [
        "p1=p0@P\n",
        "p2=p1@P\n",
        "p3=p2@P"
      ],
      "metadata": {
        "id": "1nkTINnEmEtF"
      },
      "execution_count": 360,
      "outputs": []
    },
    {
      "cell_type": "code",
      "source": [
        "def intervalos(matrix):\n",
        "  lista=[]\n",
        "  suma=0\n",
        "  for i in range(len(matrix)):#0\n",
        "    for j in range(len(matrix[0])):#0,1,2\n",
        "      suma=suma+matrix[i][j]\n",
        "      lista.append(suma)\n",
        "  return lista"
      ],
      "metadata": {
        "id": "0SznRMeocKUo"
      },
      "execution_count": 361,
      "outputs": []
    },
    {
      "cell_type": "code",
      "source": [
        "print(intervalos(p0))\n",
        "print(intervalos(p1))\n",
        "print(intervalos(p2))\n",
        "print(intervalos(p3))"
      ],
      "metadata": {
        "id": "mJKMTxa9c6i0",
        "outputId": "54fbc900-115b-409d-c387-1a12be535376",
        "colab": {
          "base_uri": "https://localhost:8080/"
        }
      },
      "execution_count": 452,
      "outputs": [
        {
          "output_type": "stream",
          "name": "stdout",
          "text": [
            "[0.17325477898249295, 0.6787992009170825, 1.0]\n",
            "[0.18278591471625064, 0.6256542048282535, 0.9999999999999999]\n",
            "[0.18932683250678567, 0.6363744436091698, 0.9999999999999998]\n",
            "[0.19106666494032654, 0.6381703914696727, 0.9999999999999998]\n"
          ]
        }
      ]
    },
    {
      "cell_type": "code",
      "source": [
        "def aleatorios(n):\n",
        "    aleatorios = []\n",
        "    for k in range(n):\n",
        "      numero = random.random()\n",
        "      aleatorios.append(numero)\n",
        "    return aleatorios\n",
        "random_num=aleatorios(n+1)\n",
        "random_num"
      ],
      "metadata": {
        "id": "8wo9q_IBQ8D4",
        "outputId": "c9417cbc-63f7-4697-e1d1-a03a32b93ef9",
        "colab": {
          "base_uri": "https://localhost:8080/"
        }
      },
      "execution_count": 481,
      "outputs": [
        {
          "output_type": "execute_result",
          "data": {
            "text/plain": [
              "[0.41729146477740553,\n",
              " 0.40332655945724083,\n",
              " 0.8286808335302308,\n",
              " 0.16636274530902162]"
            ]
          },
          "metadata": {},
          "execution_count": 481
        }
      ]
    },
    {
      "cell_type": "code",
      "source": [
        "def estado(aleatorio,intervalo):\n",
        "\n",
        "  for i in range(len(intervalo)):\n",
        "    list10=[]\n",
        "    if aleatorio<intervalo[i]:\n",
        "      list10.append(1)\n",
        "    elif aleatorio<intervalo[i+1]:\n",
        "      list10.append(2)\n",
        "    else:\n",
        "      list10.append(3)\n",
        "    return list10"
      ],
      "metadata": {
        "id": "Q8YoEL2u588e"
      },
      "execution_count": 478,
      "outputs": []
    },
    {
      "cell_type": "code",
      "source": [
        "list_estado=[]"
      ],
      "metadata": {
        "id": "ki4_x8IsmqZZ"
      },
      "execution_count": 479,
      "outputs": []
    },
    {
      "cell_type": "code",
      "source": [
        "e0=estado(random_num[0],intervalos(p0))\n",
        "list_estado.append(e0)\n",
        "e1=estado(random_num[1],intervalos(p1))\n",
        "list_estado.append(e1)\n",
        "e2=estado(random_num[2],intervalos(p2))\n",
        "list_estado.append(e2)\n",
        "e3=estado(random_num[3],intervalos(p3))\n",
        "list_estado.append(e3)\n",
        "print(list_estado)"
      ],
      "metadata": {
        "id": "dOeTMdzBRt3Z",
        "outputId": "cc9560b1-f990-4066-f9ea-ddcc308d0285",
        "colab": {
          "base_uri": "https://localhost:8080/"
        }
      },
      "execution_count": 482,
      "outputs": [
        {
          "output_type": "stream",
          "name": "stdout",
          "text": [
            "[[2], [3], [3], [1], [2], [2], [3], [1]]\n"
          ]
        }
      ]
    },
    {
      "cell_type": "markdown",
      "source": [],
      "metadata": {
        "id": "KCrz-JOqvzuB"
      }
    }
  ]
}
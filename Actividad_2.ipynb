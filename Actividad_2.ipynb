{
  "nbformat": 4,
  "nbformat_minor": 0,
  "metadata": {
    "colab": {
      "provenance": [],
      "authorship_tag": "ABX9TyM9Ufkk/g8q4OtgGvkBtL2v",
      "include_colab_link": true
    },
    "kernelspec": {
      "name": "python3",
      "display_name": "Python 3"
    },
    "language_info": {
      "name": "python"
    }
  },
  "cells": [
    {
      "cell_type": "markdown",
      "metadata": {
        "id": "view-in-github",
        "colab_type": "text"
      },
      "source": [
        "<a href=\"https://colab.research.google.com/github/Ricardomanuel1/Maestria_Ciencia_de_Datos/blob/main/Actividad_2.ipynb\" target=\"_parent\"><img src=\"https://colab.research.google.com/assets/colab-badge.svg\" alt=\"Open In Colab\"/></a>"
      ]
    },
    {
      "cell_type": "markdown",
      "source": [
        "Elaborar una función en python que simule los estados de una cadena de Markov teniendo como datos la matriz P y la distribución inicial p0 y con estados S={1,2,...n}"
      ],
      "metadata": {
        "id": "zQc2nEP1Run5"
      }
    },
    {
      "cell_type": "code",
      "source": [
        "import numpy as np\n",
        "import random\n",
        "import matplotlib.pyplot as plt"
      ],
      "metadata": {
        "id": "_AuTocLpSQFj"
      },
      "execution_count": 1,
      "outputs": []
    },
    {
      "cell_type": "code",
      "source": [
        "import numpy as np\n",
        "np.random.seed(101)\n",
        "def matriz_P(n):\n",
        "    matriz = np.random.uniform(0, 1,size=(n, n))  # Genera matriz aleatoria\n",
        "    matriz =matriz/matriz.sum(axis=1, keepdims=True)\n",
        "    return matriz\n",
        "np.random.seed(101)\n",
        "def matriz_p0(n):\n",
        "    fila = np.random.uniform(0, 1, size=(1, n))  # Genera una fila aleatoria con distribución uniforme\n",
        "    fila =fila/np.sum(fila)\n",
        "    return fila\n",
        "\n",
        "n = 3  # Tamaño de la matriz P y de la matriz p0\n",
        "\n",
        "P = matriz_P(n)\n",
        "p0= matriz_p0(n)"
      ],
      "metadata": {
        "id": "_mbU0SEGd9i5"
      },
      "execution_count": 108,
      "outputs": []
    },
    {
      "cell_type": "code",
      "source": [
        "print(P)"
      ],
      "metadata": {
        "colab": {
          "base_uri": "https://localhost:8080/"
        },
        "id": "jIAO7UJAlzi3",
        "outputId": "af061e44-fa73-47d8-8176-819b5fec94f7"
      },
      "execution_count": 109,
      "outputs": [
        {
          "output_type": "stream",
          "name": "stdout",
          "text": [
            "[[0.46291341 0.51156154 0.02552505]\n",
            " [0.10145035 0.40532253 0.49322711]\n",
            " [0.15970164 0.46490938 0.37538898]]\n"
          ]
        }
      ]
    },
    {
      "cell_type": "code",
      "source": [
        "print(p0)"
      ],
      "metadata": {
        "colab": {
          "base_uri": "https://localhost:8080/"
        },
        "id": "wcvU8eeblo8g",
        "outputId": "8f8858a5-2d68-49a0-d5d4-c57a44b0baaf"
      },
      "execution_count": 110,
      "outputs": [
        {
          "output_type": "stream",
          "name": "stdout",
          "text": [
            "[[0.17325478 0.50554442 0.3212008 ]]\n"
          ]
        }
      ]
    },
    {
      "cell_type": "code",
      "source": [
        "p1=p0@P\n",
        "p2=p1@P\n",
        "p3=p2@P"
      ],
      "metadata": {
        "id": "1nkTINnEmEtF"
      },
      "execution_count": 111,
      "outputs": []
    },
    {
      "cell_type": "code",
      "source": [
        "numero1_aleatorio = random.random()\n",
        "numero1_aleatorio"
      ],
      "metadata": {
        "colab": {
          "base_uri": "https://localhost:8080/"
        },
        "id": "yuom8DZeqUR8",
        "outputId": "9953c131-b0c5-4ab6-bf51-5fc09d4bc087"
      },
      "execution_count": 151,
      "outputs": [
        {
          "output_type": "execute_result",
          "data": {
            "text/plain": [
              "0.7656609117120138"
            ]
          },
          "metadata": {},
          "execution_count": 151
        }
      ]
    },
    {
      "cell_type": "code",
      "source": [
        "for i in range(len(p0)):#0\n",
        "    for j in range(len(p0[0])):#\n",
        "      print(p0[i][j])\n",
        ""
      ],
      "metadata": {
        "colab": {
          "base_uri": "https://localhost:8080/"
        },
        "id": "j0xAtxI1njeH",
        "outputId": "3d7f2eee-d3f3-4d13-cfca-e5f76b041553"
      },
      "execution_count": 134,
      "outputs": [
        {
          "output_type": "stream",
          "name": "stdout",
          "text": [
            "0.17325477898249295\n",
            "0.5055444219345895\n",
            "0.3212007990829175\n"
          ]
        }
      ]
    },
    {
      "cell_type": "code",
      "source": [
        "intervalo_1=p0[0][0]\n",
        "intervalo_1"
      ],
      "metadata": {
        "colab": {
          "base_uri": "https://localhost:8080/"
        },
        "id": "NpwE_p4zpNYc",
        "outputId": "ba3fc7f9-710e-4b88-fd33-0afbe45fb4cd"
      },
      "execution_count": 152,
      "outputs": [
        {
          "output_type": "execute_result",
          "data": {
            "text/plain": [
              "0.17325477898249295"
            ]
          },
          "metadata": {},
          "execution_count": 152
        }
      ]
    },
    {
      "cell_type": "code",
      "source": [
        "intervalo_2=p0[0][0]+p0[0][1]#>intervalo_1 y < intervalo 2\n",
        "intervalo_2"
      ],
      "metadata": {
        "colab": {
          "base_uri": "https://localhost:8080/"
        },
        "id": "mDajD5z4uCjB",
        "outputId": "12483b51-502f-48fe-c65c-594804abe8b2"
      },
      "execution_count": 153,
      "outputs": [
        {
          "output_type": "execute_result",
          "data": {
            "text/plain": [
              "0.6787992009170825"
            ]
          },
          "metadata": {},
          "execution_count": 153
        }
      ]
    },
    {
      "cell_type": "code",
      "source": [
        "intervalos=[]\n",
        "\n",
        "if numero1_aleatorio <intervalo_1:\n",
        "  intervalos.append(1)\n",
        "elif   numero1_aleatorio <intervalo_2:\n",
        "  intervalos.append(2)\n",
        "else:\n",
        "  intervalos.append(3)"
      ],
      "metadata": {
        "id": "R5zs352opYoQ"
      },
      "execution_count": 155,
      "outputs": []
    },
    {
      "cell_type": "code",
      "source": [
        "print(intervalos)"
      ],
      "metadata": {
        "colab": {
          "base_uri": "https://localhost:8080/"
        },
        "id": "kpKwtLm6w1rv",
        "outputId": "4d428d5e-a262-4663-f3b5-f4184f1a88c2"
      },
      "execution_count": 156,
      "outputs": [
        {
          "output_type": "stream",
          "name": "stdout",
          "text": [
            "[3]\n"
          ]
        }
      ]
    },
    {
      "cell_type": "code",
      "source": [
        "for i,j in p0:\n",
        "  print(0,0)\n"
      ],
      "metadata": {
        "colab": {
          "base_uri": "https://localhost:8080/",
          "height": 158
        },
        "id": "5rFZWixXmMPC",
        "outputId": "cf930022-3d58-48af-d5c6-5b1274509e06"
      },
      "execution_count": 113,
      "outputs": [
        {
          "output_type": "error",
          "ename": "ValueError",
          "evalue": "too many values to unpack (expected 2)",
          "traceback": [
            "\u001b[0;31m---------------------------------------------------------------------------\u001b[0m",
            "\u001b[0;31mValueError\u001b[0m                                Traceback (most recent call last)",
            "\u001b[0;32m<ipython-input-113-dd93131386ae>\u001b[0m in \u001b[0;36m<cell line: 1>\u001b[0;34m()\u001b[0m\n\u001b[0;32m----> 1\u001b[0;31m \u001b[0;32mfor\u001b[0m \u001b[0mi\u001b[0m\u001b[0;34m,\u001b[0m\u001b[0mj\u001b[0m \u001b[0;32min\u001b[0m \u001b[0mp0\u001b[0m\u001b[0;34m:\u001b[0m\u001b[0;34m\u001b[0m\u001b[0;34m\u001b[0m\u001b[0m\n\u001b[0m\u001b[1;32m      2\u001b[0m   \u001b[0mprint\u001b[0m\u001b[0;34m(\u001b[0m\u001b[0;36m0\u001b[0m\u001b[0;34m,\u001b[0m\u001b[0;36m0\u001b[0m\u001b[0;34m)\u001b[0m\u001b[0;34m\u001b[0m\u001b[0;34m\u001b[0m\u001b[0m\n",
            "\u001b[0;31mValueError\u001b[0m: too many values to unpack (expected 2)"
          ]
        }
      ]
    },
    {
      "cell_type": "code",
      "source": [
        "def separar_en_intervalos(matriz):\n",
        "    intervalos = []\n",
        "\n",
        "    for valor in matriz.flatten():  # Aplanamos la matriz y recorremos los valores\n",
        "        if valor < 0.33:\n",
        "            intervalos.append(\"Intervalo 1: Menor que 0.33\")\n",
        "        elif valor < 0.66:\n",
        "            intervalos.append(\"Intervalo 2: Entre 0.33 y 0.66\")\n",
        "        else:\n",
        "            intervalos.append(\"Intervalo 3: Mayor o igual que 0.66\")\n",
        "\n",
        "    return intervalos\n",
        "\n",
        "# Matriz de 3x1\n",
        "matriz = np.random.rand(3, 1)\n",
        "print(matriz)\n",
        "separar_en_intervalos(matriz)"
      ],
      "metadata": {
        "colab": {
          "base_uri": "https://localhost:8080/"
        },
        "id": "_lKUYRPfmPdk",
        "outputId": "abfbf156-f59d-4f56-8519-c35b2716b8f3"
      },
      "execution_count": 132,
      "outputs": [
        {
          "output_type": "stream",
          "name": "stdout",
          "text": [
            "[[0.72899276]\n",
            " [0.27623883]\n",
            " [0.68530633]]\n"
          ]
        },
        {
          "output_type": "execute_result",
          "data": {
            "text/plain": [
              "['Intervalo 3: Mayor o igual que 0.66',\n",
              " 'Intervalo 1: Menor que 0.33',\n",
              " 'Intervalo 3: Mayor o igual que 0.66']"
            ]
          },
          "metadata": {},
          "execution_count": 132
        }
      ]
    }
  ]
}
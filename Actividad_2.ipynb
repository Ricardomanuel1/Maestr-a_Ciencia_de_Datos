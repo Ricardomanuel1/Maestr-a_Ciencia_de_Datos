{
  "nbformat": 4,
  "nbformat_minor": 0,
  "metadata": {
    "colab": {
      "provenance": [],
      "authorship_tag": "ABX9TyODSTBet5J2NBgamcqOT8Rl",
      "include_colab_link": true
    },
    "kernelspec": {
      "name": "python3",
      "display_name": "Python 3"
    },
    "language_info": {
      "name": "python"
    }
  },
  "cells": [
    {
      "cell_type": "markdown",
      "metadata": {
        "id": "view-in-github",
        "colab_type": "text"
      },
      "source": [
        "<a href=\"https://colab.research.google.com/github/Ricardomanuel1/Maestria_Ciencia_de_Datos/blob/main/Actividad_2.ipynb\" target=\"_parent\"><img src=\"https://colab.research.google.com/assets/colab-badge.svg\" alt=\"Open In Colab\"/></a>"
      ]
    },
    {
      "cell_type": "markdown",
      "source": [
        "Elaborar una función en python que simule los estados de una cadena de Markov teniendo como datos la matriz P y la distribución inicial p0 y con estados S={1,2,...n}"
      ],
      "metadata": {
        "id": "zQc2nEP1Run5"
      }
    },
    {
      "cell_type": "code",
      "source": [
        "import numpy as np\n",
        "import random\n",
        "import matplotlib.pyplot as plt"
      ],
      "metadata": {
        "id": "_AuTocLpSQFj"
      },
      "execution_count": 14,
      "outputs": []
    },
    {
      "cell_type": "markdown",
      "source": [
        "Creamos las matrices P y p0 con distribución uniforme, ambas de tamaño n"
      ],
      "metadata": {
        "id": "gVcbCfMjRJBn"
      }
    },
    {
      "cell_type": "code",
      "source": [
        "import numpy as np\n",
        "np.random.seed(101)\n",
        "def matriz_P(n):\n",
        "    matriz = np.random.uniform(0, 1,size=(n, n))  # Genera matriz aleatoria\n",
        "    matriz =matriz/matriz.sum(axis=1, keepdims=True)\n",
        "    return matriz\n",
        "np.random.seed(101)\n",
        "def matriz_p0(n):\n",
        "    fila = np.random.uniform(0, 1, size=(1, n))  # Genera una fila aleatoria con distribución uniforme\n",
        "    fila =fila/np.sum(fila)\n",
        "    return fila\n",
        "\n",
        "n = 3  # Tamaño de la matriz P y de la matriz p0\n",
        "\n",
        "P = matriz_P(n)\n",
        "p0= matriz_p0(n)"
      ],
      "metadata": {
        "id": "_mbU0SEGd9i5"
      },
      "execution_count": 35,
      "outputs": []
    },
    {
      "cell_type": "code",
      "source": [
        "print(P)#matriz de tamaño nxn"
      ],
      "metadata": {
        "colab": {
          "base_uri": "https://localhost:8080/"
        },
        "id": "jIAO7UJAlzi3",
        "outputId": "cd6e00b4-7fa5-40e2-a03e-66d32a02d61c"
      },
      "execution_count": 36,
      "outputs": [
        {
          "output_type": "stream",
          "name": "stdout",
          "text": [
            "[[0.46291341 0.51156154 0.02552505]\n",
            " [0.10145035 0.40532253 0.49322711]\n",
            " [0.15970164 0.46490938 0.37538898]]\n"
          ]
        }
      ]
    },
    {
      "cell_type": "code",
      "source": [
        "print(p0)"
      ],
      "metadata": {
        "colab": {
          "base_uri": "https://localhost:8080/"
        },
        "id": "wcvU8eeblo8g",
        "outputId": "f500dd61-a676-45e3-c9a9-bd4d51fea059"
      },
      "execution_count": 37,
      "outputs": [
        {
          "output_type": "stream",
          "name": "stdout",
          "text": [
            "[[0.17325478 0.50554442 0.3212008 ]]\n"
          ]
        }
      ]
    },
    {
      "cell_type": "markdown",
      "source": [
        "Efectuamos la multiplicación de las matrices p0*P, el resultado multiplicamos nuevamente por P y asi hata obtener pn"
      ],
      "metadata": {
        "id": "iZTGcqVORb4s"
      }
    },
    {
      "cell_type": "code",
      "source": [
        "p1=p0@P\n",
        "p2=p1@P\n",
        "p3=p2@P\n",
        "p4=p3@P\n",
        "#p5=p4@P"
      ],
      "metadata": {
        "id": "1nkTINnEmEtF"
      },
      "execution_count": 38,
      "outputs": []
    },
    {
      "cell_type": "markdown",
      "source": [
        "Creamos un función que sume los indices con la finalidad de obtener los intervalos, teniendo en cuenta que el último valor sera 1"
      ],
      "metadata": {
        "id": "xHtoT2ZUSoTN"
      }
    },
    {
      "cell_type": "code",
      "source": [
        "def intervalos(matrix):\n",
        "  lista=[]\n",
        "  suma=0\n",
        "  for i in range(len(matrix)):#0\n",
        "    for j in range(len(matrix[0])):#0,1,2\n",
        "      suma=suma+matrix[i][j]\n",
        "      lista.append(suma)\n",
        "  return lista"
      ],
      "metadata": {
        "id": "0SznRMeocKUo"
      },
      "execution_count": 39,
      "outputs": []
    },
    {
      "cell_type": "code",
      "source": [
        "list_matrix=[p0,p1,p2,p3,p4]"
      ],
      "metadata": {
        "id": "lPvEs_nsMOKB"
      },
      "execution_count": 40,
      "outputs": []
    },
    {
      "cell_type": "code",
      "source": [
        "for i in range(n+2):\n",
        "  print(f'Intervalos p{i}',intervalos(list_matrix[i]))"
      ],
      "metadata": {
        "id": "mJKMTxa9c6i0",
        "outputId": "baef74df-00c4-49a5-e6a5-e60470983914",
        "colab": {
          "base_uri": "https://localhost:8080/"
        }
      },
      "execution_count": 41,
      "outputs": [
        {
          "output_type": "stream",
          "name": "stdout",
          "text": [
            "Intervalos p0 [0.17325477898249295, 0.6787992009170825, 1.0]\n",
            "Intervalos p1 [0.18278591471625064, 0.6256542048282535, 0.9999999999999999]\n",
            "Intervalos p2 [0.18932683250678567, 0.6363744436091698, 0.9999999999999998]\n",
            "Intervalos p3 [0.19106666494032654, 0.6381703914696727, 0.9999999999999998]\n",
            "Intervalos p4 [0.19159093381464337, 0.6387724835520283, 0.9999999999999998]\n"
          ]
        }
      ]
    },
    {
      "cell_type": "markdown",
      "source": [
        "Creamos los números aleatorios (n+1), estos números serán ubicados en los intervalos 1,2...n y según en que intervalo se encuentre tendremos el estado"
      ],
      "metadata": {
        "id": "0uhS5jFuUWpl"
      }
    },
    {
      "cell_type": "code",
      "source": [
        "def aleatorios(n):\n",
        "    aleatorios = []\n",
        "    for k in range(n+2):\n",
        "      numero = random.random()\n",
        "      aleatorios.append(numero)\n",
        "    return aleatorios\n",
        "aleatorios(3)"
      ],
      "metadata": {
        "id": "8wo9q_IBQ8D4",
        "outputId": "ffcd0f23-6f36-4b3a-c8da-4821c5e8f667",
        "colab": {
          "base_uri": "https://localhost:8080/"
        }
      },
      "execution_count": 51,
      "outputs": [
        {
          "output_type": "execute_result",
          "data": {
            "text/plain": [
              "[0.13099120431083444,\n",
              " 0.14048918878487127,\n",
              " 0.0459052269798903,\n",
              " 0.6640139468565073,\n",
              " 0.04727469879481916]"
            ]
          },
          "metadata": {},
          "execution_count": 51
        }
      ]
    },
    {
      "cell_type": "markdown",
      "source": [
        "Con el primer número aleatorio creado ubicamos en que posicion se encuentra en la matriz p0, con el segundo número aleatorio ubicamos en la matriz p1 y asi sucesivamente hasta pn"
      ],
      "metadata": {
        "id": "7SsqgZVlVW9S"
      }
    },
    {
      "cell_type": "code",
      "source": [
        "def estado(aleatorio,intervalo):\n",
        "\n",
        "  for i in range(len(intervalo)):\n",
        "    list10=[]\n",
        "    if aleatorio<intervalo[i]:\n",
        "      list10.append(1)\n",
        "    elif aleatorio<intervalo[i+1]:\n",
        "      list10.append(2)\n",
        "    elif aleatorio<intervalo[i+2]:\n",
        "      list10.append(3)\n",
        "    elif aleatorio<intervalo[i+3]:\n",
        "      list10.append(4)\n",
        "    elif aleatorio<intervalo[i+4]:\n",
        "      list10.append(5)\n",
        "    elif aleatorio<intervalo[i+5]:\n",
        "      list10.append(6)\n",
        "    elif aleatorio<intervalo[i+6]:\n",
        "      list10.append(7)\n",
        "    elif aleatorio<intervalo[i+7]:\n",
        "      list10.append(8)\n",
        "    elif aleatorio<intervalo[i+8]:\n",
        "      list10.append(9)\n",
        "    elif aleatorio<intervalo[i+9]:\n",
        "      list10.append(10)\n",
        "    return list10"
      ],
      "metadata": {
        "id": "Q8YoEL2u588e"
      },
      "execution_count": 60,
      "outputs": []
    },
    {
      "cell_type": "markdown",
      "source": [
        "Realizamos nsim simulaciones"
      ],
      "metadata": {
        "id": "ePqudDMd57R0"
      }
    },
    {
      "cell_type": "code",
      "source": [
        "nsim=1\n",
        "lista_estado=[]\n",
        "\n",
        "for i in range (nsim):#0,1,2\n",
        "  random_num=aleatorios(n)\n",
        "  print('Números aleatorios:',random_num)\n",
        "  for i in range(n+2):\n",
        "    e=estado(random_num[i],intervalos(list_matrix[i]))\n",
        "    lista_estado.append(e)\n",
        "print('Estados:',lista_estado)"
      ],
      "metadata": {
        "colab": {
          "base_uri": "https://localhost:8080/"
        },
        "id": "5l6feYxfXYL3",
        "outputId": "1bbbc334-4063-4533-94f4-21505f28caa6"
      },
      "execution_count": 62,
      "outputs": [
        {
          "output_type": "stream",
          "name": "stdout",
          "text": [
            "Números aleatorios: [0.3754021803922146, 0.8253259790661942, 0.8367517517800563, 0.5050603686002682, 0.10657087254655428]\n",
            "Estados: [[2], [3], [3], [2], [1]]\n"
          ]
        }
      ]
    },
    {
      "cell_type": "markdown",
      "source": [
        "Realizamos la comprobación y efectivamente es conforme los estado de acuerdo a que intervalo se encuentra el numero aleatorio"
      ],
      "metadata": {
        "id": "GoettSMo-kOE"
      }
    },
    {
      "cell_type": "code",
      "source": [
        "for i in range(n+2):\n",
        "  s=intervalos(list_matrix[i])\n",
        "  print(f'p{i}:',s)"
      ],
      "metadata": {
        "colab": {
          "base_uri": "https://localhost:8080/"
        },
        "id": "wya2Dv7JYqd0",
        "outputId": "418a45d3-c2ae-4751-eb5e-8bd2f7bbcd33"
      },
      "execution_count": 57,
      "outputs": [
        {
          "output_type": "stream",
          "name": "stdout",
          "text": [
            "p0: [0.17325477898249295, 0.6787992009170825, 1.0]\n",
            "p1: [0.18278591471625064, 0.6256542048282535, 0.9999999999999999]\n",
            "p2: [0.18932683250678567, 0.6363744436091698, 0.9999999999999998]\n",
            "p3: [0.19106666494032654, 0.6381703914696727, 0.9999999999999998]\n",
            "p4: [0.19159093381464337, 0.6387724835520283, 0.9999999999999998]\n"
          ]
        }
      ]
    }
  ]
}
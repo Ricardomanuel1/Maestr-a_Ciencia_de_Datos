{
  "nbformat": 4,
  "nbformat_minor": 0,
  "metadata": {
    "colab": {
      "provenance": [],
      "include_colab_link": true
    },
    "kernelspec": {
      "name": "python3",
      "display_name": "Python 3"
    },
    "language_info": {
      "name": "python"
    }
  },
  "cells": [
    {
      "cell_type": "markdown",
      "metadata": {
        "id": "view-in-github",
        "colab_type": "text"
      },
      "source": [
        "<a href=\"https://colab.research.google.com/github/Ricardomanuel1/Maestria_Ciencia_de_Datos/blob/main/ACTIVIDAD_1_Distribuciones_de_probabilidad.ipynb\" target=\"_parent\"><img src=\"https://colab.research.google.com/assets/colab-badge.svg\" alt=\"Open In Colab\"/></a>"
      ]
    },
    {
      "cell_type": "code",
      "source": [
        "%matplotlib inline\n",
        "\n",
        "import numpy as np\n",
        "import pandas as pd\n",
        "import matplotlib.pyplot as plt\n",
        "import scipy.stats as stats"
      ],
      "metadata": {
        "id": "1xwlPHXdYuyY"
      },
      "execution_count": 1,
      "outputs": []
    },
    {
      "cell_type": "markdown",
      "source": [
        "# Ejercicio 1\n"
      ],
      "metadata": {
        "id": "nPIr-bpoU_oq"
      }
    },
    {
      "cell_type": "markdown",
      "source": [
        "Cierto curso de entrenamiento aumenta la productividad de cierta población en 80 % de los casos. Si 10\n",
        "funcionarios participan del curso. (a) Simule la distribución de probabilidad de este experimento aleatorio.\n",
        "(b) ¿Cuál es la probabilidad que por lo menos 3 funcionarios no aumenten su productividad?. (c) ¿Cuál es\n",
        "la probabilidad que no mas de 8 funcionarios aumenten su productividad?. (d) ¿Cuál es la probabilidad que\n",
        "entre 4 y 6 funcionarios aumenten su productividad?. (e) Estimar su valor esperado y compararlo con su\n",
        "valor teórico.\n"
      ],
      "metadata": {
        "id": "DOLtQXtPZYd5"
      }
    },
    {
      "cell_type": "markdown",
      "source": [
        "(a) Simule la distribución de probabilidad de este experimento aleatorio\n"
      ],
      "metadata": {
        "id": "W79igRxiVcW_"
      }
    },
    {
      "cell_type": "code",
      "source": [
        "#Número de funcionarios n es 10\n",
        "#La probalidad de exito p es 0.8\n",
        "\n",
        "# Nos piden simular X=Binomial(10,0.8)\n",
        "data = stats.binom.rvs(size=100000, n=10, p=0.8) # Generate 10000 numbers\n",
        "\n",
        "pd.DataFrame(data).hist(range=(-0.5,10.5), bins=11,figsize=(20,2))\n",
        "plt.title('Binomial(10,0.8)')\n",
        "plt.show()"
      ],
      "metadata": {
        "colab": {
          "base_uri": "https://localhost:8080/",
          "height": 174
        },
        "id": "t3XXy_eaV4zd",
        "outputId": "fc4dfda2-99d7-4e83-ff10-28057c48696e"
      },
      "execution_count": null,
      "outputs": [
        {
          "output_type": "display_data",
          "data": {
            "text/plain": [
              "<Figure size 2000x200 with 1 Axes>"
            ],
            "image/png": "[encoded data removed]"
          },
          "metadata": {}
        }
      ]
    },
    {
      "cell_type": "markdown",
      "source": [
        "(b) ¿Cuál es la probabilidad que por lo menos 3 funcionarios no aumenten su productividad?."
      ],
      "metadata": {
        "id": "6omb9YuwYSSx"
      }
    },
    {
      "cell_type": "code",
      "source": [
        "# Nos piden P(X>=3)\n",
        "# P(X>=3) = 1 - P(X<3)\n",
        "# P(X>=3) = 1 - P(X<=2)\n",
        "1- stats.binom.cdf(k=2,n=10,p=0.08)"
      ],
      "metadata": {
        "id": "Od-k9UOAZ1c3",
        "outputId": "43191109-f6a8-4e5b-dda9-97f3090465d8",
        "colab": {
          "base_uri": "https://localhost:8080/"
        }
      },
      "execution_count": 2,
      "outputs": [
        {
          "output_type": "execute_result",
          "data": {
            "text/plain": [
              "0.04007541968350481"
            ]
          },
          "metadata": {},
          "execution_count": 2
        }
      ]
    },
    {
      "cell_type": "markdown",
      "source": [
        "(c) ¿Cuál es la probabilidad que no mas de 8 funcionarios aumenten su productividad?."
      ],
      "metadata": {
        "id": "rd4e46VPYfnp"
      }
    },
    {
      "cell_type": "markdown",
      "source": [
        "(d) ¿Cuál es la probabilidad que entre 4 y 6 funcionarios aumenten su productividad?."
      ],
      "metadata": {
        "id": "MmoV9wMHaQvb"
      }
    },
    {
      "cell_type": "markdown",
      "source": [
        "(e) Estimar su valor esperado y compararlo con su valor teórico."
      ],
      "metadata": {
        "id": "MCA6svGPaZ-8"
      }
    },
    {
      "cell_type": "markdown",
      "source": [],
      "metadata": {
        "id": "FcGSto-4aU6E"
      }
    },
    {
      "cell_type": "markdown",
      "source": [
        "# Ejercicio 2"
      ],
      "metadata": {
        "id": "uIGEGc3pZIWp"
      }
    },
    {
      "cell_type": "markdown",
      "source": [
        "Un inspector de calidad extrae una muestra aleatoria de 10 tubos almacenados en un yacimiento donde,\n",
        "según los estandares de producción, se espera un total del 20 % de tubos defectuosos."
      ],
      "metadata": {
        "id": "r_UOPj1qaebU"
      }
    },
    {
      "cell_type": "markdown",
      "source": [
        "(a) ¿Cuál es la\n",
        "probabilidad de que ningun tubo sea defectuoso?\n"
      ],
      "metadata": {
        "id": "I_FHq9AiZQNj"
      }
    },
    {
      "cell_type": "code",
      "source": [],
      "metadata": {
        "colab": {
          "base_uri": "https://localhost:8080/"
        },
        "id": "RcTkOoiVcUjH",
        "outputId": "3665118b-c678-4006-8a7b-f2c71419975d"
      },
      "execution_count": null,
      "outputs": [
        {
          "output_type": "execute_result",
          "data": {
            "text/plain": [
              "0.01150355737929687"
            ]
          },
          "metadata": {},
          "execution_count": 7
        }
      ]
    },
    {
      "cell_type": "markdown",
      "source": [
        "(b) ¿Cuál es la probabilidad de que no más de 2 tubos\n",
        "extraídos estén defectuosos?"
      ],
      "metadata": {
        "id": "K0W3RdunZSGH"
      }
    },
    {
      "cell_type": "code",
      "source": [],
      "metadata": {
        "colab": {
          "base_uri": "https://localhost:8080/"
        },
        "id": "4YA3CM73dPwB",
        "outputId": "17939003-920f-4061-b90d-57940a606fb9"
      },
      "execution_count": null,
      "outputs": [
        {
          "output_type": "execute_result",
          "data": {
            "text/plain": [
              "0.011439867547851534"
            ]
          },
          "metadata": {},
          "execution_count": 8
        }
      ]
    },
    {
      "cell_type": "markdown",
      "source": [
        " (c) Cuando se encuentran cuatro o más tubos defectuosos, el proceso de producción se detiene para su revisión. ¿Cuál es la probabilidad de que esto suceda?"
      ],
      "metadata": {
        "id": "lcdlC-TMM5Le"
      }
    },
    {
      "cell_type": "code",
      "source": [],
      "metadata": {
        "id": "oSsC54UnL0-8"
      },
      "execution_count": null,
      "outputs": []
    },
    {
      "cell_type": "markdown",
      "source": [],
      "metadata": {
        "id": "xQU-B0K8NI06"
      }
    },
    {
      "cell_type": "markdown",
      "source": [
        "# Ejercicio 3"
      ],
      "metadata": {
        "id": "0rvC--77d5br"
      }
    },
    {
      "cell_type": "markdown",
      "source": [
        "Un técnico realiza un test a unos estudiantes. Suponiendo que las puntuaciones X obtenidas por los\n",
        "estudiantes siguen una distribución normal de media de 60 puntos y desviación típica de 10 puntos"
      ],
      "metadata": {
        "id": "CRGWPWied3Wt"
      }
    },
    {
      "cell_type": "markdown",
      "source": [
        "(a) P(X ≥ 70) (b) P(X ≤ 80)"
      ],
      "metadata": {
        "id": "4ABWgiLZeF3z"
      }
    },
    {
      "cell_type": "markdown",
      "source": [
        " (c) P(| X − 60 |≤ 20)"
      ],
      "metadata": {
        "id": "86qm0AkeNgZI"
      }
    },
    {
      "cell_type": "markdown",
      "source": [
        "(d) P(| X − 30 |≥ 20)\n"
      ],
      "metadata": {
        "id": "FeK1nNVUNmFb"
      }
    },
    {
      "cell_type": "markdown",
      "source": [
        "# Ejercicio 4"
      ],
      "metadata": {
        "id": "72ro6LRltgO1"
      }
    },
    {
      "cell_type": "markdown",
      "source": [
        "Un banco recibe un promedio de 6 cheques falsos al día, suponiendo que el número de cheques falsos sigue\n",
        "una distribución de Poisson"
      ],
      "metadata": {
        "id": "d7E4auFmtiN1"
      }
    },
    {
      "cell_type": "markdown",
      "source": [
        "(a)  Simular la distribuci´on de probabilidad"
      ],
      "metadata": {
        "id": "Iclt5AuCtnZc"
      }
    },
    {
      "cell_type": "markdown",
      "source": [
        "(b) ¿Cuál es la probabilidad de\n",
        "que se reciban cuatro cheques falsos en un día?"
      ],
      "metadata": {
        "id": "Vjy7dhkTtzbm"
      }
    },
    {
      "cell_type": "markdown",
      "source": [
        " (c) ¿Cuál es la probabilidad de que se reciban más de 30\n",
        "cheques falsos en una semana?"
      ],
      "metadata": {
        "id": "9NkMRLU5ONEE"
      }
    },
    {
      "cell_type": "markdown",
      "source": [
        "# Ejercicio 5"
      ],
      "metadata": {
        "id": "Ai6RoJat2cJ3"
      }
    },
    {
      "cell_type": "markdown",
      "source": [
        "En una población de mujeres, las puntuaciones de un test de ansiedad-riesgo siguen una distribución normal\n",
        "N(25, 10).\n"
      ],
      "metadata": {
        "id": "kn647fx72fZL"
      }
    },
    {
      "cell_type": "markdown",
      "source": [
        "(a) Simular la distribuci´on de probabilidad asociada a este experimento aleatorio.\n"
      ],
      "metadata": {
        "id": "yYu34GIT2pjs"
      }
    },
    {
      "cell_type": "markdown",
      "source": [
        "(b)  Al clasificar la población en cuatro grupos de igual tamaño, ¿cuales serán las puntuaciones que delimiten estos grupos?\n"
      ],
      "metadata": {
        "id": "QvgohAbf2rLj"
      }
    },
    {
      "cell_type": "markdown",
      "source": [
        "# Ejercicio 6\n"
      ],
      "metadata": {
        "id": "OrY_jf774tnq"
      }
    },
    {
      "cell_type": "markdown",
      "source": [
        "La concentración de un contaminante se distribuye uniformemente en el intervalo de 0 a 20 millones. Una\n",
        "concentración se considera tóxica a partir de 8 millones."
      ],
      "metadata": {
        "id": "E_myqcin4zEy"
      }
    },
    {
      "cell_type": "markdown",
      "source": [
        "(a)  Simular la distribuci´on de probabilidad asociada.\n"
      ],
      "metadata": {
        "id": "BcZwlZmnp071"
      }
    },
    {
      "cell_type": "code",
      "source": [],
      "metadata": {
        "id": "xH-y5-THPuKi"
      },
      "execution_count": null,
      "outputs": []
    },
    {
      "cell_type": "markdown",
      "source": [
        "(b) ¿Cuál es la probabilidad de que al tomar una muestra la concentración resulte tóxica?"
      ],
      "metadata": {
        "id": "XpQM6_HHp4AZ"
      }
    },
    {
      "cell_type": "markdown",
      "source": [
        "(c) Estimar la concentración media y varianza y compararla con los valores teóricos"
      ],
      "metadata": {
        "id": "fOQb2xBXPhJB"
      }
    },
    {
      "cell_type": "markdown",
      "source": [
        "# Ejercicio 7"
      ],
      "metadata": {
        "id": "rHt4rN8lPtJZ"
      }
    },
    {
      "cell_type": "markdown",
      "source": [
        "El tiempo de vida media de un marcapasos sigue una distribución exponencial con media 16 anos"
      ],
      "metadata": {
        "id": "jNC4RLijPvQa"
      }
    },
    {
      "cell_type": "markdown",
      "source": [
        " (a) Simular la distribución de probabilidad asociada a este experimento aleatorio."
      ],
      "metadata": {
        "id": "CiZ9GJqXP3QZ"
      }
    },
    {
      "cell_type": "markdown",
      "source": [
        " (b) ¿Cuál es la probabilidad de que a una persona a la que se ha implantado un marcapasos se le deba de implantar otro antes de 20 años?"
      ],
      "metadata": {
        "id": "S378K8dgP81W"
      }
    },
    {
      "cell_type": "markdown",
      "source": [
        "(c) ¿Cuál es la probabilidad de que a una persona a la que se ha implantado un marcapasos haya que cambiarlo entre 10 y 25 años?"
      ],
      "metadata": {
        "id": "ifiK_GvcQH4V"
      }
    },
    {
      "cell_type": "markdown",
      "source": [
        "(d) Si el marcapasos lleva funcionando correctamente 5\n",
        "años en un paciente, ¿cuál es la probabilidad de que haya de cambiarlo antes de 25 años?"
      ],
      "metadata": {
        "id": "yFyGDMI6QS_r"
      }
    },
    {
      "cell_type": "markdown",
      "source": [
        "# Ejercicio 8"
      ],
      "metadata": {
        "id": "wv2Zg1_aQmNz"
      }
    },
    {
      "cell_type": "markdown",
      "source": [
        "Supongamos que el número de imperfecciones en un alambre delgado de cobre sigue una distribución Poisson\n",
        "con una media de 2.3 imperfecciones por milímetro"
      ],
      "metadata": {
        "id": "CPZB83AdQ3B0"
      }
    },
    {
      "cell_type": "markdown",
      "source": [
        "(a) Determine la probabilidad de 2 imperfecciones en\n",
        "un milímetro de alambre."
      ],
      "metadata": {
        "id": "M2xQFd50Q9ep"
      }
    },
    {
      "cell_type": "markdown",
      "source": [
        " (b) Determine la probabilidad de 10 imperfecciones en 5 milímetros de alambre.\n"
      ],
      "metadata": {
        "id": "jlbz97OyRCVT"
      }
    },
    {
      "cell_type": "markdown",
      "source": [
        "(c) Determine la probabilidad de al menos una imperfección en 2mm de alambre."
      ],
      "metadata": {
        "id": "jA3z1nNZRI78"
      }
    },
    {
      "cell_type": "code",
      "source": [],
      "metadata": {
        "id": "wPEoPgDGQpt0"
      },
      "execution_count": null,
      "outputs": []
    }
  ]
}
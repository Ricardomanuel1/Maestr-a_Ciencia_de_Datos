{
  "nbformat": 4,
  "nbformat_minor": 0,
  "metadata": {
    "colab": {
      "provenance": [],
      "include_colab_link": true
    },
    "kernelspec": {
      "name": "python3",
      "display_name": "Python 3"
    },
    "language_info": {
      "name": "python"
    }
  },
  "cells": [
    {
      "cell_type": "markdown",
      "metadata": {
        "id": "view-in-github",
        "colab_type": "text"
      },
      "source": [
        "<a href=\"https://colab.research.google.com/github/Ricardomanuel1/Maestria_Ciencia_de_Datos/blob/main/ACTIVIDAD_1_Distribuciones_de_probabilidad.ipynb\" target=\"_parent\"><img src=\"https://colab.research.google.com/assets/colab-badge.svg\" alt=\"Open In Colab\"/></a>"
      ]
    },
    {
      "cell_type": "code",
      "source": [
        "%matplotlib inline\n",
        "\n",
        "import numpy as np\n",
        "import pandas as pd\n",
        "import matplotlib.pyplot as plt\n",
        "import scipy.stats as stats"
      ],
      "metadata": {
        "id": "1xwlPHXdYuyY"
      },
      "execution_count": null,
      "outputs": []
    },
    {
      "cell_type": "markdown",
      "source": [
        "# Ejercicio 1\n"
      ],
      "metadata": {
        "id": "nPIr-bpoU_oq"
      }
    },
    {
      "cell_type": "markdown",
      "source": [
        "Cierto curso de entrenamiento aumenta la productividad de cierta población en 80 % de los casos. Si 10\n",
        "funcionarios participan del curso. (a) Simule la distribución de probabilidad de este experimento aleatorio.\n",
        "(b) ¿Cuál es la probabilidad que por lo menos 3 funcionarios no aumenten su productividad?. (c) ¿Cuál es\n",
        "la probabilidad que no mas de 8 funcionarios aumenten su productividad?. (d) ¿Cuál es la probabilidad que\n",
        "entre 4 y 6 funcionarios aumenten su productividad?. (e) Estimar su valor esperado y compararlo con su\n",
        "valor teórico.\n"
      ],
      "metadata": {
        "id": "DOLtQXtPZYd5"
      }
    },
    {
      "cell_type": "markdown",
      "source": [
        "(a) Simule la distribución de probabilidad de este experimento aleatorio\n"
      ],
      "metadata": {
        "id": "W79igRxiVcW_"
      }
    },
    {
      "cell_type": "code",
      "source": [
        "#Número de funcionarios n es 10\n",
        "#La probalidad de exito p es 0.8\n",
        "\n",
        "# Nos piden simular X=Binomial(10,0.8)\n",
        "data = stats.binom.rvs(size=100000, n=10, p=0.8) # Generate 10000 numbers\n",
        "\n",
        "pd.DataFrame(data).hist(range=(-0.5,10.5), bins=11,figsize=(20,2))\n",
        "plt.title('Binomial(10,0.8)')\n",
        "plt.show()"
      ],
      "metadata": {
        "colab": {
          "base_uri": "https://localhost:8080/",
          "height": 174
        },
        "id": "t3XXy_eaV4zd",
        "outputId": "fc4dfda2-99d7-4e83-ff10-28057c48696e"
      },
      "execution_count": null,
      "outputs": [
        {
          "output_type": "display_data",
          "data": {
            "text/plain": [
              "<Figure size 2000x200 with 1 Axes>"
            ],
            "image/png": "[encoded data removed]"
          },
          "metadata": {}
        }
      ]
    },
    {
      "cell_type": "code",
      "source": [
        "data"
      ],
      "metadata": {
        "id": "Zf_or9PaVmdZ",
        "outputId": "537c6f6d-1c4b-4577-8f16-91f42d1d077e",
        "colab": {
          "base_uri": "https://localhost:8080/"
        }
      },
      "execution_count": null,
      "outputs": [
        {
          "output_type": "execute_result",
          "data": {
            "text/plain": [
              "array([1, 2, 4, ..., 2, 3, 2])"
            ]
          },
          "metadata": {},
          "execution_count": 5
        }
      ]
    },
    {
      "cell_type": "code",
      "source": [
        "len(data)"
      ],
      "metadata": {
        "id": "1aWMRhMuVtue",
        "outputId": "eaff9997-3133-40e6-cc4b-05c7452b9797",
        "colab": {
          "base_uri": "https://localhost:8080/"
        }
      },
      "execution_count": null,
      "outputs": [
        {
          "output_type": "execute_result",
          "data": {
            "text/plain": [
              "100000"
            ]
          },
          "metadata": {},
          "execution_count": 6
        }
      ]
    },
    {
      "cell_type": "markdown",
      "source": [
        "(b) Simule 10000 veces este experimento aleatorio y elaboré el gráfico de la función de distribución de probabilidad cuando $p=0.5$."
      ],
      "metadata": {
        "id": "6omb9YuwYSSx"
      }
    },
    {
      "cell_type": "code",
      "source": [
        "# Nos piden simular X=Binomial(10,0.5)\n",
        "\n",
        "data = stats.binom.rvs(size=100000, n=10, p=0.5) # Generate 10000 numbers\n",
        "pd.DataFrame(data).hist(range=(-0.5,10.5), bins=11,figsize=(20,2))\n",
        "plt.title('Binomial(10,0.5)')\n",
        "plt.show()"
      ],
      "metadata": {
        "colab": {
          "base_uri": "https://localhost:8080/",
          "height": 237
        },
        "id": "ThULN966WYdQ",
        "outputId": "fc473dc9-3d15-47c2-afff-5cd5c7178697"
      },
      "execution_count": null,
      "outputs": [
        {
          "output_type": "display_data",
          "data": {
            "text/plain": [
              "<Figure size 2000x200 with 1 Axes>"
            ],
            "image/png": "[encoded data removed]"
          },
          "metadata": {}
        }
      ]
    },
    {
      "cell_type": "markdown",
      "source": [
        "(c) Simule 10000 veces este experimento aleatorio y elaboré el gráfico de la función de distribución de probabilidad cuando $p=0.75$."
      ],
      "metadata": {
        "id": "rd4e46VPYfnp"
      }
    },
    {
      "cell_type": "code",
      "execution_count": null,
      "metadata": {
        "colab": {
          "base_uri": "https://localhost:8080/",
          "height": 237
        },
        "id": "Ty0Ii8QQUzzG",
        "outputId": "bf2b3571-6e93-4fb3-aef6-f0aed5ff738d"
      },
      "outputs": [
        {
          "output_type": "display_data",
          "data": {
            "text/plain": [
              "<Figure size 2000x200 with 1 Axes>"
            ],
            "image/png": "[encoded data removed]"
          },
          "metadata": {}
        }
      ],
      "source": [
        "# Nos piden simular X=Binomial(10,0.75)\n",
        "\n",
        "data = stats.binom.rvs(size=100000, n=10, p=0.75) # Generate 10000 numbers\n",
        "pd.DataFrame(data).hist(range=(-0.5,10.5), bins=11,figsize=(20,2))\n",
        "plt.title('Binomial(10,0.75)')\n",
        "plt.show()"
      ]
    },
    {
      "cell_type": "markdown",
      "source": [
        "# Ejemplo 2"
      ],
      "metadata": {
        "id": "uIGEGc3pZIWp"
      }
    },
    {
      "cell_type": "markdown",
      "source": [
        "En una fábrica de electrónica, el 5% de los productos fabricados están defectuosos. Si se toma una muestra de 10 productos."
      ],
      "metadata": {
        "id": "r_UOPj1qaebU"
      }
    },
    {
      "cell_type": "markdown",
      "source": [
        "(a) ¿Cuál es la probabilidad de que haya al menos  3 productos defectuosos?\n"
      ],
      "metadata": {
        "id": "I_FHq9AiZQNj"
      }
    },
    {
      "cell_type": "code",
      "source": [
        "# Nos piden P(X>=3) sabiendo que X=Binomial(10,0.05)\n",
        "#\n",
        "# P(X>=3) = 1 - P(X<3)\n",
        "# P(X>=3) = 1 - P(X<=2)\n",
        "#         = 1 - cdf(2)\n",
        "1- stats.binom.cdf(k=2,n=10,p=0.05)"
      ],
      "metadata": {
        "colab": {
          "base_uri": "https://localhost:8080/"
        },
        "id": "RcTkOoiVcUjH",
        "outputId": "3665118b-c678-4006-8a7b-f2c71419975d"
      },
      "execution_count": null,
      "outputs": [
        {
          "output_type": "execute_result",
          "data": {
            "text/plain": [
              "0.01150355737929687"
            ]
          },
          "metadata": {},
          "execution_count": 7
        }
      ]
    },
    {
      "cell_type": "markdown",
      "source": [
        "(b) ¿Cuál es la probabilidad de que haya entre 2 y 4 productos defectuosos?"
      ],
      "metadata": {
        "id": "K0W3RdunZSGH"
      }
    },
    {
      "cell_type": "code",
      "source": [
        "# Nos piden P(2<=X<=4) sabiendo que X=Binomial(10,0.05)\n",
        "#\n",
        "# P(2<=X<=4) = P(X<=4) - P(X<=2)\n",
        "#            = cdf(4)  - cdf(2)\n",
        "stats.binom.cdf(k=4,n=10,p=0.05)-stats.binom.cdf(k=2,n=10,p=0.05)"
      ],
      "metadata": {
        "colab": {
          "base_uri": "https://localhost:8080/"
        },
        "id": "4YA3CM73dPwB",
        "outputId": "17939003-920f-4061-b90d-57940a606fb9"
      },
      "execution_count": null,
      "outputs": [
        {
          "output_type": "execute_result",
          "data": {
            "text/plain": [
              "0.011439867547851534"
            ]
          },
          "metadata": {},
          "execution_count": 8
        }
      ]
    },
    {
      "cell_type": "markdown",
      "source": [
        "# Ejemplo 3"
      ],
      "metadata": {
        "id": "0rvC--77d5br"
      }
    },
    {
      "cell_type": "markdown",
      "source": [
        "Una compañía aérea observa que el número de componentes que fallan antes de cumplir 100 horas de funcionamiento es una variable aleatoria de Poisson. Si el número promedio de fallos es ocho. Responder:"
      ],
      "metadata": {
        "id": "CRGWPWied3Wt"
      }
    },
    {
      "cell_type": "markdown",
      "source": [
        "(a) ¿Cuál es la probabilidad de que falle un componente en 25 horas?"
      ],
      "metadata": {
        "id": "4ABWgiLZeF3z"
      }
    },
    {
      "cell_type": "code",
      "source": [
        "# Aqui mu = 8*25/100 = 2, entonces X=Poisson(2)\n",
        "#\n",
        "# Nos piden P(X=1)\n",
        "stats.poisson.pmf(k=1,mu=2)"
      ],
      "metadata": {
        "colab": {
          "base_uri": "https://localhost:8080/"
        },
        "id": "ePXBt3BweJ2P",
        "outputId": "7c8710b9-6e79-4b33-95f9-214a4ae68012"
      },
      "execution_count": null,
      "outputs": [
        {
          "output_type": "execute_result",
          "data": {
            "text/plain": [
              "0.2706705664732254"
            ]
          },
          "metadata": {},
          "execution_count": 9
        }
      ]
    },
    {
      "cell_type": "markdown",
      "source": [
        "(b)¿Cuál es la probabilidad de que fallen menos de dos componente en 50 horas?\n"
      ],
      "metadata": {
        "id": "kJNS5F7GeH_N"
      }
    },
    {
      "cell_type": "code",
      "source": [
        "# Aqui mu= 8*50/100 = 4, entonces X=Poisson(4)\n",
        "#\n",
        "# Nos piden\n",
        "#\n",
        "# P(X<2) = P(X<=1)\n",
        "#        = cdf(1)\n",
        "stats.poisson.cdf(k=1,mu=4)"
      ],
      "metadata": {
        "colab": {
          "base_uri": "https://localhost:8080/"
        },
        "id": "l8mtbC9Wptro",
        "outputId": "95883de8-0f74-4407-91b9-8e889af4809d"
      },
      "execution_count": null,
      "outputs": [
        {
          "output_type": "execute_result",
          "data": {
            "text/plain": [
              "0.0915781944436709"
            ]
          },
          "metadata": {},
          "execution_count": 10
        }
      ]
    },
    {
      "cell_type": "markdown",
      "source": [
        "(c) ¿Cuál es la probabilidad de que fallen por  lo menos tres componentes en 125 horas?"
      ],
      "metadata": {
        "id": "INLoEGuOeKej"
      }
    },
    {
      "cell_type": "code",
      "source": [
        "# Aqui mu = 8*125/100 = 10, entonces X=Poisson(10)\n",
        "#\n",
        "# Nos piden\n",
        "#\n",
        "# P(X>=3) = 1-P(X<=2)\n",
        "#         = 1-cdf(2)\n",
        "\n",
        "1-stats.poisson.cdf(k=2,mu=10)"
      ],
      "metadata": {
        "colab": {
          "base_uri": "https://localhost:8080/"
        },
        "id": "b1CE7-K-q_HF",
        "outputId": "60d3cdf7-64c6-4600-b824-b5d8a8f215ae"
      },
      "execution_count": null,
      "outputs": [
        {
          "output_type": "execute_result",
          "data": {
            "text/plain": [
              "0.9972306042844884"
            ]
          },
          "metadata": {},
          "execution_count": 11
        }
      ]
    },
    {
      "cell_type": "markdown",
      "source": [
        "# Ejemplo 4"
      ],
      "metadata": {
        "id": "72ro6LRltgO1"
      }
    },
    {
      "cell_type": "markdown",
      "source": [
        "El tiempo empleado, en horas, en hacer un determinado producto sigue una distribución $\\mathcal{N}(10,2)$. Se pide la probabilidad de que ese producto se tarde en hacer:"
      ],
      "metadata": {
        "id": "d7E4auFmtiN1"
      }
    },
    {
      "cell_type": "markdown",
      "source": [
        "(a) Menos de 7 horas"
      ],
      "metadata": {
        "id": "Iclt5AuCtnZc"
      }
    },
    {
      "cell_type": "code",
      "source": [
        "# X=Normal(10,2)\n",
        "# Nos piden P(X<7)\n",
        "stats.norm.cdf(x=7, loc=10, scale=2)"
      ],
      "metadata": {
        "colab": {
          "base_uri": "https://localhost:8080/"
        },
        "id": "-bnLxaS-vHRU",
        "outputId": "674d174a-a434-4e4f-b2d8-c697074977d9"
      },
      "execution_count": null,
      "outputs": [
        {
          "output_type": "execute_result",
          "data": {
            "text/plain": [
              "0.06680720126885807"
            ]
          },
          "metadata": {},
          "execution_count": 12
        }
      ]
    },
    {
      "cell_type": "code",
      "source": [
        "# Estandarizando: Z=(X-mu)/sigma entonces Z=Normal(0,1)\n",
        "# Nos piden P(X<7)\n",
        "# P(Z< (7-10)/2) = P(Z<-1.5)\n",
        "stats.norm.cdf(x=-1.5, loc=0, scale=1)"
      ],
      "metadata": {
        "colab": {
          "base_uri": "https://localhost:8080/"
        },
        "id": "_2nZAv8svgN0",
        "outputId": "5c2c2479-0396-4c04-8ce9-d85e5b62fa84"
      },
      "execution_count": null,
      "outputs": [
        {
          "output_type": "execute_result",
          "data": {
            "text/plain": [
              "0.06680720126885807"
            ]
          },
          "metadata": {},
          "execution_count": 13
        }
      ]
    },
    {
      "cell_type": "markdown",
      "source": [
        "(b) Entre 8 y 13 horas."
      ],
      "metadata": {
        "id": "Vjy7dhkTtzbm"
      }
    },
    {
      "cell_type": "code",
      "source": [
        "# Nos piden P(8<X<13)\n",
        "# P(8<=X<=13) = P(X<=13) - P(X<=8)\n",
        "#             =  cdf(13) - cdf(8)\n",
        "print('  P(8<=X<=13) =', stats.norm.cdf(13, loc=10, scale=2) - stats.norm.cdf(8, loc=10, scale=2)),print('')\n",
        "\n",
        "print('P(-1<=Z<=1.5) =', stats.norm.cdf(1.5, loc=0, scale=1) - stats.norm.cdf(-1, loc=0, scale=1))\n",
        "\n"
      ],
      "metadata": {
        "colab": {
          "base_uri": "https://localhost:8080/"
        },
        "id": "ukoMmEflwmGs",
        "outputId": "38725891-4109-4ce9-8f5d-ee09a2087df8"
      },
      "execution_count": null,
      "outputs": [
        {
          "output_type": "stream",
          "name": "stdout",
          "text": [
            "  P(8<=X<=13) = 0.7745375447996848\n",
            "\n",
            "P(-1<=Z<=1.5) = 0.7745375447996848\n"
          ]
        }
      ]
    },
    {
      "cell_type": "markdown",
      "source": [
        "# Ejemplo 5"
      ],
      "metadata": {
        "id": "Ai6RoJat2cJ3"
      }
    },
    {
      "cell_type": "markdown",
      "source": [
        "El tiempo de revisión del motor de un avión sigue aproximadamente una\n",
        "distribución exponencial, con media 22 minutos.\n"
      ],
      "metadata": {
        "id": "kn647fx72fZL"
      }
    },
    {
      "cell_type": "markdown",
      "source": [
        "(a) Hallar la probabilidad de que el tiempo de la revisión sea menor de 10 minutos\n"
      ],
      "metadata": {
        "id": "yYu34GIT2pjs"
      }
    },
    {
      "cell_type": "code",
      "source": [
        "# Primero debemos calcular Lambda\n",
        "# E(X)=1\\Lambda = 'scale'\n",
        "# Lambda=1/22\n",
        "# Entonces X=Exponencial(1/22)\n",
        "# Nos piden\n",
        "# P(X<10) = cdf(10)\n",
        "\n",
        "stats.expon.cdf(x=10, scale=22)"
      ],
      "metadata": {
        "colab": {
          "base_uri": "https://localhost:8080/"
        },
        "id": "Rwzi5wN5aDfE",
        "outputId": "db2f504c-7da8-4ae0-b56b-fa850a690823"
      },
      "execution_count": null,
      "outputs": [
        {
          "output_type": "execute_result",
          "data": {
            "text/plain": [
              "0.3652635810597182"
            ]
          },
          "metadata": {},
          "execution_count": 15
        }
      ]
    },
    {
      "cell_type": "markdown",
      "source": [
        "(b) El costo de la revisión es de 200 euros por cada media hora o fracción. ¿Cuál es la\n",
        "probabilidad de que una revisión cueste 400 euros?\n"
      ],
      "metadata": {
        "id": "QvgohAbf2rLj"
      }
    },
    {
      "cell_type": "code",
      "source": [
        "# Como el costo de la revisión del motor es de 200 soles por cada media hora o\n",
        "# fracción, para que la revisión cueste 400 soles la duración de la revisión debe de ser\n",
        "# inferior o igual a 60 minutos\n",
        "\n",
        "# Nos piden P(30<X<=60)\n",
        "# P(30<X<=60) = P(X<=60) - P(X<=30)\n",
        "# P(30<X<=60) =  cdf(60) - cdf(30)\n",
        "stats.expon.cdf(x=60, scale=22) - stats.expon.cdf(x=30, scale=22)"
      ],
      "metadata": {
        "colab": {
          "base_uri": "https://localhost:8080/"
        },
        "id": "Xrk3kQ_n2e-s",
        "outputId": "c5957398-05a4-4e01-c636-aa6982213d14"
      },
      "execution_count": null,
      "outputs": [
        {
          "output_type": "execute_result",
          "data": {
            "text/plain": [
              "0.19033175668324043"
            ]
          },
          "metadata": {},
          "execution_count": 16
        }
      ]
    },
    {
      "cell_type": "markdown",
      "source": [
        "(c) Para efectuar una programación sobre las revisiones del motor, ¿cuánto tiempo se debe asignar a cada revisión para que la probabilidad de que cualquier tiempo de revisión mayor que el tiempo asignado sea solo de 0,1?"
      ],
      "metadata": {
        "id": "N2MxFzgvdtUL"
      }
    },
    {
      "cell_type": "code",
      "source": [
        "# Nos dicen que P(X>t)=0.1\n",
        "# Entonces P(X<=t)=0.9\n",
        "# Debemos hallar t\n",
        "stats.expon.ppf(0.9, scale=22)"
      ],
      "metadata": {
        "colab": {
          "base_uri": "https://localhost:8080/"
        },
        "id": "Uul2QP1WdxF1",
        "outputId": "8e12f385-b78c-49c9-f2df-fb0376288f60"
      },
      "execution_count": null,
      "outputs": [
        {
          "output_type": "execute_result",
          "data": {
            "text/plain": [
              "50.65687204586901"
            ]
          },
          "metadata": {},
          "execution_count": 17
        }
      ]
    },
    {
      "cell_type": "markdown",
      "source": [
        "# Ejemplo 6\n"
      ],
      "metadata": {
        "id": "OrY_jf774tnq"
      }
    },
    {
      "cell_type": "markdown",
      "source": [
        "Una empresa produce un artículo que sigue una distribución uniforme entre 2500 y 3000 unidades. Sabiendo que vende cada unidad a 10 soles y la función de costos viene dada por $C=10000+2X$.  "
      ],
      "metadata": {
        "id": "E_myqcin4zEy"
      }
    },
    {
      "cell_type": "markdown",
      "source": [
        "(a) Simule la distribución de probabilidad de la ganancia."
      ],
      "metadata": {
        "id": "BcZwlZmnp071"
      }
    },
    {
      "cell_type": "code",
      "source": [
        "# Costo = 10000+2X\n",
        "# Ventas = 10X\n",
        "# Ganancia = Ventas - Costo = 8x-10000\n",
        "data = stats.uniform.rvs(size=10000, loc=2500, scale=500) # Generate 10000 numbers\n",
        "data_X=pd.DataFrame(data)\n",
        "ganancia=8*data-10000\n",
        "data_ganancia=pd.DataFrame(ganancia)\n",
        "data_ganancia.columns=['Ganancia']\n",
        "data_ganancia.plot(kind='density') # Distribución de probabilidad\n",
        "plt.show()"
      ],
      "metadata": {
        "colab": {
          "base_uri": "https://localhost:8080/",
          "height": 430
        },
        "id": "e-f1xU9-ieC6",
        "outputId": "e4519ff0-152a-4f88-cfc0-e6f65b8d362c"
      },
      "execution_count": null,
      "outputs": [
        {
          "output_type": "display_data",
          "data": {
            "text/plain": [
              "<Figure size 640x480 with 1 Axes>"
            ],
            "image/png": "[encoded data removed]"
          },
          "metadata": {}
        }
      ]
    },
    {
      "cell_type": "markdown",
      "source": [
        "(b) Calcular el valor esperado simulado y compararlo con el valor esperado teórico."
      ],
      "metadata": {
        "id": "XpQM6_HHp4AZ"
      }
    },
    {
      "cell_type": "code",
      "source": [
        "print('Valor Teórico  = ', 8*(2500 + 3000)/2 - 10000), print('')\n",
        "print('Valor Simulado = ', data_ganancia['Ganancia'].mean())\n"
      ],
      "metadata": {
        "colab": {
          "base_uri": "https://localhost:8080/"
        },
        "id": "3AIVrRTIjj2d",
        "outputId": "3cf8ea0f-358d-4a6f-ea2a-e84e6a4694f6"
      },
      "execution_count": null,
      "outputs": [
        {
          "output_type": "stream",
          "name": "stdout",
          "text": [
            "Valor Teórico  =  12000.0\n",
            "\n",
            "Valor Simulado =  12005.675513667313\n"
          ]
        }
      ]
    }
  ]
}
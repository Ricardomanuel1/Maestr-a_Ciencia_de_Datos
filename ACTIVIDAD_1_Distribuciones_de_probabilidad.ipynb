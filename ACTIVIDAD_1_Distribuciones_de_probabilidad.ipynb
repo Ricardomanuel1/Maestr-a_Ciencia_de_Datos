{
  "nbformat": 4,
  "nbformat_minor": 0,
  "metadata": {
    "colab": {
      "provenance": [],
      "include_colab_link": true
    },
    "kernelspec": {
      "name": "python3",
      "display_name": "Python 3"
    },
    "language_info": {
      "name": "python"
    }
  },
  "cells": [
    {
      "cell_type": "markdown",
      "metadata": {
        "id": "view-in-github",
        "colab_type": "text"
      },
      "source": [
        "<a href=\"https://colab.research.google.com/github/Ricardomanuel1/Maestria_Ciencia_de_Datos/blob/main/ACTIVIDAD_1_Distribuciones_de_probabilidad.ipynb\" target=\"_parent\"><img src=\"https://colab.research.google.com/assets/colab-badge.svg\" alt=\"Open In Colab\"/></a>"
      ]
    },
    {
      "cell_type": "code",
      "source": [
        "%matplotlib inline\n",
        "\n",
        "import numpy as np\n",
        "import pandas as pd\n",
        "import matplotlib.pyplot as plt\n",
        "import scipy.stats as stats"
      ],
      "metadata": {
        "id": "1xwlPHXdYuyY"
      },
      "execution_count": 2,
      "outputs": []
    },
    {
      "cell_type": "markdown",
      "source": [
        "# Ejercicio 1\n"
      ],
      "metadata": {
        "id": "nPIr-bpoU_oq"
      }
    },
    {
      "cell_type": "markdown",
      "source": [
        "Cierto curso de entrenamiento aumenta la productividad de cierta población en 80 % de los casos. Si 10\n",
        "funcionarios participan del curso. (a) Simule la distribución de probabilidad de este experimento aleatorio.\n",
        "(b) ¿Cuál es la probabilidad que por lo menos 3 funcionarios no aumenten su productividad?. (c) ¿Cuál es\n",
        "la probabilidad que no mas de 8 funcionarios aumenten su productividad?. (d) ¿Cuál es la probabilidad que\n",
        "entre 4 y 6 funcionarios aumenten su productividad?. (e) Estimar su valor esperado y compararlo con su\n",
        "valor teórico.\n"
      ],
      "metadata": {
        "id": "DOLtQXtPZYd5"
      }
    },
    {
      "cell_type": "markdown",
      "source": [
        "(a) Simule la distribución de probabilidad de este experimento aleatorio\n"
      ],
      "metadata": {
        "id": "W79igRxiVcW_"
      }
    },
    {
      "cell_type": "code",
      "source": [
        "#Número de funcionarios n es 10\n",
        "#La probalidad de exito p es 0.8(aumento de probabilidad)\n",
        "\n",
        "# Nos piden simular X=Binomial(10,0.8)\n",
        "data = stats.binom.rvs(size=100000, n=10, p=0.8) # Generate 10000 numbers\n",
        "\n",
        "pd.DataFrame(data).hist(range=(-0.5,10.5), bins=11,figsize=(20,2))\n",
        "plt.title('Binomial(10,0.8)')\n",
        "plt.show()"
      ],
      "metadata": {
        "colab": {
          "base_uri": "https://localhost:8080/",
          "height": 174
        },
        "id": "t3XXy_eaV4zd",
        "outputId": "ef2d37c5-b075-4c41-dce5-151e40ba3059"
      },
      "execution_count": 16,
      "outputs": [
        {
          "output_type": "display_data",
          "data": {
            "text/plain": [
              "<Figure size 2000x200 with 1 Axes>"
            ],
            "image/png": "[encoded data removed]"
          },
          "metadata": {}
        }
      ]
    },
    {
      "cell_type": "markdown",
      "source": [
        "(b) ¿Cuál es la probabilidad que por lo menos 3 funcionarios no aumenten su productividad?."
      ],
      "metadata": {
        "id": "6omb9YuwYSSx"
      }
    },
    {
      "cell_type": "code",
      "source": [
        "#Nos piden P(X>=3)\n",
        "#Probabilida que no aumenten la productividad p=0.2\n",
        "#Numero de funcionarios n=10\n",
        "\n",
        "# P(X>=3) = 1 - P(X<3)\n",
        "# P(X>=3) = 1 - P(X<=2)#por ser una distribución de varibles discreta\n",
        "1- stats.binom.cdf(k=2,n=10,p=0.2)"
      ],
      "metadata": {
        "colab": {
          "base_uri": "https://localhost:8080/"
        },
        "id": "Od-k9UOAZ1c3",
        "outputId": "29950766-cfee-442f-e957-9b0f6c2a8aa9"
      },
      "execution_count": 10,
      "outputs": [
        {
          "output_type": "execute_result",
          "data": {
            "text/plain": [
              "0.32220047360000015"
            ]
          },
          "metadata": {},
          "execution_count": 10
        }
      ]
    },
    {
      "cell_type": "markdown",
      "source": [
        "(c) ¿Cuál es la probabilidad que no mas de 8 funcionarios aumenten su productividad?."
      ],
      "metadata": {
        "id": "rd4e46VPYfnp"
      }
    },
    {
      "cell_type": "code",
      "source": [
        "#Nos piden P(X<=8)\n",
        "#Probabilidad que aumenten su productividad p=0.8\n",
        "#Numero de funcionarios n=10\n",
        "#P(X<=8)=cdf(8)\n",
        "stats.binom.cdf(k=8,n=10,p=0.8)"
      ],
      "metadata": {
        "id": "fzjyp7fBHcG1",
        "outputId": "2760e87a-cdc0-489b-83e4-728b0a27fe06",
        "colab": {
          "base_uri": "https://localhost:8080/"
        }
      },
      "execution_count": 11,
      "outputs": [
        {
          "output_type": "execute_result",
          "data": {
            "text/plain": [
              "0.6241903615999999"
            ]
          },
          "metadata": {},
          "execution_count": 11
        }
      ]
    },
    {
      "cell_type": "markdown",
      "source": [
        "(d) ¿Cuál es la probabilidad que entre 4 y 6 funcionarios aumenten su productividad?."
      ],
      "metadata": {
        "id": "MmoV9wMHaQvb"
      }
    },
    {
      "cell_type": "code",
      "source": [
        "# P(4<=X<=6)\n",
        "#Probabilidad que aumenten su productividad p=0.8\n",
        "#Numero de funcionarios n=10\n",
        "\n",
        "# P(4<=X<=6) = P(X<=6) - P(X<=4)\n",
        "#            = cdf(6)  - cdf(4)\n",
        "stats.binom.cdf(k=6,n=10,p=0.8)-stats.binom.cdf(k=4,n=10,p=0.8)"
      ],
      "metadata": {
        "id": "pQ4NFC2rKJwR",
        "outputId": "b0556095-9d16-488d-a9e4-f2dd0dde840f",
        "colab": {
          "base_uri": "https://localhost:8080/"
        }
      },
      "execution_count": 12,
      "outputs": [
        {
          "output_type": "execute_result",
          "data": {
            "text/plain": [
              "0.11450449919999992"
            ]
          },
          "metadata": {},
          "execution_count": 12
        }
      ]
    },
    {
      "cell_type": "markdown",
      "source": [
        "(e) Estimar su valor esperado y compararlo con su valor teórico."
      ],
      "metadata": {
        "id": "MCA6svGPaZ-8"
      }
    },
    {
      "cell_type": "code",
      "source": [
        "pd.DataFrame(data).mean()"
      ],
      "metadata": {
        "id": "vVw9M_30OBG9",
        "outputId": "c6a55738-7727-4dba-ec22-dd95a698bd48",
        "colab": {
          "base_uri": "https://localhost:8080/"
        }
      },
      "execution_count": 20,
      "outputs": [
        {
          "output_type": "execute_result",
          "data": {
            "text/plain": [
              "0    7.99901\n",
              "dtype: float64"
            ]
          },
          "metadata": {},
          "execution_count": 20
        }
      ]
    },
    {
      "cell_type": "code",
      "source": [
        " #Valor esperado E(x)=n*p\n",
        " n=10\n",
        " p=0.8\n",
        " print('El valor esperado es:',n*p)\n",
        " print('El valor teórico es:',sum(data)/len(data))"
      ],
      "metadata": {
        "id": "InwCXC5fLAtz",
        "outputId": "4f38905e-61b7-4a69-da29-6b2792042750",
        "colab": {
          "base_uri": "https://localhost:8080/"
        }
      },
      "execution_count": 23,
      "outputs": [
        {
          "output_type": "stream",
          "name": "stdout",
          "text": [
            "El valor esperado es: 8.0\n",
            "El valor teórico es: 7.99901\n"
          ]
        }
      ]
    },
    {
      "cell_type": "markdown",
      "source": [
        "# Ejercicio 2"
      ],
      "metadata": {
        "id": "uIGEGc3pZIWp"
      }
    },
    {
      "cell_type": "markdown",
      "source": [
        "Un inspector de calidad extrae una muestra aleatoria de 10 tubos almacenados en un yacimiento donde,\n",
        "según los estandares de producción, se espera un total del 20 % de tubos defectuosos."
      ],
      "metadata": {
        "id": "r_UOPj1qaebU"
      }
    },
    {
      "cell_type": "code",
      "source": [
        " n=10   #Número de tubos\n",
        " p=0.2  #Probabilidad de tubos defectuosos"
      ],
      "metadata": {
        "id": "Pr_iDMojPrs-"
      },
      "execution_count": 24,
      "outputs": []
    },
    {
      "cell_type": "markdown",
      "source": [
        "(a) ¿Cuál es la\n",
        "probabilidad de que ningun tubo sea defectuoso?\n"
      ],
      "metadata": {
        "id": "I_FHq9AiZQNj"
      }
    },
    {
      "cell_type": "code",
      "source": [
        "#Nos piden P(X<=0)\n",
        "#P(X<=0)=cdf(0)\n",
        "stats.binom.cdf(k=0,n=10,p=0.2)"
      ],
      "metadata": {
        "colab": {
          "base_uri": "https://localhost:8080/"
        },
        "id": "RcTkOoiVcUjH",
        "outputId": "aa783a49-c3f8-4f8a-c453-bc6ff84ae223"
      },
      "execution_count": 28,
      "outputs": [
        {
          "output_type": "execute_result",
          "data": {
            "text/plain": [
              "0.10737418239999995"
            ]
          },
          "metadata": {},
          "execution_count": 28
        }
      ]
    },
    {
      "cell_type": "markdown",
      "source": [
        "(b) ¿Cuál es la probabilidad de que no más de 2 tubos\n",
        "extraídos estén defectuosos?"
      ],
      "metadata": {
        "id": "K0W3RdunZSGH"
      }
    },
    {
      "cell_type": "code",
      "source": [
        "#Nos piden P(X<=2)\n",
        "stats.binom.cdf(k=2,n=10,p=0.2)"
      ],
      "metadata": {
        "colab": {
          "base_uri": "https://localhost:8080/"
        },
        "id": "4YA3CM73dPwB",
        "outputId": "d0f30937-32f0-4ae2-e6ee-e5f729983b8c"
      },
      "execution_count": 29,
      "outputs": [
        {
          "output_type": "execute_result",
          "data": {
            "text/plain": [
              "0.6777995263999999"
            ]
          },
          "metadata": {},
          "execution_count": 29
        }
      ]
    },
    {
      "cell_type": "markdown",
      "source": [
        " (c) Cuando se encuentran cuatro o más tubos defectuosos, el proceso de producción se detiene para su revisión. ¿Cuál es la probabilidad de que esto suceda?"
      ],
      "metadata": {
        "id": "lcdlC-TMM5Le"
      }
    },
    {
      "cell_type": "code",
      "source": [
        "#Nos piden P(X>=4)\n",
        "#P(X>=4)=1-P(X<4)\n",
        "#P(X>=4)=1-P(X<=3)\n",
        "#       =1 -cdf(3)\n",
        "1- stats.binom.cdf(k=3,n=10,p=0.2)"
      ],
      "metadata": {
        "colab": {
          "base_uri": "https://localhost:8080/"
        },
        "id": "oSsC54UnL0-8",
        "outputId": "216140a7-2bd2-46fd-df72-5cf47ff1bc17"
      },
      "execution_count": 30,
      "outputs": [
        {
          "output_type": "execute_result",
          "data": {
            "text/plain": [
              "0.12087388160000012"
            ]
          },
          "metadata": {},
          "execution_count": 30
        }
      ]
    },
    {
      "cell_type": "markdown",
      "source": [
        "# Ejercicio 3"
      ],
      "metadata": {
        "id": "0rvC--77d5br"
      }
    },
    {
      "cell_type": "markdown",
      "source": [
        "Un técnico realiza un test a unos estudiantes. Suponiendo que las puntuaciones X obtenidas por los\n",
        "estudiantes siguen una distribución normal de media de 60 puntos y desviación típica de 10 puntos"
      ],
      "metadata": {
        "id": "CRGWPWied3Wt"
      }
    },
    {
      "cell_type": "code",
      "source": [
        "# X=Normal(60,10)"
      ],
      "metadata": {
        "id": "6oc1Y3BiU2J-"
      },
      "execution_count": null,
      "outputs": []
    },
    {
      "cell_type": "markdown",
      "source": [
        "(a) P(X ≥ 70)"
      ],
      "metadata": {
        "id": "4ABWgiLZeF3z"
      }
    },
    {
      "cell_type": "code",
      "source": [
        "# Nos piden P(X>=70)\n",
        "#1-P(X<70)\n",
        "print('P(X ≥ 70)=',1-stats.norm.cdf(x=70, loc=60, scale=10))\n",
        "#1-stats.norm.cdf(70, 60, 10)"
      ],
      "metadata": {
        "id": "9fpLA92dUEyw",
        "outputId": "66d7a10e-4a91-4e80-b4fb-f4cbc7ef9275",
        "colab": {
          "base_uri": "https://localhost:8080/"
        }
      },
      "execution_count": 56,
      "outputs": [
        {
          "output_type": "stream",
          "name": "stdout",
          "text": [
            "P(X ≥ 70)= 0.15865525393145707\n"
          ]
        }
      ]
    },
    {
      "cell_type": "code",
      "source": [
        "#Normalizando\n",
        "z1 = (70-60)/10\n",
        "#1-stats.norm.cdf(z1)\n",
        "print('P(X ≥ 70)=',1-stats.norm.cdf(z1,0,1))"
      ],
      "metadata": {
        "id": "PiwKToNBXKH-",
        "outputId": "8225953b-c0fe-4263-e67d-ebef80ec8014",
        "colab": {
          "base_uri": "https://localhost:8080/"
        }
      },
      "execution_count": 57,
      "outputs": [
        {
          "output_type": "stream",
          "name": "stdout",
          "text": [
            "P(X ≥ 70)= 0.15865525393145707\n"
          ]
        }
      ]
    },
    {
      "cell_type": "markdown",
      "source": [
        "(b) P(X ≤ 80)"
      ],
      "metadata": {
        "id": "pCmW45WpTxkh"
      }
    },
    {
      "cell_type": "code",
      "source": [
        "# Nos piden P(X<=80)\n",
        "print('P(X ≤ 80)=',stats.norm.cdf(x=80, loc=60, scale=10))"
      ],
      "metadata": {
        "id": "Det6xjrUTqqU",
        "outputId": "55426433-1670-4278-a546-85049715c5f9",
        "colab": {
          "base_uri": "https://localhost:8080/"
        }
      },
      "execution_count": 58,
      "outputs": [
        {
          "output_type": "stream",
          "name": "stdout",
          "text": [
            "P(X ≤ 80)= 0.9772498680518208\n"
          ]
        }
      ]
    },
    {
      "cell_type": "code",
      "source": [
        "#Normalizando\n",
        "z2 = (80-60)/10\n",
        "print('P(X ≤ 80)=',stats.norm.cdf(z2))\n",
        "#1-stats.norm.cdf(z2,0,1)"
      ],
      "metadata": {
        "id": "5WjwWedIZk3_",
        "outputId": "c1680d0b-8739-4e5e-ca36-c3fa2bbdef34",
        "colab": {
          "base_uri": "https://localhost:8080/"
        }
      },
      "execution_count": 59,
      "outputs": [
        {
          "output_type": "stream",
          "name": "stdout",
          "text": [
            "P(X ≤ 80)= 0.9772498680518208\n"
          ]
        }
      ]
    },
    {
      "cell_type": "markdown",
      "source": [
        " (c) P(| X − 60 |≤ 20)"
      ],
      "metadata": {
        "id": "86qm0AkeNgZI"
      }
    },
    {
      "cell_type": "code",
      "source": [
        "#  -20<=x-60<=20\n",
        "#x-60<=20 .....x<=80\n",
        "#-20<=x-60.....x>=40\n",
        "#    40<=x<=80\n",
        "#P(40<=X<=80) = P(X<=80) - P(X<=40)\n",
        "#             =  cdf(80) - cdf(40)\n",
        "print('P(| X − 60 |≤ 20) =', stats.norm.cdf(80, loc=60, scale=10) - stats.norm.cdf(40, loc=60, scale=10))"
      ],
      "metadata": {
        "id": "S4ODp0gQahU9",
        "outputId": "09eb3420-ae90-4309-d6d0-1c2f65153885",
        "colab": {
          "base_uri": "https://localhost:8080/"
        }
      },
      "execution_count": 51,
      "outputs": [
        {
          "output_type": "stream",
          "name": "stdout",
          "text": [
            "P(| X − 60 |≤ 20) = 0.9544997361036416\n"
          ]
        }
      ]
    },
    {
      "cell_type": "markdown",
      "source": [
        "(d) P(| X − 30 |≥ 20)\n"
      ],
      "metadata": {
        "id": "FeK1nNVUNmFb"
      }
    },
    {
      "cell_type": "code",
      "source": [
        "# X−30>=20   X−30<=-20\n",
        "#X>=50 and X<=10\n",
        "#P(X>=50) y P(X<=10)\n",
        "print(' P(| X − 30 |≥ 20)=',1-stats.norm.cdf(x=50, loc=60, scale=10)+stats.norm.cdf(x=10, loc=60, scale=10))"
      ],
      "metadata": {
        "id": "Kz-0_0XFfgVm",
        "outputId": "a175a536-e124-43cd-bdc9-c941a6b8dc8a",
        "colab": {
          "base_uri": "https://localhost:8080/"
        }
      },
      "execution_count": 60,
      "outputs": [
        {
          "output_type": "stream",
          "name": "stdout",
          "text": [
            " P(| X − 30 |≥ 20)= 0.8413450327201148\n"
          ]
        }
      ]
    },
    {
      "cell_type": "markdown",
      "source": [
        "# Ejercicio 4"
      ],
      "metadata": {
        "id": "72ro6LRltgO1"
      }
    },
    {
      "cell_type": "markdown",
      "source": [
        "Un banco recibe un promedio de 6 cheques falsos al día, suponiendo que el número de cheques falsos sigue\n",
        "una distribución de Poisson"
      ],
      "metadata": {
        "id": "d7E4auFmtiN1"
      }
    },
    {
      "cell_type": "markdown",
      "source": [
        "(a)  Simular la distribución de probabilidad"
      ],
      "metadata": {
        "id": "Iclt5AuCtnZc"
      }
    },
    {
      "cell_type": "markdown",
      "source": [
        "(b) ¿Cuál es la probabilidad de\n",
        "que se reciban cuatro cheques falsos en un día?"
      ],
      "metadata": {
        "id": "Vjy7dhkTtzbm"
      }
    },
    {
      "cell_type": "markdown",
      "source": [
        " (c) ¿Cuál es la probabilidad de que se reciban más de 30\n",
        "cheques falsos en una semana?"
      ],
      "metadata": {
        "id": "9NkMRLU5ONEE"
      }
    },
    {
      "cell_type": "markdown",
      "source": [
        "# Ejercicio 5"
      ],
      "metadata": {
        "id": "Ai6RoJat2cJ3"
      }
    },
    {
      "cell_type": "markdown",
      "source": [
        "En una población de mujeres, las puntuaciones de un test de ansiedad-riesgo siguen una distribución normal\n",
        "N(25, 10).\n"
      ],
      "metadata": {
        "id": "kn647fx72fZL"
      }
    },
    {
      "cell_type": "markdown",
      "source": [
        "(a) Simular la distribución de probabilidad asociada a este experimento aleatorio.\n"
      ],
      "metadata": {
        "id": "yYu34GIT2pjs"
      }
    },
    {
      "cell_type": "markdown",
      "source": [
        "(b)  Al clasificar la población en cuatro grupos de igual tamaño, ¿cuales serán las puntuaciones que delimiten estos grupos?\n"
      ],
      "metadata": {
        "id": "QvgohAbf2rLj"
      }
    },
    {
      "cell_type": "markdown",
      "source": [
        "# Ejercicio 6\n"
      ],
      "metadata": {
        "id": "OrY_jf774tnq"
      }
    },
    {
      "cell_type": "markdown",
      "source": [
        "La concentración de un contaminante se distribuye uniformemente en el intervalo de 0 a 20 millones. Una\n",
        "concentración se considera tóxica a partir de 8 millones."
      ],
      "metadata": {
        "id": "E_myqcin4zEy"
      }
    },
    {
      "cell_type": "markdown",
      "source": [
        "(a)  Simular la distribución de probabilidad asociada.\n"
      ],
      "metadata": {
        "id": "BcZwlZmnp071"
      }
    },
    {
      "cell_type": "code",
      "source": [],
      "metadata": {
        "id": "xH-y5-THPuKi"
      },
      "execution_count": null,
      "outputs": []
    },
    {
      "cell_type": "markdown",
      "source": [
        "(b) ¿Cuál es la probabilidad de que al tomar una muestra la concentración resulte tóxica?"
      ],
      "metadata": {
        "id": "XpQM6_HHp4AZ"
      }
    },
    {
      "cell_type": "markdown",
      "source": [
        "(c) Estimar la concentración media y varianza y compararla con los valores teóricos"
      ],
      "metadata": {
        "id": "fOQb2xBXPhJB"
      }
    },
    {
      "cell_type": "markdown",
      "source": [
        "# Ejercicio 7"
      ],
      "metadata": {
        "id": "rHt4rN8lPtJZ"
      }
    },
    {
      "cell_type": "markdown",
      "source": [
        "El tiempo de vida media de un marcapasos sigue una distribución exponencial con media 16 anos"
      ],
      "metadata": {
        "id": "jNC4RLijPvQa"
      }
    },
    {
      "cell_type": "markdown",
      "source": [
        " (a) Simular la distribución de probabilidad asociada a este experimento aleatorio."
      ],
      "metadata": {
        "id": "CiZ9GJqXP3QZ"
      }
    },
    {
      "cell_type": "markdown",
      "source": [
        " (b) ¿Cuál es la probabilidad de que a una persona a la que se ha implantado un marcapasos se le deba de implantar otro antes de 20 años?"
      ],
      "metadata": {
        "id": "S378K8dgP81W"
      }
    },
    {
      "cell_type": "markdown",
      "source": [
        "(c) ¿Cuál es la probabilidad de que a una persona a la que se ha implantado un marcapasos haya que cambiarlo entre 10 y 25 años?"
      ],
      "metadata": {
        "id": "ifiK_GvcQH4V"
      }
    },
    {
      "cell_type": "markdown",
      "source": [
        "(d) Si el marcapasos lleva funcionando correctamente 5\n",
        "años en un paciente, ¿cuál es la probabilidad de que haya de cambiarlo antes de 25 años?"
      ],
      "metadata": {
        "id": "yFyGDMI6QS_r"
      }
    },
    {
      "cell_type": "markdown",
      "source": [
        "# Ejercicio 8"
      ],
      "metadata": {
        "id": "wv2Zg1_aQmNz"
      }
    },
    {
      "cell_type": "markdown",
      "source": [
        "Supongamos que el número de imperfecciones en un alambre delgado de cobre sigue una distribución Poisson\n",
        "con una media de 2.3 imperfecciones por milímetro"
      ],
      "metadata": {
        "id": "CPZB83AdQ3B0"
      }
    },
    {
      "cell_type": "markdown",
      "source": [
        "(a) Determine la probabilidad de 2 imperfecciones en\n",
        "un milímetro de alambre."
      ],
      "metadata": {
        "id": "M2xQFd50Q9ep"
      }
    },
    {
      "cell_type": "markdown",
      "source": [
        " (b) Determine la probabilidad de 10 imperfecciones en 5 milímetros de alambre.\n"
      ],
      "metadata": {
        "id": "jlbz97OyRCVT"
      }
    },
    {
      "cell_type": "markdown",
      "source": [
        "(c) Determine la probabilidad de al menos una imperfección en 2mm de alambre."
      ],
      "metadata": {
        "id": "jA3z1nNZRI78"
      }
    },
    {
      "cell_type": "code",
      "source": [],
      "metadata": {
        "id": "wPEoPgDGQpt0"
      },
      "execution_count": null,
      "outputs": []
    }
  ]
}
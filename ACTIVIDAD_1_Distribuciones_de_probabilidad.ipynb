{
  "nbformat": 4,
  "nbformat_minor": 0,
  "metadata": {
    "colab": {
      "provenance": [],
      "include_colab_link": true
    },
    "kernelspec": {
      "name": "python3",
      "display_name": "Python 3"
    },
    "language_info": {
      "name": "python"
    }
  },
  "cells": [
    {
      "cell_type": "markdown",
      "metadata": {
        "id": "view-in-github",
        "colab_type": "text"
      },
      "source": [
        "<a href=\"https://colab.research.google.com/github/Ricardomanuel1/Maestria_Ciencia_de_Datos/blob/main/ACTIVIDAD_1_Distribuciones_de_probabilidad.ipynb\" target=\"_parent\"><img src=\"https://colab.research.google.com/assets/colab-badge.svg\" alt=\"Open In Colab\"/></a>"
      ]
    },
    {
      "cell_type": "code",
      "source": [
        "%matplotlib inline\n",
        "\n",
        "import numpy as np\n",
        "import pandas as pd\n",
        "import matplotlib.pyplot as plt\n",
        "import scipy.stats as stats"
      ],
      "metadata": {
        "id": "1xwlPHXdYuyY"
      },
      "execution_count": 2,
      "outputs": []
    },
    {
      "cell_type": "markdown",
      "source": [
        "# Ejercicio 1\n"
      ],
      "metadata": {
        "id": "nPIr-bpoU_oq"
      }
    },
    {
      "cell_type": "markdown",
      "source": [
        "Cierto curso de entrenamiento aumenta la productividad de cierta población en 80 % de los casos. Si 10\n",
        "funcionarios participan del curso. (a) Simule la distribución de probabilidad de este experimento aleatorio.\n",
        "(b) ¿Cuál es la probabilidad que por lo menos 3 funcionarios no aumenten su productividad?. (c) ¿Cuál es\n",
        "la probabilidad que no mas de 8 funcionarios aumenten su productividad?. (d) ¿Cuál es la probabilidad que\n",
        "entre 4 y 6 funcionarios aumenten su productividad?. (e) Estimar su valor esperado y compararlo con su\n",
        "valor teórico.\n"
      ],
      "metadata": {
        "id": "DOLtQXtPZYd5"
      }
    },
    {
      "cell_type": "markdown",
      "source": [
        "(a) Simule la distribución de probabilidad de este experimento aleatorio\n"
      ],
      "metadata": {
        "id": "W79igRxiVcW_"
      }
    },
    {
      "cell_type": "code",
      "source": [
        "#Número de funcionarios n es 10\n",
        "#La probalidad de exito p es 0.8(aumento de probabilidad)\n",
        "\n",
        "# Nos piden simular X=Binomial(10,0.8)\n",
        "data = stats.binom.rvs(size=100000, n=10, p=0.8) # Generate 10000 numbers\n",
        "\n",
        "pd.DataFrame(data).hist(range=(-0.5,10.5), bins=11,figsize=(20,2))\n",
        "plt.title('Binomial(10,0.8)')\n",
        "plt.show()"
      ],
      "metadata": {
        "colab": {
          "base_uri": "https://localhost:8080/",
          "height": 174
        },
        "id": "t3XXy_eaV4zd",
        "outputId": "ce1003f1-31f2-4483-bda8-453f18ea10aa"
      },
      "execution_count": 3,
      "outputs": [
        {
          "output_type": "display_data",
          "data": {
            "text/plain": [
              "<Figure size 2000x200 with 1 Axes>"
            ],
            "image/png": "[encoded data removed]"
          },
          "metadata": {}
        }
      ]
    },
    {
      "cell_type": "markdown",
      "source": [
        "(b) ¿Cuál es la probabilidad que por lo menos 3 funcionarios no aumenten su productividad?."
      ],
      "metadata": {
        "id": "6omb9YuwYSSx"
      }
    },
    {
      "cell_type": "code",
      "source": [
        "#Nos piden P(X>=3)\n",
        "#Probabilida que no aumenten la productividad p=0.2\n",
        "#Numero de funcionarios n=10\n",
        "\n",
        "# P(X>=3) = 1 - P(X<3)\n",
        "# P(X>=3) = 1 - P(X<=2)#por ser una distribución de varibles discreta\n",
        "1- stats.binom.cdf(k=2,n=10,p=0.2)"
      ],
      "metadata": {
        "colab": {
          "base_uri": "https://localhost:8080/"
        },
        "id": "Od-k9UOAZ1c3",
        "outputId": "b9fc4c11-cd66-4387-9c0d-a4fd8c4c1152"
      },
      "execution_count": 4,
      "outputs": [
        {
          "output_type": "execute_result",
          "data": {
            "text/plain": [
              "0.32220047360000015"
            ]
          },
          "metadata": {},
          "execution_count": 4
        }
      ]
    },
    {
      "cell_type": "markdown",
      "source": [
        "(c) ¿Cuál es la probabilidad que no mas de 8 funcionarios aumenten su productividad?."
      ],
      "metadata": {
        "id": "rd4e46VPYfnp"
      }
    },
    {
      "cell_type": "code",
      "source": [
        "#Nos piden P(X<=8)\n",
        "#Probabilidad que aumenten su productividad p=0.8\n",
        "#Numero de funcionarios n=10\n",
        "#P(X<=8)=cdf(8)\n",
        "stats.binom.cdf(k=8,n=10,p=0.8)"
      ],
      "metadata": {
        "id": "fzjyp7fBHcG1",
        "outputId": "9f012a27-1da4-4c9f-b015-f2e943693d54",
        "colab": {
          "base_uri": "https://localhost:8080/"
        }
      },
      "execution_count": 5,
      "outputs": [
        {
          "output_type": "execute_result",
          "data": {
            "text/plain": [
              "0.6241903615999999"
            ]
          },
          "metadata": {},
          "execution_count": 5
        }
      ]
    },
    {
      "cell_type": "markdown",
      "source": [
        "(d) ¿Cuál es la probabilidad que entre 4 y 6 funcionarios aumenten su productividad?."
      ],
      "metadata": {
        "id": "MmoV9wMHaQvb"
      }
    },
    {
      "cell_type": "code",
      "source": [
        "# P(4<=X<=6)\n",
        "#Probabilidad que aumenten su productividad p=0.8\n",
        "#Numero de funcionarios n=10\n",
        "\n",
        "# P(4<=X<=6) = P(X<=6) - P(X<=4)\n",
        "#            = cdf(6)  - cdf(4)\n",
        "stats.binom.cdf(k=6,n=10,p=0.8)-stats.binom.cdf(k=4,n=10,p=0.8)"
      ],
      "metadata": {
        "id": "pQ4NFC2rKJwR",
        "outputId": "d7387b26-9c71-4361-b9c0-103fc78b03e9",
        "colab": {
          "base_uri": "https://localhost:8080/"
        }
      },
      "execution_count": 6,
      "outputs": [
        {
          "output_type": "execute_result",
          "data": {
            "text/plain": [
              "0.11450449919999992"
            ]
          },
          "metadata": {},
          "execution_count": 6
        }
      ]
    },
    {
      "cell_type": "markdown",
      "source": [
        "(e) Estimar su valor esperado y compararlo con su valor teórico."
      ],
      "metadata": {
        "id": "MCA6svGPaZ-8"
      }
    },
    {
      "cell_type": "code",
      "source": [
        "pd.DataFrame(data).mean()"
      ],
      "metadata": {
        "id": "vVw9M_30OBG9",
        "outputId": "4d29a457-8de8-486e-d7d4-36c753699799",
        "colab": {
          "base_uri": "https://localhost:8080/"
        }
      },
      "execution_count": 7,
      "outputs": [
        {
          "output_type": "execute_result",
          "data": {
            "text/plain": [
              "0    7.99968\n",
              "dtype: float64"
            ]
          },
          "metadata": {},
          "execution_count": 7
        }
      ]
    },
    {
      "cell_type": "code",
      "source": [
        " #Valor esperado E(x)=n*p\n",
        " n=10\n",
        " p=0.8\n",
        " print('El valor esperado es:',n*p)\n",
        " print('El valor teórico es:',sum(data)/len(data))"
      ],
      "metadata": {
        "id": "InwCXC5fLAtz",
        "outputId": "a594fefa-bdcb-4e6c-b7e6-7c862de08084",
        "colab": {
          "base_uri": "https://localhost:8080/"
        }
      },
      "execution_count": 8,
      "outputs": [
        {
          "output_type": "stream",
          "name": "stdout",
          "text": [
            "El valor esperado es: 8.0\n",
            "El valor teórico es: 7.99968\n"
          ]
        }
      ]
    },
    {
      "cell_type": "markdown",
      "source": [
        "# Ejercicio 2"
      ],
      "metadata": {
        "id": "uIGEGc3pZIWp"
      }
    },
    {
      "cell_type": "markdown",
      "source": [
        "Un inspector de calidad extrae una muestra aleatoria de 10 tubos almacenados en un yacimiento donde,\n",
        "según los estandares de producción, se espera un total del 20 % de tubos defectuosos."
      ],
      "metadata": {
        "id": "r_UOPj1qaebU"
      }
    },
    {
      "cell_type": "code",
      "source": [
        " n=10   #Número de tubos\n",
        " p=0.2  #Probabilidad de tubos defectuosos"
      ],
      "metadata": {
        "id": "Pr_iDMojPrs-"
      },
      "execution_count": 9,
      "outputs": []
    },
    {
      "cell_type": "markdown",
      "source": [
        "(a) ¿Cuál es la\n",
        "probabilidad de que ningun tubo sea defectuoso?\n"
      ],
      "metadata": {
        "id": "I_FHq9AiZQNj"
      }
    },
    {
      "cell_type": "code",
      "source": [
        "#Nos piden P(X<=0)\n",
        "#P(X<=0)=cdf(0)\n",
        "stats.binom.cdf(k=0,n=10,p=0.2)"
      ],
      "metadata": {
        "colab": {
          "base_uri": "https://localhost:8080/"
        },
        "id": "RcTkOoiVcUjH",
        "outputId": "6eb943b7-cfe3-42c9-bc26-de4c79cee85f"
      },
      "execution_count": 10,
      "outputs": [
        {
          "output_type": "execute_result",
          "data": {
            "text/plain": [
              "0.10737418239999995"
            ]
          },
          "metadata": {},
          "execution_count": 10
        }
      ]
    },
    {
      "cell_type": "markdown",
      "source": [
        "(b) ¿Cuál es la probabilidad de que no más de 2 tubos\n",
        "extraídos estén defectuosos?"
      ],
      "metadata": {
        "id": "K0W3RdunZSGH"
      }
    },
    {
      "cell_type": "code",
      "source": [
        "#Nos piden P(X<=2)\n",
        "stats.binom.cdf(k=2,n=10,p=0.2)"
      ],
      "metadata": {
        "colab": {
          "base_uri": "https://localhost:8080/"
        },
        "id": "4YA3CM73dPwB",
        "outputId": "0832f226-a254-4fdb-db61-d74b251c49e1"
      },
      "execution_count": 11,
      "outputs": [
        {
          "output_type": "execute_result",
          "data": {
            "text/plain": [
              "0.6777995263999999"
            ]
          },
          "metadata": {},
          "execution_count": 11
        }
      ]
    },
    {
      "cell_type": "markdown",
      "source": [
        " (c) Cuando se encuentran cuatro o más tubos defectuosos, el proceso de producción se detiene para su revisión. ¿Cuál es la probabilidad de que esto suceda?"
      ],
      "metadata": {
        "id": "lcdlC-TMM5Le"
      }
    },
    {
      "cell_type": "code",
      "source": [
        "#Nos piden P(X>=4)\n",
        "#P(X>=4)=1-P(X<4)\n",
        "#P(X>=4)=1-P(X<=3)\n",
        "#       =1 -cdf(3)\n",
        "1- stats.binom.cdf(k=3,n=10,p=0.2)"
      ],
      "metadata": {
        "colab": {
          "base_uri": "https://localhost:8080/"
        },
        "id": "oSsC54UnL0-8",
        "outputId": "ebfe4a4e-d8da-42ae-948d-db9aae8a4fab"
      },
      "execution_count": 12,
      "outputs": [
        {
          "output_type": "execute_result",
          "data": {
            "text/plain": [
              "0.12087388160000012"
            ]
          },
          "metadata": {},
          "execution_count": 12
        }
      ]
    },
    {
      "cell_type": "markdown",
      "source": [
        "# Ejercicio 3"
      ],
      "metadata": {
        "id": "0rvC--77d5br"
      }
    },
    {
      "cell_type": "markdown",
      "source": [
        "Un técnico realiza un test a unos estudiantes. Suponiendo que las puntuaciones X obtenidas por los\n",
        "estudiantes siguen una distribución normal de media de 60 puntos y desviación típica de 10 puntos"
      ],
      "metadata": {
        "id": "CRGWPWied3Wt"
      }
    },
    {
      "cell_type": "code",
      "source": [
        "# X=Normal(60,10)"
      ],
      "metadata": {
        "id": "6oc1Y3BiU2J-"
      },
      "execution_count": 13,
      "outputs": []
    },
    {
      "cell_type": "markdown",
      "source": [
        "(a) P(X ≥ 70)"
      ],
      "metadata": {
        "id": "4ABWgiLZeF3z"
      }
    },
    {
      "cell_type": "code",
      "source": [
        "# Nos piden P(X>=70)\n",
        "#1-P(X<70)\n",
        "print('P(X ≥ 70)=',1-stats.norm.cdf(x=70, loc=60, scale=10))\n",
        "#1-stats.norm.cdf(70, 60, 10)"
      ],
      "metadata": {
        "id": "9fpLA92dUEyw",
        "outputId": "f5d4e00f-eb6f-4836-edaa-2287eb12ed29",
        "colab": {
          "base_uri": "https://localhost:8080/"
        }
      },
      "execution_count": 14,
      "outputs": [
        {
          "output_type": "stream",
          "name": "stdout",
          "text": [
            "P(X ≥ 70)= 0.15865525393145707\n"
          ]
        }
      ]
    },
    {
      "cell_type": "code",
      "source": [
        "#Normalizando\n",
        "z1 = (70-60)/10\n",
        "#1-stats.norm.cdf(z1)\n",
        "print('P(X ≥ 70)=',1-stats.norm.cdf(z1,0,1))"
      ],
      "metadata": {
        "id": "PiwKToNBXKH-",
        "outputId": "d758f435-4814-4a54-bc3f-e96440e36e2c",
        "colab": {
          "base_uri": "https://localhost:8080/"
        }
      },
      "execution_count": 15,
      "outputs": [
        {
          "output_type": "stream",
          "name": "stdout",
          "text": [
            "P(X ≥ 70)= 0.15865525393145707\n"
          ]
        }
      ]
    },
    {
      "cell_type": "markdown",
      "source": [
        "(b) P(X ≤ 80)"
      ],
      "metadata": {
        "id": "pCmW45WpTxkh"
      }
    },
    {
      "cell_type": "code",
      "source": [
        "# Nos piden P(X<=80)\n",
        "print('P(X ≤ 80)=',stats.norm.cdf(x=80, loc=60, scale=10))"
      ],
      "metadata": {
        "id": "Det6xjrUTqqU",
        "outputId": "d1ab5271-15f1-4aac-e9bc-0ab6e0c0b683",
        "colab": {
          "base_uri": "https://localhost:8080/"
        }
      },
      "execution_count": 16,
      "outputs": [
        {
          "output_type": "stream",
          "name": "stdout",
          "text": [
            "P(X ≤ 80)= 0.9772498680518208\n"
          ]
        }
      ]
    },
    {
      "cell_type": "code",
      "source": [
        "#Normalizando\n",
        "z2 = (80-60)/10\n",
        "print('P(X ≤ 80)=',stats.norm.cdf(z2))\n",
        "#1-stats.norm.cdf(z2,0,1)"
      ],
      "metadata": {
        "id": "5WjwWedIZk3_",
        "outputId": "37ea65bf-c6cb-459c-b57c-7f4641ea1281",
        "colab": {
          "base_uri": "https://localhost:8080/"
        }
      },
      "execution_count": 17,
      "outputs": [
        {
          "output_type": "stream",
          "name": "stdout",
          "text": [
            "P(X ≤ 80)= 0.9772498680518208\n"
          ]
        }
      ]
    },
    {
      "cell_type": "markdown",
      "source": [
        " (c) P(| X − 60 |≤ 20)"
      ],
      "metadata": {
        "id": "86qm0AkeNgZI"
      }
    },
    {
      "cell_type": "code",
      "source": [
        "#  -20<=x-60<=20\n",
        "#x-60<=20 .....x<=80\n",
        "#-20<=x-60.....x>=40\n",
        "#    40<=x<=80\n",
        "#P(40<=X<=80) = P(X<=80) - P(X<=40)\n",
        "#             =  cdf(80) - cdf(40)\n",
        "print('P(| X − 60 |≤ 20) =', stats.norm.cdf(80, loc=60, scale=10) - stats.norm.cdf(40, loc=60, scale=10))"
      ],
      "metadata": {
        "id": "S4ODp0gQahU9",
        "outputId": "1c84f131-1ff2-4895-d6f5-36e8ad77dc27",
        "colab": {
          "base_uri": "https://localhost:8080/"
        }
      },
      "execution_count": 18,
      "outputs": [
        {
          "output_type": "stream",
          "name": "stdout",
          "text": [
            "P(| X − 60 |≤ 20) = 0.9544997361036416\n"
          ]
        }
      ]
    },
    {
      "cell_type": "markdown",
      "source": [
        "(d) P(| X − 30 |≥ 20)\n"
      ],
      "metadata": {
        "id": "FeK1nNVUNmFb"
      }
    },
    {
      "cell_type": "code",
      "source": [
        "# X−30>=20   X−30<=-20\n",
        "#X>=50 and X<=10\n",
        "#P(X>=50) y P(X<=10)\n",
        "print(' P(| X − 30 |≥ 20)=',1-stats.norm.cdf(x=50, loc=60, scale=10)+stats.norm.cdf(x=10, loc=60, scale=10))"
      ],
      "metadata": {
        "id": "Kz-0_0XFfgVm",
        "outputId": "92aa1a4d-44c5-444d-db2e-796972095616",
        "colab": {
          "base_uri": "https://localhost:8080/"
        }
      },
      "execution_count": 19,
      "outputs": [
        {
          "output_type": "stream",
          "name": "stdout",
          "text": [
            " P(| X − 30 |≥ 20)= 0.8413450327201148\n"
          ]
        }
      ]
    },
    {
      "cell_type": "markdown",
      "source": [
        "# Ejercicio 4"
      ],
      "metadata": {
        "id": "72ro6LRltgO1"
      }
    },
    {
      "cell_type": "markdown",
      "source": [
        "Un banco recibe un promedio de 6 cheques falsos al día, suponiendo que el número de cheques falsos sigue\n",
        "una distribución de Poisson"
      ],
      "metadata": {
        "id": "d7E4auFmtiN1"
      }
    },
    {
      "cell_type": "markdown",
      "source": [
        "(a)  Simular la distribución de probabilidad"
      ],
      "metadata": {
        "id": "Iclt5AuCtnZc"
      }
    },
    {
      "cell_type": "code",
      "source": [
        "num_dias=1000\n",
        "cheques_falsos_dia = np.random.poisson(6, num_dias)\n",
        "plt.hist(cheques_falsos_dia, bins=20, density=True, color='red', edgecolor='black')\n",
        "plt.title('Distribución de Cheques Falsos por Día')\n",
        "plt.xlabel('Cantidad de Cheques Falsos')\n",
        "plt.ylabel('Probabilidad')\n",
        "plt.show()"
      ],
      "metadata": {
        "id": "UnK8v1c8fTjl",
        "outputId": "db4c65fa-a86b-4640-ac87-e8c46891f63b",
        "colab": {
          "base_uri": "https://localhost:8080/",
          "height": 472
        }
      },
      "execution_count": 45,
      "outputs": [
        {
          "output_type": "display_data",
          "data": {
            "text/plain": [
              "<Figure size 640x480 with 1 Axes>"
            ],
            "image/png": "[encoded data removed]"
          },
          "metadata": {}
        }
      ]
    },
    {
      "cell_type": "markdown",
      "source": [
        "(b) ¿Cuál es la probabilidad de\n",
        "que se reciban cuatro cheques falsos en un día?"
      ],
      "metadata": {
        "id": "Vjy7dhkTtzbm"
      }
    },
    {
      "cell_type": "code",
      "source": [
        "#mu=6\n",
        "#k=4\n",
        "print('La probabilidad de que reciban 4 cheques falsos al día es:',stats.poisson.pmf(k=4,mu=6))"
      ],
      "metadata": {
        "id": "eYfieh8Fgrom",
        "outputId": "06966111-bd8c-4c03-d816-0ada72a2f4e3",
        "colab": {
          "base_uri": "https://localhost:8080/"
        }
      },
      "execution_count": 32,
      "outputs": [
        {
          "output_type": "stream",
          "name": "stdout",
          "text": [
            "La probabilidad de que reciban 4 cheques falsos al día es: 0.13385261753998332\n"
          ]
        }
      ]
    },
    {
      "cell_type": "markdown",
      "source": [
        " (c) ¿Cuál es la probabilidad de que se reciban más de 30\n",
        "cheques falsos en una semana?"
      ],
      "metadata": {
        "id": "9NkMRLU5ONEE"
      }
    },
    {
      "cell_type": "code",
      "source": [
        "# mu=42\n",
        "#P(X>30) = 1-P(X<=30)\n",
        "#         = 1-cdf(30)\n",
        "\n",
        "1-stats.poisson.cdf(k=30,mu=42)"
      ],
      "metadata": {
        "id": "3ehAboh_o0zf",
        "outputId": "66d06752-3a4b-42ec-bde9-a9c95cf4f9c2",
        "colab": {
          "base_uri": "https://localhost:8080/"
        }
      },
      "execution_count": 35,
      "outputs": [
        {
          "output_type": "execute_result",
          "data": {
            "text/plain": [
              "0.9670601895096396"
            ]
          },
          "metadata": {},
          "execution_count": 35
        }
      ]
    },
    {
      "cell_type": "markdown",
      "source": [
        "# Ejercicio 5"
      ],
      "metadata": {
        "id": "Ai6RoJat2cJ3"
      }
    },
    {
      "cell_type": "markdown",
      "source": [
        "En una población de mujeres, las puntuaciones de un test de ansiedad-riesgo siguen una distribución normal\n",
        "N(25, 10).\n"
      ],
      "metadata": {
        "id": "kn647fx72fZL"
      }
    },
    {
      "cell_type": "markdown",
      "source": [
        "(a) Simular la distribución de probabilidad asociada a este experimento aleatorio.\n"
      ],
      "metadata": {
        "id": "yYu34GIT2pjs"
      }
    },
    {
      "cell_type": "markdown",
      "source": [
        "(b)  Al clasificar la población en cuatro grupos de igual tamaño, ¿cuales serán las puntuaciones que delimiten estos grupos?\n"
      ],
      "metadata": {
        "id": "QvgohAbf2rLj"
      }
    },
    {
      "cell_type": "code",
      "source": [],
      "metadata": {
        "id": "_s-vCe7FtdKe"
      },
      "execution_count": null,
      "outputs": []
    },
    {
      "cell_type": "markdown",
      "source": [
        "# Ejercicio 6\n"
      ],
      "metadata": {
        "id": "OrY_jf774tnq"
      }
    },
    {
      "cell_type": "markdown",
      "source": [
        "La concentración de un contaminante se distribuye uniformemente en el intervalo de 0 a 20 millones. Una\n",
        "concentración se considera tóxica a partir de 8 millones."
      ],
      "metadata": {
        "id": "E_myqcin4zEy"
      }
    },
    {
      "cell_type": "markdown",
      "source": [
        "(a)  Simular la distribución de probabilidad asociada.\n"
      ],
      "metadata": {
        "id": "BcZwlZmnp071"
      }
    },
    {
      "cell_type": "code",
      "source": [
        "data = stats.uniform.rvs(size=10000, loc=0, scale=20)\n",
        "data_X=pd.DataFrame(data)\n",
        "data_X.plot(kind='density')\n",
        "plt.show()"
      ],
      "metadata": {
        "id": "xH-y5-THPuKi",
        "outputId": "6b733729-0535-43de-bf74-464713d675fb",
        "colab": {
          "base_uri": "https://localhost:8080/",
          "height": 430
        }
      },
      "execution_count": 86,
      "outputs": [
        {
          "output_type": "display_data",
          "data": {
            "text/plain": [
              "<Figure size 640x480 with 1 Axes>"
            ],
            "image/png": "[encoded data removed]"
          },
          "metadata": {}
        }
      ]
    },
    {
      "cell_type": "code",
      "source": [],
      "metadata": {
        "id": "tBpCp8W8FP7r",
        "outputId": "94f2b0f9-279e-49ec-ca74-aeb9343f464d",
        "colab": {
          "base_uri": "https://localhost:8080/"
        }
      },
      "execution_count": 85,
      "outputs": [
        {
          "output_type": "execute_result",
          "data": {
            "text/plain": [
              "0"
            ]
          },
          "metadata": {},
          "execution_count": 85
        }
      ]
    },
    {
      "cell_type": "markdown",
      "source": [
        "(b) ¿Cuál es la probabilidad de que al tomar una muestra la concentración resulte tóxica?"
      ],
      "metadata": {
        "id": "XpQM6_HHp4AZ"
      }
    },
    {
      "cell_type": "code",
      "source": [
        "#P(X>8)\n",
        "P=(20-8)/(20-0)\n",
        "print(P)"
      ],
      "metadata": {
        "id": "rI0ZQLHu8R1w",
        "outputId": "ed825642-ec72-4db8-be11-01564ec14e22",
        "colab": {
          "base_uri": "https://localhost:8080/"
        }
      },
      "execution_count": 66,
      "outputs": [
        {
          "output_type": "stream",
          "name": "stdout",
          "text": [
            "0.6\n"
          ]
        }
      ]
    },
    {
      "cell_type": "code",
      "source": [
        "#P(X>8)=1-P(X<=8)\n",
        "1-stats.uniform.cdf(8,0,20)"
      ],
      "metadata": {
        "id": "_YtmgZSqAyEt",
        "outputId": "605842a3-dd88-48fb-8358-06008ff19af2",
        "colab": {
          "base_uri": "https://localhost:8080/"
        }
      },
      "execution_count": 69,
      "outputs": [
        {
          "output_type": "execute_result",
          "data": {
            "text/plain": [
              "0.6"
            ]
          },
          "metadata": {},
          "execution_count": 69
        }
      ]
    },
    {
      "cell_type": "markdown",
      "source": [
        "(c) Estimar la concentración media y varianza y compararla con los valores teóricos"
      ],
      "metadata": {
        "id": "fOQb2xBXPhJB"
      }
    },
    {
      "cell_type": "code",
      "source": [
        "a=0\n",
        "b=20\n",
        "c=(a+b)/2\n"
      ],
      "metadata": {
        "id": "6kTid3w6DLJp"
      },
      "execution_count": 73,
      "outputs": []
    },
    {
      "cell_type": "code",
      "source": [
        "print('Media o Esperanza:',(a+b)/2)\n",
        "print('Varianza:',(b-a)**2/12)\n",
        "print('Media simulación:',data_X.mean())\n",
        "print('Varianza simulación:',data_X.var())"
      ],
      "metadata": {
        "id": "movteQPLAYAj",
        "outputId": "fbf34dd1-c8ee-4ee5-9e26-7f39516b0a99",
        "colab": {
          "base_uri": "https://localhost:8080/"
        }
      },
      "execution_count": 91,
      "outputs": [
        {
          "output_type": "stream",
          "name": "stdout",
          "text": [
            "Media o Esperanza: 10.0\n",
            "Varianza: 33.333333333333336\n",
            "Media simulación: 0    10.046548\n",
            "dtype: float64\n",
            "Varianza simulación: 0    33.058708\n",
            "dtype: float64\n"
          ]
        }
      ]
    },
    {
      "cell_type": "markdown",
      "source": [
        "# Ejercicio 7"
      ],
      "metadata": {
        "id": "rHt4rN8lPtJZ"
      }
    },
    {
      "cell_type": "markdown",
      "source": [
        "El tiempo de vida media de un marcapasos sigue una distribución exponencial con media 16 años"
      ],
      "metadata": {
        "id": "jNC4RLijPvQa"
      }
    },
    {
      "cell_type": "markdown",
      "source": [
        " (a) Simular la distribución de probabilidad asociada a este experimento aleatorio."
      ],
      "metadata": {
        "id": "CiZ9GJqXP3QZ"
      }
    },
    {
      "cell_type": "code",
      "source": [
        "num_simu = 10000\n",
        "media=16\n",
        "# Generar muestras aleatorias de una distribución exponencial\n",
        "muestras = np.random.exponential(scale=media, size=num_simu)\n",
        "\n",
        "# Graficar la distribución de probabilidad\n",
        "plt.hist(muestras, bins=30, density=True, color='red', edgecolor='black')\n",
        "plt.title('Distribución de Tiempo de Vida de un Marcapasos')\n",
        "plt.xlabel('Tiempo de Vida (años)')\n",
        "plt.ylabel('Densidad de Probabilidad')\n",
        "plt.show()"
      ],
      "metadata": {
        "id": "hLq6rGzQ5Ynw",
        "outputId": "f28bd3a5-cc22-482b-9eba-d7f3eae64f56",
        "colab": {
          "base_uri": "https://localhost:8080/",
          "height": 472
        }
      },
      "execution_count": 64,
      "outputs": [
        {
          "output_type": "display_data",
          "data": {
            "text/plain": [
              "<Figure size 640x480 with 1 Axes>"
            ],
            "image/png": "[encoded data removed]"
          },
          "metadata": {}
        }
      ]
    },
    {
      "cell_type": "markdown",
      "source": [
        " (b) ¿Cuál es la probabilidad de que a una persona a la que se ha implantado un marcapasos se le deba de implantar otro antes de 20 años?"
      ],
      "metadata": {
        "id": "S378K8dgP81W"
      }
    },
    {
      "cell_type": "code",
      "source": [
        "# Lambda=1/16\n",
        "# P(X<20) = cdf(20)\n",
        "stats.expon.cdf(x=20, scale=16)"
      ],
      "metadata": {
        "id": "OGreMIXly8hO",
        "outputId": "dcdb5caf-45e1-4ca4-9378-387715556b31",
        "colab": {
          "base_uri": "https://localhost:8080/"
        }
      },
      "execution_count": 59,
      "outputs": [
        {
          "output_type": "execute_result",
          "data": {
            "text/plain": [
              "0.7134952031398099"
            ]
          },
          "metadata": {},
          "execution_count": 59
        }
      ]
    },
    {
      "cell_type": "markdown",
      "source": [
        "(c) ¿Cuál es la probabilidad de que a una persona a la que se ha implantado un marcapasos haya que cambiarlo entre 10 y 25 años?"
      ],
      "metadata": {
        "id": "ifiK_GvcQH4V"
      }
    },
    {
      "cell_type": "code",
      "source": [
        "# Nos piden P(10<=X<=25)\n",
        "# P(10<=X<=25) = P(X<=25) - P(X<=10)\n",
        "# P(10<X<=25) =  cdf(25) - cdf(10)\n",
        "stats.expon.cdf(x=25, scale=16) - stats.expon.cdf(x=10, scale=16)"
      ],
      "metadata": {
        "id": "994LmQ1_2FZo",
        "outputId": "f3e0f679-112f-4fe2-d12d-2d5f34f6fd93",
        "colab": {
          "base_uri": "https://localhost:8080/"
        }
      },
      "execution_count": 61,
      "outputs": [
        {
          "output_type": "execute_result",
          "data": {
            "text/plain": [
              "0.32565004136789244"
            ]
          },
          "metadata": {},
          "execution_count": 61
        }
      ]
    },
    {
      "cell_type": "markdown",
      "source": [
        "(d) Si el marcapasos lleva funcionando correctamente 5\n",
        "años en un paciente, ¿cuál es la probabilidad de que haya de cambiarlo antes de 25 años?"
      ],
      "metadata": {
        "id": "yFyGDMI6QS_r"
      }
    },
    {
      "cell_type": "code",
      "source": [
        "#tiempo restante hasta 25 años=25-5(tiempo transcurrido)=20\n",
        "# P(X<20) = cdf(20)\n",
        "stats.expon.cdf(x=20, scale=16)"
      ],
      "metadata": {
        "id": "d4q283am3Tif",
        "outputId": "85a5299a-491c-424a-cdd6-f5757ba384db",
        "colab": {
          "base_uri": "https://localhost:8080/"
        }
      },
      "execution_count": 62,
      "outputs": [
        {
          "output_type": "execute_result",
          "data": {
            "text/plain": [
              "0.7134952031398099"
            ]
          },
          "metadata": {},
          "execution_count": 62
        }
      ]
    },
    {
      "cell_type": "markdown",
      "source": [
        "# Ejercicio 8"
      ],
      "metadata": {
        "id": "wv2Zg1_aQmNz"
      }
    },
    {
      "cell_type": "markdown",
      "source": [
        "Supongamos que el número de imperfecciones en un alambre delgado de cobre sigue una distribución Poisson\n",
        "con una media de 2.3 imperfecciones por milímetro"
      ],
      "metadata": {
        "id": "CPZB83AdQ3B0"
      }
    },
    {
      "cell_type": "code",
      "source": [
        "#mu=2.3"
      ],
      "metadata": {
        "id": "McWpaCtBt43V"
      },
      "execution_count": null,
      "outputs": []
    },
    {
      "cell_type": "markdown",
      "source": [
        "(a) Determine la probabilidad de 2 imperfecciones en\n",
        "un milímetro de alambre."
      ],
      "metadata": {
        "id": "M2xQFd50Q9ep"
      }
    },
    {
      "cell_type": "code",
      "source": [
        "#K=2\n",
        "stats.poisson.pmf(k=2,mu=2.3)"
      ],
      "metadata": {
        "id": "TQLMmNZCt3WX",
        "outputId": "8ab29e4e-6476-4d87-a51d-0b9178f78285",
        "colab": {
          "base_uri": "https://localhost:8080/"
        }
      },
      "execution_count": 46,
      "outputs": [
        {
          "output_type": "execute_result",
          "data": {
            "text/plain": [
              "0.2651846416468159"
            ]
          },
          "metadata": {},
          "execution_count": 46
        }
      ]
    },
    {
      "cell_type": "markdown",
      "source": [
        " (b) Determine la probabilidad de 10 imperfecciones en 5 milímetros de alambre.\n"
      ],
      "metadata": {
        "id": "jlbz97OyRCVT"
      }
    },
    {
      "cell_type": "code",
      "source": [
        "#mu=2.3 en 1mm, en 5mm el nuevo mu=11.5\n",
        "#k=10\n",
        "stats.poisson.pmf(k=10,mu=11.5)"
      ],
      "metadata": {
        "id": "YrQXhp1zu2IO",
        "outputId": "477341cb-1a42-433c-a522-46612e519515",
        "colab": {
          "base_uri": "https://localhost:8080/"
        }
      },
      "execution_count": 53,
      "outputs": [
        {
          "output_type": "execute_result",
          "data": {
            "text/plain": [
              "0.11293507088124335"
            ]
          },
          "metadata": {},
          "execution_count": 53
        }
      ]
    },
    {
      "cell_type": "markdown",
      "source": [
        "(c) Determine la probabilidad de al menos una imperfección en 2mm de alambre."
      ],
      "metadata": {
        "id": "jA3z1nNZRI78"
      }
    },
    {
      "cell_type": "code",
      "source": [
        "#mu=2.3 en 1mm, en 2mm nuevo mu=4.6\n",
        "#P(x>=1)=1-P(X<=0)\n",
        "#       =1-cdf(0)\n",
        "1-stats.poisson.cdf(k=0,mu=4.6)"
      ],
      "metadata": {
        "id": "wPEoPgDGQpt0",
        "outputId": "681786d8-a04f-4d92-e727-e12f27c87a9a",
        "colab": {
          "base_uri": "https://localhost:8080/"
        }
      },
      "execution_count": 55,
      "outputs": [
        {
          "output_type": "execute_result",
          "data": {
            "text/plain": [
              "0.9899481642553665"
            ]
          },
          "metadata": {},
          "execution_count": 55
        }
      ]
    }
  ]
}
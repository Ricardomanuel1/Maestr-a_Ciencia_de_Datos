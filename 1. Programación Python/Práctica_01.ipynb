{
  "nbformat": 4,
  "nbformat_minor": 0,
  "metadata": {
    "colab": {
      "provenance": [],
      "authorship_tag": "ABX9TyNwPGBd9InpK22ab1WF8EHM",
      "include_colab_link": true
    },
    "kernelspec": {
      "name": "python3",
      "display_name": "Python 3"
    },
    "language_info": {
      "name": "python"
    }
  },
  "cells": [
    {
      "cell_type": "markdown",
      "metadata": {
        "id": "view-in-github",
        "colab_type": "text"
      },
      "source": [
        "<a href=\"https://colab.research.google.com/github/Ricardomanuel1/Maestr-a_Ciencia_de_Datos/blob/main/1.%20Programaci%C3%B3n%20Python/Pr%C3%A1ctica_01.ipynb\" target=\"_parent\"><img src=\"https://colab.research.google.com/assets/colab-badge.svg\" alt=\"Open In Colab\"/></a>"
      ]
    },
    {
      "cell_type": "markdown",
      "source": [
        "#PRACTICA N°1:  Programación para ciencia de datos\n",
        "##Alumno:Richard Quispe Méndez\n",
        "\n",
        "\n",
        "\n",
        "\n"
      ],
      "metadata": {
        "id": "6rgSDUbOBzAx"
      }
    },
    {
      "cell_type": "code",
      "execution_count": 1,
      "metadata": {
        "id": "5_r7ii9XoNhg"
      },
      "outputs": [],
      "source": [
        "A = [[6, 7, 8, 9, 10, 11, 12, 13],[2, 1, 7, 11, 8, 17, 17, 8],[6, 9, 3, 2, 19, 2, 11, 3],[14, 17, 0, 6,15, 8, 12, 16],[16, 5, 4, 2, 14, 11, 19, 8],\n",
        "     [12, 13, 3, 8, 16, 12, 10, 14],[8, 3, 15, 0, 19, 13, 1, 17],[16, 1, 17, 16, 15, 18, 0, 12]]"
      ]
    },
    {
      "cell_type": "markdown",
      "source": [
        "**PREGUNTA 1.- Cree la función IMPRIMIR(matriz) , la cual imprima la matriz (una fila por línea)**"
      ],
      "metadata": {
        "id": "TSLZSOZqoQkT"
      }
    },
    {
      "cell_type": "code",
      "source": [
        "def imprimir(matriz):\n",
        "  for i in range(len(matriz)):\n",
        "    for j in range(len(matriz[i])):\n",
        "      print(matriz[i][j],end=\" \")\n",
        "    print()"
      ],
      "metadata": {
        "id": "OvVyG0MOocqA"
      },
      "execution_count": 2,
      "outputs": []
    },
    {
      "cell_type": "code",
      "source": [
        "imprimir(A)"
      ],
      "metadata": {
        "colab": {
          "base_uri": "https://localhost:8080/"
        },
        "id": "tRuLkCWAsS4z",
        "outputId": "646ba69c-f8df-4ce0-bf97-1541b22120d6"
      },
      "execution_count": 3,
      "outputs": [
        {
          "output_type": "stream",
          "name": "stdout",
          "text": [
            "6 7 8 9 10 11 12 13 \n",
            "2 1 7 11 8 17 17 8 \n",
            "6 9 3 2 19 2 11 3 \n",
            "14 17 0 6 15 8 12 16 \n",
            "16 5 4 2 14 11 19 8 \n",
            "12 13 3 8 16 12 10 14 \n",
            "8 3 15 0 19 13 1 17 \n",
            "16 1 17 16 15 18 0 12 \n"
          ]
        }
      ]
    },
    {
      "cell_type": "markdown",
      "source": [
        "2. Cree la función CRECIENTE(matriz) la cual determine si existe en la matriz al menos\n",
        "una fila que cumpla la siguiente condición: todos los elementos en posiciones pares de\n",
        "dicha fila están ordenados de forma creciente (<,<=), de izquierda a derecha. En caso de\n",
        "que sea así retornar 1, en otro caso retornar 0 e imprimir por pantalla “Si” si retorna 1 y\n",
        "“NO” si retorna 0. Considerar al 0 un número par\n",
        "Ejemplos cuando cumple la condición y cuando no cumple la condición"
      ],
      "metadata": {
        "id": "tfJ0cmI7vJpY"
      }
    },
    {
      "cell_type": "code",
      "source": [
        "B=[[1,2,3,4,5],[1,2,3,4,5],[1,2,3,4,5],[1,1,1,1,1],[1,1,1,1,1]]\n",
        "C=[[5,3,3,4,5],[1,2,1,4,1],[1,2,1,4,5],[1,1,1,1,1],[1,1,1,1,1]]"
      ],
      "metadata": {
        "id": "-lyWyLzJ65Zr"
      },
      "execution_count": 28,
      "outputs": []
    },
    {
      "cell_type": "code",
      "source": [
        "def creciente(matriz):\n",
        "\n",
        "  listotal=[]\n",
        "\n",
        "  list=[]\n",
        "  for i in range(len(matriz)):\n",
        "\n",
        "    for j in range(len(matriz[i])):\n",
        "\n",
        "\n",
        "      if j%2==0:\n",
        "\n",
        "        list.append(matriz[i][j])\n",
        "\n",
        "    listotal.append(list)\n",
        "    list=[]\n",
        "  print(listotal)\n",
        "\n",
        "\n",
        "  for x in range(len(listotal)):\n",
        "    for y in range(len(listotal[x])):\n",
        "\n",
        "      if ((listotal[x][y])>(listotal[x][y+1])):\n",
        "        return (\"NO\")\n",
        "\n",
        "      return (\"SI\")\n",
        "\n",
        "creciente(C)"
      ],
      "metadata": {
        "colab": {
          "base_uri": "https://localhost:8080/",
          "height": 53
        },
        "id": "BeWHX3XRvONe",
        "outputId": "3758c9c4-04e5-4d67-e213-3c1cd658e798"
      },
      "execution_count": 44,
      "outputs": [
        {
          "output_type": "stream",
          "name": "stdout",
          "text": [
            "[[5, 3, 5], [1, 1, 1], [1, 1, 5], [1, 1, 1], [1, 1, 1]]\n"
          ]
        },
        {
          "output_type": "execute_result",
          "data": {
            "text/plain": [
              "'NO'"
            ],
            "application/vnd.google.colaboratory.intrinsic+json": {
              "type": "string"
            }
          },
          "metadata": {},
          "execution_count": 44
        }
      ]
    },
    {
      "cell_type": "markdown",
      "source": [
        "**3. Cree una función CANT_VECES(matriz) la cual calcule la cantidad de veces que\n",
        "aparecen en la matriz, se imprime en pantalla solo las veces impares. Ejemplo:**\n"
      ],
      "metadata": {
        "id": "ST7EtctT8z0G"
      }
    },
    {
      "cell_type": "code",
      "source": [
        "M=[[2,2,1,3,2],[3,4,2,2,1],[1,3,4,3,4],[2,3,2,4,2],[1,2,3,4,1]]"
      ],
      "metadata": {
        "id": "LbZ9cqqDF_Ow"
      },
      "execution_count": 42,
      "outputs": []
    },
    {
      "cell_type": "code",
      "source": [
        "def cant_veces(matriz,n):\n",
        "\n",
        "  total=0\n",
        "  for i in range(len(matriz)):\n",
        "\n",
        "    contador=0\n",
        "\n",
        "    for j in range(len(matriz[i])):\n",
        "      if (n==matriz[i][j]):\n",
        "        contador=contador+1\n",
        "    total=total+contador\n",
        "  print(f\"El número {n} aparece {total} veces\")\n",
        "\n",
        "cant_veces(M,1)"
      ],
      "metadata": {
        "colab": {
          "base_uri": "https://localhost:8080/"
        },
        "id": "0OYlprca84gS",
        "outputId": "2485c172-976c-4062-8a8a-30a9184566ce"
      },
      "execution_count": 108,
      "outputs": [
        {
          "output_type": "stream",
          "name": "stdout",
          "text": [
            "El número 1 aparece 5 veces\n"
          ]
        }
      ]
    },
    {
      "cell_type": "markdown",
      "source": [
        "**4. Cree una función LISTAR(matriz) la cual imprima los valores de la matriz (sin repetirse),\n",
        "(con la imagen de la matriz anterior se tiene:)\n",
        "listar valores de M:2,1,3,4**"
      ],
      "metadata": {
        "id": "nyib5ga-QErE"
      }
    },
    {
      "cell_type": "code",
      "source": [
        "M=[[2,2,1,3,2],[3,4,2,2,1],[1,3,4,3,4],[2,3,2,4,2],[1,2,3,4,1]]\n",
        "imprimir(M)"
      ],
      "metadata": {
        "colab": {
          "base_uri": "https://localhost:8080/"
        },
        "id": "PQAnMJhLQLbo",
        "outputId": "f7573f44-5aad-4ba7-9739-68856c1dff59"
      },
      "execution_count": 209,
      "outputs": [
        {
          "output_type": "stream",
          "name": "stdout",
          "text": [
            "2 2 1 3 2 \n",
            "3 4 2 2 1 \n",
            "1 3 4 3 4 \n",
            "2 3 2 4 2 \n",
            "1 2 3 4 1 \n"
          ]
        }
      ]
    },
    {
      "cell_type": "code",
      "source": [
        "def listar(matriz):\n",
        "  list1=[]\n",
        "\n",
        "  for i in range(len(matriz)):\n",
        "\n",
        "    for j in range(len(matriz[i])):\n",
        "\n",
        "      list1.append(matriz[i][j])\n",
        "  #print(list1)\n",
        "\n",
        "  list2=[]\n",
        "  list2=list1[0:1]\n",
        "  for i in range(len(list1)):\n",
        "    if list1[i] not in list2:\n",
        "      list2.append(list1[i])\n",
        "  print(list2)\n",
        "\n",
        "listar(M)"
      ],
      "metadata": {
        "colab": {
          "base_uri": "https://localhost:8080/"
        },
        "id": "FVoUuxflQaSC",
        "outputId": "3b7a7e67-382e-4a34-dfa2-47bae0064a56"
      },
      "execution_count": 96,
      "outputs": [
        {
          "output_type": "stream",
          "name": "stdout",
          "text": [
            "[2, 1, 3, 4]\n"
          ]
        }
      ]
    },
    {
      "cell_type": "markdown",
      "source": [
        "**5. Indicar la suma de los valores de la matriz en donde la suma de sus posiciones (x+y) estén\n",
        "en el intervalo de 6 a 13**"
      ],
      "metadata": {
        "id": "rz6PX2SdQ3ui"
      }
    },
    {
      "cell_type": "code",
      "source": [
        "M=[[2,2,1,3,2],[3,4,2,2,1],[1,3,4,3,4],[2,3,2,4,2],[1,2,3,4,1]]\n",
        "imprimir(M)"
      ],
      "metadata": {
        "colab": {
          "base_uri": "https://localhost:8080/"
        },
        "id": "QsVLjjw-Q7yM",
        "outputId": "ddf91460-56b0-4809-d9dd-f6d50797b0f5"
      },
      "execution_count": 97,
      "outputs": [
        {
          "output_type": "stream",
          "name": "stdout",
          "text": [
            "2 2 1 3 2 \n",
            "3 4 2 2 1 \n",
            "1 3 4 3 4 \n",
            "2 3 2 4 2 \n",
            "1 2 3 4 1 \n"
          ]
        }
      ]
    },
    {
      "cell_type": "code",
      "source": [
        "def sum(matriz,n1,n2):\n",
        "  suma=0\n",
        "  for i in range(len(matriz)):\n",
        "    for j in range(len(matriz[i])):\n",
        "      if ((i+j)>n1 and (i+j)<n2):\n",
        "        suma=suma+matriz[i][j]\n",
        "  print(suma)\n",
        "\n",
        "sum(M,6,13)"
      ],
      "metadata": {
        "colab": {
          "base_uri": "https://localhost:8080/"
        },
        "id": "xFrRdPaxdPpf",
        "outputId": "e1c74766-e4e4-4851-a38a-59fff5c39366"
      },
      "execution_count": 103,
      "outputs": [
        {
          "output_type": "stream",
          "name": "stdout",
          "text": [
            "7\n"
          ]
        }
      ]
    }
  ]
}
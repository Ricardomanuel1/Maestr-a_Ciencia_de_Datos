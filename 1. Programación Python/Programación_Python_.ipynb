{
  "nbformat": 4,
  "nbformat_minor": 0,
  "metadata": {
    "colab": {
      "provenance": [],
      "authorship_tag": "ABX9TyNay5PsxnwdO0fcmZXBoSsd",
      "include_colab_link": true
    },
    "kernelspec": {
      "name": "python3",
      "display_name": "Python 3"
    },
    "language_info": {
      "name": "python"
    }
  },
  "cells": [
    {
      "cell_type": "markdown",
      "metadata": {
        "id": "view-in-github",
        "colab_type": "text"
      },
      "source": [
        "<a href=\"https://colab.research.google.com/github/Ricardomanuel1/Maestr-a_Ciencia_de_Datos/blob/main/1.%20Programaci%C3%B3n%20Python/Programaci%C3%B3n_Python_.ipynb\" target=\"_parent\"><img src=\"https://colab.research.google.com/assets/colab-badge.svg\" alt=\"Open In Colab\"/></a>"
      ]
    },
    {
      "cell_type": "code",
      "execution_count": null,
      "metadata": {
        "colab": {
          "base_uri": "https://localhost:8080/",
          "height": 145
        },
        "id": "3acVqYdaakoP",
        "outputId": "06002dd6-0d24-4ff9-b491-a8b424c86c33"
      },
      "outputs": [
        {
          "output_type": "error",
          "ename": "IndentationError",
          "evalue": "ignored",
          "traceback": [
            "\u001b[0;36m  File \u001b[0;32m\"<ipython-input-3-d4cd4ea9e4a1>\"\u001b[0;36m, line \u001b[0;32m5\u001b[0m\n\u001b[0;31m    print(\"Salí del if\")\u001b[0m\n\u001b[0m    ^\u001b[0m\n\u001b[0;31mIndentationError\u001b[0m\u001b[0;31m:\u001b[0m expected an indented block after 'else' statement on line 4\n"
          ]
        }
      ],
      "source": [
        "a=5\n",
        "if a>0:\n",
        "  print(\"Estoy en el if\")\n",
        "else:\n",
        "print(\"Salí del if\")"
      ]
    },
    {
      "cell_type": "code",
      "source": [
        "a=8\n",
        "if a<=10:\n",
        "  if a>=0:\n",
        "    print(\"Esta en el intervalo\")"
      ],
      "metadata": {
        "colab": {
          "base_uri": "https://localhost:8080/"
        },
        "id": "z5swfdGmfV_3",
        "outputId": "d655679b-747f-4d4f-f362-2f2a6334f0c7"
      },
      "execution_count": null,
      "outputs": [
        {
          "output_type": "stream",
          "name": "stdout",
          "text": [
            "Esta en el intervalo\n"
          ]
        }
      ]
    },
    {
      "cell_type": "code",
      "source": [
        "if (a<=10) and (a>=0):\n",
        "  print(\"Esta en el intervalo\")"
      ],
      "metadata": {
        "colab": {
          "base_uri": "https://localhost:8080/"
        },
        "id": "C4wbv-hxfpiV",
        "outputId": "a1721f12-0f94-4b6f-eb91-1bb1458f2d72"
      },
      "execution_count": null,
      "outputs": [
        {
          "output_type": "stream",
          "name": "stdout",
          "text": [
            "Esta en el intervalo\n"
          ]
        }
      ]
    },
    {
      "cell_type": "code",
      "source": [
        "#maximo de 3 numeros\n",
        "a=10\n",
        "b=3\n",
        "c=4\n",
        "\n",
        "if a>b and a>c:\n",
        "  print(f\"{a} es el maximo\")\n",
        "else:\n",
        "  if b>a and b>c:\n",
        "    print(f\"{b} es el maximo\")\n",
        "  else:\n",
        "    print(f\"{c} es el maximo\")\n",
        "\n"
      ],
      "metadata": {
        "colab": {
          "base_uri": "https://localhost:8080/"
        },
        "id": "fod98E1sgHXB",
        "outputId": "d9b01f53-b8cd-4049-911e-558a2c96d1d5"
      },
      "execution_count": null,
      "outputs": [
        {
          "output_type": "stream",
          "name": "stdout",
          "text": [
            "10 es el maximo\n"
          ]
        }
      ]
    },
    {
      "cell_type": "code",
      "source": [
        "\n",
        "if a>b and a>c:\n",
        "  print(f\"{a} es el maximo\")\n",
        "elif b>a and b>c:\n",
        "  print(f\"{b} es el maximo\")\n",
        "else:\n",
        "    print(f\"{c} es el maximo\")"
      ],
      "metadata": {
        "colab": {
          "base_uri": "https://localhost:8080/"
        },
        "id": "fd1E2Morjgop",
        "outputId": "24905a66-297b-411f-f433-8628e1bfc6e3"
      },
      "execution_count": null,
      "outputs": [
        {
          "output_type": "stream",
          "name": "stdout",
          "text": [
            "30 es el maximo\n"
          ]
        }
      ]
    },
    {
      "cell_type": "code",
      "source": [
        "print(\"hola mundo\")"
      ],
      "metadata": {
        "id": "BH6VA17EigH7"
      },
      "execution_count": null,
      "outputs": []
    },
    {
      "cell_type": "code",
      "source": [
        "i=1#iniciador\n",
        "while i<=10:\n",
        "  #print(i<=10)\n",
        "  print(\"hola mundo\")\n",
        "  i=i+1 #tambien podria ir i+=1 .....incremento\n",
        "  #print(i)"
      ],
      "metadata": {
        "colab": {
          "base_uri": "https://localhost:8080/"
        },
        "id": "jOhEVU04lNJo",
        "outputId": "ba2751a3-d48d-4c9f-e45b-3cfe23bd1bfc"
      },
      "execution_count": null,
      "outputs": [
        {
          "output_type": "stream",
          "name": "stdout",
          "text": [
            "hola mundo\n",
            "hola mundo\n",
            "hola mundo\n",
            "hola mundo\n",
            "hola mundo\n",
            "hola mundo\n",
            "hola mundo\n",
            "hola mundo\n",
            "hola mundo\n",
            "hola mundo\n"
          ]
        }
      ]
    },
    {
      "cell_type": "code",
      "source": [
        "i=1\n",
        "while i<=10:\n",
        "  print(i)\n",
        "  i+=1"
      ],
      "metadata": {
        "colab": {
          "base_uri": "https://localhost:8080/"
        },
        "id": "SdWn-F_mnBNz",
        "outputId": "cac716d4-2474-420f-ae31-5b694a722d7f"
      },
      "execution_count": null,
      "outputs": [
        {
          "output_type": "stream",
          "name": "stdout",
          "text": [
            "1\n",
            "2\n",
            "3\n",
            "4\n",
            "5\n",
            "6\n",
            "7\n",
            "8\n",
            "9\n",
            "10\n"
          ]
        }
      ]
    },
    {
      "cell_type": "code",
      "source": [
        "i=10\n",
        "while i>0:\n",
        "  print(i)\n",
        "  i=i-1\n",
        "print(\"despegue\")"
      ],
      "metadata": {
        "colab": {
          "base_uri": "https://localhost:8080/"
        },
        "id": "W0wObUGlnyRI",
        "outputId": "18828c1a-d4c2-4d47-b78b-936a3a6cf322"
      },
      "execution_count": null,
      "outputs": [
        {
          "output_type": "stream",
          "name": "stdout",
          "text": [
            "10\n",
            "9\n",
            "8\n",
            "7\n",
            "6\n",
            "5\n",
            "4\n",
            "3\n",
            "2\n",
            "1\n",
            "despegue\n"
          ]
        }
      ]
    },
    {
      "cell_type": "code",
      "source": [
        "n=10\n",
        "while n!=1:\n",
        "  print(n)\n",
        "  if n%2==0:\n",
        "    n=n/2\n",
        "  else:\n",
        "    n=n*3+1"
      ],
      "metadata": {
        "colab": {
          "base_uri": "https://localhost:8080/"
        },
        "id": "P87F0jDaoPLh",
        "outputId": "862a0035-86dd-498c-9756-33220e07be65"
      },
      "execution_count": null,
      "outputs": [
        {
          "output_type": "stream",
          "name": "stdout",
          "text": [
            "10\n",
            "5.0\n",
            "16.0\n",
            "8.0\n",
            "4.0\n",
            "2.0\n"
          ]
        }
      ]
    },
    {
      "cell_type": "code",
      "source": [
        "#"
      ],
      "metadata": {
        "id": "igB8b6J3p7Jz"
      },
      "execution_count": null,
      "outputs": []
    },
    {
      "cell_type": "code",
      "source": [
        "#tabla del 2\n",
        "i=1\n",
        "while i<=12:\n",
        "  print(f\"2x{i} =\",2*i)\n",
        "  i+=1\n"
      ],
      "metadata": {
        "colab": {
          "base_uri": "https://localhost:8080/"
        },
        "id": "c4cDgVUDpRzp",
        "outputId": "90083807-5dcd-4c1d-e944-0e4fcaf30031"
      },
      "execution_count": null,
      "outputs": [
        {
          "output_type": "stream",
          "name": "stdout",
          "text": [
            "2x1 = 2\n",
            "2x2 = 4\n",
            "2x3 = 6\n",
            "2x4 = 8\n",
            "2x5 = 10\n",
            "2x6 = 12\n",
            "2x7 = 14\n",
            "2x8 = 16\n",
            "2x9 = 18\n",
            "2x10 = 20\n",
            "2x11 = 22\n",
            "2x12 = 24\n"
          ]
        }
      ]
    },
    {
      "cell_type": "code",
      "source": [
        "\n"
      ],
      "metadata": {
        "id": "RRaf6AQ5rKUZ"
      },
      "execution_count": null,
      "outputs": []
    },
    {
      "cell_type": "markdown",
      "source": [
        "Escriba un programa que imprima los cuadrods de los numero enteros del 1 al 10"
      ],
      "metadata": {
        "id": "Id6A43GprTB0"
      }
    },
    {
      "cell_type": "code",
      "source": [
        "i=1\n",
        "while i<=10:\n",
        "  print(f\" {i} al cuadro es\",i**2)\n",
        "  i+=1"
      ],
      "metadata": {
        "colab": {
          "base_uri": "https://localhost:8080/"
        },
        "id": "GsDk2HU6rjEc",
        "outputId": "84262393-7914-425d-e565-c7a0678f265a"
      },
      "execution_count": null,
      "outputs": [
        {
          "output_type": "stream",
          "name": "stdout",
          "text": [
            " 1 al cuadro es 1\n",
            " 2 al cuadro es 4\n",
            " 3 al cuadro es 9\n",
            " 4 al cuadro es 16\n",
            " 5 al cuadro es 25\n",
            " 6 al cuadro es 36\n",
            " 7 al cuadro es 49\n",
            " 8 al cuadro es 64\n",
            " 9 al cuadro es 81\n",
            " 10 al cuadro es 100\n"
          ]
        }
      ]
    },
    {
      "cell_type": "code",
      "source": [
        "i=1\n",
        "while i<=10:\n",
        "  print(f\" {i} al cuadro es\",i**2)\n",
        "  i+=1"
      ],
      "metadata": {
        "id": "qlq0EG87sP16"
      },
      "execution_count": null,
      "outputs": []
    },
    {
      "cell_type": "code",
      "source": [
        "a=3\n",
        "b=2\n",
        "c=\"hola\"\n",
        "print(a+b)\n",
        "print(a+c)\n",
        "print(c+c)\n",
        "print(b*c)\n",
        "print(c*c)\n",
        "print(c*b)\n",
        "print(\"a\"*c)\n",
        "print(c*a+b)\n",
        "print(c*(a+b))"
      ],
      "metadata": {
        "colab": {
          "base_uri": "https://localhost:8080/",
          "height": 274
        },
        "id": "HK23t-RVs8W2",
        "outputId": "ef46c726-7a5a-4571-d3be-5cf6b06851c0"
      },
      "execution_count": null,
      "outputs": [
        {
          "output_type": "stream",
          "name": "stdout",
          "text": [
            "5\n"
          ]
        },
        {
          "output_type": "error",
          "ename": "TypeError",
          "evalue": "ignored",
          "traceback": [
            "\u001b[0;31m---------------------------------------------------------------------------\u001b[0m",
            "\u001b[0;31mTypeError\u001b[0m                                 Traceback (most recent call last)",
            "\u001b[0;32m<ipython-input-58-a252567b329a>\u001b[0m in \u001b[0;36m<cell line: 5>\u001b[0;34m()\u001b[0m\n\u001b[1;32m      3\u001b[0m \u001b[0mc\u001b[0m\u001b[0;34m=\u001b[0m\u001b[0;34m\"hola\"\u001b[0m\u001b[0;34m\u001b[0m\u001b[0;34m\u001b[0m\u001b[0m\n\u001b[1;32m      4\u001b[0m \u001b[0mprint\u001b[0m\u001b[0;34m(\u001b[0m\u001b[0ma\u001b[0m\u001b[0;34m+\u001b[0m\u001b[0mb\u001b[0m\u001b[0;34m)\u001b[0m\u001b[0;34m\u001b[0m\u001b[0;34m\u001b[0m\u001b[0m\n\u001b[0;32m----> 5\u001b[0;31m \u001b[0mprint\u001b[0m\u001b[0;34m(\u001b[0m\u001b[0ma\u001b[0m\u001b[0;34m+\u001b[0m\u001b[0mc\u001b[0m\u001b[0;34m)\u001b[0m\u001b[0;34m\u001b[0m\u001b[0;34m\u001b[0m\u001b[0m\n\u001b[0m\u001b[1;32m      6\u001b[0m \u001b[0mprint\u001b[0m\u001b[0;34m(\u001b[0m\u001b[0mc\u001b[0m\u001b[0;34m+\u001b[0m\u001b[0mc\u001b[0m\u001b[0;34m)\u001b[0m\u001b[0;34m\u001b[0m\u001b[0;34m\u001b[0m\u001b[0m\n\u001b[1;32m      7\u001b[0m \u001b[0mprint\u001b[0m\u001b[0;34m(\u001b[0m\u001b[0mb\u001b[0m\u001b[0;34m*\u001b[0m\u001b[0mc\u001b[0m\u001b[0;34m)\u001b[0m\u001b[0;34m\u001b[0m\u001b[0;34m\u001b[0m\u001b[0m\n",
            "\u001b[0;31mTypeError\u001b[0m: unsupported operand type(s) for +: 'int' and 'str'"
          ]
        }
      ]
    },
    {
      "cell_type": "code",
      "source": [
        "i=1\n",
        "while i<=10:\n",
        "  if i%2==0:\n",
        "    print(f\" {i} al cuadro es\",i**2)\n",
        "  i+=1"
      ],
      "metadata": {
        "colab": {
          "base_uri": "https://localhost:8080/"
        },
        "id": "mR_voxCytv9I",
        "outputId": "013717ce-fffd-404d-e59c-747f0280d2a9"
      },
      "execution_count": null,
      "outputs": [
        {
          "output_type": "stream",
          "name": "stdout",
          "text": [
            " 2 al cuadro es 4\n",
            " 4 al cuadro es 16\n",
            " 6 al cuadro es 36\n",
            " 8 al cuadro es 64\n",
            " 10 al cuadro es 100\n"
          ]
        }
      ]
    },
    {
      "cell_type": "code",
      "source": [
        "print(i,\"*\"2)"
      ],
      "metadata": {
        "id": "gdqzDvnqt-7-"
      },
      "execution_count": null,
      "outputs": []
    },
    {
      "cell_type": "code",
      "source": [
        "for i in range(6):#inicia siempre en cero pero en rango es menos 1\n",
        "  print(i)"
      ],
      "metadata": {
        "colab": {
          "base_uri": "https://localhost:8080/"
        },
        "id": "KC2YKYPCuozW",
        "outputId": "2b545ef8-a8fc-464a-8de3-d6b60600f03a"
      },
      "execution_count": null,
      "outputs": [
        {
          "output_type": "stream",
          "name": "stdout",
          "text": [
            "0\n",
            "1\n",
            "2\n",
            "3\n",
            "4\n",
            "5\n"
          ]
        }
      ]
    },
    {
      "cell_type": "code",
      "source": [
        "for i in range(1,6,2):#inicio, fin, incremento\n",
        "  print(i)"
      ],
      "metadata": {
        "colab": {
          "base_uri": "https://localhost:8080/"
        },
        "id": "SRtC2CzAv6SW",
        "outputId": "5f833a8a-df32-48e9-ba8d-76ed446dd849"
      },
      "execution_count": null,
      "outputs": [
        {
          "output_type": "stream",
          "name": "stdout",
          "text": [
            "1\n",
            "3\n",
            "5\n"
          ]
        }
      ]
    },
    {
      "cell_type": "code",
      "source": [
        "for i in range(1,12,2):#inicio, fin, incremento\n",
        "  print(i)"
      ],
      "metadata": {
        "colab": {
          "base_uri": "https://localhost:8080/"
        },
        "id": "KqhsOwZKwTAe",
        "outputId": "c2675da2-5add-45a3-808b-d264ff420819"
      },
      "execution_count": null,
      "outputs": [
        {
          "output_type": "stream",
          "name": "stdout",
          "text": [
            "1\n",
            "3\n",
            "5\n",
            "7\n",
            "9\n",
            "11\n"
          ]
        }
      ]
    },
    {
      "cell_type": "code",
      "source": [
        "for i in range(5,0,-1):\n",
        "  print(i)"
      ],
      "metadata": {
        "colab": {
          "base_uri": "https://localhost:8080/"
        },
        "id": "5uXjRHE3wnpj",
        "outputId": "8116428f-2321-47a9-d2d2-0dde16666e08"
      },
      "execution_count": null,
      "outputs": [
        {
          "output_type": "stream",
          "name": "stdout",
          "text": [
            "5\n",
            "4\n",
            "3\n",
            "2\n",
            "1\n"
          ]
        }
      ]
    },
    {
      "cell_type": "markdown",
      "source": [
        "Escriba un programa que imprima los primeros 6 múltiplos de 2"
      ],
      "metadata": {
        "id": "1fjM6Dslzo6Z"
      }
    },
    {
      "cell_type": "code",
      "source": [
        "for i in range(20):\n",
        "  if i%2==0:\n",
        "    print(i)"
      ],
      "metadata": {
        "colab": {
          "base_uri": "https://localhost:8080/"
        },
        "id": "c12zoZ74ztAw",
        "outputId": "36d06063-e0d0-4093-a29f-a9f119d9c3bc"
      },
      "execution_count": null,
      "outputs": [
        {
          "output_type": "stream",
          "name": "stdout",
          "text": [
            "0\n",
            "2\n",
            "4\n",
            "6\n",
            "8\n",
            "10\n",
            "12\n",
            "14\n",
            "16\n",
            "18\n"
          ]
        }
      ]
    },
    {
      "cell_type": "markdown",
      "source": [
        "Escriba un programa que imprima la tabla de los primeros 6 múltiplos de los primeros 10 números enteros positivos\n",
        "1:\n",
        "2:2 4 6 8 10 12\n",
        "3:3 6 9 12 15 18\n",
        "4: 4 8 12 16 20 24"
      ],
      "metadata": {
        "id": "Mm07Zv9PzIQW"
      }
    },
    {
      "cell_type": "code",
      "source": [
        "a=1\n",
        "while a<=10:\n",
        " i=1\n",
        "  while i<=6:\n",
        "   print(i*a,end=\"\\t\")\n",
        "    i=i+1\n",
        " print(\"\\n\")\n",
        "a=a+1"
      ],
      "metadata": {
        "colab": {
          "base_uri": "https://localhost:8080/",
          "height": 145
        },
        "id": "KcZiFTb3zjod",
        "outputId": "2421b0b8-1633-4ba4-ecf8-ff2451efbcca"
      },
      "execution_count": null,
      "outputs": [
        {
          "output_type": "error",
          "ename": "IndentationError",
          "evalue": "ignored",
          "traceback": [
            "\u001b[0;36m  File \u001b[0;32m\"<ipython-input-78-299ee6a7031c>\"\u001b[0;36m, line \u001b[0;32m4\u001b[0m\n\u001b[0;31m    while i<=6:\u001b[0m\n\u001b[0m    ^\u001b[0m\n\u001b[0;31mIndentationError\u001b[0m\u001b[0;31m:\u001b[0m unexpected indent\n"
          ]
        }
      ]
    },
    {
      "cell_type": "code",
      "source": [
        "for x in range(1,11):\n",
        "  for y in range(1,7):\n",
        "    print(x*y,end=\"\\t\")\n",
        "  print(\"\\n\")"
      ],
      "metadata": {
        "colab": {
          "base_uri": "https://localhost:8080/"
        },
        "id": "3qHjAZmc1PBO",
        "outputId": "4911fba5-62be-4d64-d038-f2e3b0b3656f"
      },
      "execution_count": null,
      "outputs": [
        {
          "output_type": "stream",
          "name": "stdout",
          "text": [
            "1\t2\t3\t4\t5\t6\t\n",
            "\n",
            "2\t4\t6\t8\t10\t12\t\n",
            "\n",
            "3\t6\t9\t12\t15\t18\t\n",
            "\n",
            "4\t8\t12\t16\t20\t24\t\n",
            "\n",
            "5\t10\t15\t20\t25\t30\t\n",
            "\n",
            "6\t12\t18\t24\t30\t36\t\n",
            "\n",
            "7\t14\t21\t28\t35\t42\t\n",
            "\n",
            "8\t16\t24\t32\t40\t48\t\n",
            "\n",
            "9\t18\t27\t36\t45\t54\t\n",
            "\n",
            "10\t20\t30\t40\t50\t60\t\n",
            "\n"
          ]
        }
      ]
    },
    {
      "cell_type": "markdown",
      "source": [],
      "metadata": {
        "id": "a4lVPOJj1glp"
      }
    },
    {
      "cell_type": "code",
      "source": [
        "fruta=\"fresa\"\n",
        "for car in fruta:\n",
        "  print(car)"
      ],
      "metadata": {
        "colab": {
          "base_uri": "https://localhost:8080/"
        },
        "id": "veO7cIG27LK5",
        "outputId": "6bc2124f-85b6-4cc6-aec1-1cfc3c5c1e25"
      },
      "execution_count": null,
      "outputs": [
        {
          "output_type": "stream",
          "name": "stdout",
          "text": [
            "f\n",
            "r\n",
            "e\n",
            "s\n",
            "a\n"
          ]
        }
      ]
    },
    {
      "cell_type": "markdown",
      "source": [
        "segmentos"
      ],
      "metadata": {
        "id": "lquHM2Fm7aHN"
      }
    },
    {
      "cell_type": "code",
      "source": [
        "cadena=\"PROGRAMACION DE VIDEOJUEGOS\"\n",
        "print(len(cadena))\n",
        "segmento=cadena[1:4]\n",
        "print(segmento)"
      ],
      "metadata": {
        "colab": {
          "base_uri": "https://localhost:8080/"
        },
        "id": "OmYLuvdT7bf9",
        "outputId": "7afdf36b-918e-4b62-fb05-191a961b7550"
      },
      "execution_count": null,
      "outputs": [
        {
          "output_type": "stream",
          "name": "stdout",
          "text": [
            "27\n",
            "ROG\n"
          ]
        }
      ]
    },
    {
      "cell_type": "code",
      "source": [
        "lista=[1,[1,2],\"curso\",{a:b}]"
      ],
      "metadata": {
        "id": "V4yeYZQN-l7_"
      },
      "execution_count": null,
      "outputs": []
    },
    {
      "cell_type": "markdown",
      "source": [
        "EJERCICIOS"
      ],
      "metadata": {
        "id": "xU4DLpL9jV7T"
      }
    },
    {
      "cell_type": "code",
      "source": [
        "lista=[1,2,3,4,5,6,7,8]\n",
        "\n",
        "for i in lista:\n",
        "  if i%2==0:\n",
        "    print(i)"
      ],
      "metadata": {
        "colab": {
          "base_uri": "https://localhost:8080/"
        },
        "id": "nhaQhwrYjYOA",
        "outputId": "2bae6779-ea29-44d1-d52d-6a27c4e55eb8"
      },
      "execution_count": null,
      "outputs": [
        {
          "output_type": "stream",
          "name": "stdout",
          "text": [
            "2\n",
            "4\n",
            "6\n",
            "8\n"
          ]
        }
      ]
    },
    {
      "cell_type": "markdown",
      "source": [
        "EJERCICIO 2"
      ],
      "metadata": {
        "id": "89gzi8yCqFSJ"
      }
    },
    {
      "cell_type": "code",
      "source": [
        "suma=0\n",
        "for i in lista:\n",
        "  suma=suma+i\n",
        "print(suma)"
      ],
      "metadata": {
        "colab": {
          "base_uri": "https://localhost:8080/"
        },
        "id": "n7e_uwvzkw2X",
        "outputId": "126efa32-1a52-4d1b-b719-ffa8ba7c215e"
      },
      "execution_count": null,
      "outputs": [
        {
          "output_type": "stream",
          "name": "stdout",
          "text": [
            "36\n"
          ]
        }
      ]
    },
    {
      "cell_type": "code",
      "source": [
        "sum=0\n",
        "for i in range(2,9,2):\n",
        "  sum=sum+i\n",
        "print(sum)"
      ],
      "metadata": {
        "colab": {
          "base_uri": "https://localhost:8080/"
        },
        "id": "eIQhz6cKljyG",
        "outputId": "ab95da05-bd07-41c3-fa46-ae75d8ac88cf"
      },
      "execution_count": null,
      "outputs": [
        {
          "output_type": "stream",
          "name": "stdout",
          "text": [
            "20\n"
          ]
        }
      ]
    },
    {
      "cell_type": "markdown",
      "source": [
        "EJERCICIO 3."
      ],
      "metadata": {
        "id": "rowOnfX6qIsC"
      }
    },
    {
      "cell_type": "code",
      "source": [
        "A=[[1,2,3,4],[5,6,7,8],[9,10,11,12]]"
      ],
      "metadata": {
        "id": "uSrMcXeXqBJ6"
      },
      "execution_count": null,
      "outputs": []
    },
    {
      "cell_type": "code",
      "source": [
        "#Imprimir en pantlla que elemento está en la posición 1,2\n",
        "print(A[1][2])"
      ],
      "metadata": {
        "colab": {
          "base_uri": "https://localhost:8080/"
        },
        "id": "GFlIfr1ZqlT0",
        "outputId": "dbdde2e5-babe-4c3c-d3c6-c2fe23536281"
      },
      "execution_count": null,
      "outputs": [
        {
          "output_type": "stream",
          "name": "stdout",
          "text": [
            "7\n"
          ]
        }
      ]
    },
    {
      "cell_type": "code",
      "source": [
        "#Imprimir los elementos que tienen los mismos índices (posiciones)\n",
        "print(A[0][0])\n",
        "print(A[1][1])\n",
        "print(A[2][2])"
      ],
      "metadata": {
        "colab": {
          "base_uri": "https://localhost:8080/"
        },
        "id": "MpWHF3G9rMTE",
        "outputId": "08f14226-24f7-4611-da59-b6ec8481a31d"
      },
      "execution_count": null,
      "outputs": [
        {
          "output_type": "stream",
          "name": "stdout",
          "text": [
            "1\n",
            "6\n",
            "11\n"
          ]
        }
      ]
    },
    {
      "cell_type": "markdown",
      "source": [
        "Ejercicio 4. Crear un programa que lea por teclado una cadena, y muestre la siguiente información:"
      ],
      "metadata": {
        "id": "L9EVSaESrv_l"
      }
    },
    {
      "cell_type": "code",
      "source": [
        "cadena=\"letras\"\n",
        "longitud=len(cadena)"
      ],
      "metadata": {
        "id": "mHzitjavsMh6"
      },
      "execution_count": null,
      "outputs": []
    },
    {
      "cell_type": "code",
      "source": [
        "#Imprima los dos primeros caracteres\n",
        "print(cadena[0:2])"
      ],
      "metadata": {
        "colab": {
          "base_uri": "https://localhost:8080/"
        },
        "id": "5xv70MRgsEi9",
        "outputId": "67364e4f-d8bc-4d28-dd88-6d1dec66b736"
      },
      "execution_count": null,
      "outputs": [
        {
          "output_type": "stream",
          "name": "stdout",
          "text": [
            "le\n"
          ]
        }
      ]
    },
    {
      "cell_type": "code",
      "source": [
        "#Imprima los 03 últimos caracteres\n",
        "print(cadena[len(cadena)-3:len(cadena)])"
      ],
      "metadata": {
        "colab": {
          "base_uri": "https://localhost:8080/"
        },
        "id": "bQ1RreJQsex6",
        "outputId": "f9f718a1-2371-44ae-ce8b-641b90207b48"
      },
      "execution_count": null,
      "outputs": [
        {
          "output_type": "stream",
          "name": "stdout",
          "text": [
            "ras\n"
          ]
        }
      ]
    },
    {
      "cell_type": "code",
      "source": [
        "#Imprima dicha cadena cada dos caracteres\n",
        "\n",
        "for i in range(len(cadena)):\n",
        "  if i%2==0:\n",
        "    print(cadena[i],end=\"\\t\")"
      ],
      "metadata": {
        "colab": {
          "base_uri": "https://localhost:8080/"
        },
        "id": "DOc8EVa6tkH_",
        "outputId": "46a7348e-4847-468f-9d2a-724fabfe5bfa"
      },
      "execution_count": null,
      "outputs": [
        {
          "output_type": "stream",
          "name": "stdout",
          "text": [
            "l\tt\ta\t"
          ]
        }
      ]
    },
    {
      "cell_type": "code",
      "source": [
        "for i in range(len(cadena),-1,-1):\n",
        "  print(cadena[i],end=\" \")"
      ],
      "metadata": {
        "colab": {
          "base_uri": "https://localhost:8080/",
          "height": 200
        },
        "id": "iF7xzj6-217T",
        "outputId": "75cc859f-b089-4e64-9412-0ce984988976"
      },
      "execution_count": null,
      "outputs": [
        {
          "output_type": "error",
          "ename": "IndexError",
          "evalue": "ignored",
          "traceback": [
            "\u001b[0;31m---------------------------------------------------------------------------\u001b[0m",
            "\u001b[0;31mIndexError\u001b[0m                                Traceback (most recent call last)",
            "\u001b[0;32m<ipython-input-140-0512791964dc>\u001b[0m in \u001b[0;36m<cell line: 1>\u001b[0;34m()\u001b[0m\n\u001b[1;32m      1\u001b[0m \u001b[0;32mfor\u001b[0m \u001b[0mi\u001b[0m \u001b[0;32min\u001b[0m \u001b[0mrange\u001b[0m\u001b[0;34m(\u001b[0m\u001b[0mlen\u001b[0m\u001b[0;34m(\u001b[0m\u001b[0mcadena\u001b[0m\u001b[0;34m)\u001b[0m\u001b[0;34m,\u001b[0m\u001b[0;34m-\u001b[0m\u001b[0;36m1\u001b[0m\u001b[0;34m,\u001b[0m\u001b[0;34m-\u001b[0m\u001b[0;36m1\u001b[0m\u001b[0;34m)\u001b[0m\u001b[0;34m:\u001b[0m\u001b[0;34m\u001b[0m\u001b[0;34m\u001b[0m\u001b[0m\n\u001b[0;32m----> 2\u001b[0;31m   \u001b[0mprint\u001b[0m\u001b[0;34m(\u001b[0m\u001b[0mcadena\u001b[0m\u001b[0;34m[\u001b[0m\u001b[0mi\u001b[0m\u001b[0;34m]\u001b[0m\u001b[0;34m,\u001b[0m\u001b[0mend\u001b[0m\u001b[0;34m=\u001b[0m\u001b[0;34m\" \"\u001b[0m\u001b[0;34m)\u001b[0m\u001b[0;34m\u001b[0m\u001b[0;34m\u001b[0m\u001b[0m\n\u001b[0m",
            "\u001b[0;31mIndexError\u001b[0m: string index out of range"
          ]
        }
      ]
    },
    {
      "cell_type": "code",
      "source": [
        "print (cadena[0:len(cadena):2])"
      ],
      "metadata": {
        "colab": {
          "base_uri": "https://localhost:8080/"
        },
        "id": "Nklt9gVv2Mo8",
        "outputId": "8b6f27a8-2fda-47e4-9928-44343dbc4c09"
      },
      "execution_count": null,
      "outputs": [
        {
          "output_type": "stream",
          "name": "stdout",
          "text": [
            "lta\n"
          ]
        }
      ]
    },
    {
      "cell_type": "code",
      "source": [
        "#la cadena en sentido inverso\n",
        "print (cadena[::-1])"
      ],
      "metadata": {
        "colab": {
          "base_uri": "https://localhost:8080/"
        },
        "id": "l5Gd5iSBvdm8",
        "outputId": "7084ea27-300e-407f-c7c8-029c26aea61e"
      },
      "execution_count": null,
      "outputs": [
        {
          "output_type": "stream",
          "name": "stdout",
          "text": [
            "sartel\n"
          ]
        }
      ]
    },
    {
      "cell_type": "code",
      "source": [
        "print (cadena[len(cadena):0:-1])"
      ],
      "metadata": {
        "colab": {
          "base_uri": "https://localhost:8080/"
        },
        "id": "zcvF2ets2gfi",
        "outputId": "66a18a19-3463-4ce6-fba1-fcb288b4a243"
      },
      "execution_count": null,
      "outputs": [
        {
          "output_type": "stream",
          "name": "stdout",
          "text": [
            "sarte\n"
          ]
        }
      ]
    },
    {
      "cell_type": "code",
      "source": [
        "#imprima la cadena en un sentido y en sentido inverso\n",
        "print(cadena)\n",
        "print (cadena[::-1])"
      ],
      "metadata": {
        "colab": {
          "base_uri": "https://localhost:8080/"
        },
        "id": "z3FkkzSDv0aN",
        "outputId": "c8f94bd7-fb06-44be-bb6b-677e4d65f2f0"
      },
      "execution_count": null,
      "outputs": [
        {
          "output_type": "stream",
          "name": "stdout",
          "text": [
            "letras\n",
            "sartel\n"
          ]
        }
      ]
    },
    {
      "cell_type": "markdown",
      "source": [
        "5. Se tiene dos listas A y B, generar la lista C(posicion par es la posicion en A y la impar la B)\n",
        "A=[1,2,3,4,5] B=[6,7,8,9,10]\n",
        "SALIDA=[1,7,3,9,5]"
      ],
      "metadata": {
        "id": "cZtdFIHrv7QP"
      }
    },
    {
      "cell_type": "code",
      "source": [
        "A=[1,2,3,4,5]\n",
        "B=[6,7,8,9,10]"
      ],
      "metadata": {
        "colab": {
          "base_uri": "https://localhost:8080/"
        },
        "id": "K7sKxO8RwKef",
        "outputId": "3691e196-9c32-4304-bfe7-e46c96e7f2d8"
      },
      "execution_count": null,
      "outputs": [
        {
          "output_type": "stream",
          "name": "stdout",
          "text": [
            "[1, 7, 3, 9, 5]\n"
          ]
        }
      ]
    },
    {
      "cell_type": "code",
      "source": [
        "C=[]\n",
        "for i in range(len(A)):\n",
        "  if i%2==0:\n",
        "    C.append(A[i])\n",
        "  else:\n",
        "    C.append(B[i])\n",
        "print(C)"
      ],
      "metadata": {
        "colab": {
          "base_uri": "https://localhost:8080/"
        },
        "id": "oHNlOkTl-R_0",
        "outputId": "18f8a246-fa9a-4361-e69c-efb7b6bbfdee"
      },
      "execution_count": null,
      "outputs": [
        {
          "output_type": "stream",
          "name": "stdout",
          "text": [
            "[1, 7, 3, 9, 5]\n"
          ]
        }
      ]
    },
    {
      "cell_type": "code",
      "source": [
        "D=[0,0,0,0]\n",
        "for i in range(len(A)):\n",
        "  if i%2==0:\n",
        "    D[i]=A[i]\n",
        "  else:\n",
        "    D[i]=B[i]\n",
        "print(D)\n"
      ],
      "metadata": {
        "colab": {
          "base_uri": "https://localhost:8080/",
          "height": 256
        },
        "id": "f8ukJ6UR_UtS",
        "outputId": "94002c98-28e9-4cf3-8263-6bff2892c31d"
      },
      "execution_count": null,
      "outputs": [
        {
          "output_type": "error",
          "ename": "IndexError",
          "evalue": "ignored",
          "traceback": [
            "\u001b[0;31m---------------------------------------------------------------------------\u001b[0m",
            "\u001b[0;31mIndexError\u001b[0m                                Traceback (most recent call last)",
            "\u001b[0;32m<ipython-input-168-04b2b07665cd>\u001b[0m in \u001b[0;36m<cell line: 2>\u001b[0;34m()\u001b[0m\n\u001b[1;32m      2\u001b[0m \u001b[0;32mfor\u001b[0m \u001b[0mi\u001b[0m \u001b[0;32min\u001b[0m \u001b[0mrange\u001b[0m\u001b[0;34m(\u001b[0m\u001b[0mlen\u001b[0m\u001b[0;34m(\u001b[0m\u001b[0mA\u001b[0m\u001b[0;34m)\u001b[0m\u001b[0;34m)\u001b[0m\u001b[0;34m:\u001b[0m\u001b[0;34m\u001b[0m\u001b[0;34m\u001b[0m\u001b[0m\n\u001b[1;32m      3\u001b[0m   \u001b[0;32mif\u001b[0m \u001b[0mi\u001b[0m\u001b[0;34m%\u001b[0m\u001b[0;36m2\u001b[0m\u001b[0;34m==\u001b[0m\u001b[0;36m0\u001b[0m\u001b[0;34m:\u001b[0m\u001b[0;34m\u001b[0m\u001b[0;34m\u001b[0m\u001b[0m\n\u001b[0;32m----> 4\u001b[0;31m     \u001b[0mD\u001b[0m\u001b[0;34m[\u001b[0m\u001b[0mi\u001b[0m\u001b[0;34m]\u001b[0m\u001b[0;34m=\u001b[0m\u001b[0mA\u001b[0m\u001b[0;34m[\u001b[0m\u001b[0mi\u001b[0m\u001b[0;34m]\u001b[0m\u001b[0;34m\u001b[0m\u001b[0;34m\u001b[0m\u001b[0m\n\u001b[0m\u001b[1;32m      5\u001b[0m   \u001b[0;32melse\u001b[0m\u001b[0;34m:\u001b[0m\u001b[0;34m\u001b[0m\u001b[0;34m\u001b[0m\u001b[0m\n\u001b[1;32m      6\u001b[0m     \u001b[0mD\u001b[0m\u001b[0;34m[\u001b[0m\u001b[0mi\u001b[0m\u001b[0;34m]\u001b[0m\u001b[0;34m=\u001b[0m\u001b[0mB\u001b[0m\u001b[0;34m[\u001b[0m\u001b[0mi\u001b[0m\u001b[0;34m]\u001b[0m\u001b[0;34m\u001b[0m\u001b[0;34m\u001b[0m\u001b[0m\n",
            "\u001b[0;31mIndexError\u001b[0m: list assignment index out of range"
          ]
        }
      ]
    },
    {
      "cell_type": "markdown",
      "source": [
        "6."
      ],
      "metadata": {
        "id": "TOVkDDm538uw"
      }
    },
    {
      "cell_type": "markdown",
      "source": [
        "8. Palindromo"
      ],
      "metadata": {
        "id": "Wq5eaYl3AcMO"
      }
    },
    {
      "cell_type": "code",
      "source": [
        "cad=\"reconocer\"\n",
        "cadn=cad[::-1]\n",
        "if cad==cadn:\n",
        "  print(\"La palabra es Palindromo\")"
      ],
      "metadata": {
        "colab": {
          "base_uri": "https://localhost:8080/"
        },
        "id": "l2wrKa1mAaxe",
        "outputId": "2c0737f6-cfa7-4550-d240-28792573a48a"
      },
      "execution_count": null,
      "outputs": [
        {
          "output_type": "stream",
          "name": "stdout",
          "text": [
            "La palabra es Palindromo\n"
          ]
        }
      ]
    },
    {
      "cell_type": "markdown",
      "source": [
        "FUNCIONES"
      ],
      "metadata": {
        "id": "ryiQYbZWLyko"
      }
    },
    {
      "cell_type": "markdown",
      "source": [
        "1.- Implemente una función parimpar(n) que reciba un numero e indique si es par o impar"
      ],
      "metadata": {
        "id": "4ihIa9QdL5Fo"
      }
    },
    {
      "cell_type": "code",
      "source": [
        "def parimpar(n):\n",
        "  if n%2==0:\n",
        "    print(\"El número es par\")\n",
        "  else:\n",
        "    print(\"El número es impar\")\n",
        "\n",
        "parimpar(11)"
      ],
      "metadata": {
        "colab": {
          "base_uri": "https://localhost:8080/"
        },
        "id": "ZCqaVXCTL1Pc",
        "outputId": "c685b74c-b6d7-4670-8a7c-7809424cd2fa"
      },
      "execution_count": null,
      "outputs": [
        {
          "output_type": "stream",
          "name": "stdout",
          "text": [
            "El número es impar\n"
          ]
        }
      ]
    },
    {
      "cell_type": "markdown",
      "source": [
        "2.- Implemente una funcion (esDivisible(a,b)) que indique si el primer valor a es divisible entre b"
      ],
      "metadata": {
        "id": "v-84EHQtMzMN"
      }
    },
    {
      "cell_type": "code",
      "source": [
        "def esDivisible(a,b):\n",
        "  if a%b==0:\n",
        "    print(f\"{a} es divisible entre {b}\")\n",
        "  else:\n",
        "    print(f\"{a} No es divisible entre {b}\")\n",
        "\n",
        "esDivisible(9,3)"
      ],
      "metadata": {
        "colab": {
          "base_uri": "https://localhost:8080/"
        },
        "id": "mQSbF0MJNHrd",
        "outputId": "8d67a06c-a4d2-45b3-d0fb-211d7fa1aeaa"
      },
      "execution_count": null,
      "outputs": [
        {
          "output_type": "stream",
          "name": "stdout",
          "text": [
            "9 es divisible entre 3\n"
          ]
        }
      ]
    },
    {
      "cell_type": "markdown",
      "source": [
        "3.- Implementa una función que reciba dos listas de enteros A y B, del mismo tamaño y de como resultado la sumatoria de ambas listas."
      ],
      "metadata": {
        "id": "2uzs6HldMElU"
      }
    },
    {
      "cell_type": "code",
      "source": [
        "import math\n",
        "import array\n",
        "A=[1,2]\n",
        "B=[3,4]\n",
        "def sum(A,B):\n",
        "  print(A+B)\n",
        "sum(C,D)"
      ],
      "metadata": {
        "colab": {
          "base_uri": "https://localhost:8080/"
        },
        "id": "dh-wBWfbOKpY",
        "outputId": "538f89bb-1146-44b9-f434-e3f00ef966a4"
      },
      "execution_count": null,
      "outputs": [
        {
          "output_type": "stream",
          "name": "stdout",
          "text": [
            "[1, 2, 3, 4]\n"
          ]
        }
      ]
    },
    {
      "cell_type": "markdown",
      "source": [
        "4.- Implemente una función esPalindroma(cadena) que reciba una cadena e indique si es o no palindroma"
      ],
      "metadata": {
        "id": "tfi8O8gEPFVi"
      }
    },
    {
      "cell_type": "code",
      "source": [
        "def esPalindroma(cadena):\n",
        "  cadenan=cadena[::-1]\n",
        "  if cadena==cadenan:\n",
        "    print(\"La palabra es Palindromo\")\n",
        "  else:\n",
        "    print(\"La palabra No es Palindromo\")\n",
        "\n",
        "esPalindroma(\"casa\")"
      ],
      "metadata": {
        "colab": {
          "base_uri": "https://localhost:8080/"
        },
        "id": "diUB3_yvPE6g",
        "outputId": "801c9762-1223-4755-cea5-408e70249ce6"
      },
      "execution_count": null,
      "outputs": [
        {
          "output_type": "stream",
          "name": "stdout",
          "text": [
            "La palabra No es Palindromo\n"
          ]
        }
      ]
    },
    {
      "cell_type": "markdown",
      "source": [
        "5.- Implementar una función valorMaximo(A) que reciba una lista de enteros o indique cuál es el valor máximo y otra función valorMinimo(A) que devuelva el mínimo"
      ],
      "metadata": {
        "id": "q5AjrB2WQ6KE"
      }
    },
    {
      "cell_type": "code",
      "source": [
        "def valorMaximo(A):\n",
        "  if A[0]>\n",
        "\n"
      ],
      "metadata": {
        "id": "znmssQ2VPznc"
      },
      "execution_count": null,
      "outputs": []
    },
    {
      "cell_type": "markdown",
      "source": [
        "6. implementar una funcion rectango(b,h) que reciba la base y altura y lo dibuje en pantalla como se muestra."
      ],
      "metadata": {
        "id": "TrQGlkljSCUq"
      }
    },
    {
      "cell_type": "code",
      "source": [
        "def rectangulo(b,h):\n",
        "\n",
        "  for i in range(h): #0,1\n",
        "    print(\" \")\n",
        "    for i in range(b): #0,1,2\n",
        "      print(\"*\",end=\"\\t\")\n",
        "\n",
        "rectangulo(3,2)"
      ],
      "metadata": {
        "colab": {
          "base_uri": "https://localhost:8080/"
        },
        "id": "U2m-VoGTTOum",
        "outputId": "35ef9867-859f-40b2-ad2d-76ad3d348e47"
      },
      "execution_count": null,
      "outputs": [
        {
          "output_type": "stream",
          "name": "stdout",
          "text": [
            " \n",
            "*\t*\t*\t \n",
            "*\t*\t*\t"
          ]
        }
      ]
    },
    {
      "cell_type": "code",
      "source": [],
      "metadata": {
        "id": "aJ9Iqw4gT_hE"
      },
      "execution_count": null,
      "outputs": []
    },
    {
      "cell_type": "markdown",
      "source": [],
      "metadata": {
        "id": "HXb0rvQ8SDZq"
      }
    },
    {
      "cell_type": "markdown",
      "source": [
        "9.- Escribir una función de reciba una cadena que contine un número entero y devuelva una cadena con el número y las separaciones de miles. Por ejemplo si recibe 1234567890 debe devolver 1.234.456.890"
      ],
      "metadata": {
        "id": "lo_O3S45SEQh"
      }
    },
    {
      "cell_type": "code",
      "source": [
        "def miles(num):\n",
        "  cadenum=str(num)\n",
        "  cadeinvert=cadenum[::-1]\n",
        "  lista=list(cadeinvert)\n",
        "  for i in lista:\n",
        "    if i%3==0:\n",
        "      lista.insert(i,\".\")\n",
        "  print(lista)\n",
        "\n",
        "miles(34567)"
      ],
      "metadata": {
        "colab": {
          "base_uri": "https://localhost:8080/",
          "height": 348
        },
        "id": "-FbR8ZF7MG2s",
        "outputId": "7ae8f705-4396-41b4-90cb-e90031cfda61"
      },
      "execution_count": null,
      "outputs": [
        {
          "output_type": "error",
          "ename": "TypeError",
          "evalue": "ignored",
          "traceback": [
            "\u001b[0;31m---------------------------------------------------------------------------\u001b[0m",
            "\u001b[0;31mTypeError\u001b[0m                                 Traceback (most recent call last)",
            "\u001b[0;32m<ipython-input-58-6b99453f9934>\u001b[0m in \u001b[0;36m<cell line: 10>\u001b[0;34m()\u001b[0m\n\u001b[1;32m      8\u001b[0m   \u001b[0mprint\u001b[0m\u001b[0;34m(\u001b[0m\u001b[0mlista\u001b[0m\u001b[0;34m)\u001b[0m\u001b[0;34m\u001b[0m\u001b[0;34m\u001b[0m\u001b[0m\n\u001b[1;32m      9\u001b[0m \u001b[0;34m\u001b[0m\u001b[0m\n\u001b[0;32m---> 10\u001b[0;31m \u001b[0mmiles\u001b[0m\u001b[0;34m(\u001b[0m\u001b[0;36m34567\u001b[0m\u001b[0;34m)\u001b[0m\u001b[0;34m\u001b[0m\u001b[0;34m\u001b[0m\u001b[0m\n\u001b[0m",
            "\u001b[0;32m<ipython-input-58-6b99453f9934>\u001b[0m in \u001b[0;36mmiles\u001b[0;34m(num)\u001b[0m\n\u001b[1;32m      4\u001b[0m   \u001b[0mlista\u001b[0m\u001b[0;34m=\u001b[0m\u001b[0mlist\u001b[0m\u001b[0;34m(\u001b[0m\u001b[0mcadeinvert\u001b[0m\u001b[0;34m)\u001b[0m\u001b[0;34m\u001b[0m\u001b[0;34m\u001b[0m\u001b[0m\n\u001b[1;32m      5\u001b[0m   \u001b[0;32mfor\u001b[0m \u001b[0mi\u001b[0m \u001b[0;32min\u001b[0m \u001b[0mlista\u001b[0m\u001b[0;34m:\u001b[0m\u001b[0;34m\u001b[0m\u001b[0;34m\u001b[0m\u001b[0m\n\u001b[0;32m----> 6\u001b[0;31m     \u001b[0;32mif\u001b[0m \u001b[0mi\u001b[0m\u001b[0;34m%\u001b[0m\u001b[0;36m3\u001b[0m\u001b[0;34m==\u001b[0m\u001b[0;36m0\u001b[0m\u001b[0;34m:\u001b[0m\u001b[0;34m\u001b[0m\u001b[0;34m\u001b[0m\u001b[0m\n\u001b[0m\u001b[1;32m      7\u001b[0m       \u001b[0mlista\u001b[0m\u001b[0;34m.\u001b[0m\u001b[0minsert\u001b[0m\u001b[0;34m(\u001b[0m\u001b[0mi\u001b[0m\u001b[0;34m,\u001b[0m\u001b[0;34m\".\"\u001b[0m\u001b[0;34m)\u001b[0m\u001b[0;34m\u001b[0m\u001b[0;34m\u001b[0m\u001b[0m\n\u001b[1;32m      8\u001b[0m   \u001b[0mprint\u001b[0m\u001b[0;34m(\u001b[0m\u001b[0mlista\u001b[0m\u001b[0;34m)\u001b[0m\u001b[0;34m\u001b[0m\u001b[0;34m\u001b[0m\u001b[0m\n",
            "\u001b[0;31mTypeError\u001b[0m: not all arguments converted during string formatting"
          ]
        }
      ]
    },
    {
      "cell_type": "markdown",
      "source": [
        "Crear una función que cree la transpuesta de una matriz"
      ],
      "metadata": {
        "id": "BqJkfiN1anpH"
      }
    },
    {
      "cell_type": "code",
      "source": [
        "import random\n",
        "\n",
        "num_aleatorio=random.randint(0,20)\n",
        "print(num_aleatorio)"
      ],
      "metadata": {
        "colab": {
          "base_uri": "https://localhost:8080/"
        },
        "id": "iwnvhCx2Rhge",
        "outputId": "a9410aff-3171-4109-8f4a-f610b9ae8f23"
      },
      "execution_count": null,
      "outputs": [
        {
          "output_type": "stream",
          "name": "stdout",
          "text": [
            "14\n"
          ]
        }
      ]
    },
    {
      "cell_type": "code",
      "source": [
        "matriz=[[1,2,3],\n",
        "        [4,5,6],\n",
        "        [7,8,9],\n",
        "       [10,11,12]]"
      ],
      "metadata": {
        "id": "nfYbsFMubekb"
      },
      "execution_count": null,
      "outputs": []
    },
    {
      "cell_type": "code",
      "source": [
        "def transpuesta():\n",
        "\n",
        "  matriz_ceros= ([[0]*3]*4)\n",
        "\n",
        "\n",
        "\n",
        "  for i in matriz_ceros:\n",
        "\n",
        "    for j in matriz_ceros:\n",
        "\n",
        "\n",
        "\n",
        "    print(i)\n",
        "\n",
        "transpuesta()"
      ],
      "metadata": {
        "colab": {
          "base_uri": "https://localhost:8080/"
        },
        "id": "TJw5B2JucDIv",
        "outputId": "79005087-a432-4183-f1e9-38a9c4d983e9"
      },
      "execution_count": null,
      "outputs": [
        {
          "output_type": "stream",
          "name": "stdout",
          "text": [
            "0\n",
            "0\n",
            "0\n"
          ]
        }
      ]
    },
    {
      "cell_type": "code",
      "source": [],
      "metadata": {
        "id": "m_j0OpS2mm_f"
      },
      "execution_count": null,
      "outputs": []
    },
    {
      "cell_type": "code",
      "source": [
        "print([[0]*3]*4)"
      ],
      "metadata": {
        "colab": {
          "base_uri": "https://localhost:8080/"
        },
        "id": "OGK6VzvegTfi",
        "outputId": "c84a0b9a-f5d5-425d-b7f1-a3c3165a812a"
      },
      "execution_count": null,
      "outputs": [
        {
          "output_type": "stream",
          "name": "stdout",
          "text": [
            "[[0, 0, 0], [0, 0, 0], [0, 0, 0], [0, 0, 0]]\n"
          ]
        }
      ]
    },
    {
      "cell_type": "code",
      "source": [
        "matriz=[[0 for x in range(3)] for y in range(4)]\n",
        "print(matriz)\n",
        "matriz[2][2]=4\n",
        "print(matriz)\n",
        "matriz[2][1]=3\n",
        "print(matriz)"
      ],
      "metadata": {
        "colab": {
          "base_uri": "https://localhost:8080/"
        },
        "id": "DNBcDIFjlwom",
        "outputId": "70e329e6-e440-4115-f745-7e5d15a46db1"
      },
      "execution_count": null,
      "outputs": [
        {
          "output_type": "stream",
          "name": "stdout",
          "text": [
            "[[0, 0, 0], [0, 0, 0], [0, 0, 0], [0, 0, 0]]\n",
            "[[0, 0, 0], [0, 0, 0], [0, 0, 4], [0, 0, 0]]\n",
            "[[0, 0, 0], [0, 0, 0], [0, 3, 4], [0, 0, 0]]\n"
          ]
        }
      ]
    },
    {
      "cell_type": "code",
      "source": [
        "import random\n",
        "\n",
        "def nuevamatriz(filas,columnas):\n",
        "  matriz=[[0 for x in range(columnas)] for y in range(filas)]\n",
        "  for i in range (filas):\n",
        "    for j in range (columnas):\n",
        "      matriz[i][j]=random.randint(0,20)\n",
        "  return matriz\n",
        "m=nuevamatriz(4,3)\n",
        "print(m)"
      ],
      "metadata": {
        "colab": {
          "base_uri": "https://localhost:8080/"
        },
        "id": "NX641pfAmo1v",
        "outputId": "c8b2220a-5ebc-463e-f96d-d01e19555110"
      },
      "execution_count": null,
      "outputs": [
        {
          "output_type": "stream",
          "name": "stdout",
          "text": [
            "[[5, 1, 3], [7, 10, 8], [7, 5, 1], [14, 6, 18]]\n"
          ]
        }
      ]
    },
    {
      "cell_type": "code",
      "source": [
        "def transpuesta(m):\n",
        "\n",
        "  columst=len(m)\n",
        "  filast=len(m[0])\n",
        "  matrizt=[[0 for x in range(columst)] for y in range(filast)]\n",
        "  for i in range (filast):\n",
        "    for j in range (columst):\n",
        "      matrizt[i][j]=m[j][i]\n",
        "  return matrizt\n",
        "\n",
        "transpuesta(m)"
      ],
      "metadata": {
        "colab": {
          "base_uri": "https://localhost:8080/"
        },
        "id": "u-jrFap6n8gt",
        "outputId": "0240dd66-7512-4f61-e189-d543e539a912"
      },
      "execution_count": null,
      "outputs": [
        {
          "output_type": "execute_result",
          "data": {
            "text/plain": [
              "[[5, 7, 7, 14], [1, 10, 5, 6], [3, 8, 1, 18]]"
            ]
          },
          "metadata": {},
          "execution_count": 89
        }
      ]
    },
    {
      "cell_type": "code",
      "source": [
        "class fraccion:\n",
        "  def __init__(self,arriba,abajo):\n",
        "    self.num=arriba\n",
        "    self.den=abajo\n",
        "\n",
        "  def mostrar(self):\n",
        "    print(self.num, \"/\",self.den)\n",
        "\n",
        "f=fraccion(3,4)\n",
        "f.mostrar()"
      ],
      "metadata": {
        "colab": {
          "base_uri": "https://localhost:8080/"
        },
        "id": "v-PIaqlaycq5",
        "outputId": "eb4299d7-0ea7-4eb5-a6cd-4dd9ffb9bba3"
      },
      "execution_count": null,
      "outputs": [
        {
          "output_type": "stream",
          "name": "stdout",
          "text": [
            "3 / 4\n"
          ]
        }
      ]
    },
    {
      "cell_type": "code",
      "source": [
        "class hora:\n",
        "  def __init__(self,h,m,s):\n",
        "    self.hora=h\n",
        "    self.minuto=m\n",
        "    self.segundo=s\n",
        "\n",
        "  def mostrar(self):\n",
        "    print(self.hora,\"h\",self.minuto,\"min\",self.segundo,\"seg\")\n",
        "\n",
        "hora1=hora(4,50,30)\n",
        "hora1.mostrar()"
      ],
      "metadata": {
        "colab": {
          "base_uri": "https://localhost:8080/"
        },
        "id": "YmzAs8Qrz72c",
        "outputId": "70f1bbae-989c-42d5-e63d-a71a7a3d8e7f"
      },
      "execution_count": null,
      "outputs": [
        {
          "output_type": "stream",
          "name": "stdout",
          "text": [
            "4 h 50 min 30 seg\n"
          ]
        }
      ]
    },
    {
      "cell_type": "code",
      "source": [
        "class punto:\n",
        "  #constructor\n",
        "  def __init__(self,x,y):\n",
        "    self.x=x\n",
        "    self.y=y\n",
        "\n",
        "\n",
        "  def mostrar(self):\n",
        "      print(self.x,\",\",self.y)\n",
        "\n",
        "punto1=punto(8,15)\n",
        "punto1.mostrar()"
      ],
      "metadata": {
        "colab": {
          "base_uri": "https://localhost:8080/"
        },
        "id": "QzZ8Vui60jdR",
        "outputId": "e561b9e5-2d76-457b-c39b-07b9d48f3da4"
      },
      "execution_count": null,
      "outputs": [
        {
          "output_type": "stream",
          "name": "stdout",
          "text": [
            "8 , 15\n"
          ]
        }
      ]
    },
    {
      "cell_type": "code",
      "source": [
        "def main():\n",
        "  p1=punto(3,4)\n",
        "  p1.mostrar()"
      ],
      "metadata": {
        "id": "O8j10w3f2MAs"
      },
      "execution_count": null,
      "outputs": []
    },
    {
      "cell_type": "code",
      "source": [
        "class rectangulo:\n",
        "  #constructor\n",
        "  def __init__(self,a,h,p):\n",
        "    self.ancho=a\n",
        "    self.alto=h\n",
        "    self.esquina=p\n",
        "\n",
        "  def mostrar(self):\n",
        "    print(self.ancho,self.alto,self.esquina.x,self.esquina.y)\n",
        "\n",
        "  def puntoMedio(self):\n",
        "    p=punto(0,0)\n",
        "    p.x=self.ancho/2+self.esquina.x\n",
        "    p.y=self.ancho/2+self.esquina.y\n",
        "    return p\n",
        "\n",
        "  def puntoA(self):\n",
        "    p=punto(0,0)\n",
        "    p.x=self.esquina.x\n",
        "    p.y=self.alto/2+self.esquina.y\n",
        "    return p\n",
        "\n",
        "  def puntoB(self):\n",
        "    p=punto(0,0)\n",
        "    p.x=self.esquina.x+self.ancho\n",
        "    p.y=self.esquina.y+self.alto\n",
        "    return p\n",
        "\n",
        "  def puntoC(self):\n",
        "    p=punto(0,0)\n",
        "    p.x=self.esquina.x+self.ancho\n",
        "    p.y=self.esquina.y\n",
        "    return p"
      ],
      "metadata": {
        "id": "HWl5KeG93AVM"
      },
      "execution_count": null,
      "outputs": []
    },
    {
      "cell_type": "code",
      "source": [
        "def main():\n",
        "  esq=punto(3,4)\n",
        "  esq.mostrar()\n",
        "\n",
        "  rect=rectangulo(10,20,esq)\n",
        "  rect.mostrar()"
      ],
      "metadata": {
        "id": "2SSH19L74iTZ"
      },
      "execution_count": null,
      "outputs": []
    },
    {
      "cell_type": "code",
      "source": [
        "class punto:\n",
        "  #constructor\n",
        "  def __init__(self,x,y):\n",
        "    self.x=x\n",
        "    self.y=y\n",
        "\n",
        "   def __str__(self):\n",
        "    return \"({0},{1})\".format(self.x,self.y)\n",
        "\n",
        "   def __add__(self,other):\n",
        "    return punto(self.x+other.x,self.y+other.y)\n",
        "\n",
        "   def mostrar(self):\n",
        "    print(self.x,\",\",self.y)\n"
      ],
      "metadata": {
        "id": "A_8km4iYmPXf"
      },
      "execution_count": null,
      "outputs": []
    },
    {
      "cell_type": "code",
      "source": [
        "class reloj:\n",
        "\n",
        "  def __init__(self,h,m,s):\n",
        "    self.hora=h\n",
        "    self.minuto=m\n",
        "    self.segundo=s\n",
        "\n",
        "  def __add__(self,time):\n",
        "    self.hora=x\n",
        "    self.minuto=y\n",
        "    self.segundo=z\n",
        "    return (self.hora+time.x,self.y+time.y,self.z+time.z)\n",
        "\n",
        "  def convertir_seg ():\n",
        "    (self.hora*3600+self.minuto*60+self.segundo+time.z)\n",
        "\n",
        "  def mostrar():\n",
        "    print(self.hora,\"h\",self.minuto,\"min\",self.segundo,\"seg\")"
      ],
      "metadata": {
        "id": "3MC2FcPspjV6"
      },
      "execution_count": null,
      "outputs": []
    },
    {
      "cell_type": "code",
      "source": [
        "l1=[16,15,14,13,12,11,10,9,8,7,6,5,4,3,2,1,0]\n",
        "l2=[[12,18,23,25,45],[7,11,19,24,28],[1,5,8,18,15,16]]\n",
        "#[12],[7,11],[1,5,8,15,16]"
      ],
      "metadata": {
        "id": "cOjy9LU3qKR9"
      },
      "execution_count": null,
      "outputs": []
    },
    {
      "cell_type": "code",
      "source": [
        "def busca_lista_anidada_en_lista(lista1,lista2):\n",
        "  lista=[]\n",
        "  for i in range(len(lista2)):\n",
        "    for j in range(len(lista2[i])):\n",
        "      for k in range(len(lista1)):\n",
        "        if lista2[i][j]==lista1[k]:\n",
        "          lista.append(lista2[i][j])\n",
        "          #print(lista2[i][j])\n",
        "  return lista"
      ],
      "metadata": {
        "id": "ehFQ89r-fa7T"
      },
      "execution_count": null,
      "outputs": []
    },
    {
      "cell_type": "code",
      "source": [
        "busca_lista_anidada_en_lista(l1,l2)"
      ],
      "metadata": {
        "id": "wSsy6pGXfe_D"
      },
      "execution_count": null,
      "outputs": []
    },
    {
      "cell_type": "markdown",
      "source": [
        "Escribir una funcion cadenas_longitud_menor_n que reciba como parametro una lista anidada de cadenas y un número positivo etero n, y retorne una lista anidada con los indices de los elementos de las sublistas cuya longitud sea menor a n"
      ],
      "metadata": {
        "id": "QeM7TymXfpxc"
      }
    },
    {
      "cell_type": "code",
      "source": [
        "lista_1=[[\"Mercurio\",\"Venus\",\"Tierra\"],[\"Marte\",\"Jupiter\",\"Saturno\"],[\"Urano\",\"Neptuno\"]]\n",
        "#con n=6 debe retornar [[1],[0],[0]]\n",
        "#con n=7 debe retornar [[1,2],[0],[0]]"
      ],
      "metadata": {
        "id": "cJu4FOs6fh2o"
      },
      "execution_count": null,
      "outputs": []
    },
    {
      "cell_type": "code",
      "source": [
        "len(lista_1[0][0])"
      ],
      "metadata": {
        "id": "SSR4ghb0fykr"
      },
      "execution_count": null,
      "outputs": []
    },
    {
      "cell_type": "code",
      "source": [
        "def cadenas_longitud_menor_n(lista):\n",
        "\n",
        "  for i in range(len(lista)):\n",
        "    n=6\n",
        "    for j in range(len(lista[i])):\n",
        "      if len(lista_1[i][j])<n:\n",
        "        lista"
      ],
      "metadata": {
        "id": "Qh20tHeWf1Dv"
      },
      "execution_count": null,
      "outputs": []
    },
    {
      "cell_type": "code",
      "source": [
        "l1=[16,15,14,13,12,11,10,9,8,7,6,5,4,3,2,1,0]\n",
        "l2=[[12,18,23,25,45],[7,11,19,24,28],[1,5,8,18,15,16]]\n",
        "#[12],[7,11],[1,5,8,15,16]"
      ],
      "metadata": {
        "id": "TFfNOrjYdMyz"
      },
      "execution_count": null,
      "outputs": []
    },
    {
      "cell_type": "code",
      "source": [
        "def busca_lista_anidada_en_lista(lista1,lista2):\n",
        "  listgeneral=[]\n",
        "  list=[]\n",
        "  for i in range(len(lista2)):\n",
        "    for j in range(len(lista2[i])):\n",
        "      for k in range(len(lista1)):\n",
        "        if lista2[i][j]==lista1[k]:\n",
        "          list.append(lista2[i][j])\n",
        "    listgeneral.append(list)\n",
        "    list=[]\n",
        "  print(listgeneral)"
      ],
      "metadata": {
        "id": "AILK5PyndRAj"
      },
      "execution_count": null,
      "outputs": []
    },
    {
      "cell_type": "code",
      "source": [
        "busca_lista_anidada_en_lista(l1,l2)"
      ],
      "metadata": {
        "id": "1mA-MhsFdYdd"
      },
      "execution_count": null,
      "outputs": []
    }
  ]
}
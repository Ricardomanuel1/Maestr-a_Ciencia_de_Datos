{
  "nbformat": 4,
  "nbformat_minor": 0,
  "metadata": {
    "colab": {
      "provenance": [],
      "include_colab_link": true
    },
    "kernelspec": {
      "name": "python3",
      "display_name": "Python 3"
    }
  },
  "cells": [
    {
      "cell_type": "markdown",
      "metadata": {
        "id": "view-in-github",
        "colab_type": "text"
      },
      "source": [
        "<a href=\"https://colab.research.google.com/github/Ricardomanuel1/Maestria_Ciencia_de_Datos/blob/main/III.%20Matematica_Ciencia_Datos/SESION_02_MCD_2.ipynb\" target=\"_parent\"><img src=\"https://colab.research.google.com/assets/colab-badge.svg\" alt=\"Open In Colab\"/></a>"
      ]
    },
    {
      "cell_type": "markdown",
      "source": [
        "<img src=\"https://drive.google.com/uc?export=view&id=1ixeSQe4-IjSpN6IqL8Ae3fMU9sxUGJIu\" width=\"1200\">\n"
      ],
      "metadata": {
        "id": "q2ms9ds1JWuZ"
      }
    },
    {
      "cell_type": "markdown",
      "source": [
        "\n",
        "### <center> $Sistema \\ de \\ Ecuaciones \\ lineales$"
      ],
      "metadata": {
        "id": "i4FtX5ikIdfu"
      }
    },
    {
      "cell_type": "markdown",
      "source": [
        "**Sesión de Laboratorio 02 :** Solución de sistemas de ecuaciones lineales descomposicion matricial\n",
        "\n",
        "**Profesor:** Sergio Moisés Aquise Escobedo\n",
        "\n",
        "**Estudiante de Posgrado** ........................................."
      ],
      "metadata": {
        "id": "4oOZuHrvJZuJ"
      }
    },
    {
      "cell_type": "markdown",
      "source": [
        "---"
      ],
      "metadata": {
        "id": "L6bJsNMyJmke"
      }
    },
    {
      "cell_type": "markdown",
      "source": [
        "# **Nociones básicas de Algebra lineal**\n",
        "\n",
        "# **Multiplicacion de matrices**\n",
        "\n"
      ],
      "metadata": {
        "id": "UhhxLFezsLRM"
      }
    },
    {
      "cell_type": "markdown",
      "source": [
        "**Ejemplo:** Sean las matrices\n",
        "\n",
        "\n",
        "$\n",
        "A=\\left[\\begin{array}{lcr}\n",
        "1 & 3 & 5\\\\\n",
        "4 & 1 & 7\n",
        "\\end{array}\\right]\n",
        "$\n",
        "\n",
        "$\n",
        "B=\\left[\\begin{array}{lcr}\n",
        "1 & 5 & 8\\\\\n",
        "4 & 1 & 1\\\\\n",
        "2 & 0 & 2\n",
        "\\end{array}\\right]\n",
        "$\n",
        "\n",
        "Hallar $AB$"
      ],
      "metadata": {
        "id": "OXB7i-bQzxba"
      }
    },
    {
      "cell_type": "code",
      "source": [
        "import numpy as np"
      ],
      "metadata": {
        "id": "AAfqUeb8pmRk"
      },
      "execution_count": null,
      "outputs": []
    },
    {
      "cell_type": "code",
      "source": [
        "A=np.array([[1,3,5],[4,1,7]])\n",
        "B=np.array([[1,5,8],[4,1,1],[2,0,2]])"
      ],
      "metadata": {
        "id": "Nj3fx-qLoyOn"
      },
      "execution_count": null,
      "outputs": []
    },
    {
      "cell_type": "code",
      "source": [
        "C=np.dot(A,B)\n",
        "print(C)"
      ],
      "metadata": {
        "colab": {
          "base_uri": "https://localhost:8080/"
        },
        "id": "f-pNcCowqJXI",
        "outputId": "f4175ce4-1696-438e-c774-dba2d29ebe6a"
      },
      "execution_count": null,
      "outputs": [
        {
          "output_type": "stream",
          "name": "stdout",
          "text": [
            "[[23  8 21]\n",
            " [22 21 47]]\n"
          ]
        }
      ]
    },
    {
      "cell_type": "markdown",
      "source": [
        "**Ejemplo:** Sean las matrices\n",
        "\n",
        "$\n",
        "A=\\left[\\begin{array}{lcr}\n",
        "19 & 20\\\\\n",
        "12 & 11\n",
        "\\end{array}\\right]\n",
        "$\n",
        "\n",
        "$\n",
        "B=\\left[\\begin{array}{lcr}\n",
        "20\\\\\n",
        "9\n",
        "\\end{array}\\right]\n",
        "$\n",
        "\n",
        "Hallar $AB$"
      ],
      "metadata": {
        "id": "vS22RMD6050w"
      }
    },
    {
      "cell_type": "code",
      "source": [
        "A=np.array([[19,20],[12,11]])\n",
        "B=np.array([[20],[9]])"
      ],
      "metadata": {
        "id": "bQ6C68l9p9Pw"
      },
      "execution_count": null,
      "outputs": []
    },
    {
      "cell_type": "code",
      "source": [
        "C=np.dot(A,B)\n",
        "print(C)"
      ],
      "metadata": {
        "colab": {
          "base_uri": "https://localhost:8080/"
        },
        "id": "JO5x2RpeqcYq",
        "outputId": "c7dfe507-b618-4291-f4ec-3231fdee7b59"
      },
      "execution_count": null,
      "outputs": [
        {
          "output_type": "stream",
          "name": "stdout",
          "text": [
            "[[560]\n",
            " [339]]\n"
          ]
        }
      ]
    },
    {
      "cell_type": "markdown",
      "source": [
        "### **Matriz transpuesta**"
      ],
      "metadata": {
        "id": "TfWdEcvhqoA6"
      }
    },
    {
      "cell_type": "markdown",
      "source": [
        " **Ejemplo:** Hallar la transpuesta de la matriz\n",
        "\n",
        " $\n",
        "A=\\left[\\begin{array}{lcr}\n",
        "23 & 8 & 21\\\\\n",
        "22 & 21 & 47\n",
        "\\end{array}\\right]\n",
        "$"
      ],
      "metadata": {
        "id": "HsSEXo0ask3E"
      }
    },
    {
      "cell_type": "code",
      "source": [
        "A=np.array([[23,8,21],[22,21,47]])\n",
        "print('Matriz A')\n",
        "print(A)\n",
        "D=np.transpose(A)\n",
        "print('Matriz transpuesta de A')\n",
        "print(D)"
      ],
      "metadata": {
        "id": "rJYXCggeqoKe",
        "colab": {
          "base_uri": "https://localhost:8080/"
        },
        "outputId": "27be28ed-8f09-4abb-e9c9-0394913fd1a5"
      },
      "execution_count": null,
      "outputs": [
        {
          "output_type": "stream",
          "name": "stdout",
          "text": [
            "Matriz A\n",
            "[[23  8 21]\n",
            " [22 21 47]]\n",
            "Matriz transpuesta de A\n",
            "[[23 22]\n",
            " [ 8 21]\n",
            " [21 47]]\n"
          ]
        }
      ]
    },
    {
      "cell_type": "markdown",
      "source": [
        "---"
      ],
      "metadata": {
        "id": "nnWBdV5K4FDu"
      }
    },
    {
      "cell_type": "markdown",
      "source": [
        "## **Descomposición matricial**"
      ],
      "metadata": {
        "id": "g9Y60CY25x3P"
      }
    },
    {
      "cell_type": "markdown",
      "source": [
        "## **La descomposición LU**"
      ],
      "metadata": {
        "id": "kzGdBnBM6JGb"
      }
    },
    {
      "cell_type": "markdown",
      "source": [
        "Si $A$ es de orden $n$  tal que $det⁡(A_k )≠0$,  $∀k=1,2,…,n-1$ , existen $L$ matriz triangular inferior con diagonal $1$ y $U$ triangular superior únicas tal que\n",
        "\n",
        "\n",
        "$$A=LU$$\n"
      ],
      "metadata": {
        "id": "IP2p0EMi6kqa"
      }
    },
    {
      "cell_type": "markdown",
      "source": [
        "![image.png](data:image/png;base64,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)"
      ],
      "metadata": {
        "id": "TFzpU-BN7XZV"
      }
    },
    {
      "cell_type": "code",
      "source": [
        "%%% Pivoteo sin intercambios\n",
        "%A=[2 6 10;3 12 24;4 16 31]\n",
        "A=[1 2 1;2 5 5;3 7 8]\n",
        "n=length(A);\n",
        "Ai=A;\n",
        "AA=A;\n",
        "I=eye(n);MMi=I;\n",
        "for i=1:n-1\n",
        "    mi=zeros(n,1);\n",
        "    for k=1+i:n\n",
        "      mi(k)=-AA(k,i)/AA(i,i);\n",
        "    endfor\n",
        "    ei=I(:,i);\n",
        "    Mi=I+mi*ei',Ai=Mi*AA,MMi=Mi*MMi;AA=Ai;\n",
        "endfor\n",
        "U=MMi*A;L=inv(MMi);\n",
        "LU=L*U\n",
        "L=round(L),U=round(U)\n",
        "\n"
      ],
      "metadata": {
        "id": "r6tkWYFODwPS"
      },
      "execution_count": null,
      "outputs": []
    },
    {
      "cell_type": "code",
      "source": [
        "%% Pivoteo parcial\n",
        "A=[2 6 10;3 12 24;4 16 31]\n",
        "n=length(A);\n",
        "Ai=A;\n",
        "AA=A;\n",
        "I=eye(n);MMi=I;pp=I;%M=I;\n",
        "for i=1:n-1\n",
        "    %%%%%%%%%%%%%%%%%\n",
        "    indice=find(AA(:,i)=max(abs(AA(i:n,i))));indice=min(indice)\n",
        "    P=I;\n",
        "    xx=P(i,:);P(i,:)=P(indice,:);P(indice,:)=xx;P\n",
        "    AA=P*AA\n",
        "    %%%%%%%%%%%%%%%%%\n",
        "    mi=zeros(n,1);\n",
        "    for k=1+i:n\n",
        "      mi(k)=-AA(k,i)/AA(i,i);\n",
        "    endfor\n",
        "    ei=I(:,i);\n",
        "    Mi=I+mi*ei',MMi=(Mi*P)*MMi,Ai=(MMi)*A\n",
        "    AA=Ai; pp=P*pp;\n",
        "endfor\n",
        "\n",
        "%%%U=MMi*A;L=inv(MMi);\n",
        "\n",
        "U=MMi*A;\n",
        "LL=inv(MMi)\n",
        "L=pp*inv(MMi);\n",
        "\n",
        "LU=pp'*L*U\n",
        "L=round(L);U=round(U);\n",
        "\n",
        "%U=MMi*A,L=inv(MMi),lu=L*U"
      ],
      "metadata": {
        "id": "vUKMGL805yCb"
      },
      "execution_count": null,
      "outputs": []
    },
    {
      "cell_type": "code",
      "source": [],
      "metadata": {
        "id": "k2oyiE6fDwSl"
      },
      "execution_count": null,
      "outputs": []
    },
    {
      "cell_type": "code",
      "source": [],
      "metadata": {
        "id": "rl2g3myK5JRv"
      },
      "execution_count": null,
      "outputs": []
    },
    {
      "cell_type": "markdown",
      "source": [
        "## **Sutitucion regresiva**"
      ],
      "metadata": {
        "id": "VOWV1BIuIumx"
      }
    },
    {
      "cell_type": "code",
      "source": [
        "function z=sr(A)\n",
        "n=length(A)-1;x=zeros(n,1);\n",
        "x(n)=A(n,n+1)/A(n,n);\n",
        "for i=n-1:-1:1\n",
        "    s=0;\n",
        "    for j=i+1:n\n",
        "        s=s+A(i,j)*x(j);\n",
        "    end\n",
        "    x(i)=(A(i,n+1)-s)/A(i,i);\n",
        "end\n",
        "z=x;"
      ],
      "metadata": {
        "id": "zpm8L7ge5JUu"
      },
      "execution_count": null,
      "outputs": []
    },
    {
      "cell_type": "markdown",
      "source": [
        "## **Sustitución hacia adelante**"
      ],
      "metadata": {
        "id": "1ptpccDxI5UR"
      }
    },
    {
      "cell_type": "code",
      "source": [
        "function z=sust_ADELANTE(A)\n",
        "n=length(A)-1;y=zeros(n,1);\n",
        "y(1)=A(1,n+1)/A(1,1);\n",
        "for i=2:n\n",
        "    s=0;\n",
        "    for j=1:n-1\n",
        "        s=s+A(i,j)*y(j);\n",
        "    end\n",
        "    y(i)=(A(i,n+1)-s)/A(i,i);\n",
        "end\n",
        "z=y;"
      ],
      "metadata": {
        "id": "qyszsOqgDuhj"
      },
      "execution_count": null,
      "outputs": []
    },
    {
      "cell_type": "code",
      "source": [
        "A=[1 2 1;2 5 5;3 7 8]\n",
        "b=[3;7;12]\n",
        "A0=[A b]\n",
        "[L1,U1]=LU1(A)\n",
        "A1=[L1 b]\n",
        "Y=sust_ADELANTE(A1)\n",
        "A2=[U1 Y]\n",
        "X=sr(A2)"
      ],
      "metadata": {
        "id": "eJw-CqeE6JT_"
      },
      "execution_count": null,
      "outputs": []
    },
    {
      "cell_type": "code",
      "source": [],
      "metadata": {
        "id": "vd0TZeKC5M5O"
      },
      "execution_count": null,
      "outputs": []
    },
    {
      "cell_type": "code",
      "source": [],
      "metadata": {
        "id": "uv9GWPCu5M8W"
      },
      "execution_count": null,
      "outputs": []
    },
    {
      "cell_type": "markdown",
      "source": [
        "## **Solución de un sistema de ecuaciones usando la descomposicion LU**\n",
        "\n",
        "$Ax=b \\Leftrightarrow LY=b \\ \\wedge \\ UX=Y$"
      ],
      "metadata": {
        "id": "iexmMh9T802W"
      }
    },
    {
      "cell_type": "markdown",
      "source": [
        "## **La descomposición QR**"
      ],
      "metadata": {
        "id": "t5gh4wRh6SfV"
      }
    },
    {
      "cell_type": "markdown",
      "source": [
        "Toda matriz que tiene rank máximo puede ser descompuesta en el producto\n",
        "\n",
        "$$A=QR$$\n",
        "\n",
        "Donde $Q$ es una matriz unitaria y $R$ es  triangular superior\n"
      ],
      "metadata": {
        "id": "gvu_R9Ij8GaC"
      }
    },
    {
      "cell_type": "markdown",
      "source": [
        "![image.png](data:image/png;base64,iVBORw0KGgoAAAANSUhEUgAAApsAAADLCAYAAAAhg1i6AAAgAElEQVR4Ae2d/49X2VnH91/o39A/QL4VYVkKZYiNiT9gp7PTjpJOWVa22CkdpdEUm2g0sQtJd8Yd2ylY6lTKLq60FtgughYKG2qtmWyjxYpdGhW0yhKyCqWhQ4656nzmuZ/5fDv38zznnnPuaxLCMJ97z3M+7/N+P89rLt+ecHygAAqgAAqgAAqgAAqggJECTxity7IogAIogAIogAIogAIo4IBNTIACKIACKIACKIACKGCmALBpJi0LowAKoAAKoAAKoAAKAJt4AAVQAAVQAAVQAAVQwEwBYNNMWhZGARRAARRAARRAARQANvEACqAACqAACqAACqCAmQLAppm0LIwCKIACKIACKIACKABs4gEUQAEUQAEUQAEUQAEzBYBNM2lZGAVQAAVQAAVQAAVQANjEAyiAAiiAAihQswK/9Qfn3drRGfcz73uBH2gQnQfWvH/GTX/6TOWUAJuVpeNGFEABFEABFNBRYN37Z6MDDMAX8C954BdfqGx2YLOydNyIAiiAAiiAAjoKlIY6T/YA70g9UNXtQ8Hma1e/70b2HMUUkZqC5mXzXem2yXl34uxi1cwlfx+5t/EVeY1bV+vcdzr/LXtPu52/9jo/0KBWD0hvVh1gQ8EmoBl3c5QG4XPds9o4/mLVzCV/H7nX9RLZTEdPy9x388GWZ79SK2gAu8C+9GbVATYUbMoN8Hk6DZOz0jmrqqFL/T78o+MfdExTR6v8Sj9MHjq18juGozNu674zACdPN2vzgPRmVf+rwSbf/fDdTxM8oBG6qmGN5T6pQRPOnPdIb5Oet8qhrPHg4SMHcOK7WHqP9GZV/wObfLdU23dLsQTJZx8aoasa1ljukxr4aMe1DM9UPSA9b5XD9hp37t13u6YWWk8414zOum37z9OvmdnBPdDuzSoZADYxbnDjpjpwin1rhK5KUGO6R2qQ8lmyd+B3UA9Iz1tlsVMNgBOPDupRy+s6edM3B8AmsAlsenhAI3S+IY3teqmBZYNjbQZtLB6QnrfKY7cat//j7dK/+lI84dw+dZG+7dG3Y/FRqvvo5k2fLACbGJam5eEBjdD5BDTGa6UGqTZP9g3I+nhAet4qk71q3Lx1twSca8fmAE6Pvu1z1ly7ujf08uageQA2MSyw6eEBjdANGs5Yr5Ma0JhXN2Y0yU8T6XmrXPar8f2b/+k2T8y1/ihPAZw7Dlyif3v0b7JZLZv9vDlIJoBNjEqz8vCARugGCWbM10gNaN7Vmje6paWb9LxVNgepsXj9dgk414/PA5we/ZvcVcvdIN7slwtgE6MCmx4e0Ahdv1DG/rrUgOZdrXmjW1q6Sc9b5XPQGt/5+39168ZW/h/1AjhHPv5N+rhHHyd/fvkb1Ju9sgFsYlCalIcHNELXK5ApvCY1oGn7NW30SlMv6XmrjPrUuHDtRgk4N0wccyPTV+jlHr2cLA6eRR9vdssHsIk5aVAeHtAIXbcwpvJ1qQENe/CGjVbpaiU9b5VT3xoFcMp7AM50/RV7b5A+q+p/YNMDNGI3BPuzbzYaoasa1ljukxrgOXvPoXH9GkvPW+WwSo0TZxdLwLlx94LbOX2VBwjMdVUPVPFme06ATUypasrcB6NG6NpDmNqvpQa5nzfvr37Qi+EMpOet8lq1BsCJR60zUtWbMivAJrAJbHp4QCN0MoApfi41sG5yrM8gjcED0vNWmR2mxuHjl0tPODd96Mv0dY++HoPHYt7DMN5czguwiSFpSh4e0AjdcvhS/VlqEHODZG+AqpYHpOetcjtsjVXAOXmS3u7R27W8kuM6w3qzyAywiRlpSB4e0Aid1bAKta7UIMfGynsCUts9ID1vlTONGr/xma+XnnA++cwr9HeP/t5+7vz6/3qBhjeBTYxIM/LwgEborIZVqHWlBjRjwKwJHpCet8qZRo2lpcfu4JFzJeDcsvc0Pd6jxzfBz77vUcObwCYmpBF5eEAjdFbDKtS6UgPfpsX1wGmKHpCet8qZVo0COH/lt0+XgfPZr9LnPfp8ih613LOGN4FNDEgT8vCARuishlWodaUGlg2OtQHTWDwgPW+VM80aDx4+cpOHTq0A5+iM27rvDL3eo9fH4r0Y9qHhTWAT89GAPDygETqrYRVqXalBDI2QPQCl1h6QnrfKmXaNAjif/vUTJeB893Pn6Pce/d7aV6msr+FNYBPj0Xw8PKAROqthFWpdqUEqzZJ9AqTDeEB63ipnFjXu3Lvvdk0ttIBzzeis27b/PD3fo+cP45tc7tXwJrCJ6Wg8Hh7QCJ3VsAq1rtQgl2bK+wBGe3lAet4qZ1Y1CuD8hf1fBDg9+nwvLzTxNQ1vApsYENj08IBG6KyGVah1pQZNbLy85+aBqfS8Vc4sa9y8ddeN7DnaAs61Y3Nu+9RFer9H729y7jW8CWxiNhqOhwc0Qmc1rEKtKzVocgPmvTcHOqXnrXJmXQPgbI5ftXuThjeBTQ/Q0D5A1ksv/BqhsxpWodaVGuDh9DzMmfmfmfS8Vc5C1PjuP/6b2zwx13rCue7pz7odBy7xwAEO6OkBDW8Cm5isp8kYTOXBpBE6q2EVal2pAf4o+wM98tRDet4qZyFqFHtfvH67BJzrx+cBTjigJwdoeBPYxGQ9TcbwLA9PjdBZDatQ60oN8EfZH+iRpx7S81Y5C1Fjee+vL/7QrRubbT3hXP+BeTcyfYVZAA909ICGN4FNzNXRXAzNzkNTI3TLDT/Vn6UG+KSzT9AlL12k561yG6KG3PuFazdKwLlh4hjACQ905AENbwKbmKujuRiWnYelRuhkw0/xc6kBPunsE3TJSxfpeavMhqjRvvevfeN7raebRf0NE3/kdk5fZSbABSUPaHgT2MRUJVMxJHsPSY3QtTf81H4tNcAvvf2CPnnoIz1vldcQNTrt/cTZxRJwbty9AHDCBSUu0PAmsImpSqZiOPYejhqh69TwU/qa1AC/9PYL+uShj/S8VVZD1Oi29y985W9WAyezkdn4/x7Q8CawSaAIlIcHNELXreGn8nWpATCVB0xxjr3PUXreKqchavTa++Hjl0vAuWnyJLPBYzbknCENbwKbmImG4uEBjdD1avgpvCY1yLnB8t56A1iT9JGet8poiBr99g5w4vlOudbwJrDpARqdDoGvNSucGqHr1/Bjf11qgP+b5f+mnrf0vFU+Q9Tot/elpcfu4JFzpSecTz7zZzyQaDgnaHgT2Gy4iZo6PKq+b43Q9Wv4sb8uNaiqI/cBqSl5QHreKp8hagyy907AuWXvaYCzwayg4U1gs8EGSqnZx7JXjdAN0vBjvkZqEMu5sA/g1dID0vNW2QxRY9C9/+TRT93koVOlJ5xP7fsawNlQXtDwJrDZUPNYNuac19YI3aANP9brpAY5nzXvDYBd9oD0vFUuQ9Tw2fuDh4/KwDk647buOwNwNpAZNLwJbDbQOMsNlJ/9h6lG6HwafozXSg3wkL+H0Cw9zaTnrTIZoobv3gvg3DW1sPKEc3TGbdv/dYCzYdyg4U1gs2GmYdANN+g0Qufb8GO7XmqAn4bzE/qloZ/0vFUeQ9Sosvc79+6XgHPN6Kzbtv88wNkgdtDwJrDZIMMw2IYfbBqhq9LwY7pHaoCnhvcUGsavofS8VRZD1Ki69wI4f+7ZY60nnAVwbv/oXwCcDeEHDW8Cmw0xCwNNZ6BphK5qw4/lPqkBvtLxFTrGraP0vFUOQ9QYZu83b911I3uOtoBz7dic2z51EeBsAENoeBPYbIBRGGR6g0wjdMM0/BjulRrgLT1voWW8WkrPW2UwRI1h914A51O7PwtwNowbNLwJbDbMNAy04QaaRuiGbfh13y81wE/D+Qn90tBPet4qfyFqaOx98fptt3lirgWc68fn3Y4Dl3jCmTFLaHgT2MzYIAwy/UGmETqNhl/nGlIDPKbvMTSNT1PpeavshaihtXeAMz6PWvYNDW8Cm8Am35F6eEAjdFoNv651pAaWDY61mzXQYj5v6Xmr3IWoobn3C9duuHVjs60nnBs+eMyNTF9hnnjMk5g9L/em4U1gM0NjSJPwue7A1gidZsOvYy2pAf7S9Rd6xqmn9LxV5kLU0N77KuCcADhzzLCGN4FNYJPvRD08oBE67YYfej2pQY6NlfcUJ/DVeS7S81Z5C1HDYu9/ev67raebxXt41y8ddzunrzJXPOZKnd4epLaGN4HNjAwxiGm4ZrhBqhE6i4Yfck2pAX4azk/ol4Z+0vNWWQtRw2rvJ84uloBz4+4FgDMjttDwJrCZkSEYXPaDSyN0Vg0/1LpSAzxn7zk0rl9j6XmrnIWoYbX3Yt3PvfytEnD+7O4v8XQzE77Q8CawmYkZGEhhBpJG6Cwbfoi1pQb4Lozv0LlenaXnrTIWoobV3pfXPXz8cgk4N02eBDgzYAwNbwKbGRiBQRRuEGmEbrkxp/qz1ADvhfMeWtentfS8VW5D1LDau1z3dz57sQScmz/8MsCZOGdoeBPYTNwEDKCwA0gjdLIxp/i51AD/hfUfetejt/S8VWZD1LDau1x3aemxO3jkXAk4t+w9DXAmzBoa3gQ2EzYAgyf84NEInWzMKX4uNcCD4T2I5uE1l563ymyIGlZ7b1+3AM6Pf/oMwJkJX2h4E9jMxAwMoDADSCN07Y05tV9LDfBdGN+hc706S89b5TVEDau9d1r3wcNHbvLQqRXgHJ1xW/ed4Qlngsyh4U1gM8GDZ/DUN3g0QtepMaf0NakBXqzPi2gfTnvpeaushqhhtfdu6wKc4Txq2Q80vAlsApt8p+nhAY3QdWvMqXxdamDZ4Fg7j0GVwzlKz1vlNEQNq733Wvfe2z92u6YWSk84t+0/z9zxmDt1Z0jDm8BmQgdet+Go//pKw3zfC736a9avycaDJwDCJnhAet4q3CFqWO2937p37t0vAeea0VkHcKbTOzS8CWwCm3yH6eEBjdD1a8yxvy41aAJo8B7TGYpWZyU9b5XPEDWs9j7Iurf/4203sudo6xv2Aji3f/Qi88dj/lj5u9+6Gt4ENhM46H5G4PVww1AjdIM05pivkRrgvXDeQ+v6tJaet8pmiBpWex903Zu37paAc+3YnNs+BXDGnm0NbwKbwCbfWXp4QCN0gzbmWK+TGsTeJNlffYCWk/bS81a5DFHDau8+6/7TP7/lNk/MtZ5wFsC542PfYA55zKHQ2dLwJrAZ8QGHNhT1+g9mjdD5NOYYr5Ua4Jn+nkGj9DWSnrfKZIgaVnv3XXfx+u0ScK4fn3c7DlwCOCPlEQ1vApuRHi4DKs4BpRE638Yc2/VSA3wap085F91zkZ63ymOIGlZ7r7JuAZzrxmZbTzgL4Bw5cBngjJBJNLwJbEZ4sAwK3UGhqadG6Ko05pjukRpoasta8fq+6WcjPW+VxRA1rPZedd0L126UgHPDxDE3Mn0F4IyMSzS8CWxGdqhNb+qxv3+N0FVtzLHcJzWI/bzYHwCr4QHpeaschqhhtfdh1i2AU753gDO+zMrzqXrWwCawyXeRHh7QCF3VsMZyn9RAY5CzRnzDhTMpn4n0vFUOQ9Sw2vuw6544u1gCznf98hfdzumrzCaP2WSZWQ1vApuRHKalUVi7PDiG0UMjdMM25rrvlxoMoyX36vkSLW21lJ63yl+IGlZ711i3HTg37l4AOCPhEw1vApuRHCbDwnZYaOmrETqNxlznGlIDLV1ZJw3/N/WcpOetsheihtXetdb9zMKV0hPOTR/6Mk83I2AUDW8CmxEcZFMbeIrvWyN0Wo25rnWkBimeIXsGbH09ID1vlbsQNaz2rrnu4eOXy8A5eRLgrJlTNLwJbNZ8iL5Nj+vrHZQaodNszHWsJTXAj/X6Ef3D6C89b5W5EDWs9q697idnXisB55N7/hTgrJFVNLwJbNZ4gAyKMINCU2eN0Gk35tDrSQ00tWWt9PLQlDOTnrfKW4gaVnvXXndp6bE7eORcCTi37D0NcNbEKxreBDZrOrymNOnc3qdG6LQbc+j1pAa5nS/vB+Dt5AHpeau8hahhtXeLdQvg3P+7Xy0D57NfAThrYBYNbwKbNRxcp2bG19IYchqhs2jMIdeUGuDbNHzLOQ13TtLzVlkLUcNq71brPnj4yE0eOrUCnKMzbuu+MwBnYG7R8CawGfjQaPrDNf269dMInVVjDrWu1KDu86B+2nlK5fyk561yFqKG1d4t1y2A84OfOFkCznc/dw7gDMguGt4ENgMeWCqNlX12H+AaobNszCHWlhrgle5eQZt8tJGet8pYiBpWe7de9869+27X1EILONeMzrpt+88DnIH4RcObwGagw2Lw5DF4NEJn3Zit15ca4Os8fM059j5H6XmrfIWoYbX3EOsCnL09aplhDW8Cm8Am3x16eEAjdCEas2UNqYFlg2Pt+oYL2pe1l563ylaIGlZ7D7XuzVt33cieoytPOMdedNunLjLDPGZYlWxreBPYND6kKgfLPeVGH5MeGqEL1Zit6kgNYjob9hJvblI/G+n5ELmyqpHDuu3AuXZsDuA05hgN/wObxoeUepNl/+UBrhG61Bu+1AB/lP2BHnnqIT1vld8QNaz2Hnrd7/3gR27zxFzrCefap//Q7ThwiSecRjyj4U1g0+hwGDoMHcsG/MQTT7h+P6zqy8aDz/P0OedaPlfp+RC5sqqR07qL12+XgHP9+DzAacQzGv4HNo0Oh2Zdbta56KEROo2G//zzz7t+PzTqdFpDapDLufI+8syr1rlKz3fKhMbXQtTQ2GdMa7y++EO3bmy29YSzAM6R6Ss84VTmGg1vApvKh6LV3FgnzuGnEbqYmnWVvUgN8GmcPuVcdM9Fer5KZga5J0SNQfaR2jUXrt0oAeeGiWMApzLXaHgT2FQ+FJq8bpOPTU+N0KXWzNv3KzWI7XzYT975q+t8pefb86D16xA1tPYa2zrnvvkPraebhY4FcO6cvsoTTiW+0fAmsKl0GHU1QeqGHa4aodNo1P3+vGbxutWH1AD/hfUfetejt/R8iFxZ1ch53RNnF0vAuXH3AsCpxDca/h9qIskN0ATraYLoHlZ36fk6G3e/P69ZvG71ITXAf2H9h9716C09HyJXVjVyX/eP//xvAU4lwJS9RsP/wKbBwchD4vN6hoOV7hqhS73hSw2sdGbdvHKT+nlKz1vlN0QNq73HtO7h45dLwLlp8iS/nT4k52h4E9gc8hBSb6Ls32+oa4QupsZcZS9SA/zj5x/0SlMv6fkqmRnknhA1BtlHDtcAnLo50/AmsAls8l2fhwc0Qpd6M5caAE+6TR0949RTet4qvyFqWO09tnWXlh67g0fOlZ5wPvnMK8w6j1kne5GGN4HNiuLLg+DzOAeExblohC62xuy7H6mBhcas2Zw8pXLW0vO+eRn0+hA1Bt1LDtd1As4te08DnBWYR8ObwGYF4VNpkOxTf2hrhC71Ri41wGP6HkPT+DSVnrfKb4gaVnuPdd0COCcPnSo94Xxq39cATk/u0fAmsOkpOoMgvkEQ8kw0QhdrYx50X1KDkNpTq9nZq/P8pecHzYnvdSFq+O4ph+sfPHxUBs7RGbd13xmA04N9NLwJbHoIXmezo3Ycg1YjdKk3cKkBvozDl5yD7TlIz1vlN0QNq73Hvm4BnKMf/9LKE87RGffuj7wKcA7IPxreBDYHFJtmbtvMU9FXI3SxN+Z++5MapHJu7JP8DuMB6fl++aj6eogaVfeWw3137t13u6YWWsC5ZnTWbdt/HuAcgIE0vAlsDiD0ME2Ke/MachqhS71xSw3wd17+5jw7n6f0vFV+Q9Sw2nsq6xbA+fPPfaEMnL8KcPbLvYY3gU1gk+/sPDygEbpUGnO3fUoN+jUpXu8ML+iSli7S891yMezXQ9QYdo853H/z1l03sudoCzjXjs257VMXmYM95qCGN4HNHgIzENIaCCHOSyN0qTdsqUEIzalBDuv2gPS8VX5D1LDae2rrFsC5bXIe4ByQfzS8CWwOKHbdzY76cQxcjdCl1pjb9ys1wJdx+JJzsD0H6fn2PGj9OkQNrb3msM7i9dtu88RcCzjXj8+7HQcu8YSzAxNpeBPY7CAsjdu2caesr0boUm/UUoOUz5K9k/NBPSA9b5XfEDWs9p7qugDnYD1Aw5vAJrDJd3IeHtAIXaqNeXnfUoNBhzXXDdbU0SlOnaTnl3Og/XOIGtp7zmG9b3z7B27d2OzKE84PHHUj01eYi2IuangT2BSC0ujjbPQxnYtG6FJv0FKDmM6GvZBfKw9Iz1vlN0QNq72nvu6FazdKwLlh4hjAKdhIw5vAphDUqlGxbj5DUCN0qTdmqQHezsfbnGX3s5Set8pviBrD7P2ll15y733ve90TTzzR+lH8en5+3r311lvDLB3Fvacv/l3r6WZxFhsmvuB2Tl/lCeevvV7SpephAZvAJmHy8EDsA6FqI/C5T2oAoHQHFLTJRxvpeZ+s+FwboobPfpavLUByw4YNLcCUsLn8efH6G2+8sXxLsj+fOLtYAquNuxcATmAzn0bGUErnLGMdCCG7u9QA76bjXc6q+llJz1tlLUSNKnvvB5rLwPnOd74ziyecn3v5W23A+aXGP5DR8CZPNj2eatGsqzfrXLTTCF2Vhh/TPVKDXM6V90G2e3lAet4qiyFq+O79+eef7/lEcxk0l3/+5Cc/6VsiyusPH79cAs5NkycbDZwa3gQ2gc1Gh6jXgOn0mkboouyuHpuSGnTSiK8Bbrl5QHreIypel4ao4bUh51zxtHIZJIufi6ecV69e/d9l3nzzzY6/vZ7Dn98s3uDvff6vSsC5+cMvNXZWangT2AQ2GxugKgNRI3S+DT+266UGVTTkHmA0NQ9Iz1vlMUQNn70XUClBs/h8GTSX1ymAs/2a4i8S5fCxtPTYHTxyrgScW/aebuS81PAmsAlsNjI8VYedRuhSb8RSg6o6ch/AmZIHpOet8huihs/e238LvXjK2emj/c90fuQjH+l0WZJfAzj/r09peBPYBDaBTQ8PaIQuya4rNi01SAkY2CuAW9UD0vMiCqqfhqjhs+Hx8fHSU8vinznq9FH8OU35dLPbdZ3uTeFrDx4+cpOHTpWecG7dd6ZRc1PDm8CmB2hUbVTcl8+Q0whdCg221x6lBng7H29zlt3PUnq+VzaGeS1EDZ/9tf+bmt3+8k/7E9ACPHP7WAWcozOuScCp4c2hXCE3QKPq3qjQJh9tpOdza6iDvh+pAd7Ox9ucZfezlJ4fNCe+14Wo4bOn9r8cVEBlp48mwGbxvu+9/WO3a2ph5Qnn6Izbtv+1Rjzh1PAmsMmTzUaERWuQaoSuU8NO6WtSAy1dWac76KBN/dpIz1tlNUQNn73L3xovPm86bBba3bl3vwSca0Zn3bb957OfoRreBDaBzeyDojmsNULn0/BjvFZqoKkta9UPVZxB5zOQnrfKZIgaPnsHNjur9aO3/tuN7DnaesJZAOf2j17Meo5qeBPYBDazDon28NQIXecWls5XpQba+rJeZ9hBl3p1kZ63SmqIGj57Bza7q3Xz1t0ScK4dm3Pbp/IFTg1vApvAJrDp4QGN0HVvYWm8IjUAguqFIPQPo7/0vFVKQ9Tw2Tt/ZrO3WgVwbp6Yaz3hLIDzPR/7qyznqYY3gU0P0KCxh2nsMeusEbreLSz+V6UGMZ8VeyOvWh6QnrdKaIgaPnvnb6P3V2vx+u0ScK4fn3c7DlzKDjg1vAlsApvZBUNrwHRaRyN0/VtY3FdIDTppxNeAvNw8ID1vlc4QNXz23g6b3f79zNz/nc1+mhXAuXH8xdYTzhyBU8ObwCawCWx6eEAjdP2aV+yvSw1ygwreD6DcyQPS81b5DFHDZ+/t/6RRt/9BqB1Kc/ofhAbV68K1G27d2GwLODdMHHMj01eyma0a3gQ2PUCjUxPia80aThqhG7SBxXqd1AD/N8v/TT1v6XmrXIao4bP3V199tfQ/AxV/YahJ/ze6j1bFtTkDp4Y3gU1gM5vvvkIMQo3Q+Tax2K6XGoTQnBoAbd0ekJ63ymOIGr57f8c73lECzuLp5jJwvvnmm679/0UvgPStt97yLZPN9SfOLraebhbn+a5f/qLbOX01+Rmr4U1gE9hMPgghB5FG6FLvrFKDkNpTC+isywPS81b5DVHDd+/tv5Xe/s8htf+6239p6Vs35evbgXPj7oXkgVPDm8AmsAlsenhAI3QpN9Ji71KDuoY/dQHPkB6QnrfKb4gavnsvnlJ2enrZDpnFr4unnk1+qim1nf2T10t9ctOHTiQ9ZzW8CWx6gEbI5katOIepRuhkU0rxc6kBPo3Tp5yL7rlIz1tlNkSNKnsvALL9LwG1w2YBpG+88UaV5bO95/Dxy2XgnDyZLHBqeBPYBDaTDUAdA1UjdKl3V6lBHWdATV2QQs/+ekrPW+U3RI1h9v7SSy+58fFxJ/8cZwGh8/PzPNHsIuynXvyLEnBu/vDLSc5bDW8Cm8Bmkuava0BqhK5LX0rmy1KDus6Buv0BCY30NJKetwpqiBpWe2fdzgosLT12B4+cKwHnlr2nk5u5Gt4ENoHN5Ixf5xDVCF3ntpTOV6UGdZ4FtfVgCi17ayk9b5XUEDWs9s663RUogHP/7361DJzPfiWpuavhTWAT2EzK9HUPRY3QdW9LabwiNaj7PKjfG5LQR0cf6XmrlIaoYbV31u2twIOHj9zkoVMrwDk647buO5PM7NXwJrAJbCZj+BgGp0boerel+F+VGsRwJuxBB6jQsbuO0vNWCQ1Rw2rvrNtfgQI4d//my0kCp4Y3gU1gE9j08IBG6Pq3pbivkBoAKN0BBW3y0UZ63iqdIWpY7Z11B1Pgzr37btfUQgs414zOum37z0c/gzW8CWx6gAbDI5/hUfUsNUI3WFuK9yqpQVUduY8speQB6XmrZIaoYbV31h1cgRSBU8ObwCawGf13VTENJY3QDd6W4rxSahDT2bAXANbKA9LzVqkMUcNq76zrp8C//Ps9N/nLfqIAAAsOSURBVLLn6MoTzvf/gds+dTHaWazhTWAT2IzW4FaDY5h1NULn15biu1pqMIyW3AscpuIB6XmrRIaoYbV31vVX4OatuyXgXDs2Fy1wangT2AQ2gU0PD2iEzr8txXWH1CAVWGCfgO0wHpCet0pjiBpWe2fdagp87wc/cpsn5lpPOAvg3HHgUnQzWcObwKYHaAzTrLg3j2GnEbpqbSmeu6QG+DoPX3OOvc9Ret4qiSFqWO2ddasrsHj9dgk414/PRwecGt4ENoHN6L6LinnwaYSueluK406pQcxnxd56AxT6DK6P9LxVCkPUsNo76w6nwF9/95/durHZ1hPOAjhHpq9EM5s1vAlsApvRGDqF4acRuuHaUv13Sw1SODP2ODhUoVVnraTnrRIYoobV3ll3eAUuXLtRAs4NE8eiAU4NbwKbwCaw6eEBjdAN35bqXUFqAJx0hhN0yUsX6Xmr9IWoYbV31tVR4LWr32893Sz8EAtwangT2PQADQZIXgOkynlqhE6nLdW3itSgiobcQ45S84D0vFXyQtSw2jvr6ilw4uxiCTg37l5wO6ev1vpQSMObwCawWauJGTp6TSrUSrLxpHZ+7BfQreIB6XmrnIWoYbV31tVVIDbg1PAmsAlsApseHtAInW5bCr+a1KDK4OYegC81D0jPWyUuRA2rvbOuvgKHj18uPeHc9KEv1zarNbwJbHqARmoNkv3qD3WN0Om3pbArSg3wmL7H0DQ+TaXnrdIWoobV3lnXRoFVwDl5shbg1PAmsAls1mLeVAeqRuhs2lK4VaUGqZ4j+44P6GI+E+l5q6SFqGG1d9a1U+DgkXOlJ5xPPvNK8Jmt4U1gE9gMbtyYh0q/vWmEzq4thVlZatBPL14H6nLwgPS8VcpC1LDaO+vaKbC09Ni1A+eWvaeDzm0NbwKbwGZQ06Y+eDRCZ9eWwqwsNUj9PNk/MDyIB6TnrVIWoobV3lnXVoECOJ/51CulJ5xP/cqfB5vdGt4ENoHNYIYdpKnHfo1G6Gzbkv3qUoPYz4v9AZMaHpCet0pYiBpWe2ddewUePHzkJg+dWgHO0Rm3dd+ZIPNbw5vAJrAZxKwaDT+GNTRCZ9+WbCtIDWI4E/YAUFp7QHreKl0haljtnXXDKFAA59O/fqIEnO9+7lXzGa7hTWAT2DQ3qvUgCLm+RujCtCW7KlKDkNpTC6isywPS81bJClHDau+sG06BO/fuu11TCy3gXDM667btP286xzW8CWwCm6YmrWs4WNXVCF24tmRTSWpgpTPrApYxeUB63iZVrgUPRS0+UKCXAgVw/vxzX2h5xho4NfwPbAKbwKaHBzRC16uJpPCa1CAmIGAvAKqVB6TnrTIaoobV3lk3vAI3b911I3uOtoBz7dic2z510WSea3gT2PQADatGxrrpDEmN0IVvS7oVpQZ4Nx3vclbVz0p6XjdNK6uFqLFSjc9yUCAUcGp4E9gENk2+E8p1sGmELvUmJzXI9Zx5X9XBLEftpOet8huihtXeWbc+BRav33abJ+ZaTzjXPf05t+PAJdW5ruFNYBPYVDVljoNGvieN0NXXlnQqSw2kNnwOoOXqAel5nRStXiVEjdVV+UoOCrQD5/rxeVXg1PAmsAlsApseHtAIXerNTWqQK1zwvgBn6QHpeav8hqhhtXfWrV+Bb37npls3Ntt6wrn+A593I9NXVOa7hjeBTQ/QkM2Hz5s5jDRCV39bGm4HUgNy0MwcNO3cpeeHS0/3u0PU6F6dV3JQ4MK1GyXg3DBxTAU4NbwJbAKbKt/5NGX4aIQu9aYmNWjKufM+mw3V0vNW+Q1Rw2rvrBuPAqcv/l3r6WbhqQ0Tf+R2Tl8das5reBPYBDaHMmHThrBG6OJpS9V2IjVo2vnzfpsJndLz1VLT/64QNfrvgityUODE2cUScG7cvTAUcGp4E9gENoFNDw9ohC71ZiY1AL6aCV9NO3fpeav8hqhhtXfWjU+Bo698uw04v1R51mt4E9j0AI2mNVje72qQ0AhdfG3Jb0dSAzyy2iNokp8m0vN+aRn86hA1Bt8NV+agwOHjl0vAuWnyZCXg1PAmsAlsVjJfUweqRuhSb2JSg6b6gPedH1D2OlPpeav8hqhhtXfWjVeB3z/2jaGBU8ObwCawCWx6eEAjdPG2pcF2JjXoNaB5rVlAlvN5S88PlhL/q0LU8N8Vd6SuwNLSY3fwyLkScG7Ze9pr7mt4E9j0AI2cmynvbTAw0Ahd6s1LaoBvBvMNOqWtk/S8VX5D1LDaO+vGrcCwwKnhTWAT2PT6DqfpQ1MjdHG3pf67kxo03Q+8/7QhctDzk57vn5BqV4SoUW1n3JWDAj959FM3eehU6Qnn1n1fG2j+a3gT2AQ2BzLboE059+s0Qpd645Ia5H7evL9mwGS/c5aet8pviBpWe2fdNBR48PBRGThHZ9zWfWf6MoCGN4FNYLOv0fo14ia9rhG6NNpS911KDZp09rzX5oKn9Hz3ZAz3Sogaw+2Qu3NQ4L/u/8TtmlpYecI5OuO27X+tJwdoeBPYBDZ7mowBWx6wGqFLvWFJDfBH2R/okace0vNW+Q1Rw2rvrJuWAnfu3S8B55rRWbdt//muLKDhTWAT2OxqMAbn6sGpEbq02tLq3UoN8Mhqj6BJfppIz69OhM5XQtTQ2Smr5KBAAZwje462nnAWwLn9oxc68oCGN4FNYLOjuRiYnQemRuhSb1RSA3zS2Sfokpcu0vNW+Q1Rw2rvrJumAjdv3S0B59qxObd96uIqJtDwJrAJbK4yFoOy+6DUCF2abWll11IDvNLdK2iTjzbS8ytJ0P0sRA3dHbNaDgoUwPnU7s+2nnAWwPmej/1liQs0vAlsApslUzEgew9IjdCl3qCkBvilt1/QJw99pOet8huihtXeWTdtBRav33abJ+ZawLl+fN7tOHCpxQYa3gQ2gc2WoRiM/QejRujSbkuu1ZAKLfBMf8+gUfoahch9iBqp9x72b6dAAZwbx19s9XcJnBreBDaBTYDBwwMaobNrF2FWlhoAUumDFGfY/wyl561SFqKG1d5ZNw8FLly74daNzbaAc8MHj7mR6SutXxcerfoBbHqABk25f1POXSMGAk82c/c47291nwuR+xA1qoIC9zVHgVXAOXEM2KQprm6KaGKrCQMB2CRjthmLUd8QuQ9RoznIxDsdRoGXvv5GCTA1vMmTTZ5s8tvoHh7QCN0wTSCGe6UGMYIBe2oeDFqfufS8VQZD1LDaO+vmp8CJs4sdgbPqO1WDTRkUPn+h4yGhS166VA1d6vfh47x8zHn6nadVfjkHv3NAr3r0qur/oWBT/ttMHHw9B4/u9ehe/CHqpn6Q+3o8R9br190y9+Sq/vMlY/3PoOrcGwo2i8es8q/Kc1D9DwqN0teoGDifWbhSNXPJ30fu0/cwfcj/DK1zT678zwQfh9Xsg5/4cuX5NRRsVq7KjSiAAiiAAiiAAiiAAo1QANhsxDHzJlEABVAABVAABVCgHgWAzXp0pyoKoAAKoAAKoAAKNEIBYLMRx8ybRAEUQAEUQAEUQIF6FAA269GdqiiAAiiAAiiAAijQCAWAzUYcM28SBVAABVAABVAABepRANisR3eqogAKoAAKoAAKoEAjFAA2G3HMvEkUQAEUQAEUQAEUqEcBYLMe3amKAiiAAiiAAiiAAo1QANhsxDHzJlEABVAABVAABVCgHgWAzXp0pyoKoAAKoAAKoAAKNEIBYLMRx8ybRAEUQAEUQAEUQIF6FAA269GdqiiAAiiAAiiAAijQCAX+B1xym7ggfKTXAAAAAElFTkSuQmCC)"
      ],
      "metadata": {
        "id": "3OgnNd5Z8GoS"
      }
    },
    {
      "cell_type": "code",
      "source": [],
      "metadata": {
        "id": "47ICNZo56Swj"
      },
      "execution_count": null,
      "outputs": []
    },
    {
      "cell_type": "markdown",
      "source": [
        "## **Solución de un sistema de ecuaciones usando la descomposicion QR**\n",
        "\n",
        "$Ax=b \\Leftrightarrow RX=Q^tb $"
      ],
      "metadata": {
        "id": "9LPcwOY2_IT1"
      }
    },
    {
      "cell_type": "code",
      "source": [
        "function [Q,R,QR]=DesQR(A)\n",
        "n=length(A);\n",
        "Ai=A;\n",
        "Q=eye(n);\n",
        "for i=1:n-1\n",
        "    j=0;\n",
        "    x=[];\n",
        "    for k=i:n\n",
        "        j=j+1;\n",
        "        x(j)=Ai(k,i);\n",
        "    end\n",
        "    xi=x'\n",
        "    [Hi,U]=matrizHC(x');\n",
        "    Hsigma=Hi*xi\n",
        "    for m=length(Hi)+1:n\n",
        "    z=cat(2,zeros(length(Hi),1),Hi);\n",
        "    I=eye(m);\n",
        "    Hi=cat(1,I(1,:),z);\n",
        "    end\n",
        "    Hi   ;\n",
        "    Ai=Hi*Ai;\n",
        "    Q=Q*Hi\n",
        "    R=Q'*A;\n",
        "end\n",
        "Q;R;\n",
        "QR=Q*R;"
      ],
      "metadata": {
        "id": "43e4Ng78_IkE"
      },
      "execution_count": null,
      "outputs": []
    },
    {
      "cell_type": "markdown",
      "source": [
        "---"
      ],
      "metadata": {
        "id": "K4eLwcMS5yho"
      }
    },
    {
      "cell_type": "markdown",
      "source": [
        "**Trabajo encargado**"
      ],
      "metadata": {
        "id": "S2DaSgK3vDz-"
      }
    },
    {
      "cell_type": "markdown",
      "source": [
        "1. Usando el programa para hallar la descomposición $QR$ mediante el algoritmo de Gram Schmidt, obtenga la descomposición $QR$ de la matriz $H$ donde\n",
        "\n",
        "$$h_{ij}=\\frac{1}{i+j-1}   \\    i,j=1,2,….,n$$\n",
        "\n",
        ">Calcule $QQ^t$ y compare con la matriz identidad analice lo que puede observar. Utilice $n=10$\n",
        "\n",
        "\n",
        "2. \tUn algoritmo alternativo al método de Gram Schmidt es el método de Gram Schmidt modificado que es obtenido de la siguiente forma: dada la base $a_1,a_2,…,a_n$ calculamos\n",
        "$q ̃_1=a_1/‖a_1 ‖_2$\n",
        "\n",
        ">En el paso k del algoritmo modificamos el cálculo de $q_{k+1}$ de la siguiente manera\n",
        "\n",
        "$$a_{k+1}^{(1)}=a_{k+1}-〈q ̃_1,a_{k+1}〉q ̃_1\\\\\n",
        "a_{k+1}^{(2)}=a_{k+1}^{(1)}-〈q ̃_2,a_{k+1}^{(1)}〉 q ̃_2\\\\\n",
        "a_{k+1}^{(k)}=a_{k+1}^{(k-1)}-〈q ̃_k,a_{k+1}^{(k)} 〉 q ̃_k\n",
        "$$\n",
        "\n",
        ">Pruebe que\n",
        "\n",
        "$$a_{k+1}^{(k)}=q_{k+1}\\\\\n",
        "q ̃_{k+1}=\\frac{a_{k+1}^{(k)}}{‖a_{k+1}^{(k)} ‖_2}$$\n",
        "\n",
        "\n",
        "\n",
        "\n",
        "\n",
        ">Implemente el algoritmo de método de Gram Schmidt modificado y repita el ejercicio (1)"
      ],
      "metadata": {
        "id": "uzookDfzvHwX"
      }
    }
  ]
}
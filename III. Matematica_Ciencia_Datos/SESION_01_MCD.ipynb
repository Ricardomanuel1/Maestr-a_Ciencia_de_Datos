{
  "nbformat": 4,
  "nbformat_minor": 0,
  "metadata": {
    "colab": {
      "provenance": [],
      "include_colab_link": true
    },
    "kernelspec": {
      "name": "python3",
      "display_name": "Python 3"
    }
  },
  "cells": [
    {
      "cell_type": "markdown",
      "metadata": {
        "id": "view-in-github",
        "colab_type": "text"
      },
      "source": [
        "<a href=\"https://colab.research.google.com/github/Ricardomanuel1/Maestria_Ciencia_de_Datos/blob/main/III.%20Matematica_Ciencia_Datos/SESION_01_MCD.ipynb\" target=\"_parent\"><img src=\"https://colab.research.google.com/assets/colab-badge.svg\" alt=\"Open In Colab\"/></a>"
      ]
    },
    {
      "cell_type": "markdown",
      "source": [
        "<img src=\"https://drive.google.com/uc?export=view&id=1ixeSQe4-IjSpN6IqL8Ae3fMU9sxUGJIu\" width=\"1200\">\n"
      ],
      "metadata": {
        "id": "q2ms9ds1JWuZ"
      }
    },
    {
      "cell_type": "markdown",
      "source": [
        "\n",
        "### <center> $Sistema \\ de \\ Ecuaciones \\ lineales$"
      ],
      "metadata": {
        "id": "i4FtX5ikIdfu"
      }
    },
    {
      "cell_type": "markdown",
      "source": [
        "**Sesión de Laboratorio 01 :** Entorno Phyton\n",
        "\n",
        "**Profesor:** Sergio Moisés Aquise Escobedo\n",
        "\n",
        "**Estudiante de Posgrado** ........................................."
      ],
      "metadata": {
        "id": "4oOZuHrvJZuJ"
      }
    },
    {
      "cell_type": "markdown",
      "source": [
        "---"
      ],
      "metadata": {
        "id": "L6bJsNMyJmke"
      }
    },
    {
      "cell_type": "markdown",
      "source": [
        "## **Operadores aritméticos**\n",
        "\n",
        "**Suma:** +\n",
        "\n",
        "**Resta:** -\n",
        "\n",
        "**Producto:** *\n",
        "\n",
        "**Cociente:** /\n",
        "\n",
        "**Potencia:** **\n",
        "\n",
        "## **Operadores  lógicos y de relación**\n",
        "\n",
        "**Igual:** ==\n",
        "\n",
        "**Diferente:** !=\n",
        "\n",
        "**El conectivo ∧:**  &\n",
        "\n",
        "**El conectivo ∨:**  |\n",
        "\n",
        "<  ;  > ;  <=  ;  >=\n",
        "\n",
        "\n"
      ],
      "metadata": {
        "id": "MeR5JNkRMxwU"
      }
    },
    {
      "cell_type": "markdown",
      "source": [
        "---\n",
        "---"
      ],
      "metadata": {
        "id": "m0boXKKAMz4C"
      }
    },
    {
      "cell_type": "markdown",
      "source": [
        "## **Operadores y funciones matemáticas**\n",
        "\n",
        "**Ejemplos:**"
      ],
      "metadata": {
        "id": "Cm-sonp7tHBA"
      }
    },
    {
      "cell_type": "code",
      "source": [
        "import numpy as np\n",
        "import matplotlib.pyplot as plt\n"
      ],
      "metadata": {
        "id": "-6Qz31SPcMd_"
      },
      "execution_count": null,
      "outputs": []
    },
    {
      "cell_type": "code",
      "source": [
        "np.sqrt(3)\n"
      ],
      "metadata": {
        "colab": {
          "base_uri": "https://localhost:8080/"
        },
        "id": "bCR-Vm--civt",
        "outputId": "8bc10502-2b36-49f5-aaf4-afc1e432fad5"
      },
      "execution_count": null,
      "outputs": [
        {
          "output_type": "execute_result",
          "data": {
            "text/plain": [
              "1.7320508075688772"
            ]
          },
          "metadata": {},
          "execution_count": 10
        }
      ]
    },
    {
      "cell_type": "code",
      "source": [
        "2**5"
      ],
      "metadata": {
        "colab": {
          "base_uri": "https://localhost:8080/"
        },
        "id": "6C9wkTsE3qbP",
        "outputId": "343e4bea-152c-45a5-aead-ed52ac2f8d31"
      },
      "execution_count": null,
      "outputs": [
        {
          "output_type": "execute_result",
          "data": {
            "text/plain": [
              "32"
            ]
          },
          "metadata": {},
          "execution_count": 12
        }
      ]
    },
    {
      "cell_type": "code",
      "source": [
        "1/3"
      ],
      "metadata": {
        "colab": {
          "base_uri": "https://localhost:8080/"
        },
        "id": "lT7at6r93vXt",
        "outputId": "8040a19a-27a3-45ec-e126-4682095258a4"
      },
      "execution_count": null,
      "outputs": [
        {
          "output_type": "execute_result",
          "data": {
            "text/plain": [
              "0.3333333333333333"
            ]
          },
          "metadata": {},
          "execution_count": 13
        }
      ]
    },
    {
      "cell_type": "code",
      "source": [
        "5==2"
      ],
      "metadata": {
        "colab": {
          "base_uri": "https://localhost:8080/"
        },
        "id": "1TbPpIAq30nW",
        "outputId": "031604b2-33a2-4803-d29a-6380268b92fe"
      },
      "execution_count": null,
      "outputs": [
        {
          "output_type": "execute_result",
          "data": {
            "text/plain": [
              "False"
            ]
          },
          "metadata": {},
          "execution_count": 14
        }
      ]
    },
    {
      "cell_type": "markdown",
      "source": [
        "## **Creación de funciones**"
      ],
      "metadata": {
        "id": "wkvF2g9Rt88s"
      }
    },
    {
      "cell_type": "markdown",
      "source": [
        "**Ejemplo:** Crear la función suma de dos numeros"
      ],
      "metadata": {
        "id": "dpKBn_JYuMlJ"
      }
    },
    {
      "cell_type": "code",
      "source": [
        "def  suma2(x,y):\n",
        "\n",
        "    resultado=x+y\n",
        "\n",
        "    return resultado"
      ],
      "metadata": {
        "id": "r5xFCTOC71Lr"
      },
      "execution_count": null,
      "outputs": []
    },
    {
      "cell_type": "code",
      "source": [
        "z=suma2(25,13)\n",
        "print(z)"
      ],
      "metadata": {
        "colab": {
          "base_uri": "https://localhost:8080/"
        },
        "id": "a2ft5Tjr75Q3",
        "outputId": "9c176b6b-dd1b-413d-8337-3bb52963f2f5"
      },
      "execution_count": null,
      "outputs": [
        {
          "output_type": "stream",
          "name": "stdout",
          "text": [
            "38\n"
          ]
        }
      ]
    },
    {
      "cell_type": "markdown",
      "source": [
        "**Ejemplo:** Crear la función que permita hallar el área lateral de una caja rectangular de lados $x,y,z$"
      ],
      "metadata": {
        "id": "Ewj1rzb9YXV7"
      }
    },
    {
      "cell_type": "code",
      "source": [],
      "metadata": {
        "id": "d_XuwKR8YXgu"
      },
      "execution_count": null,
      "outputs": []
    },
    {
      "cell_type": "code",
      "source": [],
      "metadata": {
        "id": "qo5njM12Z46e"
      },
      "execution_count": null,
      "outputs": []
    },
    {
      "cell_type": "markdown",
      "source": [
        "**Ejemplo:** Cree una función que permita Ingresar el radio $r$ y la altura $h$ de un cilindro circular recto y que retorne su area de la superficie ($A=2 \\pi rh+ 2 \\pi r^2$) y su volumen ($V= \\pi r^2 h$)"
      ],
      "metadata": {
        "id": "cPujNWid27e6"
      }
    },
    {
      "cell_type": "code",
      "source": [],
      "metadata": {
        "id": "MPgCEwUr38M6"
      },
      "execution_count": null,
      "outputs": []
    },
    {
      "cell_type": "code",
      "source": [],
      "metadata": {
        "id": "4oyF5Je-38h7"
      },
      "execution_count": null,
      "outputs": []
    },
    {
      "cell_type": "markdown",
      "source": [
        "##**Grafico de funciones**"
      ],
      "metadata": {
        "id": "5VdImo2iup1q"
      }
    },
    {
      "cell_type": "markdown",
      "source": [
        " **Ejemplos** Grafica de funciones"
      ],
      "metadata": {
        "id": "UMCrUI9t7lZ_"
      }
    },
    {
      "cell_type": "code",
      "source": [
        "import numpy as np\n",
        "import matplotlib.pyplot as plt\n",
        "\n",
        "x = np.arange(0, 30, 0.1)\n",
        "#y=x+3\n",
        "y=np.sin(x)*x\n",
        "plt.plot(x,y,\"r\")\n",
        "#plt.plot(x,y,\"r:\")\n",
        "plt.show()"
      ],
      "metadata": {
        "colab": {
          "base_uri": "https://localhost:8080/",
          "height": 430
        },
        "id": "lQ42o85B79y_",
        "outputId": "7a41f6b6-094a-4945-f0e8-acd0290d547b"
      },
      "execution_count": null,
      "outputs": [
        {
          "output_type": "display_data",
          "data": {
            "text/plain": [
              "<Figure size 640x480 with 1 Axes>"
            ],
            "image/png": "[encoded data removed]"
          },
          "metadata": {}
        }
      ]
    },
    {
      "cell_type": "markdown",
      "source": [
        "----"
      ],
      "metadata": {
        "id": "p4P8hxcBvCGo"
      }
    },
    {
      "cell_type": "markdown",
      "source": [
        "**Trabajo encargado**"
      ],
      "metadata": {
        "id": "S2DaSgK3vDz-"
      }
    },
    {
      "cell_type": "markdown",
      "source": [
        "1.\n",
        "\n",
        "2.\n"
      ],
      "metadata": {
        "id": "uzookDfzvHwX"
      }
    }
  ]
}
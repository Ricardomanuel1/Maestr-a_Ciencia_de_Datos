{
  "nbformat": 4,
  "nbformat_minor": 0,
  "metadata": {
    "colab": {
      "provenance": [],
      "include_colab_link": true
    },
    "kernelspec": {
      "name": "python3",
      "display_name": "Python 3"
    }
  },
  "cells": [
    {
      "cell_type": "markdown",
      "metadata": {
        "id": "view-in-github",
        "colab_type": "text"
      },
      "source": [
        "<a href=\"https://colab.research.google.com/github/Ricardomanuel1/Maestria_Ciencia_de_Datos/blob/main/III.%20Matematica_Ciencia_Datos/SESION_04MCD_2.ipynb\" target=\"_parent\"><img src=\"https://colab.research.google.com/assets/colab-badge.svg\" alt=\"Open In Colab\"/></a>"
      ]
    },
    {
      "cell_type": "markdown",
      "source": [
        "<img src=\"https://drive.google.com/uc?export=view&id=1ixeSQe4-IjSpN6IqL8Ae3fMU9sxUGJIu\" width=\"1200\">\n",
        "\n"
      ],
      "metadata": {
        "id": "q2ms9ds1JWuZ"
      }
    },
    {
      "cell_type": "markdown",
      "source": [
        "### $Espacios \\ vectoriales \\ y \\ transformaciones \\ lineales$"
      ],
      "metadata": {
        "id": "i4FtX5ikIdfu"
      }
    },
    {
      "cell_type": "markdown",
      "source": [
        "**Sesión de Laboratorio 04 :** Autovectores y autovalores\n",
        "\n",
        "**Profesor:** Sergio Moisés Aquise Escobedo\n",
        "\n",
        "**Estudiante de Posgrado** ........................................."
      ],
      "metadata": {
        "id": "4oOZuHrvJZuJ"
      }
    },
    {
      "cell_type": "markdown",
      "source": [
        "---"
      ],
      "metadata": {
        "id": "L6bJsNMyJmke"
      }
    },
    {
      "cell_type": "markdown",
      "source": [],
      "metadata": {
        "id": "TRgcF81teFQ8"
      }
    },
    {
      "cell_type": "markdown",
      "source": [
        "---"
      ],
      "metadata": {
        "id": "N8SjiVLbvNx_"
      }
    },
    {
      "cell_type": "markdown",
      "source": [
        "Sea $A$ una matriz de orden $n$ , una matriz $X$ no nula  de orden $n×1$ es un autovector de la matriz   $A$ si existe un escalar $λ∈R$ tal que  se verifica\n",
        "\n",
        "\n",
        "$$AX=λX$$\n"
      ],
      "metadata": {
        "id": "wYqQJTgPcBEf"
      }
    },
    {
      "cell_type": "markdown",
      "source": [
        "## **Descomposicion $QR$**"
      ],
      "metadata": {
        "id": "DnFbD6ndNAKo"
      }
    },
    {
      "cell_type": "code",
      "source": [
        "function [Hi,U]=matrizHC(x)\n",
        "n=length(x);I=eye(n);e1=I(1,:)';\n",
        "if x(1)~=0 sig=sign(x(1));\n",
        "else sig=1;\n",
        "end\n",
        "u=x+sig*norm(x)*e1;\n",
        "Hi=eye(n) -(2/(u'*u))*(u*u');\n",
        "U=u;"
      ],
      "metadata": {
        "id": "Oca34SybNA63"
      },
      "execution_count": null,
      "outputs": []
    },
    {
      "cell_type": "code",
      "source": [
        "function [Q,R,QR]=DesQR(A)\n",
        "n=length(A);Ai=A;Q=eye(n);\n",
        "for i=1:n-1\n",
        "    j=0;x=[];\n",
        "    for k=i:n\n",
        "        j=j+1;x(j)=Ai(k,i);\n",
        "    end\n",
        "    xi=x';\n",
        "    [Hi,U]=matrizHC(x');Hsigma=Hi*xi;\n",
        "    for m=length(Hi)+1:n\n",
        "    z=cat(2,zeros(length(Hi),1),Hi);I=eye(m);\n",
        "    Hi=cat(1,I(1,:),z);\n",
        "    end\n",
        "    Hi\n",
        "    Ai=Hi*Ai,Q=Q*Hi;\n",
        "    R=Q'*A;\n",
        "end\n",
        "Q;R;QR=Q*R;\n"
      ],
      "metadata": {
        "id": "DJMOHUXTNUXp"
      },
      "execution_count": null,
      "outputs": []
    },
    {
      "cell_type": "markdown",
      "source": [
        "## **Método de la potencia**"
      ],
      "metadata": {
        "id": "w2J2I-_5e9XK"
      }
    },
    {
      "cell_type": "code",
      "source": [
        "function [l,V,Vn]=metodoPOTENCIA(A,y0,e)\n",
        "n=length(A);R=zeros(1,n);r=zeros(1,n);s=r;\n",
        "E=e+1;a0=norm(y0,inf);\n",
        "z=A*y0;a=a0;\n",
        "k=0;\n",
        "while E>e\n",
        "    k=k+1;\n",
        "    y=(1/a)*z;\n",
        "    z1=A*y;\n",
        "    ak=norm(z1,inf);%ak=max(abs(z1));\n",
        "    E=norm(ak-a)/norm(ak);\n",
        "    z=z1;\n",
        "    a=ak;\n",
        "endwhile\n",
        "l=ak;V=y;Vn=z1;"
      ],
      "metadata": {
        "id": "nUoj6wOze8ap"
      },
      "execution_count": null,
      "outputs": []
    },
    {
      "cell_type": "code",
      "source": [],
      "metadata": {
        "id": "mxVsE8Rfe8hf"
      },
      "execution_count": null,
      "outputs": []
    },
    {
      "cell_type": "code",
      "source": [
        "function [autoValor,autoVetor]=potenciaGERSCH(A,y0,e,tipo)\n",
        "n=length(A);R=zeros(1,n);r=zeros(1,n);s=r;\n",
        "E=e+1;a0=norm(y0,tipo);\n",
        "%%%%%%%%%%Gerschgorim%%%%%%%%%%%%radios\n",
        "subplot(1,2,1)\n",
        "for i=1:n\n",
        "%s=0;\n",
        "    for j=1:n\n",
        "      if i~=j s(i)=s(i)+abs(A(i,j));\n",
        "      end\n",
        "    end\n",
        "      R(i)=A(i,i)+s(i);\n",
        "      r(i)=A(i,i)-s(i);\n",
        "end\n",
        "LI=min(r);\n",
        "LS=max(R);\n",
        "\n",
        "plot(LI,0,'*r',LS,0,'*g'),grid%%%%%%% grafica limites\n",
        "%%%%%%%%%%%%%%%%%%%%%%%%%%%%%%%%%%%%%%%circulos GERSCH\n",
        "hold on\n",
        "for i=1:n\n",
        "t=0:0.01:2*pi+0.1;\n",
        "xc=A(i,i)*ones(size(t))+s(i)*cos(t);\n",
        "yc=s(i)*sin(t);\n",
        "plot(xc,yc)%,grid\n",
        "axis equal\n",
        "end\n",
        "\n",
        "hold off\n",
        "%%%%%%%%%%%%%%%%%%%%%%%%grafico de autovalor inicial\n",
        "\n",
        "subplot(1,2,2)\n",
        "plot(a0,0,'*m')\n",
        "grid\n",
        "hold on\n",
        "axis equal\n",
        "%%%%%%%%%%%%%%%%%%%%%%%%%\n",
        "\n",
        "z=A*y0;a=norm(z,tipo);max(abs(z));\n",
        "k=0;\n",
        "%%%%%%%%%%%%%%%%valores iniciales\n",
        "   fprintf('|a(%2.0f)| = %5.4f   error =  \\n',0,a0)\n",
        "   fprintf('   z(0)=')\n",
        "   for m=1:n\n",
        "      fprintf(' %5.4f',z(m))\n",
        "   end\n",
        "   fprintf('\\n   y(0)=')\n",
        "   for m=1:n\n",
        "      fprintf(' %5.4f',y0(m))\n",
        "   end\n",
        "\n",
        "   fprintf('\\n__________________________________________________________\\n')\n",
        "%%%%%%%%%%%%%%%%\n",
        "\n",
        "\n",
        "while E>e\n",
        "    k=k+1;\n",
        "    %pause(0.8)\n",
        "    y=(1/a)*z;\n",
        "    z1=A*y;\n",
        "    ak=norm(z1,tipo);%ak=max(abs(z1));\n",
        "    E=norm(ak-a)/norm(ak);\n",
        "    z=z1;\n",
        "    a=ak;\n",
        "   fprintf('|a(%2.0f)| = %5.4f   error = %5.4f\\n',k,a,E)\n",
        "   fprintf('   z(%2.0f)=',k)\n",
        "   for m=1:n\n",
        "      fprintf(' %5.4f',z(m))\n",
        "   end\n",
        "   %fprintf('\\n')\n",
        "   fprintf('\\n   y(%2.0f)=',k)\n",
        "   for m=1:n\n",
        "      fprintf(' %5.4f',y(m))\n",
        "   end\n",
        "   fprintf('\\n__________________________________________________________\\n')\n",
        "%%%%%%%%%%%%%%%%\n",
        "\n",
        "    subplot(1,2,2)\n",
        "    plot(ak,0,'ob')\n",
        "    axis equal\n",
        "%%%%%%%%%%%%%%  sequencia de autovalores\n",
        "end\n",
        "hold off\n",
        "autoValor=ak;autoVetor=y;%;(1/norm(z1,inf))*z1;"
      ],
      "metadata": {
        "id": "taXLGK6ce8lG"
      },
      "execution_count": null,
      "outputs": []
    },
    {
      "cell_type": "code",
      "source": [],
      "metadata": {
        "id": "nqMHAjuPe8ot"
      },
      "execution_count": null,
      "outputs": []
    },
    {
      "cell_type": "markdown",
      "source": [
        "---"
      ],
      "metadata": {
        "id": "X2ayaqi7o9_A"
      }
    },
    {
      "cell_type": "markdown",
      "source": [
        "## **Trabajo encargado**"
      ],
      "metadata": {
        "id": "WDHIvpH6o_Mi"
      }
    },
    {
      "cell_type": "markdown",
      "source": [
        "Revisar las notas de aula METODOS PARA LA DETERMINACION DE AUTOVALORES.\n",
        "\n",
        "Elabore un codigo para el método de la potencia inversa, verifique sus resultados usando las notas de aula. Sugerencia modificar el codigo del metodo de la potencia, el cual ya esta actualizado"
      ],
      "metadata": {
        "id": "J9fgc9dQ75QA"
      }
    }
  ]
}
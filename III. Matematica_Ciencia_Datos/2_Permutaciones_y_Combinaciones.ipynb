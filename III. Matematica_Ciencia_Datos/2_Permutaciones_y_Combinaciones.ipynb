{
  "nbformat": 4,
  "nbformat_minor": 0,
  "metadata": {
    "colab": {
      "provenance": [],
      "include_colab_link": true
    },
    "kernelspec": {
      "name": "python3",
      "display_name": "Python 3"
    },
    "language_info": {
      "name": "python"
    }
  },
  "cells": [
    {
      "cell_type": "markdown",
      "metadata": {
        "id": "view-in-github",
        "colab_type": "text"
      },
      "source": [
        "<a href=\"https://colab.research.google.com/github/Ricardomanuel1/Maestria_Ciencia_de_Datos/blob/main/III.%20Matematica_Ciencia_Datos/2_Permutaciones_y_Combinaciones.ipynb\" target=\"_parent\"><img src=\"https://colab.research.google.com/assets/colab-badge.svg\" alt=\"Open In Colab\"/></a>"
      ]
    },
    {
      "cell_type": "markdown",
      "source": [
        "# Permutaciones"
      ],
      "metadata": {
        "id": "yk2GQGGgyina"
      }
    },
    {
      "cell_type": "code",
      "source": [
        "from itertools import permutations"
      ],
      "metadata": {
        "id": "Ir1KItRXy7MA"
      },
      "execution_count": 52,
      "outputs": []
    },
    {
      "cell_type": "markdown",
      "source": [
        "## Calculando las permutaciones de tamaño n"
      ],
      "metadata": {
        "id": "m1K55rAh5vEm"
      }
    },
    {
      "cell_type": "code",
      "source": [
        "S=[\"H1\", \"H2\",\"M1\",\"M2\"]\n",
        "perm = permutations(S)\n",
        "for i in list(perm):\n",
        "    print (i)"
      ],
      "metadata": {
        "id": "USHePR5A_7uQ",
        "colab": {
          "base_uri": "https://localhost:8080/"
        },
        "outputId": "f06ef1a0-0041-4e52-b82d-58ccecac1a8d"
      },
      "execution_count": 53,
      "outputs": [
        {
          "output_type": "stream",
          "name": "stdout",
          "text": [
            "('H1', 'H2', 'M1', 'M2')\n",
            "('H1', 'H2', 'M2', 'M1')\n",
            "('H1', 'M1', 'H2', 'M2')\n",
            "('H1', 'M1', 'M2', 'H2')\n",
            "('H1', 'M2', 'H2', 'M1')\n",
            "('H1', 'M2', 'M1', 'H2')\n",
            "('H2', 'H1', 'M1', 'M2')\n",
            "('H2', 'H1', 'M2', 'M1')\n",
            "('H2', 'M1', 'H1', 'M2')\n",
            "('H2', 'M1', 'M2', 'H1')\n",
            "('H2', 'M2', 'H1', 'M1')\n",
            "('H2', 'M2', 'M1', 'H1')\n",
            "('M1', 'H1', 'H2', 'M2')\n",
            "('M1', 'H1', 'M2', 'H2')\n",
            "('M1', 'H2', 'H1', 'M2')\n",
            "('M1', 'H2', 'M2', 'H1')\n",
            "('M1', 'M2', 'H1', 'H2')\n",
            "('M1', 'M2', 'H2', 'H1')\n",
            "('M2', 'H1', 'H2', 'M1')\n",
            "('M2', 'H1', 'M1', 'H2')\n",
            "('M2', 'H2', 'H1', 'M1')\n",
            "('M2', 'H2', 'M1', 'H1')\n",
            "('M2', 'M1', 'H1', 'H2')\n",
            "('M2', 'M1', 'H2', 'H1')\n"
          ]
        }
      ]
    },
    {
      "cell_type": "code",
      "source": [
        "S1=[\"a\", \"b\",\"c\",\"d\"]#4*3*2*1=24\n",
        "perm = permutations(S1)\n",
        "count=0\n",
        "for i in list(perm):\n",
        "  print (i)"
      ],
      "metadata": {
        "id": "MQkqBGoTEO6A",
        "outputId": "939f494c-0c87-4297-ba20-fe9f77367948",
        "colab": {
          "base_uri": "https://localhost:8080/"
        }
      },
      "execution_count": 54,
      "outputs": [
        {
          "output_type": "stream",
          "name": "stdout",
          "text": [
            "('a', 'b', 'c', 'd')\n",
            "('a', 'b', 'd', 'c')\n",
            "('a', 'c', 'b', 'd')\n",
            "('a', 'c', 'd', 'b')\n",
            "('a', 'd', 'b', 'c')\n",
            "('a', 'd', 'c', 'b')\n",
            "('b', 'a', 'c', 'd')\n",
            "('b', 'a', 'd', 'c')\n",
            "('b', 'c', 'a', 'd')\n",
            "('b', 'c', 'd', 'a')\n",
            "('b', 'd', 'a', 'c')\n",
            "('b', 'd', 'c', 'a')\n",
            "('c', 'a', 'b', 'd')\n",
            "('c', 'a', 'd', 'b')\n",
            "('c', 'b', 'a', 'd')\n",
            "('c', 'b', 'd', 'a')\n",
            "('c', 'd', 'a', 'b')\n",
            "('c', 'd', 'b', 'a')\n",
            "('d', 'a', 'b', 'c')\n",
            "('d', 'a', 'c', 'b')\n",
            "('d', 'b', 'a', 'c')\n",
            "('d', 'b', 'c', 'a')\n",
            "('d', 'c', 'a', 'b')\n",
            "('d', 'c', 'b', 'a')\n"
          ]
        }
      ]
    },
    {
      "cell_type": "markdown",
      "source": [
        "## Calculando las permutaciones de tamaño r de un total de n."
      ],
      "metadata": {
        "id": "W4yex7zf56aR"
      }
    },
    {
      "cell_type": "code",
      "source": [
        "S=[1,2,3,4]"
      ],
      "metadata": {
        "id": "RDKd-L6x5Rh-"
      },
      "execution_count": 55,
      "outputs": []
    },
    {
      "cell_type": "code",
      "source": [
        "# Obtener todas las permutaciones de tamaño 3\n",
        "S=[1,2,3,4,5]\n",
        "perm = permutations(S, 2)\n",
        "for i in list(perm):\n",
        "  print (i)"
      ],
      "metadata": {
        "id": "bTJFGGbf_9ch",
        "colab": {
          "base_uri": "https://localhost:8080/"
        },
        "outputId": "423817b6-9c04-47d0-bc13-f838cb81188c"
      },
      "execution_count": 56,
      "outputs": [
        {
          "output_type": "stream",
          "name": "stdout",
          "text": [
            "(1, 2)\n",
            "(1, 3)\n",
            "(1, 4)\n",
            "(1, 5)\n",
            "(2, 1)\n",
            "(2, 3)\n",
            "(2, 4)\n",
            "(2, 5)\n",
            "(3, 1)\n",
            "(3, 2)\n",
            "(3, 4)\n",
            "(3, 5)\n",
            "(4, 1)\n",
            "(4, 2)\n",
            "(4, 3)\n",
            "(4, 5)\n",
            "(5, 1)\n",
            "(5, 2)\n",
            "(5, 3)\n",
            "(5, 4)\n"
          ]
        }
      ]
    },
    {
      "cell_type": "code",
      "source": [
        "fact(5)/fact(3)#una permutación de n(5) en k(2) e es igual fac(n)/fact(n-k)"
      ],
      "metadata": {
        "id": "JB_Vf9rURMrs",
        "outputId": "9149297b-5f88-4c9c-dec5-b7e3b87fd302",
        "colab": {
          "base_uri": "https://localhost:8080/"
        }
      },
      "execution_count": 57,
      "outputs": [
        {
          "output_type": "execute_result",
          "data": {
            "text/plain": [
              "20.0"
            ]
          },
          "metadata": {},
          "execution_count": 57
        }
      ]
    },
    {
      "cell_type": "markdown",
      "source": [
        "# Combinaciones"
      ],
      "metadata": {
        "id": "uXZKesWCzFrn"
      }
    },
    {
      "cell_type": "code",
      "source": [
        "from itertools import combinations"
      ],
      "metadata": {
        "id": "t-W30gRzzKbg"
      },
      "execution_count": 58,
      "outputs": []
    },
    {
      "cell_type": "markdown",
      "source": [
        "## Calculando las combinaciones de tamaño r de un total de n."
      ],
      "metadata": {
        "id": "6t1RpHgh6rB_"
      }
    },
    {
      "cell_type": "code",
      "source": [
        "S=[1,2,3,4,5]#no importa el orden\n",
        "comb = combinations(S, 2)\n",
        "for i in list(comb):\n",
        "  print (i)"
      ],
      "metadata": {
        "id": "Gky4kK80ARIA",
        "colab": {
          "base_uri": "https://localhost:8080/"
        },
        "outputId": "0ef9e75b-80c4-433b-880a-089582da3b78"
      },
      "execution_count": 59,
      "outputs": [
        {
          "output_type": "stream",
          "name": "stdout",
          "text": [
            "(1, 2)\n",
            "(1, 3)\n",
            "(1, 4)\n",
            "(1, 5)\n",
            "(2, 3)\n",
            "(2, 4)\n",
            "(2, 5)\n",
            "(3, 4)\n",
            "(3, 5)\n",
            "(4, 5)\n"
          ]
        }
      ]
    },
    {
      "cell_type": "code",
      "source": [],
      "metadata": {
        "id": "1H2SR9zDRJw9"
      },
      "execution_count": 59,
      "outputs": []
    },
    {
      "cell_type": "markdown",
      "source": [
        "# Combinaciones con Reposición"
      ],
      "metadata": {
        "id": "6jVREVi9z_sZ"
      }
    },
    {
      "cell_type": "code",
      "source": [
        "from itertools import combinations_with_replacement"
      ],
      "metadata": {
        "id": "XLOm_i-K0EMA"
      },
      "execution_count": 60,
      "outputs": []
    },
    {
      "cell_type": "markdown",
      "source": [
        "## Calculando las combinaciones con reposición de tamaño r de un total de n."
      ],
      "metadata": {
        "id": "z5465bDY6vsn"
      }
    },
    {
      "cell_type": "code",
      "source": [
        "S=[1,2,3,4,5]\n",
        "comb = combinations_with_replacement(S, 2)\n",
        "for i in list(comb):\n",
        "  print (i)"
      ],
      "metadata": {
        "id": "994sl4qpAqUo",
        "colab": {
          "base_uri": "https://localhost:8080/"
        },
        "outputId": "af456ad7-0f71-49ba-8cda-c0874c6eb7e4"
      },
      "execution_count": 61,
      "outputs": [
        {
          "output_type": "stream",
          "name": "stdout",
          "text": [
            "(1, 1)\n",
            "(1, 2)\n",
            "(1, 3)\n",
            "(1, 4)\n",
            "(1, 5)\n",
            "(2, 2)\n",
            "(2, 3)\n",
            "(2, 4)\n",
            "(2, 5)\n",
            "(3, 3)\n",
            "(3, 4)\n",
            "(3, 5)\n",
            "(4, 4)\n",
            "(4, 5)\n",
            "(5, 5)\n"
          ]
        }
      ]
    },
    {
      "cell_type": "code",
      "source": [],
      "metadata": {
        "id": "vi3NRXZwQ51V"
      },
      "execution_count": 61,
      "outputs": []
    },
    {
      "cell_type": "markdown",
      "source": [
        "# Funciones en Python"
      ],
      "metadata": {
        "id": "3JV05UED0b0W"
      }
    },
    {
      "cell_type": "markdown",
      "source": [
        "## Factorial"
      ],
      "metadata": {
        "id": "jtnbxKGN0hU1"
      }
    },
    {
      "cell_type": "code",
      "execution_count": 62,
      "metadata": {
        "id": "1amQmteO_vpB"
      },
      "outputs": [],
      "source": [
        "# Factorial\n",
        "def fact(n):\n",
        "  if n == 0:\n",
        "    return 1\n",
        "  if n == 1:\n",
        "    return 1\n",
        "  else:\n",
        "    return n * fact(n-1)"
      ]
    },
    {
      "cell_type": "code",
      "source": [
        "fact(5)"
      ],
      "metadata": {
        "colab": {
          "base_uri": "https://localhost:8080/"
        },
        "id": "v8jTfZ-xzfRA",
        "outputId": "720e9ad1-8f38-45df-e133-4c7959e631f9"
      },
      "execution_count": 63,
      "outputs": [
        {
          "output_type": "execute_result",
          "data": {
            "text/plain": [
              "120"
            ]
          },
          "metadata": {},
          "execution_count": 63
        }
      ]
    },
    {
      "cell_type": "code",
      "source": [
        "fact(0)"
      ],
      "metadata": {
        "colab": {
          "base_uri": "https://localhost:8080/"
        },
        "id": "W501wveOzhtv",
        "outputId": "8765a998-2224-4b78-b172-70b22384f309"
      },
      "execution_count": 64,
      "outputs": [
        {
          "output_type": "execute_result",
          "data": {
            "text/plain": [
              "1"
            ]
          },
          "metadata": {},
          "execution_count": 64
        }
      ]
    },
    {
      "cell_type": "code",
      "source": [
        "fact(1)"
      ],
      "metadata": {
        "id": "RX3BkCKfOuGa",
        "outputId": "f00226c0-23d1-4484-db86-d17d6217d923",
        "colab": {
          "base_uri": "https://localhost:8080/"
        }
      },
      "execution_count": 65,
      "outputs": [
        {
          "output_type": "execute_result",
          "data": {
            "text/plain": [
              "1"
            ]
          },
          "metadata": {},
          "execution_count": 65
        }
      ]
    },
    {
      "cell_type": "code",
      "source": [
        "fact(8)/fact(6)"
      ],
      "metadata": {
        "colab": {
          "base_uri": "https://localhost:8080/"
        },
        "id": "rKWjv74Hzkpo",
        "outputId": "8a3af587-f2a9-495e-87dd-6aa29798e0b6"
      },
      "execution_count": 66,
      "outputs": [
        {
          "output_type": "execute_result",
          "data": {
            "text/plain": [
              "56.0"
            ]
          },
          "metadata": {},
          "execution_count": 66
        }
      ]
    },
    {
      "cell_type": "code",
      "source": [
        "# Factorial\n",
        "def fact1(n):\n",
        "  if n == 0:\n",
        "    return 1\n",
        "  if n == 1:\n",
        "    return 1\n",
        "  else:\n",
        "    return n * fact1(n-1)"
      ],
      "metadata": {
        "id": "g01X4tJ8O7_Q"
      },
      "execution_count": 67,
      "outputs": []
    },
    {
      "cell_type": "code",
      "source": [
        "fact1(5)"
      ],
      "metadata": {
        "id": "SJ4WYNPVO_Et",
        "outputId": "e077b66c-c3ef-4c34-e843-da9f063b183a",
        "colab": {
          "base_uri": "https://localhost:8080/"
        }
      },
      "execution_count": 68,
      "outputs": [
        {
          "output_type": "execute_result",
          "data": {
            "text/plain": [
              "120"
            ]
          },
          "metadata": {},
          "execution_count": 68
        }
      ]
    },
    {
      "cell_type": "markdown",
      "source": [
        "## Permutación"
      ],
      "metadata": {
        "id": "TA27tgkn0mWa"
      }
    },
    {
      "cell_type": "code",
      "source": [
        "# Permutación\n",
        "def Perm(n,k):\n",
        "  if n <k :\n",
        "    return \"No valido\"\n",
        "  else:\n",
        "    return fact(n)/fact(n-k)"
      ],
      "metadata": {
        "id": "dtwjiwkC_0_Q"
      },
      "execution_count": 69,
      "outputs": []
    },
    {
      "cell_type": "code",
      "source": [
        "Perm(5,2)"
      ],
      "metadata": {
        "colab": {
          "base_uri": "https://localhost:8080/"
        },
        "id": "UCHZ3iNQ0ulx",
        "outputId": "135269f3-f813-4d87-d990-f561b2a72b69"
      },
      "execution_count": 70,
      "outputs": [
        {
          "output_type": "execute_result",
          "data": {
            "text/plain": [
              "20.0"
            ]
          },
          "metadata": {},
          "execution_count": 70
        }
      ]
    },
    {
      "cell_type": "code",
      "source": [
        "Perm(5,5)"
      ],
      "metadata": {
        "colab": {
          "base_uri": "https://localhost:8080/"
        },
        "id": "tFsn4CfS0vNA",
        "outputId": "d52fa45c-6493-4e99-84a0-427b0fcff08e"
      },
      "execution_count": 71,
      "outputs": [
        {
          "output_type": "execute_result",
          "data": {
            "text/plain": [
              "120.0"
            ]
          },
          "metadata": {},
          "execution_count": 71
        }
      ]
    },
    {
      "cell_type": "markdown",
      "source": [
        "## Combinación"
      ],
      "metadata": {
        "id": "z5ZPZvsL0oqQ"
      }
    },
    {
      "cell_type": "code",
      "source": [
        "# Combinación\n",
        "def Comb(n,k):\n",
        "  if n <k :\n",
        "    return \"No valido\"\n",
        "  else:\n",
        "    return fact(n)/(fact(n-k)*fact(k))"
      ],
      "metadata": {
        "id": "PhlKZTWJ_zVI"
      },
      "execution_count": 88,
      "outputs": []
    },
    {
      "cell_type": "code",
      "source": [
        "S=[1,2,3,4,5]#no importa el orden\n",
        "comb = combinations(S, 2)\n",
        "for i in list(comb):\n",
        "  print (i)"
      ],
      "metadata": {
        "id": "ajZXjQYrR-pc",
        "outputId": "35048f17-eebe-4fa9-ed2d-4e791ed445a4",
        "colab": {
          "base_uri": "https://localhost:8080/"
        }
      },
      "execution_count": 73,
      "outputs": [
        {
          "output_type": "stream",
          "name": "stdout",
          "text": [
            "(1, 2)\n",
            "(1, 3)\n",
            "(1, 4)\n",
            "(1, 5)\n",
            "(2, 3)\n",
            "(2, 4)\n",
            "(2, 5)\n",
            "(3, 4)\n",
            "(3, 5)\n",
            "(4, 5)\n"
          ]
        }
      ]
    },
    {
      "cell_type": "code",
      "source": [
        "Comb(5,2)"
      ],
      "metadata": {
        "colab": {
          "base_uri": "https://localhost:8080/"
        },
        "id": "A3OlUNDiz8oo",
        "outputId": "6bc2f378-543d-44fd-9f40-5fd13e059cb9"
      },
      "execution_count": 74,
      "outputs": [
        {
          "output_type": "execute_result",
          "data": {
            "text/plain": [
              "10.0"
            ]
          },
          "metadata": {},
          "execution_count": 74
        }
      ]
    },
    {
      "cell_type": "code",
      "source": [
        "Comb(6,3)"
      ],
      "metadata": {
        "colab": {
          "base_uri": "https://localhost:8080/"
        },
        "id": "m7hRyMa00IaQ",
        "outputId": "f355ef8e-d366-4878-c8e4-5773e6fe10a0"
      },
      "execution_count": 75,
      "outputs": [
        {
          "output_type": "execute_result",
          "data": {
            "text/plain": [
              "20.0"
            ]
          },
          "metadata": {},
          "execution_count": 75
        }
      ]
    },
    {
      "cell_type": "code",
      "source": [
        "Comb(6,2)+Comb(6,3)"
      ],
      "metadata": {
        "colab": {
          "base_uri": "https://localhost:8080/"
        },
        "id": "tio5vZDN0z-j",
        "outputId": "92354ed4-999d-4216-ecf6-7ebd96936f02"
      },
      "execution_count": 76,
      "outputs": [
        {
          "output_type": "execute_result",
          "data": {
            "text/plain": [
              "35.0"
            ]
          },
          "metadata": {},
          "execution_count": 76
        }
      ]
    },
    {
      "cell_type": "code",
      "source": [
        "Comb(7,3)"
      ],
      "metadata": {
        "colab": {
          "base_uri": "https://localhost:8080/"
        },
        "id": "uh6gAGgn08JZ",
        "outputId": "14ce4d98-7426-421f-fa6c-b7c4ec91c8e4"
      },
      "execution_count": 77,
      "outputs": [
        {
          "output_type": "execute_result",
          "data": {
            "text/plain": [
              "35.0"
            ]
          },
          "metadata": {},
          "execution_count": 77
        }
      ]
    },
    {
      "cell_type": "code",
      "source": [
        "Comb(6,3)*Comb(4,0)/Comb(10,3)"
      ],
      "metadata": {
        "colab": {
          "base_uri": "https://localhost:8080/"
        },
        "id": "7jtnHdOQuHDu",
        "outputId": "a4a8ce7a-60cc-47ca-8e67-9df71ec314c0"
      },
      "execution_count": 78,
      "outputs": [
        {
          "output_type": "execute_result",
          "data": {
            "text/plain": [
              "0.16666666666666666"
            ]
          },
          "metadata": {},
          "execution_count": 78
        }
      ]
    },
    {
      "cell_type": "markdown",
      "source": [
        "# Ejemplos"
      ],
      "metadata": {
        "id": "bb7NnevF7epH"
      }
    },
    {
      "cell_type": "markdown",
      "source": [
        "1. Carlos, Pedro, Manuel y Sandra correrán los 100\n",
        "metros planos. ¿De cuántas formas puede\n",
        "quedar el podio de primer y segundo lugar? Solo\n",
        "competirán ellos cuatro.\n"
      ],
      "metadata": {
        "id": "ewQl_Z4O7dcn"
      }
    },
    {
      "cell_type": "markdown",
      "source": [
        "2. ¿De cuántas formas se puede preparar una\n",
        "ensalada de frutas con solo 2 ingredientes, si se\n",
        "cuenta con plátano, manzana y uva?\n"
      ],
      "metadata": {
        "id": "c8pmBr0Q7j2n"
      }
    },
    {
      "cell_type": "markdown",
      "source": [
        "3. En una estantería hay 6 libros de matemáticas y 3 de física. Queremos seleccionar 2 de cada. ¿De cuántas maneras podemos hacerlo?"
      ],
      "metadata": {
        "id": "ISOjmBCuEN3i"
      }
    },
    {
      "cell_type": "markdown",
      "source": [
        "4. Todas las personas que asisten a una reunión se estrechan la mano. Si hubo 105 apretones, ¿cuántas personas asistieron?"
      ],
      "metadata": {
        "id": "hbfJ3-GzDh7a"
      }
    },
    {
      "cell_type": "markdown",
      "source": [
        "5. Con 4 frutas diferentes, ¿Cuántos jugos surtidos se pueden preparar?. Además, un jugo surtido se prepara con al menos 2 frutas."
      ],
      "metadata": {
        "id": "WJVrdG5h1bmh"
      }
    },
    {
      "cell_type": "markdown",
      "source": [
        "6. ¿Cuántas palabras diferentes se pueden formar con las letras de la palabra REMEMBER?"
      ],
      "metadata": {
        "id": "-aBZI2S0BiQT"
      }
    },
    {
      "cell_type": "code",
      "source": [
        "#R se repite 2,E se repite 3,M se repite 2 y B se repite 1\n",
        "a=fact(8)/(fact(2)*fact(3)*fact(2)*fact(1))\n",
        "print(a)"
      ],
      "metadata": {
        "colab": {
          "base_uri": "https://localhost:8080/"
        },
        "id": "L-B24WvGWMC_",
        "outputId": "d9eb7ef5-5771-48d8-8983-bcfa0b10b973"
      },
      "execution_count": 79,
      "outputs": [
        {
          "output_type": "stream",
          "name": "stdout",
          "text": [
            "1680.0\n"
          ]
        }
      ]
    },
    {
      "cell_type": "markdown",
      "source": [
        "7. Determinar la cantidad de formas posibles de organizar(permutación) las letras de la palabra TALLAHASSEE de tal forma que las letras A's no esten juntas."
      ],
      "metadata": {
        "id": "H7Gdc5agcAXo"
      }
    },
    {
      "cell_type": "code",
      "source": [
        "total_formas=fact(11)/(fact(3)*fact(2)*fact(2)*fact(2))\n",
        "total_formas"
      ],
      "metadata": {
        "colab": {
          "base_uri": "https://localhost:8080/"
        },
        "id": "UfJ8YBnAWRrX",
        "outputId": "a9e79fbb-5b57-43c7-f8fa-ea7e745ce5a8"
      },
      "execution_count": 50,
      "outputs": [
        {
          "output_type": "execute_result",
          "data": {
            "text/plain": [
              "831600.0"
            ]
          },
          "metadata": {},
          "execution_count": 50
        }
      ]
    },
    {
      "cell_type": "code",
      "source": [
        "las_A_juntas=Perm(9,9)#considerando como un bloque las As repetidas\n",
        "las_A_juntas"
      ],
      "metadata": {
        "colab": {
          "base_uri": "https://localhost:8080/"
        },
        "id": "2H8Ypc6R_Xcg",
        "outputId": "3a8e891c-7903-42e3-b89e-65286fc5b5d1"
      },
      "execution_count": 80,
      "outputs": [
        {
          "output_type": "execute_result",
          "data": {
            "text/plain": [
              "362880.0"
            ]
          },
          "metadata": {},
          "execution_count": 80
        }
      ]
    },
    {
      "cell_type": "code",
      "source": [
        "formas_As_No_juntas=total_formas-las_A_juntas\n",
        "formas_As_No_juntas"
      ],
      "metadata": {
        "colab": {
          "base_uri": "https://localhost:8080/"
        },
        "id": "3RHidCeKAmPP",
        "outputId": "8a1b4d57-5223-42e7-d55b-100fd65d75e1"
      },
      "execution_count": 84,
      "outputs": [
        {
          "output_type": "execute_result",
          "data": {
            "text/plain": [
              "468720.0"
            ]
          },
          "metadata": {},
          "execution_count": 84
        }
      ]
    },
    {
      "cell_type": "markdown",
      "source": [
        "8. ¿De cuántas formas se pueden sentar 6 amigos alrededor de una mesa circular?"
      ],
      "metadata": {
        "id": "lt3j4s8zB7SL"
      }
    },
    {
      "cell_type": "code",
      "source": [
        "fact(5)"
      ],
      "metadata": {
        "colab": {
          "base_uri": "https://localhost:8080/"
        },
        "id": "GJUfJbx_WWLq",
        "outputId": "a427c025-6ab9-42d5-a5ea-6e1034698de6"
      },
      "execution_count": 85,
      "outputs": [
        {
          "output_type": "execute_result",
          "data": {
            "text/plain": [
              "120"
            ]
          },
          "metadata": {},
          "execution_count": 85
        }
      ]
    },
    {
      "cell_type": "markdown",
      "source": [
        "9. En un grupo de 6 amigos, hay una pareja de novios. ¿De cuántas maneras pueden sentarse alrededor de una fogata, si los novios deben sentarse siempre juntos?"
      ],
      "metadata": {
        "id": "g0-yU9SpCtlz"
      }
    },
    {
      "cell_type": "code",
      "source": [
        "fact(4)*2#considerando a la pareja como una sola persona luego fac(4) pero hay dos formas distintas que pueden ubicarse la pareja"
      ],
      "metadata": {
        "colab": {
          "base_uri": "https://localhost:8080/"
        },
        "id": "UYkgtbsZWXS0",
        "outputId": "c4eb5495-7dd8-4628-e86f-cf4a6fa48ce1"
      },
      "execution_count": null,
      "outputs": [
        {
          "output_type": "execute_result",
          "data": {
            "text/plain": [
              "48"
            ]
          },
          "metadata": {},
          "execution_count": 32
        }
      ]
    },
    {
      "cell_type": "markdown",
      "source": [
        "10. Supongamos que hay tres hombres y dos mujeres.\n",
        "*   (a) ¿De cuántas maneras pueden posar en línea para una fotografía grupal?\n",
        "*   (b) ¿De cuántas maneras pueden colocarse en línea si una mujer debe estar en cada extremo?\n",
        "*   (c) ¿De cuántas maneras pueden colocarse en línea si las mujeres no deben ubicarse en los extremos?\n",
        "*   (d) ¿De cuántas maneras las personas del mismo sexo están juntas?\n",
        "*   (e) ¿De cuántas maneras las mujeres están separadas?"
      ],
      "metadata": {
        "id": "Dt7tGw1E8YTh"
      }
    },
    {
      "cell_type": "code",
      "source": [
        "#Ejercicio a\n",
        "a=Perm(5,5)\n",
        "a"
      ],
      "metadata": {
        "colab": {
          "base_uri": "https://localhost:8080/"
        },
        "id": "v6gk4rMhXytE",
        "outputId": "1ab8856b-f6e9-4274-822b-4e575724c65c"
      },
      "execution_count": 86,
      "outputs": [
        {
          "output_type": "execute_result",
          "data": {
            "text/plain": [
              "120.0"
            ]
          },
          "metadata": {},
          "execution_count": 86
        }
      ]
    },
    {
      "cell_type": "code",
      "source": [
        "fact(5)"
      ],
      "metadata": {
        "id": "i74ieGClUpas",
        "outputId": "028163a7-53a7-4c3c-c35c-7435e249d3c0",
        "colab": {
          "base_uri": "https://localhost:8080/"
        }
      },
      "execution_count": 87,
      "outputs": [
        {
          "output_type": "execute_result",
          "data": {
            "text/plain": [
              "120"
            ]
          },
          "metadata": {},
          "execution_count": 87
        }
      ]
    },
    {
      "cell_type": "code",
      "source": [
        "#Ejercicio b\n",
        "b=Perm(2,2)*Perm(3,3)\n",
        "b"
      ],
      "metadata": {
        "colab": {
          "base_uri": "https://localhost:8080/"
        },
        "id": "KZGGbQwgaAoM",
        "outputId": "017de57b-f04b-4ffe-8a61-0655308d1af6"
      },
      "execution_count": null,
      "outputs": [
        {
          "output_type": "execute_result",
          "data": {
            "text/plain": [
              "12.0"
            ]
          },
          "metadata": {},
          "execution_count": 37
        }
      ]
    },
    {
      "cell_type": "code",
      "source": [
        "#Ejercicio C\n",
        "Num_mujeres_extremo=12#Calculado en la pregunta b\n",
        "total_maneras=120#Calculado en la pregunta a\n",
        "\n",
        "Num_mujeres_No_extremo=total_maneras-Num_mujeres_extremo\n",
        "\n",
        "Num_mujeres_No_extremo"
      ],
      "metadata": {
        "colab": {
          "base_uri": "https://localhost:8080/"
        },
        "id": "j_4lTOewbVts",
        "outputId": "cf8155c1-215f-425a-bcac-8b6c3313a3af"
      },
      "execution_count": null,
      "outputs": [
        {
          "output_type": "execute_result",
          "data": {
            "text/plain": [
              "108"
            ]
          },
          "metadata": {},
          "execution_count": 48
        }
      ]
    },
    {
      "cell_type": "code",
      "source": [
        "#Ejercicio d\n",
        "d=Perm(2,2)*Perm(2,2)*Perm(3,3)#el primero es para ordenar al grupo del mismo sexo,el segundo el ordenamiento de mujeres y el tercero el ordenamiento de hombre\n",
        "d\n",
        "\n"
      ],
      "metadata": {
        "colab": {
          "base_uri": "https://localhost:8080/"
        },
        "id": "L-HyaA5nbkNe",
        "outputId": "afb89ea5-9901-4b62-a61e-5819de6372f1"
      },
      "execution_count": null,
      "outputs": [
        {
          "output_type": "execute_result",
          "data": {
            "text/plain": [
              "24.0"
            ]
          },
          "metadata": {},
          "execution_count": 40
        }
      ]
    },
    {
      "cell_type": "code",
      "source": [
        "#Ejercicio e\n",
        "Num_Mujeres_juntas=Perm(4,4)*Perm(2,2)#Cosiderando a las mujeres como un bloque x el ordenamiento de las mujeres\n",
        "\n",
        "total_maneras=120#calculado en a\n",
        "\n",
        "Num_Mujeres_No_juntas=total_maneras-Num_Mujeres_juntas\n",
        "Num_Mujeres_No_juntas"
      ],
      "metadata": {
        "colab": {
          "base_uri": "https://localhost:8080/"
        },
        "id": "G9LlDc1lgPgz",
        "outputId": "4d60282a-1cf4-4bc9-e4b8-5556b91646ff"
      },
      "execution_count": null,
      "outputs": [
        {
          "output_type": "execute_result",
          "data": {
            "text/plain": [
              "72.0"
            ]
          },
          "metadata": {},
          "execution_count": 44
        }
      ]
    }
  ]
}
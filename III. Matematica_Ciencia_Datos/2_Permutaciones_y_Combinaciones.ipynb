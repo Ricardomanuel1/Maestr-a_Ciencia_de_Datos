{
  "nbformat": 4,
  "nbformat_minor": 0,
  "metadata": {
    "colab": {
      "provenance": [],
      "include_colab_link": true
    },
    "kernelspec": {
      "name": "python3",
      "display_name": "Python 3"
    },
    "language_info": {
      "name": "python"
    }
  },
  "cells": [
    {
      "cell_type": "markdown",
      "metadata": {
        "id": "view-in-github",
        "colab_type": "text"
      },
      "source": [
        "<a href=\"https://colab.research.google.com/github/Ricardomanuel1/Maestria_Ciencia_de_Datos/blob/main/III.%20Matematica_Ciencia_Datos/2_Permutaciones_y_Combinaciones.ipynb\" target=\"_parent\"><img src=\"https://colab.research.google.com/assets/colab-badge.svg\" alt=\"Open In Colab\"/></a>"
      ]
    },
    {
      "cell_type": "markdown",
      "source": [
        "# Permutaciones"
      ],
      "metadata": {
        "id": "yk2GQGGgyina"
      }
    },
    {
      "cell_type": "code",
      "source": [
        "from itertools import permutations"
      ],
      "metadata": {
        "id": "Ir1KItRXy7MA"
      },
      "execution_count": 2,
      "outputs": []
    },
    {
      "cell_type": "markdown",
      "source": [
        "## Calculando las permutaciones de tamaño n"
      ],
      "metadata": {
        "id": "m1K55rAh5vEm"
      }
    },
    {
      "cell_type": "code",
      "source": [
        "S=[\"H1\", \"H2\",\"M1\",\"M2\"]\n",
        "perm = permutations(S)\n",
        "for i in list(perm):\n",
        "    print (i)"
      ],
      "metadata": {
        "id": "USHePR5A_7uQ",
        "colab": {
          "base_uri": "https://localhost:8080/"
        },
        "outputId": "e407ccc0-7e51-4611-806b-3c8bdb0dcb29"
      },
      "execution_count": 3,
      "outputs": [
        {
          "output_type": "stream",
          "name": "stdout",
          "text": [
            "('H1', 'H2', 'M1', 'M2')\n",
            "('H1', 'H2', 'M2', 'M1')\n",
            "('H1', 'M1', 'H2', 'M2')\n",
            "('H1', 'M1', 'M2', 'H2')\n",
            "('H1', 'M2', 'H2', 'M1')\n",
            "('H1', 'M2', 'M1', 'H2')\n",
            "('H2', 'H1', 'M1', 'M2')\n",
            "('H2', 'H1', 'M2', 'M1')\n",
            "('H2', 'M1', 'H1', 'M2')\n",
            "('H2', 'M1', 'M2', 'H1')\n",
            "('H2', 'M2', 'H1', 'M1')\n",
            "('H2', 'M2', 'M1', 'H1')\n",
            "('M1', 'H1', 'H2', 'M2')\n",
            "('M1', 'H1', 'M2', 'H2')\n",
            "('M1', 'H2', 'H1', 'M2')\n",
            "('M1', 'H2', 'M2', 'H1')\n",
            "('M1', 'M2', 'H1', 'H2')\n",
            "('M1', 'M2', 'H2', 'H1')\n",
            "('M2', 'H1', 'H2', 'M1')\n",
            "('M2', 'H1', 'M1', 'H2')\n",
            "('M2', 'H2', 'H1', 'M1')\n",
            "('M2', 'H2', 'M1', 'H1')\n",
            "('M2', 'M1', 'H1', 'H2')\n",
            "('M2', 'M1', 'H2', 'H1')\n"
          ]
        }
      ]
    },
    {
      "cell_type": "markdown",
      "source": [
        "## Calculando las permutaciones de tamaño r de un total de n."
      ],
      "metadata": {
        "id": "W4yex7zf56aR"
      }
    },
    {
      "cell_type": "code",
      "source": [
        "S=[1, 2,3,4]"
      ],
      "metadata": {
        "id": "RDKd-L6x5Rh-"
      },
      "execution_count": 4,
      "outputs": []
    },
    {
      "cell_type": "code",
      "source": [
        "# Obtener todas las permutaciones de tamaño 2\n",
        "S=[1, 2,3,4]\n",
        "perm = permutations(S, 3)\n",
        "for i in list(perm):\n",
        "    print (i)"
      ],
      "metadata": {
        "id": "bTJFGGbf_9ch",
        "colab": {
          "base_uri": "https://localhost:8080/"
        },
        "outputId": "0ba4d8f3-752c-42a4-8881-b59f0b6384d2"
      },
      "execution_count": 5,
      "outputs": [
        {
          "output_type": "stream",
          "name": "stdout",
          "text": [
            "(1, 2, 3)\n",
            "(1, 2, 4)\n",
            "(1, 3, 2)\n",
            "(1, 3, 4)\n",
            "(1, 4, 2)\n",
            "(1, 4, 3)\n",
            "(2, 1, 3)\n",
            "(2, 1, 4)\n",
            "(2, 3, 1)\n",
            "(2, 3, 4)\n",
            "(2, 4, 1)\n",
            "(2, 4, 3)\n",
            "(3, 1, 2)\n",
            "(3, 1, 4)\n",
            "(3, 2, 1)\n",
            "(3, 2, 4)\n",
            "(3, 4, 1)\n",
            "(3, 4, 2)\n",
            "(4, 1, 2)\n",
            "(4, 1, 3)\n",
            "(4, 2, 1)\n",
            "(4, 2, 3)\n",
            "(4, 3, 1)\n",
            "(4, 3, 2)\n"
          ]
        }
      ]
    },
    {
      "cell_type": "markdown",
      "source": [
        "# Combinaciones"
      ],
      "metadata": {
        "id": "uXZKesWCzFrn"
      }
    },
    {
      "cell_type": "code",
      "source": [
        "from itertools import combinations"
      ],
      "metadata": {
        "id": "t-W30gRzzKbg"
      },
      "execution_count": 6,
      "outputs": []
    },
    {
      "cell_type": "markdown",
      "source": [
        "## Calculando las combinaciones de tamaño r de un total de n."
      ],
      "metadata": {
        "id": "6t1RpHgh6rB_"
      }
    },
    {
      "cell_type": "code",
      "source": [
        "S=[1,2,3,4,5]\n",
        "comb = combinations(S, 2)\n",
        "for i in list(comb):\n",
        "    print (i)"
      ],
      "metadata": {
        "id": "Gky4kK80ARIA",
        "colab": {
          "base_uri": "https://localhost:8080/"
        },
        "outputId": "2d0d019d-5bf4-456b-b4f8-5bd2916fae85"
      },
      "execution_count": 7,
      "outputs": [
        {
          "output_type": "stream",
          "name": "stdout",
          "text": [
            "(1, 2)\n",
            "(1, 3)\n",
            "(1, 4)\n",
            "(1, 5)\n",
            "(2, 3)\n",
            "(2, 4)\n",
            "(2, 5)\n",
            "(3, 4)\n",
            "(3, 5)\n",
            "(4, 5)\n"
          ]
        }
      ]
    },
    {
      "cell_type": "markdown",
      "source": [
        "# Combinaciones con Reposición"
      ],
      "metadata": {
        "id": "6jVREVi9z_sZ"
      }
    },
    {
      "cell_type": "code",
      "source": [
        "from itertools import combinations_with_replacement"
      ],
      "metadata": {
        "id": "XLOm_i-K0EMA"
      },
      "execution_count": 8,
      "outputs": []
    },
    {
      "cell_type": "markdown",
      "source": [
        "## Calculando las combinaciones con reposición de tamaño r de un total de n."
      ],
      "metadata": {
        "id": "z5465bDY6vsn"
      }
    },
    {
      "cell_type": "code",
      "source": [
        "\n",
        "S=[1,2,3,4]\n",
        "comb = combinations_with_replacement(S, 2)\n",
        "for i in list(comb):\n",
        "    print (i)"
      ],
      "metadata": {
        "id": "994sl4qpAqUo",
        "colab": {
          "base_uri": "https://localhost:8080/"
        },
        "outputId": "49eb40d6-0c78-4cf4-9778-15655d3e703b"
      },
      "execution_count": 9,
      "outputs": [
        {
          "output_type": "stream",
          "name": "stdout",
          "text": [
            "(1, 1)\n",
            "(1, 2)\n",
            "(1, 3)\n",
            "(1, 4)\n",
            "(2, 2)\n",
            "(2, 3)\n",
            "(2, 4)\n",
            "(3, 3)\n",
            "(3, 4)\n",
            "(4, 4)\n"
          ]
        }
      ]
    },
    {
      "cell_type": "markdown",
      "source": [
        "# Funciones en Python"
      ],
      "metadata": {
        "id": "3JV05UED0b0W"
      }
    },
    {
      "cell_type": "markdown",
      "source": [
        "## Factorial"
      ],
      "metadata": {
        "id": "jtnbxKGN0hU1"
      }
    },
    {
      "cell_type": "code",
      "execution_count": 10,
      "metadata": {
        "id": "1amQmteO_vpB"
      },
      "outputs": [],
      "source": [
        "# Factorial\n",
        "def fact(n):\n",
        "  if n == 0:\n",
        "    return 1\n",
        "  if n == 1:\n",
        "    return 1\n",
        "  else:\n",
        "    return n * fact(n-1)"
      ]
    },
    {
      "cell_type": "code",
      "source": [
        "fact(5)"
      ],
      "metadata": {
        "colab": {
          "base_uri": "https://localhost:8080/"
        },
        "id": "v8jTfZ-xzfRA",
        "outputId": "dad993c0-0d95-48fb-9168-260f8066a5ee"
      },
      "execution_count": 11,
      "outputs": [
        {
          "output_type": "execute_result",
          "data": {
            "text/plain": [
              "120"
            ]
          },
          "metadata": {},
          "execution_count": 11
        }
      ]
    },
    {
      "cell_type": "code",
      "source": [
        "fact(0)"
      ],
      "metadata": {
        "colab": {
          "base_uri": "https://localhost:8080/"
        },
        "id": "W501wveOzhtv",
        "outputId": "0b09c4d6-4c06-489a-d0ea-10fe08c543f2"
      },
      "execution_count": 12,
      "outputs": [
        {
          "output_type": "execute_result",
          "data": {
            "text/plain": [
              "1"
            ]
          },
          "metadata": {},
          "execution_count": 12
        }
      ]
    },
    {
      "cell_type": "code",
      "source": [
        "fact(8)/fact(6)"
      ],
      "metadata": {
        "colab": {
          "base_uri": "https://localhost:8080/"
        },
        "id": "rKWjv74Hzkpo",
        "outputId": "958b84b8-d4c4-461e-e9b2-452c4ebcea54"
      },
      "execution_count": 13,
      "outputs": [
        {
          "output_type": "execute_result",
          "data": {
            "text/plain": [
              "56.0"
            ]
          },
          "metadata": {},
          "execution_count": 13
        }
      ]
    },
    {
      "cell_type": "markdown",
      "source": [
        "## Permutación"
      ],
      "metadata": {
        "id": "TA27tgkn0mWa"
      }
    },
    {
      "cell_type": "code",
      "source": [
        "# Permutación\n",
        "def Perm(n,k):\n",
        "  if n <k :\n",
        "    return \"No valido\"\n",
        "  else:\n",
        "    return fact(n)/fact(n-k)"
      ],
      "metadata": {
        "id": "dtwjiwkC_0_Q"
      },
      "execution_count": 14,
      "outputs": []
    },
    {
      "cell_type": "code",
      "source": [
        "Perm(5,2)"
      ],
      "metadata": {
        "colab": {
          "base_uri": "https://localhost:8080/"
        },
        "id": "UCHZ3iNQ0ulx",
        "outputId": "b63603dc-e0aa-4134-8d6b-411d6691488f"
      },
      "execution_count": 15,
      "outputs": [
        {
          "output_type": "execute_result",
          "data": {
            "text/plain": [
              "20.0"
            ]
          },
          "metadata": {},
          "execution_count": 15
        }
      ]
    },
    {
      "cell_type": "code",
      "source": [
        "Perm(5,5)"
      ],
      "metadata": {
        "colab": {
          "base_uri": "https://localhost:8080/"
        },
        "id": "tFsn4CfS0vNA",
        "outputId": "6a98696c-776f-48a4-c9c1-b8e19516c391"
      },
      "execution_count": 16,
      "outputs": [
        {
          "output_type": "execute_result",
          "data": {
            "text/plain": [
              "120.0"
            ]
          },
          "metadata": {},
          "execution_count": 16
        }
      ]
    },
    {
      "cell_type": "markdown",
      "source": [
        "## Combinación"
      ],
      "metadata": {
        "id": "z5ZPZvsL0oqQ"
      }
    },
    {
      "cell_type": "code",
      "source": [
        "# Combinación\n",
        "def Comb(n,k):\n",
        "  if n <k :\n",
        "    return \"No valido\"\n",
        "  else:\n",
        "    return fact(n)/(fact(k)*fact(n-k))"
      ],
      "metadata": {
        "id": "PhlKZTWJ_zVI"
      },
      "execution_count": 17,
      "outputs": []
    },
    {
      "cell_type": "code",
      "source": [
        "Comb(6,2)"
      ],
      "metadata": {
        "colab": {
          "base_uri": "https://localhost:8080/"
        },
        "id": "A3OlUNDiz8oo",
        "outputId": "9c23f4df-85fd-44cc-ba02-ae04a96b8c77"
      },
      "execution_count": 18,
      "outputs": [
        {
          "output_type": "execute_result",
          "data": {
            "text/plain": [
              "15.0"
            ]
          },
          "metadata": {},
          "execution_count": 18
        }
      ]
    },
    {
      "cell_type": "code",
      "source": [
        "Comb(6,3)"
      ],
      "metadata": {
        "colab": {
          "base_uri": "https://localhost:8080/"
        },
        "id": "m7hRyMa00IaQ",
        "outputId": "eff4b341-edbd-4360-fe78-ae53a6dbb771"
      },
      "execution_count": 19,
      "outputs": [
        {
          "output_type": "execute_result",
          "data": {
            "text/plain": [
              "20.0"
            ]
          },
          "metadata": {},
          "execution_count": 19
        }
      ]
    },
    {
      "cell_type": "code",
      "source": [
        "Comb(6,2)+Comb(6,3)"
      ],
      "metadata": {
        "colab": {
          "base_uri": "https://localhost:8080/"
        },
        "id": "tio5vZDN0z-j",
        "outputId": "35e98a14-4496-4b21-dd65-a54d87bb07e3"
      },
      "execution_count": 20,
      "outputs": [
        {
          "output_type": "execute_result",
          "data": {
            "text/plain": [
              "35.0"
            ]
          },
          "metadata": {},
          "execution_count": 20
        }
      ]
    },
    {
      "cell_type": "code",
      "source": [
        "Comb(7,3)"
      ],
      "metadata": {
        "colab": {
          "base_uri": "https://localhost:8080/"
        },
        "id": "uh6gAGgn08JZ",
        "outputId": "8294a022-06e4-42c1-f270-b3a8f3427195"
      },
      "execution_count": 21,
      "outputs": [
        {
          "output_type": "execute_result",
          "data": {
            "text/plain": [
              "35.0"
            ]
          },
          "metadata": {},
          "execution_count": 21
        }
      ]
    },
    {
      "cell_type": "code",
      "source": [
        "Comb(6,3)*Comb(4,0)/Comb(10,3)"
      ],
      "metadata": {
        "colab": {
          "base_uri": "https://localhost:8080/"
        },
        "id": "7jtnHdOQuHDu",
        "outputId": "e7c4f8d3-1a58-4aed-b72a-4ef0814abec3"
      },
      "execution_count": 22,
      "outputs": [
        {
          "output_type": "execute_result",
          "data": {
            "text/plain": [
              "0.16666666666666666"
            ]
          },
          "metadata": {},
          "execution_count": 22
        }
      ]
    },
    {
      "cell_type": "markdown",
      "source": [
        "# Ejemplos"
      ],
      "metadata": {
        "id": "bb7NnevF7epH"
      }
    },
    {
      "cell_type": "markdown",
      "source": [
        "1. Carlos, Pedro, Manuel y Sandra correrán los 100\n",
        "metros planos. ¿De cuántas formas puede\n",
        "quedar el podio de primer y segundo lugar? Solo\n",
        "competirán ellos cuatro.\n"
      ],
      "metadata": {
        "id": "ewQl_Z4O7dcn"
      }
    },
    {
      "cell_type": "markdown",
      "source": [
        "2. ¿De cuántas formas se puede preparar una\n",
        "ensalada de frutas con solo 2 ingredientes, si se\n",
        "cuenta con plátano, manzana y uva?\n"
      ],
      "metadata": {
        "id": "c8pmBr0Q7j2n"
      }
    },
    {
      "cell_type": "markdown",
      "source": [
        "3. En una estantería hay 6 libros de matemáticas y 3 de física. Queremos seleccionar 2 de cada. ¿De cuántas maneras podemos hacerlo?"
      ],
      "metadata": {
        "id": "ISOjmBCuEN3i"
      }
    },
    {
      "cell_type": "markdown",
      "source": [
        "4. Todas las personas que asisten a una reunión se estrechan la mano. Si hubo 105 apretones, ¿cuántas personas asistieron?"
      ],
      "metadata": {
        "id": "hbfJ3-GzDh7a"
      }
    },
    {
      "cell_type": "markdown",
      "source": [
        "5. Con 4 frutas diferentes, ¿Cuántos jugos surtidos se pueden preparar?. Además, un jugo surtido se prepara con al menos 2 frutas."
      ],
      "metadata": {
        "id": "WJVrdG5h1bmh"
      }
    },
    {
      "cell_type": "markdown",
      "source": [
        "6. ¿Cuántas palabras diferentes se pueden formar con las letras de la palabra REMEMBER?"
      ],
      "metadata": {
        "id": "-aBZI2S0BiQT"
      }
    },
    {
      "cell_type": "code",
      "source": [
        "#R se repite 2,E se repite 3,M se repite 2 y B se repite 1\n",
        "a=fact(8)/(fact(2)*fact(3)*fact(2)*fact(1))\n",
        "print(a)"
      ],
      "metadata": {
        "colab": {
          "base_uri": "https://localhost:8080/"
        },
        "id": "L-B24WvGWMC_",
        "outputId": "a05cd717-9759-45ea-a27f-789b0b0847f5"
      },
      "execution_count": 34,
      "outputs": [
        {
          "output_type": "stream",
          "name": "stdout",
          "text": [
            "1680.0\n"
          ]
        }
      ]
    },
    {
      "cell_type": "markdown",
      "source": [
        "7. Determinar la cantidad de formas posibles de organizar las letras de la palabra TALLAHASSEE de tal forma que las letras A's no esten juntas."
      ],
      "metadata": {
        "id": "H7Gdc5agcAXo"
      }
    },
    {
      "cell_type": "code",
      "source": [
        "total_formas=fact(11)/(fact(3)*fact(2)*fact(2)*fact(2))\n",
        "total_formas"
      ],
      "metadata": {
        "colab": {
          "base_uri": "https://localhost:8080/"
        },
        "id": "UfJ8YBnAWRrX",
        "outputId": "64ee25b0-cdbc-4873-9427-b356ed0f9e6c"
      },
      "execution_count": 50,
      "outputs": [
        {
          "output_type": "execute_result",
          "data": {
            "text/plain": [
              "831600.0"
            ]
          },
          "metadata": {},
          "execution_count": 50
        }
      ]
    },
    {
      "cell_type": "code",
      "source": [
        "las_A_juntas=Perm(9,9)#considerando como un bloque las As repetidas\n",
        "las_A_juntas"
      ],
      "metadata": {
        "colab": {
          "base_uri": "https://localhost:8080/"
        },
        "id": "2H8Ypc6R_Xcg",
        "outputId": "0b440b4e-6e92-4351-c615-a2528d682632"
      },
      "execution_count": 54,
      "outputs": [
        {
          "output_type": "execute_result",
          "data": {
            "text/plain": [
              "362880.0"
            ]
          },
          "metadata": {},
          "execution_count": 54
        }
      ]
    },
    {
      "cell_type": "code",
      "source": [
        "formas_As_No_juntas=total_formas-las_A_juntas\n",
        "formas_As_No_juntas"
      ],
      "metadata": {
        "colab": {
          "base_uri": "https://localhost:8080/"
        },
        "id": "3RHidCeKAmPP",
        "outputId": "d60d4600-948b-4ef3-b238-7fac84e11df5"
      },
      "execution_count": 57,
      "outputs": [
        {
          "output_type": "execute_result",
          "data": {
            "text/plain": [
              "468720.0"
            ]
          },
          "metadata": {},
          "execution_count": 57
        }
      ]
    },
    {
      "cell_type": "markdown",
      "source": [
        "8. ¿De cuántas formas se pueden sentar 6 amigos alrededor de una mesa circular?"
      ],
      "metadata": {
        "id": "lt3j4s8zB7SL"
      }
    },
    {
      "cell_type": "code",
      "source": [
        "fact(5)"
      ],
      "metadata": {
        "colab": {
          "base_uri": "https://localhost:8080/"
        },
        "id": "GJUfJbx_WWLq",
        "outputId": "e3fd16c8-4649-4450-d47d-b14d054dff25"
      },
      "execution_count": 28,
      "outputs": [
        {
          "output_type": "execute_result",
          "data": {
            "text/plain": [
              "120"
            ]
          },
          "metadata": {},
          "execution_count": 28
        }
      ]
    },
    {
      "cell_type": "markdown",
      "source": [
        "9. En un grupo de 6 amigos, hay una pareja de novios. ¿De cuántas maneras pueden sentarse alrededor de una fogata, si los novios deben sentarse siempre juntos?"
      ],
      "metadata": {
        "id": "g0-yU9SpCtlz"
      }
    },
    {
      "cell_type": "code",
      "source": [
        "fact(4)*2#considerando a la pareja como una sola persona luego fac(4) pero hay dos formas distintas que pueden ubicarse la pareja"
      ],
      "metadata": {
        "colab": {
          "base_uri": "https://localhost:8080/"
        },
        "id": "UYkgtbsZWXS0",
        "outputId": "c4eb5495-7dd8-4628-e86f-cf4a6fa48ce1"
      },
      "execution_count": 32,
      "outputs": [
        {
          "output_type": "execute_result",
          "data": {
            "text/plain": [
              "48"
            ]
          },
          "metadata": {},
          "execution_count": 32
        }
      ]
    },
    {
      "cell_type": "markdown",
      "source": [
        "10. Supongamos que hay tres hombres y dos mujeres.\n",
        "*   (a) ¿De cuántas maneras pueden posar en línea para una fotografía grupal?\n",
        "*   (b) ¿De cuántas maneras pueden colocarse en línea si una mujer debe estar en cada extremo?\n",
        "*   (c) ¿De cuántas maneras pueden colocarse en línea si las mujeres no deben ubicarse en los extremos?\n",
        "*   (d) ¿De cuántas maneras las personas del mismo sexo están juntas?\n",
        "*   (e) ¿De cuántas maneras las mujeres están separadas?"
      ],
      "metadata": {
        "id": "Dt7tGw1E8YTh"
      }
    },
    {
      "cell_type": "code",
      "source": [
        "#Ejercicio a\n",
        "a=Perm(5,5)\n",
        "a"
      ],
      "metadata": {
        "colab": {
          "base_uri": "https://localhost:8080/"
        },
        "id": "v6gk4rMhXytE",
        "outputId": "4d94855d-5a8f-49ea-a58f-2bba55e43ccb"
      },
      "execution_count": 35,
      "outputs": [
        {
          "output_type": "execute_result",
          "data": {
            "text/plain": [
              "120.0"
            ]
          },
          "metadata": {},
          "execution_count": 35
        }
      ]
    },
    {
      "cell_type": "code",
      "source": [
        "#Ejercicio b\n",
        "b=Perm(2,2)*Perm(3,3)\n",
        "b"
      ],
      "metadata": {
        "colab": {
          "base_uri": "https://localhost:8080/"
        },
        "id": "KZGGbQwgaAoM",
        "outputId": "017de57b-f04b-4ffe-8a61-0655308d1af6"
      },
      "execution_count": 37,
      "outputs": [
        {
          "output_type": "execute_result",
          "data": {
            "text/plain": [
              "12.0"
            ]
          },
          "metadata": {},
          "execution_count": 37
        }
      ]
    },
    {
      "cell_type": "code",
      "source": [
        "#Ejercicio C\n",
        "Num_mujeres_extremo=12#Calculado en la pregunta b\n",
        "total_maneras=120#Calculado en la pregunta a\n",
        "\n",
        "Num_mujeres_No_extremo=total_maneras-Num_mujeres_extremo\n",
        "\n",
        "Num_mujeres_No_extremo"
      ],
      "metadata": {
        "colab": {
          "base_uri": "https://localhost:8080/"
        },
        "id": "j_4lTOewbVts",
        "outputId": "cf8155c1-215f-425a-bcac-8b6c3313a3af"
      },
      "execution_count": 48,
      "outputs": [
        {
          "output_type": "execute_result",
          "data": {
            "text/plain": [
              "108"
            ]
          },
          "metadata": {},
          "execution_count": 48
        }
      ]
    },
    {
      "cell_type": "code",
      "source": [
        "#Ejercicio d\n",
        "d=Perm(2,2)*Perm(2,2)*Perm(3,3)#el primero es para ordenar al grupo del mismo sexo,el segundo el ordenamiento de mujeres y el tercero el ordenamiento de hombre\n",
        "d\n",
        "\n"
      ],
      "metadata": {
        "colab": {
          "base_uri": "https://localhost:8080/"
        },
        "id": "L-HyaA5nbkNe",
        "outputId": "afb89ea5-9901-4b62-a61e-5819de6372f1"
      },
      "execution_count": 40,
      "outputs": [
        {
          "output_type": "execute_result",
          "data": {
            "text/plain": [
              "24.0"
            ]
          },
          "metadata": {},
          "execution_count": 40
        }
      ]
    },
    {
      "cell_type": "code",
      "source": [
        "#Ejercicio e\n",
        "Num_Mujeres_juntas=Perm(4,4)*Perm(2,2)#Cosiderando a las mujeres como un bloque x el ordenamiento de las mujeres\n",
        "\n",
        "total_maneras=120#calculado en a\n",
        "\n",
        "Num_Mujeres_No_juntas=total_maneras-Num_Mujeres_juntas\n",
        "Num_Mujeres_No_juntas"
      ],
      "metadata": {
        "colab": {
          "base_uri": "https://localhost:8080/"
        },
        "id": "G9LlDc1lgPgz",
        "outputId": "4d60282a-1cf4-4bc9-e4b8-5556b91646ff"
      },
      "execution_count": 44,
      "outputs": [
        {
          "output_type": "execute_result",
          "data": {
            "text/plain": [
              "72.0"
            ]
          },
          "metadata": {},
          "execution_count": 44
        }
      ]
    }
  ]
}
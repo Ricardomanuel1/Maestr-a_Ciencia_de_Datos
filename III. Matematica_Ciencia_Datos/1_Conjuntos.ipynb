{
  "nbformat": 4,
  "nbformat_minor": 0,
  "metadata": {
    "colab": {
      "provenance": [],
      "include_colab_link": true
    },
    "kernelspec": {
      "name": "python3",
      "display_name": "Python 3"
    },
    "language_info": {
      "name": "python"
    }
  },
  "cells": [
    {
      "cell_type": "markdown",
      "metadata": {
        "id": "view-in-github",
        "colab_type": "text"
      },
      "source": [
        "<a href=\"https://colab.research.google.com/github/Ricardomanuel1/Maestria_Ciencia_de_Datos/blob/main/III.%20Matematica_Ciencia_Datos/1_Conjuntos.ipynb\" target=\"_parent\"><img src=\"https://colab.research.google.com/assets/colab-badge.svg\" alt=\"Open In Colab\"/></a>"
      ]
    },
    {
      "cell_type": "markdown",
      "source": [
        "# Teoría Conjuntos"
      ],
      "metadata": {
        "id": "ARSwrmN2yp8L"
      }
    },
    {
      "cell_type": "code",
      "execution_count": null,
      "metadata": {
        "id": "Q2_RzmMhxa51"
      },
      "outputs": [],
      "source": [
        "A = {\"alpha\",23}"
      ]
    },
    {
      "cell_type": "code",
      "source": [
        "type(A)"
      ],
      "metadata": {
        "colab": {
          "base_uri": "https://localhost:8080/"
        },
        "id": "j6Kvwdm5xerL",
        "outputId": "be274b4b-9e1c-4b67-92e4-02b20e6c5627"
      },
      "execution_count": null,
      "outputs": [
        {
          "output_type": "execute_result",
          "data": {
            "text/plain": [
              "set"
            ]
          },
          "metadata": {},
          "execution_count": 61
        }
      ]
    },
    {
      "cell_type": "code",
      "source": [
        "\"alpha\" in A"
      ],
      "metadata": {
        "colab": {
          "base_uri": "https://localhost:8080/"
        },
        "id": "iIVrr_4nxn6i",
        "outputId": "286effdb-4588-4d0c-bcf9-4789b473d889"
      },
      "execution_count": null,
      "outputs": [
        {
          "output_type": "execute_result",
          "data": {
            "text/plain": [
              "True"
            ]
          },
          "metadata": {},
          "execution_count": 62
        }
      ]
    },
    {
      "cell_type": "code",
      "source": [
        "\"beta\" in A"
      ],
      "metadata": {
        "colab": {
          "base_uri": "https://localhost:8080/"
        },
        "id": "X0PaTN0_xtBJ",
        "outputId": "65863f5e-04d0-4fc7-f85c-cd0d38926600"
      },
      "execution_count": null,
      "outputs": [
        {
          "output_type": "execute_result",
          "data": {
            "text/plain": [
              "False"
            ]
          },
          "metadata": {},
          "execution_count": 63
        }
      ]
    },
    {
      "cell_type": "code",
      "source": [
        "C = {23,\"alpha\"}"
      ],
      "metadata": {
        "id": "SR2Z-T9cxxNy"
      },
      "execution_count": null,
      "outputs": []
    },
    {
      "cell_type": "code",
      "source": [
        "D = {23,\"alpha\",\"alpha\"}"
      ],
      "metadata": {
        "id": "ihbT6ZTxz8Hr"
      },
      "execution_count": null,
      "outputs": []
    },
    {
      "cell_type": "code",
      "source": [
        "E = [23,\"alpha\",\"alpha\"]"
      ],
      "metadata": {
        "id": "XJwxcNZp0Sxr"
      },
      "execution_count": null,
      "outputs": []
    },
    {
      "cell_type": "code",
      "source": [
        "len(D)"
      ],
      "metadata": {
        "colab": {
          "base_uri": "https://localhost:8080/"
        },
        "id": "-QlfstsO0KGL",
        "outputId": "faa8d6bc-d620-4be6-be9d-bb10c6b0afd5"
      },
      "execution_count": null,
      "outputs": [
        {
          "output_type": "execute_result",
          "data": {
            "text/plain": [
              "2"
            ]
          },
          "metadata": {},
          "execution_count": 67
        }
      ]
    },
    {
      "cell_type": "code",
      "source": [
        "len(E)"
      ],
      "metadata": {
        "colab": {
          "base_uri": "https://localhost:8080/"
        },
        "id": "GmLBuW2v0XiC",
        "outputId": "70ed86fb-37b8-46a9-e16a-a05d0d08907d"
      },
      "execution_count": null,
      "outputs": [
        {
          "output_type": "execute_result",
          "data": {
            "text/plain": [
              "3"
            ]
          },
          "metadata": {},
          "execution_count": 68
        }
      ]
    },
    {
      "cell_type": "code",
      "source": [
        "A==C"
      ],
      "metadata": {
        "colab": {
          "base_uri": "https://localhost:8080/"
        },
        "id": "yx-lMiorx1yB",
        "outputId": "861bf600-620f-427e-f292-648d2f28e241"
      },
      "execution_count": null,
      "outputs": [
        {
          "output_type": "execute_result",
          "data": {
            "text/plain": [
              "True"
            ]
          },
          "metadata": {},
          "execution_count": 69
        }
      ]
    },
    {
      "cell_type": "code",
      "source": [
        "A==D"
      ],
      "metadata": {
        "colab": {
          "base_uri": "https://localhost:8080/"
        },
        "id": "KUfbyUJT0BpC",
        "outputId": "317e526a-c365-428e-ac4d-0c6bc248843e"
      },
      "execution_count": null,
      "outputs": [
        {
          "output_type": "execute_result",
          "data": {
            "text/plain": [
              "True"
            ]
          },
          "metadata": {},
          "execution_count": 70
        }
      ]
    },
    {
      "cell_type": "markdown",
      "source": [
        "## Convirtiendo lista (list) a conjunto (set)"
      ],
      "metadata": {
        "id": "Qiedkh-zvV-1"
      }
    },
    {
      "cell_type": "code",
      "source": [
        "A = [\"a\",1,23,2,\"alpha\"]"
      ],
      "metadata": {
        "id": "EHoWAGKdyA0S"
      },
      "execution_count": null,
      "outputs": []
    },
    {
      "cell_type": "code",
      "source": [
        "type(A)"
      ],
      "metadata": {
        "colab": {
          "base_uri": "https://localhost:8080/"
        },
        "id": "1mhqve1hyJCp",
        "outputId": "82265949-987b-4974-c341-1911346b8b01"
      },
      "execution_count": null,
      "outputs": [
        {
          "output_type": "execute_result",
          "data": {
            "text/plain": [
              "list"
            ]
          },
          "metadata": {},
          "execution_count": 72
        }
      ]
    },
    {
      "cell_type": "code",
      "source": [
        "B=set(A)"
      ],
      "metadata": {
        "id": "uDEQauTIyKvS"
      },
      "execution_count": null,
      "outputs": []
    },
    {
      "cell_type": "code",
      "source": [
        "type(B)"
      ],
      "metadata": {
        "colab": {
          "base_uri": "https://localhost:8080/"
        },
        "id": "zKfY3F1uyOZS",
        "outputId": "2a8ebdb5-31dd-46f4-d7e5-80a007903f9f"
      },
      "execution_count": null,
      "outputs": [
        {
          "output_type": "execute_result",
          "data": {
            "text/plain": [
              "set"
            ]
          },
          "metadata": {},
          "execution_count": 74
        }
      ]
    },
    {
      "cell_type": "code",
      "source": [
        "U = set(range(1,10))\n",
        "B = set(range(2,5))"
      ],
      "metadata": {
        "id": "ZpQu4Gbqyfya"
      },
      "execution_count": null,
      "outputs": []
    },
    {
      "cell_type": "code",
      "source": [
        "U"
      ],
      "metadata": {
        "colab": {
          "base_uri": "https://localhost:8080/"
        },
        "id": "3zxfaHZezPj7",
        "outputId": "faa4130c-5733-4fba-e0c4-649f9483d0da"
      },
      "execution_count": null,
      "outputs": [
        {
          "output_type": "execute_result",
          "data": {
            "text/plain": [
              "{1, 2, 3, 4, 5, 6, 7, 8, 9}"
            ]
          },
          "metadata": {},
          "execution_count": 76
        }
      ]
    },
    {
      "cell_type": "code",
      "source": [
        "B"
      ],
      "metadata": {
        "colab": {
          "base_uri": "https://localhost:8080/"
        },
        "id": "KXKGsWZE1Q5X",
        "outputId": "e241602c-4aa6-4bef-ec99-d9fb6cfc037f"
      },
      "execution_count": null,
      "outputs": [
        {
          "output_type": "execute_result",
          "data": {
            "text/plain": [
              "{2, 3, 4}"
            ]
          },
          "metadata": {},
          "execution_count": 77
        }
      ]
    },
    {
      "cell_type": "code",
      "source": [
        "E = set()"
      ],
      "metadata": {
        "id": "Lkn8s6CkylW6"
      },
      "execution_count": null,
      "outputs": []
    },
    {
      "cell_type": "code",
      "source": [
        "U.issubset(B)"
      ],
      "metadata": {
        "colab": {
          "base_uri": "https://localhost:8080/"
        },
        "id": "UM99Y4xYzBxD",
        "outputId": "4fdc5518-c097-4bee-9730-1e50d99ef907"
      },
      "execution_count": null,
      "outputs": [
        {
          "output_type": "execute_result",
          "data": {
            "text/plain": [
              "False"
            ]
          },
          "metadata": {},
          "execution_count": 79
        }
      ]
    },
    {
      "cell_type": "code",
      "source": [
        "B.issubset(U)"
      ],
      "metadata": {
        "colab": {
          "base_uri": "https://localhost:8080/"
        },
        "id": "9xs7o9pc1bXP",
        "outputId": "ddc1c05b-682b-4eca-f91c-75da83b857b8"
      },
      "execution_count": null,
      "outputs": [
        {
          "output_type": "execute_result",
          "data": {
            "text/plain": [
              "True"
            ]
          },
          "metadata": {},
          "execution_count": 80
        }
      ]
    },
    {
      "cell_type": "code",
      "source": [
        "B.add(\"beta\")"
      ],
      "metadata": {
        "id": "mXq3vjRdzjug"
      },
      "execution_count": null,
      "outputs": []
    },
    {
      "cell_type": "code",
      "source": [
        "B"
      ],
      "metadata": {
        "colab": {
          "base_uri": "https://localhost:8080/"
        },
        "id": "ieqb2i04ztyD",
        "outputId": "c0330f95-f7d9-4a26-ce7f-faffcd10d566"
      },
      "execution_count": null,
      "outputs": [
        {
          "output_type": "execute_result",
          "data": {
            "text/plain": [
              "{2, 3, 4, 'beta'}"
            ]
          },
          "metadata": {},
          "execution_count": 82
        }
      ]
    },
    {
      "cell_type": "code",
      "source": [
        "{x for x in range(1,11) if x%2 == 0}"
      ],
      "metadata": {
        "colab": {
          "base_uri": "https://localhost:8080/"
        },
        "id": "kKg55tFoz1ly",
        "outputId": "61694455-88dd-4631-9ceb-6bbf837901cc"
      },
      "execution_count": null,
      "outputs": [
        {
          "output_type": "execute_result",
          "data": {
            "text/plain": [
              "{2, 4, 6, 8, 10}"
            ]
          },
          "metadata": {},
          "execution_count": 83
        }
      ]
    },
    {
      "cell_type": "code",
      "source": [
        "{3*x for x in range(1,11) if x%2 == 0}"
      ],
      "metadata": {
        "colab": {
          "base_uri": "https://localhost:8080/"
        },
        "id": "BrXuan_a2FfA",
        "outputId": "2be630b7-3ed9-46a3-df3d-12f4341086d9"
      },
      "execution_count": null,
      "outputs": [
        {
          "output_type": "execute_result",
          "data": {
            "text/plain": [
              "{6, 12, 18, 24, 30}"
            ]
          },
          "metadata": {},
          "execution_count": 84
        }
      ]
    },
    {
      "cell_type": "code",
      "source": [
        "{3*x+5 for x in range(1,11) if x%2 == 0}"
      ],
      "metadata": {
        "colab": {
          "base_uri": "https://localhost:8080/"
        },
        "id": "0Ov_99-n0EVJ",
        "outputId": "bf4bd056-b59a-48b2-b3b1-d0b02c47981e"
      },
      "execution_count": null,
      "outputs": [
        {
          "output_type": "execute_result",
          "data": {
            "text/plain": [
              "{11, 17, 23, 29, 35}"
            ]
          },
          "metadata": {},
          "execution_count": 85
        }
      ]
    },
    {
      "cell_type": "markdown",
      "source": [
        "## Operaciones entre conjuntos"
      ],
      "metadata": {
        "id": "nBBhPi500KSq"
      }
    },
    {
      "cell_type": "code",
      "source": [
        "B"
      ],
      "metadata": {
        "colab": {
          "base_uri": "https://localhost:8080/"
        },
        "id": "r6hHAIWS2s92",
        "outputId": "6c7a3db0-69c6-4e74-f438-86d5339b1dbc"
      },
      "execution_count": null,
      "outputs": [
        {
          "output_type": "execute_result",
          "data": {
            "text/plain": [
              "{2, 3, 4, 'beta'}"
            ]
          },
          "metadata": {},
          "execution_count": 86
        }
      ]
    },
    {
      "cell_type": "code",
      "source": [
        "C"
      ],
      "metadata": {
        "colab": {
          "base_uri": "https://localhost:8080/"
        },
        "id": "KMyjT5GL2ure",
        "outputId": "c72feeee-b0e6-4825-f847-326017697499"
      },
      "execution_count": null,
      "outputs": [
        {
          "output_type": "execute_result",
          "data": {
            "text/plain": [
              "{23, 'alpha'}"
            ]
          },
          "metadata": {},
          "execution_count": 87
        }
      ]
    },
    {
      "cell_type": "code",
      "source": [
        "C.union(B)"
      ],
      "metadata": {
        "colab": {
          "base_uri": "https://localhost:8080/"
        },
        "id": "haOZ0WMb0IZZ",
        "outputId": "701a74ff-ccc3-4068-af0e-0a0682bda31c"
      },
      "execution_count": null,
      "outputs": [
        {
          "output_type": "execute_result",
          "data": {
            "text/plain": [
              "{2, 23, 3, 4, 'alpha', 'beta'}"
            ]
          },
          "metadata": {},
          "execution_count": 88
        }
      ]
    },
    {
      "cell_type": "code",
      "source": [
        "C.intersection(B)"
      ],
      "metadata": {
        "colab": {
          "base_uri": "https://localhost:8080/"
        },
        "id": "NS6cAsRH299f",
        "outputId": "35f17141-dd02-4706-c263-637f01aebe1e"
      },
      "execution_count": null,
      "outputs": [
        {
          "output_type": "execute_result",
          "data": {
            "text/plain": [
              "set()"
            ]
          },
          "metadata": {},
          "execution_count": 89
        }
      ]
    },
    {
      "cell_type": "code",
      "source": [
        "F={4, 'alpha'}"
      ],
      "metadata": {
        "id": "g722wCZl3DJ3"
      },
      "execution_count": null,
      "outputs": []
    },
    {
      "cell_type": "code",
      "source": [
        "C.intersection(F)"
      ],
      "metadata": {
        "colab": {
          "base_uri": "https://localhost:8080/"
        },
        "id": "Q8tw2vSQ0YOh",
        "outputId": "514bd831-4657-46dc-c5f4-827f2a159d64"
      },
      "execution_count": null,
      "outputs": [
        {
          "output_type": "execute_result",
          "data": {
            "text/plain": [
              "{'alpha'}"
            ]
          },
          "metadata": {},
          "execution_count": 91
        }
      ]
    },
    {
      "cell_type": "code",
      "source": [
        "C-B"
      ],
      "metadata": {
        "colab": {
          "base_uri": "https://localhost:8080/"
        },
        "id": "QBqmEDyj0jEJ",
        "outputId": "3212b1d0-6257-4f7b-c703-04b3e327d0fc"
      },
      "execution_count": null,
      "outputs": [
        {
          "output_type": "execute_result",
          "data": {
            "text/plain": [
              "{23, 'alpha'}"
            ]
          },
          "metadata": {},
          "execution_count": 92
        }
      ]
    },
    {
      "cell_type": "code",
      "source": [
        "B-C"
      ],
      "metadata": {
        "colab": {
          "base_uri": "https://localhost:8080/"
        },
        "id": "o5bzwKRU0lWq",
        "outputId": "b73c71b9-5d7f-4135-b1a1-8b043738644c"
      },
      "execution_count": null,
      "outputs": [
        {
          "output_type": "execute_result",
          "data": {
            "text/plain": [
              "{2, 3, 4, 'beta'}"
            ]
          },
          "metadata": {},
          "execution_count": 93
        }
      ]
    },
    {
      "cell_type": "code",
      "source": [
        "# Diferencia Simétrica\n",
        "(B-C).union(C-B)"
      ],
      "metadata": {
        "colab": {
          "base_uri": "https://localhost:8080/"
        },
        "id": "JSWpCEOK0sDq",
        "outputId": "374c8311-5118-4fd3-c119-9b082c7d49b3"
      },
      "execution_count": null,
      "outputs": [
        {
          "output_type": "execute_result",
          "data": {
            "text/plain": [
              "{2, 23, 3, 4, 'alpha', 'beta'}"
            ]
          },
          "metadata": {},
          "execution_count": 94
        }
      ]
    },
    {
      "cell_type": "markdown",
      "source": [
        "## Tuplas"
      ],
      "metadata": {
        "id": "ooWF_cypz_uI"
      }
    },
    {
      "cell_type": "code",
      "source": [
        "a = (123,\"alpha\")\n",
        "type(a)"
      ],
      "metadata": {
        "colab": {
          "base_uri": "https://localhost:8080/"
        },
        "id": "4zvEz8QIzJ4A",
        "outputId": "3b220600-a39e-4b0c-b45a-506e61c5b87c"
      },
      "execution_count": null,
      "outputs": [
        {
          "output_type": "execute_result",
          "data": {
            "text/plain": [
              "tuple"
            ]
          },
          "metadata": {},
          "execution_count": 95
        }
      ]
    },
    {
      "cell_type": "code",
      "source": [
        "b = (\"alpha\",123)\n",
        "type(b)"
      ],
      "metadata": {
        "colab": {
          "base_uri": "https://localhost:8080/"
        },
        "id": "TLeFs6OJ1I5Q",
        "outputId": "fec968c3-0e49-4b84-8518-086901dfdbfa"
      },
      "execution_count": null,
      "outputs": [
        {
          "output_type": "execute_result",
          "data": {
            "text/plain": [
              "tuple"
            ]
          },
          "metadata": {},
          "execution_count": 96
        }
      ]
    },
    {
      "cell_type": "code",
      "source": [
        "a+b"
      ],
      "metadata": {
        "colab": {
          "base_uri": "https://localhost:8080/"
        },
        "id": "aRrhFAtq1SKo",
        "outputId": "2f99ea52-be00-465b-ff88-8ea5b84bd03e"
      },
      "execution_count": null,
      "outputs": [
        {
          "output_type": "execute_result",
          "data": {
            "text/plain": [
              "(123, 'alpha', 'alpha', 123)"
            ]
          },
          "metadata": {},
          "execution_count": 97
        }
      ]
    },
    {
      "cell_type": "code",
      "source": [
        "a==b"
      ],
      "metadata": {
        "colab": {
          "base_uri": "https://localhost:8080/"
        },
        "id": "gyFOjrfQ0Lm4",
        "outputId": "e025b85d-963f-47eb-e152-c5ee53848a43"
      },
      "execution_count": null,
      "outputs": [
        {
          "output_type": "execute_result",
          "data": {
            "text/plain": [
              "False"
            ]
          },
          "metadata": {},
          "execution_count": 98
        }
      ]
    },
    {
      "cell_type": "code",
      "source": [
        "c={321,\"beta\"}\n",
        "c=tuple(c)"
      ],
      "metadata": {
        "id": "8SvmtpbZ1isP"
      },
      "execution_count": null,
      "outputs": []
    },
    {
      "cell_type": "markdown",
      "source": [
        "# Ejemplo"
      ],
      "metadata": {
        "id": "ukcADk1t-u-H"
      }
    },
    {
      "cell_type": "markdown",
      "source": [
        "## Calculando la unión $A\\cup B\\cup C$"
      ],
      "metadata": {
        "id": "5LHpo3ur_Hyn"
      }
    },
    {
      "cell_type": "code",
      "source": [
        "group_a = {'Ana', 'Marcos', 'Carlos', 'Mario','Hector','Juan','Jenny'}\n",
        "group_b = {'Ana', 'Pedro', 'Carlos', 'Antonio', 'Jenny','Gabriela','Hector'}\n",
        "group_c = {'Ana', 'Antonio', 'Marcos', 'Pedro','Jenny','Guillermo'}"
      ],
      "metadata": {
        "id": "kwz7bVhH_56X"
      },
      "execution_count": null,
      "outputs": []
    },
    {
      "cell_type": "code",
      "source": [
        "all_students = group_a.union(group_b).union(group_c)\n",
        "print(all_students)"
      ],
      "metadata": {
        "colab": {
          "base_uri": "https://localhost:8080/"
        },
        "id": "HsLA3PV2_Ece",
        "outputId": "198e2cff-34de-4a0d-f87c-6e44cbaf2c23"
      },
      "execution_count": null,
      "outputs": [
        {
          "output_type": "stream",
          "name": "stdout",
          "text": [
            "{'Ana', 'Mario', 'Juan', 'Jenny', 'Gabriela', 'Pedro', 'Antonio', 'Guillermo', 'Carlos', 'Marcos', 'Hector'}\n"
          ]
        }
      ]
    },
    {
      "cell_type": "markdown",
      "source": [
        "## Calculando $A\\cap B$,$A\\cap C$, $A\\cap C$  "
      ],
      "metadata": {
        "id": "W1-Fc9aHAGFv"
      }
    },
    {
      "cell_type": "code",
      "source": [
        "a_and_b = group_a.intersection(group_b)\n",
        "a_and_c = group_a.intersection(group_c)\n",
        "b_and_c = group_b.intersection(group_c)\n",
        "print('A intersección B es =', a_and_b)\n",
        "print('B intersección C es =', b_and_c)\n",
        "print('A intersección C es =', a_and_c)"
      ],
      "metadata": {
        "colab": {
          "base_uri": "https://localhost:8080/"
        },
        "id": "aDvJOmZh_2lX",
        "outputId": "fd0bc0bb-28dd-46df-f6a5-e3024e13f374"
      },
      "execution_count": null,
      "outputs": [
        {
          "output_type": "stream",
          "name": "stdout",
          "text": [
            "A intersección B es = {'Carlos', 'Jenny', 'Ana', 'Hector'}\n",
            "B intersección C es = {'Jenny', 'Ana', 'Pedro', 'Antonio'}\n",
            "A intersección C es = {'Marcos', 'Jenny', 'Ana'}\n"
          ]
        }
      ]
    },
    {
      "cell_type": "markdown",
      "source": [
        "## Calculando $A\\cap B \\cap C$"
      ],
      "metadata": {
        "id": "4IxJRokWA2b4"
      }
    },
    {
      "cell_type": "code",
      "source": [
        "common_all = group_a.intersection(group_b).intersection(group_c)\n",
        "print(common_all)"
      ],
      "metadata": {
        "colab": {
          "base_uri": "https://localhost:8080/"
        },
        "id": "QNIRxChdATi4",
        "outputId": "e8deff7d-31ee-44d8-9ed2-f4dee4272b88"
      },
      "execution_count": null,
      "outputs": [
        {
          "output_type": "stream",
          "name": "stdout",
          "text": [
            "{'Jenny', 'Ana'}\n"
          ]
        }
      ]
    },
    {
      "cell_type": "markdown",
      "source": [
        "## Listando la participación de los alumnos en sus grupos"
      ],
      "metadata": {
        "id": "GeANLCG_BBPg"
      }
    },
    {
      "cell_type": "code",
      "source": [
        "for student in all_students:\n",
        "    groups_in = []\n",
        "    for letter, group in zip('ABC', [group_a, group_b, group_c]):\n",
        "        if student in group:\n",
        "            groups_in.append(letter)\n",
        "        groups_str = '-'.join(groups_in)\n",
        "        plural = 's' if len(groups_in) > 1 else ''\n",
        "    print(f'{student} en grupo{plural}: {groups_str}')\n"
      ],
      "metadata": {
        "id": "WdrgC6Uj0zU1",
        "colab": {
          "base_uri": "https://localhost:8080/"
        },
        "outputId": "ceeb14bf-bee1-4ec1-ab2a-0c91712fe8f1"
      },
      "execution_count": null,
      "outputs": [
        {
          "output_type": "stream",
          "name": "stdout",
          "text": [
            "Ana en grupos: A-B-C\n",
            "Mario en grupo: A\n",
            "Juan en grupo: A\n",
            "Jenny en grupos: A-B-C\n",
            "Gabriela en grupo: B\n",
            "Pedro en grupos: B-C\n",
            "Antonio en grupos: B-C\n",
            "Guillermo en grupo: C\n",
            "Carlos en grupos: A-B\n",
            "Marcos en grupos: A-C\n",
            "Hector en grupos: A-B\n"
          ]
        }
      ]
    }
  ]
}
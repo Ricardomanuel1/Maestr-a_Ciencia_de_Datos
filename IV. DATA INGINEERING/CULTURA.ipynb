{
  "nbformat": 4,
  "nbformat_minor": 0,
  "metadata": {
    "colab": {
      "provenance": [],
      "authorship_tag": "ABX9TyMh8vW3czUcu/H8zL8BP/Jb",
      "include_colab_link": true
    },
    "kernelspec": {
      "name": "python3",
      "display_name": "Python 3"
    },
    "language_info": {
      "name": "python"
    }
  },
  "cells": [
    {
      "cell_type": "markdown",
      "metadata": {
        "id": "view-in-github",
        "colab_type": "text"
      },
      "source": [
        "<a href=\"https://colab.research.google.com/github/Ricardomanuel1/Maestria_Ciencia_de_Datos/blob/main/IV.%20DATA%20INGINEERING/CULTURA.ipynb\" target=\"_parent\"><img src=\"https://colab.research.google.com/assets/colab-badge.svg\" alt=\"Open In Colab\"/></a>"
      ]
    },
    {
      "cell_type": "code",
      "execution_count": 1,
      "metadata": {
        "colab": {
          "base_uri": "https://localhost:8080/"
        },
        "id": "VvXanDjcqQE7",
        "outputId": "5f92039f-d2bf-4a54-919b-5255459acb63"
      },
      "outputs": [
        {
          "output_type": "stream",
          "name": "stdout",
          "text": [
            "\u001b[0m\u001b[01;34msample_data\u001b[0m/\n"
          ]
        }
      ],
      "source": [
        "ls"
      ]
    },
    {
      "cell_type": "code",
      "source": [
        "pwd"
      ],
      "metadata": {
        "colab": {
          "base_uri": "https://localhost:8080/",
          "height": 36
        },
        "id": "JPDOtNyFqRGF",
        "outputId": "8e36fd00-b254-4037-d5c2-8fde147d98fd"
      },
      "execution_count": 2,
      "outputs": [
        {
          "output_type": "execute_result",
          "data": {
            "text/plain": [
              "'/content'"
            ],
            "application/vnd.google.colaboratory.intrinsic+json": {
              "type": "string"
            }
          },
          "metadata": {},
          "execution_count": 2
        }
      ]
    },
    {
      "cell_type": "code",
      "source": [
        "!pip install wget\n",
        "import wget\n",
        "URL = \"https://instagram.com/favicon.ico\"\n",
        "response = wget.download(URL, \"instagram.ico\")"
      ],
      "metadata": {
        "colab": {
          "base_uri": "https://localhost:8080/"
        },
        "id": "ZlYjyVpsqSQJ",
        "outputId": "b9a9b299-c710-4675-c9d1-f028ad57431c"
      },
      "execution_count": 3,
      "outputs": [
        {
          "output_type": "stream",
          "name": "stdout",
          "text": [
            "Collecting wget\n",
            "  Downloading wget-3.2.zip (10 kB)\n",
            "  Preparing metadata (setup.py) ... \u001b[?25l\u001b[?25hdone\n",
            "Building wheels for collected packages: wget\n",
            "  Building wheel for wget (setup.py) ... \u001b[?25l\u001b[?25hdone\n",
            "  Created wheel for wget: filename=wget-3.2-py3-none-any.whl size=9655 sha256=8f3b00bfec1d16b6a6a267e9e20cf83cb0dc12b20119ae198981b3e9e97005a0\n",
            "  Stored in directory: /root/.cache/pip/wheels/8b/f1/7f/5c94f0a7a505ca1c81cd1d9208ae2064675d97582078e6c769\n",
            "Successfully built wget\n",
            "Installing collected packages: wget\n",
            "Successfully installed wget-3.2\n"
          ]
        }
      ]
    },
    {
      "cell_type": "code",
      "source": [
        "ls"
      ],
      "metadata": {
        "colab": {
          "base_uri": "https://localhost:8080/"
        },
        "id": "T59gR-kAqSLu",
        "outputId": "736772a8-31fe-4a90-f57a-f8d265f6b76c"
      },
      "execution_count": 4,
      "outputs": [
        {
          "output_type": "stream",
          "name": "stdout",
          "text": [
            "instagram.ico  \u001b[0m\u001b[01;34msample_data\u001b[0m/\n"
          ]
        }
      ]
    },
    {
      "cell_type": "code",
      "source": [
        "%%time\n",
        "\n",
        "meses=[\"01\",\"02\",\"03\",\"04\",\"05\",\"06\",\"07\",\"08\",\"09\",\"10\",\"11\",\"12\"]\n",
        "\n",
        "for i in range(2020,2022,1):\n",
        "  i\n",
        "  for j in meses:\n",
        "    j\n",
        "\n",
        "\n",
        "#anho = i #202205\n",
        "#mes = j\n",
        "\n",
        "    codmes = f'{i}{j}'\n",
        "    print(codmes)\n",
        "    path0 =  f'https://www.transparencia.gob.pe/personal/pte_transparencia_personal_genera.aspx?id_entidad=77&in_anno_consulta={i}&ch_mes_consulta={j}&ch_tipo_regimen=0&vc_dni_funcionario=&vc_nombre_funcionario=&ch_tipo_descarga=1'\n",
        "    print(path0)\n",
        "    response = wget.download(path0, out =   f'transparencia_CULTURA_{codmes}.xls' )\n",
        "#!cp DownloadMobileNoExcel.xls  f'transparencia_{codmes}.xls'\n",
        "!ls"
      ],
      "metadata": {
        "colab": {
          "base_uri": "https://localhost:8080/"
        },
        "id": "OluInMgvqSFH",
        "outputId": "d9d85551-a567-480c-9151-d910b0b804a1"
      },
      "execution_count": 9,
      "outputs": [
        {
          "output_type": "stream",
          "name": "stdout",
          "text": [
            "202001\n",
            "https://www.transparencia.gob.pe/personal/pte_transparencia_personal_genera.aspx?id_entidad=77&in_anno_consulta=2020&ch_mes_consulta=01&ch_tipo_regimen=0&vc_dni_funcionario=&vc_nombre_funcionario=&ch_tipo_descarga=1\n",
            "202002\n",
            "https://www.transparencia.gob.pe/personal/pte_transparencia_personal_genera.aspx?id_entidad=77&in_anno_consulta=2020&ch_mes_consulta=02&ch_tipo_regimen=0&vc_dni_funcionario=&vc_nombre_funcionario=&ch_tipo_descarga=1\n",
            "202003\n",
            "https://www.transparencia.gob.pe/personal/pte_transparencia_personal_genera.aspx?id_entidad=77&in_anno_consulta=2020&ch_mes_consulta=03&ch_tipo_regimen=0&vc_dni_funcionario=&vc_nombre_funcionario=&ch_tipo_descarga=1\n",
            "202004\n",
            "https://www.transparencia.gob.pe/personal/pte_transparencia_personal_genera.aspx?id_entidad=77&in_anno_consulta=2020&ch_mes_consulta=04&ch_tipo_regimen=0&vc_dni_funcionario=&vc_nombre_funcionario=&ch_tipo_descarga=1\n",
            "202005\n",
            "https://www.transparencia.gob.pe/personal/pte_transparencia_personal_genera.aspx?id_entidad=77&in_anno_consulta=2020&ch_mes_consulta=05&ch_tipo_regimen=0&vc_dni_funcionario=&vc_nombre_funcionario=&ch_tipo_descarga=1\n",
            "202006\n",
            "https://www.transparencia.gob.pe/personal/pte_transparencia_personal_genera.aspx?id_entidad=77&in_anno_consulta=2020&ch_mes_consulta=06&ch_tipo_regimen=0&vc_dni_funcionario=&vc_nombre_funcionario=&ch_tipo_descarga=1\n",
            "202007\n",
            "https://www.transparencia.gob.pe/personal/pte_transparencia_personal_genera.aspx?id_entidad=77&in_anno_consulta=2020&ch_mes_consulta=07&ch_tipo_regimen=0&vc_dni_funcionario=&vc_nombre_funcionario=&ch_tipo_descarga=1\n",
            "202008\n",
            "https://www.transparencia.gob.pe/personal/pte_transparencia_personal_genera.aspx?id_entidad=77&in_anno_consulta=2020&ch_mes_consulta=08&ch_tipo_regimen=0&vc_dni_funcionario=&vc_nombre_funcionario=&ch_tipo_descarga=1\n",
            "202009\n",
            "https://www.transparencia.gob.pe/personal/pte_transparencia_personal_genera.aspx?id_entidad=77&in_anno_consulta=2020&ch_mes_consulta=09&ch_tipo_regimen=0&vc_dni_funcionario=&vc_nombre_funcionario=&ch_tipo_descarga=1\n",
            "202010\n",
            "https://www.transparencia.gob.pe/personal/pte_transparencia_personal_genera.aspx?id_entidad=77&in_anno_consulta=2020&ch_mes_consulta=10&ch_tipo_regimen=0&vc_dni_funcionario=&vc_nombre_funcionario=&ch_tipo_descarga=1\n",
            "202011\n",
            "https://www.transparencia.gob.pe/personal/pte_transparencia_personal_genera.aspx?id_entidad=77&in_anno_consulta=2020&ch_mes_consulta=11&ch_tipo_regimen=0&vc_dni_funcionario=&vc_nombre_funcionario=&ch_tipo_descarga=1\n",
            "202012\n",
            "https://www.transparencia.gob.pe/personal/pte_transparencia_personal_genera.aspx?id_entidad=77&in_anno_consulta=2020&ch_mes_consulta=12&ch_tipo_regimen=0&vc_dni_funcionario=&vc_nombre_funcionario=&ch_tipo_descarga=1\n",
            "202101\n",
            "https://www.transparencia.gob.pe/personal/pte_transparencia_personal_genera.aspx?id_entidad=77&in_anno_consulta=2021&ch_mes_consulta=01&ch_tipo_regimen=0&vc_dni_funcionario=&vc_nombre_funcionario=&ch_tipo_descarga=1\n",
            "202102\n",
            "https://www.transparencia.gob.pe/personal/pte_transparencia_personal_genera.aspx?id_entidad=77&in_anno_consulta=2021&ch_mes_consulta=02&ch_tipo_regimen=0&vc_dni_funcionario=&vc_nombre_funcionario=&ch_tipo_descarga=1\n",
            "202103\n",
            "https://www.transparencia.gob.pe/personal/pte_transparencia_personal_genera.aspx?id_entidad=77&in_anno_consulta=2021&ch_mes_consulta=03&ch_tipo_regimen=0&vc_dni_funcionario=&vc_nombre_funcionario=&ch_tipo_descarga=1\n",
            "202104\n",
            "https://www.transparencia.gob.pe/personal/pte_transparencia_personal_genera.aspx?id_entidad=77&in_anno_consulta=2021&ch_mes_consulta=04&ch_tipo_regimen=0&vc_dni_funcionario=&vc_nombre_funcionario=&ch_tipo_descarga=1\n",
            "202105\n",
            "https://www.transparencia.gob.pe/personal/pte_transparencia_personal_genera.aspx?id_entidad=77&in_anno_consulta=2021&ch_mes_consulta=05&ch_tipo_regimen=0&vc_dni_funcionario=&vc_nombre_funcionario=&ch_tipo_descarga=1\n",
            "202106\n",
            "https://www.transparencia.gob.pe/personal/pte_transparencia_personal_genera.aspx?id_entidad=77&in_anno_consulta=2021&ch_mes_consulta=06&ch_tipo_regimen=0&vc_dni_funcionario=&vc_nombre_funcionario=&ch_tipo_descarga=1\n",
            "202107\n",
            "https://www.transparencia.gob.pe/personal/pte_transparencia_personal_genera.aspx?id_entidad=77&in_anno_consulta=2021&ch_mes_consulta=07&ch_tipo_regimen=0&vc_dni_funcionario=&vc_nombre_funcionario=&ch_tipo_descarga=1\n",
            "202108\n",
            "https://www.transparencia.gob.pe/personal/pte_transparencia_personal_genera.aspx?id_entidad=77&in_anno_consulta=2021&ch_mes_consulta=08&ch_tipo_regimen=0&vc_dni_funcionario=&vc_nombre_funcionario=&ch_tipo_descarga=1\n",
            "202109\n",
            "https://www.transparencia.gob.pe/personal/pte_transparencia_personal_genera.aspx?id_entidad=77&in_anno_consulta=2021&ch_mes_consulta=09&ch_tipo_regimen=0&vc_dni_funcionario=&vc_nombre_funcionario=&ch_tipo_descarga=1\n",
            "202110\n",
            "https://www.transparencia.gob.pe/personal/pte_transparencia_personal_genera.aspx?id_entidad=77&in_anno_consulta=2021&ch_mes_consulta=10&ch_tipo_regimen=0&vc_dni_funcionario=&vc_nombre_funcionario=&ch_tipo_descarga=1\n",
            "202111\n",
            "https://www.transparencia.gob.pe/personal/pte_transparencia_personal_genera.aspx?id_entidad=77&in_anno_consulta=2021&ch_mes_consulta=11&ch_tipo_regimen=0&vc_dni_funcionario=&vc_nombre_funcionario=&ch_tipo_descarga=1\n",
            "202112\n",
            "https://www.transparencia.gob.pe/personal/pte_transparencia_personal_genera.aspx?id_entidad=77&in_anno_consulta=2021&ch_mes_consulta=12&ch_tipo_regimen=0&vc_dni_funcionario=&vc_nombre_funcionario=&ch_tipo_descarga=1\n",
            " instagram.ico\t\t\t    transparencia_CULTURA_202101.xls\n",
            " sample_data\t\t\t    transparencia_CULTURA_202102.xls\n",
            " transparencia_CULTURA_202001.xls   transparencia_CULTURA_202103.xls\n",
            " transparencia_CULTURA_202002.xls   transparencia_CULTURA_202104.xls\n",
            " transparencia_CULTURA_202003.xls   transparencia_CULTURA_202105.xls\n",
            " transparencia_CULTURA_202004.xls   transparencia_CULTURA_202106.xls\n",
            " transparencia_CULTURA_202005.xls   transparencia_CULTURA_202107.xls\n",
            " transparencia_CULTURA_202006.xls   transparencia_CULTURA_202108.xls\n",
            " transparencia_CULTURA_202007.xls   transparencia_CULTURA_202109.xls\n",
            " transparencia_CULTURA_202008.xls   transparencia_CULTURA_202110.xls\n",
            " transparencia_CULTURA_202009.xls   transparencia_CULTURA_202111.xls\n",
            " transparencia_CULTURA_202010.xls  'transparencia_CULTURA_202112 (1).xls'\n",
            " transparencia_CULTURA_202011.xls  'transparencia_CULTURA_202112 (2).xls'\n",
            " transparencia_CULTURA_202012.xls   transparencia_CULTURA_202112.xls\n",
            "CPU times: user 1.44 s, sys: 317 ms, total: 1.76 s\n",
            "Wall time: 3min 28s\n"
          ]
        }
      ]
    },
    {
      "cell_type": "code",
      "source": [
        "import pandas as pd\n",
        "import numpy as np"
      ],
      "metadata": {
        "id": "l-BkIX_AwZNA"
      },
      "execution_count": 15,
      "outputs": []
    },
    {
      "cell_type": "code",
      "source": [
        "dataframes = []\n",
        "meses=['01','02','03','04','05','06','07','08','09','10','11','12']\n",
        "anhos=['2020','2021']\n",
        "\n",
        "df_all = pd.DataFrame()\n",
        "#no_encontrados=['202201']\n",
        "\n",
        "for anho in anhos:\n",
        "  for mes in meses:\n",
        "    periodo = '{}{}'.format(anho,mes)\n",
        "    print(periodo)\n",
        "    file = 'CULTURA_{}{}.xls'.format(anho,mes)\n",
        "    print(file)\n",
        "\n",
        "    if periodo not in no_encontrados:\n",
        "      df = pd.read_html(file)[0]\n",
        "      cols = list(df.iloc[0])\n",
        "      df = df.iloc[1:]\n",
        "      df.columns = cols\n",
        "      print(cols)\n",
        "      df.head()\n",
        "      df['codmes'] = periodo\n",
        "      print(len(df), len(df_all))\n",
        "      df_all = pd.concat([df_all, df])"
      ],
      "metadata": {
        "id": "Nb7WIwipxOhF"
      },
      "execution_count": null,
      "outputs": []
    },
    {
      "cell_type": "code",
      "source": [],
      "metadata": {
        "id": "CJ5C5YyLttx7"
      },
      "execution_count": null,
      "outputs": []
    }
  ]
}